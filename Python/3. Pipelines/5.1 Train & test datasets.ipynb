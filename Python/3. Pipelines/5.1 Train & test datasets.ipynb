{
  "nbformat": 4,
  "nbformat_minor": 0,
  "metadata": {
    "colab": {
      "name": "5.1 Train & test datasets.ipynb",
      "version": "0.3.2",
      "provenance": []
    },
    "kernelspec": {
      "name": "python3",
      "display_name": "Python 3"
    }
  },
  "cells": [
    {
      "cell_type": "markdown",
      "metadata": {
        "id": "6GoVnL7QRPGk",
        "colab_type": "text"
      },
      "source": [
        "# Train & Test Datasets (this notebook is being edited)"
      ]
    },
    {
      "cell_type": "markdown",
      "metadata": {
        "id": "PCKTqMUFRPGp",
        "colab_type": "text"
      },
      "source": [
        "## Reference\n",
        "- https://scikit-learn.org/stable/modules/generated/sklearn.model_selection.train_test_split.html\n",
        "- https://scikit-learn.org/stable/datasets/index.html\n",
        "- https://machinelearningmastery.com/time-series-forecasting-supervised-learning/\n",
        "- https://machinelearningmastery.com/time-series-datasets-for-machine-learning/\n",
        "- https://plot.ly/python/time-series/\n",
        "- https://www.plotly.express/plotly_express/"
      ]
    },
    {
      "cell_type": "markdown",
      "metadata": {
        "id": "zCeZm-TwRPGq",
        "colab_type": "text"
      },
      "source": [
        "## Table of Contents\n",
        "1. Setup\n",
        "1. Introduction\n",
        "1. Sample datasets"
      ]
    },
    {
      "cell_type": "markdown",
      "metadata": {
        "id": "DTcFuxVEFTaF",
        "colab_type": "text"
      },
      "source": [
        "## Setup"
      ]
    },
    {
      "cell_type": "code",
      "metadata": {
        "id": "PvhsJ1j1D1sO",
        "colab_type": "code",
        "outputId": "9559ca81-45dd-44bf-eead-340009c76289",
        "colab": {
          "base_uri": "https://localhost:8080/",
          "height": 67
        }
      },
      "source": [
        "!pip install plotly==4.0.0"
      ],
      "execution_count": 1,
      "outputs": [
        {
          "output_type": "stream",
          "text": [
            "Requirement already satisfied: plotly==4.0.0 in /usr/local/lib/python3.6/dist-packages (4.0.0)\n",
            "Requirement already satisfied: retrying>=1.3.3 in /usr/local/lib/python3.6/dist-packages (from plotly==4.0.0) (1.3.3)\n",
            "Requirement already satisfied: six in /usr/local/lib/python3.6/dist-packages (from plotly==4.0.0) (1.12.0)\n"
          ],
          "name": "stdout"
        }
      ]
    },
    {
      "cell_type": "markdown",
      "metadata": {
        "id": "FxIsWumyRPGt",
        "colab_type": "text"
      },
      "source": [
        "Import the `pandas` and `numpy` libraries. In addition, import the `train_test_split` function which we use to create train and test datasets."
      ]
    },
    {
      "cell_type": "code",
      "metadata": {
        "id": "5iKsgHXpRPGu",
        "colab_type": "code",
        "colab": {}
      },
      "source": [
        "import pandas  as pd\n",
        "import numpy   as np\n",
        "import sklearn as sk\n",
        "\n",
        "from sklearn.model_selection import train_test_split"
      ],
      "execution_count": 0,
      "outputs": []
    },
    {
      "cell_type": "markdown",
      "metadata": {
        "id": "_53LqmHxRPGy",
        "colab_type": "text"
      },
      "source": [
        "Display the version numbers of the numpy, pandas and scikit-learn packages:"
      ]
    },
    {
      "cell_type": "code",
      "metadata": {
        "id": "ZVpiFs1MRPGz",
        "colab_type": "code",
        "outputId": "d7a19977-51ae-473b-d8ee-8089f28d1e07",
        "colab": {
          "base_uri": "https://localhost:8080/",
          "height": 67
        }
      },
      "source": [
        "print('numpy  :',np.__version__)\n",
        "print('pandas :',pd.__version__)\n",
        "print('sklearn:',sk.__version__)"
      ],
      "execution_count": 3,
      "outputs": [
        {
          "output_type": "stream",
          "text": [
            "numpy  : 1.16.4\n",
            "pandas : 0.24.2\n",
            "sklearn: 0.21.3\n"
          ],
          "name": "stdout"
        }
      ]
    },
    {
      "cell_type": "markdown",
      "metadata": {
        "id": "4UAfDppwRPG2",
        "colab_type": "text"
      },
      "source": [
        "Note that these version numbers may not be identical to the references provide above."
      ]
    },
    {
      "cell_type": "markdown",
      "metadata": {
        "id": "1GM-mxEURPGr",
        "colab_type": "text"
      },
      "source": [
        "## Introduction"
      ]
    },
    {
      "cell_type": "markdown",
      "metadata": {
        "id": "onsYW1-L2GUE",
        "colab_type": "text"
      },
      "source": [
        "There are two basic types of datasets:\n",
        "1. Cross-sectional, the rows of which __are not related__ to each other in time. ([Wikipedia](https://en.wikipedia.org/wiki/Cross-sectional_data))\n",
        "2. Time series, the rows of which __are related__ to each other in time. ([Wikipedia](https://en.wikipedia.org/wiki/Time_series))"
      ]
    },
    {
      "cell_type": "markdown",
      "metadata": {
        "id": "lE3nRVn7RPGs",
        "colab_type": "text"
      },
      "source": [
        "When creating a supervised learning model the goal is to predict well on future unseen data.\n",
        "This means that the model should be:\n",
        "- trained on one batch of data (the train dataset)\n",
        "- evaluated on another batch of data (the test dataset)\n",
        "\n",
        "Scikit-learn provides a function called `train_test_split` to separate a cross-sectional dataset into distinct train and test datasets. This function will be demonstrated below. In addition, the code for a function which splits time series datasets into train and test datasets will be defined and demonstrated. "
      ]
    },
    {
      "cell_type": "markdown",
      "metadata": {
        "id": "bhZWeWV9F4Gu",
        "colab_type": "text"
      },
      "source": [
        "## Datasets"
      ]
    },
    {
      "cell_type": "markdown",
      "metadata": {
        "id": "VCUXPmtpRPG4",
        "colab_type": "text"
      },
      "source": [
        "First, load the iris dataset for the demonstration."
      ]
    },
    {
      "cell_type": "code",
      "metadata": {
        "id": "M_jJ6wKZRPG5",
        "colab_type": "code",
        "colab": {}
      },
      "source": [
        "import pandas as pd\n",
        "from sklearn.datasets import load_iris\n",
        "iris_features = load_iris().data\n",
        "iris_target   = load_iris().target"
      ],
      "execution_count": 0,
      "outputs": []
    },
    {
      "cell_type": "markdown",
      "metadata": {
        "id": "cTs_EGHKRPG7",
        "colab_type": "text"
      },
      "source": [
        "The `train_test_split` function can split one or more datasets.\n",
        "Typically it splits two (the features and the target) as shown below.\n",
        "\n",
        "For example,"
      ]
    },
    {
      "cell_type": "code",
      "metadata": {
        "id": "1Ern7qKqRPG8",
        "colab_type": "code",
        "colab": {}
      },
      "source": [
        "x_train, x_test, y_train, y_test = train_test_split(iris_features,\n",
        "                                                    iris_target)"
      ],
      "execution_count": 0,
      "outputs": []
    },
    {
      "cell_type": "markdown",
      "metadata": {
        "id": "PrvHPkhYRPG-",
        "colab_type": "text"
      },
      "source": [
        "Notice that the two train datasets have the same number of rows."
      ]
    },
    {
      "cell_type": "code",
      "metadata": {
        "id": "x6xFu4NnRPG_",
        "colab_type": "code",
        "colab": {
          "base_uri": "https://localhost:8080/",
          "height": 34
        },
        "outputId": "7fa8dfe7-be4b-4f9c-960a-d60f7def37af"
      },
      "source": [
        "x_train.shape, y_train.shape"
      ],
      "execution_count": 24,
      "outputs": [
        {
          "output_type": "execute_result",
          "data": {
            "text/plain": [
              "((112, 4), (112,))"
            ]
          },
          "metadata": {
            "tags": []
          },
          "execution_count": 24
        }
      ]
    },
    {
      "cell_type": "markdown",
      "metadata": {
        "id": "7SacpO6vRPHB",
        "colab_type": "text"
      },
      "source": [
        "Notice that the two test have the same number of rows."
      ]
    },
    {
      "cell_type": "code",
      "metadata": {
        "id": "fs_F36FCRPHC",
        "colab_type": "code",
        "colab": {
          "base_uri": "https://localhost:8080/",
          "height": 34
        },
        "outputId": "8c180ddf-7ff4-4954-e4c3-ed79dfe2c219"
      },
      "source": [
        "x_test.shape, y_test.shape"
      ],
      "execution_count": 25,
      "outputs": [
        {
          "output_type": "execute_result",
          "data": {
            "text/plain": [
              "((38, 4), (38,))"
            ]
          },
          "metadata": {
            "tags": []
          },
          "execution_count": 25
        }
      ]
    },
    {
      "cell_type": "markdown",
      "metadata": {
        "id": "j34ufcjoRPHF",
        "colab_type": "text"
      },
      "source": [
        "Notice that the pair of \"x\" datasets have identical numbers of columns and that the \"y\" datasets have only one dimension."
      ]
    }
  ]
}