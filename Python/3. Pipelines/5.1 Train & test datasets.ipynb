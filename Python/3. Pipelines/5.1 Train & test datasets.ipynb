{
  "nbformat": 4,
  "nbformat_minor": 0,
  "metadata": {
    "colab": {
      "name": "5.1 Train & test datasets.ipynb",
      "version": "0.3.2",
      "provenance": []
    },
    "kernelspec": {
      "name": "python3",
      "display_name": "Python 3"
    }
  },
  "cells": [
    {
      "cell_type": "markdown",
      "metadata": {
        "id": "6GoVnL7QRPGk",
        "colab_type": "text"
      },
      "source": [
        "# Train & Test Datasets (this notebook is being edited)"
      ]
    },
    {
      "cell_type": "markdown",
      "metadata": {
        "id": "PCKTqMUFRPGp",
        "colab_type": "text"
      },
      "source": [
        "## Reference\n",
        "- https://scikit-learn.org/stable/modules/generated/sklearn.model_selection.train_test_split.html\n",
        "- https://scikit-learn.org/stable/datasets/index.html\n",
        "- https://machinelearningmastery.com/time-series-forecasting-supervised-learning/\n",
        "- https://machinelearningmastery.com/time-series-datasets-for-machine-learning/\n",
        "- https://plot.ly/python/time-series/\n",
        "- https://www.plotly.express/plotly_express/"
      ]
    },
    {
      "cell_type": "markdown",
      "metadata": {
        "id": "zCeZm-TwRPGq",
        "colab_type": "text"
      },
      "source": [
        "## Table of Contents\n",
        "1. Setup\n",
        "1. Introduction"
      ]
    },
    {
      "cell_type": "markdown",
      "metadata": {
        "id": "DTcFuxVEFTaF",
        "colab_type": "text"
      },
      "source": [
        "## Setup"
      ]
    },
    {
      "cell_type": "code",
      "metadata": {
        "id": "PvhsJ1j1D1sO",
        "colab_type": "code",
        "colab": {
          "base_uri": "https://localhost:8080/",
          "height": 69
        },
        "outputId": "233122c0-9960-4621-9432-669e6e8205bc"
      },
      "source": [
        "!pip install plotly==4.0.0"
      ],
      "execution_count": 4,
      "outputs": [
        {
          "output_type": "stream",
          "text": [
            "Requirement already satisfied: plotly==4.0.0 in /usr/local/lib/python3.6/dist-packages (4.0.0)\n",
            "Requirement already satisfied: retrying>=1.3.3 in /usr/local/lib/python3.6/dist-packages (from plotly==4.0.0) (1.3.3)\n",
            "Requirement already satisfied: six in /usr/local/lib/python3.6/dist-packages (from plotly==4.0.0) (1.12.0)\n"
          ],
          "name": "stdout"
        }
      ]
    },
    {
      "cell_type": "markdown",
      "metadata": {
        "id": "FxIsWumyRPGt",
        "colab_type": "text"
      },
      "source": [
        "Import the `pandas` and `numpy` libraries. In addition, import the `train_test_split` function which we use to create train and test datasets."
      ]
    },
    {
      "cell_type": "code",
      "metadata": {
        "id": "5iKsgHXpRPGu",
        "colab_type": "code",
        "colab": {}
      },
      "source": [
        "import pandas  as pd\n",
        "import numpy   as np\n",
        "import sklearn as sk\n",
        "from sklearn.model_selection import train_test_split"
      ],
      "execution_count": 0,
      "outputs": []
    },
    {
      "cell_type": "markdown",
      "metadata": {
        "id": "_53LqmHxRPGy",
        "colab_type": "text"
      },
      "source": [
        "Display the version numbers of the numpy, pandas and scikit-learn packages:"
      ]
    },
    {
      "cell_type": "code",
      "metadata": {
        "id": "ZVpiFs1MRPGz",
        "colab_type": "code",
        "colab": {
          "base_uri": "https://localhost:8080/",
          "height": 69
        },
        "outputId": "8e593bbb-e221-4462-8525-025b4c05cc7c"
      },
      "source": [
        "print('numpy  :',np.__version__)\n",
        "print('pandas :',pd.__version__)\n",
        "print('sklearn:',sk.__version__)"
      ],
      "execution_count": 14,
      "outputs": [
        {
          "output_type": "stream",
          "text": [
            "numpy  : 1.16.4\n",
            "pandas : 0.24.2\n",
            "sklearn: 0.21.2\n"
          ],
          "name": "stdout"
        }
      ]
    },
    {
      "cell_type": "markdown",
      "metadata": {
        "id": "1GM-mxEURPGr",
        "colab_type": "text"
      },
      "source": [
        "## Introduction"
      ]
    },
    {
      "cell_type": "markdown",
      "metadata": {
        "id": "onsYW1-L2GUE",
        "colab_type": "text"
      },
      "source": [
        "There are two basic types of datasets:\n",
        "1. Cross-sectional, the rows of which __are not related__ to each other in time. ([Wikipedia](https://en.wikipedia.org/wiki/Cross-sectional_data))\n",
        "2. Time series, the rows of which __are related__ to each other in time. ([Wikipedia](https://en.wikipedia.org/wiki/Time_series))"
      ]
    },
    {
      "cell_type": "markdown",
      "metadata": {
        "id": "lE3nRVn7RPGs",
        "colab_type": "text"
      },
      "source": [
        "When creating a supervised learning model the goal is prediction. The basic process is:\n",
        "1. Use a _training_ dataset to create the model\n",
        "2. Make predictions with this model\n",
        "3. \n",
        "\n",
        "In addition though, the goal is to predict well on future unseen data.\n",
        "This means that the model should be:\n",
        "- trained on one batch of data (the train dataset)\n",
        "- evaluated on another batch of data (the test dataset)\n",
        "\n",
        "Scikit-learn provides a function called `train_test_split` to separate a cross-sectional dataset into distinct train and test datasets. This function will be demonstrated below. In addition, the code for a function which splits time series datasets into train and test datasets will be defined and demonstrated. "
      ]
    },
    {
      "cell_type": "markdown",
      "metadata": {
        "id": "4UAfDppwRPG2",
        "colab_type": "text"
      },
      "source": [
        "Note that these version numbers may not be identical to the references provide above."
      ]
    },
    {
      "cell_type": "markdown",
      "metadata": {
        "id": "bhZWeWV9F4Gu",
        "colab_type": "text"
      },
      "source": [
        "## Datasets"
      ]
    },
    {
      "cell_type": "markdown",
      "metadata": {
        "id": "VCUXPmtpRPG4",
        "colab_type": "text"
      },
      "source": [
        "First, load the iris dataset for the demonstration."
      ]
    },
    {
      "cell_type": "code",
      "metadata": {
        "id": "M_jJ6wKZRPG5",
        "colab_type": "code",
        "colab": {
          "base_uri": "https://localhost:8080/",
          "height": 388
        },
        "outputId": "7fab1af5-6a04-48c1-e4cf-21ce277e6b5b"
      },
      "source": [
        "import pandas as pd\n",
        "from sklearn.datasets import load_iris\n",
        "iris_features = load_iris().data\n",
        "iris_target   = load_iris().target\n",
        "iris_feature_columns = [feature_name.replace(' ','_').replace('(','').replace(')','') \n",
        "                        for feature_name in load_iris().get('feature_names')]\n",
        "iris_features_pdf = pd.DataFrame(data=iris_features,\n",
        "                                 columns=iris_feature_columns\n",
        "                                )\n",
        "iris_target_pdf = pd.DataFrame(data={'species': iris_target}\n",
        "                              )\n",
        "iris_pdf = pd.concat([iris_features_pdf, iris_target_pdf],\n",
        "                     axis='columns',\n",
        "                     join='inner')\n",
        "print(iris_pdf.info())\n",
        "iris_pdf.head()"
      ],
      "execution_count": 52,
      "outputs": [
        {
          "output_type": "stream",
          "text": [
            "<class 'pandas.core.frame.DataFrame'>\n",
            "RangeIndex: 150 entries, 0 to 149\n",
            "Data columns (total 5 columns):\n",
            "sepal_length_cm    150 non-null float64\n",
            "sepal_width_cm     150 non-null float64\n",
            "petal_length_cm    150 non-null float64\n",
            "petal_width_cm     150 non-null float64\n",
            "species            150 non-null int64\n",
            "dtypes: float64(4), int64(1)\n",
            "memory usage: 5.9 KB\n",
            "None\n"
          ],
          "name": "stdout"
        },
        {
          "output_type": "execute_result",
          "data": {
            "text/html": [
              "<div>\n",
              "<style scoped>\n",
              "    .dataframe tbody tr th:only-of-type {\n",
              "        vertical-align: middle;\n",
              "    }\n",
              "\n",
              "    .dataframe tbody tr th {\n",
              "        vertical-align: top;\n",
              "    }\n",
              "\n",
              "    .dataframe thead th {\n",
              "        text-align: right;\n",
              "    }\n",
              "</style>\n",
              "<table border=\"1\" class=\"dataframe\">\n",
              "  <thead>\n",
              "    <tr style=\"text-align: right;\">\n",
              "      <th></th>\n",
              "      <th>sepal_length_cm</th>\n",
              "      <th>sepal_width_cm</th>\n",
              "      <th>petal_length_cm</th>\n",
              "      <th>petal_width_cm</th>\n",
              "      <th>species</th>\n",
              "    </tr>\n",
              "  </thead>\n",
              "  <tbody>\n",
              "    <tr>\n",
              "      <th>0</th>\n",
              "      <td>5.1</td>\n",
              "      <td>3.5</td>\n",
              "      <td>1.4</td>\n",
              "      <td>0.2</td>\n",
              "      <td>0</td>\n",
              "    </tr>\n",
              "    <tr>\n",
              "      <th>1</th>\n",
              "      <td>4.9</td>\n",
              "      <td>3.0</td>\n",
              "      <td>1.4</td>\n",
              "      <td>0.2</td>\n",
              "      <td>0</td>\n",
              "    </tr>\n",
              "    <tr>\n",
              "      <th>2</th>\n",
              "      <td>4.7</td>\n",
              "      <td>3.2</td>\n",
              "      <td>1.3</td>\n",
              "      <td>0.2</td>\n",
              "      <td>0</td>\n",
              "    </tr>\n",
              "    <tr>\n",
              "      <th>3</th>\n",
              "      <td>4.6</td>\n",
              "      <td>3.1</td>\n",
              "      <td>1.5</td>\n",
              "      <td>0.2</td>\n",
              "      <td>0</td>\n",
              "    </tr>\n",
              "    <tr>\n",
              "      <th>4</th>\n",
              "      <td>5.0</td>\n",
              "      <td>3.6</td>\n",
              "      <td>1.4</td>\n",
              "      <td>0.2</td>\n",
              "      <td>0</td>\n",
              "    </tr>\n",
              "  </tbody>\n",
              "</table>\n",
              "</div>"
            ],
            "text/plain": [
              "   sepal_length_cm  sepal_width_cm  petal_length_cm  petal_width_cm  species\n",
              "0              5.1             3.5              1.4             0.2        0\n",
              "1              4.9             3.0              1.4             0.2        0\n",
              "2              4.7             3.2              1.3             0.2        0\n",
              "3              4.6             3.1              1.5             0.2        0\n",
              "4              5.0             3.6              1.4             0.2        0"
            ]
          },
          "metadata": {
            "tags": []
          },
          "execution_count": 52
        }
      ]
    },
    {
      "cell_type": "code",
      "metadata": {
        "id": "hM-mFIQdQAlU",
        "colab_type": "code",
        "colab": {
          "base_uri": "https://localhost:8080/",
          "height": 1000
        },
        "outputId": "a05b9acf-1546-4557-849a-16afa5c7bbaf"
      },
      "source": [
        "def get_iris_pdf():\n",
        "  import pandas as pd\n",
        "  from sklearn.datasets import load_iris\n",
        "  iris_features = load_iris().data\n",
        "  iris_target   = load_iris().target\n",
        "  iris_feature_columns = [feature_name.replace(' ','_').replace('(','').replace(')','') \n",
        "                          for feature_name in load_iris().get('feature_names')]\n",
        "  iris_features_pdf = pd.DataFrame(data=iris_features,\n",
        "                                   columns=iris_feature_columns\n",
        "                                  )\n",
        "  iris_target_pdf = pd.DataFrame(data={'species': iris_target}\n",
        "                                ).replace(to_replace=[0,1,2], \n",
        "                                          value=load_iris().get('target_names')\n",
        "                                         )\n",
        "  iris_pdf = pd.concat([iris_features_pdf, iris_target_pdf],\n",
        "                       axis='columns',\n",
        "                       join='inner')\n",
        "  return iris_pdf\n",
        "get_iris_pdf()"
      ],
      "execution_count": 72,
      "outputs": [
        {
          "output_type": "execute_result",
          "data": {
            "text/html": [
              "<div>\n",
              "<style scoped>\n",
              "    .dataframe tbody tr th:only-of-type {\n",
              "        vertical-align: middle;\n",
              "    }\n",
              "\n",
              "    .dataframe tbody tr th {\n",
              "        vertical-align: top;\n",
              "    }\n",
              "\n",
              "    .dataframe thead th {\n",
              "        text-align: right;\n",
              "    }\n",
              "</style>\n",
              "<table border=\"1\" class=\"dataframe\">\n",
              "  <thead>\n",
              "    <tr style=\"text-align: right;\">\n",
              "      <th></th>\n",
              "      <th>sepal_length_cm</th>\n",
              "      <th>sepal_width_cm</th>\n",
              "      <th>petal_length_cm</th>\n",
              "      <th>petal_width_cm</th>\n",
              "      <th>species</th>\n",
              "    </tr>\n",
              "  </thead>\n",
              "  <tbody>\n",
              "    <tr>\n",
              "      <th>0</th>\n",
              "      <td>5.1</td>\n",
              "      <td>3.5</td>\n",
              "      <td>1.4</td>\n",
              "      <td>0.2</td>\n",
              "      <td>setosa</td>\n",
              "    </tr>\n",
              "    <tr>\n",
              "      <th>1</th>\n",
              "      <td>4.9</td>\n",
              "      <td>3.0</td>\n",
              "      <td>1.4</td>\n",
              "      <td>0.2</td>\n",
              "      <td>setosa</td>\n",
              "    </tr>\n",
              "    <tr>\n",
              "      <th>2</th>\n",
              "      <td>4.7</td>\n",
              "      <td>3.2</td>\n",
              "      <td>1.3</td>\n",
              "      <td>0.2</td>\n",
              "      <td>setosa</td>\n",
              "    </tr>\n",
              "    <tr>\n",
              "      <th>3</th>\n",
              "      <td>4.6</td>\n",
              "      <td>3.1</td>\n",
              "      <td>1.5</td>\n",
              "      <td>0.2</td>\n",
              "      <td>setosa</td>\n",
              "    </tr>\n",
              "    <tr>\n",
              "      <th>4</th>\n",
              "      <td>5.0</td>\n",
              "      <td>3.6</td>\n",
              "      <td>1.4</td>\n",
              "      <td>0.2</td>\n",
              "      <td>setosa</td>\n",
              "    </tr>\n",
              "    <tr>\n",
              "      <th>5</th>\n",
              "      <td>5.4</td>\n",
              "      <td>3.9</td>\n",
              "      <td>1.7</td>\n",
              "      <td>0.4</td>\n",
              "      <td>setosa</td>\n",
              "    </tr>\n",
              "    <tr>\n",
              "      <th>6</th>\n",
              "      <td>4.6</td>\n",
              "      <td>3.4</td>\n",
              "      <td>1.4</td>\n",
              "      <td>0.3</td>\n",
              "      <td>setosa</td>\n",
              "    </tr>\n",
              "    <tr>\n",
              "      <th>7</th>\n",
              "      <td>5.0</td>\n",
              "      <td>3.4</td>\n",
              "      <td>1.5</td>\n",
              "      <td>0.2</td>\n",
              "      <td>setosa</td>\n",
              "    </tr>\n",
              "    <tr>\n",
              "      <th>8</th>\n",
              "      <td>4.4</td>\n",
              "      <td>2.9</td>\n",
              "      <td>1.4</td>\n",
              "      <td>0.2</td>\n",
              "      <td>setosa</td>\n",
              "    </tr>\n",
              "    <tr>\n",
              "      <th>9</th>\n",
              "      <td>4.9</td>\n",
              "      <td>3.1</td>\n",
              "      <td>1.5</td>\n",
              "      <td>0.1</td>\n",
              "      <td>setosa</td>\n",
              "    </tr>\n",
              "    <tr>\n",
              "      <th>10</th>\n",
              "      <td>5.4</td>\n",
              "      <td>3.7</td>\n",
              "      <td>1.5</td>\n",
              "      <td>0.2</td>\n",
              "      <td>setosa</td>\n",
              "    </tr>\n",
              "    <tr>\n",
              "      <th>11</th>\n",
              "      <td>4.8</td>\n",
              "      <td>3.4</td>\n",
              "      <td>1.6</td>\n",
              "      <td>0.2</td>\n",
              "      <td>setosa</td>\n",
              "    </tr>\n",
              "    <tr>\n",
              "      <th>12</th>\n",
              "      <td>4.8</td>\n",
              "      <td>3.0</td>\n",
              "      <td>1.4</td>\n",
              "      <td>0.1</td>\n",
              "      <td>setosa</td>\n",
              "    </tr>\n",
              "    <tr>\n",
              "      <th>13</th>\n",
              "      <td>4.3</td>\n",
              "      <td>3.0</td>\n",
              "      <td>1.1</td>\n",
              "      <td>0.1</td>\n",
              "      <td>setosa</td>\n",
              "    </tr>\n",
              "    <tr>\n",
              "      <th>14</th>\n",
              "      <td>5.8</td>\n",
              "      <td>4.0</td>\n",
              "      <td>1.2</td>\n",
              "      <td>0.2</td>\n",
              "      <td>setosa</td>\n",
              "    </tr>\n",
              "    <tr>\n",
              "      <th>15</th>\n",
              "      <td>5.7</td>\n",
              "      <td>4.4</td>\n",
              "      <td>1.5</td>\n",
              "      <td>0.4</td>\n",
              "      <td>setosa</td>\n",
              "    </tr>\n",
              "    <tr>\n",
              "      <th>16</th>\n",
              "      <td>5.4</td>\n",
              "      <td>3.9</td>\n",
              "      <td>1.3</td>\n",
              "      <td>0.4</td>\n",
              "      <td>setosa</td>\n",
              "    </tr>\n",
              "    <tr>\n",
              "      <th>17</th>\n",
              "      <td>5.1</td>\n",
              "      <td>3.5</td>\n",
              "      <td>1.4</td>\n",
              "      <td>0.3</td>\n",
              "      <td>setosa</td>\n",
              "    </tr>\n",
              "    <tr>\n",
              "      <th>18</th>\n",
              "      <td>5.7</td>\n",
              "      <td>3.8</td>\n",
              "      <td>1.7</td>\n",
              "      <td>0.3</td>\n",
              "      <td>setosa</td>\n",
              "    </tr>\n",
              "    <tr>\n",
              "      <th>19</th>\n",
              "      <td>5.1</td>\n",
              "      <td>3.8</td>\n",
              "      <td>1.5</td>\n",
              "      <td>0.3</td>\n",
              "      <td>setosa</td>\n",
              "    </tr>\n",
              "    <tr>\n",
              "      <th>20</th>\n",
              "      <td>5.4</td>\n",
              "      <td>3.4</td>\n",
              "      <td>1.7</td>\n",
              "      <td>0.2</td>\n",
              "      <td>setosa</td>\n",
              "    </tr>\n",
              "    <tr>\n",
              "      <th>21</th>\n",
              "      <td>5.1</td>\n",
              "      <td>3.7</td>\n",
              "      <td>1.5</td>\n",
              "      <td>0.4</td>\n",
              "      <td>setosa</td>\n",
              "    </tr>\n",
              "    <tr>\n",
              "      <th>22</th>\n",
              "      <td>4.6</td>\n",
              "      <td>3.6</td>\n",
              "      <td>1.0</td>\n",
              "      <td>0.2</td>\n",
              "      <td>setosa</td>\n",
              "    </tr>\n",
              "    <tr>\n",
              "      <th>23</th>\n",
              "      <td>5.1</td>\n",
              "      <td>3.3</td>\n",
              "      <td>1.7</td>\n",
              "      <td>0.5</td>\n",
              "      <td>setosa</td>\n",
              "    </tr>\n",
              "    <tr>\n",
              "      <th>24</th>\n",
              "      <td>4.8</td>\n",
              "      <td>3.4</td>\n",
              "      <td>1.9</td>\n",
              "      <td>0.2</td>\n",
              "      <td>setosa</td>\n",
              "    </tr>\n",
              "    <tr>\n",
              "      <th>25</th>\n",
              "      <td>5.0</td>\n",
              "      <td>3.0</td>\n",
              "      <td>1.6</td>\n",
              "      <td>0.2</td>\n",
              "      <td>setosa</td>\n",
              "    </tr>\n",
              "    <tr>\n",
              "      <th>26</th>\n",
              "      <td>5.0</td>\n",
              "      <td>3.4</td>\n",
              "      <td>1.6</td>\n",
              "      <td>0.4</td>\n",
              "      <td>setosa</td>\n",
              "    </tr>\n",
              "    <tr>\n",
              "      <th>27</th>\n",
              "      <td>5.2</td>\n",
              "      <td>3.5</td>\n",
              "      <td>1.5</td>\n",
              "      <td>0.2</td>\n",
              "      <td>setosa</td>\n",
              "    </tr>\n",
              "    <tr>\n",
              "      <th>28</th>\n",
              "      <td>5.2</td>\n",
              "      <td>3.4</td>\n",
              "      <td>1.4</td>\n",
              "      <td>0.2</td>\n",
              "      <td>setosa</td>\n",
              "    </tr>\n",
              "    <tr>\n",
              "      <th>29</th>\n",
              "      <td>4.7</td>\n",
              "      <td>3.2</td>\n",
              "      <td>1.6</td>\n",
              "      <td>0.2</td>\n",
              "      <td>setosa</td>\n",
              "    </tr>\n",
              "    <tr>\n",
              "      <th>...</th>\n",
              "      <td>...</td>\n",
              "      <td>...</td>\n",
              "      <td>...</td>\n",
              "      <td>...</td>\n",
              "      <td>...</td>\n",
              "    </tr>\n",
              "    <tr>\n",
              "      <th>120</th>\n",
              "      <td>6.9</td>\n",
              "      <td>3.2</td>\n",
              "      <td>5.7</td>\n",
              "      <td>2.3</td>\n",
              "      <td>virginica</td>\n",
              "    </tr>\n",
              "    <tr>\n",
              "      <th>121</th>\n",
              "      <td>5.6</td>\n",
              "      <td>2.8</td>\n",
              "      <td>4.9</td>\n",
              "      <td>2.0</td>\n",
              "      <td>virginica</td>\n",
              "    </tr>\n",
              "    <tr>\n",
              "      <th>122</th>\n",
              "      <td>7.7</td>\n",
              "      <td>2.8</td>\n",
              "      <td>6.7</td>\n",
              "      <td>2.0</td>\n",
              "      <td>virginica</td>\n",
              "    </tr>\n",
              "    <tr>\n",
              "      <th>123</th>\n",
              "      <td>6.3</td>\n",
              "      <td>2.7</td>\n",
              "      <td>4.9</td>\n",
              "      <td>1.8</td>\n",
              "      <td>virginica</td>\n",
              "    </tr>\n",
              "    <tr>\n",
              "      <th>124</th>\n",
              "      <td>6.7</td>\n",
              "      <td>3.3</td>\n",
              "      <td>5.7</td>\n",
              "      <td>2.1</td>\n",
              "      <td>virginica</td>\n",
              "    </tr>\n",
              "    <tr>\n",
              "      <th>125</th>\n",
              "      <td>7.2</td>\n",
              "      <td>3.2</td>\n",
              "      <td>6.0</td>\n",
              "      <td>1.8</td>\n",
              "      <td>virginica</td>\n",
              "    </tr>\n",
              "    <tr>\n",
              "      <th>126</th>\n",
              "      <td>6.2</td>\n",
              "      <td>2.8</td>\n",
              "      <td>4.8</td>\n",
              "      <td>1.8</td>\n",
              "      <td>virginica</td>\n",
              "    </tr>\n",
              "    <tr>\n",
              "      <th>127</th>\n",
              "      <td>6.1</td>\n",
              "      <td>3.0</td>\n",
              "      <td>4.9</td>\n",
              "      <td>1.8</td>\n",
              "      <td>virginica</td>\n",
              "    </tr>\n",
              "    <tr>\n",
              "      <th>128</th>\n",
              "      <td>6.4</td>\n",
              "      <td>2.8</td>\n",
              "      <td>5.6</td>\n",
              "      <td>2.1</td>\n",
              "      <td>virginica</td>\n",
              "    </tr>\n",
              "    <tr>\n",
              "      <th>129</th>\n",
              "      <td>7.2</td>\n",
              "      <td>3.0</td>\n",
              "      <td>5.8</td>\n",
              "      <td>1.6</td>\n",
              "      <td>virginica</td>\n",
              "    </tr>\n",
              "    <tr>\n",
              "      <th>130</th>\n",
              "      <td>7.4</td>\n",
              "      <td>2.8</td>\n",
              "      <td>6.1</td>\n",
              "      <td>1.9</td>\n",
              "      <td>virginica</td>\n",
              "    </tr>\n",
              "    <tr>\n",
              "      <th>131</th>\n",
              "      <td>7.9</td>\n",
              "      <td>3.8</td>\n",
              "      <td>6.4</td>\n",
              "      <td>2.0</td>\n",
              "      <td>virginica</td>\n",
              "    </tr>\n",
              "    <tr>\n",
              "      <th>132</th>\n",
              "      <td>6.4</td>\n",
              "      <td>2.8</td>\n",
              "      <td>5.6</td>\n",
              "      <td>2.2</td>\n",
              "      <td>virginica</td>\n",
              "    </tr>\n",
              "    <tr>\n",
              "      <th>133</th>\n",
              "      <td>6.3</td>\n",
              "      <td>2.8</td>\n",
              "      <td>5.1</td>\n",
              "      <td>1.5</td>\n",
              "      <td>virginica</td>\n",
              "    </tr>\n",
              "    <tr>\n",
              "      <th>134</th>\n",
              "      <td>6.1</td>\n",
              "      <td>2.6</td>\n",
              "      <td>5.6</td>\n",
              "      <td>1.4</td>\n",
              "      <td>virginica</td>\n",
              "    </tr>\n",
              "    <tr>\n",
              "      <th>135</th>\n",
              "      <td>7.7</td>\n",
              "      <td>3.0</td>\n",
              "      <td>6.1</td>\n",
              "      <td>2.3</td>\n",
              "      <td>virginica</td>\n",
              "    </tr>\n",
              "    <tr>\n",
              "      <th>136</th>\n",
              "      <td>6.3</td>\n",
              "      <td>3.4</td>\n",
              "      <td>5.6</td>\n",
              "      <td>2.4</td>\n",
              "      <td>virginica</td>\n",
              "    </tr>\n",
              "    <tr>\n",
              "      <th>137</th>\n",
              "      <td>6.4</td>\n",
              "      <td>3.1</td>\n",
              "      <td>5.5</td>\n",
              "      <td>1.8</td>\n",
              "      <td>virginica</td>\n",
              "    </tr>\n",
              "    <tr>\n",
              "      <th>138</th>\n",
              "      <td>6.0</td>\n",
              "      <td>3.0</td>\n",
              "      <td>4.8</td>\n",
              "      <td>1.8</td>\n",
              "      <td>virginica</td>\n",
              "    </tr>\n",
              "    <tr>\n",
              "      <th>139</th>\n",
              "      <td>6.9</td>\n",
              "      <td>3.1</td>\n",
              "      <td>5.4</td>\n",
              "      <td>2.1</td>\n",
              "      <td>virginica</td>\n",
              "    </tr>\n",
              "    <tr>\n",
              "      <th>140</th>\n",
              "      <td>6.7</td>\n",
              "      <td>3.1</td>\n",
              "      <td>5.6</td>\n",
              "      <td>2.4</td>\n",
              "      <td>virginica</td>\n",
              "    </tr>\n",
              "    <tr>\n",
              "      <th>141</th>\n",
              "      <td>6.9</td>\n",
              "      <td>3.1</td>\n",
              "      <td>5.1</td>\n",
              "      <td>2.3</td>\n",
              "      <td>virginica</td>\n",
              "    </tr>\n",
              "    <tr>\n",
              "      <th>142</th>\n",
              "      <td>5.8</td>\n",
              "      <td>2.7</td>\n",
              "      <td>5.1</td>\n",
              "      <td>1.9</td>\n",
              "      <td>virginica</td>\n",
              "    </tr>\n",
              "    <tr>\n",
              "      <th>143</th>\n",
              "      <td>6.8</td>\n",
              "      <td>3.2</td>\n",
              "      <td>5.9</td>\n",
              "      <td>2.3</td>\n",
              "      <td>virginica</td>\n",
              "    </tr>\n",
              "    <tr>\n",
              "      <th>144</th>\n",
              "      <td>6.7</td>\n",
              "      <td>3.3</td>\n",
              "      <td>5.7</td>\n",
              "      <td>2.5</td>\n",
              "      <td>virginica</td>\n",
              "    </tr>\n",
              "    <tr>\n",
              "      <th>145</th>\n",
              "      <td>6.7</td>\n",
              "      <td>3.0</td>\n",
              "      <td>5.2</td>\n",
              "      <td>2.3</td>\n",
              "      <td>virginica</td>\n",
              "    </tr>\n",
              "    <tr>\n",
              "      <th>146</th>\n",
              "      <td>6.3</td>\n",
              "      <td>2.5</td>\n",
              "      <td>5.0</td>\n",
              "      <td>1.9</td>\n",
              "      <td>virginica</td>\n",
              "    </tr>\n",
              "    <tr>\n",
              "      <th>147</th>\n",
              "      <td>6.5</td>\n",
              "      <td>3.0</td>\n",
              "      <td>5.2</td>\n",
              "      <td>2.0</td>\n",
              "      <td>virginica</td>\n",
              "    </tr>\n",
              "    <tr>\n",
              "      <th>148</th>\n",
              "      <td>6.2</td>\n",
              "      <td>3.4</td>\n",
              "      <td>5.4</td>\n",
              "      <td>2.3</td>\n",
              "      <td>virginica</td>\n",
              "    </tr>\n",
              "    <tr>\n",
              "      <th>149</th>\n",
              "      <td>5.9</td>\n",
              "      <td>3.0</td>\n",
              "      <td>5.1</td>\n",
              "      <td>1.8</td>\n",
              "      <td>virginica</td>\n",
              "    </tr>\n",
              "  </tbody>\n",
              "</table>\n",
              "<p>150 rows × 5 columns</p>\n",
              "</div>"
            ],
            "text/plain": [
              "     sepal_length_cm  sepal_width_cm  ...  petal_width_cm    species\n",
              "0                5.1             3.5  ...             0.2     setosa\n",
              "1                4.9             3.0  ...             0.2     setosa\n",
              "2                4.7             3.2  ...             0.2     setosa\n",
              "3                4.6             3.1  ...             0.2     setosa\n",
              "4                5.0             3.6  ...             0.2     setosa\n",
              "5                5.4             3.9  ...             0.4     setosa\n",
              "6                4.6             3.4  ...             0.3     setosa\n",
              "7                5.0             3.4  ...             0.2     setosa\n",
              "8                4.4             2.9  ...             0.2     setosa\n",
              "9                4.9             3.1  ...             0.1     setosa\n",
              "10               5.4             3.7  ...             0.2     setosa\n",
              "11               4.8             3.4  ...             0.2     setosa\n",
              "12               4.8             3.0  ...             0.1     setosa\n",
              "13               4.3             3.0  ...             0.1     setosa\n",
              "14               5.8             4.0  ...             0.2     setosa\n",
              "15               5.7             4.4  ...             0.4     setosa\n",
              "16               5.4             3.9  ...             0.4     setosa\n",
              "17               5.1             3.5  ...             0.3     setosa\n",
              "18               5.7             3.8  ...             0.3     setosa\n",
              "19               5.1             3.8  ...             0.3     setosa\n",
              "20               5.4             3.4  ...             0.2     setosa\n",
              "21               5.1             3.7  ...             0.4     setosa\n",
              "22               4.6             3.6  ...             0.2     setosa\n",
              "23               5.1             3.3  ...             0.5     setosa\n",
              "24               4.8             3.4  ...             0.2     setosa\n",
              "25               5.0             3.0  ...             0.2     setosa\n",
              "26               5.0             3.4  ...             0.4     setosa\n",
              "27               5.2             3.5  ...             0.2     setosa\n",
              "28               5.2             3.4  ...             0.2     setosa\n",
              "29               4.7             3.2  ...             0.2     setosa\n",
              "..               ...             ...  ...             ...        ...\n",
              "120              6.9             3.2  ...             2.3  virginica\n",
              "121              5.6             2.8  ...             2.0  virginica\n",
              "122              7.7             2.8  ...             2.0  virginica\n",
              "123              6.3             2.7  ...             1.8  virginica\n",
              "124              6.7             3.3  ...             2.1  virginica\n",
              "125              7.2             3.2  ...             1.8  virginica\n",
              "126              6.2             2.8  ...             1.8  virginica\n",
              "127              6.1             3.0  ...             1.8  virginica\n",
              "128              6.4             2.8  ...             2.1  virginica\n",
              "129              7.2             3.0  ...             1.6  virginica\n",
              "130              7.4             2.8  ...             1.9  virginica\n",
              "131              7.9             3.8  ...             2.0  virginica\n",
              "132              6.4             2.8  ...             2.2  virginica\n",
              "133              6.3             2.8  ...             1.5  virginica\n",
              "134              6.1             2.6  ...             1.4  virginica\n",
              "135              7.7             3.0  ...             2.3  virginica\n",
              "136              6.3             3.4  ...             2.4  virginica\n",
              "137              6.4             3.1  ...             1.8  virginica\n",
              "138              6.0             3.0  ...             1.8  virginica\n",
              "139              6.9             3.1  ...             2.1  virginica\n",
              "140              6.7             3.1  ...             2.4  virginica\n",
              "141              6.9             3.1  ...             2.3  virginica\n",
              "142              5.8             2.7  ...             1.9  virginica\n",
              "143              6.8             3.2  ...             2.3  virginica\n",
              "144              6.7             3.3  ...             2.5  virginica\n",
              "145              6.7             3.0  ...             2.3  virginica\n",
              "146              6.3             2.5  ...             1.9  virginica\n",
              "147              6.5             3.0  ...             2.0  virginica\n",
              "148              6.2             3.4  ...             2.3  virginica\n",
              "149              5.9             3.0  ...             1.8  virginica\n",
              "\n",
              "[150 rows x 5 columns]"
            ]
          },
          "metadata": {
            "tags": []
          },
          "execution_count": 72
        }
      ]
    },
    {
      "cell_type": "code",
      "metadata": {
        "id": "qwNlq_oAPtcr",
        "colab_type": "code",
        "colab": {
          "base_uri": "https://localhost:8080/",
          "height": 617
        },
        "outputId": "0dd93b6f-9934-4804-fb09-c4ed1cf7d57f"
      },
      "source": [
        "def plot_iris_pdf():\n",
        "  import plotly.express as px\n",
        "  import pandas as pd\n",
        "  fig = px.scatter(get_iris_pdf(), x='sepal_length_cm', y='sepal_width_cm', color='species')\n",
        "  fig.show()\n",
        "plot_iris_pdf()"
      ],
      "execution_count": 73,
      "outputs": [
        {
          "output_type": "display_data",
          "data": {
            "text/html": [
              "<html>\n",
              "<head><meta charset=\"utf-8\" /></head>\n",
              "<body>\n",
              "    <div>\n",
              "            <script src=\"https://cdnjs.cloudflare.com/ajax/libs/mathjax/2.7.5/MathJax.js?config=TeX-AMS-MML_SVG\"></script><script type=\"text/javascript\">if (window.MathJax) {MathJax.Hub.Config({SVG: {font: \"STIX-Web\"}});}</script>\n",
              "                <script type=\"text/javascript\">window.PlotlyConfig = {MathJaxConfig: 'local'};</script>\n",
              "        <script src=\"https://cdn.plot.ly/plotly-latest.min.js\"></script>    \n",
              "            <div id=\"98b09ce4-471b-4977-aa93-b947c0db5c0e\" class=\"plotly-graph-div\" style=\"height:600px; width:100%;\"></div>\n",
              "            <script type=\"text/javascript\">\n",
              "                \n",
              "                    window.PLOTLYENV=window.PLOTLYENV || {};\n",
              "                    \n",
              "                if (document.getElementById(\"98b09ce4-471b-4977-aa93-b947c0db5c0e\")) {\n",
              "                    Plotly.newPlot(\n",
              "                        '98b09ce4-471b-4977-aa93-b947c0db5c0e',\n",
              "                        [{\"hoverlabel\": {\"namelength\": 0}, \"hovertemplate\": \"species=setosa<br>sepal_length_cm=%{x}<br>sepal_width_cm=%{y}\", \"legendgroup\": \"species=setosa\", \"marker\": {\"color\": \"#636efa\", \"symbol\": \"circle\"}, \"mode\": \"markers\", \"name\": \"species=setosa\", \"showlegend\": true, \"type\": \"scatter\", \"x\": [5.1, 4.9, 4.7, 4.6, 5.0, 5.4, 4.6, 5.0, 4.4, 4.9, 5.4, 4.8, 4.8, 4.3, 5.8, 5.7, 5.4, 5.1, 5.7, 5.1, 5.4, 5.1, 4.6, 5.1, 4.8, 5.0, 5.0, 5.2, 5.2, 4.7, 4.8, 5.4, 5.2, 5.5, 4.9, 5.0, 5.5, 4.9, 4.4, 5.1, 5.0, 4.5, 4.4, 5.0, 5.1, 4.8, 5.1, 4.6, 5.3, 5.0], \"xaxis\": \"x\", \"y\": [3.5, 3.0, 3.2, 3.1, 3.6, 3.9, 3.4, 3.4, 2.9, 3.1, 3.7, 3.4, 3.0, 3.0, 4.0, 4.4, 3.9, 3.5, 3.8, 3.8, 3.4, 3.7, 3.6, 3.3, 3.4, 3.0, 3.4, 3.5, 3.4, 3.2, 3.1, 3.4, 4.1, 4.2, 3.1, 3.2, 3.5, 3.6, 3.0, 3.4, 3.5, 2.3, 3.2, 3.5, 3.8, 3.0, 3.8, 3.2, 3.7, 3.3], \"yaxis\": \"y\"}, {\"hoverlabel\": {\"namelength\": 0}, \"hovertemplate\": \"species=versicolor<br>sepal_length_cm=%{x}<br>sepal_width_cm=%{y}\", \"legendgroup\": \"species=versicolor\", \"marker\": {\"color\": \"#EF553B\", \"symbol\": \"circle\"}, \"mode\": \"markers\", \"name\": \"species=versicolor\", \"showlegend\": true, \"type\": \"scatter\", \"x\": [7.0, 6.4, 6.9, 5.5, 6.5, 5.7, 6.3, 4.9, 6.6, 5.2, 5.0, 5.9, 6.0, 6.1, 5.6, 6.7, 5.6, 5.8, 6.2, 5.6, 5.9, 6.1, 6.3, 6.1, 6.4, 6.6, 6.8, 6.7, 6.0, 5.7, 5.5, 5.5, 5.8, 6.0, 5.4, 6.0, 6.7, 6.3, 5.6, 5.5, 5.5, 6.1, 5.8, 5.0, 5.6, 5.7, 5.7, 6.2, 5.1, 5.7], \"xaxis\": \"x\", \"y\": [3.2, 3.2, 3.1, 2.3, 2.8, 2.8, 3.3, 2.4, 2.9, 2.7, 2.0, 3.0, 2.2, 2.9, 2.9, 3.1, 3.0, 2.7, 2.2, 2.5, 3.2, 2.8, 2.5, 2.8, 2.9, 3.0, 2.8, 3.0, 2.9, 2.6, 2.4, 2.4, 2.7, 2.7, 3.0, 3.4, 3.1, 2.3, 3.0, 2.5, 2.6, 3.0, 2.6, 2.3, 2.7, 3.0, 2.9, 2.9, 2.5, 2.8], \"yaxis\": \"y\"}, {\"hoverlabel\": {\"namelength\": 0}, \"hovertemplate\": \"species=virginica<br>sepal_length_cm=%{x}<br>sepal_width_cm=%{y}\", \"legendgroup\": \"species=virginica\", \"marker\": {\"color\": \"#00cc96\", \"symbol\": \"circle\"}, \"mode\": \"markers\", \"name\": \"species=virginica\", \"showlegend\": true, \"type\": \"scatter\", \"x\": [6.3, 5.8, 7.1, 6.3, 6.5, 7.6, 4.9, 7.3, 6.7, 7.2, 6.5, 6.4, 6.8, 5.7, 5.8, 6.4, 6.5, 7.7, 7.7, 6.0, 6.9, 5.6, 7.7, 6.3, 6.7, 7.2, 6.2, 6.1, 6.4, 7.2, 7.4, 7.9, 6.4, 6.3, 6.1, 7.7, 6.3, 6.4, 6.0, 6.9, 6.7, 6.9, 5.8, 6.8, 6.7, 6.7, 6.3, 6.5, 6.2, 5.9], \"xaxis\": \"x\", \"y\": [3.3, 2.7, 3.0, 2.9, 3.0, 3.0, 2.5, 2.9, 2.5, 3.6, 3.2, 2.7, 3.0, 2.5, 2.8, 3.2, 3.0, 3.8, 2.6, 2.2, 3.2, 2.8, 2.8, 2.7, 3.3, 3.2, 2.8, 3.0, 2.8, 3.0, 2.8, 3.8, 2.8, 2.8, 2.6, 3.0, 3.4, 3.1, 3.0, 3.1, 3.1, 3.1, 2.7, 3.2, 3.3, 3.0, 2.5, 3.0, 3.4, 3.0], \"yaxis\": \"y\"}],\n",
              "                        {\"height\": 600, \"legend\": {\"tracegroupgap\": 0}, \"margin\": {\"t\": 60}, \"template\": {\"data\": {\"bar\": [{\"error_x\": {\"color\": \"#2a3f5f\"}, \"error_y\": {\"color\": \"#2a3f5f\"}, \"marker\": {\"line\": {\"color\": \"#E5ECF6\", \"width\": 0.5}}, \"type\": \"bar\"}], \"barpolar\": [{\"marker\": {\"line\": {\"color\": \"#E5ECF6\", \"width\": 0.5}}, \"type\": \"barpolar\"}], \"carpet\": [{\"aaxis\": {\"endlinecolor\": \"#2a3f5f\", \"gridcolor\": \"white\", \"linecolor\": \"white\", \"minorgridcolor\": \"white\", \"startlinecolor\": \"#2a3f5f\"}, \"baxis\": {\"endlinecolor\": \"#2a3f5f\", \"gridcolor\": \"white\", \"linecolor\": \"white\", \"minorgridcolor\": \"white\", \"startlinecolor\": \"#2a3f5f\"}, \"type\": \"carpet\"}], \"choropleth\": [{\"colorbar\": {\"outlinewidth\": 0, \"ticks\": \"\"}, \"type\": \"choropleth\"}], \"contour\": [{\"colorbar\": {\"outlinewidth\": 0, \"ticks\": \"\"}, \"colorscale\": [[0.0, \"#0d0887\"], [0.1111111111111111, \"#46039f\"], [0.2222222222222222, \"#7201a8\"], [0.3333333333333333, \"#9c179e\"], [0.4444444444444444, \"#bd3786\"], [0.5555555555555556, \"#d8576b\"], [0.6666666666666666, \"#ed7953\"], [0.7777777777777778, \"#fb9f3a\"], [0.8888888888888888, \"#fdca26\"], [1.0, \"#f0f921\"]], \"type\": \"contour\"}], \"contourcarpet\": [{\"colorbar\": {\"outlinewidth\": 0, \"ticks\": \"\"}, \"type\": \"contourcarpet\"}], \"heatmap\": [{\"colorbar\": {\"outlinewidth\": 0, \"ticks\": \"\"}, \"colorscale\": [[0.0, \"#0d0887\"], [0.1111111111111111, \"#46039f\"], [0.2222222222222222, \"#7201a8\"], [0.3333333333333333, \"#9c179e\"], [0.4444444444444444, \"#bd3786\"], [0.5555555555555556, \"#d8576b\"], [0.6666666666666666, \"#ed7953\"], [0.7777777777777778, \"#fb9f3a\"], [0.8888888888888888, \"#fdca26\"], [1.0, \"#f0f921\"]], \"type\": \"heatmap\"}], \"heatmapgl\": [{\"colorbar\": {\"outlinewidth\": 0, \"ticks\": \"\"}, \"colorscale\": [[0.0, \"#0d0887\"], [0.1111111111111111, \"#46039f\"], [0.2222222222222222, \"#7201a8\"], [0.3333333333333333, \"#9c179e\"], [0.4444444444444444, \"#bd3786\"], [0.5555555555555556, \"#d8576b\"], [0.6666666666666666, \"#ed7953\"], [0.7777777777777778, \"#fb9f3a\"], [0.8888888888888888, \"#fdca26\"], [1.0, \"#f0f921\"]], \"type\": \"heatmapgl\"}], \"histogram\": [{\"marker\": {\"colorbar\": {\"outlinewidth\": 0, \"ticks\": \"\"}}, \"type\": \"histogram\"}], \"histogram2d\": [{\"colorbar\": {\"outlinewidth\": 0, \"ticks\": \"\"}, \"colorscale\": [[0.0, \"#0d0887\"], [0.1111111111111111, \"#46039f\"], [0.2222222222222222, \"#7201a8\"], [0.3333333333333333, \"#9c179e\"], [0.4444444444444444, \"#bd3786\"], [0.5555555555555556, \"#d8576b\"], [0.6666666666666666, \"#ed7953\"], [0.7777777777777778, \"#fb9f3a\"], [0.8888888888888888, \"#fdca26\"], [1.0, \"#f0f921\"]], \"type\": \"histogram2d\"}], \"histogram2dcontour\": [{\"colorbar\": {\"outlinewidth\": 0, \"ticks\": \"\"}, \"colorscale\": [[0.0, \"#0d0887\"], [0.1111111111111111, \"#46039f\"], [0.2222222222222222, \"#7201a8\"], [0.3333333333333333, \"#9c179e\"], [0.4444444444444444, \"#bd3786\"], [0.5555555555555556, \"#d8576b\"], [0.6666666666666666, \"#ed7953\"], [0.7777777777777778, \"#fb9f3a\"], [0.8888888888888888, \"#fdca26\"], [1.0, \"#f0f921\"]], \"type\": \"histogram2dcontour\"}], \"mesh3d\": [{\"colorbar\": {\"outlinewidth\": 0, \"ticks\": \"\"}, \"type\": \"mesh3d\"}], \"parcoords\": [{\"line\": {\"colorbar\": {\"outlinewidth\": 0, \"ticks\": \"\"}}, \"type\": \"parcoords\"}], \"scatter\": [{\"marker\": {\"colorbar\": {\"outlinewidth\": 0, \"ticks\": \"\"}}, \"type\": \"scatter\"}], \"scatter3d\": [{\"line\": {\"colorbar\": {\"outlinewidth\": 0, \"ticks\": \"\"}}, \"marker\": {\"colorbar\": {\"outlinewidth\": 0, \"ticks\": \"\"}}, \"type\": \"scatter3d\"}], \"scattercarpet\": [{\"marker\": {\"colorbar\": {\"outlinewidth\": 0, \"ticks\": \"\"}}, \"type\": \"scattercarpet\"}], \"scattergeo\": [{\"marker\": {\"colorbar\": {\"outlinewidth\": 0, \"ticks\": \"\"}}, \"type\": \"scattergeo\"}], \"scattergl\": [{\"marker\": {\"colorbar\": {\"outlinewidth\": 0, \"ticks\": \"\"}}, \"type\": \"scattergl\"}], \"scattermapbox\": [{\"marker\": {\"colorbar\": {\"outlinewidth\": 0, \"ticks\": \"\"}}, \"type\": \"scattermapbox\"}], \"scatterpolar\": [{\"marker\": {\"colorbar\": {\"outlinewidth\": 0, \"ticks\": \"\"}}, \"type\": \"scatterpolar\"}], \"scatterpolargl\": [{\"marker\": {\"colorbar\": {\"outlinewidth\": 0, \"ticks\": \"\"}}, \"type\": \"scatterpolargl\"}], \"scatterternary\": [{\"marker\": {\"colorbar\": {\"outlinewidth\": 0, \"ticks\": \"\"}}, \"type\": \"scatterternary\"}], \"surface\": [{\"colorbar\": {\"outlinewidth\": 0, \"ticks\": \"\"}, \"colorscale\": [[0.0, \"#0d0887\"], [0.1111111111111111, \"#46039f\"], [0.2222222222222222, \"#7201a8\"], [0.3333333333333333, \"#9c179e\"], [0.4444444444444444, \"#bd3786\"], [0.5555555555555556, \"#d8576b\"], [0.6666666666666666, \"#ed7953\"], [0.7777777777777778, \"#fb9f3a\"], [0.8888888888888888, \"#fdca26\"], [1.0, \"#f0f921\"]], \"type\": \"surface\"}], \"table\": [{\"cells\": {\"fill\": {\"color\": \"#EBF0F8\"}, \"line\": {\"color\": \"white\"}}, \"header\": {\"fill\": {\"color\": \"#C8D4E3\"}, \"line\": {\"color\": \"white\"}}, \"type\": \"table\"}]}, \"layout\": {\"annotationdefaults\": {\"arrowcolor\": \"#2a3f5f\", \"arrowhead\": 0, \"arrowwidth\": 1}, \"colorscale\": {\"diverging\": [[0, \"#8e0152\"], [0.1, \"#c51b7d\"], [0.2, \"#de77ae\"], [0.3, \"#f1b6da\"], [0.4, \"#fde0ef\"], [0.5, \"#f7f7f7\"], [0.6, \"#e6f5d0\"], [0.7, \"#b8e186\"], [0.8, \"#7fbc41\"], [0.9, \"#4d9221\"], [1, \"#276419\"]], \"sequential\": [[0.0, \"#0d0887\"], [0.1111111111111111, \"#46039f\"], [0.2222222222222222, \"#7201a8\"], [0.3333333333333333, \"#9c179e\"], [0.4444444444444444, \"#bd3786\"], [0.5555555555555556, \"#d8576b\"], [0.6666666666666666, \"#ed7953\"], [0.7777777777777778, \"#fb9f3a\"], [0.8888888888888888, \"#fdca26\"], [1.0, \"#f0f921\"]], \"sequentialminus\": [[0.0, \"#0d0887\"], [0.1111111111111111, \"#46039f\"], [0.2222222222222222, \"#7201a8\"], [0.3333333333333333, \"#9c179e\"], [0.4444444444444444, \"#bd3786\"], [0.5555555555555556, \"#d8576b\"], [0.6666666666666666, \"#ed7953\"], [0.7777777777777778, \"#fb9f3a\"], [0.8888888888888888, \"#fdca26\"], [1.0, \"#f0f921\"]]}, \"colorway\": [\"#636efa\", \"#EF553B\", \"#00cc96\", \"#ab63fa\", \"#FFA15A\", \"#19d3f3\", \"#FF6692\", \"#B6E880\", \"#FF97FF\", \"#FECB52\"], \"font\": {\"color\": \"#2a3f5f\"}, \"geo\": {\"bgcolor\": \"white\", \"lakecolor\": \"white\", \"landcolor\": \"#E5ECF6\", \"showlakes\": true, \"showland\": true, \"subunitcolor\": \"white\"}, \"hoverlabel\": {\"align\": \"left\"}, \"hovermode\": \"closest\", \"mapbox\": {\"style\": \"light\"}, \"paper_bgcolor\": \"white\", \"plot_bgcolor\": \"#E5ECF6\", \"polar\": {\"angularaxis\": {\"gridcolor\": \"white\", \"linecolor\": \"white\", \"ticks\": \"\"}, \"bgcolor\": \"#E5ECF6\", \"radialaxis\": {\"gridcolor\": \"white\", \"linecolor\": \"white\", \"ticks\": \"\"}}, \"scene\": {\"xaxis\": {\"backgroundcolor\": \"#E5ECF6\", \"gridcolor\": \"white\", \"gridwidth\": 2, \"linecolor\": \"white\", \"showbackground\": true, \"ticks\": \"\", \"zerolinecolor\": \"white\"}, \"yaxis\": {\"backgroundcolor\": \"#E5ECF6\", \"gridcolor\": \"white\", \"gridwidth\": 2, \"linecolor\": \"white\", \"showbackground\": true, \"ticks\": \"\", \"zerolinecolor\": \"white\"}, \"zaxis\": {\"backgroundcolor\": \"#E5ECF6\", \"gridcolor\": \"white\", \"gridwidth\": 2, \"linecolor\": \"white\", \"showbackground\": true, \"ticks\": \"\", \"zerolinecolor\": \"white\"}}, \"shapedefaults\": {\"line\": {\"color\": \"#2a3f5f\"}}, \"ternary\": {\"aaxis\": {\"gridcolor\": \"white\", \"linecolor\": \"white\", \"ticks\": \"\"}, \"baxis\": {\"gridcolor\": \"white\", \"linecolor\": \"white\", \"ticks\": \"\"}, \"bgcolor\": \"#E5ECF6\", \"caxis\": {\"gridcolor\": \"white\", \"linecolor\": \"white\", \"ticks\": \"\"}}, \"title\": {\"x\": 0.05}, \"xaxis\": {\"automargin\": true, \"gridcolor\": \"white\", \"linecolor\": \"white\", \"ticks\": \"\", \"zerolinecolor\": \"white\", \"zerolinewidth\": 2}, \"yaxis\": {\"automargin\": true, \"gridcolor\": \"white\", \"linecolor\": \"white\", \"ticks\": \"\", \"zerolinecolor\": \"white\", \"zerolinewidth\": 2}}}, \"xaxis\": {\"anchor\": \"y\", \"domain\": [0.0, 0.98], \"title\": {\"text\": \"sepal_length_cm\"}}, \"yaxis\": {\"anchor\": \"x\", \"domain\": [0.0, 1.0], \"title\": {\"text\": \"sepal_width_cm\"}}},\n",
              "                        {\"responsive\": true}\n",
              "                    ).then(function(){\n",
              "                            \n",
              "var gd = document.getElementById('98b09ce4-471b-4977-aa93-b947c0db5c0e');\n",
              "var x = new MutationObserver(function (mutations, observer) {{\n",
              "        var display = window.getComputedStyle(gd).display;\n",
              "        if (!display || display === 'none') {{\n",
              "            console.log([gd, 'removed!']);\n",
              "            Plotly.purge(gd);\n",
              "            observer.disconnect();\n",
              "        }}\n",
              "}});\n",
              "\n",
              "// Listen for the removal of the full notebook cells\n",
              "var notebookContainer = gd.closest('#notebook-container');\n",
              "if (notebookContainer) {{\n",
              "    x.observe(notebookContainer, {childList: true});\n",
              "}}\n",
              "\n",
              "// Listen for the clearing of the current output cell\n",
              "var outputEl = gd.closest('.output');\n",
              "if (outputEl) {{\n",
              "    x.observe(outputEl, {childList: true});\n",
              "}}\n",
              "\n",
              "                        })\n",
              "                };\n",
              "                \n",
              "            </script>\n",
              "        </div>\n",
              "</body>\n",
              "</html>"
            ]
          },
          "metadata": {
            "tags": []
          }
        }
      ]
    },
    {
      "cell_type": "markdown",
      "metadata": {
        "id": "ETDzlw6QTQaP",
        "colab_type": "text"
      },
      "source": [
        "### Boston housing dataset"
      ]
    },
    {
      "cell_type": "markdown",
      "metadata": {
        "id": "tqCOQP9pB8wI",
        "colab_type": "text"
      },
      "source": [
        "### Shampoo dataset"
      ]
    },
    {
      "cell_type": "code",
      "metadata": {
        "id": "YXrun8xh_qAN",
        "colab_type": "code",
        "colab": {
          "base_uri": "https://localhost:8080/",
          "height": 336
        },
        "outputId": "14dc4ff3-e6bb-4791-ff66-3ebdb9a2604c"
      },
      "source": [
        "def get_shampoo_pdf():\n",
        "  import pandas as pd\n",
        "  shampoo_url='https://raw.githubusercontent.com/jbrownlee/Datasets/master/shampoo.csv'\n",
        "  return pd.read_csv(shampoo_url)\n",
        "\n",
        "print(get_shampoo_pdf().info())\n",
        "get_shampoo_pdf().head()"
      ],
      "execution_count": 54,
      "outputs": [
        {
          "output_type": "stream",
          "text": [
            "<class 'pandas.core.frame.DataFrame'>\n",
            "RangeIndex: 36 entries, 0 to 35\n",
            "Data columns (total 2 columns):\n",
            "Month    36 non-null object\n",
            "Sales    36 non-null float64\n",
            "dtypes: float64(1), object(1)\n",
            "memory usage: 656.0+ bytes\n",
            "None\n"
          ],
          "name": "stdout"
        },
        {
          "output_type": "execute_result",
          "data": {
            "text/html": [
              "<div>\n",
              "<style scoped>\n",
              "    .dataframe tbody tr th:only-of-type {\n",
              "        vertical-align: middle;\n",
              "    }\n",
              "\n",
              "    .dataframe tbody tr th {\n",
              "        vertical-align: top;\n",
              "    }\n",
              "\n",
              "    .dataframe thead th {\n",
              "        text-align: right;\n",
              "    }\n",
              "</style>\n",
              "<table border=\"1\" class=\"dataframe\">\n",
              "  <thead>\n",
              "    <tr style=\"text-align: right;\">\n",
              "      <th></th>\n",
              "      <th>Month</th>\n",
              "      <th>Sales</th>\n",
              "    </tr>\n",
              "  </thead>\n",
              "  <tbody>\n",
              "    <tr>\n",
              "      <th>0</th>\n",
              "      <td>1-01</td>\n",
              "      <td>266.0</td>\n",
              "    </tr>\n",
              "    <tr>\n",
              "      <th>1</th>\n",
              "      <td>1-02</td>\n",
              "      <td>145.9</td>\n",
              "    </tr>\n",
              "    <tr>\n",
              "      <th>2</th>\n",
              "      <td>1-03</td>\n",
              "      <td>183.1</td>\n",
              "    </tr>\n",
              "    <tr>\n",
              "      <th>3</th>\n",
              "      <td>1-04</td>\n",
              "      <td>119.3</td>\n",
              "    </tr>\n",
              "    <tr>\n",
              "      <th>4</th>\n",
              "      <td>1-05</td>\n",
              "      <td>180.3</td>\n",
              "    </tr>\n",
              "  </tbody>\n",
              "</table>\n",
              "</div>"
            ],
            "text/plain": [
              "  Month  Sales\n",
              "0  1-01  266.0\n",
              "1  1-02  145.9\n",
              "2  1-03  183.1\n",
              "3  1-04  119.3\n",
              "4  1-05  180.3"
            ]
          },
          "metadata": {
            "tags": []
          },
          "execution_count": 54
        }
      ]
    },
    {
      "cell_type": "code",
      "metadata": {
        "id": "4LqQ7VtvKSsJ",
        "colab_type": "code",
        "colab": {
          "base_uri": "https://localhost:8080/",
          "height": 617
        },
        "outputId": "5ad3f6f2-ec18-4886-ab26-99ddf1c32468"
      },
      "source": [
        "def plot_shampoo_pdf():\n",
        "  import plotly.express as px\n",
        "  import pandas as pd\n",
        "  fig = px.line(get_shampoo_pdf(), x='Month', y='Sales')\n",
        "  fig.show()\n",
        "  \n",
        "plot_shampoo_pdf()"
      ],
      "execution_count": 55,
      "outputs": [
        {
          "output_type": "display_data",
          "data": {
            "text/html": [
              "<html>\n",
              "<head><meta charset=\"utf-8\" /></head>\n",
              "<body>\n",
              "    <div>\n",
              "            <script src=\"https://cdnjs.cloudflare.com/ajax/libs/mathjax/2.7.5/MathJax.js?config=TeX-AMS-MML_SVG\"></script><script type=\"text/javascript\">if (window.MathJax) {MathJax.Hub.Config({SVG: {font: \"STIX-Web\"}});}</script>\n",
              "                <script type=\"text/javascript\">window.PlotlyConfig = {MathJaxConfig: 'local'};</script>\n",
              "        <script src=\"https://cdn.plot.ly/plotly-latest.min.js\"></script>    \n",
              "            <div id=\"84a2ae49-3e54-43f1-bbd8-e4a3e5cc868c\" class=\"plotly-graph-div\" style=\"height:600px; width:100%;\"></div>\n",
              "            <script type=\"text/javascript\">\n",
              "                \n",
              "                    window.PLOTLYENV=window.PLOTLYENV || {};\n",
              "                    \n",
              "                if (document.getElementById(\"84a2ae49-3e54-43f1-bbd8-e4a3e5cc868c\")) {\n",
              "                    Plotly.newPlot(\n",
              "                        '84a2ae49-3e54-43f1-bbd8-e4a3e5cc868c',\n",
              "                        [{\"hoverlabel\": {\"namelength\": 0}, \"hovertemplate\": \"Month=%{x}<br>Sales=%{y}\", \"legendgroup\": \"\", \"line\": {\"color\": \"#636efa\", \"dash\": \"solid\"}, \"mode\": \"lines\", \"name\": \"\", \"showlegend\": false, \"type\": \"scatter\", \"x\": [\"1-01\", \"1-02\", \"1-03\", \"1-04\", \"1-05\", \"1-06\", \"1-07\", \"1-08\", \"1-09\", \"1-10\", \"1-11\", \"1-12\", \"2-01\", \"2-02\", \"2-03\", \"2-04\", \"2-05\", \"2-06\", \"2-07\", \"2-08\", \"2-09\", \"2-10\", \"2-11\", \"2-12\", \"3-01\", \"3-02\", \"3-03\", \"3-04\", \"3-05\", \"3-06\", \"3-07\", \"3-08\", \"3-09\", \"3-10\", \"3-11\", \"3-12\"], \"xaxis\": \"x\", \"y\": [266.0, 145.9, 183.1, 119.3, 180.3, 168.5, 231.8, 224.5, 192.8, 122.9, 336.5, 185.9, 194.3, 149.5, 210.1, 273.3, 191.4, 287.0, 226.0, 303.6, 289.9, 421.6, 264.5, 342.3, 339.7, 440.4, 315.9, 439.3, 401.3, 437.4, 575.5, 407.6, 682.0, 475.3, 581.3, 646.9], \"yaxis\": \"y\"}],\n",
              "                        {\"height\": 600, \"legend\": {\"tracegroupgap\": 0}, \"margin\": {\"t\": 60}, \"template\": {\"data\": {\"bar\": [{\"error_x\": {\"color\": \"#2a3f5f\"}, \"error_y\": {\"color\": \"#2a3f5f\"}, \"marker\": {\"line\": {\"color\": \"#E5ECF6\", \"width\": 0.5}}, \"type\": \"bar\"}], \"barpolar\": [{\"marker\": {\"line\": {\"color\": \"#E5ECF6\", \"width\": 0.5}}, \"type\": \"barpolar\"}], \"carpet\": [{\"aaxis\": {\"endlinecolor\": \"#2a3f5f\", \"gridcolor\": \"white\", \"linecolor\": \"white\", \"minorgridcolor\": \"white\", \"startlinecolor\": \"#2a3f5f\"}, \"baxis\": {\"endlinecolor\": \"#2a3f5f\", \"gridcolor\": \"white\", \"linecolor\": \"white\", \"minorgridcolor\": \"white\", \"startlinecolor\": \"#2a3f5f\"}, \"type\": \"carpet\"}], \"choropleth\": [{\"colorbar\": {\"outlinewidth\": 0, \"ticks\": \"\"}, \"type\": \"choropleth\"}], \"contour\": [{\"colorbar\": {\"outlinewidth\": 0, \"ticks\": \"\"}, \"colorscale\": [[0.0, \"#0d0887\"], [0.1111111111111111, \"#46039f\"], [0.2222222222222222, \"#7201a8\"], [0.3333333333333333, \"#9c179e\"], [0.4444444444444444, \"#bd3786\"], [0.5555555555555556, \"#d8576b\"], [0.6666666666666666, \"#ed7953\"], [0.7777777777777778, \"#fb9f3a\"], [0.8888888888888888, \"#fdca26\"], [1.0, \"#f0f921\"]], \"type\": \"contour\"}], \"contourcarpet\": [{\"colorbar\": {\"outlinewidth\": 0, \"ticks\": \"\"}, \"type\": \"contourcarpet\"}], \"heatmap\": [{\"colorbar\": {\"outlinewidth\": 0, \"ticks\": \"\"}, \"colorscale\": [[0.0, \"#0d0887\"], [0.1111111111111111, \"#46039f\"], [0.2222222222222222, \"#7201a8\"], [0.3333333333333333, \"#9c179e\"], [0.4444444444444444, \"#bd3786\"], [0.5555555555555556, \"#d8576b\"], [0.6666666666666666, \"#ed7953\"], [0.7777777777777778, \"#fb9f3a\"], [0.8888888888888888, \"#fdca26\"], [1.0, \"#f0f921\"]], \"type\": \"heatmap\"}], \"heatmapgl\": [{\"colorbar\": {\"outlinewidth\": 0, \"ticks\": \"\"}, \"colorscale\": [[0.0, \"#0d0887\"], [0.1111111111111111, \"#46039f\"], [0.2222222222222222, \"#7201a8\"], [0.3333333333333333, \"#9c179e\"], [0.4444444444444444, \"#bd3786\"], [0.5555555555555556, \"#d8576b\"], [0.6666666666666666, \"#ed7953\"], [0.7777777777777778, \"#fb9f3a\"], [0.8888888888888888, \"#fdca26\"], [1.0, \"#f0f921\"]], \"type\": \"heatmapgl\"}], \"histogram\": [{\"marker\": {\"colorbar\": {\"outlinewidth\": 0, \"ticks\": \"\"}}, \"type\": \"histogram\"}], \"histogram2d\": [{\"colorbar\": {\"outlinewidth\": 0, \"ticks\": \"\"}, \"colorscale\": [[0.0, \"#0d0887\"], [0.1111111111111111, \"#46039f\"], [0.2222222222222222, \"#7201a8\"], [0.3333333333333333, \"#9c179e\"], [0.4444444444444444, \"#bd3786\"], [0.5555555555555556, \"#d8576b\"], [0.6666666666666666, \"#ed7953\"], [0.7777777777777778, \"#fb9f3a\"], [0.8888888888888888, \"#fdca26\"], [1.0, \"#f0f921\"]], \"type\": \"histogram2d\"}], \"histogram2dcontour\": [{\"colorbar\": {\"outlinewidth\": 0, \"ticks\": \"\"}, \"colorscale\": [[0.0, \"#0d0887\"], [0.1111111111111111, \"#46039f\"], [0.2222222222222222, \"#7201a8\"], [0.3333333333333333, \"#9c179e\"], [0.4444444444444444, \"#bd3786\"], [0.5555555555555556, \"#d8576b\"], [0.6666666666666666, \"#ed7953\"], [0.7777777777777778, \"#fb9f3a\"], [0.8888888888888888, \"#fdca26\"], [1.0, \"#f0f921\"]], \"type\": \"histogram2dcontour\"}], \"mesh3d\": [{\"colorbar\": {\"outlinewidth\": 0, \"ticks\": \"\"}, \"type\": \"mesh3d\"}], \"parcoords\": [{\"line\": {\"colorbar\": {\"outlinewidth\": 0, \"ticks\": \"\"}}, \"type\": \"parcoords\"}], \"scatter\": [{\"marker\": {\"colorbar\": {\"outlinewidth\": 0, \"ticks\": \"\"}}, \"type\": \"scatter\"}], \"scatter3d\": [{\"line\": {\"colorbar\": {\"outlinewidth\": 0, \"ticks\": \"\"}}, \"marker\": {\"colorbar\": {\"outlinewidth\": 0, \"ticks\": \"\"}}, \"type\": \"scatter3d\"}], \"scattercarpet\": [{\"marker\": {\"colorbar\": {\"outlinewidth\": 0, \"ticks\": \"\"}}, \"type\": \"scattercarpet\"}], \"scattergeo\": [{\"marker\": {\"colorbar\": {\"outlinewidth\": 0, \"ticks\": \"\"}}, \"type\": \"scattergeo\"}], \"scattergl\": [{\"marker\": {\"colorbar\": {\"outlinewidth\": 0, \"ticks\": \"\"}}, \"type\": \"scattergl\"}], \"scattermapbox\": [{\"marker\": {\"colorbar\": {\"outlinewidth\": 0, \"ticks\": \"\"}}, \"type\": \"scattermapbox\"}], \"scatterpolar\": [{\"marker\": {\"colorbar\": {\"outlinewidth\": 0, \"ticks\": \"\"}}, \"type\": \"scatterpolar\"}], \"scatterpolargl\": [{\"marker\": {\"colorbar\": {\"outlinewidth\": 0, \"ticks\": \"\"}}, \"type\": \"scatterpolargl\"}], \"scatterternary\": [{\"marker\": {\"colorbar\": {\"outlinewidth\": 0, \"ticks\": \"\"}}, \"type\": \"scatterternary\"}], \"surface\": [{\"colorbar\": {\"outlinewidth\": 0, \"ticks\": \"\"}, \"colorscale\": [[0.0, \"#0d0887\"], [0.1111111111111111, \"#46039f\"], [0.2222222222222222, \"#7201a8\"], [0.3333333333333333, \"#9c179e\"], [0.4444444444444444, \"#bd3786\"], [0.5555555555555556, \"#d8576b\"], [0.6666666666666666, \"#ed7953\"], [0.7777777777777778, \"#fb9f3a\"], [0.8888888888888888, \"#fdca26\"], [1.0, \"#f0f921\"]], \"type\": \"surface\"}], \"table\": [{\"cells\": {\"fill\": {\"color\": \"#EBF0F8\"}, \"line\": {\"color\": \"white\"}}, \"header\": {\"fill\": {\"color\": \"#C8D4E3\"}, \"line\": {\"color\": \"white\"}}, \"type\": \"table\"}]}, \"layout\": {\"annotationdefaults\": {\"arrowcolor\": \"#2a3f5f\", \"arrowhead\": 0, \"arrowwidth\": 1}, \"colorscale\": {\"diverging\": [[0, \"#8e0152\"], [0.1, \"#c51b7d\"], [0.2, \"#de77ae\"], [0.3, \"#f1b6da\"], [0.4, \"#fde0ef\"], [0.5, \"#f7f7f7\"], [0.6, \"#e6f5d0\"], [0.7, \"#b8e186\"], [0.8, \"#7fbc41\"], [0.9, \"#4d9221\"], [1, \"#276419\"]], \"sequential\": [[0.0, \"#0d0887\"], [0.1111111111111111, \"#46039f\"], [0.2222222222222222, \"#7201a8\"], [0.3333333333333333, \"#9c179e\"], [0.4444444444444444, \"#bd3786\"], [0.5555555555555556, \"#d8576b\"], [0.6666666666666666, \"#ed7953\"], [0.7777777777777778, \"#fb9f3a\"], [0.8888888888888888, \"#fdca26\"], [1.0, \"#f0f921\"]], \"sequentialminus\": [[0.0, \"#0d0887\"], [0.1111111111111111, \"#46039f\"], [0.2222222222222222, \"#7201a8\"], [0.3333333333333333, \"#9c179e\"], [0.4444444444444444, \"#bd3786\"], [0.5555555555555556, \"#d8576b\"], [0.6666666666666666, \"#ed7953\"], [0.7777777777777778, \"#fb9f3a\"], [0.8888888888888888, \"#fdca26\"], [1.0, \"#f0f921\"]]}, \"colorway\": [\"#636efa\", \"#EF553B\", \"#00cc96\", \"#ab63fa\", \"#FFA15A\", \"#19d3f3\", \"#FF6692\", \"#B6E880\", \"#FF97FF\", \"#FECB52\"], \"font\": {\"color\": \"#2a3f5f\"}, \"geo\": {\"bgcolor\": \"white\", \"lakecolor\": \"white\", \"landcolor\": \"#E5ECF6\", \"showlakes\": true, \"showland\": true, \"subunitcolor\": \"white\"}, \"hoverlabel\": {\"align\": \"left\"}, \"hovermode\": \"closest\", \"mapbox\": {\"style\": \"light\"}, \"paper_bgcolor\": \"white\", \"plot_bgcolor\": \"#E5ECF6\", \"polar\": {\"angularaxis\": {\"gridcolor\": \"white\", \"linecolor\": \"white\", \"ticks\": \"\"}, \"bgcolor\": \"#E5ECF6\", \"radialaxis\": {\"gridcolor\": \"white\", \"linecolor\": \"white\", \"ticks\": \"\"}}, \"scene\": {\"xaxis\": {\"backgroundcolor\": \"#E5ECF6\", \"gridcolor\": \"white\", \"gridwidth\": 2, \"linecolor\": \"white\", \"showbackground\": true, \"ticks\": \"\", \"zerolinecolor\": \"white\"}, \"yaxis\": {\"backgroundcolor\": \"#E5ECF6\", \"gridcolor\": \"white\", \"gridwidth\": 2, \"linecolor\": \"white\", \"showbackground\": true, \"ticks\": \"\", \"zerolinecolor\": \"white\"}, \"zaxis\": {\"backgroundcolor\": \"#E5ECF6\", \"gridcolor\": \"white\", \"gridwidth\": 2, \"linecolor\": \"white\", \"showbackground\": true, \"ticks\": \"\", \"zerolinecolor\": \"white\"}}, \"shapedefaults\": {\"line\": {\"color\": \"#2a3f5f\"}}, \"ternary\": {\"aaxis\": {\"gridcolor\": \"white\", \"linecolor\": \"white\", \"ticks\": \"\"}, \"baxis\": {\"gridcolor\": \"white\", \"linecolor\": \"white\", \"ticks\": \"\"}, \"bgcolor\": \"#E5ECF6\", \"caxis\": {\"gridcolor\": \"white\", \"linecolor\": \"white\", \"ticks\": \"\"}}, \"title\": {\"x\": 0.05}, \"xaxis\": {\"automargin\": true, \"gridcolor\": \"white\", \"linecolor\": \"white\", \"ticks\": \"\", \"zerolinecolor\": \"white\", \"zerolinewidth\": 2}, \"yaxis\": {\"automargin\": true, \"gridcolor\": \"white\", \"linecolor\": \"white\", \"ticks\": \"\", \"zerolinecolor\": \"white\", \"zerolinewidth\": 2}}}, \"xaxis\": {\"anchor\": \"y\", \"domain\": [0.0, 0.98], \"title\": {\"text\": \"Month\"}}, \"yaxis\": {\"anchor\": \"x\", \"domain\": [0.0, 1.0], \"title\": {\"text\": \"Sales\"}}},\n",
              "                        {\"responsive\": true}\n",
              "                    ).then(function(){\n",
              "                            \n",
              "var gd = document.getElementById('84a2ae49-3e54-43f1-bbd8-e4a3e5cc868c');\n",
              "var x = new MutationObserver(function (mutations, observer) {{\n",
              "        var display = window.getComputedStyle(gd).display;\n",
              "        if (!display || display === 'none') {{\n",
              "            console.log([gd, 'removed!']);\n",
              "            Plotly.purge(gd);\n",
              "            observer.disconnect();\n",
              "        }}\n",
              "}});\n",
              "\n",
              "// Listen for the removal of the full notebook cells\n",
              "var notebookContainer = gd.closest('#notebook-container');\n",
              "if (notebookContainer) {{\n",
              "    x.observe(notebookContainer, {childList: true});\n",
              "}}\n",
              "\n",
              "// Listen for the clearing of the current output cell\n",
              "var outputEl = gd.closest('.output');\n",
              "if (outputEl) {{\n",
              "    x.observe(outputEl, {childList: true});\n",
              "}}\n",
              "\n",
              "                        })\n",
              "                };\n",
              "                \n",
              "            </script>\n",
              "        </div>\n",
              "</body>\n",
              "</html>"
            ]
          },
          "metadata": {
            "tags": []
          }
        }
      ]
    },
    {
      "cell_type": "markdown",
      "metadata": {
        "id": "mjmJmVqxGf1W",
        "colab_type": "text"
      },
      "source": [
        "### Daily temperatures dataset"
      ]
    },
    {
      "cell_type": "code",
      "metadata": {
        "id": "gwGqaFxoCDfP",
        "colab_type": "code",
        "colab": {
          "base_uri": "https://localhost:8080/",
          "height": 336
        },
        "outputId": "b631c3dd-2283-46e5-aa7c-f56b2021ce9d"
      },
      "source": [
        "import pandas as pd\n",
        "daily_temps_url = 'https://raw.githubusercontent.com/jbrownlee/Datasets/master/daily-min-temperatures.csv'\n",
        "daily_temps_pdf = pd.read_csv(daily_temps_url)\n",
        "print(daily_temps_pdf.info())\n",
        "daily_temps_pdf.head()"
      ],
      "execution_count": 7,
      "outputs": [
        {
          "output_type": "stream",
          "text": [
            "<class 'pandas.core.frame.DataFrame'>\n",
            "RangeIndex: 3650 entries, 0 to 3649\n",
            "Data columns (total 2 columns):\n",
            "Date    3650 non-null object\n",
            "Temp    3650 non-null float64\n",
            "dtypes: float64(1), object(1)\n",
            "memory usage: 57.1+ KB\n",
            "None\n"
          ],
          "name": "stdout"
        },
        {
          "output_type": "execute_result",
          "data": {
            "text/html": [
              "<div>\n",
              "<style scoped>\n",
              "    .dataframe tbody tr th:only-of-type {\n",
              "        vertical-align: middle;\n",
              "    }\n",
              "\n",
              "    .dataframe tbody tr th {\n",
              "        vertical-align: top;\n",
              "    }\n",
              "\n",
              "    .dataframe thead th {\n",
              "        text-align: right;\n",
              "    }\n",
              "</style>\n",
              "<table border=\"1\" class=\"dataframe\">\n",
              "  <thead>\n",
              "    <tr style=\"text-align: right;\">\n",
              "      <th></th>\n",
              "      <th>Date</th>\n",
              "      <th>Temp</th>\n",
              "    </tr>\n",
              "  </thead>\n",
              "  <tbody>\n",
              "    <tr>\n",
              "      <th>0</th>\n",
              "      <td>1981-01-01</td>\n",
              "      <td>20.7</td>\n",
              "    </tr>\n",
              "    <tr>\n",
              "      <th>1</th>\n",
              "      <td>1981-01-02</td>\n",
              "      <td>17.9</td>\n",
              "    </tr>\n",
              "    <tr>\n",
              "      <th>2</th>\n",
              "      <td>1981-01-03</td>\n",
              "      <td>18.8</td>\n",
              "    </tr>\n",
              "    <tr>\n",
              "      <th>3</th>\n",
              "      <td>1981-01-04</td>\n",
              "      <td>14.6</td>\n",
              "    </tr>\n",
              "    <tr>\n",
              "      <th>4</th>\n",
              "      <td>1981-01-05</td>\n",
              "      <td>15.8</td>\n",
              "    </tr>\n",
              "  </tbody>\n",
              "</table>\n",
              "</div>"
            ],
            "text/plain": [
              "         Date  Temp\n",
              "0  1981-01-01  20.7\n",
              "1  1981-01-02  17.9\n",
              "2  1981-01-03  18.8\n",
              "3  1981-01-04  14.6\n",
              "4  1981-01-05  15.8"
            ]
          },
          "metadata": {
            "tags": []
          },
          "execution_count": 7
        }
      ]
    },
    {
      "cell_type": "code",
      "metadata": {
        "id": "jOgfs0WVIwpc",
        "colab_type": "code",
        "colab": {}
      },
      "source": [
        "def get_daily_temps_pdf():\n",
        "  daily_temps_url = 'https://raw.githubusercontent.com/jbrownlee/Datasets/master/daily-min-temperatures.csv'\n",
        "  return pd.read_csv(daily_temps_url)"
      ],
      "execution_count": 0,
      "outputs": []
    },
    {
      "cell_type": "code",
      "metadata": {
        "id": "zh-645aZDxlf",
        "colab_type": "code",
        "colab": {
          "base_uri": "https://localhost:8080/",
          "height": 617
        },
        "outputId": "fd94a397-25a5-4a9f-9779-77ac2aa3e4c9"
      },
      "source": [
        "def plot_daily_temps_pdf():\n",
        "  import plotly.express as px\n",
        "  import pandas as pd\n",
        "  fig = px.line(get_daily_temps_pdf(), x='Date', y='Temp')\n",
        "  fig.show()\n",
        "plot_daily_temps_pdf()"
      ],
      "execution_count": 18,
      "outputs": [
        {
          "output_type": "display_data",
          "data": {
            "text/html": [
              "<html>\n",
              "<head><meta charset=\"utf-8\" /></head>\n",
              "<body>\n",
              "    <div>\n",
              "            <script src=\"https://cdnjs.cloudflare.com/ajax/libs/mathjax/2.7.5/MathJax.js?config=TeX-AMS-MML_SVG\"></script><script type=\"text/javascript\">if (window.MathJax) {MathJax.Hub.Config({SVG: {font: \"STIX-Web\"}});}</script>\n",
              "                <script type=\"text/javascript\">window.PlotlyConfig = {MathJaxConfig: 'local'};</script>\n",
              "        <script src=\"https://cdn.plot.ly/plotly-latest.min.js\"></script>    \n",
              "            <div id=\"927d18db-4074-43b1-87c9-3dbc9f80d3e7\" class=\"plotly-graph-div\" style=\"height:600px; width:100%;\"></div>\n",
              "            <script type=\"text/javascript\">\n",
              "                \n",
              "                    window.PLOTLYENV=window.PLOTLYENV || {};\n",
              "                    \n",
              "                if (document.getElementById(\"927d18db-4074-43b1-87c9-3dbc9f80d3e7\")) {\n",
              "                    Plotly.newPlot(\n",
              "                        '927d18db-4074-43b1-87c9-3dbc9f80d3e7',\n",
              "                        [{\"hoverlabel\": {\"namelength\": 0}, \"hovertemplate\": \"Date=%{x}<br>Temp=%{y}\", \"legendgroup\": \"\", \"line\": {\"color\": \"#636efa\", \"dash\": \"solid\"}, \"mode\": \"lines\", \"name\": \"\", \"showlegend\": false, \"type\": \"scattergl\", \"x\": [\"1981-01-01\", \"1981-01-02\", \"1981-01-03\", \"1981-01-04\", \"1981-01-05\", \"1981-01-06\", \"1981-01-07\", \"1981-01-08\", \"1981-01-09\", \"1981-01-10\", \"1981-01-11\", \"1981-01-12\", \"1981-01-13\", \"1981-01-14\", \"1981-01-15\", \"1981-01-16\", \"1981-01-17\", \"1981-01-18\", \"1981-01-19\", \"1981-01-20\", \"1981-01-21\", \"1981-01-22\", \"1981-01-23\", \"1981-01-24\", \"1981-01-25\", \"1981-01-26\", \"1981-01-27\", \"1981-01-28\", \"1981-01-29\", \"1981-01-30\", \"1981-01-31\", \"1981-02-01\", \"1981-02-02\", \"1981-02-03\", \"1981-02-04\", \"1981-02-05\", \"1981-02-06\", \"1981-02-07\", \"1981-02-08\", \"1981-02-09\", \"1981-02-10\", \"1981-02-11\", \"1981-02-12\", \"1981-02-13\", \"1981-02-14\", \"1981-02-15\", \"1981-02-16\", \"1981-02-17\", \"1981-02-18\", \"1981-02-19\", \"1981-02-20\", \"1981-02-21\", \"1981-02-22\", \"1981-02-23\", \"1981-02-24\", \"1981-02-25\", \"1981-02-26\", \"1981-02-27\", \"1981-02-28\", \"1981-03-01\", \"1981-03-02\", \"1981-03-03\", \"1981-03-04\", \"1981-03-05\", \"1981-03-06\", \"1981-03-07\", \"1981-03-08\", \"1981-03-09\", \"1981-03-10\", \"1981-03-11\", \"1981-03-12\", \"1981-03-13\", \"1981-03-14\", \"1981-03-15\", \"1981-03-16\", \"1981-03-17\", \"1981-03-18\", \"1981-03-19\", \"1981-03-20\", \"1981-03-21\", \"1981-03-22\", \"1981-03-23\", \"1981-03-24\", \"1981-03-25\", \"1981-03-26\", \"1981-03-27\", \"1981-03-28\", \"1981-03-29\", \"1981-03-30\", \"1981-03-31\", \"1981-04-01\", \"1981-04-02\", \"1981-04-03\", \"1981-04-04\", \"1981-04-05\", \"1981-04-06\", \"1981-04-07\", \"1981-04-08\", \"1981-04-09\", \"1981-04-10\", \"1981-04-11\", \"1981-04-12\", \"1981-04-13\", \"1981-04-14\", \"1981-04-15\", \"1981-04-16\", \"1981-04-17\", \"1981-04-18\", \"1981-04-19\", \"1981-04-20\", \"1981-04-21\", \"1981-04-22\", \"1981-04-23\", \"1981-04-24\", \"1981-04-25\", \"1981-04-26\", \"1981-04-27\", \"1981-04-28\", \"1981-04-29\", \"1981-04-30\", \"1981-05-01\", \"1981-05-02\", \"1981-05-03\", \"1981-05-04\", \"1981-05-05\", \"1981-05-06\", \"1981-05-07\", \"1981-05-08\", \"1981-05-09\", \"1981-05-10\", \"1981-05-11\", \"1981-05-12\", \"1981-05-13\", \"1981-05-14\", \"1981-05-15\", \"1981-05-16\", \"1981-05-17\", \"1981-05-18\", \"1981-05-19\", \"1981-05-20\", \"1981-05-21\", \"1981-05-22\", \"1981-05-23\", \"1981-05-24\", \"1981-05-25\", \"1981-05-26\", \"1981-05-27\", \"1981-05-28\", \"1981-05-29\", \"1981-05-30\", \"1981-05-31\", \"1981-06-01\", \"1981-06-02\", \"1981-06-03\", \"1981-06-04\", \"1981-06-05\", \"1981-06-06\", \"1981-06-07\", \"1981-06-08\", \"1981-06-09\", \"1981-06-10\", \"1981-06-11\", \"1981-06-12\", \"1981-06-13\", \"1981-06-14\", \"1981-06-15\", \"1981-06-16\", \"1981-06-17\", \"1981-06-18\", \"1981-06-19\", \"1981-06-20\", \"1981-06-21\", \"1981-06-22\", \"1981-06-23\", \"1981-06-24\", \"1981-06-25\", \"1981-06-26\", \"1981-06-27\", \"1981-06-28\", \"1981-06-29\", \"1981-06-30\", \"1981-07-01\", \"1981-07-02\", \"1981-07-03\", \"1981-07-04\", \"1981-07-05\", \"1981-07-06\", \"1981-07-07\", \"1981-07-08\", \"1981-07-09\", \"1981-07-10\", \"1981-07-11\", \"1981-07-12\", \"1981-07-13\", \"1981-07-14\", \"1981-07-15\", \"1981-07-16\", \"1981-07-17\", \"1981-07-18\", \"1981-07-19\", \"1981-07-20\", \"1981-07-21\", \"1981-07-22\", \"1981-07-23\", \"1981-07-24\", \"1981-07-25\", \"1981-07-26\", \"1981-07-27\", \"1981-07-28\", \"1981-07-29\", \"1981-07-30\", \"1981-07-31\", \"1981-08-01\", \"1981-08-02\", \"1981-08-03\", \"1981-08-04\", \"1981-08-05\", \"1981-08-06\", \"1981-08-07\", \"1981-08-08\", \"1981-08-09\", \"1981-08-10\", \"1981-08-11\", \"1981-08-12\", \"1981-08-13\", \"1981-08-14\", \"1981-08-15\", \"1981-08-16\", \"1981-08-17\", \"1981-08-18\", \"1981-08-19\", \"1981-08-20\", \"1981-08-21\", \"1981-08-22\", \"1981-08-23\", \"1981-08-24\", \"1981-08-25\", \"1981-08-26\", \"1981-08-27\", \"1981-08-28\", \"1981-08-29\", \"1981-08-30\", \"1981-08-31\", \"1981-09-01\", \"1981-09-02\", \"1981-09-03\", \"1981-09-04\", \"1981-09-05\", \"1981-09-06\", \"1981-09-07\", \"1981-09-08\", \"1981-09-09\", \"1981-09-10\", \"1981-09-11\", \"1981-09-12\", \"1981-09-13\", \"1981-09-14\", \"1981-09-15\", \"1981-09-16\", \"1981-09-17\", \"1981-09-18\", \"1981-09-19\", \"1981-09-20\", \"1981-09-21\", \"1981-09-22\", \"1981-09-23\", \"1981-09-24\", \"1981-09-25\", \"1981-09-26\", \"1981-09-27\", \"1981-09-28\", \"1981-09-29\", \"1981-09-30\", \"1981-10-01\", \"1981-10-02\", \"1981-10-03\", \"1981-10-04\", \"1981-10-05\", \"1981-10-06\", \"1981-10-07\", \"1981-10-08\", \"1981-10-09\", \"1981-10-10\", \"1981-10-11\", \"1981-10-12\", \"1981-10-13\", \"1981-10-14\", \"1981-10-15\", \"1981-10-16\", \"1981-10-17\", \"1981-10-18\", \"1981-10-19\", \"1981-10-20\", \"1981-10-21\", \"1981-10-22\", \"1981-10-23\", \"1981-10-24\", \"1981-10-25\", \"1981-10-26\", \"1981-10-27\", \"1981-10-28\", \"1981-10-29\", \"1981-10-30\", \"1981-10-31\", \"1981-11-01\", \"1981-11-02\", \"1981-11-03\", \"1981-11-04\", \"1981-11-05\", \"1981-11-06\", \"1981-11-07\", \"1981-11-08\", \"1981-11-09\", \"1981-11-10\", \"1981-11-11\", \"1981-11-12\", \"1981-11-13\", \"1981-11-14\", \"1981-11-15\", \"1981-11-16\", \"1981-11-17\", \"1981-11-18\", \"1981-11-19\", \"1981-11-20\", \"1981-11-21\", \"1981-11-22\", \"1981-11-23\", \"1981-11-24\", \"1981-11-25\", \"1981-11-26\", \"1981-11-27\", \"1981-11-28\", \"1981-11-29\", \"1981-11-30\", \"1981-12-01\", \"1981-12-02\", \"1981-12-03\", \"1981-12-04\", \"1981-12-05\", \"1981-12-06\", \"1981-12-07\", \"1981-12-08\", \"1981-12-09\", \"1981-12-10\", \"1981-12-11\", \"1981-12-12\", \"1981-12-13\", \"1981-12-14\", \"1981-12-15\", \"1981-12-16\", \"1981-12-17\", \"1981-12-18\", \"1981-12-19\", \"1981-12-20\", \"1981-12-21\", \"1981-12-22\", \"1981-12-23\", \"1981-12-24\", \"1981-12-25\", \"1981-12-26\", \"1981-12-27\", \"1981-12-28\", \"1981-12-29\", \"1981-12-30\", \"1981-12-31\", \"1982-01-01\", \"1982-01-02\", \"1982-01-03\", \"1982-01-04\", \"1982-01-05\", \"1982-01-06\", \"1982-01-07\", \"1982-01-08\", \"1982-01-09\", \"1982-01-10\", \"1982-01-11\", \"1982-01-12\", \"1982-01-13\", \"1982-01-14\", \"1982-01-15\", \"1982-01-16\", \"1982-01-17\", \"1982-01-18\", \"1982-01-19\", \"1982-01-20\", \"1982-01-21\", \"1982-01-22\", \"1982-01-23\", \"1982-01-24\", \"1982-01-25\", \"1982-01-26\", \"1982-01-27\", \"1982-01-28\", \"1982-01-29\", \"1982-01-30\", \"1982-01-31\", \"1982-02-01\", \"1982-02-02\", \"1982-02-03\", \"1982-02-04\", \"1982-02-05\", \"1982-02-06\", \"1982-02-07\", \"1982-02-08\", \"1982-02-09\", \"1982-02-10\", \"1982-02-11\", \"1982-02-12\", \"1982-02-13\", \"1982-02-14\", \"1982-02-15\", \"1982-02-16\", \"1982-02-17\", \"1982-02-18\", \"1982-02-19\", \"1982-02-20\", \"1982-02-21\", \"1982-02-22\", \"1982-02-23\", \"1982-02-24\", \"1982-02-25\", \"1982-02-26\", \"1982-02-27\", \"1982-02-28\", \"1982-03-01\", \"1982-03-02\", \"1982-03-03\", \"1982-03-04\", \"1982-03-05\", \"1982-03-06\", \"1982-03-07\", \"1982-03-08\", \"1982-03-09\", \"1982-03-10\", \"1982-03-11\", \"1982-03-12\", \"1982-03-13\", \"1982-03-14\", \"1982-03-15\", \"1982-03-16\", \"1982-03-17\", \"1982-03-18\", \"1982-03-19\", \"1982-03-20\", \"1982-03-21\", \"1982-03-22\", \"1982-03-23\", \"1982-03-24\", \"1982-03-25\", \"1982-03-26\", \"1982-03-27\", \"1982-03-28\", \"1982-03-29\", \"1982-03-30\", \"1982-03-31\", \"1982-04-01\", \"1982-04-02\", \"1982-04-03\", \"1982-04-04\", \"1982-04-05\", \"1982-04-06\", \"1982-04-07\", \"1982-04-08\", \"1982-04-09\", \"1982-04-10\", \"1982-04-11\", \"1982-04-12\", \"1982-04-13\", \"1982-04-14\", \"1982-04-15\", \"1982-04-16\", \"1982-04-17\", \"1982-04-18\", \"1982-04-19\", \"1982-04-20\", \"1982-04-21\", \"1982-04-22\", \"1982-04-23\", \"1982-04-24\", \"1982-04-25\", \"1982-04-26\", \"1982-04-27\", \"1982-04-28\", \"1982-04-29\", \"1982-04-30\", \"1982-05-01\", \"1982-05-02\", \"1982-05-03\", \"1982-05-04\", \"1982-05-05\", \"1982-05-06\", \"1982-05-07\", \"1982-05-08\", \"1982-05-09\", \"1982-05-10\", \"1982-05-11\", \"1982-05-12\", \"1982-05-13\", \"1982-05-14\", \"1982-05-15\", \"1982-05-16\", \"1982-05-17\", \"1982-05-18\", \"1982-05-19\", \"1982-05-20\", \"1982-05-21\", \"1982-05-22\", \"1982-05-23\", \"1982-05-24\", \"1982-05-25\", \"1982-05-26\", \"1982-05-27\", \"1982-05-28\", \"1982-05-29\", \"1982-05-30\", \"1982-05-31\", \"1982-06-01\", \"1982-06-02\", \"1982-06-03\", \"1982-06-04\", \"1982-06-05\", \"1982-06-06\", \"1982-06-07\", \"1982-06-08\", \"1982-06-09\", \"1982-06-10\", \"1982-06-11\", \"1982-06-12\", \"1982-06-13\", \"1982-06-14\", \"1982-06-15\", \"1982-06-16\", \"1982-06-17\", \"1982-06-18\", \"1982-06-19\", \"1982-06-20\", \"1982-06-21\", \"1982-06-22\", \"1982-06-23\", \"1982-06-24\", \"1982-06-25\", \"1982-06-26\", \"1982-06-27\", \"1982-06-28\", \"1982-06-29\", \"1982-06-30\", \"1982-07-01\", \"1982-07-02\", \"1982-07-03\", \"1982-07-04\", \"1982-07-05\", \"1982-07-06\", \"1982-07-07\", \"1982-07-08\", \"1982-07-09\", \"1982-07-10\", \"1982-07-11\", \"1982-07-12\", \"1982-07-13\", \"1982-07-14\", \"1982-07-15\", \"1982-07-16\", \"1982-07-17\", \"1982-07-18\", \"1982-07-19\", \"1982-07-20\", \"1982-07-21\", \"1982-07-22\", \"1982-07-23\", \"1982-07-24\", \"1982-07-25\", \"1982-07-26\", \"1982-07-27\", \"1982-07-28\", \"1982-07-29\", \"1982-07-30\", \"1982-07-31\", \"1982-08-01\", \"1982-08-02\", \"1982-08-03\", \"1982-08-04\", \"1982-08-05\", \"1982-08-06\", \"1982-08-07\", \"1982-08-08\", \"1982-08-09\", \"1982-08-10\", \"1982-08-11\", \"1982-08-12\", \"1982-08-13\", \"1982-08-14\", \"1982-08-15\", \"1982-08-16\", \"1982-08-17\", \"1982-08-18\", \"1982-08-19\", \"1982-08-20\", \"1982-08-21\", \"1982-08-22\", \"1982-08-23\", \"1982-08-24\", \"1982-08-25\", \"1982-08-26\", \"1982-08-27\", \"1982-08-28\", \"1982-08-29\", \"1982-08-30\", \"1982-08-31\", \"1982-09-01\", \"1982-09-02\", \"1982-09-03\", \"1982-09-04\", \"1982-09-05\", \"1982-09-06\", \"1982-09-07\", \"1982-09-08\", \"1982-09-09\", \"1982-09-10\", \"1982-09-11\", \"1982-09-12\", \"1982-09-13\", \"1982-09-14\", \"1982-09-15\", \"1982-09-16\", \"1982-09-17\", \"1982-09-18\", \"1982-09-19\", \"1982-09-20\", \"1982-09-21\", \"1982-09-22\", \"1982-09-23\", \"1982-09-24\", \"1982-09-25\", \"1982-09-26\", \"1982-09-27\", \"1982-09-28\", \"1982-09-29\", \"1982-09-30\", \"1982-10-01\", \"1982-10-02\", \"1982-10-03\", \"1982-10-04\", \"1982-10-05\", \"1982-10-06\", \"1982-10-07\", \"1982-10-08\", \"1982-10-09\", \"1982-10-10\", \"1982-10-11\", \"1982-10-12\", \"1982-10-13\", \"1982-10-14\", \"1982-10-15\", \"1982-10-16\", \"1982-10-17\", \"1982-10-18\", \"1982-10-19\", \"1982-10-20\", \"1982-10-21\", \"1982-10-22\", \"1982-10-23\", \"1982-10-24\", \"1982-10-25\", \"1982-10-26\", \"1982-10-27\", \"1982-10-28\", \"1982-10-29\", \"1982-10-30\", \"1982-10-31\", \"1982-11-01\", \"1982-11-02\", \"1982-11-03\", \"1982-11-04\", \"1982-11-05\", \"1982-11-06\", \"1982-11-07\", \"1982-11-08\", \"1982-11-09\", \"1982-11-10\", \"1982-11-11\", \"1982-11-12\", \"1982-11-13\", \"1982-11-14\", \"1982-11-15\", \"1982-11-16\", \"1982-11-17\", \"1982-11-18\", \"1982-11-19\", \"1982-11-20\", \"1982-11-21\", \"1982-11-22\", \"1982-11-23\", \"1982-11-24\", \"1982-11-25\", \"1982-11-26\", \"1982-11-27\", \"1982-11-28\", \"1982-11-29\", \"1982-11-30\", \"1982-12-01\", \"1982-12-02\", \"1982-12-03\", \"1982-12-04\", \"1982-12-05\", \"1982-12-06\", \"1982-12-07\", \"1982-12-08\", \"1982-12-09\", \"1982-12-10\", \"1982-12-11\", \"1982-12-12\", \"1982-12-13\", \"1982-12-14\", \"1982-12-15\", \"1982-12-16\", \"1982-12-17\", \"1982-12-18\", \"1982-12-19\", \"1982-12-20\", \"1982-12-21\", \"1982-12-22\", \"1982-12-23\", \"1982-12-24\", \"1982-12-25\", \"1982-12-26\", \"1982-12-27\", \"1982-12-28\", \"1982-12-29\", \"1982-12-30\", \"1982-12-31\", \"1983-01-01\", \"1983-01-02\", \"1983-01-03\", \"1983-01-04\", \"1983-01-05\", \"1983-01-06\", \"1983-01-07\", \"1983-01-08\", \"1983-01-09\", \"1983-01-10\", \"1983-01-11\", \"1983-01-12\", \"1983-01-13\", \"1983-01-14\", \"1983-01-15\", \"1983-01-16\", \"1983-01-17\", \"1983-01-18\", \"1983-01-19\", \"1983-01-20\", \"1983-01-21\", \"1983-01-22\", \"1983-01-23\", \"1983-01-24\", \"1983-01-25\", \"1983-01-26\", \"1983-01-27\", \"1983-01-28\", \"1983-01-29\", \"1983-01-30\", \"1983-01-31\", \"1983-02-01\", \"1983-02-02\", \"1983-02-03\", \"1983-02-04\", \"1983-02-05\", \"1983-02-06\", \"1983-02-07\", \"1983-02-08\", \"1983-02-09\", \"1983-02-10\", \"1983-02-11\", \"1983-02-12\", \"1983-02-13\", \"1983-02-14\", \"1983-02-15\", \"1983-02-16\", \"1983-02-17\", \"1983-02-18\", \"1983-02-19\", \"1983-02-20\", \"1983-02-21\", \"1983-02-22\", \"1983-02-23\", \"1983-02-24\", \"1983-02-25\", \"1983-02-26\", \"1983-02-27\", \"1983-02-28\", \"1983-03-01\", \"1983-03-02\", \"1983-03-03\", \"1983-03-04\", \"1983-03-05\", \"1983-03-06\", \"1983-03-07\", \"1983-03-08\", \"1983-03-09\", \"1983-03-10\", \"1983-03-11\", \"1983-03-12\", \"1983-03-13\", \"1983-03-14\", \"1983-03-15\", \"1983-03-16\", \"1983-03-17\", \"1983-03-18\", \"1983-03-19\", \"1983-03-20\", \"1983-03-21\", \"1983-03-22\", \"1983-03-23\", \"1983-03-24\", \"1983-03-25\", \"1983-03-26\", \"1983-03-27\", \"1983-03-28\", \"1983-03-29\", \"1983-03-30\", \"1983-03-31\", \"1983-04-01\", \"1983-04-02\", \"1983-04-03\", \"1983-04-04\", \"1983-04-05\", \"1983-04-06\", \"1983-04-07\", \"1983-04-08\", \"1983-04-09\", \"1983-04-10\", \"1983-04-11\", \"1983-04-12\", \"1983-04-13\", \"1983-04-14\", \"1983-04-15\", \"1983-04-16\", \"1983-04-17\", \"1983-04-18\", \"1983-04-19\", \"1983-04-20\", \"1983-04-21\", \"1983-04-22\", \"1983-04-23\", \"1983-04-24\", \"1983-04-25\", \"1983-04-26\", \"1983-04-27\", \"1983-04-28\", \"1983-04-29\", \"1983-04-30\", \"1983-05-01\", \"1983-05-02\", \"1983-05-03\", \"1983-05-04\", \"1983-05-05\", \"1983-05-06\", \"1983-05-07\", \"1983-05-08\", \"1983-05-09\", \"1983-05-10\", \"1983-05-11\", \"1983-05-12\", \"1983-05-13\", \"1983-05-14\", \"1983-05-15\", \"1983-05-16\", \"1983-05-17\", \"1983-05-18\", \"1983-05-19\", \"1983-05-20\", \"1983-05-21\", \"1983-05-22\", \"1983-05-23\", \"1983-05-24\", \"1983-05-25\", \"1983-05-26\", \"1983-05-27\", \"1983-05-28\", \"1983-05-29\", \"1983-05-30\", \"1983-05-31\", \"1983-06-01\", \"1983-06-02\", \"1983-06-03\", \"1983-06-04\", \"1983-06-05\", \"1983-06-06\", \"1983-06-07\", \"1983-06-08\", \"1983-06-09\", \"1983-06-10\", \"1983-06-11\", \"1983-06-12\", \"1983-06-13\", \"1983-06-14\", \"1983-06-15\", \"1983-06-16\", \"1983-06-17\", \"1983-06-18\", \"1983-06-19\", \"1983-06-20\", \"1983-06-21\", \"1983-06-22\", \"1983-06-23\", \"1983-06-24\", \"1983-06-25\", \"1983-06-26\", \"1983-06-27\", \"1983-06-28\", \"1983-06-29\", \"1983-06-30\", \"1983-07-01\", \"1983-07-02\", \"1983-07-03\", \"1983-07-04\", \"1983-07-05\", \"1983-07-06\", \"1983-07-07\", \"1983-07-08\", \"1983-07-09\", \"1983-07-10\", \"1983-07-11\", \"1983-07-12\", \"1983-07-13\", \"1983-07-14\", \"1983-07-15\", \"1983-07-16\", \"1983-07-17\", \"1983-07-18\", \"1983-07-19\", \"1983-07-20\", \"1983-07-21\", \"1983-07-22\", \"1983-07-23\", \"1983-07-24\", \"1983-07-25\", \"1983-07-26\", \"1983-07-27\", \"1983-07-28\", \"1983-07-29\", \"1983-07-30\", \"1983-07-31\", \"1983-08-01\", \"1983-08-02\", \"1983-08-03\", \"1983-08-04\", \"1983-08-05\", \"1983-08-06\", \"1983-08-07\", \"1983-08-08\", \"1983-08-09\", \"1983-08-10\", \"1983-08-11\", \"1983-08-12\", \"1983-08-13\", \"1983-08-14\", \"1983-08-15\", \"1983-08-16\", \"1983-08-17\", \"1983-08-18\", \"1983-08-19\", \"1983-08-20\", \"1983-08-21\", \"1983-08-22\", \"1983-08-23\", \"1983-08-24\", \"1983-08-25\", \"1983-08-26\", \"1983-08-27\", \"1983-08-28\", \"1983-08-29\", \"1983-08-30\", \"1983-08-31\", \"1983-09-01\", \"1983-09-02\", \"1983-09-03\", \"1983-09-04\", \"1983-09-05\", \"1983-09-06\", \"1983-09-07\", \"1983-09-08\", \"1983-09-09\", \"1983-09-10\", \"1983-09-11\", \"1983-09-12\", \"1983-09-13\", \"1983-09-14\", \"1983-09-15\", \"1983-09-16\", \"1983-09-17\", \"1983-09-18\", \"1983-09-19\", \"1983-09-20\", \"1983-09-21\", \"1983-09-22\", \"1983-09-23\", \"1983-09-24\", \"1983-09-25\", \"1983-09-26\", \"1983-09-27\", \"1983-09-28\", \"1983-09-29\", \"1983-09-30\", \"1983-10-01\", \"1983-10-02\", \"1983-10-03\", \"1983-10-04\", \"1983-10-05\", \"1983-10-06\", \"1983-10-07\", \"1983-10-08\", \"1983-10-09\", \"1983-10-10\", \"1983-10-11\", \"1983-10-12\", \"1983-10-13\", \"1983-10-14\", \"1983-10-15\", \"1983-10-16\", \"1983-10-17\", \"1983-10-18\", \"1983-10-19\", \"1983-10-20\", \"1983-10-21\", \"1983-10-22\", \"1983-10-23\", \"1983-10-24\", \"1983-10-25\", \"1983-10-26\", \"1983-10-27\", \"1983-10-28\", \"1983-10-29\", \"1983-10-30\", \"1983-10-31\", \"1983-11-01\", \"1983-11-02\", \"1983-11-03\", \"1983-11-04\", \"1983-11-05\", \"1983-11-06\", \"1983-11-07\", \"1983-11-08\", \"1983-11-09\", \"1983-11-10\", \"1983-11-11\", \"1983-11-12\", \"1983-11-13\", \"1983-11-14\", \"1983-11-15\", \"1983-11-16\", \"1983-11-17\", \"1983-11-18\", \"1983-11-19\", \"1983-11-20\", \"1983-11-21\", \"1983-11-22\", \"1983-11-23\", \"1983-11-24\", \"1983-11-25\", \"1983-11-26\", \"1983-11-27\", \"1983-11-28\", \"1983-11-29\", \"1983-11-30\", \"1983-12-01\", \"1983-12-02\", \"1983-12-03\", \"1983-12-04\", \"1983-12-05\", \"1983-12-06\", \"1983-12-07\", \"1983-12-08\", \"1983-12-09\", \"1983-12-10\", \"1983-12-11\", \"1983-12-12\", \"1983-12-13\", \"1983-12-14\", \"1983-12-15\", \"1983-12-16\", \"1983-12-17\", \"1983-12-18\", \"1983-12-19\", \"1983-12-20\", \"1983-12-21\", \"1983-12-22\", \"1983-12-23\", \"1983-12-24\", \"1983-12-25\", \"1983-12-26\", \"1983-12-27\", \"1983-12-28\", \"1983-12-29\", \"1983-12-30\", \"1983-12-31\", \"1984-01-01\", \"1984-01-02\", \"1984-01-03\", \"1984-01-04\", \"1984-01-05\", \"1984-01-06\", \"1984-01-07\", \"1984-01-08\", \"1984-01-09\", \"1984-01-10\", \"1984-01-11\", \"1984-01-12\", \"1984-01-13\", \"1984-01-14\", \"1984-01-15\", \"1984-01-16\", \"1984-01-17\", \"1984-01-18\", \"1984-01-19\", \"1984-01-20\", \"1984-01-21\", \"1984-01-22\", \"1984-01-23\", \"1984-01-24\", \"1984-01-25\", \"1984-01-26\", \"1984-01-27\", \"1984-01-28\", \"1984-01-29\", \"1984-01-30\", \"1984-01-31\", \"1984-02-01\", \"1984-02-02\", \"1984-02-03\", \"1984-02-04\", \"1984-02-05\", \"1984-02-06\", \"1984-02-07\", \"1984-02-08\", \"1984-02-09\", \"1984-02-10\", \"1984-02-11\", \"1984-02-12\", \"1984-02-13\", \"1984-02-14\", \"1984-02-15\", \"1984-02-16\", \"1984-02-17\", \"1984-02-18\", \"1984-02-19\", \"1984-02-20\", \"1984-02-21\", \"1984-02-22\", \"1984-02-23\", \"1984-02-24\", \"1984-02-25\", \"1984-02-26\", \"1984-02-27\", \"1984-02-28\", \"1984-02-29\", \"1984-03-01\", \"1984-03-02\", \"1984-03-03\", \"1984-03-04\", \"1984-03-05\", \"1984-03-06\", \"1984-03-07\", \"1984-03-08\", \"1984-03-09\", \"1984-03-10\", \"1984-03-11\", \"1984-03-12\", \"1984-03-13\", \"1984-03-14\", \"1984-03-15\", \"1984-03-16\", \"1984-03-17\", \"1984-03-18\", \"1984-03-19\", \"1984-03-20\", \"1984-03-21\", \"1984-03-22\", \"1984-03-23\", \"1984-03-24\", \"1984-03-25\", \"1984-03-26\", \"1984-03-27\", \"1984-03-28\", \"1984-03-29\", \"1984-03-30\", \"1984-03-31\", \"1984-04-01\", \"1984-04-02\", \"1984-04-03\", \"1984-04-04\", \"1984-04-05\", \"1984-04-06\", \"1984-04-07\", \"1984-04-08\", \"1984-04-09\", \"1984-04-10\", \"1984-04-11\", \"1984-04-12\", \"1984-04-13\", \"1984-04-14\", \"1984-04-15\", \"1984-04-16\", \"1984-04-17\", \"1984-04-18\", \"1984-04-19\", \"1984-04-20\", \"1984-04-21\", \"1984-04-22\", \"1984-04-23\", \"1984-04-24\", \"1984-04-25\", \"1984-04-26\", \"1984-04-27\", \"1984-04-28\", \"1984-04-29\", \"1984-04-30\", \"1984-05-01\", \"1984-05-02\", \"1984-05-03\", \"1984-05-04\", \"1984-05-05\", \"1984-05-06\", \"1984-05-07\", \"1984-05-08\", \"1984-05-09\", \"1984-05-10\", \"1984-05-11\", \"1984-05-12\", \"1984-05-13\", \"1984-05-14\", \"1984-05-15\", \"1984-05-16\", \"1984-05-17\", \"1984-05-18\", \"1984-05-19\", \"1984-05-20\", \"1984-05-21\", \"1984-05-22\", \"1984-05-23\", \"1984-05-24\", \"1984-05-25\", \"1984-05-26\", \"1984-05-27\", \"1984-05-28\", \"1984-05-29\", \"1984-05-30\", \"1984-05-31\", \"1984-06-01\", \"1984-06-02\", \"1984-06-03\", \"1984-06-04\", \"1984-06-05\", \"1984-06-06\", \"1984-06-07\", \"1984-06-08\", \"1984-06-09\", \"1984-06-10\", \"1984-06-11\", \"1984-06-12\", \"1984-06-13\", \"1984-06-14\", \"1984-06-15\", \"1984-06-16\", \"1984-06-17\", \"1984-06-18\", \"1984-06-19\", \"1984-06-20\", \"1984-06-21\", \"1984-06-22\", \"1984-06-23\", \"1984-06-24\", \"1984-06-25\", \"1984-06-26\", \"1984-06-27\", \"1984-06-28\", \"1984-06-29\", \"1984-06-30\", \"1984-07-01\", \"1984-07-02\", \"1984-07-03\", \"1984-07-04\", \"1984-07-05\", \"1984-07-06\", \"1984-07-07\", \"1984-07-08\", \"1984-07-09\", \"1984-07-10\", \"1984-07-11\", \"1984-07-12\", \"1984-07-13\", \"1984-07-14\", \"1984-07-15\", \"1984-07-16\", \"1984-07-17\", \"1984-07-18\", \"1984-07-19\", \"1984-07-20\", \"1984-07-21\", \"1984-07-22\", \"1984-07-23\", \"1984-07-24\", \"1984-07-25\", \"1984-07-26\", \"1984-07-27\", \"1984-07-28\", \"1984-07-29\", \"1984-07-30\", \"1984-07-31\", \"1984-08-01\", \"1984-08-02\", \"1984-08-03\", \"1984-08-04\", \"1984-08-05\", \"1984-08-06\", \"1984-08-07\", \"1984-08-08\", \"1984-08-09\", \"1984-08-10\", \"1984-08-11\", \"1984-08-12\", \"1984-08-13\", \"1984-08-14\", \"1984-08-15\", \"1984-08-16\", \"1984-08-17\", \"1984-08-18\", \"1984-08-19\", \"1984-08-20\", \"1984-08-21\", \"1984-08-22\", \"1984-08-23\", \"1984-08-24\", \"1984-08-25\", \"1984-08-26\", \"1984-08-27\", \"1984-08-28\", \"1984-08-29\", \"1984-08-30\", \"1984-08-31\", \"1984-09-01\", \"1984-09-02\", \"1984-09-03\", \"1984-09-04\", \"1984-09-05\", \"1984-09-06\", \"1984-09-07\", \"1984-09-08\", \"1984-09-09\", \"1984-09-10\", \"1984-09-11\", \"1984-09-12\", \"1984-09-13\", \"1984-09-14\", \"1984-09-15\", \"1984-09-16\", \"1984-09-17\", \"1984-09-18\", \"1984-09-19\", \"1984-09-20\", \"1984-09-21\", \"1984-09-22\", \"1984-09-23\", \"1984-09-24\", \"1984-09-25\", \"1984-09-26\", \"1984-09-27\", \"1984-09-28\", \"1984-09-29\", \"1984-09-30\", \"1984-10-01\", \"1984-10-02\", \"1984-10-03\", \"1984-10-04\", \"1984-10-05\", \"1984-10-06\", \"1984-10-07\", \"1984-10-08\", \"1984-10-09\", \"1984-10-10\", \"1984-10-11\", \"1984-10-12\", \"1984-10-13\", \"1984-10-14\", \"1984-10-15\", \"1984-10-16\", \"1984-10-17\", \"1984-10-18\", \"1984-10-19\", \"1984-10-20\", \"1984-10-21\", \"1984-10-22\", \"1984-10-23\", \"1984-10-24\", \"1984-10-25\", \"1984-10-26\", \"1984-10-27\", \"1984-10-28\", \"1984-10-29\", \"1984-10-30\", \"1984-10-31\", \"1984-11-01\", \"1984-11-02\", \"1984-11-03\", \"1984-11-04\", \"1984-11-05\", \"1984-11-06\", \"1984-11-07\", \"1984-11-08\", \"1984-11-09\", \"1984-11-10\", \"1984-11-11\", \"1984-11-12\", \"1984-11-13\", \"1984-11-14\", \"1984-11-15\", \"1984-11-16\", \"1984-11-17\", \"1984-11-18\", \"1984-11-19\", \"1984-11-20\", \"1984-11-21\", \"1984-11-22\", \"1984-11-23\", \"1984-11-24\", \"1984-11-25\", \"1984-11-26\", \"1984-11-27\", \"1984-11-28\", \"1984-11-29\", \"1984-11-30\", \"1984-12-01\", \"1984-12-02\", \"1984-12-03\", \"1984-12-04\", \"1984-12-05\", \"1984-12-06\", \"1984-12-07\", \"1984-12-08\", \"1984-12-09\", \"1984-12-10\", \"1984-12-11\", \"1984-12-12\", \"1984-12-13\", \"1984-12-14\", \"1984-12-15\", \"1984-12-16\", \"1984-12-17\", \"1984-12-18\", \"1984-12-19\", \"1984-12-20\", \"1984-12-21\", \"1984-12-22\", \"1984-12-23\", \"1984-12-24\", \"1984-12-25\", \"1984-12-26\", \"1984-12-27\", \"1984-12-28\", \"1984-12-29\", \"1984-12-30\", \"1985-01-01\", \"1985-01-02\", \"1985-01-03\", \"1985-01-04\", \"1985-01-05\", \"1985-01-06\", \"1985-01-07\", \"1985-01-08\", \"1985-01-09\", \"1985-01-10\", \"1985-01-11\", \"1985-01-12\", \"1985-01-13\", \"1985-01-14\", \"1985-01-15\", \"1985-01-16\", \"1985-01-17\", \"1985-01-18\", \"1985-01-19\", \"1985-01-20\", \"1985-01-21\", \"1985-01-22\", \"1985-01-23\", \"1985-01-24\", \"1985-01-25\", \"1985-01-26\", \"1985-01-27\", \"1985-01-28\", \"1985-01-29\", \"1985-01-30\", \"1985-01-31\", \"1985-02-01\", \"1985-02-02\", \"1985-02-03\", \"1985-02-04\", \"1985-02-05\", \"1985-02-06\", \"1985-02-07\", \"1985-02-08\", \"1985-02-09\", \"1985-02-10\", \"1985-02-11\", \"1985-02-12\", \"1985-02-13\", \"1985-02-14\", \"1985-02-15\", \"1985-02-16\", \"1985-02-17\", \"1985-02-18\", \"1985-02-19\", \"1985-02-20\", \"1985-02-21\", \"1985-02-22\", \"1985-02-23\", \"1985-02-24\", \"1985-02-25\", \"1985-02-26\", \"1985-02-27\", \"1985-02-28\", \"1985-03-01\", \"1985-03-02\", \"1985-03-03\", \"1985-03-04\", \"1985-03-05\", \"1985-03-06\", \"1985-03-07\", \"1985-03-08\", \"1985-03-09\", \"1985-03-10\", \"1985-03-11\", \"1985-03-12\", \"1985-03-13\", \"1985-03-14\", \"1985-03-15\", \"1985-03-16\", \"1985-03-17\", \"1985-03-18\", \"1985-03-19\", \"1985-03-20\", \"1985-03-21\", \"1985-03-22\", \"1985-03-23\", \"1985-03-24\", \"1985-03-25\", \"1985-03-26\", \"1985-03-27\", \"1985-03-28\", \"1985-03-29\", \"1985-03-30\", \"1985-03-31\", \"1985-04-01\", \"1985-04-02\", \"1985-04-03\", \"1985-04-04\", \"1985-04-05\", \"1985-04-06\", \"1985-04-07\", \"1985-04-08\", \"1985-04-09\", \"1985-04-10\", \"1985-04-11\", \"1985-04-12\", \"1985-04-13\", \"1985-04-14\", \"1985-04-15\", \"1985-04-16\", \"1985-04-17\", \"1985-04-18\", \"1985-04-19\", \"1985-04-20\", \"1985-04-21\", \"1985-04-22\", \"1985-04-23\", \"1985-04-24\", \"1985-04-25\", \"1985-04-26\", \"1985-04-27\", \"1985-04-28\", \"1985-04-29\", \"1985-04-30\", \"1985-05-01\", \"1985-05-02\", \"1985-05-03\", \"1985-05-04\", \"1985-05-05\", \"1985-05-06\", \"1985-05-07\", \"1985-05-08\", \"1985-05-09\", \"1985-05-10\", \"1985-05-11\", \"1985-05-12\", \"1985-05-13\", \"1985-05-14\", \"1985-05-15\", \"1985-05-16\", \"1985-05-17\", \"1985-05-18\", \"1985-05-19\", \"1985-05-20\", \"1985-05-21\", \"1985-05-22\", \"1985-05-23\", \"1985-05-24\", \"1985-05-25\", \"1985-05-26\", \"1985-05-27\", \"1985-05-28\", \"1985-05-29\", \"1985-05-30\", \"1985-05-31\", \"1985-06-01\", \"1985-06-02\", \"1985-06-03\", \"1985-06-04\", \"1985-06-05\", \"1985-06-06\", \"1985-06-07\", \"1985-06-08\", \"1985-06-09\", \"1985-06-10\", \"1985-06-11\", \"1985-06-12\", \"1985-06-13\", \"1985-06-14\", \"1985-06-15\", \"1985-06-16\", \"1985-06-17\", \"1985-06-18\", \"1985-06-19\", \"1985-06-20\", \"1985-06-21\", \"1985-06-22\", \"1985-06-23\", \"1985-06-24\", \"1985-06-25\", \"1985-06-26\", \"1985-06-27\", \"1985-06-28\", \"1985-06-29\", \"1985-06-30\", \"1985-07-01\", \"1985-07-02\", \"1985-07-03\", \"1985-07-04\", \"1985-07-05\", \"1985-07-06\", \"1985-07-07\", \"1985-07-08\", \"1985-07-09\", \"1985-07-10\", \"1985-07-11\", \"1985-07-12\", \"1985-07-13\", \"1985-07-14\", \"1985-07-15\", \"1985-07-16\", \"1985-07-17\", \"1985-07-18\", \"1985-07-19\", \"1985-07-20\", \"1985-07-21\", \"1985-07-22\", \"1985-07-23\", \"1985-07-24\", \"1985-07-25\", \"1985-07-26\", \"1985-07-27\", \"1985-07-28\", \"1985-07-29\", \"1985-07-30\", \"1985-07-31\", \"1985-08-01\", \"1985-08-02\", \"1985-08-03\", \"1985-08-04\", \"1985-08-05\", \"1985-08-06\", \"1985-08-07\", \"1985-08-08\", \"1985-08-09\", \"1985-08-10\", \"1985-08-11\", \"1985-08-12\", \"1985-08-13\", \"1985-08-14\", \"1985-08-15\", \"1985-08-16\", \"1985-08-17\", \"1985-08-18\", \"1985-08-19\", \"1985-08-20\", \"1985-08-21\", \"1985-08-22\", \"1985-08-23\", \"1985-08-24\", \"1985-08-25\", \"1985-08-26\", \"1985-08-27\", \"1985-08-28\", \"1985-08-29\", \"1985-08-30\", \"1985-08-31\", \"1985-09-01\", \"1985-09-02\", \"1985-09-03\", \"1985-09-04\", \"1985-09-05\", \"1985-09-06\", \"1985-09-07\", \"1985-09-08\", \"1985-09-09\", \"1985-09-10\", \"1985-09-11\", \"1985-09-12\", \"1985-09-13\", \"1985-09-14\", \"1985-09-15\", \"1985-09-16\", \"1985-09-17\", \"1985-09-18\", \"1985-09-19\", \"1985-09-20\", \"1985-09-21\", \"1985-09-22\", \"1985-09-23\", \"1985-09-24\", \"1985-09-25\", \"1985-09-26\", \"1985-09-27\", \"1985-09-28\", \"1985-09-29\", \"1985-09-30\", \"1985-10-01\", \"1985-10-02\", \"1985-10-03\", \"1985-10-04\", \"1985-10-05\", \"1985-10-06\", \"1985-10-07\", \"1985-10-08\", \"1985-10-09\", \"1985-10-10\", \"1985-10-11\", \"1985-10-12\", \"1985-10-13\", \"1985-10-14\", \"1985-10-15\", \"1985-10-16\", \"1985-10-17\", \"1985-10-18\", \"1985-10-19\", \"1985-10-20\", \"1985-10-21\", \"1985-10-22\", \"1985-10-23\", \"1985-10-24\", \"1985-10-25\", \"1985-10-26\", \"1985-10-27\", \"1985-10-28\", \"1985-10-29\", \"1985-10-30\", \"1985-10-31\", \"1985-11-01\", \"1985-11-02\", \"1985-11-03\", \"1985-11-04\", \"1985-11-05\", \"1985-11-06\", \"1985-11-07\", \"1985-11-08\", \"1985-11-09\", \"1985-11-10\", \"1985-11-11\", \"1985-11-12\", \"1985-11-13\", \"1985-11-14\", \"1985-11-15\", \"1985-11-16\", \"1985-11-17\", \"1985-11-18\", \"1985-11-19\", \"1985-11-20\", \"1985-11-21\", \"1985-11-22\", \"1985-11-23\", \"1985-11-24\", \"1985-11-25\", \"1985-11-26\", \"1985-11-27\", \"1985-11-28\", \"1985-11-29\", \"1985-11-30\", \"1985-12-01\", \"1985-12-02\", \"1985-12-03\", \"1985-12-04\", \"1985-12-05\", \"1985-12-06\", \"1985-12-07\", \"1985-12-08\", \"1985-12-09\", \"1985-12-10\", \"1985-12-11\", \"1985-12-12\", \"1985-12-13\", \"1985-12-14\", \"1985-12-15\", \"1985-12-16\", \"1985-12-17\", \"1985-12-18\", \"1985-12-19\", \"1985-12-20\", \"1985-12-21\", \"1985-12-22\", \"1985-12-23\", \"1985-12-24\", \"1985-12-25\", \"1985-12-26\", \"1985-12-27\", \"1985-12-28\", \"1985-12-29\", \"1985-12-30\", \"1985-12-31\", \"1986-01-01\", \"1986-01-02\", \"1986-01-03\", \"1986-01-04\", \"1986-01-05\", \"1986-01-06\", \"1986-01-07\", \"1986-01-08\", \"1986-01-09\", \"1986-01-10\", \"1986-01-11\", \"1986-01-12\", \"1986-01-13\", \"1986-01-14\", \"1986-01-15\", \"1986-01-16\", \"1986-01-17\", \"1986-01-18\", \"1986-01-19\", \"1986-01-20\", \"1986-01-21\", \"1986-01-22\", \"1986-01-23\", \"1986-01-24\", \"1986-01-25\", \"1986-01-26\", \"1986-01-27\", \"1986-01-28\", \"1986-01-29\", \"1986-01-30\", \"1986-01-31\", \"1986-02-01\", \"1986-02-02\", \"1986-02-03\", \"1986-02-04\", \"1986-02-05\", \"1986-02-06\", \"1986-02-07\", \"1986-02-08\", \"1986-02-09\", \"1986-02-10\", \"1986-02-11\", \"1986-02-12\", \"1986-02-13\", \"1986-02-14\", \"1986-02-15\", \"1986-02-16\", \"1986-02-17\", \"1986-02-18\", \"1986-02-19\", \"1986-02-20\", \"1986-02-21\", \"1986-02-22\", \"1986-02-23\", \"1986-02-24\", \"1986-02-25\", \"1986-02-26\", \"1986-02-27\", \"1986-02-28\", \"1986-03-01\", \"1986-03-02\", \"1986-03-03\", \"1986-03-04\", \"1986-03-05\", \"1986-03-06\", \"1986-03-07\", \"1986-03-08\", \"1986-03-09\", \"1986-03-10\", \"1986-03-11\", \"1986-03-12\", \"1986-03-13\", \"1986-03-14\", \"1986-03-15\", \"1986-03-16\", \"1986-03-17\", \"1986-03-18\", \"1986-03-19\", \"1986-03-20\", \"1986-03-21\", \"1986-03-22\", \"1986-03-23\", \"1986-03-24\", \"1986-03-25\", \"1986-03-26\", \"1986-03-27\", \"1986-03-28\", \"1986-03-29\", \"1986-03-30\", \"1986-03-31\", \"1986-04-01\", \"1986-04-02\", \"1986-04-03\", \"1986-04-04\", \"1986-04-05\", \"1986-04-06\", \"1986-04-07\", \"1986-04-08\", \"1986-04-09\", \"1986-04-10\", \"1986-04-11\", \"1986-04-12\", \"1986-04-13\", \"1986-04-14\", \"1986-04-15\", \"1986-04-16\", \"1986-04-17\", \"1986-04-18\", \"1986-04-19\", \"1986-04-20\", \"1986-04-21\", \"1986-04-22\", \"1986-04-23\", \"1986-04-24\", \"1986-04-25\", \"1986-04-26\", \"1986-04-27\", \"1986-04-28\", \"1986-04-29\", \"1986-04-30\", \"1986-05-01\", \"1986-05-02\", \"1986-05-03\", \"1986-05-04\", \"1986-05-05\", \"1986-05-06\", \"1986-05-07\", \"1986-05-08\", \"1986-05-09\", \"1986-05-10\", \"1986-05-11\", \"1986-05-12\", \"1986-05-13\", \"1986-05-14\", \"1986-05-15\", \"1986-05-16\", \"1986-05-17\", \"1986-05-18\", \"1986-05-19\", \"1986-05-20\", \"1986-05-21\", \"1986-05-22\", \"1986-05-23\", \"1986-05-24\", \"1986-05-25\", \"1986-05-26\", \"1986-05-27\", \"1986-05-28\", \"1986-05-29\", \"1986-05-30\", \"1986-05-31\", \"1986-06-01\", \"1986-06-02\", \"1986-06-03\", \"1986-06-04\", \"1986-06-05\", \"1986-06-06\", \"1986-06-07\", \"1986-06-08\", \"1986-06-09\", \"1986-06-10\", \"1986-06-11\", \"1986-06-12\", \"1986-06-13\", \"1986-06-14\", \"1986-06-15\", \"1986-06-16\", \"1986-06-17\", \"1986-06-18\", \"1986-06-19\", \"1986-06-20\", \"1986-06-21\", \"1986-06-22\", \"1986-06-23\", \"1986-06-24\", \"1986-06-25\", \"1986-06-26\", \"1986-06-27\", \"1986-06-28\", \"1986-06-29\", \"1986-06-30\", \"1986-07-01\", \"1986-07-02\", \"1986-07-03\", \"1986-07-04\", \"1986-07-05\", \"1986-07-06\", \"1986-07-07\", \"1986-07-08\", \"1986-07-09\", \"1986-07-10\", \"1986-07-11\", \"1986-07-12\", \"1986-07-13\", \"1986-07-14\", \"1986-07-15\", \"1986-07-16\", \"1986-07-17\", \"1986-07-18\", \"1986-07-19\", \"1986-07-20\", \"1986-07-21\", \"1986-07-22\", \"1986-07-23\", \"1986-07-24\", \"1986-07-25\", \"1986-07-26\", \"1986-07-27\", \"1986-07-28\", \"1986-07-29\", \"1986-07-30\", \"1986-07-31\", \"1986-08-01\", \"1986-08-02\", \"1986-08-03\", \"1986-08-04\", \"1986-08-05\", \"1986-08-06\", \"1986-08-07\", \"1986-08-08\", \"1986-08-09\", \"1986-08-10\", \"1986-08-11\", \"1986-08-12\", \"1986-08-13\", \"1986-08-14\", \"1986-08-15\", \"1986-08-16\", \"1986-08-17\", \"1986-08-18\", \"1986-08-19\", \"1986-08-20\", \"1986-08-21\", \"1986-08-22\", \"1986-08-23\", \"1986-08-24\", \"1986-08-25\", \"1986-08-26\", \"1986-08-27\", \"1986-08-28\", \"1986-08-29\", \"1986-08-30\", \"1986-08-31\", \"1986-09-01\", \"1986-09-02\", \"1986-09-03\", \"1986-09-04\", \"1986-09-05\", \"1986-09-06\", \"1986-09-07\", \"1986-09-08\", \"1986-09-09\", \"1986-09-10\", \"1986-09-11\", \"1986-09-12\", \"1986-09-13\", \"1986-09-14\", \"1986-09-15\", \"1986-09-16\", \"1986-09-17\", \"1986-09-18\", \"1986-09-19\", \"1986-09-20\", \"1986-09-21\", \"1986-09-22\", \"1986-09-23\", \"1986-09-24\", \"1986-09-25\", \"1986-09-26\", \"1986-09-27\", \"1986-09-28\", \"1986-09-29\", \"1986-09-30\", \"1986-10-01\", \"1986-10-02\", \"1986-10-03\", \"1986-10-04\", \"1986-10-05\", \"1986-10-06\", \"1986-10-07\", \"1986-10-08\", \"1986-10-09\", \"1986-10-10\", \"1986-10-11\", \"1986-10-12\", \"1986-10-13\", \"1986-10-14\", \"1986-10-15\", \"1986-10-16\", \"1986-10-17\", \"1986-10-18\", \"1986-10-19\", \"1986-10-20\", \"1986-10-21\", \"1986-10-22\", \"1986-10-23\", \"1986-10-24\", \"1986-10-25\", \"1986-10-26\", \"1986-10-27\", \"1986-10-28\", \"1986-10-29\", \"1986-10-30\", \"1986-10-31\", \"1986-11-01\", \"1986-11-02\", \"1986-11-03\", \"1986-11-04\", \"1986-11-05\", \"1986-11-06\", \"1986-11-07\", \"1986-11-08\", \"1986-11-09\", \"1986-11-10\", \"1986-11-11\", \"1986-11-12\", \"1986-11-13\", \"1986-11-14\", \"1986-11-15\", \"1986-11-16\", \"1986-11-17\", \"1986-11-18\", \"1986-11-19\", \"1986-11-20\", \"1986-11-21\", \"1986-11-22\", \"1986-11-23\", \"1986-11-24\", \"1986-11-25\", \"1986-11-26\", \"1986-11-27\", \"1986-11-28\", \"1986-11-29\", \"1986-11-30\", \"1986-12-01\", \"1986-12-02\", \"1986-12-03\", \"1986-12-04\", \"1986-12-05\", \"1986-12-06\", \"1986-12-07\", \"1986-12-08\", \"1986-12-09\", \"1986-12-10\", \"1986-12-11\", \"1986-12-12\", \"1986-12-13\", \"1986-12-14\", \"1986-12-15\", \"1986-12-16\", \"1986-12-17\", \"1986-12-18\", \"1986-12-19\", \"1986-12-20\", \"1986-12-21\", \"1986-12-22\", \"1986-12-23\", \"1986-12-24\", \"1986-12-25\", \"1986-12-26\", \"1986-12-27\", \"1986-12-28\", \"1986-12-29\", \"1986-12-30\", \"1986-12-31\", \"1987-01-01\", \"1987-01-02\", \"1987-01-03\", \"1987-01-04\", \"1987-01-05\", \"1987-01-06\", \"1987-01-07\", \"1987-01-08\", \"1987-01-09\", \"1987-01-10\", \"1987-01-11\", \"1987-01-12\", \"1987-01-13\", \"1987-01-14\", \"1987-01-15\", \"1987-01-16\", \"1987-01-17\", \"1987-01-18\", \"1987-01-19\", \"1987-01-20\", \"1987-01-21\", \"1987-01-22\", \"1987-01-23\", \"1987-01-24\", \"1987-01-25\", \"1987-01-26\", \"1987-01-27\", \"1987-01-28\", \"1987-01-29\", \"1987-01-30\", \"1987-01-31\", \"1987-02-01\", \"1987-02-02\", \"1987-02-03\", \"1987-02-04\", \"1987-02-05\", \"1987-02-06\", \"1987-02-07\", \"1987-02-08\", \"1987-02-09\", \"1987-02-10\", \"1987-02-11\", \"1987-02-12\", \"1987-02-13\", \"1987-02-14\", \"1987-02-15\", \"1987-02-16\", \"1987-02-17\", \"1987-02-18\", \"1987-02-19\", \"1987-02-20\", \"1987-02-21\", \"1987-02-22\", \"1987-02-23\", \"1987-02-24\", \"1987-02-25\", \"1987-02-26\", \"1987-02-27\", \"1987-02-28\", \"1987-03-01\", \"1987-03-02\", \"1987-03-03\", \"1987-03-04\", \"1987-03-05\", \"1987-03-06\", \"1987-03-07\", \"1987-03-08\", \"1987-03-09\", \"1987-03-10\", \"1987-03-11\", \"1987-03-12\", \"1987-03-13\", \"1987-03-14\", \"1987-03-15\", \"1987-03-16\", \"1987-03-17\", \"1987-03-18\", \"1987-03-19\", \"1987-03-20\", \"1987-03-21\", \"1987-03-22\", \"1987-03-23\", \"1987-03-24\", \"1987-03-25\", \"1987-03-26\", \"1987-03-27\", \"1987-03-28\", \"1987-03-29\", \"1987-03-30\", \"1987-03-31\", \"1987-04-01\", \"1987-04-02\", \"1987-04-03\", \"1987-04-04\", \"1987-04-05\", \"1987-04-06\", \"1987-04-07\", \"1987-04-08\", \"1987-04-09\", \"1987-04-10\", \"1987-04-11\", \"1987-04-12\", \"1987-04-13\", \"1987-04-14\", \"1987-04-15\", \"1987-04-16\", \"1987-04-17\", \"1987-04-18\", \"1987-04-19\", \"1987-04-20\", \"1987-04-21\", \"1987-04-22\", \"1987-04-23\", \"1987-04-24\", \"1987-04-25\", \"1987-04-26\", \"1987-04-27\", \"1987-04-28\", \"1987-04-29\", \"1987-04-30\", \"1987-05-01\", \"1987-05-02\", \"1987-05-03\", \"1987-05-04\", \"1987-05-05\", \"1987-05-06\", \"1987-05-07\", \"1987-05-08\", \"1987-05-09\", \"1987-05-10\", \"1987-05-11\", \"1987-05-12\", \"1987-05-13\", \"1987-05-14\", \"1987-05-15\", \"1987-05-16\", \"1987-05-17\", \"1987-05-18\", \"1987-05-19\", \"1987-05-20\", \"1987-05-21\", \"1987-05-22\", \"1987-05-23\", \"1987-05-24\", \"1987-05-25\", \"1987-05-26\", \"1987-05-27\", \"1987-05-28\", \"1987-05-29\", \"1987-05-30\", \"1987-05-31\", \"1987-06-01\", \"1987-06-02\", \"1987-06-03\", \"1987-06-04\", \"1987-06-05\", \"1987-06-06\", \"1987-06-07\", \"1987-06-08\", \"1987-06-09\", \"1987-06-10\", \"1987-06-11\", \"1987-06-12\", \"1987-06-13\", \"1987-06-14\", \"1987-06-15\", \"1987-06-16\", \"1987-06-17\", \"1987-06-18\", \"1987-06-19\", \"1987-06-20\", \"1987-06-21\", \"1987-06-22\", \"1987-06-23\", \"1987-06-24\", \"1987-06-25\", \"1987-06-26\", \"1987-06-27\", \"1987-06-28\", \"1987-06-29\", \"1987-06-30\", \"1987-07-01\", \"1987-07-02\", \"1987-07-03\", \"1987-07-04\", \"1987-07-05\", \"1987-07-06\", \"1987-07-07\", \"1987-07-08\", \"1987-07-09\", \"1987-07-10\", \"1987-07-11\", \"1987-07-12\", \"1987-07-13\", \"1987-07-14\", \"1987-07-15\", \"1987-07-16\", \"1987-07-17\", \"1987-07-18\", \"1987-07-19\", \"1987-07-20\", \"1987-07-21\", \"1987-07-22\", \"1987-07-23\", \"1987-07-24\", \"1987-07-25\", \"1987-07-26\", \"1987-07-27\", \"1987-07-28\", \"1987-07-29\", \"1987-07-30\", \"1987-07-31\", \"1987-08-01\", \"1987-08-02\", \"1987-08-03\", \"1987-08-04\", \"1987-08-05\", \"1987-08-06\", \"1987-08-07\", \"1987-08-08\", \"1987-08-09\", \"1987-08-10\", \"1987-08-11\", \"1987-08-12\", \"1987-08-13\", \"1987-08-14\", \"1987-08-15\", \"1987-08-16\", \"1987-08-17\", \"1987-08-18\", \"1987-08-19\", \"1987-08-20\", \"1987-08-21\", \"1987-08-22\", \"1987-08-23\", \"1987-08-24\", \"1987-08-25\", \"1987-08-26\", \"1987-08-27\", \"1987-08-28\", \"1987-08-29\", \"1987-08-30\", \"1987-08-31\", \"1987-09-01\", \"1987-09-02\", \"1987-09-03\", \"1987-09-04\", \"1987-09-05\", \"1987-09-06\", \"1987-09-07\", \"1987-09-08\", \"1987-09-09\", \"1987-09-10\", \"1987-09-11\", \"1987-09-12\", \"1987-09-13\", \"1987-09-14\", \"1987-09-15\", \"1987-09-16\", \"1987-09-17\", \"1987-09-18\", \"1987-09-19\", \"1987-09-20\", \"1987-09-21\", \"1987-09-22\", \"1987-09-23\", \"1987-09-24\", \"1987-09-25\", \"1987-09-26\", \"1987-09-27\", \"1987-09-28\", \"1987-09-29\", \"1987-09-30\", \"1987-10-01\", \"1987-10-02\", \"1987-10-03\", \"1987-10-04\", \"1987-10-05\", \"1987-10-06\", \"1987-10-07\", \"1987-10-08\", \"1987-10-09\", \"1987-10-10\", \"1987-10-11\", \"1987-10-12\", \"1987-10-13\", \"1987-10-14\", \"1987-10-15\", \"1987-10-16\", \"1987-10-17\", \"1987-10-18\", \"1987-10-19\", \"1987-10-20\", \"1987-10-21\", \"1987-10-22\", \"1987-10-23\", \"1987-10-24\", \"1987-10-25\", \"1987-10-26\", \"1987-10-27\", \"1987-10-28\", \"1987-10-29\", \"1987-10-30\", \"1987-10-31\", \"1987-11-01\", \"1987-11-02\", \"1987-11-03\", \"1987-11-04\", \"1987-11-05\", \"1987-11-06\", \"1987-11-07\", \"1987-11-08\", \"1987-11-09\", \"1987-11-10\", \"1987-11-11\", \"1987-11-12\", \"1987-11-13\", \"1987-11-14\", \"1987-11-15\", \"1987-11-16\", \"1987-11-17\", \"1987-11-18\", \"1987-11-19\", \"1987-11-20\", \"1987-11-21\", \"1987-11-22\", \"1987-11-23\", \"1987-11-24\", \"1987-11-25\", \"1987-11-26\", \"1987-11-27\", \"1987-11-28\", \"1987-11-29\", \"1987-11-30\", \"1987-12-01\", \"1987-12-02\", \"1987-12-03\", \"1987-12-04\", \"1987-12-05\", \"1987-12-06\", \"1987-12-07\", \"1987-12-08\", \"1987-12-09\", \"1987-12-10\", \"1987-12-11\", \"1987-12-12\", \"1987-12-13\", \"1987-12-14\", \"1987-12-15\", \"1987-12-16\", \"1987-12-17\", \"1987-12-18\", \"1987-12-19\", \"1987-12-20\", \"1987-12-21\", \"1987-12-22\", \"1987-12-23\", \"1987-12-24\", \"1987-12-25\", \"1987-12-26\", \"1987-12-27\", \"1987-12-28\", \"1987-12-29\", \"1987-12-30\", \"1987-12-31\", \"1988-01-01\", \"1988-01-02\", \"1988-01-03\", \"1988-01-04\", \"1988-01-05\", \"1988-01-06\", \"1988-01-07\", \"1988-01-08\", \"1988-01-09\", \"1988-01-10\", \"1988-01-11\", \"1988-01-12\", \"1988-01-13\", \"1988-01-14\", \"1988-01-15\", \"1988-01-16\", \"1988-01-17\", \"1988-01-18\", \"1988-01-19\", \"1988-01-20\", \"1988-01-21\", \"1988-01-22\", \"1988-01-23\", \"1988-01-24\", \"1988-01-25\", \"1988-01-26\", \"1988-01-27\", \"1988-01-28\", \"1988-01-29\", \"1988-01-30\", \"1988-01-31\", \"1988-02-01\", \"1988-02-02\", \"1988-02-03\", \"1988-02-04\", \"1988-02-05\", \"1988-02-06\", \"1988-02-07\", \"1988-02-08\", \"1988-02-09\", \"1988-02-10\", \"1988-02-11\", \"1988-02-12\", \"1988-02-13\", \"1988-02-14\", \"1988-02-15\", \"1988-02-16\", \"1988-02-17\", \"1988-02-18\", \"1988-02-19\", \"1988-02-20\", \"1988-02-21\", \"1988-02-22\", \"1988-02-23\", \"1988-02-24\", \"1988-02-25\", \"1988-02-26\", \"1988-02-27\", \"1988-02-28\", \"1988-02-29\", \"1988-03-01\", \"1988-03-02\", \"1988-03-03\", \"1988-03-04\", \"1988-03-05\", \"1988-03-06\", \"1988-03-07\", \"1988-03-08\", \"1988-03-09\", \"1988-03-10\", \"1988-03-11\", \"1988-03-12\", \"1988-03-13\", \"1988-03-14\", \"1988-03-15\", \"1988-03-16\", \"1988-03-17\", \"1988-03-18\", \"1988-03-19\", \"1988-03-20\", \"1988-03-21\", \"1988-03-22\", \"1988-03-23\", \"1988-03-24\", \"1988-03-25\", \"1988-03-26\", \"1988-03-27\", \"1988-03-28\", \"1988-03-29\", \"1988-03-30\", \"1988-03-31\", \"1988-04-01\", \"1988-04-02\", \"1988-04-03\", \"1988-04-04\", \"1988-04-05\", \"1988-04-06\", \"1988-04-07\", \"1988-04-08\", \"1988-04-09\", \"1988-04-10\", \"1988-04-11\", \"1988-04-12\", \"1988-04-13\", \"1988-04-14\", \"1988-04-15\", \"1988-04-16\", \"1988-04-17\", \"1988-04-18\", \"1988-04-19\", \"1988-04-20\", \"1988-04-21\", \"1988-04-22\", \"1988-04-23\", \"1988-04-24\", \"1988-04-25\", \"1988-04-26\", \"1988-04-27\", \"1988-04-28\", \"1988-04-29\", \"1988-04-30\", \"1988-05-01\", \"1988-05-02\", \"1988-05-03\", \"1988-05-04\", \"1988-05-05\", \"1988-05-06\", \"1988-05-07\", \"1988-05-08\", \"1988-05-09\", \"1988-05-10\", \"1988-05-11\", \"1988-05-12\", \"1988-05-13\", \"1988-05-14\", \"1988-05-15\", \"1988-05-16\", \"1988-05-17\", \"1988-05-18\", \"1988-05-19\", \"1988-05-20\", \"1988-05-21\", \"1988-05-22\", \"1988-05-23\", \"1988-05-24\", \"1988-05-25\", \"1988-05-26\", \"1988-05-27\", \"1988-05-28\", \"1988-05-29\", \"1988-05-30\", \"1988-05-31\", \"1988-06-01\", \"1988-06-02\", \"1988-06-03\", \"1988-06-04\", \"1988-06-05\", \"1988-06-06\", \"1988-06-07\", \"1988-06-08\", \"1988-06-09\", \"1988-06-10\", \"1988-06-11\", \"1988-06-12\", \"1988-06-13\", \"1988-06-14\", \"1988-06-15\", \"1988-06-16\", \"1988-06-17\", \"1988-06-18\", \"1988-06-19\", \"1988-06-20\", \"1988-06-21\", \"1988-06-22\", \"1988-06-23\", \"1988-06-24\", \"1988-06-25\", \"1988-06-26\", \"1988-06-27\", \"1988-06-28\", \"1988-06-29\", \"1988-06-30\", \"1988-07-01\", \"1988-07-02\", \"1988-07-03\", \"1988-07-04\", \"1988-07-05\", \"1988-07-06\", \"1988-07-07\", \"1988-07-08\", \"1988-07-09\", \"1988-07-10\", \"1988-07-11\", \"1988-07-12\", \"1988-07-13\", \"1988-07-14\", \"1988-07-15\", \"1988-07-16\", \"1988-07-17\", \"1988-07-18\", \"1988-07-19\", \"1988-07-20\", \"1988-07-21\", \"1988-07-22\", \"1988-07-23\", \"1988-07-24\", \"1988-07-25\", \"1988-07-26\", \"1988-07-27\", \"1988-07-28\", \"1988-07-29\", \"1988-07-30\", \"1988-07-31\", \"1988-08-01\", \"1988-08-02\", \"1988-08-03\", \"1988-08-04\", \"1988-08-05\", \"1988-08-06\", \"1988-08-07\", \"1988-08-08\", \"1988-08-09\", \"1988-08-10\", \"1988-08-11\", \"1988-08-12\", \"1988-08-13\", \"1988-08-14\", \"1988-08-15\", \"1988-08-16\", \"1988-08-17\", \"1988-08-18\", \"1988-08-19\", \"1988-08-20\", \"1988-08-21\", \"1988-08-22\", \"1988-08-23\", \"1988-08-24\", \"1988-08-25\", \"1988-08-26\", \"1988-08-27\", \"1988-08-28\", \"1988-08-29\", \"1988-08-30\", \"1988-08-31\", \"1988-09-01\", \"1988-09-02\", \"1988-09-03\", \"1988-09-04\", \"1988-09-05\", \"1988-09-06\", \"1988-09-07\", \"1988-09-08\", \"1988-09-09\", \"1988-09-10\", \"1988-09-11\", \"1988-09-12\", \"1988-09-13\", \"1988-09-14\", \"1988-09-15\", \"1988-09-16\", \"1988-09-17\", \"1988-09-18\", \"1988-09-19\", \"1988-09-20\", \"1988-09-21\", \"1988-09-22\", \"1988-09-23\", \"1988-09-24\", \"1988-09-25\", \"1988-09-26\", \"1988-09-27\", \"1988-09-28\", \"1988-09-29\", \"1988-09-30\", \"1988-10-01\", \"1988-10-02\", \"1988-10-03\", \"1988-10-04\", \"1988-10-05\", \"1988-10-06\", \"1988-10-07\", \"1988-10-08\", \"1988-10-09\", \"1988-10-10\", \"1988-10-11\", \"1988-10-12\", \"1988-10-13\", \"1988-10-14\", \"1988-10-15\", \"1988-10-16\", \"1988-10-17\", \"1988-10-18\", \"1988-10-19\", \"1988-10-20\", \"1988-10-21\", \"1988-10-22\", \"1988-10-23\", \"1988-10-24\", \"1988-10-25\", \"1988-10-26\", \"1988-10-27\", \"1988-10-28\", \"1988-10-29\", \"1988-10-30\", \"1988-10-31\", \"1988-11-01\", \"1988-11-02\", \"1988-11-03\", \"1988-11-04\", \"1988-11-05\", \"1988-11-06\", \"1988-11-07\", \"1988-11-08\", \"1988-11-09\", \"1988-11-10\", \"1988-11-11\", \"1988-11-12\", \"1988-11-13\", \"1988-11-14\", \"1988-11-15\", \"1988-11-16\", \"1988-11-17\", \"1988-11-18\", \"1988-11-19\", \"1988-11-20\", \"1988-11-21\", \"1988-11-22\", \"1988-11-23\", \"1988-11-24\", \"1988-11-25\", \"1988-11-26\", \"1988-11-27\", \"1988-11-28\", \"1988-11-29\", \"1988-11-30\", \"1988-12-01\", \"1988-12-02\", \"1988-12-03\", \"1988-12-04\", \"1988-12-05\", \"1988-12-06\", \"1988-12-07\", \"1988-12-08\", \"1988-12-09\", \"1988-12-10\", \"1988-12-11\", \"1988-12-12\", \"1988-12-13\", \"1988-12-14\", \"1988-12-15\", \"1988-12-16\", \"1988-12-17\", \"1988-12-18\", \"1988-12-19\", \"1988-12-20\", \"1988-12-21\", \"1988-12-22\", \"1988-12-23\", \"1988-12-24\", \"1988-12-25\", \"1988-12-26\", \"1988-12-27\", \"1988-12-28\", \"1988-12-29\", \"1988-12-30\", \"1989-01-01\", \"1989-01-02\", \"1989-01-03\", \"1989-01-04\", \"1989-01-05\", \"1989-01-06\", \"1989-01-07\", \"1989-01-08\", \"1989-01-09\", \"1989-01-10\", \"1989-01-11\", \"1989-01-12\", \"1989-01-13\", \"1989-01-14\", \"1989-01-15\", \"1989-01-16\", \"1989-01-17\", \"1989-01-18\", \"1989-01-19\", \"1989-01-20\", \"1989-01-21\", \"1989-01-22\", \"1989-01-23\", \"1989-01-24\", \"1989-01-25\", \"1989-01-26\", \"1989-01-27\", \"1989-01-28\", \"1989-01-29\", \"1989-01-30\", \"1989-01-31\", \"1989-02-01\", \"1989-02-02\", \"1989-02-03\", \"1989-02-04\", \"1989-02-05\", \"1989-02-06\", \"1989-02-07\", \"1989-02-08\", \"1989-02-09\", \"1989-02-10\", \"1989-02-11\", \"1989-02-12\", \"1989-02-13\", \"1989-02-14\", \"1989-02-15\", \"1989-02-16\", \"1989-02-17\", \"1989-02-18\", \"1989-02-19\", \"1989-02-20\", \"1989-02-21\", \"1989-02-22\", \"1989-02-23\", \"1989-02-24\", \"1989-02-25\", \"1989-02-26\", \"1989-02-27\", \"1989-02-28\", \"1989-03-01\", \"1989-03-02\", \"1989-03-03\", \"1989-03-04\", \"1989-03-05\", \"1989-03-06\", \"1989-03-07\", \"1989-03-08\", \"1989-03-09\", \"1989-03-10\", \"1989-03-11\", \"1989-03-12\", \"1989-03-13\", \"1989-03-14\", \"1989-03-15\", \"1989-03-16\", \"1989-03-17\", \"1989-03-18\", \"1989-03-19\", \"1989-03-20\", \"1989-03-21\", \"1989-03-22\", \"1989-03-23\", \"1989-03-24\", \"1989-03-25\", \"1989-03-26\", \"1989-03-27\", \"1989-03-28\", \"1989-03-29\", \"1989-03-30\", \"1989-03-31\", \"1989-04-01\", \"1989-04-02\", \"1989-04-03\", \"1989-04-04\", \"1989-04-05\", \"1989-04-06\", \"1989-04-07\", \"1989-04-08\", \"1989-04-09\", \"1989-04-10\", \"1989-04-11\", \"1989-04-12\", \"1989-04-13\", \"1989-04-14\", \"1989-04-15\", \"1989-04-16\", \"1989-04-17\", \"1989-04-18\", \"1989-04-19\", \"1989-04-20\", \"1989-04-21\", \"1989-04-22\", \"1989-04-23\", \"1989-04-24\", \"1989-04-25\", \"1989-04-26\", \"1989-04-27\", \"1989-04-28\", \"1989-04-29\", \"1989-04-30\", \"1989-05-01\", \"1989-05-02\", \"1989-05-03\", \"1989-05-04\", \"1989-05-05\", \"1989-05-06\", \"1989-05-07\", \"1989-05-08\", \"1989-05-09\", \"1989-05-10\", \"1989-05-11\", \"1989-05-12\", \"1989-05-13\", \"1989-05-14\", \"1989-05-15\", \"1989-05-16\", \"1989-05-17\", \"1989-05-18\", \"1989-05-19\", \"1989-05-20\", \"1989-05-21\", \"1989-05-22\", \"1989-05-23\", \"1989-05-24\", \"1989-05-25\", \"1989-05-26\", \"1989-05-27\", \"1989-05-28\", \"1989-05-29\", \"1989-05-30\", \"1989-05-31\", \"1989-06-01\", \"1989-06-02\", \"1989-06-03\", \"1989-06-04\", \"1989-06-05\", \"1989-06-06\", \"1989-06-07\", \"1989-06-08\", \"1989-06-09\", \"1989-06-10\", \"1989-06-11\", \"1989-06-12\", \"1989-06-13\", \"1989-06-14\", \"1989-06-15\", \"1989-06-16\", \"1989-06-17\", \"1989-06-18\", \"1989-06-19\", \"1989-06-20\", \"1989-06-21\", \"1989-06-22\", \"1989-06-23\", \"1989-06-24\", \"1989-06-25\", \"1989-06-26\", \"1989-06-27\", \"1989-06-28\", \"1989-06-29\", \"1989-06-30\", \"1989-07-01\", \"1989-07-02\", \"1989-07-03\", \"1989-07-04\", \"1989-07-05\", \"1989-07-06\", \"1989-07-07\", \"1989-07-08\", \"1989-07-09\", \"1989-07-10\", \"1989-07-11\", \"1989-07-12\", \"1989-07-13\", \"1989-07-14\", \"1989-07-15\", \"1989-07-16\", \"1989-07-17\", \"1989-07-18\", \"1989-07-19\", \"1989-07-20\", \"1989-07-21\", \"1989-07-22\", \"1989-07-23\", \"1989-07-24\", \"1989-07-25\", \"1989-07-26\", \"1989-07-27\", \"1989-07-28\", \"1989-07-29\", \"1989-07-30\", \"1989-07-31\", \"1989-08-01\", \"1989-08-02\", \"1989-08-03\", \"1989-08-04\", \"1989-08-05\", \"1989-08-06\", \"1989-08-07\", \"1989-08-08\", \"1989-08-09\", \"1989-08-10\", \"1989-08-11\", \"1989-08-12\", \"1989-08-13\", \"1989-08-14\", \"1989-08-15\", \"1989-08-16\", \"1989-08-17\", \"1989-08-18\", \"1989-08-19\", \"1989-08-20\", \"1989-08-21\", \"1989-08-22\", \"1989-08-23\", \"1989-08-24\", \"1989-08-25\", \"1989-08-26\", \"1989-08-27\", \"1989-08-28\", \"1989-08-29\", \"1989-08-30\", \"1989-08-31\", \"1989-09-01\", \"1989-09-02\", \"1989-09-03\", \"1989-09-04\", \"1989-09-05\", \"1989-09-06\", \"1989-09-07\", \"1989-09-08\", \"1989-09-09\", \"1989-09-10\", \"1989-09-11\", \"1989-09-12\", \"1989-09-13\", \"1989-09-14\", \"1989-09-15\", \"1989-09-16\", \"1989-09-17\", \"1989-09-18\", \"1989-09-19\", \"1989-09-20\", \"1989-09-21\", \"1989-09-22\", \"1989-09-23\", \"1989-09-24\", \"1989-09-25\", \"1989-09-26\", \"1989-09-27\", \"1989-09-28\", \"1989-09-29\", \"1989-09-30\", \"1989-10-01\", \"1989-10-02\", \"1989-10-03\", \"1989-10-04\", \"1989-10-05\", \"1989-10-06\", \"1989-10-07\", \"1989-10-08\", \"1989-10-09\", \"1989-10-10\", \"1989-10-11\", \"1989-10-12\", \"1989-10-13\", \"1989-10-14\", \"1989-10-15\", \"1989-10-16\", \"1989-10-17\", \"1989-10-18\", \"1989-10-19\", \"1989-10-20\", \"1989-10-21\", \"1989-10-22\", \"1989-10-23\", \"1989-10-24\", \"1989-10-25\", \"1989-10-26\", \"1989-10-27\", \"1989-10-28\", \"1989-10-29\", \"1989-10-30\", \"1989-10-31\", \"1989-11-01\", \"1989-11-02\", \"1989-11-03\", \"1989-11-04\", \"1989-11-05\", \"1989-11-06\", \"1989-11-07\", \"1989-11-08\", \"1989-11-09\", \"1989-11-10\", \"1989-11-11\", \"1989-11-12\", \"1989-11-13\", \"1989-11-14\", \"1989-11-15\", \"1989-11-16\", \"1989-11-17\", \"1989-11-18\", \"1989-11-19\", \"1989-11-20\", \"1989-11-21\", \"1989-11-22\", \"1989-11-23\", \"1989-11-24\", \"1989-11-25\", \"1989-11-26\", \"1989-11-27\", \"1989-11-28\", \"1989-11-29\", \"1989-11-30\", \"1989-12-01\", \"1989-12-02\", \"1989-12-03\", \"1989-12-04\", \"1989-12-05\", \"1989-12-06\", \"1989-12-07\", \"1989-12-08\", \"1989-12-09\", \"1989-12-10\", \"1989-12-11\", \"1989-12-12\", \"1989-12-13\", \"1989-12-14\", \"1989-12-15\", \"1989-12-16\", \"1989-12-17\", \"1989-12-18\", \"1989-12-19\", \"1989-12-20\", \"1989-12-21\", \"1989-12-22\", \"1989-12-23\", \"1989-12-24\", \"1989-12-25\", \"1989-12-26\", \"1989-12-27\", \"1989-12-28\", \"1989-12-29\", \"1989-12-30\", \"1989-12-31\", \"1990-01-01\", \"1990-01-02\", \"1990-01-03\", \"1990-01-04\", \"1990-01-05\", \"1990-01-06\", \"1990-01-07\", \"1990-01-08\", \"1990-01-09\", \"1990-01-10\", \"1990-01-11\", \"1990-01-12\", \"1990-01-13\", \"1990-01-14\", \"1990-01-15\", \"1990-01-16\", \"1990-01-17\", \"1990-01-18\", \"1990-01-19\", \"1990-01-20\", \"1990-01-21\", \"1990-01-22\", \"1990-01-23\", \"1990-01-24\", \"1990-01-25\", \"1990-01-26\", \"1990-01-27\", \"1990-01-28\", \"1990-01-29\", \"1990-01-30\", \"1990-01-31\", \"1990-02-01\", \"1990-02-02\", \"1990-02-03\", \"1990-02-04\", \"1990-02-05\", \"1990-02-06\", \"1990-02-07\", \"1990-02-08\", \"1990-02-09\", \"1990-02-10\", \"1990-02-11\", \"1990-02-12\", \"1990-02-13\", \"1990-02-14\", \"1990-02-15\", \"1990-02-16\", \"1990-02-17\", \"1990-02-18\", \"1990-02-19\", \"1990-02-20\", \"1990-02-21\", \"1990-02-22\", \"1990-02-23\", \"1990-02-24\", \"1990-02-25\", \"1990-02-26\", \"1990-02-27\", \"1990-02-28\", \"1990-03-01\", \"1990-03-02\", \"1990-03-03\", \"1990-03-04\", \"1990-03-05\", \"1990-03-06\", \"1990-03-07\", \"1990-03-08\", \"1990-03-09\", \"1990-03-10\", \"1990-03-11\", \"1990-03-12\", \"1990-03-13\", \"1990-03-14\", \"1990-03-15\", \"1990-03-16\", \"1990-03-17\", \"1990-03-18\", \"1990-03-19\", \"1990-03-20\", \"1990-03-21\", \"1990-03-22\", \"1990-03-23\", \"1990-03-24\", \"1990-03-25\", \"1990-03-26\", \"1990-03-27\", \"1990-03-28\", \"1990-03-29\", \"1990-03-30\", \"1990-03-31\", \"1990-04-01\", \"1990-04-02\", \"1990-04-03\", \"1990-04-04\", \"1990-04-05\", \"1990-04-06\", \"1990-04-07\", \"1990-04-08\", \"1990-04-09\", \"1990-04-10\", \"1990-04-11\", \"1990-04-12\", \"1990-04-13\", \"1990-04-14\", \"1990-04-15\", \"1990-04-16\", \"1990-04-17\", \"1990-04-18\", \"1990-04-19\", \"1990-04-20\", \"1990-04-21\", \"1990-04-22\", \"1990-04-23\", \"1990-04-24\", \"1990-04-25\", \"1990-04-26\", \"1990-04-27\", \"1990-04-28\", \"1990-04-29\", \"1990-04-30\", \"1990-05-01\", \"1990-05-02\", \"1990-05-03\", \"1990-05-04\", \"1990-05-05\", \"1990-05-06\", \"1990-05-07\", \"1990-05-08\", \"1990-05-09\", \"1990-05-10\", \"1990-05-11\", \"1990-05-12\", \"1990-05-13\", \"1990-05-14\", \"1990-05-15\", \"1990-05-16\", \"1990-05-17\", \"1990-05-18\", \"1990-05-19\", \"1990-05-20\", \"1990-05-21\", \"1990-05-22\", \"1990-05-23\", \"1990-05-24\", \"1990-05-25\", \"1990-05-26\", \"1990-05-27\", \"1990-05-28\", \"1990-05-29\", \"1990-05-30\", \"1990-05-31\", \"1990-06-01\", \"1990-06-02\", \"1990-06-03\", \"1990-06-04\", \"1990-06-05\", \"1990-06-06\", \"1990-06-07\", \"1990-06-08\", \"1990-06-09\", \"1990-06-10\", \"1990-06-11\", \"1990-06-12\", \"1990-06-13\", \"1990-06-14\", \"1990-06-15\", \"1990-06-16\", \"1990-06-17\", \"1990-06-18\", \"1990-06-19\", \"1990-06-20\", \"1990-06-21\", \"1990-06-22\", \"1990-06-23\", \"1990-06-24\", \"1990-06-25\", \"1990-06-26\", \"1990-06-27\", \"1990-06-28\", \"1990-06-29\", \"1990-06-30\", \"1990-07-01\", \"1990-07-02\", \"1990-07-03\", \"1990-07-04\", \"1990-07-05\", \"1990-07-06\", \"1990-07-07\", \"1990-07-08\", \"1990-07-09\", \"1990-07-10\", \"1990-07-11\", \"1990-07-12\", \"1990-07-13\", \"1990-07-14\", \"1990-07-15\", \"1990-07-16\", \"1990-07-17\", \"1990-07-18\", \"1990-07-19\", \"1990-07-20\", \"1990-07-21\", \"1990-07-22\", \"1990-07-23\", \"1990-07-24\", \"1990-07-25\", \"1990-07-26\", \"1990-07-27\", \"1990-07-28\", \"1990-07-29\", \"1990-07-30\", \"1990-07-31\", \"1990-08-01\", \"1990-08-02\", \"1990-08-03\", \"1990-08-04\", \"1990-08-05\", \"1990-08-06\", \"1990-08-07\", \"1990-08-08\", \"1990-08-09\", \"1990-08-10\", \"1990-08-11\", \"1990-08-12\", \"1990-08-13\", \"1990-08-14\", \"1990-08-15\", \"1990-08-16\", \"1990-08-17\", \"1990-08-18\", \"1990-08-19\", \"1990-08-20\", \"1990-08-21\", \"1990-08-22\", \"1990-08-23\", \"1990-08-24\", \"1990-08-25\", \"1990-08-26\", \"1990-08-27\", \"1990-08-28\", \"1990-08-29\", \"1990-08-30\", \"1990-08-31\", \"1990-09-01\", \"1990-09-02\", \"1990-09-03\", \"1990-09-04\", \"1990-09-05\", \"1990-09-06\", \"1990-09-07\", \"1990-09-08\", \"1990-09-09\", \"1990-09-10\", \"1990-09-11\", \"1990-09-12\", \"1990-09-13\", \"1990-09-14\", \"1990-09-15\", \"1990-09-16\", \"1990-09-17\", \"1990-09-18\", \"1990-09-19\", \"1990-09-20\", \"1990-09-21\", \"1990-09-22\", \"1990-09-23\", \"1990-09-24\", \"1990-09-25\", \"1990-09-26\", \"1990-09-27\", \"1990-09-28\", \"1990-09-29\", \"1990-09-30\", \"1990-10-01\", \"1990-10-02\", \"1990-10-03\", \"1990-10-04\", \"1990-10-05\", \"1990-10-06\", \"1990-10-07\", \"1990-10-08\", \"1990-10-09\", \"1990-10-10\", \"1990-10-11\", \"1990-10-12\", \"1990-10-13\", \"1990-10-14\", \"1990-10-15\", \"1990-10-16\", \"1990-10-17\", \"1990-10-18\", \"1990-10-19\", \"1990-10-20\", \"1990-10-21\", \"1990-10-22\", \"1990-10-23\", \"1990-10-24\", \"1990-10-25\", \"1990-10-26\", \"1990-10-27\", \"1990-10-28\", \"1990-10-29\", \"1990-10-30\", \"1990-10-31\", \"1990-11-01\", \"1990-11-02\", \"1990-11-03\", \"1990-11-04\", \"1990-11-05\", \"1990-11-06\", \"1990-11-07\", \"1990-11-08\", \"1990-11-09\", \"1990-11-10\", \"1990-11-11\", \"1990-11-12\", \"1990-11-13\", \"1990-11-14\", \"1990-11-15\", \"1990-11-16\", \"1990-11-17\", \"1990-11-18\", \"1990-11-19\", \"1990-11-20\", \"1990-11-21\", \"1990-11-22\", \"1990-11-23\", \"1990-11-24\", \"1990-11-25\", \"1990-11-26\", \"1990-11-27\", \"1990-11-28\", \"1990-11-29\", \"1990-11-30\", \"1990-12-01\", \"1990-12-02\", \"1990-12-03\", \"1990-12-04\", \"1990-12-05\", \"1990-12-06\", \"1990-12-07\", \"1990-12-08\", \"1990-12-09\", \"1990-12-10\", \"1990-12-11\", \"1990-12-12\", \"1990-12-13\", \"1990-12-14\", \"1990-12-15\", \"1990-12-16\", \"1990-12-17\", \"1990-12-18\", \"1990-12-19\", \"1990-12-20\", \"1990-12-21\", \"1990-12-22\", \"1990-12-23\", \"1990-12-24\", \"1990-12-25\", \"1990-12-26\", \"1990-12-27\", \"1990-12-28\", \"1990-12-29\", \"1990-12-30\", \"1990-12-31\"], \"xaxis\": \"x\", \"y\": [20.7, 17.9, 18.8, 14.6, 15.8, 15.8, 15.8, 17.4, 21.8, 20.0, 16.2, 13.3, 16.7, 21.5, 25.0, 20.7, 20.6, 24.8, 17.7, 15.5, 18.2, 12.1, 14.4, 16.0, 16.5, 18.7, 19.4, 17.2, 15.5, 15.1, 15.4, 15.3, 18.8, 21.9, 19.9, 16.6, 16.8, 14.6, 17.1, 25.0, 15.0, 13.7, 13.9, 18.3, 22.0, 22.1, 21.2, 18.4, 16.6, 16.1, 15.7, 16.6, 16.5, 14.4, 14.4, 18.5, 16.9, 17.5, 21.2, 17.8, 18.6, 17.0, 16.0, 13.3, 14.3, 11.4, 16.3, 16.1, 11.8, 12.2, 14.7, 11.8, 11.3, 10.6, 11.7, 14.2, 11.2, 16.9, 16.7, 8.1, 8.0, 8.8, 13.4, 10.9, 13.4, 11.0, 15.0, 15.7, 14.5, 15.8, 16.7, 16.8, 17.5, 17.1, 18.1, 16.6, 10.0, 14.9, 15.9, 13.0, 7.6, 11.5, 13.5, 13.0, 13.3, 12.1, 12.4, 13.2, 13.8, 10.6, 9.0, 10.0, 9.8, 11.5, 8.9, 7.4, 9.9, 9.3, 9.9, 7.4, 8.6, 11.9, 14.0, 8.6, 10.0, 13.5, 12.0, 10.5, 10.7, 8.1, 10.1, 10.6, 5.3, 6.6, 8.5, 11.2, 9.8, 5.9, 3.2, 2.1, 3.4, 5.4, 9.6, 11.5, 12.3, 12.6, 11.0, 11.2, 11.4, 11.8, 12.8, 11.6, 10.6, 9.8, 11.2, 5.7, 7.1, 2.5, 3.5, 4.6, 11.0, 5.7, 7.7, 10.4, 11.4, 9.2, 6.1, 2.7, 4.3, 6.3, 3.8, 4.4, 7.1, 4.8, 5.8, 6.2, 7.3, 9.2, 10.2, 9.5, 9.5, 10.7, 10.0, 6.5, 7.0, 7.4, 8.1, 6.6, 8.3, 8.9, 4.6, 6.8, 5.7, 6.1, 7.0, 7.2, 6.3, 8.8, 5.0, 7.4, 10.1, 12.0, 9.0, 8.9, 9.8, 9.0, 9.2, 7.7, 8.0, 6.1, 3.5, 3.2, 5.7, 7.7, 9.0, 10.0, 6.2, 6.9, 6.5, 6.8, 7.0, 5.2, 3.0, 5.6, 7.9, 9.0, 8.6, 10.3, 10.5, 7.6, 9.7, 12.5, 7.4, 7.9, 3.9, 6.6, 4.6, 7.0, 6.0, 5.5, 8.1, 5.5, 6.2, 8.0, 10.3, 9.8, 9.6, 8.5, 7.5, 11.2, 14.6, 11.7, 7.8, 12.3, 10.1, 11.5, 7.3, 10.9, 14.1, 10.7, 16.9, 10.5, 6.5, 11.0, 6.3, 10.5, 7.2, 7.6, 10.7, 7.8, 9.6, 11.4, 12.4, 8.9, 13.2, 8.6, 6.2, 11.4, 13.2, 14.3, 7.3, 12.9, 7.8, 6.2, 5.6, 10.0, 13.3, 8.3, 10.2, 8.6, 7.3, 10.4, 11.2, 13.2, 11.4, 9.1, 6.6, 8.4, 9.7, 13.2, 12.5, 11.0, 11.0, 11.7, 9.2, 11.5, 13.6, 13.7, 10.4, 11.5, 7.6, 9.6, 14.2, 15.7, 10.5, 10.5, 9.7, 9.5, 11.3, 8.9, 9.4, 11.9, 11.7, 13.4, 12.6, 10.1, 15.8, 13.6, 11.9, 9.9, 12.6, 17.8, 15.0, 13.6, 13.4, 10.5, 14.2, 11.5, 13.0, 15.0, 14.7, 12.6, 12.5, 13.5, 14.8, 17.2, 9.7, 12.1, 12.8, 11.2, 16.4, 15.6, 13.3, 11.0, 11.1, 15.0, 12.8, 15.0, 14.2, 14.0, 15.5, 13.3, 15.6, 15.2, 17.4, 17.0, 15.0, 13.5, 15.2, 13.0, 12.5, 14.1, 14.8, 16.2, 15.8, 19.1, 22.2, 15.9, 13.0, 14.1, 15.8, 24.0, 18.0, 19.7, 25.2, 20.5, 19.3, 15.8, 17.0, 18.4, 13.3, 14.6, 12.5, 17.0, 17.1, 14.0, 14.6, 13.3, 14.8, 15.1, 13.1, 13.6, 19.5, 22.7, 17.2, 13.5, 15.4, 17.0, 19.2, 22.8, 26.3, 18.2, 17.0, 14.8, 12.8, 15.5, 15.6, 13.1, 15.2, 14.1, 12.5, 14.6, 10.4, 13.9, 11.9, 13.5, 9.8, 14.0, 21.5, 19.5, 16.7, 19.1, 11.0, 9.0, 10.0, 14.6, 12.5, 17.2, 19.2, 22.2, 15.7, 14.2, 9.8, 14.0, 17.5, 20.7, 15.6, 13.2, 14.5, 16.8, 17.2, 13.4, 14.2, 14.3, 10.2, 10.4, 12.3, 11.9, 11.2, 8.5, 12.0, 12.4, 12.9, 10.1, 15.0, 13.6, 12.4, 13.6, 16.1, 19.5, 14.2, 9.3, 10.1, 7.4, 8.6, 7.8, 9.1, 13.0, 16.5, 12.9, 6.9, 6.9, 8.7, 10.0, 10.8, 7.5, 6.3, 11.9, 13.8, 11.8, 11.0, 10.1, 8.5, 5.5, 7.6, 8.7, 10.8, 11.2, 9.1, 3.7, 4.6, 6.6, 13.2, 15.2, 7.6, 8.4, 6.0, 8.3, 8.6, 11.1, 12.1, 12.9, 14.0, 12.5, 11.5, 7.0, 7.1, 9.0, 3.1, 2.5, 0.0, 1.6, 2.6, 5.7, 2.3, 4.5, 8.2, 6.9, 7.3, 6.0, 7.3, 7.6, 8.0, 8.0, 6.8, 7.3, 6.2, 6.9, 8.9, 4.0, 1.3, 0.8, 4.3, 7.3, 7.7, 9.0, 4.2, 1.6, 2.6, 3.4, 3.9, 7.0, 7.8, 5.3, 2.4, 2.8, 4.0, 7.5, 7.8, 5.6, 3.3, 5.0, 3.7, 3.9, 5.2, 0.2, 0.8, 0.9, 3.5, 6.6, 9.5, 9.0, 3.5, 4.5, 5.7, 5.6, 7.1, 9.7, 8.3, 9.1, 2.8, 2.2, 4.5, 3.8, 3.8, 6.2, 11.5, 10.2, 7.9, 9.0, 9.5, 6.0, 8.2, 9.2, 4.3, 6.6, 9.4, 13.2, 6.6, 5.1, 12.1, 11.2, 8.5, 4.6, 7.0, 14.2, 12.7, 7.6, 4.0, 10.0, 10.5, 5.0, 4.5, 8.2, 4.3, 9.8, 5.8, 5.0, 8.5, 9.0, 3.6, 6.7, 6.7, 10.1, 15.0, 8.9, 5.7, 4.2, 4.0, 5.3, 6.3, 8.5, 11.5, 7.7, 9.2, 7.8, 6.3, 6.3, 8.6, 6.1, 13.2, 9.9, 4.7, 5.8, 14.9, 10.7, 8.6, 9.4, 5.7, 10.9, 13.1, 10.4, 8.2, 9.8, 7.5, 5.8, 9.8, 7.9, 8.7, 10.0, 10.6, 8.0, 10.2, 15.1, 13.9, 9.2, 9.0, 13.2, 7.0, 10.6, 6.9, 9.5, 12.5, 13.6, 17.7, 16.0, 11.3, 10.5, 14.4, 10.3, 9.0, 11.1, 14.5, 18.0, 12.8, 10.7, 9.1, 8.7, 12.4, 12.6, 10.3, 13.7, 16.0, 15.8, 12.1, 12.5, 12.2, 13.7, 16.1, 15.5, 10.3, 10.5, 11.0, 11.9, 13.0, 12.2, 10.6, 13.0, 13.0, 12.2, 12.6, 18.7, 15.2, 15.3, 13.9, 15.8, 13.0, 13.0, 13.7, 12.0, 10.8, 15.6, 15.3, 13.9, 13.0, 15.3, 16.3, 15.8, 17.7, 16.3, 18.4, 15.0, 10.9, 11.4, 14.8, 12.1, 12.8, 16.2, 15.5, 13.0, 10.5, 9.1, 10.5, 11.8, 12.7, 12.7, 11.5, 13.8, 13.3, 11.6, 15.4, 12.4, 16.9, 14.7, 10.6, 15.6, 10.7, 12.6, 13.8, 14.3, 14.0, 18.1, 17.3, 13.0, 16.0, 14.9, 16.2, 20.3, 22.5, 17.2, 15.9, 16.8, 13.8, 12.8, 14.0, 17.5, 21.5, 16.8, 13.6, 14.5, 14.2, 15.7, 19.7, 17.4, 14.4, 16.9, 19.1, 20.4, 20.1, 19.9, 22.0, 20.5, 22.1, 20.6, 15.0, 20.6, 21.5, 16.2, 14.1, 14.5, 21.1, 15.9, 15.2, 13.1, 13.2, 12.5, 15.2, 17.6, 15.5, 16.7, 16.3, 15.1, 12.7, 10.0, 11.4, 12.6, 10.7, 10.0, 13.9, 13.4, 12.5, 12.8, 7.8, 11.1, 10.7, 7.1, 6.7, 5.7, 9.1, 15.2, 15.5, 11.1, 11.7, 11.5, 9.8, 6.2, 6.7, 7.5, 8.8, 8.0, 10.4, 14.5, 16.5, 14.1, 10.5, 12.6, 13.0, 8.7, 10.1, 12.0, 12.5, 13.5, 13.7, 13.5, 10.7, 13.0, 11.6, 13.0, 11.2, 13.5, 12.9, 6.8, 10.0, 14.5, 11.7, 6.7, 4.6, 4.9, 7.4, 8.3, 7.5, 6.2, 7.8, 13.2, 11.9, 6.5, 8.3, 12.1, 9.3, 7.5, 9.3, 11.0, 10.8, 5.3, 7.6, 5.6, 7.2, 9.6, 7.0, 8.3, 7.8, 4.7, 6.8, 7.2, 8.3, 9.5, 4.7, 3.0, 1.5, 2.5, 6.2, 11.6, 6.6, 6.6, 8.0, 7.9, 3.3, 3.9, 6.0, 4.0, 5.5, 8.5, 9.8, 9.5, 7.2, 8.1, 8.0, 8.5, 8.8, 8.3, 2.4, 4.9, 5.9, 6.7, 8.4, 6.5, 7.9, 4.1, 5.4, 7.5, 3.9, 2.5, 5.3, 6.6, 0.0, 0.7, 7.6, 12.3, 9.2, 9.6, 9.5, 10.0, 7.7, 8.0, 8.3, 8.3, 4.5, 6.5, 9.4, 9.4, 10.5, 10.7, 9.9, 7.6, 5.8, 8.5, 13.8, 14.3, 8.3, 5.3, 3.0, 5.2, 10.3, 11.1, 10.5, 9.0, 13.0, 6.4, 8.4, 6.7, 8.3, 11.2, 10.0, 10.1, 10.6, 10.9, 5.7, 9.5, 10.4, 11.1, 12.2, 10.6, 8.8, 9.2, 5.5, 7.1, 6.5, 4.3, 5.0, 11.2, 7.5, 12.0, 13.6, 8.3, 8.5, 12.9, 7.7, 7.6, 3.5, 10.4, 15.4, 10.6, 9.6, 9.3, 13.9, 7.7, 9.5, 7.6, 6.9, 6.8, 5.8, 6.0, 8.3, 9.1, 12.5, 13.2, 16.2, 12.5, 11.8, 10.6, 10.0, 12.2, 8.9, 10.3, 7.5, 11.6, 12.6, 12.9, 11.7, 14.0, 12.3, 9.0, 9.2, 9.8, 11.8, 10.6, 12.6, 11.0, 8.2, 7.5, 13.6, 14.8, 10.9, 7.7, 10.2, 10.8, 10.8, 12.5, 13.2, 8.7, 5.7, 9.8, 7.3, 10.8, 10.0, 16.2, 15.0, 14.5, 15.9, 14.9, 14.2, 15.8, 17.2, 17.6, 12.1, 11.4, 13.0, 13.2, 12.0, 15.3, 12.7, 12.1, 13.8, 10.9, 12.0, 16.5, 15.0, 11.2, 13.9, 15.0, 14.8, 15.0, 13.3, 20.4, 18.0, 12.2, 16.7, 13.8, 17.5, 15.0, 13.9, 11.1, 16.1, 20.4, 18.0, 19.5, 17.1, 17.1, 12.0, 11.0, 16.3, 16.1, 13.0, 13.4, 15.2, 12.5, 14.3, 16.5, 18.6, 18.0, 18.2, 11.4, 11.9, 12.2, 14.8, 13.1, 12.7, 10.5, 13.8, 18.8, 13.9, 11.2, 10.6, 14.7, 13.1, 12.1, 14.7, 11.1, 13.0, 15.6, 14.2, 15.5, 18.0, 15.0, 15.9, 15.5, 15.8, 16.6, 13.6, 13.8, 14.6, 15.6, 16.6, 14.3, 16.3, 18.9, 18.7, 14.5, 16.5, 14.1, 13.5, 11.7, 15.1, 11.2, 13.5, 12.6, 8.8, 10.5, 12.1, 14.5, 19.5, 14.0, 13.8, 10.5, 13.8, 11.4, 15.6, 11.1, 12.1, 14.2, 10.9, 14.2, 13.8, 15.1, 14.0, 12.1, 13.8, 16.6, 17.8, 9.4, 10.2, 7.4, 8.7, 14.0, 15.3, 11.1, 9.7, 10.3, 9.2, 8.2, 9.7, 12.4, 12.5, 9.0, 9.7, 10.1, 11.2, 12.0, 11.1, 10.8, 12.8, 9.8, 13.7, 11.0, 13.2, 13.0, 10.2, 13.2, 9.3, 11.1, 10.3, 8.7, 11.7, 12.5, 6.5, 9.6, 13.8, 14.7, 9.1, 4.8, 3.3, 3.5, 5.7, 5.5, 7.0, 9.5, 9.9, 4.9, 6.3, 4.8, 6.2, 7.1, 7.5, 9.4, 8.7, 9.5, 12.1, 9.5, 9.3, 8.5, 8.0, 9.8, 6.2, 7.3, 10.9, 10.0, 8.7, 9.0, 10.8, 12.4, 7.2, 7.2, 11.1, 9.3, 10.1, 3.9, 5.0, 8.2, 2.8, 4.3, 8.1, 11.1, 4.7, 5.3, 10.0, 5.6, 2.2, 7.1, 8.3, 8.6, 10.1, 8.3, 7.2, 7.7, 7.8, 9.1, 9.4, 7.8, 2.6, 2.4, 3.9, 1.3, 2.1, 7.4, 7.2, 8.8, 8.9, 8.8, 8.0, 0.7, 0.1, 0.9, 7.8, 7.2, 8.0, 4.6, 5.2, 5.8, 6.8, 8.1, 7.5, 5.4, 4.6, 6.4, 9.7, 7.0, 10.0, 10.6, 11.5, 10.2, 11.1, 11.0, 8.9, 9.9, 11.7, 11.6, 9.0, 6.3, 8.7, 8.5, 8.5, 8.0, 6.0, 8.0, 8.5, 7.7, 8.4, 9.0, 8.3, 6.8, 9.3, 6.7, 9.0, 7.3, 6.3, 7.9, 5.2, 9.0, 11.3, 9.2, 11.3, 7.0, 8.0, 4.6, 8.5, 9.5, 9.4, 10.5, 9.7, 4.9, 8.0, 5.8, 5.5, 10.9, 11.7, 9.2, 8.9, 11.3, 8.6, 6.2, 6.6, 9.1, 6.1, 7.5, 10.7, 6.3, 5.5, 6.7, 4.2, 11.3, 16.3, 10.5, 10.3, 7.9, 7.7, 16.0, 14.6, 12.5, 8.1, 12.2, 17.2, 9.4, 8.7, 5.9, 4.8, 7.4, 9.4, 9.7, 9.9, 6.5, 9.8, 18.2, 11.3, 9.1, 9.6, 13.5, 10.7, 10.0, 8.5, 12.6, 16.6, 11.6, 12.2, 11.2, 9.2, 9.9, 11.9, 15.6, 19.0, 12.8, 12.2, 12.0, 11.1, 11.8, 7.6, 13.0, 12.7, 16.0, 14.8, 14.2, 10.0, 8.8, 11.6, 8.6, 14.6, 24.3, 11.6, 10.8, 12.0, 11.0, 12.6, 10.8, 9.1, 11.0, 13.0, 12.8, 9.9, 11.6, 10.5, 15.9, 12.2, 13.0, 12.5, 12.5, 11.4, 12.1, 16.8, 12.1, 11.3, 10.4, 14.2, 11.4, 13.7, 16.5, 12.8, 12.2, 12.0, 12.6, 16.0, 16.4, 13.3, 15.2, 13.1, 12.7, 14.6, 11.0, 13.2, 12.2, 14.4, 13.7, 14.5, 14.1, 14.4, 19.7, 16.5, 15.9, 11.8, 12.0, 11.4, 14.4, 12.4, 15.1, 15.6, 15.2, 12.8, 13.3, 17.5, 15.4, 13.5, 16.7, 15.2, 14.9, 10.2, 13.6, 19.0, 15.7, 18.0, 14.8, 13.9, 13.0, 15.3, 14.3, 15.6, 16.0, 14.9, 11.1, 14.8, 13.0, 12.2, 10.9, 14.6, 16.6, 18.1, 13.4, 10.3, 13.6, 13.8, 10.3, 11.0, 14.3, 15.5, 14.7, 12.7, 10.7, 12.6, 9.8, 13.2, 15.2, 16.6, 21.0, 22.4, 17.0, 21.7, 21.4, 18.6, 16.2, 16.8, 17.0, 18.4, 17.2, 18.4, 18.8, 16.5, 13.3, 12.2, 11.3, 13.8, 16.6, 14.0, 14.3, 16.4, 11.9, 15.7, 17.6, 17.5, 15.9, 16.2, 16.0, 15.9, 16.2, 16.2, 19.5, 18.2, 21.8, 15.1, 11.0, 8.1, 9.5, 9.3, 10.6, 6.3, 8.6, 6.8, 8.7, 8.4, 9.3, 10.0, 10.5, 12.0, 10.1, 9.4, 10.1, 8.0, 10.6, 13.6, 15.4, 9.0, 10.4, 11.0, 12.1, 13.4, 11.3, 6.7, 9.8, 10.8, 7.8, 4.5, 7.6, 6.9, 7.5, 8.5, 5.5, 9.5, 7.3, 5.4, 5.5, 8.1, 11.2, 13.4, 11.6, 10.1, 4.3, 5.5, 4.4, 5.9, 5.7, 8.2, 8.2, 4.2, 6.5, 10.0, 8.8, 6.6, 7.8, 10.1, 7.1, 7.7, 8.5, 7.3, 6.9, 8.4, 7.1, 6.3, 0.6, 1.6, 7.0, 8.3, 8.0, 10.2, 10.6, 10.4, 11.6, 11.0, 10.7, 7.3, 4.2, 4.7, 5.6, 7.7, 7.5, 4.9, 5.9, 7.8, 5.8, 7.0, 8.4, 6.2, 7.5, 4.8, 3.3, 3.2, 7.0, 8.4, 0.3, 0.3, 2.1, 8.5, 1.4, 4.1, 10.3, 6.6, 6.1, 7.0, 5.1, 6.3, 6.9, 11.4, 10.4, 10.3, 9.2, 7.2, 7.5, 4.0, 5.6, 6.7, 8.4, 11.0, 8.4, 8.8, 8.6, 8.3, 4.0, 3.6, 5.7, 10.6, 6.9, 10.0, 9.8, 7.2, 10.5, 3.6, 5.3, 8.4, 10.3, 7.9, 8.5, 7.9, 8.0, 9.8, 6.7, 4.8, 9.9, 12.8, 10.9, 11.7, 11.7, 11.0, 8.2, 7.5, 5.4, 7.2, 9.7, 8.4, 9.0, 8.7, 6.6, 11.6, 13.1, 6.7, 6.5, 7.7, 8.7, 7.2, 10.5, 8.6, 7.2, 11.4, 16.2, 6.1, 9.6, 11.1, 13.6, 10.7, 14.7, 11.6, 7.3, 8.0, 9.6, 16.0, 15.1, 12.8, 6.2, 7.1, 8.4, 10.0, 12.7, 10.0, 10.2, 6.5, 9.2, 11.9, 14.7, 11.4, 6.8, 7.4, 11.2, 9.2, 12.6, 16.0, 17.1, 15.3, 13.3, 15.4, 13.2, 14.4, 14.0, 15.5, 21.0, 10.0, 9.6, 12.0, 12.2, 11.3, 13.2, 10.5, 10.1, 8.8, 13.7, 16.2, 16.0, 14.0, 13.7, 12.5, 12.8, 12.3, 15.2, 15.0, 16.4, 16.1, 14.6, 18.2, 16.4, 16.6, 14.7, 15.8, 14.1, 13.5, 13.6, 13.7, 13.6, 12.1, 12.7, 13.3, 14.2, 15.0, 13.7, 12.0, 13.1, 13.2, 13.3, 11.5, 10.8, 12.0, 16.3, 14.4, 12.9, 13.8, 10.6, 12.6, 13.7, 12.6, 13.1, 15.4, 11.9, 13.8, 14.4, 15.2, 12.5, 12.2, 16.1, 14.6, 11.6, 13.1, 12.8, 15.2, 13.8, 15.0, 13.5, 11.8, 15.3, 13.5, 15.3, 13.8, 15.8, 17.4, 15.3, 14.6, 14.8, 10.7, 11.6, 13.6, 14.4, 11.8, 15.8, 16.0, 11.8, 14.5, 10.7, 14.2, 19.5, 21.4, 17.9, 17.4, 12.7, 13.8, 14.0, 15.0, 14.5, 13.1, 11.4, 12.5, 12.0, 13.4, 14.4, 17.7, 13.9, 13.3, 14.6, 16.4, 16.8, 20.0, 12.5, 12.7, 11.7, 12.7, 8.6, 11.9, 16.0, 15.2, 13.4, 11.6, 11.1, 15.6, 17.0, 18.5, 17.4, 16.5, 16.2, 16.1, 13.2, 18.0, 12.8, 11.7, 16.7, 15.6, 10.2, 10.3, 15.0, 18.0, 13.8, 10.5, 11.8, 7.2, 11.6, 7.4, 14.2, 12.2, 9.0, 12.3, 19.7, 12.8, 12.4, 12.0, 12.0, 11.1, 12.7, 14.2, 11.6, 12.0, 11.5, 8.3, 10.5, 9.0, 6.9, 9.4, 11.1, 9.1, 7.7, 10.0, 10.4, 8.0, 9.8, 12.4, 12.9, 12.3, 6.9, 10.5, 11.0, 9.7, 11.1, 11.5, 13.4, 10.9, 12.0, 12.1, 10.4, 10.0, 9.6, 11.3, 8.5, 6.3, 8.2, 10.7, 10.3, 9.5, 10.9, 10.9, 4.3, 5.2, 11.0, 11.6, 10.6, 9.4, 10.0, 9.6, 9.5, 9.7, 9.6, 7.0, 7.0, 6.8, 6.9, 8.0, 7.6, 8.6, 5.7, 5.5, 5.7, 5.7, 6.6, 6.0, 6.9, 7.7, 8.0, 3.9, 0.8, 2.8, 8.0, 9.8, 11.4, 8.6, 5.2, 6.6, 5.7, 4.6, 5.8, 7.0, 4.8, 4.4, 4.4, 7.9, 10.6, 5.0, 7.6, 9.2, 9.7, 8.8, 6.8, 9.4, 11.0, 2.5, 2.1, 5.4, 6.2, 7.8, 7.4, 9.3, 9.3, 9.5, 8.5, 10.0, 7.7, 9.3, 9.1, 3.5, 3.6, 2.5, 1.7, 2.7, 2.9, 5.3, 7.7, 9.1, 9.4, 7.3, 8.4, 9.2, 6.6, 9.7, 12.4, 10.2, 5.9, 7.1, 7.5, 9.7, 12.2, 5.6, 5.4, 8.3, 10.6, 9.1, 11.3, 10.9, 8.9, 6.3, 9.0, 6.1, 9.1, 9.6, 6.0, 10.0, 11.0, 6.2, 8.3, 11.3, 11.3, 6.7, 6.6, 11.4, 6.9, 10.6, 8.6, 11.3, 12.5, 9.9, 6.9, 5.5, 7.8, 11.0, 16.2, 9.9, 8.7, 10.5, 12.2, 10.6, 8.3, 5.5, 9.0, 6.4, 7.2, 12.9, 12.0, 7.3, 9.7, 8.4, 14.7, 9.5, 7.9, 6.8, 12.6, 5.2, 7.5, 8.7, 7.6, 9.0, 7.2, 10.7, 13.1, 13.9, 10.8, 10.4, 9.1, 16.0, 21.0, 16.2, 8.6, 9.2, 12.5, 9.7, 12.5, 10.3, 12.0, 11.0, 14.8, 15.0, 15.3, 10.3, 10.7, 10.5, 8.9, 8.1, 11.5, 12.8, 9.1, 14.6, 11.6, 11.2, 12.6, 7.5, 11.0, 14.5, 18.5, 15.4, 13.1, 16.3, 20.2, 11.5, 12.4, 10.9, 12.7, 12.2, 12.4, 9.8, 8.5, 14.7, 12.0, 10.3, 11.0, 10.2, 12.6, 11.6, 9.7, 13.4, 10.5, 14.7, 14.6, 14.2, 13.2, 11.7, 17.2, 12.3, 13.8, 15.3, 15.6, 16.2, 16.3, 16.8, 11.0, 8.5, 13.2, 13.0, 12.4, 13.0, 16.6, 12.0, 12.4, 15.0, 11.8, 11.6, 12.2, 13.7, 11.2, 12.4, 11.5, 13.8, 15.7, 12.9, 11.5, 11.0, 12.7, 14.9, 16.5, 12.8, 12.7, 12.7, 11.6, 13.3, 15.2, 16.4, 11.9, 15.1, 10.6, 13.6, 12.1, 16.0, 16.8, 16.6, 15.6, 15.2, 17.7, 21.0, 13.4, 10.5, 9.5, 12.0, 10.4, 11.5, 13.2, 15.0, 14.1, 12.4, 13.4, 12.5, 14.3, 17.6, 10.4, 9.9, 10.2, 11.3, 9.5, 11.8, 11.5, 10.5, 10.8, 13.0, 18.5, 18.7, 15.0, 13.0, 11.3, 13.0, 13.3, 11.0, 10.3, 13.0, 12.3, 15.6, 10.2, 10.8, 12.0, 13.3, 11.7, 12.5, 13.7, 14.9, 20.2, 16.3, 13.9, 10.1, 7.3, 14.0, 17.7, 16.3, 10.6, 9.7, 7.8, 10.4, 10.4, 14.1, 7.1, 8.1, 7.8, 10.6, 9.1, 9.0, 11.9, 17.1, 16.8, 13.5, 11.6, 7.0, 9.7, 9.9, 11.2, 11.3, 11.8, 9.9, 7.1, 9.6, 9.8, 10.6, 12.8, 16.5, 11.7, 12.3, 12.2, 11.8, 10.7, 10.2, 10.0, 8.3, 6.6, 9.5, 12.3, 7.6, 9.3, 5.0, 4.3, 6.4, 10.8, 7.8, 8.5, 9.7, 10.0, 11.0, 10.2, 6.6, 6.1, 5.9, 8.9, 13.0, 12.6, 5.4, 6.0, 7.8, 9.0, 4.2, 3.0, 4.5, 6.2, 11.9, 11.8, 9.4, 9.6, 9.4, 7.0, 8.9, 9.3, 6.8, 7.5, 8.0, 8.3, 2.7, 3.9, 4.1, 5.0, 5.8, 4.4, 4.1, 5.8, 9.1, 7.9, 5.0, 2.8, 4.7, 8.9, 5.4, 7.1, 9.0, 9.4, 6.3, 7.0, 6.4, 6.7, 1.5, 2.9, 4.8, 6.3, 5.7, 7.0, 8.8, 8.7, 9.0, 9.6, 8.0, 8.4, 8.1, 9.0, 5.3, 8.9, 8.7, 4.9, 7.0, 7.5, 7.0, 9.1, 11.8, 9.9, 5.6, 4.2, 4.3, 8.0, 5.1, 9.4, 9.1, 9.7, 10.6, 8.6, 10.1, 11.0, 9.7, 5.0, 6.1, 5.4, 5.8, 7.3, 6.3, 4.8, 7.6, 8.1, 9.5, 10.3, 7.0, 9.0, 10.2, 6.8, 9.3, 9.8, 10.7, 7.8, 9.2, 15.0, 7.8, 5.3, 9.5, 7.6, 14.0, 14.9, 14.9, 19.2, 17.0, 13.0, 11.2, 9.5, 10.3, 9.3, 11.3, 6.5, 12.0, 8.3, 8.7, 8.7, 10.2, 6.9, 4.9, 10.0, 7.6, 14.5, 13.2, 9.9, 10.1, 11.3, 10.4, 10.9, 9.2, 10.5, 11.4, 13.5, 9.8, 13.1, 9.7, 11.4, 9.9, 14.4, 19.0, 23.0, 15.4, 9.6, 10.8, 12.1, 11.0, 12.6, 14.7, 11.1, 10.1, 11.4, 13.0, 11.9, 9.5, 13.5, 15.2, 18.4, 24.1, 14.1, 10.7, 8.7, 13.3, 11.6, 9.9, 10.8, 11.5, 10.0, 13.9, 13.6, 11.9, 11.1, 8.2, 9.4, 12.7, 11.6, 11.0, 11.3, 13.4, 14.9, 15.2, 13.9, 15.0, 16.2, 17.7, 20.5, 14.7, 12.5, 10.9, 12.8, 12.7, 11.2, 11.4, 11.2, 12.1, 12.7, 16.2, 14.2, 14.3, 13.3, 16.7, 15.3, 14.3, 13.5, 15.0, 13.6, 15.2, 17.0, 18.7, 16.5, 17.4, 18.3, 18.3, 22.4, 21.4, 20.9, 17.6, 15.5, 16.6, 16.2, 15.6, 14.5, 14.0, 15.6, 12.3, 11.6, 12.6, 14.9, 17.3, 21.4, 23.4, 14.4, 14.1, 15.0, 14.5, 15.1, 13.9, 13.4, 9.2, 12.5, 15.1, 12.1, 14.5, 16.3, 16.5, 14.9, 13.2, 11.8, 13.6, 16.2, 14.1, 13.5, 15.0, 14.8, 16.2, 16.2, 13.3, 15.3, 18.4, 16.2, 16.3, 12.4, 15.6, 14.9, 14.8, 12.7, 14.2, 16.8, 16.7, 16.2, 14.5, 10.0, 12.6, 11.9, 11.8, 13.4, 14.5, 15.7, 15.3, 13.9, 13.7, 15.1, 15.6, 14.4, 13.9, 16.2, 16.7, 15.5, 16.4, 17.5, 18.2, 16.1, 16.5, 14.6, 16.4, 13.6, 15.9, 11.9, 14.7, 9.4, 6.6, 7.9, 11.0, 15.7, 15.2, 15.9, 10.6, 8.3, 8.6, 12.7, 10.5, 12.0, 11.1, 13.0, 12.4, 13.3, 15.9, 12.0, 13.7, 17.6, 14.3, 13.7, 15.2, 14.5, 14.9, 15.5, 16.4, 14.5, 12.6, 13.6, 11.2, 11.0, 12.0, 6.8, 10.6, 13.1, 13.5, 11.7, 13.2, 12.0, 10.4, 10.0, 8.2, 9.4, 10.3, 8.1, 8.7, 12.6, 10.9, 8.7, 9.3, 6.3, 7.8, 10.0, 11.0, 11.1, 12.6, 10.2, 11.1, 8.7, 9.5, 9.7, 8.2, 5.0, 6.5, 12.1, 8.9, 6.1, 2.8, 3.7, 6.8, 6.6, 7.0, 7.3, 7.9, 10.6, 8.1, 6.7, 8.0, 10.0, 6.7, 9.4, 9.3, 6.0, 5.8, 4.9, 5.0, 8.4, 12.3, 13.0, 11.4, 6.8, 7.6, 12.4, 7.1, 7.5, 10.0, 5.3, 6.3, 8.0, 8.3, 9.3, 9.5, 5.6, 7.0, 8.5, 8.5, 8.2, 8.5, 9.6, 9.7, 7.1, 8.4, 9.2, 9.8, 8.1, 9.4, 10.0, 5.1, 6.7, 6.9, 6.8, 8.6, 9.1, 3.9, 4.8, 8.4, 11.6, 12.1, 12.4, 10.0, 10.1, 9.7, 11.7, 7.9, 8.6, 7.7, 5.8, 8.7, 10.6, 6.7, 8.8, 9.7, 9.0, 11.8, 15.2, 10.0, 10.5, 5.5, 9.4, 8.8, 5.3, 13.0, 15.2, 13.2, 11.5, 6.8, 4.7, 5.2, 6.8, 10.7, 10.1, 10.0, 9.8, 5.5, 13.5, 16.6, 8.4, 8.2, 11.1, 10.8, 8.8, 10.8, 8.7, 12.4, 9.0, 13.5, 14.7, 10.9, 8.5, 6.0, 12.7, 11.1, 8.7, 12.3, 13.3, 5.6, 13.7, 8.5, 11.2, 8.7, 11.7, 12.5, 8.2, 15.6, 10.3, 11.4, 9.7, 6.3, 14.3, 11.3, 7.3, 12.8, 11.9, 14.3, 11.6, 13.2, 15.5, 14.1, 9.5, 7.2, 11.8, 16.8, 12.5, 9.4, 11.9, 10.3, 16.9, 17.5, 7.5, 8.6, 11.1, 11.5, 10.7, 15.7, 12.8, 13.0, 12.9, 14.3, 13.7, 12.1, 11.9, 11.8, 11.4, 10.3, 11.7, 12.0, 17.4, 16.8, 16.2, 13.0, 12.5, 12.4, 16.1, 20.2, 14.3, 11.0, 14.4, 15.7, 19.7, 20.7, 23.9, 16.6, 17.5, 14.9, 13.6, 11.9, 15.2, 17.3, 19.8, 15.8, 9.5, 12.9, 12.9, 14.8, 14.1, 14.3, 17.4, 18.5, 16.8, 11.5, 9.5, 12.2, 15.7, 16.3, 13.6, 12.6, 13.8, 12.1, 13.4, 17.3, 19.4, 16.6, 13.9, 13.1, 16.0, 14.5, 15.0, 12.6, 12.5, 15.2, 16.2, 16.5, 20.1, 20.6, 16.9, 16.5, 16.1, 14.4, 16.3, 15.7, 14.2, 13.2, 16.8, 18.5, 16.7, 15.3, 15.9, 15.2, 17.5, 18.3, 19.4, 19.4, 19.5, 20.5, 15.7, 15.0, 16.1, 14.3, 13.0, 16.2, 17.7, 13.2, 15.8, 18.5, 20.4, 22.0, 19.7, 19.6, 20.3, 18.3, 18.9, 20.3, 21.4, 18.3, 17.8, 17.7, 12.8, 15.1, 15.0, 14.8, 12.0, 12.5, 15.0, 17.1, 17.3, 16.9, 16.5, 13.6, 13.2, 9.4, 9.5, 11.8, 10.4, 9.7, 12.6, 13.3, 15.1, 14.2, 14.2, 19.2, 12.6, 14.2, 11.9, 13.9, 13.5, 15.3, 13.9, 14.0, 12.9, 8.5, 11.4, 10.9, 12.0, 8.6, 9.0, 9.6, 10.2, 9.8, 8.3, 11.0, 11.9, 14.0, 15.8, 14.5, 13.2, 14.2, 14.6, 11.8, 14.4, 10.4, 10.3, 10.8, 10.5, 9.5, 12.5, 13.7, 12.7, 11.9, 11.4, 9.7, 8.3, 8.1, 11.7, 11.6, 7.4, 5.2, 11.0, 9.5, 9.2, 10.7, 9.0, 10.2, 10.3, 12.1, 13.2, 6.6, 2.3, 1.4, 2.1, 6.6, 8.9, 7.8, 9.0, 10.3, 7.9, 7.2, 8.6, 8.8, 6.2, 9.5, 10.2, 9.7, 11.2, 10.2, 10.1, 8.1, 6.6, 5.0, 4.7, 5.3, 4.5, 2.3, 1.4, 0.5, 2.4, 8.0, 6.0, 7.1, 9.7, 6.9, 5.3, 7.0, 6.2, 7.0, 9.7, 8.0, 8.5, 7.1, 7.5, 3.3, 1.8, 2.6, 5.3, 5.8, 5.8, 7.2, 5.3, 1.6, 3.1, 5.3, 7.7, 4.2, 5.5, 9.0, 11.2, 8.0, 7.6, 3.7, 7.5, 8.1, 8.4, 7.1, 7.6, 7.6, 5.6, 7.0, 10.5, 7.3, 7.8, 5.8, 3.8, 5.8, 6.7, 6.6, 6.6, 9.0, 8.1, 5.1, 8.6, 7.0, 5.5, 7.4, 6.2, 4.2, 6.3, 7.0, 4.0, 8.0, 8.8, 8.8, 6.1, 8.6, 8.9, 7.8, 5.0, 7.0, 13.3, 7.9, 7.5, 8.3, 7.2, 6.5, 8.9, 7.4, 9.9, 9.3, 10.6, 8.6, 7.2, 12.6, 7.8, 6.3, 9.2, 5.8, 9.0, 5.0, 11.9, 13.4, 10.5, 6.2, 5.1, 9.5, 11.7, 9.2, 7.3, 9.7, 9.4, 10.0, 10.9, 11.0, 10.9, 8.0, 11.2, 7.5, 7.2, 13.2, 12.9, 9.4, 10.2, 9.5, 12.4, 10.2, 13.4, 11.6, 8.0, 9.0, 9.3, 13.5, 8.0, 8.1, 10.0, 8.5, 12.5, 15.0, 13.3, 11.0, 11.9, 8.3, 9.7, 11.3, 12.5, 9.4, 11.4, 13.2, 13.8, 16.0, 10.9, 11.9, 12.4, 13.2, 15.5, 21.6, 14.9, 14.4, 12.9, 13.1, 14.0, 17.9, 17.7, 16.3, 18.3, 13.7, 13.3, 10.6, 14.1, 16.0, 16.5, 14.1, 18.7, 16.2, 14.8, 12.6, 10.4, 12.2, 12.6, 12.1, 17.3, 16.4, 12.6, 12.3, 11.8, 12.0, 12.7, 16.4, 16.0, 13.3, 11.7, 10.4, 14.4, 12.7, 14.8, 13.3, 15.6, 14.5, 14.3, 15.3, 16.4, 14.8, 17.4, 18.8, 22.1, 19.0, 15.5, 15.8, 14.7, 10.7, 11.5, 15.0, 14.5, 14.5, 13.3, 14.3, 14.3, 20.5, 15.0, 17.1, 16.9, 16.9, 13.6, 16.4, 16.1, 12.0, 12.2, 14.8, 14.8, 14.4, 12.9, 13.4, 15.9, 16.1, 17.6, 15.6, 15.0, 13.0, 14.1, 17.3, 15.7, 18.6, 12.7, 14.0, 13.7, 16.3, 20.0, 17.0, 15.2, 16.5, 16.5, 17.3, 19.1, 19.3, 17.3, 19.0, 19.8, 19.3, 17.2, 14.2, 10.3, 13.0, 15.3, 15.0, 12.1, 9.2, 11.0, 15.0, 11.6, 11.6, 15.1, 15.0, 13.6, 12.5, 14.3, 16.0, 17.4, 16.9, 18.0, 20.6, 14.2, 10.9, 11.9, 13.3, 15.3, 14.7, 11.0, 12.2, 14.2, 17.0, 15.8, 15.2, 15.1, 14.7, 18.5, 16.4, 18.4, 15.1, 9.9, 10.2, 12.6, 13.2, 11.5, 13.8, 14.5, 14.7, 11.2, 12.7, 13.7, 11.5, 10.4, 8.9, 11.1, 9.5, 13.0, 13.9, 12.6, 14.3, 16.0, 13.3, 7.0, 4.9, 6.9, 13.7, 10.6, 12.3, 11.1, 10.2, 9.5, 8.9, 13.4, 9.1, 9.4, 8.7, 5.8, 4.5, 7.2, 10.0, 10.5, 10.7, 8.2, 6.1, 4.5, 6.1, 9.8, 9.7, 8.2, 8.4, 8.5, 10.4, 6.8, 6.0, 6.6, 7.8, 10.3, 7.2, 7.4, 11.4, 5.4, 4.4, 6.4, 9.3, 7.7, 8.1, 8.3, 9.1, 7.7, 10.6, 8.2, 7.9, 5.2, 5.9, 3.7, 5.6, 9.4, 7.4, 7.3, 7.7, 7.7, 9.3, 4.4, 5.7, 10.2, 10.2, 9.3, 5.4, 5.0, 7.6, 9.6, 10.4, 11.2, 9.1, 11.2, 6.8, 8.3, 9.7, 9.6, 9.8, 10.8, 9.2, 6.5, 8.1, 7.3, 7.9, 6.0, 5.0, 6.8, 9.8, 5.7, 8.6, 10.6, 7.8, 7.7, 8.6, 6.5, 6.9, 6.4, 8.5, 7.8, 9.3, 8.4, 7.8, 7.4, 7.7, 8.9, 9.7, 9.9, 6.1, 6.6, 7.6, 7.4, 8.0, 2.1, 5.9, 11.6, 8.6, 7.9, 6.0, 9.5, 8.6, 7.6, 10.4, 10.3, 7.5, 3.0, 5.3, 10.5, 14.6, 12.6, 9.8, 7.2, 10.1, 10.4, 3.7, 7.3, 11.6, 16.3, 9.6, 6.8, 5.2, 10.6, 16.3, 9.8, 4.6, 11.1, 8.7, 10.0, 11.3, 10.5, 9.9, 11.0, 14.0, 9.2, 9.8, 6.0, 9.8, 9.2, 11.8, 10.3, 7.5, 7.7, 15.8, 14.6, 10.5, 11.3, 10.9, 6.4, 10.9, 9.0, 10.9, 12.4, 11.6, 13.3, 14.4, 18.4, 13.6, 14.9, 14.8, 15.4, 11.8, 13.0, 11.1, 12.5, 18.3, 19.2, 15.4, 13.1, 11.5, 8.6, 12.6, 13.8, 14.6, 13.2, 12.3, 8.8, 10.7, 9.9, 8.3, 15.0, 12.2, 10.5, 11.1, 13.0, 12.9, 8.8, 14.7, 14.7, 12.7, 13.3, 13.2, 16.2, 17.3, 20.5, 20.2, 19.4, 15.5, 14.1, 11.0, 11.1, 14.0, 11.4, 12.5, 13.4, 13.6, 13.9, 17.2, 14.7, 15.4, 13.1, 13.2, 13.9, 10.0, 12.9, 14.6, 14.0, 13.6, 13.5, 15.7, 13.0], \"yaxis\": \"y\"}],\n",
              "                        {\"height\": 600, \"legend\": {\"tracegroupgap\": 0}, \"margin\": {\"t\": 60}, \"template\": {\"data\": {\"bar\": [{\"error_x\": {\"color\": \"#2a3f5f\"}, \"error_y\": {\"color\": \"#2a3f5f\"}, \"marker\": {\"line\": {\"color\": \"#E5ECF6\", \"width\": 0.5}}, \"type\": \"bar\"}], \"barpolar\": [{\"marker\": {\"line\": {\"color\": \"#E5ECF6\", \"width\": 0.5}}, \"type\": \"barpolar\"}], \"carpet\": [{\"aaxis\": {\"endlinecolor\": \"#2a3f5f\", \"gridcolor\": \"white\", \"linecolor\": \"white\", \"minorgridcolor\": \"white\", \"startlinecolor\": \"#2a3f5f\"}, \"baxis\": {\"endlinecolor\": \"#2a3f5f\", \"gridcolor\": \"white\", \"linecolor\": \"white\", \"minorgridcolor\": \"white\", \"startlinecolor\": \"#2a3f5f\"}, \"type\": \"carpet\"}], \"choropleth\": [{\"colorbar\": {\"outlinewidth\": 0, \"ticks\": \"\"}, \"type\": \"choropleth\"}], \"contour\": [{\"colorbar\": {\"outlinewidth\": 0, \"ticks\": \"\"}, \"colorscale\": [[0.0, \"#0d0887\"], [0.1111111111111111, \"#46039f\"], [0.2222222222222222, \"#7201a8\"], [0.3333333333333333, \"#9c179e\"], [0.4444444444444444, \"#bd3786\"], [0.5555555555555556, \"#d8576b\"], [0.6666666666666666, \"#ed7953\"], [0.7777777777777778, \"#fb9f3a\"], [0.8888888888888888, \"#fdca26\"], [1.0, \"#f0f921\"]], \"type\": \"contour\"}], \"contourcarpet\": [{\"colorbar\": {\"outlinewidth\": 0, \"ticks\": \"\"}, \"type\": \"contourcarpet\"}], \"heatmap\": [{\"colorbar\": {\"outlinewidth\": 0, \"ticks\": \"\"}, \"colorscale\": [[0.0, \"#0d0887\"], [0.1111111111111111, \"#46039f\"], [0.2222222222222222, \"#7201a8\"], [0.3333333333333333, \"#9c179e\"], [0.4444444444444444, \"#bd3786\"], [0.5555555555555556, \"#d8576b\"], [0.6666666666666666, \"#ed7953\"], [0.7777777777777778, \"#fb9f3a\"], [0.8888888888888888, \"#fdca26\"], [1.0, \"#f0f921\"]], \"type\": \"heatmap\"}], \"heatmapgl\": [{\"colorbar\": {\"outlinewidth\": 0, \"ticks\": \"\"}, \"colorscale\": [[0.0, \"#0d0887\"], [0.1111111111111111, \"#46039f\"], [0.2222222222222222, \"#7201a8\"], [0.3333333333333333, \"#9c179e\"], [0.4444444444444444, \"#bd3786\"], [0.5555555555555556, \"#d8576b\"], [0.6666666666666666, \"#ed7953\"], [0.7777777777777778, \"#fb9f3a\"], [0.8888888888888888, \"#fdca26\"], [1.0, \"#f0f921\"]], \"type\": \"heatmapgl\"}], \"histogram\": [{\"marker\": {\"colorbar\": {\"outlinewidth\": 0, \"ticks\": \"\"}}, \"type\": \"histogram\"}], \"histogram2d\": [{\"colorbar\": {\"outlinewidth\": 0, \"ticks\": \"\"}, \"colorscale\": [[0.0, \"#0d0887\"], [0.1111111111111111, \"#46039f\"], [0.2222222222222222, \"#7201a8\"], [0.3333333333333333, \"#9c179e\"], [0.4444444444444444, \"#bd3786\"], [0.5555555555555556, \"#d8576b\"], [0.6666666666666666, \"#ed7953\"], [0.7777777777777778, \"#fb9f3a\"], [0.8888888888888888, \"#fdca26\"], [1.0, \"#f0f921\"]], \"type\": \"histogram2d\"}], \"histogram2dcontour\": [{\"colorbar\": {\"outlinewidth\": 0, \"ticks\": \"\"}, \"colorscale\": [[0.0, \"#0d0887\"], [0.1111111111111111, \"#46039f\"], [0.2222222222222222, \"#7201a8\"], [0.3333333333333333, \"#9c179e\"], [0.4444444444444444, \"#bd3786\"], [0.5555555555555556, \"#d8576b\"], [0.6666666666666666, \"#ed7953\"], [0.7777777777777778, \"#fb9f3a\"], [0.8888888888888888, \"#fdca26\"], [1.0, \"#f0f921\"]], \"type\": \"histogram2dcontour\"}], \"mesh3d\": [{\"colorbar\": {\"outlinewidth\": 0, \"ticks\": \"\"}, \"type\": \"mesh3d\"}], \"parcoords\": [{\"line\": {\"colorbar\": {\"outlinewidth\": 0, \"ticks\": \"\"}}, \"type\": \"parcoords\"}], \"scatter\": [{\"marker\": {\"colorbar\": {\"outlinewidth\": 0, \"ticks\": \"\"}}, \"type\": \"scatter\"}], \"scatter3d\": [{\"line\": {\"colorbar\": {\"outlinewidth\": 0, \"ticks\": \"\"}}, \"marker\": {\"colorbar\": {\"outlinewidth\": 0, \"ticks\": \"\"}}, \"type\": \"scatter3d\"}], \"scattercarpet\": [{\"marker\": {\"colorbar\": {\"outlinewidth\": 0, \"ticks\": \"\"}}, \"type\": \"scattercarpet\"}], \"scattergeo\": [{\"marker\": {\"colorbar\": {\"outlinewidth\": 0, \"ticks\": \"\"}}, \"type\": \"scattergeo\"}], \"scattergl\": [{\"marker\": {\"colorbar\": {\"outlinewidth\": 0, \"ticks\": \"\"}}, \"type\": \"scattergl\"}], \"scattermapbox\": [{\"marker\": {\"colorbar\": {\"outlinewidth\": 0, \"ticks\": \"\"}}, \"type\": \"scattermapbox\"}], \"scatterpolar\": [{\"marker\": {\"colorbar\": {\"outlinewidth\": 0, \"ticks\": \"\"}}, \"type\": \"scatterpolar\"}], \"scatterpolargl\": [{\"marker\": {\"colorbar\": {\"outlinewidth\": 0, \"ticks\": \"\"}}, \"type\": \"scatterpolargl\"}], \"scatterternary\": [{\"marker\": {\"colorbar\": {\"outlinewidth\": 0, \"ticks\": \"\"}}, \"type\": \"scatterternary\"}], \"surface\": [{\"colorbar\": {\"outlinewidth\": 0, \"ticks\": \"\"}, \"colorscale\": [[0.0, \"#0d0887\"], [0.1111111111111111, \"#46039f\"], [0.2222222222222222, \"#7201a8\"], [0.3333333333333333, \"#9c179e\"], [0.4444444444444444, \"#bd3786\"], [0.5555555555555556, \"#d8576b\"], [0.6666666666666666, \"#ed7953\"], [0.7777777777777778, \"#fb9f3a\"], [0.8888888888888888, \"#fdca26\"], [1.0, \"#f0f921\"]], \"type\": \"surface\"}], \"table\": [{\"cells\": {\"fill\": {\"color\": \"#EBF0F8\"}, \"line\": {\"color\": \"white\"}}, \"header\": {\"fill\": {\"color\": \"#C8D4E3\"}, \"line\": {\"color\": \"white\"}}, \"type\": \"table\"}]}, \"layout\": {\"annotationdefaults\": {\"arrowcolor\": \"#2a3f5f\", \"arrowhead\": 0, \"arrowwidth\": 1}, \"colorscale\": {\"diverging\": [[0, \"#8e0152\"], [0.1, \"#c51b7d\"], [0.2, \"#de77ae\"], [0.3, \"#f1b6da\"], [0.4, \"#fde0ef\"], [0.5, \"#f7f7f7\"], [0.6, \"#e6f5d0\"], [0.7, \"#b8e186\"], [0.8, \"#7fbc41\"], [0.9, \"#4d9221\"], [1, \"#276419\"]], \"sequential\": [[0.0, \"#0d0887\"], [0.1111111111111111, \"#46039f\"], [0.2222222222222222, \"#7201a8\"], [0.3333333333333333, \"#9c179e\"], [0.4444444444444444, \"#bd3786\"], [0.5555555555555556, \"#d8576b\"], [0.6666666666666666, \"#ed7953\"], [0.7777777777777778, \"#fb9f3a\"], [0.8888888888888888, \"#fdca26\"], [1.0, \"#f0f921\"]], \"sequentialminus\": [[0.0, \"#0d0887\"], [0.1111111111111111, \"#46039f\"], [0.2222222222222222, \"#7201a8\"], [0.3333333333333333, \"#9c179e\"], [0.4444444444444444, \"#bd3786\"], [0.5555555555555556, \"#d8576b\"], [0.6666666666666666, \"#ed7953\"], [0.7777777777777778, \"#fb9f3a\"], [0.8888888888888888, \"#fdca26\"], [1.0, \"#f0f921\"]]}, \"colorway\": [\"#636efa\", \"#EF553B\", \"#00cc96\", \"#ab63fa\", \"#FFA15A\", \"#19d3f3\", \"#FF6692\", \"#B6E880\", \"#FF97FF\", \"#FECB52\"], \"font\": {\"color\": \"#2a3f5f\"}, \"geo\": {\"bgcolor\": \"white\", \"lakecolor\": \"white\", \"landcolor\": \"#E5ECF6\", \"showlakes\": true, \"showland\": true, \"subunitcolor\": \"white\"}, \"hoverlabel\": {\"align\": \"left\"}, \"hovermode\": \"closest\", \"mapbox\": {\"style\": \"light\"}, \"paper_bgcolor\": \"white\", \"plot_bgcolor\": \"#E5ECF6\", \"polar\": {\"angularaxis\": {\"gridcolor\": \"white\", \"linecolor\": \"white\", \"ticks\": \"\"}, \"bgcolor\": \"#E5ECF6\", \"radialaxis\": {\"gridcolor\": \"white\", \"linecolor\": \"white\", \"ticks\": \"\"}}, \"scene\": {\"xaxis\": {\"backgroundcolor\": \"#E5ECF6\", \"gridcolor\": \"white\", \"gridwidth\": 2, \"linecolor\": \"white\", \"showbackground\": true, \"ticks\": \"\", \"zerolinecolor\": \"white\"}, \"yaxis\": {\"backgroundcolor\": \"#E5ECF6\", \"gridcolor\": \"white\", \"gridwidth\": 2, \"linecolor\": \"white\", \"showbackground\": true, \"ticks\": \"\", \"zerolinecolor\": \"white\"}, \"zaxis\": {\"backgroundcolor\": \"#E5ECF6\", \"gridcolor\": \"white\", \"gridwidth\": 2, \"linecolor\": \"white\", \"showbackground\": true, \"ticks\": \"\", \"zerolinecolor\": \"white\"}}, \"shapedefaults\": {\"line\": {\"color\": \"#2a3f5f\"}}, \"ternary\": {\"aaxis\": {\"gridcolor\": \"white\", \"linecolor\": \"white\", \"ticks\": \"\"}, \"baxis\": {\"gridcolor\": \"white\", \"linecolor\": \"white\", \"ticks\": \"\"}, \"bgcolor\": \"#E5ECF6\", \"caxis\": {\"gridcolor\": \"white\", \"linecolor\": \"white\", \"ticks\": \"\"}}, \"title\": {\"x\": 0.05}, \"xaxis\": {\"automargin\": true, \"gridcolor\": \"white\", \"linecolor\": \"white\", \"ticks\": \"\", \"zerolinecolor\": \"white\", \"zerolinewidth\": 2}, \"yaxis\": {\"automargin\": true, \"gridcolor\": \"white\", \"linecolor\": \"white\", \"ticks\": \"\", \"zerolinecolor\": \"white\", \"zerolinewidth\": 2}}}, \"xaxis\": {\"anchor\": \"y\", \"domain\": [0.0, 0.98], \"title\": {\"text\": \"Date\"}}, \"yaxis\": {\"anchor\": \"x\", \"domain\": [0.0, 1.0], \"title\": {\"text\": \"Temp\"}}},\n",
              "                        {\"responsive\": true}\n",
              "                    ).then(function(){\n",
              "                            \n",
              "var gd = document.getElementById('927d18db-4074-43b1-87c9-3dbc9f80d3e7');\n",
              "var x = new MutationObserver(function (mutations, observer) {{\n",
              "        var display = window.getComputedStyle(gd).display;\n",
              "        if (!display || display === 'none') {{\n",
              "            console.log([gd, 'removed!']);\n",
              "            Plotly.purge(gd);\n",
              "            observer.disconnect();\n",
              "        }}\n",
              "}});\n",
              "\n",
              "// Listen for the removal of the full notebook cells\n",
              "var notebookContainer = gd.closest('#notebook-container');\n",
              "if (notebookContainer) {{\n",
              "    x.observe(notebookContainer, {childList: true});\n",
              "}}\n",
              "\n",
              "// Listen for the clearing of the current output cell\n",
              "var outputEl = gd.closest('.output');\n",
              "if (outputEl) {{\n",
              "    x.observe(outputEl, {childList: true});\n",
              "}}\n",
              "\n",
              "                        })\n",
              "                };\n",
              "                \n",
              "            </script>\n",
              "        </div>\n",
              "</body>\n",
              "</html>"
            ]
          },
          "metadata": {
            "tags": []
          }
        }
      ]
    },
    {
      "cell_type": "markdown",
      "metadata": {
        "id": "ewWdYGReRPG3",
        "colab_type": "text"
      },
      "source": [
        "##2. Introduction"
      ]
    },
    {
      "cell_type": "markdown",
      "metadata": {
        "id": "cTs_EGHKRPG7",
        "colab_type": "text"
      },
      "source": [
        "The `train_test_split` function can split one or more datasets.\n",
        "Typically it splits two (the features and the target) as below.\n",
        "\n",
        "For example,"
      ]
    },
    {
      "cell_type": "code",
      "metadata": {
        "id": "1Ern7qKqRPG8",
        "colab_type": "code",
        "colab": {}
      },
      "source": [
        "x_train, x_test, y_train, y_test = train_test_split(iris_features, iris_target)"
      ],
      "execution_count": 0,
      "outputs": []
    },
    {
      "cell_type": "markdown",
      "metadata": {
        "id": "PrvHPkhYRPG-",
        "colab_type": "text"
      },
      "source": [
        "Notice that the two train datasets have the same number of rows."
      ]
    },
    {
      "cell_type": "code",
      "metadata": {
        "id": "x6xFu4NnRPG_",
        "colab_type": "code",
        "colab": {}
      },
      "source": [
        "x_train.shape, y_train.shape"
      ],
      "execution_count": 0,
      "outputs": []
    },
    {
      "cell_type": "markdown",
      "metadata": {
        "id": "7SacpO6vRPHB",
        "colab_type": "text"
      },
      "source": [
        "Notice that the two test have the same number of rows."
      ]
    },
    {
      "cell_type": "code",
      "metadata": {
        "id": "fs_F36FCRPHC",
        "colab_type": "code",
        "colab": {}
      },
      "source": [
        "x_test.shape, y_test.shape"
      ],
      "execution_count": 0,
      "outputs": []
    },
    {
      "cell_type": "markdown",
      "metadata": {
        "id": "j34ufcjoRPHF",
        "colab_type": "text"
      },
      "source": [
        "Notice that the pair of \"x\" datasets have identical numbers of columns and that the \"y\" datasets have only one dimension."
      ]
    },
    {
      "cell_type": "markdown",
      "metadata": {
        "id": "HRigurqL4OSP",
        "colab_type": "text"
      },
      "source": [
        "## Time series"
      ]
    },
    {
      "cell_type": "code",
      "metadata": {
        "id": "AtAra-nh50AT",
        "colab_type": "code",
        "colab": {}
      },
      "source": [
        "def train_test_split_timeseries(pdf, train_pct=0.8, start_test=None, target_column_name=None):\n",
        "  assert target_column_name is not None, \"target_column_name cannot be None\"\n",
        "  import pandas as pd\n",
        "  from datetime import timedelta\n",
        "  if start_test is not None:\n",
        "    start_test_dt  = pd.to_datetime(start_test)\n",
        "\n",
        "  if start_test_dt > pdf.index.max(): # create a test set\n",
        "    return {'train_x': pdf.loc[:start_test].drop(target_column_name),\n",
        "            'train_y': pdf.loc[:start_test].loc[:,[target_col_num]],\n",
        "            'test_x' : pdf.loc[start_test:].drop(target_column_name),\n",
        "            'test_y' : pdf.loc[start_test:].loc[:,[target_col_num]],\n",
        "           }"
      ],
      "execution_count": 0,
      "outputs": []
    },
    {
      "cell_type": "markdown",
      "metadata": {
        "id": "RcvnIJMQAbKi",
        "colab_type": "text"
      },
      "source": [
        "## Time series datasets"
      ]
    },
    {
      "cell_type": "code",
      "metadata": {
        "id": "4Xm11myc-lDv",
        "colab_type": "code",
        "colab": {
          "base_uri": "https://localhost:8080/",
          "height": 286
        },
        "outputId": "fd0be55a-3caa-41b4-ce0a-ec33a30fae4d"
      },
      "source": [
        "train_test_split_timeseries(sample_timeseries_pdf, target_column_name='')"
      ],
      "execution_count": 15,
      "outputs": [
        {
          "output_type": "error",
          "ename": "UnboundLocalError",
          "evalue": "ignored",
          "traceback": [
            "\u001b[0;31m---------------------------------------------------------------------------\u001b[0m",
            "\u001b[0;31mUnboundLocalError\u001b[0m                         Traceback (most recent call last)",
            "\u001b[0;32m<ipython-input-15-517eddc43c9e>\u001b[0m in \u001b[0;36m<module>\u001b[0;34m()\u001b[0m\n\u001b[0;32m----> 1\u001b[0;31m \u001b[0mtrain_test_split_timeseries\u001b[0m\u001b[0;34m(\u001b[0m\u001b[0msample_timeseries_pdf\u001b[0m\u001b[0;34m,\u001b[0m \u001b[0mtarget_column_name\u001b[0m\u001b[0;34m=\u001b[0m\u001b[0;34m''\u001b[0m\u001b[0;34m)\u001b[0m\u001b[0;34m\u001b[0m\u001b[0;34m\u001b[0m\u001b[0m\n\u001b[0m",
            "\u001b[0;32m<ipython-input-7-b5be7dc75557>\u001b[0m in \u001b[0;36mtrain_test_split_timeseries\u001b[0;34m(pdf, train_pct, start_test, target_column_name)\u001b[0m\n\u001b[1;32m      6\u001b[0m     \u001b[0mstart_test_dt\u001b[0m  \u001b[0;34m=\u001b[0m \u001b[0mpd\u001b[0m\u001b[0;34m.\u001b[0m\u001b[0mto_datetime\u001b[0m\u001b[0;34m(\u001b[0m\u001b[0mstart_test\u001b[0m\u001b[0;34m)\u001b[0m\u001b[0;34m\u001b[0m\u001b[0;34m\u001b[0m\u001b[0m\n\u001b[1;32m      7\u001b[0m \u001b[0;34m\u001b[0m\u001b[0m\n\u001b[0;32m----> 8\u001b[0;31m   \u001b[0;32mif\u001b[0m \u001b[0mstart_test_dt\u001b[0m \u001b[0;34m>\u001b[0m \u001b[0mpdf\u001b[0m\u001b[0;34m.\u001b[0m\u001b[0mindex\u001b[0m\u001b[0;34m.\u001b[0m\u001b[0mmax\u001b[0m\u001b[0;34m(\u001b[0m\u001b[0;34m)\u001b[0m\u001b[0;34m:\u001b[0m \u001b[0;31m# create a test set\u001b[0m\u001b[0;34m\u001b[0m\u001b[0;34m\u001b[0m\u001b[0m\n\u001b[0m\u001b[1;32m      9\u001b[0m     return {'train_x': pdf.loc[:start_test].drop(target_column_name),\n\u001b[1;32m     10\u001b[0m             \u001b[0;34m'train_y'\u001b[0m\u001b[0;34m:\u001b[0m \u001b[0mpdf\u001b[0m\u001b[0;34m.\u001b[0m\u001b[0mloc\u001b[0m\u001b[0;34m[\u001b[0m\u001b[0;34m:\u001b[0m\u001b[0mstart_test\u001b[0m\u001b[0;34m]\u001b[0m\u001b[0;34m.\u001b[0m\u001b[0mloc\u001b[0m\u001b[0;34m[\u001b[0m\u001b[0;34m:\u001b[0m\u001b[0;34m,\u001b[0m\u001b[0;34m[\u001b[0m\u001b[0mtarget_col_num\u001b[0m\u001b[0;34m]\u001b[0m\u001b[0;34m]\u001b[0m\u001b[0;34m,\u001b[0m\u001b[0;34m\u001b[0m\u001b[0;34m\u001b[0m\u001b[0m\n",
            "\u001b[0;31mUnboundLocalError\u001b[0m: local variable 'start_test_dt' referenced before assignment"
          ]
        }
      ]
    },
    {
      "cell_type": "code",
      "metadata": {
        "id": "RQbdZWYVECzZ",
        "colab_type": "code",
        "colab": {
          "base_uri": "https://localhost:8080/",
          "height": 542
        },
        "outputId": "683d7d78-0104-4085-9af9-343dab73d8a6"
      },
      "source": [
        "# Using graph_objects\n",
        "import plotly.graph_objects as go\n",
        "\n",
        "import pandas as pd\n",
        "df = pd.read_csv('https://raw.githubusercontent.com/plotly/datasets/master/finance-charts-apple.csv')\n",
        "\n",
        "fig = go.Figure([go.Scatter(x=df['Date'], y=df['AAPL.High'])])\n",
        "fig.show()"
      ],
      "execution_count": 3,
      "outputs": [
        {
          "output_type": "display_data",
          "data": {
            "text/html": [
              "<html>\n",
              "<head><meta charset=\"utf-8\" /></head>\n",
              "<body>\n",
              "    <div>\n",
              "            <script src=\"https://cdnjs.cloudflare.com/ajax/libs/mathjax/2.7.5/MathJax.js?config=TeX-AMS-MML_SVG\"></script><script type=\"text/javascript\">if (window.MathJax) {MathJax.Hub.Config({SVG: {font: \"STIX-Web\"}});}</script>\n",
              "                <script type=\"text/javascript\">window.PlotlyConfig = {MathJaxConfig: 'local'};</script>\n",
              "        <script src=\"https://cdn.plot.ly/plotly-latest.min.js\"></script>    \n",
              "            <div id=\"8527592b-59fc-4dd4-9364-f84a8aaa136c\" class=\"plotly-graph-div\" style=\"height:525px; width:100%;\"></div>\n",
              "            <script type=\"text/javascript\">\n",
              "                \n",
              "                    window.PLOTLYENV=window.PLOTLYENV || {};\n",
              "                    \n",
              "                if (document.getElementById(\"8527592b-59fc-4dd4-9364-f84a8aaa136c\")) {\n",
              "                    Plotly.newPlot(\n",
              "                        '8527592b-59fc-4dd4-9364-f84a8aaa136c',\n",
              "                        [{\"type\": \"scatter\", \"x\": [\"2015-02-17\", \"2015-02-18\", \"2015-02-19\", \"2015-02-20\", \"2015-02-23\", \"2015-02-24\", \"2015-02-25\", \"2015-02-26\", \"2015-02-27\", \"2015-03-02\", \"2015-03-03\", \"2015-03-04\", \"2015-03-05\", \"2015-03-06\", \"2015-03-09\", \"2015-03-10\", \"2015-03-11\", \"2015-03-12\", \"2015-03-13\", \"2015-03-16\", \"2015-03-17\", \"2015-03-18\", \"2015-03-19\", \"2015-03-20\", \"2015-03-23\", \"2015-03-24\", \"2015-03-25\", \"2015-03-26\", \"2015-03-27\", \"2015-03-30\", \"2015-03-31\", \"2015-04-01\", \"2015-04-02\", \"2015-04-06\", \"2015-04-07\", \"2015-04-08\", \"2015-04-09\", \"2015-04-10\", \"2015-04-13\", \"2015-04-14\", \"2015-04-15\", \"2015-04-16\", \"2015-04-17\", \"2015-04-20\", \"2015-04-21\", \"2015-04-22\", \"2015-04-23\", \"2015-04-24\", \"2015-04-27\", \"2015-04-28\", \"2015-04-29\", \"2015-04-30\", \"2015-05-01\", \"2015-05-04\", \"2015-05-05\", \"2015-05-06\", \"2015-05-07\", \"2015-05-08\", \"2015-05-11\", \"2015-05-12\", \"2015-05-13\", \"2015-05-14\", \"2015-05-15\", \"2015-05-18\", \"2015-05-19\", \"2015-05-20\", \"2015-05-21\", \"2015-05-22\", \"2015-05-26\", \"2015-05-27\", \"2015-05-28\", \"2015-05-29\", \"2015-06-01\", \"2015-06-02\", \"2015-06-03\", \"2015-06-04\", \"2015-06-05\", \"2015-06-08\", \"2015-06-09\", \"2015-06-10\", \"2015-06-11\", \"2015-06-12\", \"2015-06-15\", \"2015-06-16\", \"2015-06-17\", \"2015-06-18\", \"2015-06-19\", \"2015-06-22\", \"2015-06-23\", \"2015-06-24\", \"2015-06-25\", \"2015-06-26\", \"2015-06-29\", \"2015-06-30\", \"2015-07-01\", \"2015-07-02\", \"2015-07-06\", \"2015-07-07\", \"2015-07-08\", \"2015-07-09\", \"2015-07-10\", \"2015-07-13\", \"2015-07-14\", \"2015-07-15\", \"2015-07-16\", \"2015-07-17\", \"2015-07-20\", \"2015-07-21\", \"2015-07-22\", \"2015-07-23\", \"2015-07-24\", \"2015-07-27\", \"2015-07-28\", \"2015-07-29\", \"2015-07-30\", \"2015-07-31\", \"2015-08-03\", \"2015-08-04\", \"2015-08-05\", \"2015-08-06\", \"2015-08-07\", \"2015-08-10\", \"2015-08-11\", \"2015-08-12\", \"2015-08-13\", \"2015-08-14\", \"2015-08-17\", \"2015-08-18\", \"2015-08-19\", \"2015-08-20\", \"2015-08-21\", \"2015-08-24\", \"2015-08-25\", \"2015-08-26\", \"2015-08-27\", \"2015-08-28\", \"2015-08-31\", \"2015-09-01\", \"2015-09-02\", \"2015-09-03\", \"2015-09-04\", \"2015-09-08\", \"2015-09-09\", \"2015-09-10\", \"2015-09-11\", \"2015-09-14\", \"2015-09-15\", \"2015-09-16\", \"2015-09-17\", \"2015-09-18\", \"2015-09-21\", \"2015-09-22\", \"2015-09-23\", \"2015-09-24\", \"2015-09-25\", \"2015-09-28\", \"2015-09-29\", \"2015-09-30\", \"2015-10-01\", \"2015-10-02\", \"2015-10-05\", \"2015-10-06\", \"2015-10-07\", \"2015-10-08\", \"2015-10-09\", \"2015-10-12\", \"2015-10-13\", \"2015-10-14\", \"2015-10-15\", \"2015-10-16\", \"2015-10-19\", \"2015-10-20\", \"2015-10-21\", \"2015-10-22\", \"2015-10-23\", \"2015-10-26\", \"2015-10-27\", \"2015-10-28\", \"2015-10-29\", \"2015-10-30\", \"2015-11-02\", \"2015-11-03\", \"2015-11-04\", \"2015-11-05\", \"2015-11-06\", \"2015-11-09\", \"2015-11-10\", \"2015-11-11\", \"2015-11-12\", \"2015-11-13\", \"2015-11-16\", \"2015-11-17\", \"2015-11-18\", \"2015-11-19\", \"2015-11-20\", \"2015-11-23\", \"2015-11-24\", \"2015-11-25\", \"2015-11-27\", \"2015-11-30\", \"2015-12-01\", \"2015-12-02\", \"2015-12-03\", \"2015-12-04\", \"2015-12-07\", \"2015-12-08\", \"2015-12-09\", \"2015-12-10\", \"2015-12-11\", \"2015-12-14\", \"2015-12-15\", \"2015-12-16\", \"2015-12-17\", \"2015-12-18\", \"2015-12-21\", \"2015-12-22\", \"2015-12-23\", \"2015-12-24\", \"2015-12-28\", \"2015-12-29\", \"2015-12-30\", \"2015-12-31\", \"2016-01-04\", \"2016-01-05\", \"2016-01-06\", \"2016-01-07\", \"2016-01-08\", \"2016-01-11\", \"2016-01-12\", \"2016-01-13\", \"2016-01-14\", \"2016-01-15\", \"2016-01-19\", \"2016-01-20\", \"2016-01-21\", \"2016-01-22\", \"2016-01-25\", \"2016-01-26\", \"2016-01-27\", \"2016-01-28\", \"2016-01-29\", \"2016-02-01\", \"2016-02-02\", \"2016-02-03\", \"2016-02-04\", \"2016-02-05\", \"2016-02-08\", \"2016-02-09\", \"2016-02-10\", \"2016-02-11\", \"2016-02-12\", \"2016-02-16\", \"2016-02-17\", \"2016-02-18\", \"2016-02-19\", \"2016-02-22\", \"2016-02-23\", \"2016-02-24\", \"2016-02-25\", \"2016-02-26\", \"2016-02-29\", \"2016-03-01\", \"2016-03-02\", \"2016-03-03\", \"2016-03-04\", \"2016-03-07\", \"2016-03-08\", \"2016-03-09\", \"2016-03-10\", \"2016-03-11\", \"2016-03-14\", \"2016-03-15\", \"2016-03-16\", \"2016-03-17\", \"2016-03-18\", \"2016-03-21\", \"2016-03-22\", \"2016-03-23\", \"2016-03-24\", \"2016-03-28\", \"2016-03-29\", \"2016-03-30\", \"2016-03-31\", \"2016-04-01\", \"2016-04-04\", \"2016-04-05\", \"2016-04-06\", \"2016-04-07\", \"2016-04-08\", \"2016-04-11\", \"2016-04-12\", \"2016-04-13\", \"2016-04-14\", \"2016-04-15\", \"2016-04-18\", \"2016-04-19\", \"2016-04-20\", \"2016-04-21\", \"2016-04-22\", \"2016-04-25\", \"2016-04-26\", \"2016-04-27\", \"2016-04-28\", \"2016-04-29\", \"2016-05-02\", \"2016-05-03\", \"2016-05-04\", \"2016-05-05\", \"2016-05-06\", \"2016-05-09\", \"2016-05-10\", \"2016-05-11\", \"2016-05-12\", \"2016-05-13\", \"2016-05-16\", \"2016-05-17\", \"2016-05-18\", \"2016-05-19\", \"2016-05-20\", \"2016-05-23\", \"2016-05-24\", \"2016-05-25\", \"2016-05-26\", \"2016-05-27\", \"2016-05-31\", \"2016-06-01\", \"2016-06-02\", \"2016-06-03\", \"2016-06-06\", \"2016-06-07\", \"2016-06-08\", \"2016-06-09\", \"2016-06-10\", \"2016-06-13\", \"2016-06-14\", \"2016-06-15\", \"2016-06-16\", \"2016-06-17\", \"2016-06-20\", \"2016-06-21\", \"2016-06-22\", \"2016-06-23\", \"2016-06-24\", \"2016-06-27\", \"2016-06-28\", \"2016-06-29\", \"2016-06-30\", \"2016-07-01\", \"2016-07-05\", \"2016-07-06\", \"2016-07-07\", \"2016-07-08\", \"2016-07-11\", \"2016-07-12\", \"2016-07-13\", \"2016-07-14\", \"2016-07-15\", \"2016-07-18\", \"2016-07-19\", \"2016-07-20\", \"2016-07-21\", \"2016-07-22\", \"2016-07-25\", \"2016-07-26\", \"2016-07-27\", \"2016-07-28\", \"2016-07-29\", \"2016-08-01\", \"2016-08-02\", \"2016-08-03\", \"2016-08-04\", \"2016-08-05\", \"2016-08-08\", \"2016-08-09\", \"2016-08-10\", \"2016-08-11\", \"2016-08-12\", \"2016-08-15\", \"2016-08-16\", \"2016-08-17\", \"2016-08-18\", \"2016-08-19\", \"2016-08-22\", \"2016-08-23\", \"2016-08-24\", \"2016-08-25\", \"2016-08-26\", \"2016-08-29\", \"2016-08-30\", \"2016-08-31\", \"2016-09-01\", \"2016-09-02\", \"2016-09-06\", \"2016-09-07\", \"2016-09-08\", \"2016-09-09\", \"2016-09-12\", \"2016-09-13\", \"2016-09-14\", \"2016-09-15\", \"2016-09-16\", \"2016-09-19\", \"2016-09-20\", \"2016-09-21\", \"2016-09-22\", \"2016-09-23\", \"2016-09-26\", \"2016-09-27\", \"2016-09-28\", \"2016-09-29\", \"2016-09-30\", \"2016-10-03\", \"2016-10-04\", \"2016-10-05\", \"2016-10-06\", \"2016-10-07\", \"2016-10-10\", \"2016-10-11\", \"2016-10-12\", \"2016-10-13\", \"2016-10-14\", \"2016-10-17\", \"2016-10-18\", \"2016-10-19\", \"2016-10-20\", \"2016-10-21\", \"2016-10-24\", \"2016-10-25\", \"2016-10-26\", \"2016-10-27\", \"2016-10-28\", \"2016-10-31\", \"2016-11-01\", \"2016-11-02\", \"2016-11-03\", \"2016-11-04\", \"2016-11-07\", \"2016-11-08\", \"2016-11-09\", \"2016-11-10\", \"2016-11-11\", \"2016-11-14\", \"2016-11-15\", \"2016-11-16\", \"2016-11-17\", \"2016-11-18\", \"2016-11-21\", \"2016-11-22\", \"2016-11-23\", \"2016-11-25\", \"2016-11-28\", \"2016-11-29\", \"2016-11-30\", \"2016-12-01\", \"2016-12-02\", \"2016-12-05\", \"2016-12-06\", \"2016-12-07\", \"2016-12-08\", \"2016-12-09\", \"2016-12-12\", \"2016-12-13\", \"2016-12-14\", \"2016-12-15\", \"2016-12-16\", \"2016-12-19\", \"2016-12-20\", \"2016-12-21\", \"2016-12-22\", \"2016-12-23\", \"2016-12-27\", \"2016-12-28\", \"2016-12-29\", \"2016-12-30\", \"2017-01-03\", \"2017-01-04\", \"2017-01-05\", \"2017-01-06\", \"2017-01-09\", \"2017-01-10\", \"2017-01-11\", \"2017-01-12\", \"2017-01-13\", \"2017-01-17\", \"2017-01-18\", \"2017-01-19\", \"2017-01-20\", \"2017-01-23\", \"2017-01-24\", \"2017-01-25\", \"2017-01-26\", \"2017-01-27\", \"2017-01-30\", \"2017-01-31\", \"2017-02-01\", \"2017-02-02\", \"2017-02-03\", \"2017-02-06\", \"2017-02-07\", \"2017-02-08\", \"2017-02-09\", \"2017-02-10\", \"2017-02-13\", \"2017-02-14\", \"2017-02-15\", \"2017-02-16\"], \"y\": [128.880005, 128.779999, 129.029999, 129.5, 133.0, 133.600006, 131.600006, 130.869995, 130.570007, 130.279999, 129.520004, 129.559998, 128.75, 129.369995, 129.570007, 127.220001, 124.769997, 124.900002, 125.400002, 124.949997, 127.32, 129.16000400000001, 129.25, 128.399994, 127.849998, 128.03999299999998, 126.82, 124.879997, 124.699997, 126.400002, 126.489998, 125.120003, 125.559998, 127.510002, 128.119995, 126.400002, 126.58000200000001, 127.209999, 128.570007, 127.290001, 127.129997, 127.099998, 126.139999, 128.119995, 128.199997, 128.869995, 130.419998, 130.630005, 133.130005, 134.53999299999998, 131.58999599999999, 128.639999, 130.130005, 130.570007, 128.449997, 126.75, 126.08000200000001, 127.620003, 127.559998, 126.879997, 127.190002, 128.949997, 129.490005, 130.720001, 130.880005, 130.979996, 131.630005, 132.970001, 132.91000400000001, 132.259995, 131.949997, 131.449997, 131.389999, 130.66000400000001, 130.940002, 130.580002, 129.690002, 129.21000700000002, 128.080002, 129.33999599999999, 130.179993, 128.330002, 127.239998, 127.849998, 127.879997, 128.309998, 127.82, 128.059998, 127.610001, 129.800003, 129.199997, 127.989998, 126.470001, 126.120003, 126.940002, 126.690002, 126.230003, 126.150002, 124.639999, 124.059998, 123.849998, 125.760002, 126.370003, 127.150002, 128.570007, 129.619995, 132.970001, 132.919998, 125.5, 127.089996, 125.739998, 123.610001, 123.910004, 123.5, 122.57, 122.639999, 122.57, 117.699997, 117.440002, 116.5, 116.25, 119.989998, 118.18, 115.41999799999999, 116.400002, 116.309998, 117.650002, 117.440002, 116.519997, 114.349998, 111.900002, 108.800003, 111.110001, 109.889999, 113.239998, 113.309998, 114.529999, 111.879997, 112.339996, 112.779999, 110.449997, 112.559998, 114.019997, 113.279999, 114.209999, 116.889999, 116.529999, 116.540001, 116.489998, 114.300003, 115.370003, 114.18, 114.720001, 115.5, 116.690002, 114.57, 113.510002, 111.540001, 109.620003, 111.010002, 111.370003, 111.739998, 111.769997, 110.190002, 112.279999, 112.75, 112.449997, 111.519997, 112.099998, 112.0, 111.75, 114.16999799999999, 115.58000200000001, 115.5, 119.230003, 118.129997, 116.540001, 119.300003, 120.690002, 121.220001, 121.360001, 123.489998, 123.82, 122.690002, 121.809998, 121.809998, 118.07, 117.41999799999999, 116.82, 115.57, 114.239998, 115.050003, 117.489998, 119.75, 119.91999799999999, 119.730003, 119.349998, 119.230003, 118.410004, 119.410004, 118.809998, 118.110001, 116.790001, 119.25, 119.860001, 118.599998, 117.690002, 116.940002, 115.389999, 112.68, 112.800003, 111.989998, 112.25, 109.519997, 107.370003, 107.720001, 108.849998, 109.0, 107.690002, 109.43, 108.699997, 107.029999, 105.370003, 105.849998, 102.370003, 100.129997, 99.110001, 99.059998, 100.690002, 101.190002, 100.480003, 97.709999, 98.650002, 98.190002, 97.879997, 101.459999, 101.529999, 100.879997, 96.629997, 94.519997, 97.339996, 96.709999, 96.040001, 96.839996, 97.33000200000001, 96.91999799999999, 95.699997, 95.940002, 96.349998, 94.720001, 94.5, 96.849998, 98.209999, 98.889999, 96.760002, 96.900002, 96.5, 96.379997, 96.760002, 98.019997, 98.230003, 100.769997, 100.889999, 101.709999, 103.75, 102.83000200000001, 101.760002, 101.58000200000001, 102.239998, 102.279999, 102.910004, 105.18, 106.309998, 106.470001, 106.5, 107.650002, 107.290001, 107.07, 106.25, 106.190002, 107.790001, 110.41999799999999, 109.900002, 110.0, 112.190002, 110.730003, 110.980003, 110.41999799999999, 109.769997, 110.610001, 110.5, 112.339996, 112.389999, 112.300003, 108.949997, 108.0, 108.089996, 106.93, 106.480003, 105.650002, 105.300003, 98.709999, 97.879997, 94.720001, 94.08000200000001, 95.739998, 95.900002, 94.07, 93.449997, 93.769997, 93.57, 93.57, 92.779999, 91.66999799999999, 94.389999, 94.699997, 95.209999, 94.639999, 95.43, 97.190002, 98.089996, 99.739998, 100.730003, 100.470001, 100.400002, 99.540001, 97.839996, 98.269997, 101.889999, 99.870003, 99.559998, 99.989998, 99.349998, 99.120003, 98.480003, 98.410004, 97.75, 96.650002, 96.57, 96.349998, 96.889999, 96.290001, 94.660004, 93.050003, 93.660004, 94.550003, 95.769997, 96.470001, 95.400002, 95.660004, 96.5, 96.889999, 97.650002, 97.699997, 97.66999799999999, 98.989998, 99.300003, 100.129997, 100.0, 100.459999, 101.0, 99.300003, 98.839996, 97.970001, 104.349998, 104.449997, 104.550003, 106.150002, 106.07, 105.839996, 106.0, 107.650002, 108.370003, 108.940002, 108.900002, 108.93, 108.440002, 109.540001, 110.230003, 109.370003, 109.599998, 109.690002, 109.099998, 109.32, 108.75, 107.879997, 107.949997, 107.440002, 106.5, 106.57, 106.800003, 108.0, 108.300003, 108.760002, 107.269997, 105.720001, 105.720001, 108.790001, 113.029999, 115.730003, 116.129997, 116.18, 114.120003, 113.989998, 114.940002, 114.790001, 113.389999, 113.18, 114.639999, 113.800003, 113.370003, 113.050003, 114.309998, 113.660004, 114.339996, 114.559998, 116.75, 118.690002, 117.980003, 117.440002, 118.16999799999999, 117.839996, 118.209999, 117.760002, 117.379997, 116.910004, 117.739998, 118.360001, 115.699997, 115.860001, 115.209999, 114.230003, 113.769997, 112.349998, 111.459999, 110.25, 110.510002, 111.720001, 111.32, 111.089996, 108.870003, 107.809998, 107.68, 110.230003, 110.349998, 110.540001, 111.989998, 112.41999799999999, 111.510002, 111.870003, 112.470001, 112.029999, 112.199997, 110.940002, 110.089996, 110.029999, 110.360001, 111.190002, 112.43, 114.699997, 115.0, 115.91999799999999, 116.199997, 116.730003, 116.5, 117.379997, 117.5, 117.400002, 116.510002, 116.519997, 117.800003, 118.019997, 117.110001, 117.199997, 116.33000200000001, 116.510002, 116.860001, 118.160004, 119.43, 119.379997, 119.93, 119.300003, 119.620003, 120.239998, 120.5, 120.089996, 120.449997, 120.809998, 120.099998, 122.099998, 122.440002, 122.349998, 121.629997, 121.389999, 130.490005, 129.389999, 129.190002, 130.5, 132.08999599999999, 132.220001, 132.449997, 132.940002, 133.820007, 135.08999599999999, 136.270004, 135.899994]}],\n",
              "                        {\"template\": {\"data\": {\"bar\": [{\"error_x\": {\"color\": \"#2a3f5f\"}, \"error_y\": {\"color\": \"#2a3f5f\"}, \"marker\": {\"line\": {\"color\": \"#E5ECF6\", \"width\": 0.5}}, \"type\": \"bar\"}], \"barpolar\": [{\"marker\": {\"line\": {\"color\": \"#E5ECF6\", \"width\": 0.5}}, \"type\": \"barpolar\"}], \"carpet\": [{\"aaxis\": {\"endlinecolor\": \"#2a3f5f\", \"gridcolor\": \"white\", \"linecolor\": \"white\", \"minorgridcolor\": \"white\", \"startlinecolor\": \"#2a3f5f\"}, \"baxis\": {\"endlinecolor\": \"#2a3f5f\", \"gridcolor\": \"white\", \"linecolor\": \"white\", \"minorgridcolor\": \"white\", \"startlinecolor\": \"#2a3f5f\"}, \"type\": \"carpet\"}], \"choropleth\": [{\"colorbar\": {\"outlinewidth\": 0, \"ticks\": \"\"}, \"type\": \"choropleth\"}], \"contour\": [{\"colorbar\": {\"outlinewidth\": 0, \"ticks\": \"\"}, \"colorscale\": [[0.0, \"#0d0887\"], [0.1111111111111111, \"#46039f\"], [0.2222222222222222, \"#7201a8\"], [0.3333333333333333, \"#9c179e\"], [0.4444444444444444, \"#bd3786\"], [0.5555555555555556, \"#d8576b\"], [0.6666666666666666, \"#ed7953\"], [0.7777777777777778, \"#fb9f3a\"], [0.8888888888888888, \"#fdca26\"], [1.0, \"#f0f921\"]], \"type\": \"contour\"}], \"contourcarpet\": [{\"colorbar\": {\"outlinewidth\": 0, \"ticks\": \"\"}, \"type\": \"contourcarpet\"}], \"heatmap\": [{\"colorbar\": {\"outlinewidth\": 0, \"ticks\": \"\"}, \"colorscale\": [[0.0, \"#0d0887\"], [0.1111111111111111, \"#46039f\"], [0.2222222222222222, \"#7201a8\"], [0.3333333333333333, \"#9c179e\"], [0.4444444444444444, \"#bd3786\"], [0.5555555555555556, \"#d8576b\"], [0.6666666666666666, \"#ed7953\"], [0.7777777777777778, \"#fb9f3a\"], [0.8888888888888888, \"#fdca26\"], [1.0, \"#f0f921\"]], \"type\": \"heatmap\"}], \"heatmapgl\": [{\"colorbar\": {\"outlinewidth\": 0, \"ticks\": \"\"}, \"colorscale\": [[0.0, \"#0d0887\"], [0.1111111111111111, \"#46039f\"], [0.2222222222222222, \"#7201a8\"], [0.3333333333333333, \"#9c179e\"], [0.4444444444444444, \"#bd3786\"], [0.5555555555555556, \"#d8576b\"], [0.6666666666666666, \"#ed7953\"], [0.7777777777777778, \"#fb9f3a\"], [0.8888888888888888, \"#fdca26\"], [1.0, \"#f0f921\"]], \"type\": \"heatmapgl\"}], \"histogram\": [{\"marker\": {\"colorbar\": {\"outlinewidth\": 0, \"ticks\": \"\"}}, \"type\": \"histogram\"}], \"histogram2d\": [{\"colorbar\": {\"outlinewidth\": 0, \"ticks\": \"\"}, \"colorscale\": [[0.0, \"#0d0887\"], [0.1111111111111111, \"#46039f\"], [0.2222222222222222, \"#7201a8\"], [0.3333333333333333, \"#9c179e\"], [0.4444444444444444, \"#bd3786\"], [0.5555555555555556, \"#d8576b\"], [0.6666666666666666, \"#ed7953\"], [0.7777777777777778, \"#fb9f3a\"], [0.8888888888888888, \"#fdca26\"], [1.0, \"#f0f921\"]], \"type\": \"histogram2d\"}], \"histogram2dcontour\": [{\"colorbar\": {\"outlinewidth\": 0, \"ticks\": \"\"}, \"colorscale\": [[0.0, \"#0d0887\"], [0.1111111111111111, \"#46039f\"], [0.2222222222222222, \"#7201a8\"], [0.3333333333333333, \"#9c179e\"], [0.4444444444444444, \"#bd3786\"], [0.5555555555555556, \"#d8576b\"], [0.6666666666666666, \"#ed7953\"], [0.7777777777777778, \"#fb9f3a\"], [0.8888888888888888, \"#fdca26\"], [1.0, \"#f0f921\"]], \"type\": \"histogram2dcontour\"}], \"mesh3d\": [{\"colorbar\": {\"outlinewidth\": 0, \"ticks\": \"\"}, \"type\": \"mesh3d\"}], \"parcoords\": [{\"line\": {\"colorbar\": {\"outlinewidth\": 0, \"ticks\": \"\"}}, \"type\": \"parcoords\"}], \"scatter\": [{\"marker\": {\"colorbar\": {\"outlinewidth\": 0, \"ticks\": \"\"}}, \"type\": \"scatter\"}], \"scatter3d\": [{\"line\": {\"colorbar\": {\"outlinewidth\": 0, \"ticks\": \"\"}}, \"marker\": {\"colorbar\": {\"outlinewidth\": 0, \"ticks\": \"\"}}, \"type\": \"scatter3d\"}], \"scattercarpet\": [{\"marker\": {\"colorbar\": {\"outlinewidth\": 0, \"ticks\": \"\"}}, \"type\": \"scattercarpet\"}], \"scattergeo\": [{\"marker\": {\"colorbar\": {\"outlinewidth\": 0, \"ticks\": \"\"}}, \"type\": \"scattergeo\"}], \"scattergl\": [{\"marker\": {\"colorbar\": {\"outlinewidth\": 0, \"ticks\": \"\"}}, \"type\": \"scattergl\"}], \"scattermapbox\": [{\"marker\": {\"colorbar\": {\"outlinewidth\": 0, \"ticks\": \"\"}}, \"type\": \"scattermapbox\"}], \"scatterpolar\": [{\"marker\": {\"colorbar\": {\"outlinewidth\": 0, \"ticks\": \"\"}}, \"type\": \"scatterpolar\"}], \"scatterpolargl\": [{\"marker\": {\"colorbar\": {\"outlinewidth\": 0, \"ticks\": \"\"}}, \"type\": \"scatterpolargl\"}], \"scatterternary\": [{\"marker\": {\"colorbar\": {\"outlinewidth\": 0, \"ticks\": \"\"}}, \"type\": \"scatterternary\"}], \"surface\": [{\"colorbar\": {\"outlinewidth\": 0, \"ticks\": \"\"}, \"colorscale\": [[0.0, \"#0d0887\"], [0.1111111111111111, \"#46039f\"], [0.2222222222222222, \"#7201a8\"], [0.3333333333333333, \"#9c179e\"], [0.4444444444444444, \"#bd3786\"], [0.5555555555555556, \"#d8576b\"], [0.6666666666666666, \"#ed7953\"], [0.7777777777777778, \"#fb9f3a\"], [0.8888888888888888, \"#fdca26\"], [1.0, \"#f0f921\"]], \"type\": \"surface\"}], \"table\": [{\"cells\": {\"fill\": {\"color\": \"#EBF0F8\"}, \"line\": {\"color\": \"white\"}}, \"header\": {\"fill\": {\"color\": \"#C8D4E3\"}, \"line\": {\"color\": \"white\"}}, \"type\": \"table\"}]}, \"layout\": {\"annotationdefaults\": {\"arrowcolor\": \"#2a3f5f\", \"arrowhead\": 0, \"arrowwidth\": 1}, \"colorscale\": {\"diverging\": [[0, \"#8e0152\"], [0.1, \"#c51b7d\"], [0.2, \"#de77ae\"], [0.3, \"#f1b6da\"], [0.4, \"#fde0ef\"], [0.5, \"#f7f7f7\"], [0.6, \"#e6f5d0\"], [0.7, \"#b8e186\"], [0.8, \"#7fbc41\"], [0.9, \"#4d9221\"], [1, \"#276419\"]], \"sequential\": [[0.0, \"#0d0887\"], [0.1111111111111111, \"#46039f\"], [0.2222222222222222, \"#7201a8\"], [0.3333333333333333, \"#9c179e\"], [0.4444444444444444, \"#bd3786\"], [0.5555555555555556, \"#d8576b\"], [0.6666666666666666, \"#ed7953\"], [0.7777777777777778, \"#fb9f3a\"], [0.8888888888888888, \"#fdca26\"], [1.0, \"#f0f921\"]], \"sequentialminus\": [[0.0, \"#0d0887\"], [0.1111111111111111, \"#46039f\"], [0.2222222222222222, \"#7201a8\"], [0.3333333333333333, \"#9c179e\"], [0.4444444444444444, \"#bd3786\"], [0.5555555555555556, \"#d8576b\"], [0.6666666666666666, \"#ed7953\"], [0.7777777777777778, \"#fb9f3a\"], [0.8888888888888888, \"#fdca26\"], [1.0, \"#f0f921\"]]}, \"colorway\": [\"#636efa\", \"#EF553B\", \"#00cc96\", \"#ab63fa\", \"#FFA15A\", \"#19d3f3\", \"#FF6692\", \"#B6E880\", \"#FF97FF\", \"#FECB52\"], \"font\": {\"color\": \"#2a3f5f\"}, \"geo\": {\"bgcolor\": \"white\", \"lakecolor\": \"white\", \"landcolor\": \"#E5ECF6\", \"showlakes\": true, \"showland\": true, \"subunitcolor\": \"white\"}, \"hoverlabel\": {\"align\": \"left\"}, \"hovermode\": \"closest\", \"mapbox\": {\"style\": \"light\"}, \"paper_bgcolor\": \"white\", \"plot_bgcolor\": \"#E5ECF6\", \"polar\": {\"angularaxis\": {\"gridcolor\": \"white\", \"linecolor\": \"white\", \"ticks\": \"\"}, \"bgcolor\": \"#E5ECF6\", \"radialaxis\": {\"gridcolor\": \"white\", \"linecolor\": \"white\", \"ticks\": \"\"}}, \"scene\": {\"xaxis\": {\"backgroundcolor\": \"#E5ECF6\", \"gridcolor\": \"white\", \"gridwidth\": 2, \"linecolor\": \"white\", \"showbackground\": true, \"ticks\": \"\", \"zerolinecolor\": \"white\"}, \"yaxis\": {\"backgroundcolor\": \"#E5ECF6\", \"gridcolor\": \"white\", \"gridwidth\": 2, \"linecolor\": \"white\", \"showbackground\": true, \"ticks\": \"\", \"zerolinecolor\": \"white\"}, \"zaxis\": {\"backgroundcolor\": \"#E5ECF6\", \"gridcolor\": \"white\", \"gridwidth\": 2, \"linecolor\": \"white\", \"showbackground\": true, \"ticks\": \"\", \"zerolinecolor\": \"white\"}}, \"shapedefaults\": {\"line\": {\"color\": \"#2a3f5f\"}}, \"ternary\": {\"aaxis\": {\"gridcolor\": \"white\", \"linecolor\": \"white\", \"ticks\": \"\"}, \"baxis\": {\"gridcolor\": \"white\", \"linecolor\": \"white\", \"ticks\": \"\"}, \"bgcolor\": \"#E5ECF6\", \"caxis\": {\"gridcolor\": \"white\", \"linecolor\": \"white\", \"ticks\": \"\"}}, \"title\": {\"x\": 0.05}, \"xaxis\": {\"automargin\": true, \"gridcolor\": \"white\", \"linecolor\": \"white\", \"ticks\": \"\", \"zerolinecolor\": \"white\", \"zerolinewidth\": 2}, \"yaxis\": {\"automargin\": true, \"gridcolor\": \"white\", \"linecolor\": \"white\", \"ticks\": \"\", \"zerolinecolor\": \"white\", \"zerolinewidth\": 2}}}},\n",
              "                        {\"responsive\": true}\n",
              "                    ).then(function(){\n",
              "                            \n",
              "var gd = document.getElementById('8527592b-59fc-4dd4-9364-f84a8aaa136c');\n",
              "var x = new MutationObserver(function (mutations, observer) {{\n",
              "        var display = window.getComputedStyle(gd).display;\n",
              "        if (!display || display === 'none') {{\n",
              "            console.log([gd, 'removed!']);\n",
              "            Plotly.purge(gd);\n",
              "            observer.disconnect();\n",
              "        }}\n",
              "}});\n",
              "\n",
              "// Listen for the removal of the full notebook cells\n",
              "var notebookContainer = gd.closest('#notebook-container');\n",
              "if (notebookContainer) {{\n",
              "    x.observe(notebookContainer, {childList: true});\n",
              "}}\n",
              "\n",
              "// Listen for the clearing of the current output cell\n",
              "var outputEl = gd.closest('.output');\n",
              "if (outputEl) {{\n",
              "    x.observe(outputEl, {childList: true});\n",
              "}}\n",
              "\n",
              "                        })\n",
              "                };\n",
              "                \n",
              "            </script>\n",
              "        </div>\n",
              "</body>\n",
              "</html>"
            ]
          },
          "metadata": {
            "tags": []
          }
        }
      ]
    },
    {
      "cell_type": "markdown",
      "metadata": {
        "id": "JPELgd8mRPHG",
        "colab_type": "text"
      },
      "source": [
        "__The End__ (test)"
      ]
    }
  ]
}