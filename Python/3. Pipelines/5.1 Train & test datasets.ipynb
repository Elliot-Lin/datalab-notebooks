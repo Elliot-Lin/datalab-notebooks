{
  "nbformat": 4,
  "nbformat_minor": 0,
  "metadata": {
    "colab": {
      "name": "5.1 Train & test datasets.ipynb",
      "version": "0.3.2",
      "provenance": []
    },
    "kernelspec": {
      "name": "python3",
      "display_name": "Python 3"
    }
  },
  "cells": [
    {
      "cell_type": "markdown",
      "metadata": {
        "id": "6GoVnL7QRPGk",
        "colab_type": "text"
      },
      "source": [
        "# Train & Test Datasets"
      ]
    },
    {
      "cell_type": "markdown",
      "metadata": {
        "id": "PCKTqMUFRPGp",
        "colab_type": "text"
      },
      "source": [
        "## Reference\n",
        "- https://scikit-learn.org/stable/modules/generated/sklearn.model_selection.train_test_split.html"
      ]
    },
    {
      "cell_type": "markdown",
      "metadata": {
        "id": "zCeZm-TwRPGq",
        "colab_type": "text"
      },
      "source": [
        "## Table of Contents\n",
        "1. Setup\n",
        "1. Introduction"
      ]
    },
    {
      "cell_type": "markdown",
      "metadata": {
        "id": "1GM-mxEURPGr",
        "colab_type": "text"
      },
      "source": [
        "##1. Setup"
      ]
    },
    {
      "cell_type": "markdown",
      "metadata": {
        "id": "lE3nRVn7RPGs",
        "colab_type": "text"
      },
      "source": [
        "When creating a supervised learning model the goal is prediction.\n",
        "\n",
        "In addition though, the goal is to predict well on future unseen data.\n",
        "The model should be:\n",
        "- trained on one batch of data (the train dataset)\n",
        "- evaluated on another batch of data (the test set)\n",
        "\n",
        "In some cases this is really easy.\n",
        "For these cases, Scikit-learn provides a function called `train_test_split` to separate a dataset into distinct train and test datasets. \n",
        "\n",
        "(Later notebooks will address the not so easy cases.)"
      ]
    },
    {
      "cell_type": "markdown",
      "metadata": {
        "id": "FxIsWumyRPGt",
        "colab_type": "text"
      },
      "source": [
        "Import the `pandas` and `numpy` libraries. In addition, import the `train_test_split` function which we use to create train and test datasets."
      ]
    },
    {
      "cell_type": "code",
      "metadata": {
        "id": "5iKsgHXpRPGu",
        "colab_type": "code",
        "colab": {}
      },
      "source": [
        "import pandas  as pd\n",
        "import numpy   as np\n",
        "import sklearn as sk\n",
        "from sklearn.model_selection import train_test_split"
      ],
      "execution_count": 0,
      "outputs": []
    },
    {
      "cell_type": "markdown",
      "metadata": {
        "id": "_53LqmHxRPGy",
        "colab_type": "text"
      },
      "source": [
        "Display the version numbers of the numpy, pandas and scikit-learn packages:"
      ]
    },
    {
      "cell_type": "code",
      "metadata": {
        "id": "ZVpiFs1MRPGz",
        "colab_type": "code",
        "colab": {
          "base_uri": "https://localhost:8080/",
          "height": 68
        },
        "outputId": "1c4ff01c-85ce-4128-962a-bdbd491cf3fd"
      },
      "source": [
        "print('numpy  :',np.__version__)\n",
        "print('pandas :',pd.__version__)\n",
        "print('sklearn:',sk.__version__)"
      ],
      "execution_count": 2,
      "outputs": [
        {
          "output_type": "stream",
          "text": [
            "numpy  : 1.16.4\n",
            "pandas : 0.24.2\n",
            "sklearn: 0.21.2\n"
          ],
          "name": "stdout"
        }
      ]
    },
    {
      "cell_type": "markdown",
      "metadata": {
        "id": "4UAfDppwRPG2",
        "colab_type": "text"
      },
      "source": [
        "Note that these version number may not be identical to the references provide above."
      ]
    },
    {
      "cell_type": "markdown",
      "metadata": {
        "id": "ewWdYGReRPG3",
        "colab_type": "text"
      },
      "source": [
        "##2. Introduction"
      ]
    },
    {
      "cell_type": "markdown",
      "metadata": {
        "id": "VCUXPmtpRPG4",
        "colab_type": "text"
      },
      "source": [
        "First, load the iris dataset for the demonstration."
      ]
    },
    {
      "cell_type": "code",
      "metadata": {
        "id": "M_jJ6wKZRPG5",
        "colab_type": "code",
        "colab": {
          "base_uri": "https://localhost:8080/",
          "height": 34
        },
        "outputId": "6378f5f8-40fb-4273-9cc1-7b597ee5b0ce"
      },
      "source": [
        "from sklearn.datasets import load_iris\n",
        "iris_features = load_iris().data\n",
        "iris_target   = load_iris().target\n",
        "iris_features.shape, iris_target.shape"
      ],
      "execution_count": 3,
      "outputs": [
        {
          "output_type": "execute_result",
          "data": {
            "text/plain": [
              "((150, 4), (150,))"
            ]
          },
          "metadata": {
            "tags": []
          },
          "execution_count": 3
        }
      ]
    },
    {
      "cell_type": "markdown",
      "metadata": {
        "id": "cTs_EGHKRPG7",
        "colab_type": "text"
      },
      "source": [
        "The `train_test_split` function can split one or more datasets.\n",
        "Typically it splits two (the features and the target) as below.\n",
        "\n",
        "For example,"
      ]
    },
    {
      "cell_type": "code",
      "metadata": {
        "id": "1Ern7qKqRPG8",
        "colab_type": "code",
        "colab": {}
      },
      "source": [
        "x_train, x_test, y_train, y_test = train_test_split(iris_features, iris_target)"
      ],
      "execution_count": 0,
      "outputs": []
    },
    {
      "cell_type": "markdown",
      "metadata": {
        "id": "PrvHPkhYRPG-",
        "colab_type": "text"
      },
      "source": [
        "Notice that the two train datasets have the same number of rows."
      ]
    },
    {
      "cell_type": "code",
      "metadata": {
        "id": "x6xFu4NnRPG_",
        "colab_type": "code",
        "colab": {
          "base_uri": "https://localhost:8080/",
          "height": 34
        },
        "outputId": "6490a6d5-27a4-4d0d-ff46-5336116f5d68"
      },
      "source": [
        "x_train.shape, y_train.shape"
      ],
      "execution_count": 5,
      "outputs": [
        {
          "output_type": "execute_result",
          "data": {
            "text/plain": [
              "((112, 4), (112,))"
            ]
          },
          "metadata": {
            "tags": []
          },
          "execution_count": 5
        }
      ]
    },
    {
      "cell_type": "markdown",
      "metadata": {
        "id": "7SacpO6vRPHB",
        "colab_type": "text"
      },
      "source": [
        "Notice that the two test have the same number of rows."
      ]
    },
    {
      "cell_type": "code",
      "metadata": {
        "id": "fs_F36FCRPHC",
        "colab_type": "code",
        "colab": {
          "base_uri": "https://localhost:8080/",
          "height": 34
        },
        "outputId": "d6f3fb32-2e51-48c9-f83f-1ac227d80867"
      },
      "source": [
        "x_test.shape, y_test.shape"
      ],
      "execution_count": 6,
      "outputs": [
        {
          "output_type": "execute_result",
          "data": {
            "text/plain": [
              "((38, 4), (38,))"
            ]
          },
          "metadata": {
            "tags": []
          },
          "execution_count": 6
        }
      ]
    },
    {
      "cell_type": "markdown",
      "metadata": {
        "id": "j34ufcjoRPHF",
        "colab_type": "text"
      },
      "source": [
        "Notice that the pair of \"x\" datasets have identical numbers of columns and that the \"y\" datasets have only one dimension."
      ]
    },
    {
      "cell_type": "markdown",
      "metadata": {
        "id": "JPELgd8mRPHG",
        "colab_type": "text"
      },
      "source": [
        "__The End__"
      ]
    }
  ]
}