{
  "nbformat": 4,
  "nbformat_minor": 0,
  "metadata": {
    "colab": {
      "name": "5.2 Transformer classes.ipynb",
      "version": "0.3.2",
      "provenance": []
    }
  },
  "cells": [
    {
      "cell_type": "markdown",
      "metadata": {
        "id": "kZyjKiAib-Pm",
        "colab_type": "text"
      },
      "source": [
        "#Transformer Class"
      ]
    },
    {
      "cell_type": "markdown",
      "metadata": {
        "id": "8EVAtcXhb-Pp",
        "colab_type": "text"
      },
      "source": [
        "## Reference\n",
        "- https://scikit-learn.org/stable/data_transforms.html\n",
        "- https://scikit-learn.org/stable/modules/generated/sklearn.base.TransformerMixin.html"
      ]
    },
    {
      "cell_type": "markdown",
      "metadata": {
        "id": "JgsqYf5zb-Pq",
        "colab_type": "text"
      },
      "source": [
        "## Table of Contents\n",
        "1. Introduction\n",
        "1. Create a transformer __object__\n",
        "1. Create a transformer __class__"
      ]
    },
    {
      "cell_type": "markdown",
      "metadata": {
        "id": "A5LFZgnWb-Pq",
        "colab_type": "text"
      },
      "source": [
        "##1. Introduction"
      ]
    },
    {
      "cell_type": "markdown",
      "metadata": {
        "id": "4wBIJTA_b-Pr",
        "colab_type": "text"
      },
      "source": [
        "A _transformer_ is an object that converts (transforms) input data into output data. \n",
        "\n",
        "Often both the input and output data are dataframes, matrices or numpy arrays, but this is not required.  \n",
        "\n",
        "Often internal attributes of the transformer object are set using information from one dataframe, but then these attributes are used to convert (transform) other dataframes."
      ]
    },
    {
      "cell_type": "markdown",
      "metadata": {
        "id": "vg3w8Ue9b-Ps",
        "colab_type": "text"
      },
      "source": [
        "Transformers have two key functions (methods):\n",
        "\n",
        "- `fit()`: This sets internal parameters (attributes) based on the input data.\n",
        "\n",
        "- `transform()`: This performs the transformation itself."
      ]
    },
    {
      "cell_type": "markdown",
      "metadata": {
        "id": "MShHRLwQb-Pt",
        "colab_type": "text"
      },
      "source": [
        "Import the `pandas` and `numpy` libraries. In addition, import the `Imputer` class which is a transformer that is used to complete missing values."
      ]
    },
    {
      "cell_type": "code",
      "metadata": {
        "id": "BHhI3ilLb-Pt",
        "colab_type": "code",
        "colab": {}
      },
      "source": [
        "import pandas  as pd\n",
        "import numpy   as np\n",
        "import sklearn as sk\n",
        "from sklearn.preprocessing import Imputer"
      ],
      "execution_count": 0,
      "outputs": []
    },
    {
      "cell_type": "markdown",
      "metadata": {
        "id": "i9bbWoCub-Px",
        "colab_type": "text"
      },
      "source": [
        "Display the version numbers of the numpy, pandas and scikit-learn packages:"
      ]
    },
    {
      "cell_type": "code",
      "metadata": {
        "id": "ID0mrkQ-b-Px",
        "colab_type": "code",
        "colab": {}
      },
      "source": [
        "print('numpy  :',np.__version__)\n",
        "print('pandas :',pd.__version__)\n",
        "print('sklearn:',sk.__version__)"
      ],
      "execution_count": 0,
      "outputs": []
    },
    {
      "cell_type": "markdown",
      "metadata": {
        "id": "Mf7-BXnxb-Pz",
        "colab_type": "text"
      },
      "source": [
        "Note that these version number may not be identical to the references provide above."
      ]
    },
    {
      "cell_type": "markdown",
      "metadata": {
        "id": "rDRLa-uWb-P0",
        "colab_type": "text"
      },
      "source": [
        "## 2. Create a transformer object"
      ]
    },
    {
      "cell_type": "markdown",
      "metadata": {
        "id": "g2r5qW8tb-P3",
        "colab_type": "text"
      },
      "source": [
        "The code cell below creates a transformer object `imp`, which is an instance of the `Imputer` class, by calling the constructor (init method) of that class. \n",
        "\n",
        "Several arguments (of the init method) are used to configure the `imp` object. The keyword argument:\n",
        "- `missing_values='NaN'` specifies that missing values are represented by `NaN`\n",
        "- `strategy='mean'` specifies that the mean will be used to complete missing values\n",
        "- `axis=0` specifies that the mean is taken for each column"
      ]
    },
    {
      "cell_type": "code",
      "metadata": {
        "id": "4gG6L7n-b-P5",
        "colab_type": "code",
        "colab": {}
      },
      "source": [
        "imp = Imputer(missing_values='NaN', strategy='mean', axis=0)                       "
      ],
      "execution_count": 0,
      "outputs": []
    },
    {
      "cell_type": "markdown",
      "metadata": {
        "id": "JKPQFQEQb-P7",
        "colab_type": "text"
      },
      "source": [
        "Create a sample data set `A`."
      ]
    },
    {
      "cell_type": "code",
      "metadata": {
        "id": "-IyPnCZEb-P8",
        "colab_type": "code",
        "colab": {}
      },
      "source": [
        "A = [[np.nan, 2, 0], \n",
        "     [3, 0, 0], \n",
        "     [7, 1, 6],\n",
        "     [2, 1, 2]]"
      ],
      "execution_count": 0,
      "outputs": []
    },
    {
      "cell_type": "markdown",
      "metadata": {
        "id": "dFwLtT6eb-P-",
        "colab_type": "text"
      },
      "source": [
        "Fit the imputer object `imp` to the sample data `A` using the `fit` method."
      ]
    },
    {
      "cell_type": "code",
      "metadata": {
        "id": "MkJykwqZb-P-",
        "colab_type": "code",
        "colab": {}
      },
      "source": [
        "imp.fit(A) "
      ],
      "execution_count": 0,
      "outputs": []
    },
    {
      "cell_type": "markdown",
      "metadata": {
        "id": "8U-XDIwvb-QB",
        "colab_type": "text"
      },
      "source": [
        "Recall that the `fit` method returns the object itself."
      ]
    },
    {
      "cell_type": "markdown",
      "metadata": {
        "id": "tBWGqQGCb-QE",
        "colab_type": "text"
      },
      "source": [
        "The `.statistics_` attribute stores an array of values, which in this case contains the mean of each column."
      ]
    },
    {
      "cell_type": "code",
      "metadata": {
        "id": "VHoIFVT_b-QE",
        "colab_type": "code",
        "colab": {}
      },
      "source": [
        "imp.statistics_"
      ],
      "execution_count": 0,
      "outputs": []
    },
    {
      "cell_type": "markdown",
      "metadata": {
        "id": "d-3YM9_Hb-QJ",
        "colab_type": "text"
      },
      "source": [
        "Create a similar dataset `B`, but this time with missing values. For convenience, the missing values are on the diagonal."
      ]
    },
    {
      "cell_type": "code",
      "metadata": {
        "id": "leQHFnf6b-QK",
        "colab_type": "code",
        "colab": {}
      },
      "source": [
        "B = [[np.nan, 2, 5],\n",
        "     [6, np.nan, 4],\n",
        "     [7, 6, np.nan]]"
      ],
      "execution_count": 0,
      "outputs": []
    },
    {
      "cell_type": "markdown",
      "metadata": {
        "id": "D0-aA4gfb-QM",
        "colab_type": "text"
      },
      "source": [
        "Transform the new dataset `B` using the `transform` method of `imp`, the fitted imputer, and return a completed version of `B`."
      ]
    },
    {
      "cell_type": "code",
      "metadata": {
        "id": "4KYuQB0lb-QM",
        "colab_type": "code",
        "colab": {}
      },
      "source": [
        "imp.transform(B)"
      ],
      "execution_count": 0,
      "outputs": []
    },
    {
      "cell_type": "markdown",
      "metadata": {
        "id": "eFkNTERDb-QR",
        "colab_type": "text"
      },
      "source": [
        "Notice in the output above that the missing values (along the diagonal) in `B` have been replaced with the values from `imp.statistics_` (which is an array of the mean of each column of `A`)."
      ]
    },
    {
      "cell_type": "code",
      "metadata": {
        "id": "zHNK2ag-b-QY",
        "colab_type": "code",
        "colab": {}
      },
      "source": [
        "imp.statistics_"
      ],
      "execution_count": 0,
      "outputs": []
    },
    {
      "cell_type": "markdown",
      "metadata": {
        "id": "vlqKwhjQb-Qa",
        "colab_type": "text"
      },
      "source": [
        "The `mean` function from numpy computes the mean of each column of `A`."
      ]
    },
    {
      "cell_type": "code",
      "metadata": {
        "id": "hJb0QDisb-Qb",
        "colab_type": "code",
        "colab": {}
      },
      "source": [
        "np.mean(A, axis=0)"
      ],
      "execution_count": 0,
      "outputs": []
    },
    {
      "cell_type": "code",
      "metadata": {
        "id": "ZpzmwX7Zb-Qe",
        "colab_type": "code",
        "colab": {}
      },
      "source": [
        "np.nanmean(A, axis=0)"
      ],
      "execution_count": 0,
      "outputs": []
    },
    {
      "cell_type": "markdown",
      "metadata": {
        "id": "31rMGYxKb-Qg",
        "colab_type": "text"
      },
      "source": [
        "This session introduces applying existing transformers in `Scikit-Learn` library to convert data to the form we need. A transformer class is useful to learn parameters from dataset with the `fit()` method rather than take fixed values, and perform the transformation with the `transform()` method."
      ]
    },
    {
      "cell_type": "markdown",
      "metadata": {
        "id": "YjJ4_lwCb-Qh",
        "colab_type": "text"
      },
      "source": [
        "## 3. Create a transformer class"
      ]
    },
    {
      "cell_type": "markdown",
      "metadata": {
        "id": "Fdtow19ab-Qh",
        "colab_type": "text"
      },
      "source": [
        "Every transformer class should \n",
        "- define an init method, named `__init__`\n",
        "- define two methods,`fit` and `transform` \n",
        "- inherit the `BaseEstimator` and `TransformerMixin` classes (supplied by scikit-learn) \n",
        "\n",
        "The `fit` method should return `self` and the `transform` method should returned the transformed output. \n",
        "\n",
        "The `fit_transform()` method is added from the `TransformerMixin` class. Calling the `fit_transform` method is equivalent to chaining the `fit` method and then `transform` method, with the same inputs. For example, `imp.fit_transform(A)` is equivalent to `imp.fit(A).transform(A)`.\n",
        "\n",
        "Methods `get_params()` and `set_params()` are added from the `BaseEstimator` class and are useful for automatic hyperparameter tuning."
      ]
    },
    {
      "cell_type": "markdown",
      "metadata": {
        "id": "EjYQYKqTb-Qi",
        "colab_type": "text"
      },
      "source": [
        "### 3.1 Example 1: create `DataFrameSelector` class"
      ]
    },
    {
      "cell_type": "markdown",
      "metadata": {
        "id": "0R3Bh7sub-Qi",
        "colab_type": "text"
      },
      "source": [
        "The `DataFrameSelector` will transform a dataset by returned only a specified collection of columns from that dataset:\n",
        "- The `__init__` method records the names of the columns to return\n",
        "- The `fit` method does nothing, except return `self` which is required of all `fit` methods\n",
        "- The `transform` method returns the specified columns of the dataset (input to the `transform` method)"
      ]
    },
    {
      "cell_type": "markdown",
      "metadata": {
        "id": "HUkcpK7hb-Qj",
        "colab_type": "text"
      },
      "source": [
        "Recall that transformers must inherit `TransformerMixin` and `BaseEstimator`. Import these classes:"
      ]
    },
    {
      "cell_type": "code",
      "metadata": {
        "id": "C4EvoXiib-Qk",
        "colab_type": "code",
        "colab": {}
      },
      "source": [
        "from sklearn.base import BaseEstimator, TransformerMixin"
      ],
      "execution_count": 0,
      "outputs": []
    },
    {
      "cell_type": "markdown",
      "metadata": {
        "id": "jvd4GzIjb-Qm",
        "colab_type": "text"
      },
      "source": [
        "Define the `DataFrameSelector` transformer class to select the desired attributes from the input dataset."
      ]
    },
    {
      "cell_type": "code",
      "metadata": {
        "id": "RPKrtEYPb-Qq",
        "colab_type": "code",
        "colab": {}
      },
      "source": [
        "class DataFrameSelector(BaseEstimator, TransformerMixin):\n",
        "  def __init__(self, attribute_names):\n",
        "    self.attribute_names = attribute_names\n",
        "  def fit(self, X, y=None):\n",
        "    return self\n",
        "  def transform(self, X):\n",
        "    return X[self.attribute_names]"
      ],
      "execution_count": 0,
      "outputs": []
    },
    {
      "cell_type": "markdown",
      "metadata": {
        "id": "hDFjW5C_b-Qt",
        "colab_type": "text"
      },
      "source": [
        "In this class:\n",
        "- The init method has one parameter, `attribute_names`. \n",
        "- The `fit` method returns `self` (this is standard behavior for `.fit` methods in scikit-learn).\n",
        "- The `transform` method takes dataset and returns only the values in the DataFrame as a Numpy array."
      ]
    },
    {
      "cell_type": "markdown",
      "metadata": {
        "id": "kVzDm2ZUb-Qu",
        "colab_type": "text"
      },
      "source": [
        "The remainder of this section applies this transformer to the diamonds dataset."
      ]
    },
    {
      "cell_type": "markdown",
      "metadata": {
        "id": "5H2W8_hQb-Qv",
        "colab_type": "text"
      },
      "source": [
        "Load the diamonds dataset as a Pandas DataFrame. Check the first five observations with column headers."
      ]
    },
    {
      "cell_type": "code",
      "metadata": {
        "id": "RW-kdykhb-Qv",
        "colab_type": "code",
        "colab": {}
      },
      "source": [
        "diamonds_pdf = pd.read_csv('/dbfs/mnt/datalab-datasets/file-samples/diamonds.csv')\n",
        "diamonds_pdf.head()"
      ],
      "execution_count": 0,
      "outputs": []
    },
    {
      "cell_type": "markdown",
      "metadata": {
        "id": "a70uYlnwb-Qx",
        "colab_type": "text"
      },
      "source": [
        "Define the features to choose and store the list of feature names in the `variable_list` object."
      ]
    },
    {
      "cell_type": "code",
      "metadata": {
        "id": "naZFZx6Ub-Qy",
        "colab_type": "code",
        "colab": {}
      },
      "source": [
        "variable_list=[\"carat\", \"depth\", \"table\", \"price\"]"
      ],
      "execution_count": 0,
      "outputs": []
    },
    {
      "cell_type": "markdown",
      "metadata": {
        "id": "vSrQ5f1Gb-Q0",
        "colab_type": "text"
      },
      "source": [
        "Create a `DataFrameSelector` class with attribute names as stated in the `variable_list` object, and store the transformer class in the `selector` object."
      ]
    },
    {
      "cell_type": "code",
      "metadata": {
        "id": "5u1qeSRrb-Q1",
        "colab_type": "code",
        "colab": {}
      },
      "source": [
        "selector=DataFrameSelector(variable_list)"
      ],
      "execution_count": 0,
      "outputs": []
    },
    {
      "cell_type": "markdown",
      "metadata": {
        "id": "EXodAw_mb-Q3",
        "colab_type": "text"
      },
      "source": [
        "Use the `selector` instance of the transformer class to transform the diamonds dataset."
      ]
    },
    {
      "cell_type": "code",
      "metadata": {
        "id": "QltBJxQYb-Q5",
        "colab_type": "code",
        "colab": {}
      },
      "source": [
        "selector.fit_transform(diamonds_pdf)"
      ],
      "execution_count": 0,
      "outputs": []
    },
    {
      "cell_type": "markdown",
      "metadata": {
        "id": "OXZfexJtb-Q6",
        "colab_type": "text"
      },
      "source": [
        "The output of the `transform` method (of the `imp`)"
      ]
    },
    {
      "cell_type": "markdown",
      "metadata": {
        "id": "B7DxQlx5b-Q7",
        "colab_type": "text"
      },
      "source": [
        "### 3.2 Example 2: `Scaler_MinMax` class"
      ]
    },
    {
      "cell_type": "markdown",
      "metadata": {
        "id": "51J-2Vk-b-Q8",
        "colab_type": "text"
      },
      "source": [
        "#### 3.2.1. Introduction to min-max scaling"
      ]
    },
    {
      "cell_type": "markdown",
      "metadata": {
        "id": "qJXqzfRob-Q8",
        "colab_type": "text"
      },
      "source": [
        "The `MinMaxScaler` in scikit-learn transforms features by scaling each feature to a given range (normally between 0 and 1), and follows the formula below for each feature:\n",
        "\n",
        "$$\\dfrac{x{_i}-min(x)}{max(x)-min(x)}\n",
        "$$\n",
        "\n",
        "where \\\\(x\\\\) refers to a column of data and \\\\(x_i\\\\) refers to the \\\\(i\\\\)-th value in that column."
      ]
    },
    {
      "cell_type": "markdown",
      "metadata": {
        "id": "w6qA3bHRb-Q9",
        "colab_type": "text"
      },
      "source": [
        "Import the built-in transformer `MinMaxScaler` from the scikit-learn library."
      ]
    },
    {
      "cell_type": "code",
      "metadata": {
        "id": "x9gh3MGKb-RA",
        "colab_type": "code",
        "colab": {}
      },
      "source": [
        "from sklearn.preprocessing import MinMaxScaler"
      ],
      "execution_count": 0,
      "outputs": []
    },
    {
      "cell_type": "markdown",
      "metadata": {
        "id": "7h0sUVDYb-RC",
        "colab_type": "text"
      },
      "source": [
        "Create an instance of `MinMaxScaler` and store it in an object `minmax1`."
      ]
    },
    {
      "cell_type": "code",
      "metadata": {
        "id": "rioQKdAZb-RD",
        "colab_type": "code",
        "colab": {}
      },
      "source": [
        "minmax1 = MinMaxScaler()"
      ],
      "execution_count": 0,
      "outputs": []
    },
    {
      "cell_type": "markdown",
      "metadata": {
        "id": "XwvJ1mQWb-RF",
        "colab_type": "text"
      },
      "source": [
        "Create a sample array data `a` with two features ranging (0, 8) and (1, 9)."
      ]
    },
    {
      "cell_type": "code",
      "metadata": {
        "id": "OykHgdHXb-RJ",
        "colab_type": "code",
        "colab": {}
      },
      "source": [
        "a = np.arange(10).reshape((5,2))\n",
        "a"
      ],
      "execution_count": 0,
      "outputs": []
    },
    {
      "cell_type": "markdown",
      "metadata": {
        "id": "RWXZavbLb-RM",
        "colab_type": "text"
      },
      "source": [
        "Fit the transformer object to the sample data `a` and return a transformed version of `a` with two features ranging from 0 to 1."
      ]
    },
    {
      "cell_type": "code",
      "metadata": {
        "id": "Ndc3r5Vzb-RM",
        "colab_type": "code",
        "colab": {}
      },
      "source": [
        "minmax1.fit_transform(a)"
      ],
      "execution_count": 0,
      "outputs": []
    },
    {
      "cell_type": "markdown",
      "metadata": {
        "id": "h1TXKXAtb-RO",
        "colab_type": "text"
      },
      "source": [
        "The following section defines a transformer class the performs the same function as the `MinMaxScaler` class."
      ]
    },
    {
      "cell_type": "markdown",
      "metadata": {
        "id": "eSR05Y4ib-RO",
        "colab_type": "text"
      },
      "source": [
        "#### 3.2.2. Build a `Scaler_MinMax` class"
      ]
    },
    {
      "cell_type": "markdown",
      "metadata": {
        "id": "RMLtZ1gAb-RP",
        "colab_type": "text"
      },
      "source": [
        "The transformer class `Scaler_MinMax` defined below performs the same transformation as `MinMaxScaler`."
      ]
    },
    {
      "cell_type": "code",
      "metadata": {
        "id": "OlAS6Iqlb-RP",
        "colab_type": "code",
        "colab": {}
      },
      "source": [
        "class Scaler_MinMax(BaseEstimator, TransformerMixin):\n",
        "  def __init__(self, axis=0):\n",
        "    self.axis = axis\n",
        "  def fit(self, X, y=None):\n",
        "    data_min = np.nanmin(X, axis=self.axis)\n",
        "    data_max = np.nanmax(X, axis=self.axis)\n",
        "    data_range = data_max - data_min\n",
        "    self.data_min_ = data_min\n",
        "    self.data_max_ = data_max\n",
        "    self.data_range_ = data_range\n",
        "    return self\n",
        "  def transform(self, X):\n",
        "    X_scaled = (X - self.data_min_) / self.data_range_\n",
        "    return X_scaled"
      ],
      "execution_count": 0,
      "outputs": []
    },
    {
      "cell_type": "markdown",
      "metadata": {
        "id": "jmZxlQJIb-RS",
        "colab_type": "text"
      },
      "source": [
        "In this class the transformer has one parameter, `axis` with a default of `0` which indicates that minimum and maximum values should be computed for each __column__. See lines `5` and `6` which use the `axis` attribute.\n",
        "\n",
        "In the `fit` method, the class will:\n",
        "- learn the minimum of an array by computing `np.nanmin(X, axis=self.axis)` \n",
        "- learn the maximum of an array by computing `np.nanmax(X, axis=self.axis)`\n",
        "- compute the range between the minimum and maximum by computing `data_max - data_min`\n",
        "\n",
        "Each of the calculation is then stored as an attribute of the object. Finally, the `fit` method returns `self`.\n",
        "\n",
        "The `transform` method takes the input data `X` and uses the stored attributes to calculate:\n",
        "- a scaled version `X_scaled` (of the input data `X`) by subtracting the minimum value and divided by the range\n",
        "\n",
        "The `transform` method then returns this scaled version of data `X_scaled`."
      ]
    },
    {
      "cell_type": "markdown",
      "metadata": {
        "id": "Mdn2yS4Jb-RS",
        "colab_type": "text"
      },
      "source": [
        "The same sample dataset `a` is used to demonstrate the `Scaler_MinMax` class:\n",
        "1. Create an instance of `Scaler_MinMax` and store it in an object `minmax2`. \n",
        "1. Fit and transform the dataset `a` using this instance."
      ]
    },
    {
      "cell_type": "code",
      "metadata": {
        "id": "LlGbaf4qb-RT",
        "colab_type": "code",
        "colab": {}
      },
      "source": [
        "minmax2 = Scaler_MinMax()\n",
        "minmax2.fit_transform(a)"
      ],
      "execution_count": 0,
      "outputs": []
    },
    {
      "cell_type": "markdown",
      "metadata": {
        "id": "3ZadcruIb-RU",
        "colab_type": "text"
      },
      "source": [
        "After fitting the transformer class on the dataset `a`, the object `minmax2` has calculated and stored the three attributes:\n",
        "- `data_min_` which is the minimum value of each feature\n",
        "- `data_max_` which is the maximum value of each feature\n",
        "- `data_range_` which is the range (`data_min_ - data_max_`) value of each feature\n",
        "\n",
        "These attributes are displayed below."
      ]
    },
    {
      "cell_type": "code",
      "metadata": {
        "id": "MMZpCZvbb-RV",
        "colab_type": "code",
        "colab": {}
      },
      "source": [
        "minmax2.data_min_, minmax2.data_max_, minmax2.data_range_"
      ],
      "execution_count": 0,
      "outputs": []
    },
    {
      "cell_type": "markdown",
      "metadata": {
        "id": "73EtkDgLb-RX",
        "colab_type": "text"
      },
      "source": [
        "Create another sample data `b` with two feature ranging (0, 4) and (1, 5)."
      ]
    },
    {
      "cell_type": "code",
      "metadata": {
        "id": "CB2_61MGb-RY",
        "colab_type": "code",
        "colab": {}
      },
      "source": [
        "b=np.arange(6).reshape(3,2)\n",
        "b"
      ],
      "execution_count": 0,
      "outputs": []
    },
    {
      "cell_type": "markdown",
      "metadata": {
        "id": "Qq9Wm2xDb-Ra",
        "colab_type": "text"
      },
      "source": [
        "Use the fitted transformer object `minmax2` to perform transformation on `b` and get a scaled version of `b` with two features ranging from 0 to 0.5."
      ]
    },
    {
      "cell_type": "code",
      "metadata": {
        "id": "ks14uFI8b-Rb",
        "colab_type": "code",
        "colab": {}
      },
      "source": [
        "minmax2.transform(b)"
      ],
      "execution_count": 0,
      "outputs": []
    },
    {
      "cell_type": "markdown",
      "metadata": {
        "id": "q5m6t4OIb-Rd",
        "colab_type": "text"
      },
      "source": [
        "__The End__"
      ]
    }
  ]
}