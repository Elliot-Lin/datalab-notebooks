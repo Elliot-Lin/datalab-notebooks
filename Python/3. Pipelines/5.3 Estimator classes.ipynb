{
  "nbformat": 4,
  "nbformat_minor": 0,
  "metadata": {
    "colab": {
      "name": "5.3 Estimator classes.ipynb",
      "version": "0.3.2",
      "provenance": []
    }
  },
  "cells": [
    {
      "cell_type": "markdown",
      "metadata": {
        "id": "02jbd9JtcLPj",
        "colab_type": "text"
      },
      "source": [
        "#Estimator Class"
      ]
    },
    {
      "cell_type": "markdown",
      "metadata": {
        "id": "j3Np3NyOcLPm",
        "colab_type": "text"
      },
      "source": [
        "## Reference\n",
        "- https://scikit-learn.org/stable/developers/contributing.html#rolling-your-own-estimator\n",
        "- https://scikit-learn.org/stable/tutorial/basic/tutorial.html#learning-and-predicting\n",
        "- https://scikit-learn.org/stable/modules/generated/sklearn.base.RegressorMixin.html\n",
        "- https://scikit-learn.org/stable/modules/generated/sklearn.base.ClassifierMixin.html\n",
        "- https://scikit-learn.org/stable/modules/generated/sklearn.linear_model.LinearRegression.html\n",
        "- https://scikit-learn.org/stable/auto_examples/linear_model/plot_ols.html\n",
        "- https://scikit-learn.org/stable/modules/generated/sklearn.model_selection.train_test_split.html\n",
        "- http://danielhnyk.cz/creating-your-own-estimator-scikit-learn/\n",
        "- https://towardsdatascience.com/introduction-to-machine-learning-algorithms-linear-regression-14c4e325882a\n",
        "- https://towardsdatascience.com/linear-regression-using-gradient-descent-in-10-lines-of-code-642f995339c0"
      ]
    },
    {
      "cell_type": "markdown",
      "metadata": {
        "id": "y5yFbdmgcLPn",
        "colab_type": "text"
      },
      "source": [
        "## Table of Contents\n",
        "1. Introduction\n",
        "1. Create a estimator __object__\n",
        "1. Create a estimator __class__"
      ]
    },
    {
      "cell_type": "markdown",
      "metadata": {
        "id": "nVib0d8FcLPo",
        "colab_type": "text"
      },
      "source": [
        "##1. Introduction"
      ]
    },
    {
      "cell_type": "markdown",
      "metadata": {
        "id": "OxbvT6PWcLPp",
        "colab_type": "text"
      },
      "source": [
        "A _estimator_ is an object that converts (transforms) input data into output data. Typically, the output data are predictions of a  target variable.\n",
        "\n",
        "In Scikit-learn an estimator must implement the `fit` and `predict` methods.\n",
        "\n",
        "Internal attributes of the object are set, using the `fit` method, using information from one dataframe, but then these attributes are used to create predictions, using the `predict` method for other dataframes."
      ]
    },
    {
      "cell_type": "markdown",
      "metadata": {
        "id": "0d36MI9JcLPq",
        "colab_type": "text"
      },
      "source": [
        "Estimators have two key functions (methods):\n",
        "\n",
        "- `fit(X,y)`: This sets internal parameters (attributes) based on the input data. The `X` argument usually contains the independent variables and `y` usually contains the dependent/target variable, which are from the train dataset.\n",
        "\n",
        "- `predict(X)`: This method performs the prediction. The `X` argument my be from the train dataset or from the test dataset."
      ]
    },
    {
      "cell_type": "markdown",
      "metadata": {
        "id": "UynZfC5KcLPr",
        "colab_type": "text"
      },
      "source": [
        "Import the `pandas` and `numpy` libraries. In addition, import the `LinearRegression` class which is a estimator."
      ]
    },
    {
      "cell_type": "code",
      "metadata": {
        "id": "2d7FTd1HcLPs",
        "colab_type": "code",
        "colab": {}
      },
      "source": [
        "import pandas  as pd\n",
        "import numpy   as np\n",
        "import sklearn as sk\n",
        "from sklearn.linear_model import LinearRegression"
      ],
      "execution_count": 0,
      "outputs": []
    },
    {
      "cell_type": "markdown",
      "metadata": {
        "id": "4McREyTrcLPw",
        "colab_type": "text"
      },
      "source": [
        "Display the version numbers of the numpy, pandas and scikit-learn packages:"
      ]
    },
    {
      "cell_type": "code",
      "metadata": {
        "id": "BX1tZJpAcLPx",
        "colab_type": "code",
        "colab": {}
      },
      "source": [
        "print('numpy  :',np.__version__)\n",
        "print('pandas :',pd.__version__)\n",
        "print('sklearn:',sk.__version__)"
      ],
      "execution_count": 0,
      "outputs": []
    },
    {
      "cell_type": "markdown",
      "metadata": {
        "id": "MJXO2uwCcLP0",
        "colab_type": "text"
      },
      "source": [
        "Note that these version number may not be identical to the references provide above."
      ]
    },
    {
      "cell_type": "markdown",
      "metadata": {
        "id": "IlCCv7dZcLP0",
        "colab_type": "text"
      },
      "source": [
        "## 2. Create an estimator object"
      ]
    },
    {
      "cell_type": "markdown",
      "metadata": {
        "id": "RWcX6q61cLP1",
        "colab_type": "text"
      },
      "source": [
        "In this section, \n",
        "1. the iris dataset is use to create an independent and dependent/target features\n",
        "1. an object of the `LinearRegression` class is created \n",
        "2. this object is then fit to the previously created features, creating an intercept and coefficients\n",
        "3. the intercept and coefficient are displayed\n",
        "4. predictions are created and are scored with the R squared metric"
      ]
    },
    {
      "cell_type": "markdown",
      "metadata": {
        "id": "wRcFuuyBcLP2",
        "colab_type": "text"
      },
      "source": [
        "The iris dataset is used to demonstrate use of an object of the `LinearRegression` estimator class. \n",
        "\n",
        "Separate the independent features `ind_pdf` and dependent features `dep_pdf`."
      ]
    },
    {
      "cell_type": "code",
      "metadata": {
        "id": "fvAWIrrscLP2",
        "colab_type": "code",
        "colab": {}
      },
      "source": [
        "from sklearn.datasets import load_iris\n",
        "ind_pdf = load_iris().data[:,0:1]\n",
        "ind_pdf.shape"
      ],
      "execution_count": 0,
      "outputs": []
    },
    {
      "cell_type": "code",
      "metadata": {
        "id": "uNpfOxyZcLP4",
        "colab_type": "code",
        "colab": {}
      },
      "source": [
        "from sklearn.datasets import load_iris\n",
        "dep_pdf = load_iris().data[:,3]\n",
        "dep_pdf.shape"
      ],
      "execution_count": 0,
      "outputs": []
    },
    {
      "cell_type": "markdown",
      "metadata": {
        "id": "dVIpVX7WcLP7",
        "colab_type": "text"
      },
      "source": [
        "Create a transformer object `linreg`, which is an instance of the `LinearRegression` class, created by calling the constructor (init method) of that class. \n",
        "\n",
        "The constructor (init method) does not have any arguments and so uses default values for all parameters, which are displayed below."
      ]
    },
    {
      "cell_type": "code",
      "metadata": {
        "id": "HouJSkSbcLP9",
        "colab_type": "code",
        "colab": {}
      },
      "source": [
        "from sklearn.linear_model import LinearRegression\n",
        "linreg = LinearRegression()\n",
        "linreg"
      ],
      "execution_count": 0,
      "outputs": []
    },
    {
      "cell_type": "markdown",
      "metadata": {
        "id": "tv4vZ-46cLQA",
        "colab_type": "text"
      },
      "source": [
        "Fit the `LinearRegression` object `linreg` to the independent data `ind_pdf` and dependent data `dep_pdf`."
      ]
    },
    {
      "cell_type": "code",
      "metadata": {
        "id": "lgsOi953cLQE",
        "colab_type": "code",
        "colab": {}
      },
      "source": [
        "linreg.fit(ind_pdf, dep_pdf)"
      ],
      "execution_count": 0,
      "outputs": []
    },
    {
      "cell_type": "markdown",
      "metadata": {
        "id": "vJNQKh3xcLQH",
        "colab_type": "text"
      },
      "source": [
        "Recall that the `fit` method returns the object itself."
      ]
    },
    {
      "cell_type": "markdown",
      "metadata": {
        "id": "LG63vN0wcLQH",
        "colab_type": "text"
      },
      "source": [
        "The `coef_` attribute stores an array of values, which are the coefficients of the linear regression model (fit to the data). \n",
        "\n",
        "In this cases there is only one coefficient as there is only a single independent feature."
      ]
    },
    {
      "cell_type": "code",
      "metadata": {
        "id": "_hBDf1FZcLQI",
        "colab_type": "code",
        "colab": {}
      },
      "source": [
        "linreg.intercept_, linreg.coef_"
      ],
      "execution_count": 0,
      "outputs": []
    },
    {
      "cell_type": "markdown",
      "metadata": {
        "id": "8pKraoMPcLQM",
        "colab_type": "text"
      },
      "source": [
        "Predictions are created. Display the first three."
      ]
    },
    {
      "cell_type": "code",
      "metadata": {
        "id": "GmaNtx77cLQM",
        "colab_type": "code",
        "colab": {}
      },
      "source": [
        "linreg.predict(ind_pdf)[:3]"
      ],
      "execution_count": 0,
      "outputs": []
    },
    {
      "cell_type": "markdown",
      "metadata": {
        "id": "XJd9OWZ-cLQP",
        "colab_type": "text"
      },
      "source": [
        "These predictions are scored, by comparing them to the actual values `dep_pdf` and using the R squared metric to score the results and error.."
      ]
    },
    {
      "cell_type": "code",
      "metadata": {
        "id": "9s9ytYa6cLQQ",
        "colab_type": "code",
        "colab": {}
      },
      "source": [
        "linreg.score(ind_pdf,dep_pdf)"
      ],
      "execution_count": 0,
      "outputs": []
    },
    {
      "cell_type": "markdown",
      "metadata": {
        "id": "CQVvzxzIcLQT",
        "colab_type": "text"
      },
      "source": [
        "## 3. Create an estimator class"
      ]
    },
    {
      "cell_type": "markdown",
      "metadata": {
        "id": "sGyB39nzcLQU",
        "colab_type": "text"
      },
      "source": [
        "Every estimator class (in Python and used with scikit-learn) should \n",
        "- define an init method, named `__init__` \n",
        "- define two methods,`fit` and `predict` \n",
        "- inherit the `BaseEstimator` and `TransformerMixin` classes \n",
        "- inherit the `RegressorMixin` or `ClassifierMixin` classes\n",
        "\n",
        "The `fit` method should return `self` and the `predict` method:\n",
        "- should return an object of the same shape as the `y` parameter to the `fit` method if it is a regressor or classifier\n",
        "- cluster labels if the estimator inherits the \n",
        "\n",
        "Methods `get_params()` and `set_params()` are added from the `BaseEstimator` class and are useful for automatic hyperparameter tuning."
      ]
    },
    {
      "cell_type": "markdown",
      "metadata": {
        "id": "Pzqt1CAecLQU",
        "colab_type": "text"
      },
      "source": [
        "In the remainder of this section, \n",
        "- an estimator class `SimpleRegression` is created, \n",
        "- fit to the same data as above and \n",
        "- its predictions/scoring compared to those provided by the `linreg` object above."
      ]
    },
    {
      "cell_type": "markdown",
      "metadata": {
        "id": "To8jjzxxcLQV",
        "colab_type": "text"
      },
      "source": [
        "Recall that estimators should inherit `TransformerMixin` and `BaseEstimator`. \n",
        "In addition, as we are creating a regressor, it should inherit `RegressorMixin`. \n",
        "\n",
        "Import these classes:"
      ]
    },
    {
      "cell_type": "code",
      "metadata": {
        "id": "zBktYlFccLQW",
        "colab_type": "code",
        "colab": {}
      },
      "source": [
        "from sklearn.base import BaseEstimator, TransformerMixin, RegressorMixin"
      ],
      "execution_count": 0,
      "outputs": []
    },
    {
      "cell_type": "markdown",
      "metadata": {
        "id": "4dRHsTNecLQb",
        "colab_type": "text"
      },
      "source": [
        "Define the `SimpleRegression` estimator class."
      ]
    },
    {
      "cell_type": "code",
      "metadata": {
        "id": "DpyLAW1pcLQp",
        "colab_type": "code",
        "colab": {}
      },
      "source": [
        "class SimpleRegression(BaseEstimator, TransformerMixin, RegressorMixin):\n",
        "  def __init__(self, epochs=1000):\n",
        "    self.epochs = epochs\n",
        "  def fit(self, X, y=None):\n",
        "    alpha = 0.01\n",
        "    n = len(X)\n",
        "    a_0 = 0\n",
        "    a_1 = 0\n",
        "    x = X[:,0]\n",
        "    for i in range(self.epochs):\n",
        "      p = (a_0 + a_1*x)\n",
        "      error = p - y \n",
        "      mean_sq_er = np.sum(error**2)/n\n",
        "      a_0 = a_0 - alpha * 2 * np.sum(error)/n \n",
        "      a_1 = a_1 - alpha * 2 * np.sum(error * x)/n\n",
        "    self.intercept_ = a_0\n",
        "    self.coef_      = a_1\n",
        "    return self\n",
        "  def predict(self, X):\n",
        "    return self.intercept_ + self.coef_*X"
      ],
      "execution_count": 0,
      "outputs": []
    },
    {
      "cell_type": "markdown",
      "metadata": {
        "id": "PGzkULZMcLQx",
        "colab_type": "text"
      },
      "source": [
        "Create an object `reg` of this class and fit it to the data."
      ]
    },
    {
      "cell_type": "code",
      "metadata": {
        "id": "uzBuSdvYcLQy",
        "colab_type": "code",
        "colab": {}
      },
      "source": [
        "reg = SimpleRegression(epochs=10000)\n",
        "reg.fit(ind_pdf,dep_pdf)"
      ],
      "execution_count": 0,
      "outputs": []
    },
    {
      "cell_type": "markdown",
      "metadata": {
        "id": "lJ3jagM1cLQ2",
        "colab_type": "text"
      },
      "source": [
        "Display the `intercept_` and `coef_` attributes."
      ]
    },
    {
      "cell_type": "code",
      "metadata": {
        "id": "WmWPQrmhcLQ3",
        "colab_type": "code",
        "colab": {}
      },
      "source": [
        "reg.intercept_, reg.coef_"
      ],
      "execution_count": 0,
      "outputs": []
    },
    {
      "cell_type": "markdown",
      "metadata": {
        "id": "vJtgZZHfcLQ-",
        "colab_type": "text"
      },
      "source": [
        "Notice they are similar to those from the `LinearRegression` object."
      ]
    },
    {
      "cell_type": "code",
      "metadata": {
        "id": "qi7-Nc7RcLRB",
        "colab_type": "code",
        "colab": {}
      },
      "source": [
        "linreg.intercept_, linreg.coef_"
      ],
      "execution_count": 0,
      "outputs": []
    },
    {
      "cell_type": "markdown",
      "metadata": {
        "id": "ZttFAAp3cLRH",
        "colab_type": "text"
      },
      "source": [
        "The R squared values are also similar."
      ]
    },
    {
      "cell_type": "code",
      "metadata": {
        "id": "qq7EQGL6cLRI",
        "colab_type": "code",
        "colab": {}
      },
      "source": [
        "linreg.score(ind_pdf, dep_pdf), reg.score(ind_pdf, dep_pdf)"
      ],
      "execution_count": 0,
      "outputs": []
    },
    {
      "cell_type": "markdown",
      "metadata": {
        "id": "FXBoQ2oRcLRL",
        "colab_type": "text"
      },
      "source": [
        "__The End__"
      ]
    }
  ]
}