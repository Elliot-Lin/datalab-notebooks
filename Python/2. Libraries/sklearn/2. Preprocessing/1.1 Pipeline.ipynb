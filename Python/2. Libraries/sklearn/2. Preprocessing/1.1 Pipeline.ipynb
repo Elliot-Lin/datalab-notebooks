{
  "nbformat": 4,
  "nbformat_minor": 0,
  "metadata": {
    "name": "1.1 Pipeline",
    "notebookId": 429027,
    "colab": {
      "name": "1.1 Pipeline.ipynb",
      "provenance": []
    }
  },
  "cells": [
    {
      "cell_type": "markdown",
      "metadata": {
        "id": "uPcPvnS99XBg",
        "colab_type": "text"
      },
      "source": [
        "#Pipeline"
      ]
    },
    {
      "cell_type": "markdown",
      "metadata": {
        "id": "oihrP5Ud9XBj",
        "colab_type": "text"
      },
      "source": [
        "## Table of Contents\n",
        "\n",
        "1. `Pipeline` class\n",
        "1. `fit` and `transform` methods in pipeline"
      ]
    },
    {
      "cell_type": "markdown",
      "metadata": {
        "id": "34TM4Drs9XBk",
        "colab_type": "text"
      },
      "source": [
        "### 1. `Pipeline` class"
      ]
    },
    {
      "cell_type": "markdown",
      "metadata": {
        "id": "hAqYVDPE9XBk",
        "colab_type": "text"
      },
      "source": [
        "`Pipeline` can be used to chain multiple transformers (and an optional final estimator) into one. This is useful as there is often a fixed sequence of steps in processing the data."
      ]
    },
    {
      "cell_type": "markdown",
      "metadata": {
        "id": "evXXLs8J9XBl",
        "colab_type": "text"
      },
      "source": [
        "Load libraries."
      ]
    },
    {
      "cell_type": "code",
      "metadata": {
        "id": "JacKVTCv9XBm",
        "colab_type": "code",
        "colab": {}
      },
      "source": [
        "import sklearn as  sk\n",
        "from sklearn.pipeline      import Pipeline\n",
        "from sklearn.preprocessing import Imputer\n",
        "from sklearn.preprocessing import MinMaxScaler\n",
        "from sklearn.decomposition import PCA\n",
        "from sklearn.neighbors     import KNeighborsClassifier"
      ],
      "execution_count": 0,
      "outputs": []
    },
    {
      "cell_type": "markdown",
      "metadata": {
        "id": "7GJWlP8I9XBp",
        "colab_type": "text"
      },
      "source": [
        "Build a `Pipeline` and store it in an object `pipe`. The `Pipeline` is built using a list of _(key, value)_ pairs, where the _key_ is a string containing the name you want to give this step and _value_ is an estimator/transformer object:"
      ]
    },
    {
      "cell_type": "code",
      "metadata": {
        "id": "mkMe26vq9XBp",
        "colab_type": "code",
        "colab": {}
      },
      "source": [
        "pipe = Pipeline([('imputer', Imputer(strategy='mean')),\n",
        "                 ('scaler' , MinMaxScaler()),\n",
        "                 ('reduce_dim', PCA()),\n",
        "                 ('knn'    , KNeighborsClassifier())\n",
        "                 ])\n",
        "pipe"
      ],
      "execution_count": 0,
      "outputs": []
    },
    {
      "cell_type": "markdown",
      "metadata": {
        "id": "22S28txK9XBr",
        "colab_type": "text"
      },
      "source": [
        "The output above shows that the four transformers are chained in the order we defined in the `Pipeline`. In addition, the default init parameters are displayed."
      ]
    },
    {
      "cell_type": "markdown",
      "metadata": {
        "id": "PcvKR0xx9XBs",
        "colab_type": "text"
      },
      "source": [
        "Note: All estimators in a pipeline, except the last one, must be transformers (i.e. must have a `transform` method). The last estimator may be any type (transformer, classifier, etc.)."
      ]
    },
    {
      "cell_type": "markdown",
      "metadata": {
        "id": "GhIy_vde9XBt",
        "colab_type": "text"
      },
      "source": [
        "The transformers of a pipeline are stored as a list in the `steps` attribute:"
      ]
    },
    {
      "cell_type": "code",
      "metadata": {
        "id": "IT-DZcn39XBt",
        "colab_type": "code",
        "colab": {}
      },
      "source": [
        "pipe.steps[2]"
      ],
      "execution_count": 0,
      "outputs": []
    },
    {
      "cell_type": "markdown",
      "metadata": {
        "id": "8tEfn-LW9XBv",
        "colab_type": "text"
      },
      "source": [
        "The final estimator is also stored in the `steps` attribute."
      ]
    },
    {
      "cell_type": "code",
      "metadata": {
        "id": "eyXHBfxl9XBw",
        "colab_type": "code",
        "colab": {}
      },
      "source": [
        "pipe.steps[-1]"
      ],
      "execution_count": 0,
      "outputs": []
    },
    {
      "cell_type": "markdown",
      "metadata": {
        "id": "Askl0z2a9XBy",
        "colab_type": "text"
      },
      "source": [
        "The transformers of a pipeline are also stored as a dict in `named_steps` attribute:"
      ]
    },
    {
      "cell_type": "code",
      "metadata": {
        "id": "LC7lfn3j9XBz",
        "colab_type": "code",
        "colab": {}
      },
      "source": [
        "pipe.named_steps['reduce_dim']"
      ],
      "execution_count": 0,
      "outputs": []
    },
    {
      "cell_type": "markdown",
      "metadata": {
        "id": "za0mEd4p9XB2",
        "colab_type": "text"
      },
      "source": [
        "Parameters of the transformers in the pipeline can be accessed using the `set_params` method with the `<step name>__<parameter>` syntax:"
      ]
    },
    {
      "cell_type": "code",
      "metadata": {
        "id": "lqp0xDjN9XB2",
        "colab_type": "code",
        "colab": {}
      },
      "source": [
        " pipe.set_params(imputer__strategy='most_frequent') "
      ],
      "execution_count": 0,
      "outputs": []
    },
    {
      "cell_type": "markdown",
      "metadata": {
        "id": "qXHh1SLh9XB4",
        "colab_type": "text"
      },
      "source": [
        "This session introduces the way to build a pipeline and to obtain parameters of the transformers in the pipeline."
      ]
    },
    {
      "cell_type": "markdown",
      "metadata": {
        "id": "SICdFCte9XB4",
        "colab_type": "text"
      },
      "source": [
        "###2. `fit` and `transform` methods in pipeline"
      ]
    },
    {
      "cell_type": "markdown",
      "metadata": {
        "id": "WqVAqoqT9XB5",
        "colab_type": "text"
      },
      "source": [
        "In scikit-learn, estimators have a `fit` method, which learns model parameters from a training set, and a `transform` method which applies this transformation model to unseen data. `fit_transform` may be more convenient and efficient for modelling and transforming the training data simultaneously. Calling `fit` on the pipeline is the same as calling `fit` on each estimator in turn, `transform` the input and pass it on to the next step. \n",
        " - [Pipeline process](https://ibb.co/m4sz3o)"
      ]
    },
    {
      "cell_type": "markdown",
      "metadata": {
        "id": "KuUAU9It9XB6",
        "colab_type": "text"
      },
      "source": [
        "Load libraries."
      ]
    },
    {
      "cell_type": "code",
      "metadata": {
        "id": "oFLnkRYY9XB6",
        "colab_type": "code",
        "colab": {}
      },
      "source": [
        "from sklearn.datasets import load_digits\n",
        "from sklearn.model_selection import train_test_split"
      ],
      "execution_count": 0,
      "outputs": []
    },
    {
      "cell_type": "markdown",
      "metadata": {
        "id": "J_vAN-Nw9XB8",
        "colab_type": "text"
      },
      "source": [
        "Prepare a sample dataset from the sklearn library, and store it in the `digits` object."
      ]
    },
    {
      "cell_type": "code",
      "metadata": {
        "id": "DVfNNYt49XB9",
        "colab_type": "code",
        "colab": {}
      },
      "source": [
        "digits = load_digits()"
      ],
      "execution_count": 0,
      "outputs": []
    },
    {
      "cell_type": "markdown",
      "metadata": {
        "id": "wg3SyBVL9XB_",
        "colab_type": "text"
      },
      "source": [
        "Split the predictors (`digit.data`) and labels (`digits.target`) into train and test using the `train_test_split` function."
      ]
    },
    {
      "cell_type": "code",
      "metadata": {
        "id": "H6ue9aWt9XB_",
        "colab_type": "code",
        "colab": {}
      },
      "source": [
        "X_train, X_test, y_train, y_test = train_test_split(digits.data, digits.target, test_size=.2, random_state=0)"
      ],
      "execution_count": 0,
      "outputs": []
    },
    {
      "cell_type": "markdown",
      "metadata": {
        "id": "cruspC7n9XCC",
        "colab_type": "text"
      },
      "source": [
        "Fit the pipeline using `X_train` as training data and `y_train` as target values, and store the computed parameters to the object `Pipe`."
      ]
    },
    {
      "cell_type": "code",
      "metadata": {
        "id": "wuoN4_So9XCC",
        "colab_type": "code",
        "colab": {}
      },
      "source": [
        "pipe.fit(X_train, y_train)"
      ],
      "execution_count": 0,
      "outputs": []
    },
    {
      "cell_type": "markdown",
      "metadata": {
        "id": "u-YkwbIq9XCE",
        "colab_type": "text"
      },
      "source": [
        "The above pipeline process consists of several intermediate steps (`Imputer`, `MinMaxScaler`, `PCA`) and a final estimator (`KNeighborsClassifier`). When the `fit` method of the pipeline is called with the training data:\n",
        "1. The `Imputer` object is fit to the training data\n",
        "1. The `Imputer` object transforms the training data\n",
        "1. The `MinMaxScaler` object is fit to the transformed training data from the `Imputer` object (previous step)\n",
        "1. The `MinMaxScaler` object transforms the transformed training data from the `Imputer` object\n",
        "1. The `PCA` object fits the transformed data from the `MinMaxScaler` object\n",
        "1. The `PCA` object transforms the transformed data from the `MinMaxScaler` object\n",
        "1. The `KNeighborsClassifier` object fits the transformed data from the `PCA` object\n",
        "\n",
        "That's all it does. In particular, the `transform` method of the `KNeighborsClassifier` __is not called__."
      ]
    },
    {
      "cell_type": "markdown",
      "metadata": {
        "id": "IyDjVmnU9XCF",
        "colab_type": "text"
      },
      "source": [
        "Apply the pipeline transformations to the test data, and score with the final estimator."
      ]
    },
    {
      "cell_type": "code",
      "metadata": {
        "id": "CZOWUVMd9XCF",
        "colab_type": "code",
        "colab": {}
      },
      "source": [
        "print('Test accuracy: %.3f' % pipe.score(X_test, y_test))"
      ],
      "execution_count": 0,
      "outputs": []
    },
    {
      "cell_type": "markdown",
      "metadata": {
        "id": "x-4yn04A9XCH",
        "colab_type": "text"
      },
      "source": [
        "The pipeline has all the methods that the last estimator in the pipeline has, i.e. if the last estimator is a classifier, the pipeline can be used as a classifier with all the methods that classifier has. If the last estimator is a transformer, again, so is the pipeline."
      ]
    },
    {
      "cell_type": "markdown",
      "metadata": {
        "id": "pDEF0rm-9XCH",
        "colab_type": "text"
      },
      "source": [
        "Below is the `Pipeline` command that originally created the object `pipe`."
      ]
    },
    {
      "cell_type": "code",
      "metadata": {
        "id": "eHTtgeQM9XCI",
        "colab_type": "code",
        "colab": {}
      },
      "source": [
        "pipe = Pipeline([('imputer', Imputer(strategy='mean')),\n",
        "                 ('scaler' , MinMaxScaler()),\n",
        "                 ('reduce_dim', PCA()),\n",
        "                 ('knn'    , KNeighborsClassifier())\n",
        "                 ])\n",
        "pipe"
      ],
      "execution_count": 0,
      "outputs": []
    }
  ]
}