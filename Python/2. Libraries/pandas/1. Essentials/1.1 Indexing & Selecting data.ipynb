{
  "nbformat": 4,
  "nbformat_minor": 0,
  "metadata": {
    "colab": {
      "name": "1.1 Indexing & Selecting data.ipynb",
      "version": "0.3.2",
      "provenance": []
    },
    "kernelspec": {
      "name": "python3",
      "display_name": "Python 3"
    }
  },
  "cells": [
    {
      "cell_type": "markdown",
      "metadata": {
        "id": "GmwpuzKUwTcA",
        "colab_type": "text"
      },
      "source": [
        "# `pandas` - Indexing & Selecting data"
      ]
    },
    {
      "cell_type": "markdown",
      "metadata": {
        "id": "r8o0aig-wTcD",
        "colab_type": "text"
      },
      "source": [
        "## Contents\n",
        "1. Setup\n",
        "1. Select columns \n",
        "1. Select rows"
      ]
    },
    {
      "cell_type": "markdown",
      "metadata": {
        "id": "MS4xVGOCwTcE",
        "colab_type": "text"
      },
      "source": [
        "## Reference\n",
        "- http://pandas.pydata.org/pandas-docs/stable/indexing.html\n",
        "- http://pandas.pydata.org/pandas-docs/stable/index.html\n",
        "- http://pandas.pydata.org/pandas-docs/stable/dsintro.html\n",
        "- http://pandas.pydata.org/pandas-docs/stable/generated/pandas.DataFrame.html\n",
        "- http://pandas.pydata.org/pandas-docs/stable/reference/api/pandas.DataFrame.html"
      ]
    },
    {
      "cell_type": "markdown",
      "metadata": {
        "id": "Kut-gQB4wTcF",
        "colab_type": "text"
      },
      "source": [
        "## 1. Setup"
      ]
    },
    {
      "cell_type": "markdown",
      "metadata": {
        "id": "VzcsI1LrwTcF",
        "colab_type": "text"
      },
      "source": [
        "Load libraries."
      ]
    },
    {
      "cell_type": "code",
      "metadata": {
        "id": "Yp4TfQ4RwTcG",
        "colab_type": "code",
        "colab": {
          "base_uri": "https://localhost:8080/",
          "height": 51
        },
        "outputId": "53dc09d7-88ab-4eda-ce73-0dd95f58f455"
      },
      "source": [
        "import pandas  as pd\n",
        "import numpy   as np\n",
        "print('pandas',pd.__version__)\n",
        "print('numpy ',np.__version__)"
      ],
      "execution_count": 1,
      "outputs": [
        {
          "output_type": "stream",
          "text": [
            "pandas 0.24.2\n",
            "numpy  1.16.4\n"
          ],
          "name": "stdout"
        }
      ]
    },
    {
      "cell_type": "markdown",
      "metadata": {
        "id": "wnKQwYBQwTcJ",
        "colab_type": "text"
      },
      "source": [
        "The most common way to create a DataFrame is to use the `read_csv` (pandas) function to read a CSV file. \n",
        "\n",
        "Another common technique is to use the `DataFrame` function, which has three parameters:\n",
        "1. `data`, which is a numpy array, a dictionary or another DataFrame (examples of each follow)\n",
        "1. `index`, which is a list of the names of the rows\n",
        "1. `columns`, which is a list of the names of the columns\n",
        "\n",
        "Although tables are often stored in CSV files and so the `read_csv` function is used read them into Python, the `DataFrame` function is used in many situations in which more control is needed when creating dataframes. Just a few of these situations are listed below:\n",
        "- Very small dataframes are needed to demonstrate functions or methods (for instance, this notebook)\n",
        "- Very small dataframes are needed to demonstrate problems encountered when asking for help. This is not only a good idea, but is a requirement when asking questions on stackoverflow <https://stackoverflow.com>. \n",
        "- Dataframes can be constructed using dictionaries, Series, arrays, list-like objects and iterables\n",
        "\n",
        "In addition, see the documentation below or in the above References section which lists the attributes and methods of the pandas dataframe:\n",
        "- http://pandas.pydata.org/pandas-docs/stable/reference/api/pandas.DataFrame.html"
      ]
    },
    {
      "cell_type": "markdown",
      "metadata": {
        "id": "mXyW-rYNwTcK",
        "colab_type": "text"
      },
      "source": [
        "Create a sample dataframe for the demonstrations below."
      ]
    },
    {
      "cell_type": "code",
      "metadata": {
        "id": "26Bc0SPPwTcK",
        "colab_type": "code",
        "colab": {
          "base_uri": "https://localhost:8080/",
          "height": 142
        },
        "outputId": "e0aea75f-3efb-4a2d-90e8-eb9875aaecff"
      },
      "source": [
        "df_col = pd.DataFrame(data=[[100, 200, 300, 400],\n",
        "                            [101, 201, 301, 401],\n",
        "                            [102, 202, 302, 402]], \n",
        "                      columns=['col_a', 'col_b', 'col_c', 'col_d']\n",
        "                     )\n",
        "df_col"
      ],
      "execution_count": 2,
      "outputs": [
        {
          "output_type": "execute_result",
          "data": {
            "text/html": [
              "<div>\n",
              "<style scoped>\n",
              "    .dataframe tbody tr th:only-of-type {\n",
              "        vertical-align: middle;\n",
              "    }\n",
              "\n",
              "    .dataframe tbody tr th {\n",
              "        vertical-align: top;\n",
              "    }\n",
              "\n",
              "    .dataframe thead th {\n",
              "        text-align: right;\n",
              "    }\n",
              "</style>\n",
              "<table border=\"1\" class=\"dataframe\">\n",
              "  <thead>\n",
              "    <tr style=\"text-align: right;\">\n",
              "      <th></th>\n",
              "      <th>col_a</th>\n",
              "      <th>col_b</th>\n",
              "      <th>col_c</th>\n",
              "      <th>col_d</th>\n",
              "    </tr>\n",
              "  </thead>\n",
              "  <tbody>\n",
              "    <tr>\n",
              "      <th>0</th>\n",
              "      <td>100</td>\n",
              "      <td>200</td>\n",
              "      <td>300</td>\n",
              "      <td>400</td>\n",
              "    </tr>\n",
              "    <tr>\n",
              "      <th>1</th>\n",
              "      <td>101</td>\n",
              "      <td>201</td>\n",
              "      <td>301</td>\n",
              "      <td>401</td>\n",
              "    </tr>\n",
              "    <tr>\n",
              "      <th>2</th>\n",
              "      <td>102</td>\n",
              "      <td>202</td>\n",
              "      <td>302</td>\n",
              "      <td>402</td>\n",
              "    </tr>\n",
              "  </tbody>\n",
              "</table>\n",
              "</div>"
            ],
            "text/plain": [
              "   col_a  col_b  col_c  col_d\n",
              "0    100    200    300    400\n",
              "1    101    201    301    401\n",
              "2    102    202    302    402"
            ]
          },
          "metadata": {
            "tags": []
          },
          "execution_count": 2
        }
      ]
    },
    {
      "cell_type": "markdown",
      "metadata": {
        "id": "nz4ExAebwTcM",
        "colab_type": "text"
      },
      "source": [
        "## 2. Select Columns"
      ]
    },
    {
      "cell_type": "markdown",
      "metadata": {
        "id": "DsWPM_IzwTcN",
        "colab_type": "text"
      },
      "source": [
        "A column can be accessed as an attribute of the dataframe."
      ]
    },
    {
      "cell_type": "code",
      "metadata": {
        "id": "EDnOyuQAwTcN",
        "colab_type": "code",
        "colab": {
          "base_uri": "https://localhost:8080/",
          "height": 102
        },
        "outputId": "447731b0-b58d-4706-c87f-32a36f5d21cb"
      },
      "source": [
        "x = df_col.col_b\n",
        "print(type(x))\n",
        "x"
      ],
      "execution_count": 3,
      "outputs": [
        {
          "output_type": "stream",
          "text": [
            "<class 'pandas.core.series.Series'>\n"
          ],
          "name": "stdout"
        },
        {
          "output_type": "execute_result",
          "data": {
            "text/plain": [
              "0    200\n",
              "1    201\n",
              "2    202\n",
              "Name: col_b, dtype: int64"
            ]
          },
          "metadata": {
            "tags": []
          },
          "execution_count": 3
        }
      ]
    },
    {
      "cell_type": "markdown",
      "metadata": {
        "id": "WbGUOhCmwTcR",
        "colab_type": "text"
      },
      "source": [
        "Notice that a series is returned."
      ]
    },
    {
      "cell_type": "markdown",
      "metadata": {
        "id": "VJ6g-U8-wTcS",
        "colab_type": "text"
      },
      "source": [
        "A column can be accessed using (single) square brackets."
      ]
    },
    {
      "cell_type": "code",
      "metadata": {
        "id": "ZAMzoQpnwTcS",
        "colab_type": "code",
        "colab": {
          "base_uri": "https://localhost:8080/",
          "height": 102
        },
        "outputId": "23268e42-6385-4f72-d1e9-255ba14d5bee"
      },
      "source": [
        "x = df_col['col_b']\n",
        "print(type(x))\n",
        "x"
      ],
      "execution_count": 4,
      "outputs": [
        {
          "output_type": "stream",
          "text": [
            "<class 'pandas.core.series.Series'>\n"
          ],
          "name": "stdout"
        },
        {
          "output_type": "execute_result",
          "data": {
            "text/plain": [
              "0    200\n",
              "1    201\n",
              "2    202\n",
              "Name: col_b, dtype: int64"
            ]
          },
          "metadata": {
            "tags": []
          },
          "execution_count": 4
        }
      ]
    },
    {
      "cell_type": "markdown",
      "metadata": {
        "id": "_z3ImTntwTcU",
        "colab_type": "text"
      },
      "source": [
        "Notice that a series is returned in both cases above."
      ]
    },
    {
      "cell_type": "markdown",
      "metadata": {
        "id": "ISJtb-azwTcV",
        "colab_type": "text"
      },
      "source": [
        "A dataframe can be returned with specific column by using double square brackets."
      ]
    },
    {
      "cell_type": "code",
      "metadata": {
        "id": "JT7RKRQawTcW",
        "colab_type": "code",
        "colab": {
          "base_uri": "https://localhost:8080/",
          "height": 159
        },
        "outputId": "625b5527-b624-462d-ce7a-47dcf89f3849"
      },
      "source": [
        "x = df_col[['col_b']]\n",
        "print(type(x))\n",
        "x"
      ],
      "execution_count": 5,
      "outputs": [
        {
          "output_type": "stream",
          "text": [
            "<class 'pandas.core.frame.DataFrame'>\n"
          ],
          "name": "stdout"
        },
        {
          "output_type": "execute_result",
          "data": {
            "text/html": [
              "<div>\n",
              "<style scoped>\n",
              "    .dataframe tbody tr th:only-of-type {\n",
              "        vertical-align: middle;\n",
              "    }\n",
              "\n",
              "    .dataframe tbody tr th {\n",
              "        vertical-align: top;\n",
              "    }\n",
              "\n",
              "    .dataframe thead th {\n",
              "        text-align: right;\n",
              "    }\n",
              "</style>\n",
              "<table border=\"1\" class=\"dataframe\">\n",
              "  <thead>\n",
              "    <tr style=\"text-align: right;\">\n",
              "      <th></th>\n",
              "      <th>col_b</th>\n",
              "    </tr>\n",
              "  </thead>\n",
              "  <tbody>\n",
              "    <tr>\n",
              "      <th>0</th>\n",
              "      <td>200</td>\n",
              "    </tr>\n",
              "    <tr>\n",
              "      <th>1</th>\n",
              "      <td>201</td>\n",
              "    </tr>\n",
              "    <tr>\n",
              "      <th>2</th>\n",
              "      <td>202</td>\n",
              "    </tr>\n",
              "  </tbody>\n",
              "</table>\n",
              "</div>"
            ],
            "text/plain": [
              "   col_b\n",
              "0    200\n",
              "1    201\n",
              "2    202"
            ]
          },
          "metadata": {
            "tags": []
          },
          "execution_count": 5
        }
      ]
    },
    {
      "cell_type": "markdown",
      "metadata": {
        "id": "NhRgffKGwTcZ",
        "colab_type": "text"
      },
      "source": [
        "A dataframe with multiple columns can be returned by passing a list of columns to the square brackets."
      ]
    },
    {
      "cell_type": "code",
      "metadata": {
        "id": "bvrp_PSwwTca",
        "colab_type": "code",
        "colab": {
          "base_uri": "https://localhost:8080/",
          "height": 159
        },
        "outputId": "1983860f-ab2e-4e5c-b2dd-3e0841c2e366"
      },
      "source": [
        "x = df_col[['col_b','col_c']]\n",
        "print(type(x))\n",
        "x"
      ],
      "execution_count": 6,
      "outputs": [
        {
          "output_type": "stream",
          "text": [
            "<class 'pandas.core.frame.DataFrame'>\n"
          ],
          "name": "stdout"
        },
        {
          "output_type": "execute_result",
          "data": {
            "text/html": [
              "<div>\n",
              "<style scoped>\n",
              "    .dataframe tbody tr th:only-of-type {\n",
              "        vertical-align: middle;\n",
              "    }\n",
              "\n",
              "    .dataframe tbody tr th {\n",
              "        vertical-align: top;\n",
              "    }\n",
              "\n",
              "    .dataframe thead th {\n",
              "        text-align: right;\n",
              "    }\n",
              "</style>\n",
              "<table border=\"1\" class=\"dataframe\">\n",
              "  <thead>\n",
              "    <tr style=\"text-align: right;\">\n",
              "      <th></th>\n",
              "      <th>col_b</th>\n",
              "      <th>col_c</th>\n",
              "    </tr>\n",
              "  </thead>\n",
              "  <tbody>\n",
              "    <tr>\n",
              "      <th>0</th>\n",
              "      <td>200</td>\n",
              "      <td>300</td>\n",
              "    </tr>\n",
              "    <tr>\n",
              "      <th>1</th>\n",
              "      <td>201</td>\n",
              "      <td>301</td>\n",
              "    </tr>\n",
              "    <tr>\n",
              "      <th>2</th>\n",
              "      <td>202</td>\n",
              "      <td>302</td>\n",
              "    </tr>\n",
              "  </tbody>\n",
              "</table>\n",
              "</div>"
            ],
            "text/plain": [
              "   col_b  col_c\n",
              "0    200    300\n",
              "1    201    301\n",
              "2    202    302"
            ]
          },
          "metadata": {
            "tags": []
          },
          "execution_count": 6
        }
      ]
    },
    {
      "cell_type": "code",
      "metadata": {
        "id": "lIFBwHsTwTcc",
        "colab_type": "code",
        "colab": {
          "base_uri": "https://localhost:8080/",
          "height": 159
        },
        "outputId": "a63875fb-c8c2-4865-fd8d-94ba0dae9772"
      },
      "source": [
        "col_list = ['col_b','col_c']\n",
        "x = df_col[col_list]\n",
        "print(type(x))\n",
        "x"
      ],
      "execution_count": 7,
      "outputs": [
        {
          "output_type": "stream",
          "text": [
            "<class 'pandas.core.frame.DataFrame'>\n"
          ],
          "name": "stdout"
        },
        {
          "output_type": "execute_result",
          "data": {
            "text/html": [
              "<div>\n",
              "<style scoped>\n",
              "    .dataframe tbody tr th:only-of-type {\n",
              "        vertical-align: middle;\n",
              "    }\n",
              "\n",
              "    .dataframe tbody tr th {\n",
              "        vertical-align: top;\n",
              "    }\n",
              "\n",
              "    .dataframe thead th {\n",
              "        text-align: right;\n",
              "    }\n",
              "</style>\n",
              "<table border=\"1\" class=\"dataframe\">\n",
              "  <thead>\n",
              "    <tr style=\"text-align: right;\">\n",
              "      <th></th>\n",
              "      <th>col_b</th>\n",
              "      <th>col_c</th>\n",
              "    </tr>\n",
              "  </thead>\n",
              "  <tbody>\n",
              "    <tr>\n",
              "      <th>0</th>\n",
              "      <td>200</td>\n",
              "      <td>300</td>\n",
              "    </tr>\n",
              "    <tr>\n",
              "      <th>1</th>\n",
              "      <td>201</td>\n",
              "      <td>301</td>\n",
              "    </tr>\n",
              "    <tr>\n",
              "      <th>2</th>\n",
              "      <td>202</td>\n",
              "      <td>302</td>\n",
              "    </tr>\n",
              "  </tbody>\n",
              "</table>\n",
              "</div>"
            ],
            "text/plain": [
              "   col_b  col_c\n",
              "0    200    300\n",
              "1    201    301\n",
              "2    202    302"
            ]
          },
          "metadata": {
            "tags": []
          },
          "execution_count": 7
        }
      ]
    },
    {
      "cell_type": "markdown",
      "metadata": {
        "id": "H5nlTrdfwTcg",
        "colab_type": "text"
      },
      "source": [
        "Columns can also be selected using the `iloc` method.\n",
        "\n",
        "This method specifies columns by their integer location."
      ]
    },
    {
      "cell_type": "code",
      "metadata": {
        "id": "K9o0OjpxwTcg",
        "colab_type": "code",
        "colab": {
          "base_uri": "https://localhost:8080/",
          "height": 102
        },
        "outputId": "3c1bb06e-d374-49ee-cc9a-2338b02e1a2d"
      },
      "source": [
        "x = df_col.iloc[:,0]\n",
        "print(type(x))\n",
        "x"
      ],
      "execution_count": 8,
      "outputs": [
        {
          "output_type": "stream",
          "text": [
            "<class 'pandas.core.series.Series'>\n"
          ],
          "name": "stdout"
        },
        {
          "output_type": "execute_result",
          "data": {
            "text/plain": [
              "0    100\n",
              "1    101\n",
              "2    102\n",
              "Name: col_a, dtype: int64"
            ]
          },
          "metadata": {
            "tags": []
          },
          "execution_count": 8
        }
      ]
    },
    {
      "cell_type": "markdown",
      "metadata": {
        "id": "mOwjBhxrwTcj",
        "colab_type": "text"
      },
      "source": [
        "Notice that a Series is returned."
      ]
    },
    {
      "cell_type": "markdown",
      "metadata": {
        "id": "EqUPLjIxwTcj",
        "colab_type": "text"
      },
      "source": [
        "Multiple column can be retrieved with a list of integer column locations."
      ]
    },
    {
      "cell_type": "code",
      "metadata": {
        "id": "3gjr1aRzwTck",
        "colab_type": "code",
        "colab": {
          "base_uri": "https://localhost:8080/",
          "height": 159
        },
        "outputId": "f9aa32c4-049b-4c68-de70-b5d2ed37a3f9"
      },
      "source": [
        "x = df_col.iloc[:,[0,2]]\n",
        "print(type(x))\n",
        "x"
      ],
      "execution_count": 9,
      "outputs": [
        {
          "output_type": "stream",
          "text": [
            "<class 'pandas.core.frame.DataFrame'>\n"
          ],
          "name": "stdout"
        },
        {
          "output_type": "execute_result",
          "data": {
            "text/html": [
              "<div>\n",
              "<style scoped>\n",
              "    .dataframe tbody tr th:only-of-type {\n",
              "        vertical-align: middle;\n",
              "    }\n",
              "\n",
              "    .dataframe tbody tr th {\n",
              "        vertical-align: top;\n",
              "    }\n",
              "\n",
              "    .dataframe thead th {\n",
              "        text-align: right;\n",
              "    }\n",
              "</style>\n",
              "<table border=\"1\" class=\"dataframe\">\n",
              "  <thead>\n",
              "    <tr style=\"text-align: right;\">\n",
              "      <th></th>\n",
              "      <th>col_a</th>\n",
              "      <th>col_c</th>\n",
              "    </tr>\n",
              "  </thead>\n",
              "  <tbody>\n",
              "    <tr>\n",
              "      <th>0</th>\n",
              "      <td>100</td>\n",
              "      <td>300</td>\n",
              "    </tr>\n",
              "    <tr>\n",
              "      <th>1</th>\n",
              "      <td>101</td>\n",
              "      <td>301</td>\n",
              "    </tr>\n",
              "    <tr>\n",
              "      <th>2</th>\n",
              "      <td>102</td>\n",
              "      <td>302</td>\n",
              "    </tr>\n",
              "  </tbody>\n",
              "</table>\n",
              "</div>"
            ],
            "text/plain": [
              "   col_a  col_c\n",
              "0    100    300\n",
              "1    101    301\n",
              "2    102    302"
            ]
          },
          "metadata": {
            "tags": []
          },
          "execution_count": 9
        }
      ]
    },
    {
      "cell_type": "markdown",
      "metadata": {
        "id": "j1h2opxewTcm",
        "colab_type": "text"
      },
      "source": [
        "Notice that a `DataFrame` is returned."
      ]
    },
    {
      "cell_type": "markdown",
      "metadata": {
        "id": "2Y1JglsIwTcm",
        "colab_type": "text"
      },
      "source": [
        "Columns can be accessed, by their names, using the `loc` method.\n",
        "\n",
        "This method specifies columns by their name."
      ]
    },
    {
      "cell_type": "code",
      "metadata": {
        "id": "VnijUAnUwTcn",
        "colab_type": "code",
        "colab": {
          "base_uri": "https://localhost:8080/",
          "height": 102
        },
        "outputId": "adc215af-c195-4461-bdeb-0ac914ff5d36"
      },
      "source": [
        "x = df_col.loc[:3,'col_b']\n",
        "print(type(x))\n",
        "x"
      ],
      "execution_count": 10,
      "outputs": [
        {
          "output_type": "stream",
          "text": [
            "<class 'pandas.core.series.Series'>\n"
          ],
          "name": "stdout"
        },
        {
          "output_type": "execute_result",
          "data": {
            "text/plain": [
              "0    200\n",
              "1    201\n",
              "2    202\n",
              "Name: col_b, dtype: int64"
            ]
          },
          "metadata": {
            "tags": []
          },
          "execution_count": 10
        }
      ]
    },
    {
      "cell_type": "markdown",
      "metadata": {
        "id": "lmNXETzOwTcp",
        "colab_type": "text"
      },
      "source": [
        "Notice that a Series is returned."
      ]
    },
    {
      "cell_type": "markdown",
      "metadata": {
        "id": "no_CDA5awTcp",
        "colab_type": "text"
      },
      "source": [
        "Multiple column can be retrieved with a list of column labels. \n",
        "\n",
        "In the first code cell below, a dataframe with a single column is returned."
      ]
    },
    {
      "cell_type": "code",
      "metadata": {
        "id": "wRRZQ3e_wTcq",
        "colab_type": "code",
        "colab": {
          "base_uri": "https://localhost:8080/",
          "height": 159
        },
        "outputId": "8f92a715-729e-4ab9-b69b-926d9f1a6a16"
      },
      "source": [
        "x = df_col.loc[:,['col_b']]\n",
        "print(type(x))\n",
        "x"
      ],
      "execution_count": 11,
      "outputs": [
        {
          "output_type": "stream",
          "text": [
            "<class 'pandas.core.frame.DataFrame'>\n"
          ],
          "name": "stdout"
        },
        {
          "output_type": "execute_result",
          "data": {
            "text/html": [
              "<div>\n",
              "<style scoped>\n",
              "    .dataframe tbody tr th:only-of-type {\n",
              "        vertical-align: middle;\n",
              "    }\n",
              "\n",
              "    .dataframe tbody tr th {\n",
              "        vertical-align: top;\n",
              "    }\n",
              "\n",
              "    .dataframe thead th {\n",
              "        text-align: right;\n",
              "    }\n",
              "</style>\n",
              "<table border=\"1\" class=\"dataframe\">\n",
              "  <thead>\n",
              "    <tr style=\"text-align: right;\">\n",
              "      <th></th>\n",
              "      <th>col_b</th>\n",
              "    </tr>\n",
              "  </thead>\n",
              "  <tbody>\n",
              "    <tr>\n",
              "      <th>0</th>\n",
              "      <td>200</td>\n",
              "    </tr>\n",
              "    <tr>\n",
              "      <th>1</th>\n",
              "      <td>201</td>\n",
              "    </tr>\n",
              "    <tr>\n",
              "      <th>2</th>\n",
              "      <td>202</td>\n",
              "    </tr>\n",
              "  </tbody>\n",
              "</table>\n",
              "</div>"
            ],
            "text/plain": [
              "   col_b\n",
              "0    200\n",
              "1    201\n",
              "2    202"
            ]
          },
          "metadata": {
            "tags": []
          },
          "execution_count": 11
        }
      ]
    },
    {
      "cell_type": "markdown",
      "metadata": {
        "id": "GjiVb-p9wTcr",
        "colab_type": "text"
      },
      "source": [
        "In the following code cell, a dataframe with two columns is returned."
      ]
    },
    {
      "cell_type": "code",
      "metadata": {
        "id": "49ApnFOqwTcs",
        "colab_type": "code",
        "colab": {
          "base_uri": "https://localhost:8080/",
          "height": 159
        },
        "outputId": "ffdaf0a6-be9c-4deb-84f0-6f345241d827"
      },
      "source": [
        "x = df_col.loc[:,['col_b','col_a']]\n",
        "print(type(x))\n",
        "x"
      ],
      "execution_count": 12,
      "outputs": [
        {
          "output_type": "stream",
          "text": [
            "<class 'pandas.core.frame.DataFrame'>\n"
          ],
          "name": "stdout"
        },
        {
          "output_type": "execute_result",
          "data": {
            "text/html": [
              "<div>\n",
              "<style scoped>\n",
              "    .dataframe tbody tr th:only-of-type {\n",
              "        vertical-align: middle;\n",
              "    }\n",
              "\n",
              "    .dataframe tbody tr th {\n",
              "        vertical-align: top;\n",
              "    }\n",
              "\n",
              "    .dataframe thead th {\n",
              "        text-align: right;\n",
              "    }\n",
              "</style>\n",
              "<table border=\"1\" class=\"dataframe\">\n",
              "  <thead>\n",
              "    <tr style=\"text-align: right;\">\n",
              "      <th></th>\n",
              "      <th>col_b</th>\n",
              "      <th>col_a</th>\n",
              "    </tr>\n",
              "  </thead>\n",
              "  <tbody>\n",
              "    <tr>\n",
              "      <th>0</th>\n",
              "      <td>200</td>\n",
              "      <td>100</td>\n",
              "    </tr>\n",
              "    <tr>\n",
              "      <th>1</th>\n",
              "      <td>201</td>\n",
              "      <td>101</td>\n",
              "    </tr>\n",
              "    <tr>\n",
              "      <th>2</th>\n",
              "      <td>202</td>\n",
              "      <td>102</td>\n",
              "    </tr>\n",
              "  </tbody>\n",
              "</table>\n",
              "</div>"
            ],
            "text/plain": [
              "   col_b  col_a\n",
              "0    200    100\n",
              "1    201    101\n",
              "2    202    102"
            ]
          },
          "metadata": {
            "tags": []
          },
          "execution_count": 12
        }
      ]
    },
    {
      "cell_type": "markdown",
      "metadata": {
        "id": "Mte98ZaawTcu",
        "colab_type": "text"
      },
      "source": [
        "The `loc` method can also be used to retrieve a range of rows between, and including, the rows specified."
      ]
    },
    {
      "cell_type": "code",
      "metadata": {
        "id": "H84Jj8auwTcv",
        "colab_type": "code",
        "colab": {
          "base_uri": "https://localhost:8080/",
          "height": 159
        },
        "outputId": "4f6e75ba-a325-4799-8ed7-0e490d008abb"
      },
      "source": [
        "x = df_col.loc[:,'col_a':'col_b']\n",
        "print(type(x))\n",
        "x"
      ],
      "execution_count": 13,
      "outputs": [
        {
          "output_type": "stream",
          "text": [
            "<class 'pandas.core.frame.DataFrame'>\n"
          ],
          "name": "stdout"
        },
        {
          "output_type": "execute_result",
          "data": {
            "text/html": [
              "<div>\n",
              "<style scoped>\n",
              "    .dataframe tbody tr th:only-of-type {\n",
              "        vertical-align: middle;\n",
              "    }\n",
              "\n",
              "    .dataframe tbody tr th {\n",
              "        vertical-align: top;\n",
              "    }\n",
              "\n",
              "    .dataframe thead th {\n",
              "        text-align: right;\n",
              "    }\n",
              "</style>\n",
              "<table border=\"1\" class=\"dataframe\">\n",
              "  <thead>\n",
              "    <tr style=\"text-align: right;\">\n",
              "      <th></th>\n",
              "      <th>col_a</th>\n",
              "      <th>col_b</th>\n",
              "    </tr>\n",
              "  </thead>\n",
              "  <tbody>\n",
              "    <tr>\n",
              "      <th>0</th>\n",
              "      <td>100</td>\n",
              "      <td>200</td>\n",
              "    </tr>\n",
              "    <tr>\n",
              "      <th>1</th>\n",
              "      <td>101</td>\n",
              "      <td>201</td>\n",
              "    </tr>\n",
              "    <tr>\n",
              "      <th>2</th>\n",
              "      <td>102</td>\n",
              "      <td>202</td>\n",
              "    </tr>\n",
              "  </tbody>\n",
              "</table>\n",
              "</div>"
            ],
            "text/plain": [
              "   col_a  col_b\n",
              "0    100    200\n",
              "1    101    201\n",
              "2    102    202"
            ]
          },
          "metadata": {
            "tags": []
          },
          "execution_count": 13
        }
      ]
    },
    {
      "cell_type": "markdown",
      "metadata": {
        "id": "iWyi10OlwTc0",
        "colab_type": "text"
      },
      "source": [
        "## 3. Select Rows"
      ]
    },
    {
      "cell_type": "markdown",
      "metadata": {
        "id": "OTNVZPppwTc2",
        "colab_type": "text"
      },
      "source": [
        "This section contains three sub-sections which describe three types of indexes: numeric, character and datetime."
      ]
    },
    {
      "cell_type": "markdown",
      "metadata": {
        "id": "fYcxvziiwTc5",
        "colab_type": "text"
      },
      "source": [
        "### 3.1 Numeric index"
      ]
    },
    {
      "cell_type": "markdown",
      "metadata": {
        "id": "lkXPm3EYwTc6",
        "colab_type": "text"
      },
      "source": [
        "Create a dataframe below with a numeric index that is different than the position of the row in the dataframe."
      ]
    },
    {
      "cell_type": "code",
      "metadata": {
        "id": "_kAZj9qOwTc7",
        "colab_type": "code",
        "colab": {
          "base_uri": "https://localhost:8080/",
          "height": 142
        },
        "outputId": "488744f1-0f0e-462a-8a44-5effde919274"
      },
      "source": [
        "df_num_index = pd.DataFrame([[100, 200, 300, 400],\n",
        "                             [101, 201, 301, 401],\n",
        "                             [102, 202, 302, 402]], \n",
        "                            columns=['col_a', 'col_b', 'col_c', 'col_d'],\n",
        "                            index  =[100, 200, 300]\n",
        "                           )\n",
        "df_num_index"
      ],
      "execution_count": 14,
      "outputs": [
        {
          "output_type": "execute_result",
          "data": {
            "text/html": [
              "<div>\n",
              "<style scoped>\n",
              "    .dataframe tbody tr th:only-of-type {\n",
              "        vertical-align: middle;\n",
              "    }\n",
              "\n",
              "    .dataframe tbody tr th {\n",
              "        vertical-align: top;\n",
              "    }\n",
              "\n",
              "    .dataframe thead th {\n",
              "        text-align: right;\n",
              "    }\n",
              "</style>\n",
              "<table border=\"1\" class=\"dataframe\">\n",
              "  <thead>\n",
              "    <tr style=\"text-align: right;\">\n",
              "      <th></th>\n",
              "      <th>col_a</th>\n",
              "      <th>col_b</th>\n",
              "      <th>col_c</th>\n",
              "      <th>col_d</th>\n",
              "    </tr>\n",
              "  </thead>\n",
              "  <tbody>\n",
              "    <tr>\n",
              "      <th>100</th>\n",
              "      <td>100</td>\n",
              "      <td>200</td>\n",
              "      <td>300</td>\n",
              "      <td>400</td>\n",
              "    </tr>\n",
              "    <tr>\n",
              "      <th>200</th>\n",
              "      <td>101</td>\n",
              "      <td>201</td>\n",
              "      <td>301</td>\n",
              "      <td>401</td>\n",
              "    </tr>\n",
              "    <tr>\n",
              "      <th>300</th>\n",
              "      <td>102</td>\n",
              "      <td>202</td>\n",
              "      <td>302</td>\n",
              "      <td>402</td>\n",
              "    </tr>\n",
              "  </tbody>\n",
              "</table>\n",
              "</div>"
            ],
            "text/plain": [
              "     col_a  col_b  col_c  col_d\n",
              "100    100    200    300    400\n",
              "200    101    201    301    401\n",
              "300    102    202    302    402"
            ]
          },
          "metadata": {
            "tags": []
          },
          "execution_count": 14
        }
      ]
    },
    {
      "cell_type": "markdown",
      "metadata": {
        "id": "Uut1nV0IwTc9",
        "colab_type": "text"
      },
      "source": [
        "Recall, the `iloc` method retrieves rows of a dataframe based on the __numeric position__ of the rows in the dataframe.\n",
        "\n",
        "The colon operator `:` retrieves a range of rows (from the first element and up to, but not including, the second element)."
      ]
    },
    {
      "cell_type": "code",
      "metadata": {
        "id": "aUpCh8l4wTc-",
        "colab_type": "code",
        "colab": {
          "base_uri": "https://localhost:8080/",
          "height": 111
        },
        "outputId": "3d9ed397-9fcb-49ab-8ffd-ddc1da11c986"
      },
      "source": [
        "df_num_index.iloc[0:2,:]"
      ],
      "execution_count": 15,
      "outputs": [
        {
          "output_type": "execute_result",
          "data": {
            "text/html": [
              "<div>\n",
              "<style scoped>\n",
              "    .dataframe tbody tr th:only-of-type {\n",
              "        vertical-align: middle;\n",
              "    }\n",
              "\n",
              "    .dataframe tbody tr th {\n",
              "        vertical-align: top;\n",
              "    }\n",
              "\n",
              "    .dataframe thead th {\n",
              "        text-align: right;\n",
              "    }\n",
              "</style>\n",
              "<table border=\"1\" class=\"dataframe\">\n",
              "  <thead>\n",
              "    <tr style=\"text-align: right;\">\n",
              "      <th></th>\n",
              "      <th>col_a</th>\n",
              "      <th>col_b</th>\n",
              "      <th>col_c</th>\n",
              "      <th>col_d</th>\n",
              "    </tr>\n",
              "  </thead>\n",
              "  <tbody>\n",
              "    <tr>\n",
              "      <th>100</th>\n",
              "      <td>100</td>\n",
              "      <td>200</td>\n",
              "      <td>300</td>\n",
              "      <td>400</td>\n",
              "    </tr>\n",
              "    <tr>\n",
              "      <th>200</th>\n",
              "      <td>101</td>\n",
              "      <td>201</td>\n",
              "      <td>301</td>\n",
              "      <td>401</td>\n",
              "    </tr>\n",
              "  </tbody>\n",
              "</table>\n",
              "</div>"
            ],
            "text/plain": [
              "     col_a  col_b  col_c  col_d\n",
              "100    100    200    300    400\n",
              "200    101    201    301    401"
            ]
          },
          "metadata": {
            "tags": []
          },
          "execution_count": 15
        }
      ]
    },
    {
      "cell_type": "markdown",
      "metadata": {
        "id": "12CxelfPwTdE",
        "colab_type": "text"
      },
      "source": [
        "The `loc` method retrieve rows of a dataframe based on the index of the dataframe."
      ]
    },
    {
      "cell_type": "code",
      "metadata": {
        "id": "swSnOFkewTdF",
        "colab_type": "code",
        "colab": {
          "base_uri": "https://localhost:8080/",
          "height": 142
        },
        "outputId": "16b625df-64ec-433c-f76b-35fa254b83e5"
      },
      "source": [
        "df_num_index.loc[100:300,:]"
      ],
      "execution_count": 16,
      "outputs": [
        {
          "output_type": "execute_result",
          "data": {
            "text/html": [
              "<div>\n",
              "<style scoped>\n",
              "    .dataframe tbody tr th:only-of-type {\n",
              "        vertical-align: middle;\n",
              "    }\n",
              "\n",
              "    .dataframe tbody tr th {\n",
              "        vertical-align: top;\n",
              "    }\n",
              "\n",
              "    .dataframe thead th {\n",
              "        text-align: right;\n",
              "    }\n",
              "</style>\n",
              "<table border=\"1\" class=\"dataframe\">\n",
              "  <thead>\n",
              "    <tr style=\"text-align: right;\">\n",
              "      <th></th>\n",
              "      <th>col_a</th>\n",
              "      <th>col_b</th>\n",
              "      <th>col_c</th>\n",
              "      <th>col_d</th>\n",
              "    </tr>\n",
              "  </thead>\n",
              "  <tbody>\n",
              "    <tr>\n",
              "      <th>100</th>\n",
              "      <td>100</td>\n",
              "      <td>200</td>\n",
              "      <td>300</td>\n",
              "      <td>400</td>\n",
              "    </tr>\n",
              "    <tr>\n",
              "      <th>200</th>\n",
              "      <td>101</td>\n",
              "      <td>201</td>\n",
              "      <td>301</td>\n",
              "      <td>401</td>\n",
              "    </tr>\n",
              "    <tr>\n",
              "      <th>300</th>\n",
              "      <td>102</td>\n",
              "      <td>202</td>\n",
              "      <td>302</td>\n",
              "      <td>402</td>\n",
              "    </tr>\n",
              "  </tbody>\n",
              "</table>\n",
              "</div>"
            ],
            "text/plain": [
              "     col_a  col_b  col_c  col_d\n",
              "100    100    200    300    400\n",
              "200    101    201    301    401\n",
              "300    102    202    302    402"
            ]
          },
          "metadata": {
            "tags": []
          },
          "execution_count": 16
        }
      ]
    },
    {
      "cell_type": "markdown",
      "metadata": {
        "id": "bVkp1T_jwTdI",
        "colab_type": "text"
      },
      "source": [
        "Notice that the endpoints are included in the specified range."
      ]
    },
    {
      "cell_type": "markdown",
      "metadata": {
        "id": "3RbLc-sbwTdI",
        "colab_type": "text"
      },
      "source": [
        "### 3.2 Character index"
      ]
    },
    {
      "cell_type": "markdown",
      "metadata": {
        "id": "ZChODbefwTdJ",
        "colab_type": "text"
      },
      "source": [
        "Create a dataframe with a character index."
      ]
    },
    {
      "cell_type": "code",
      "metadata": {
        "id": "TWa5uCrswTdK",
        "colab_type": "code",
        "colab": {
          "base_uri": "https://localhost:8080/",
          "height": 142
        },
        "outputId": "08aabe22-b9e1-4138-d7e0-1569f28674b0"
      },
      "source": [
        "df_row_col = pd.DataFrame([[100, 200, 300, 400],\n",
        "                           [101, 201, 301, 401],\n",
        "                           [102, 202, 302, 402]], \n",
        "                          columns=['col_a', 'col_b', 'col_c', 'col_d'],\n",
        "                          index  =['row_1', 'row_2', 'row_3']\n",
        "                         )\n",
        "df_row_col"
      ],
      "execution_count": 17,
      "outputs": [
        {
          "output_type": "execute_result",
          "data": {
            "text/html": [
              "<div>\n",
              "<style scoped>\n",
              "    .dataframe tbody tr th:only-of-type {\n",
              "        vertical-align: middle;\n",
              "    }\n",
              "\n",
              "    .dataframe tbody tr th {\n",
              "        vertical-align: top;\n",
              "    }\n",
              "\n",
              "    .dataframe thead th {\n",
              "        text-align: right;\n",
              "    }\n",
              "</style>\n",
              "<table border=\"1\" class=\"dataframe\">\n",
              "  <thead>\n",
              "    <tr style=\"text-align: right;\">\n",
              "      <th></th>\n",
              "      <th>col_a</th>\n",
              "      <th>col_b</th>\n",
              "      <th>col_c</th>\n",
              "      <th>col_d</th>\n",
              "    </tr>\n",
              "  </thead>\n",
              "  <tbody>\n",
              "    <tr>\n",
              "      <th>row_1</th>\n",
              "      <td>100</td>\n",
              "      <td>200</td>\n",
              "      <td>300</td>\n",
              "      <td>400</td>\n",
              "    </tr>\n",
              "    <tr>\n",
              "      <th>row_2</th>\n",
              "      <td>101</td>\n",
              "      <td>201</td>\n",
              "      <td>301</td>\n",
              "      <td>401</td>\n",
              "    </tr>\n",
              "    <tr>\n",
              "      <th>row_3</th>\n",
              "      <td>102</td>\n",
              "      <td>202</td>\n",
              "      <td>302</td>\n",
              "      <td>402</td>\n",
              "    </tr>\n",
              "  </tbody>\n",
              "</table>\n",
              "</div>"
            ],
            "text/plain": [
              "       col_a  col_b  col_c  col_d\n",
              "row_1    100    200    300    400\n",
              "row_2    101    201    301    401\n",
              "row_3    102    202    302    402"
            ]
          },
          "metadata": {
            "tags": []
          },
          "execution_count": 17
        }
      ]
    },
    {
      "cell_type": "markdown",
      "metadata": {
        "id": "bqr_CNuwwTdL",
        "colab_type": "text"
      },
      "source": [
        "Retrieve rows of a dataframe based on the character index of the rows in that dataframe."
      ]
    },
    {
      "cell_type": "code",
      "metadata": {
        "id": "YOwBp7mawTdM",
        "colab_type": "code",
        "colab": {
          "base_uri": "https://localhost:8080/",
          "height": 102
        },
        "outputId": "55277d87-3540-4e7c-afda-fa12c5dee055"
      },
      "source": [
        "df_row_col.loc['row_2',:]"
      ],
      "execution_count": 18,
      "outputs": [
        {
          "output_type": "execute_result",
          "data": {
            "text/plain": [
              "col_a    101\n",
              "col_b    201\n",
              "col_c    301\n",
              "col_d    401\n",
              "Name: row_2, dtype: int64"
            ]
          },
          "metadata": {
            "tags": []
          },
          "execution_count": 18
        }
      ]
    },
    {
      "cell_type": "markdown",
      "metadata": {
        "id": "qBvBZyorwTdN",
        "colab_type": "text"
      },
      "source": [
        "Notice that when a single row is returned the result is Series. If there was a column of type `object` (in `df_row_col`) then the resulting series would have been of type `object`. (try it)"
      ]
    },
    {
      "cell_type": "markdown",
      "metadata": {
        "id": "iO0dfCM8wTdN",
        "colab_type": "text"
      },
      "source": [
        "Retrieve two rows by specifying their names in a list."
      ]
    },
    {
      "cell_type": "code",
      "metadata": {
        "id": "7GTu2W2DwTdO",
        "colab_type": "code",
        "colab": {
          "base_uri": "https://localhost:8080/",
          "height": 111
        },
        "outputId": "0524d7fd-e8c1-4d65-c474-934ab86cea1b"
      },
      "source": [
        "df_row_col.loc[['row_2','row_3'],:]"
      ],
      "execution_count": 19,
      "outputs": [
        {
          "output_type": "execute_result",
          "data": {
            "text/html": [
              "<div>\n",
              "<style scoped>\n",
              "    .dataframe tbody tr th:only-of-type {\n",
              "        vertical-align: middle;\n",
              "    }\n",
              "\n",
              "    .dataframe tbody tr th {\n",
              "        vertical-align: top;\n",
              "    }\n",
              "\n",
              "    .dataframe thead th {\n",
              "        text-align: right;\n",
              "    }\n",
              "</style>\n",
              "<table border=\"1\" class=\"dataframe\">\n",
              "  <thead>\n",
              "    <tr style=\"text-align: right;\">\n",
              "      <th></th>\n",
              "      <th>col_a</th>\n",
              "      <th>col_b</th>\n",
              "      <th>col_c</th>\n",
              "      <th>col_d</th>\n",
              "    </tr>\n",
              "  </thead>\n",
              "  <tbody>\n",
              "    <tr>\n",
              "      <th>row_2</th>\n",
              "      <td>101</td>\n",
              "      <td>201</td>\n",
              "      <td>301</td>\n",
              "      <td>401</td>\n",
              "    </tr>\n",
              "    <tr>\n",
              "      <th>row_3</th>\n",
              "      <td>102</td>\n",
              "      <td>202</td>\n",
              "      <td>302</td>\n",
              "      <td>402</td>\n",
              "    </tr>\n",
              "  </tbody>\n",
              "</table>\n",
              "</div>"
            ],
            "text/plain": [
              "       col_a  col_b  col_c  col_d\n",
              "row_2    101    201    301    401\n",
              "row_3    102    202    302    402"
            ]
          },
          "metadata": {
            "tags": []
          },
          "execution_count": 19
        }
      ]
    },
    {
      "cell_type": "markdown",
      "metadata": {
        "id": "6h3OY1XCwTdR",
        "colab_type": "text"
      },
      "source": [
        "Notice that a `DataFrame` is returned. This is the case for all the two examples below."
      ]
    },
    {
      "cell_type": "markdown",
      "metadata": {
        "id": "XDHEYbW7wTdR",
        "colab_type": "text"
      },
      "source": [
        "Retrieve all rows between two endpoints."
      ]
    },
    {
      "cell_type": "code",
      "metadata": {
        "id": "Idm0a3TkwTdT",
        "colab_type": "code",
        "colab": {
          "base_uri": "https://localhost:8080/",
          "height": 142
        },
        "outputId": "e9b3ebb3-1e53-4619-f389-82f00485f236"
      },
      "source": [
        "df_row_col.loc['row_1':'row_3',:]"
      ],
      "execution_count": 20,
      "outputs": [
        {
          "output_type": "execute_result",
          "data": {
            "text/html": [
              "<div>\n",
              "<style scoped>\n",
              "    .dataframe tbody tr th:only-of-type {\n",
              "        vertical-align: middle;\n",
              "    }\n",
              "\n",
              "    .dataframe tbody tr th {\n",
              "        vertical-align: top;\n",
              "    }\n",
              "\n",
              "    .dataframe thead th {\n",
              "        text-align: right;\n",
              "    }\n",
              "</style>\n",
              "<table border=\"1\" class=\"dataframe\">\n",
              "  <thead>\n",
              "    <tr style=\"text-align: right;\">\n",
              "      <th></th>\n",
              "      <th>col_a</th>\n",
              "      <th>col_b</th>\n",
              "      <th>col_c</th>\n",
              "      <th>col_d</th>\n",
              "    </tr>\n",
              "  </thead>\n",
              "  <tbody>\n",
              "    <tr>\n",
              "      <th>row_1</th>\n",
              "      <td>100</td>\n",
              "      <td>200</td>\n",
              "      <td>300</td>\n",
              "      <td>400</td>\n",
              "    </tr>\n",
              "    <tr>\n",
              "      <th>row_2</th>\n",
              "      <td>101</td>\n",
              "      <td>201</td>\n",
              "      <td>301</td>\n",
              "      <td>401</td>\n",
              "    </tr>\n",
              "    <tr>\n",
              "      <th>row_3</th>\n",
              "      <td>102</td>\n",
              "      <td>202</td>\n",
              "      <td>302</td>\n",
              "      <td>402</td>\n",
              "    </tr>\n",
              "  </tbody>\n",
              "</table>\n",
              "</div>"
            ],
            "text/plain": [
              "       col_a  col_b  col_c  col_d\n",
              "row_1    100    200    300    400\n",
              "row_2    101    201    301    401\n",
              "row_3    102    202    302    402"
            ]
          },
          "metadata": {
            "tags": []
          },
          "execution_count": 20
        }
      ]
    },
    {
      "cell_type": "markdown",
      "metadata": {
        "id": "lJHysjSywTdU",
        "colab_type": "text"
      },
      "source": [
        "Retrieve a single row and all columns between two endpoints."
      ]
    },
    {
      "cell_type": "code",
      "metadata": {
        "id": "HX7j5WlhwTdV",
        "colab_type": "code",
        "colab": {
          "base_uri": "https://localhost:8080/",
          "height": 85
        },
        "outputId": "2aa8dc54-3750-4692-b63a-6489d77d916d"
      },
      "source": [
        "df_row_col.loc['row_2','col_b':'col_d']"
      ],
      "execution_count": 21,
      "outputs": [
        {
          "output_type": "execute_result",
          "data": {
            "text/plain": [
              "col_b    201\n",
              "col_c    301\n",
              "col_d    401\n",
              "Name: row_2, dtype: int64"
            ]
          },
          "metadata": {
            "tags": []
          },
          "execution_count": 21
        }
      ]
    },
    {
      "cell_type": "markdown",
      "metadata": {
        "id": "WFgBqjU_wTdY",
        "colab_type": "text"
      },
      "source": [
        "### 3.3 Datetime index"
      ]
    },
    {
      "cell_type": "markdown",
      "metadata": {
        "id": "YeoxURBMwTdZ",
        "colab_type": "text"
      },
      "source": [
        "Create a dataframe with a datetime index."
      ]
    },
    {
      "cell_type": "code",
      "metadata": {
        "id": "lnQf7XBzwTda",
        "colab_type": "code",
        "colab": {
          "base_uri": "https://localhost:8080/",
          "height": 142
        },
        "outputId": "49236642-06db-47b2-c990-1c0efc6bd585"
      },
      "source": [
        "df_dt_col = pd.DataFrame(data=[[100, 200, 300, 400],\n",
        "                               [101, 201, 301, 401],\n",
        "                               [102, 202, 302, 402]], \n",
        "                         columns=['col_a', 'col_b', 'col_c', 'col_d'],\n",
        "                         index  =pd.date_range(pd.to_datetime('20180203', \n",
        "                                                              format='%Y%m%d'),\n",
        "                                               periods=3,\n",
        "                                               freq='D')\n",
        "                        )\n",
        "df_dt_col"
      ],
      "execution_count": 22,
      "outputs": [
        {
          "output_type": "execute_result",
          "data": {
            "text/html": [
              "<div>\n",
              "<style scoped>\n",
              "    .dataframe tbody tr th:only-of-type {\n",
              "        vertical-align: middle;\n",
              "    }\n",
              "\n",
              "    .dataframe tbody tr th {\n",
              "        vertical-align: top;\n",
              "    }\n",
              "\n",
              "    .dataframe thead th {\n",
              "        text-align: right;\n",
              "    }\n",
              "</style>\n",
              "<table border=\"1\" class=\"dataframe\">\n",
              "  <thead>\n",
              "    <tr style=\"text-align: right;\">\n",
              "      <th></th>\n",
              "      <th>col_a</th>\n",
              "      <th>col_b</th>\n",
              "      <th>col_c</th>\n",
              "      <th>col_d</th>\n",
              "    </tr>\n",
              "  </thead>\n",
              "  <tbody>\n",
              "    <tr>\n",
              "      <th>2018-02-03</th>\n",
              "      <td>100</td>\n",
              "      <td>200</td>\n",
              "      <td>300</td>\n",
              "      <td>400</td>\n",
              "    </tr>\n",
              "    <tr>\n",
              "      <th>2018-02-04</th>\n",
              "      <td>101</td>\n",
              "      <td>201</td>\n",
              "      <td>301</td>\n",
              "      <td>401</td>\n",
              "    </tr>\n",
              "    <tr>\n",
              "      <th>2018-02-05</th>\n",
              "      <td>102</td>\n",
              "      <td>202</td>\n",
              "      <td>302</td>\n",
              "      <td>402</td>\n",
              "    </tr>\n",
              "  </tbody>\n",
              "</table>\n",
              "</div>"
            ],
            "text/plain": [
              "            col_a  col_b  col_c  col_d\n",
              "2018-02-03    100    200    300    400\n",
              "2018-02-04    101    201    301    401\n",
              "2018-02-05    102    202    302    402"
            ]
          },
          "metadata": {
            "tags": []
          },
          "execution_count": 22
        }
      ]
    },
    {
      "cell_type": "markdown",
      "metadata": {
        "id": "Ny2bUt-wwTdb",
        "colab_type": "text"
      },
      "source": [
        "Notice that the argument to the `format` parameter specifies the format to use when reading the first argument."
      ]
    },
    {
      "cell_type": "markdown",
      "metadata": {
        "id": "rhAQSOYIwTdc",
        "colab_type": "text"
      },
      "source": [
        "The `iloc` method can be used and returns rows and columns based on their position."
      ]
    },
    {
      "cell_type": "code",
      "metadata": {
        "id": "6b5Dqn9xwTdd",
        "colab_type": "code",
        "colab": {
          "base_uri": "https://localhost:8080/",
          "height": 111
        },
        "outputId": "5c0c1d51-93d9-452a-b946-ee16b7962f02"
      },
      "source": [
        "df_dt_col.iloc[0:2,1:3]"
      ],
      "execution_count": 23,
      "outputs": [
        {
          "output_type": "execute_result",
          "data": {
            "text/html": [
              "<div>\n",
              "<style scoped>\n",
              "    .dataframe tbody tr th:only-of-type {\n",
              "        vertical-align: middle;\n",
              "    }\n",
              "\n",
              "    .dataframe tbody tr th {\n",
              "        vertical-align: top;\n",
              "    }\n",
              "\n",
              "    .dataframe thead th {\n",
              "        text-align: right;\n",
              "    }\n",
              "</style>\n",
              "<table border=\"1\" class=\"dataframe\">\n",
              "  <thead>\n",
              "    <tr style=\"text-align: right;\">\n",
              "      <th></th>\n",
              "      <th>col_b</th>\n",
              "      <th>col_c</th>\n",
              "    </tr>\n",
              "  </thead>\n",
              "  <tbody>\n",
              "    <tr>\n",
              "      <th>2018-02-03</th>\n",
              "      <td>200</td>\n",
              "      <td>300</td>\n",
              "    </tr>\n",
              "    <tr>\n",
              "      <th>2018-02-04</th>\n",
              "      <td>201</td>\n",
              "      <td>301</td>\n",
              "    </tr>\n",
              "  </tbody>\n",
              "</table>\n",
              "</div>"
            ],
            "text/plain": [
              "            col_b  col_c\n",
              "2018-02-03    200    300\n",
              "2018-02-04    201    301"
            ]
          },
          "metadata": {
            "tags": []
          },
          "execution_count": 23
        }
      ]
    },
    {
      "cell_type": "code",
      "metadata": {
        "id": "KXnRoM0RwTdg",
        "colab_type": "code",
        "colab": {
          "base_uri": "https://localhost:8080/",
          "height": 85
        },
        "outputId": "08d675c1-63bc-4456-df00-d50c1895e1dc"
      },
      "source": [
        "x = df_dt_col.loc['2018-02-03',['col_b','col_d']]\n",
        "print(type(x))\n",
        "x"
      ],
      "execution_count": 24,
      "outputs": [
        {
          "output_type": "stream",
          "text": [
            "<class 'pandas.core.series.Series'>\n"
          ],
          "name": "stdout"
        },
        {
          "output_type": "execute_result",
          "data": {
            "text/plain": [
              "col_b    200\n",
              "col_d    400\n",
              "Name: 2018-02-03 00:00:00, dtype: int64"
            ]
          },
          "metadata": {
            "tags": []
          },
          "execution_count": 24
        }
      ]
    },
    {
      "cell_type": "code",
      "metadata": {
        "id": "qgON0tXowTdj",
        "colab_type": "code",
        "colab": {
          "base_uri": "https://localhost:8080/",
          "height": 128
        },
        "outputId": "87e367ad-1984-4ec2-f210-68626b65b436"
      },
      "source": [
        "x = df_dt_col.loc['2018-02-04':'2018-02-05',['col_b','col_d']]\n",
        "print(type(x))\n",
        "x"
      ],
      "execution_count": 25,
      "outputs": [
        {
          "output_type": "stream",
          "text": [
            "<class 'pandas.core.frame.DataFrame'>\n"
          ],
          "name": "stdout"
        },
        {
          "output_type": "execute_result",
          "data": {
            "text/html": [
              "<div>\n",
              "<style scoped>\n",
              "    .dataframe tbody tr th:only-of-type {\n",
              "        vertical-align: middle;\n",
              "    }\n",
              "\n",
              "    .dataframe tbody tr th {\n",
              "        vertical-align: top;\n",
              "    }\n",
              "\n",
              "    .dataframe thead th {\n",
              "        text-align: right;\n",
              "    }\n",
              "</style>\n",
              "<table border=\"1\" class=\"dataframe\">\n",
              "  <thead>\n",
              "    <tr style=\"text-align: right;\">\n",
              "      <th></th>\n",
              "      <th>col_b</th>\n",
              "      <th>col_d</th>\n",
              "    </tr>\n",
              "  </thead>\n",
              "  <tbody>\n",
              "    <tr>\n",
              "      <th>2018-02-04</th>\n",
              "      <td>201</td>\n",
              "      <td>401</td>\n",
              "    </tr>\n",
              "    <tr>\n",
              "      <th>2018-02-05</th>\n",
              "      <td>202</td>\n",
              "      <td>402</td>\n",
              "    </tr>\n",
              "  </tbody>\n",
              "</table>\n",
              "</div>"
            ],
            "text/plain": [
              "            col_b  col_d\n",
              "2018-02-04    201    401\n",
              "2018-02-05    202    402"
            ]
          },
          "metadata": {
            "tags": []
          },
          "execution_count": 25
        }
      ]
    },
    {
      "cell_type": "code",
      "metadata": {
        "id": "VzR6ASt_wTdk",
        "colab_type": "code",
        "colab": {
          "base_uri": "https://localhost:8080/",
          "height": 159
        },
        "outputId": "1dbca789-d29a-4a7e-c4af-1f8a7985dff1"
      },
      "source": [
        "x = df_dt_col.loc['2018',['col_b','col_d']]\n",
        "print(type(x))\n",
        "x"
      ],
      "execution_count": 26,
      "outputs": [
        {
          "output_type": "stream",
          "text": [
            "<class 'pandas.core.frame.DataFrame'>\n"
          ],
          "name": "stdout"
        },
        {
          "output_type": "execute_result",
          "data": {
            "text/html": [
              "<div>\n",
              "<style scoped>\n",
              "    .dataframe tbody tr th:only-of-type {\n",
              "        vertical-align: middle;\n",
              "    }\n",
              "\n",
              "    .dataframe tbody tr th {\n",
              "        vertical-align: top;\n",
              "    }\n",
              "\n",
              "    .dataframe thead th {\n",
              "        text-align: right;\n",
              "    }\n",
              "</style>\n",
              "<table border=\"1\" class=\"dataframe\">\n",
              "  <thead>\n",
              "    <tr style=\"text-align: right;\">\n",
              "      <th></th>\n",
              "      <th>col_b</th>\n",
              "      <th>col_d</th>\n",
              "    </tr>\n",
              "  </thead>\n",
              "  <tbody>\n",
              "    <tr>\n",
              "      <th>2018-02-03</th>\n",
              "      <td>200</td>\n",
              "      <td>400</td>\n",
              "    </tr>\n",
              "    <tr>\n",
              "      <th>2018-02-04</th>\n",
              "      <td>201</td>\n",
              "      <td>401</td>\n",
              "    </tr>\n",
              "    <tr>\n",
              "      <th>2018-02-05</th>\n",
              "      <td>202</td>\n",
              "      <td>402</td>\n",
              "    </tr>\n",
              "  </tbody>\n",
              "</table>\n",
              "</div>"
            ],
            "text/plain": [
              "            col_b  col_d\n",
              "2018-02-03    200    400\n",
              "2018-02-04    201    401\n",
              "2018-02-05    202    402"
            ]
          },
          "metadata": {
            "tags": []
          },
          "execution_count": 26
        }
      ]
    },
    {
      "cell_type": "markdown",
      "metadata": {
        "id": "OIJYgzh3wTdl",
        "colab_type": "text"
      },
      "source": [
        "__Exercise__: try changing the previous cell so that `loc` accepts a list of row names."
      ]
    },
    {
      "cell_type": "code",
      "metadata": {
        "id": "IKiO_qz5wTdm",
        "colab_type": "code",
        "colab": {
          "base_uri": "https://localhost:8080/",
          "height": 119
        },
        "outputId": "2f7c42b8-931d-4141-e31f-5c309aa7a4e4"
      },
      "source": [
        "x = df_col.iloc[0,:]\n",
        "print(type(x))\n",
        "x"
      ],
      "execution_count": 27,
      "outputs": [
        {
          "output_type": "stream",
          "text": [
            "<class 'pandas.core.series.Series'>\n"
          ],
          "name": "stdout"
        },
        {
          "output_type": "execute_result",
          "data": {
            "text/plain": [
              "col_a    100\n",
              "col_b    200\n",
              "col_c    300\n",
              "col_d    400\n",
              "Name: 0, dtype: int64"
            ]
          },
          "metadata": {
            "tags": []
          },
          "execution_count": 27
        }
      ]
    },
    {
      "cell_type": "markdown",
      "metadata": {
        "id": "Q8IdNu7vwTdn",
        "colab_type": "text"
      },
      "source": [
        "__The End__"
      ]
    }
  ]
}