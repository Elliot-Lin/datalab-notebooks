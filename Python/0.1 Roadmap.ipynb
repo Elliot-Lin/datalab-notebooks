{
  "nbformat": 4,
  "nbformat_minor": 0,
  "metadata": {
    "colab": {
      "name": "Untitled3.ipynb",
      "provenance": [],
      "include_colab_link": true
    },
    "kernelspec": {
      "name": "python3",
      "display_name": "Python 3"
    }
  },
  "cells": [
    {
      "cell_type": "markdown",
      "metadata": {
        "id": "view-in-github",
        "colab_type": "text"
      },
      "source": [
        "<a href=\"https://colab.research.google.com/github/data-space/datalab-notebooks/blob/master/Python/0.1%20Roadmap.ipynb\" target=\"_parent\"><img src=\"https://colab.research.google.com/assets/colab-badge.svg\" alt=\"Open In Colab\"/></a>"
      ]
    },
    {
      "cell_type": "markdown",
      "metadata": {
        "id": "I8dXGVdrKnPL",
        "colab_type": "text"
      },
      "source": [
        "# Python Roadmap"
      ]
    },
    {
      "cell_type": "markdown",
      "metadata": {
        "id": "bsAZP6bZOaI9",
        "colab_type": "text"
      },
      "source": [
        "The Jupyter notebooks linked to below provide a learning track with the goal of using Python for machine learning. Each section title is a link to that groups of notebooks. The notebooks are stored at https://github.com/data-space/datalab-notebooks, but can be viewed with the nbviewer service by clicking on the links below. To run the notebooks go to https://colab.research.google.com and open the notebooks by entering in the GitHub URL `https://github.com/data-space/datalab-notebooks` in the GitHub tab when opening notebooks. Then scroll to find the desired notebook. "
      ]
    },
    {
      "cell_type": "markdown",
      "metadata": {
        "id": "GiD2T5W3MpIs",
        "colab_type": "text"
      },
      "source": [
        "## Essentials\n",
        "\n",
        "[Data lab notebooks on Python essentials at nbviewer](https://nbviewer.jupyter.org/github/data-space/datalab-notebooks/tree/master/Python/1.%20Essentials/)\n",
        "\n",
        "The topics listed below are essential to working productively and efficiently in Python:\n",
        "- lists, tuples, dictionaries, comprehensions, JSON, functions, objects, classes and packages\n",
        "\n",
        "Notebooks on each are included in the folder linked to above. In addition, there is a notebook on basic (atomic) datatypes and a notebook describing the `map`, `filter` and `reduce` functions is also included. Some people prefer these functions to list comprehensions. "
      ]
    },
    {
      "cell_type": "markdown",
      "metadata": {
        "id": "9pQg2k1-N7WP",
        "colab_type": "text"
      },
      "source": [
        "## Numpy \n",
        "\n",
        "[Data lab notebooks on NumPy at nbviewer](https://nbviewer.jupyter.org/github/data-space/datalab-notebooks/tree/master/Python/2.%20Libraries/numpy/)\n",
        "\n",
        "NumPy is \"the fundamental package for scientific computing with Python\". The \n",
        "folder linked to above contains a minimal introduction to the package. See  https://numpy.org for details on the package. \n",
        "\n"
      ]
    },
    {
      "cell_type": "markdown",
      "metadata": {
        "id": "yxlPUtfSN6nc",
        "colab_type": "text"
      },
      "source": [
        "## Pandas essentials\n",
        "\n",
        "[Data lab notebooks on pandas essentials at nbviewer](https://nbviewer.jupyter.org/github/data-space/datalab-notebooks/tree/master/Python/2.%20Libraries/pandas/1.%20Essentials/)\n",
        "\n",
        "Pandas provides data structures and tools (functions, classes) for doing data analysis with Python. The notebooks linked to above provide an introdution to the essentials of the package. See \n",
        "https://pandas.pydata.org for details on the package."
      ]
    },
    {
      "cell_type": "markdown",
      "metadata": {
        "id": "GFEa7c4VN58F",
        "colab_type": "text"
      },
      "source": [
        "## Scikit-learn\n",
        "\n",
        "[Data lab notebooks on Scikit-learning at nbviewer](https://nbviewer.jupyter.org/github/data-space/datalab-notebooks/tree/master/Python/2.%20Libraries/sklearn/)\n",
        "\n",
        "Scikit-learning provides tools for doing data analysis and machine learning in Python. See https://scikit-learn.org for details on the package.\n",
        "\n",
        "A few of the notebooks linked to above provide introductions to these common tasks:\n",
        "- [Imputation of missing values](https://nbviewer.jupyter.org/github/data-space/datalab-notebooks/tree/master/Python/2.%20Libraries/sklearn/2.%20Preprocessing/)\n",
        "- [Feature scaling](https://github.com/data-space/datalab-notebooks/blob/master/Python/2.%20Libraries/sklearn/2.%20Preprocessing/2.1%20Feature%20Scaling.py)\n",
        "- [Feature selection](https://nbviewer.jupyter.org/github/data-space/datalab-notebooks/tree/master/Python/2.%20Libraries/sklearn/2.%20Preprocessing/Feature%20selection/)\n",
        "\n",
        "These two notebooks demonstration two ways to compose transformer objects\n",
        "- [Feature union](https://nbviewer.jupyter.org/github/data-space/datalab-notebooks/blob/master/Python/2.%20Libraries/sklearn/2.%20Preprocessing/1.2%20FeatureUnion.ipynb): in this case \n",
        "- [Pipelines](https://nbviewer.jupyter.org/github/data-space/datalab-notebooks/blob/master/Python/2.%20Libraries/sklearn/2.%20Preprocessing/1.2%20FeatureUnion.ipynb)\n"
      ]
    },
    {
      "cell_type": "markdown",
      "metadata": {
        "id": "0CtnVESZN4oW",
        "colab_type": "text"
      },
      "source": [
        "## Pipelines\n",
        "\n",
        "[Data lab notebooks on using Scikit-learning pipelines at nbviewer](https://nbviewer.jupyter.org/github/data-space/datalab-notebooks/tree/master/Python/3.%20Pipelines/)\n",
        "\n",
        " - [Train & test datasets](https://nbviewer.jupyter.org/github/data-space/datalab-notebooks/blob/master/Python/3.%20Pipelines/5.1%20Train%20%26%20test%20datasets.ipynb)\n",
        " - [Transformer classes](https://nbviewer.jupyter.org/github/data-space/datalab-notebooks/blob/master/Python/3.%20Pipelines/5.2%20Transformer%20classes.ipynb)\n",
        " - [Estimator classes](https://nbviewer.jupyter.org/github/data-space/datalab-notebooks/blob/master/Python/3.%20Pipelines/5.3%20Estimator%20classes.ipynb)\n",
        " - [Pipelines](https://nbviewer.jupyter.org/github/data-space/datalab-notebooks/blob/master/Python/3.%20Pipelines/5.4%20Pipelines.ipynb)\n"
      ]
    },
    {
      "cell_type": "markdown",
      "metadata": {
        "id": "t7X79NH9N4dM",
        "colab_type": "text"
      },
      "source": [
        "## Workflows\n",
        "\n",
        "[Data lab notebooks on machine learning workflows using Scikit-learning pipelines at nbviewer](https://nbviewer.jupyter.org/github/data-space/datalab-notebooks/tree/master/Python/4.%20Workflows/)\n",
        "\n",
        " - [Introduction](https://nbviewer.jupyter.org/github/data-space/datalab-notebooks/blob/master/Python/4.%20Workflows/1.0%20Introduction.ipynb)\n",
        " - [Introduction - diamonds dataset](https://nbviewer.jupyter.org/github/data-space/datalab-notebooks/blob/master/Python/4.%20Workflows/1.1%20Introduction%20-%20diamonds%20dataset.ipynb)"
      ]
    },
    {
      "cell_type": "markdown",
      "metadata": {
        "id": "sUEEwXAzN4Hp",
        "colab_type": "text"
      },
      "source": [
        ""
      ]
    }
  ]
}