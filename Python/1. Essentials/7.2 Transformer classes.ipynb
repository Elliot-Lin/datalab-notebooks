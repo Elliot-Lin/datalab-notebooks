{
  "nbformat": 4,
  "nbformat_minor": 0,
  "metadata": {
    "colab": {
      "name": "7.2 Transformer classes.ipynb",
      "version": "0.3.2",
      "provenance": []
    },
    "kernelspec": {
      "name": "python3",
      "display_name": "Python 3"
    }
  },
  "cells": [
    {
      "cell_type": "markdown",
      "metadata": {
        "id": "uToKM-TnWokj",
        "colab_type": "text"
      },
      "source": [
        "#Transformer Class"
      ]
    },
    {
      "cell_type": "markdown",
      "metadata": {
        "id": "-VTQsYl3Wokl",
        "colab_type": "text"
      },
      "source": [
        "## Reference\n",
        "- https://scikit-learn.org/stable/data_transforms.html\n",
        "- https://scikit-learn.org/stable/modules/generated/sklearn.base.TransformerMixin.html"
      ]
    },
    {
      "cell_type": "markdown",
      "metadata": {
        "id": "2GsLZOlTWokm",
        "colab_type": "text"
      },
      "source": [
        "## Table of Contents\n",
        "1. Introduction\n",
        "1. Create a transformer __object__\n",
        "1. Create a transformer __class__"
      ]
    },
    {
      "cell_type": "markdown",
      "metadata": {
        "id": "M6fxLecZrCP7",
        "colab_type": "text"
      },
      "source": [
        "## Setup"
      ]
    },
    {
      "cell_type": "code",
      "metadata": {
        "id": "cRauezsKoneZ",
        "colab_type": "code",
        "colab": {
          "base_uri": "https://localhost:8080/",
          "height": 34
        },
        "outputId": "75ff3de4-3f02-4092-e7de-5ba48796df87"
      },
      "source": [
        "%%sh \n",
        "git clone https://github.com/datalab-datasets/file-samples.git"
      ],
      "execution_count": 19,
      "outputs": [
        {
          "output_type": "stream",
          "text": [
            "Cloning into 'file-samples'...\n"
          ],
          "name": "stderr"
        }
      ]
    },
    {
      "cell_type": "code",
      "metadata": {
        "id": "AhTcW7eMq-JR",
        "colab_type": "code",
        "colab": {
          "base_uri": "https://localhost:8080/",
          "height": 340
        },
        "outputId": "eee0f47b-38ba-41a1-d3b2-b96033b92cb2"
      },
      "source": [
        "ls /content/file-samples/*"
      ],
      "execution_count": 26,
      "outputs": [
        {
          "output_type": "stream",
          "text": [
            "/content/file-samples/diamonds.csv\n",
            "/content/file-samples/dict_of_lists.json\n",
            "/content/file-samples/each_line.json\n",
            "/content/file-samples/enron.json\n",
            "/content/file-samples/imports-85.csv\n",
            "/content/file-samples/imports-85.names\n",
            "/content/file-samples/imports-85.url\n",
            "/content/file-samples/iris.csv\n",
            "/content/file-samples/list_of_dicts.json\n",
            "/content/file-samples/one_dictionary.json\n",
            "/content/file-samples/one_list.json\n",
            "/content/file-samples/one_list_with_metadata.json\n",
            "/content/file-samples/pima-indians-diabetes.csv\n",
            "/content/file-samples/README.md\n",
            "/content/file-samples/simple_dict.json\n",
            "/content/file-samples/simple_list.json\n",
            "/content/file-samples/stocks.json\n",
            "/content/file-samples/world_bank.json\n",
            "/content/file-samples/zips.json\n"
          ],
          "name": "stdout"
        }
      ]
    },
    {
      "cell_type": "markdown",
      "metadata": {
        "id": "gl7s5Mi2Wokn",
        "colab_type": "text"
      },
      "source": [
        "##1. Introduction"
      ]
    },
    {
      "cell_type": "markdown",
      "metadata": {
        "id": "HO62e-zBWokn",
        "colab_type": "text"
      },
      "source": [
        "A _transformer_ is an object that converts (transforms) input data into output data. \n",
        "\n",
        "Often both the input and output data are dataframes, matrices or numpy arrays, but this is not required.  \n",
        "\n",
        "Often internal attributes of the transformer object are set using information from one dataframe, but then these attributes are used to convert (transform) other dataframes."
      ]
    },
    {
      "cell_type": "markdown",
      "metadata": {
        "id": "nSJsid86Woko",
        "colab_type": "text"
      },
      "source": [
        "Transformers have two key functions (methods):\n",
        "\n",
        "- `fit()`: This sets internal parameters (attributes) based on the input data.\n",
        "\n",
        "- `transform()`: This performs the transformation itself."
      ]
    },
    {
      "cell_type": "markdown",
      "metadata": {
        "id": "9sQC3iWTWoko",
        "colab_type": "text"
      },
      "source": [
        "Import the `pandas` and `numpy` libraries. In addition, import the `Imputer` class which is a transformer that is used to complete missing values."
      ]
    },
    {
      "cell_type": "code",
      "metadata": {
        "id": "izKeTTmTWokp",
        "colab_type": "code",
        "colab": {}
      },
      "source": [
        "import pandas  as pd\n",
        "import numpy   as np\n",
        "import sklearn as sk\n",
        "from sklearn.preprocessing import Imputer"
      ],
      "execution_count": 0,
      "outputs": []
    },
    {
      "cell_type": "markdown",
      "metadata": {
        "id": "giHosJ5nWokt",
        "colab_type": "text"
      },
      "source": [
        "Display the version numbers of the numpy, pandas and scikit-learn packages:"
      ]
    },
    {
      "cell_type": "code",
      "metadata": {
        "id": "cmqbfkzgWoku",
        "colab_type": "code",
        "colab": {
          "base_uri": "https://localhost:8080/",
          "height": 68
        },
        "outputId": "65d0acd9-a9c5-4b01-b364-549335ce5305"
      },
      "source": [
        "print('numpy  :',np.__version__)\n",
        "print('pandas :',pd.__version__)\n",
        "print('sklearn:',sk.__version__)"
      ],
      "execution_count": 2,
      "outputs": [
        {
          "output_type": "stream",
          "text": [
            "numpy  : 1.16.4\n",
            "pandas : 0.24.2\n",
            "sklearn: 0.21.2\n"
          ],
          "name": "stdout"
        }
      ]
    },
    {
      "cell_type": "markdown",
      "metadata": {
        "id": "ZFN77Y3rWok2",
        "colab_type": "text"
      },
      "source": [
        "Note that these version number may not be identical to the references provide above."
      ]
    },
    {
      "cell_type": "markdown",
      "metadata": {
        "id": "vt21mgakWok3",
        "colab_type": "text"
      },
      "source": [
        "## 2. Create a transformer object"
      ]
    },
    {
      "cell_type": "markdown",
      "metadata": {
        "id": "1rBMGyzMWok4",
        "colab_type": "text"
      },
      "source": [
        "The code cell below creates a transformer object `imp`, which is an instance of the `Imputer` class, by calling the constructor (init method) of that class. \n",
        "\n",
        "Several arguments (of the init method) are used to configure the `imp` object. The keyword argument:\n",
        "- `missing_values='NaN'` specifies that missing values are represented by `NaN`\n",
        "- `strategy='mean'` specifies that the mean will be used to complete missing values\n",
        "- `axis=0` specifies that the mean is taken for each column"
      ]
    },
    {
      "cell_type": "code",
      "metadata": {
        "id": "SJplo98QWok4",
        "colab_type": "code",
        "colab": {
          "base_uri": "https://localhost:8080/",
          "height": 71
        },
        "outputId": "bd3cf84c-d911-484b-af77-9c2e7eb24d27"
      },
      "source": [
        "imp = Imputer(missing_values='NaN', strategy='mean', axis=0)                       "
      ],
      "execution_count": 3,
      "outputs": [
        {
          "output_type": "stream",
          "text": [
            "/usr/local/lib/python3.6/dist-packages/sklearn/utils/deprecation.py:66: DeprecationWarning: Class Imputer is deprecated; Imputer was deprecated in version 0.20 and will be removed in 0.22. Import impute.SimpleImputer from sklearn instead.\n",
            "  warnings.warn(msg, category=DeprecationWarning)\n"
          ],
          "name": "stderr"
        }
      ]
    },
    {
      "cell_type": "markdown",
      "metadata": {
        "id": "sI9KS6UcWok6",
        "colab_type": "text"
      },
      "source": [
        "Create a sample data set `A`."
      ]
    },
    {
      "cell_type": "code",
      "metadata": {
        "id": "eYrHGnvhWok7",
        "colab_type": "code",
        "colab": {}
      },
      "source": [
        "A = [[np.nan, 2, 0], \n",
        "     [3, 0, 0], \n",
        "     [7, 1, 6],\n",
        "     [2, 1, 2]]"
      ],
      "execution_count": 0,
      "outputs": []
    },
    {
      "cell_type": "markdown",
      "metadata": {
        "id": "xXZqvJkDWok9",
        "colab_type": "text"
      },
      "source": [
        "Fit the imputer object `imp` to the sample data `A` using the `fit` method."
      ]
    },
    {
      "cell_type": "code",
      "metadata": {
        "id": "f7A7axILWok-",
        "colab_type": "code",
        "colab": {
          "base_uri": "https://localhost:8080/",
          "height": 34
        },
        "outputId": "c78749d9-061d-4472-d412-98499ecdd901"
      },
      "source": [
        "imp.fit(A) "
      ],
      "execution_count": 5,
      "outputs": [
        {
          "output_type": "execute_result",
          "data": {
            "text/plain": [
              "Imputer(axis=0, copy=True, missing_values='NaN', strategy='mean', verbose=0)"
            ]
          },
          "metadata": {
            "tags": []
          },
          "execution_count": 5
        }
      ]
    },
    {
      "cell_type": "markdown",
      "metadata": {
        "id": "Q2nBDSRAWolC",
        "colab_type": "text"
      },
      "source": [
        "Recall that the `fit` method returns the object itself."
      ]
    },
    {
      "cell_type": "markdown",
      "metadata": {
        "id": "EAcLLBgDWolE",
        "colab_type": "text"
      },
      "source": [
        "The `.statistics_` attribute stores an array of values, which in this case contains the mean of each column."
      ]
    },
    {
      "cell_type": "code",
      "metadata": {
        "id": "TM4Cs_RTWolF",
        "colab_type": "code",
        "colab": {
          "base_uri": "https://localhost:8080/",
          "height": 34
        },
        "outputId": "c805ef05-da33-473e-fbee-4fb2865521b5"
      },
      "source": [
        "imp.statistics_"
      ],
      "execution_count": 6,
      "outputs": [
        {
          "output_type": "execute_result",
          "data": {
            "text/plain": [
              "array([4., 1., 2.])"
            ]
          },
          "metadata": {
            "tags": []
          },
          "execution_count": 6
        }
      ]
    },
    {
      "cell_type": "markdown",
      "metadata": {
        "id": "67rHsqclWolI",
        "colab_type": "text"
      },
      "source": [
        "Create a similar dataset `B`, but this time with missing values. For convenience, the missing values are on the diagonal."
      ]
    },
    {
      "cell_type": "code",
      "metadata": {
        "id": "3JjjPJafWolJ",
        "colab_type": "code",
        "colab": {}
      },
      "source": [
        "B = [[np.nan, 2, 5],\n",
        "     [6, np.nan, 4],\n",
        "     [7, 6, np.nan]]"
      ],
      "execution_count": 0,
      "outputs": []
    },
    {
      "cell_type": "markdown",
      "metadata": {
        "id": "OGWZfFWEWolL",
        "colab_type": "text"
      },
      "source": [
        "Transform the new dataset `B` using the `transform` method of `imp`, the fitted imputer, and return a completed version of `B`."
      ]
    },
    {
      "cell_type": "code",
      "metadata": {
        "id": "7V7dVqUZWolM",
        "colab_type": "code",
        "colab": {
          "base_uri": "https://localhost:8080/",
          "height": 68
        },
        "outputId": "e4454b18-9830-411c-f237-6b3072dfd0df"
      },
      "source": [
        "imp.transform(B)"
      ],
      "execution_count": 8,
      "outputs": [
        {
          "output_type": "execute_result",
          "data": {
            "text/plain": [
              "array([[4., 2., 5.],\n",
              "       [6., 1., 4.],\n",
              "       [7., 6., 2.]])"
            ]
          },
          "metadata": {
            "tags": []
          },
          "execution_count": 8
        }
      ]
    },
    {
      "cell_type": "markdown",
      "metadata": {
        "id": "DIGyzHsrWolO",
        "colab_type": "text"
      },
      "source": [
        "Notice in the output above that the missing values (along the diagonal) in `B` have been replaced with the values from `imp.statistics_` (which is an array of the mean of each column of `A`)."
      ]
    },
    {
      "cell_type": "code",
      "metadata": {
        "id": "58yx2FjNWolP",
        "colab_type": "code",
        "colab": {
          "base_uri": "https://localhost:8080/",
          "height": 34
        },
        "outputId": "9791e90b-3418-40c2-e738-a0cbcde48274"
      },
      "source": [
        "imp.statistics_"
      ],
      "execution_count": 9,
      "outputs": [
        {
          "output_type": "execute_result",
          "data": {
            "text/plain": [
              "array([4., 1., 2.])"
            ]
          },
          "metadata": {
            "tags": []
          },
          "execution_count": 9
        }
      ]
    },
    {
      "cell_type": "markdown",
      "metadata": {
        "id": "i8bj9zNVWolR",
        "colab_type": "text"
      },
      "source": [
        "The `mean` function from numpy computes the mean of each column of `A`."
      ]
    },
    {
      "cell_type": "code",
      "metadata": {
        "id": "QKIZvLCKWolR",
        "colab_type": "code",
        "colab": {
          "base_uri": "https://localhost:8080/",
          "height": 34
        },
        "outputId": "e51b1a2b-2506-4361-c300-47d1aad7df1b"
      },
      "source": [
        "np.mean(A, axis=0)"
      ],
      "execution_count": 10,
      "outputs": [
        {
          "output_type": "execute_result",
          "data": {
            "text/plain": [
              "array([nan,  1.,  2.])"
            ]
          },
          "metadata": {
            "tags": []
          },
          "execution_count": 10
        }
      ]
    },
    {
      "cell_type": "code",
      "metadata": {
        "id": "H8I3lcKaWolT",
        "colab_type": "code",
        "colab": {
          "base_uri": "https://localhost:8080/",
          "height": 34
        },
        "outputId": "b683b24b-7729-4aef-b0cf-312eae975328"
      },
      "source": [
        "np.nanmean(A, axis=0)"
      ],
      "execution_count": 11,
      "outputs": [
        {
          "output_type": "execute_result",
          "data": {
            "text/plain": [
              "array([4., 1., 2.])"
            ]
          },
          "metadata": {
            "tags": []
          },
          "execution_count": 11
        }
      ]
    },
    {
      "cell_type": "markdown",
      "metadata": {
        "id": "UBGOcsrOWolW",
        "colab_type": "text"
      },
      "source": [
        "This session introduces applying existing transformers in `Scikit-Learn` library to convert data to the form we need. A transformer class is useful to learn parameters from dataset with the `fit()` method rather than take fixed values, and perform the transformation with the `transform()` method."
      ]
    },
    {
      "cell_type": "markdown",
      "metadata": {
        "id": "7rN9IjFUWolX",
        "colab_type": "text"
      },
      "source": [
        "## 3. Create a transformer class"
      ]
    },
    {
      "cell_type": "markdown",
      "metadata": {
        "id": "H-OXWVQeWolX",
        "colab_type": "text"
      },
      "source": [
        "Every transformer class should \n",
        "- define an init method, named `__init__`\n",
        "- define two methods,`fit` and `transform` \n",
        "- inherit the `BaseEstimator` and `TransformerMixin` classes (supplied by scikit-learn) \n",
        "\n",
        "The `fit` method should return `self` and the `transform` method should returned the transformed output. \n",
        "\n",
        "The `fit_transform()` method is added from the `TransformerMixin` class. Calling the `fit_transform` method is equivalent to chaining the `fit` method and then `transform` method, with the same inputs. For example, `imp.fit_transform(A)` is equivalent to `imp.fit(A).transform(A)`.\n",
        "\n",
        "Methods `get_params()` and `set_params()` are added from the `BaseEstimator` class and are useful for automatic hyperparameter tuning."
      ]
    },
    {
      "cell_type": "markdown",
      "metadata": {
        "id": "6JAsIEVaWolY",
        "colab_type": "text"
      },
      "source": [
        "### 3.1 Example 1: create `DataFrameSelector` class"
      ]
    },
    {
      "cell_type": "markdown",
      "metadata": {
        "id": "1O8CRy7HWolZ",
        "colab_type": "text"
      },
      "source": [
        "The `DataFrameSelector` will transform a dataset by returned only a specified collection of columns from that dataset:\n",
        "- The `__init__` method records the names of the columns to return\n",
        "- The `fit` method does nothing, except return `self` which is required of all `fit` methods\n",
        "- The `transform` method returns the specified columns of the dataset (input to the `transform` method)"
      ]
    },
    {
      "cell_type": "markdown",
      "metadata": {
        "id": "jIIzl3_uWolZ",
        "colab_type": "text"
      },
      "source": [
        "Recall that transformers must inherit `TransformerMixin` and `BaseEstimator`. Import these classes:"
      ]
    },
    {
      "cell_type": "code",
      "metadata": {
        "id": "_Kmx51r5Wola",
        "colab_type": "code",
        "colab": {}
      },
      "source": [
        "from sklearn.base import BaseEstimator, TransformerMixin"
      ],
      "execution_count": 0,
      "outputs": []
    },
    {
      "cell_type": "markdown",
      "metadata": {
        "id": "kA99JuGEWold",
        "colab_type": "text"
      },
      "source": [
        "Define the `DataFrameSelector` transformer class to select the desired attributes from the input dataset."
      ]
    },
    {
      "cell_type": "code",
      "metadata": {
        "id": "J3tEtKB0Wole",
        "colab_type": "code",
        "colab": {}
      },
      "source": [
        "class DataFrameSelector(BaseEstimator, TransformerMixin):\n",
        "  def __init__(self, attribute_names):\n",
        "    self.attribute_names = attribute_names\n",
        "  def fit(self, X, y=None):\n",
        "    return self\n",
        "  def transform(self, X):\n",
        "    return X[self.attribute_names]"
      ],
      "execution_count": 0,
      "outputs": []
    },
    {
      "cell_type": "markdown",
      "metadata": {
        "id": "1VRpIgOLWoli",
        "colab_type": "text"
      },
      "source": [
        "In this class:\n",
        "- The init method has one parameter, `attribute_names`. \n",
        "- The `fit` method returns `self` (this is standard behavior for `.fit` methods in scikit-learn).\n",
        "- The `transform` method takes dataset and returns only the values in the DataFrame as a Numpy array."
      ]
    },
    {
      "cell_type": "markdown",
      "metadata": {
        "id": "mZUKPSh0Wolj",
        "colab_type": "text"
      },
      "source": [
        "The remainder of this section applies this transformer to the diamonds dataset."
      ]
    },
    {
      "cell_type": "markdown",
      "metadata": {
        "id": "jXLG2trvWoll",
        "colab_type": "text"
      },
      "source": [
        "Load the diamonds dataset as a Pandas DataFrame. Check the first five observations with column headers."
      ]
    },
    {
      "cell_type": "code",
      "metadata": {
        "id": "mCTgncF7Wolm",
        "colab_type": "code",
        "colab": {
          "base_uri": "https://localhost:8080/",
          "height": 204
        },
        "outputId": "ad7fc4a5-c238-41de-dcdc-03c9b9cf1fde"
      },
      "source": [
        "diamonds_pdf = pd.read_csv('/content/file-samples/diamonds.csv')\n",
        "diamonds_pdf.head()"
      ],
      "execution_count": 28,
      "outputs": [
        {
          "output_type": "execute_result",
          "data": {
            "text/html": [
              "<div>\n",
              "<style scoped>\n",
              "    .dataframe tbody tr th:only-of-type {\n",
              "        vertical-align: middle;\n",
              "    }\n",
              "\n",
              "    .dataframe tbody tr th {\n",
              "        vertical-align: top;\n",
              "    }\n",
              "\n",
              "    .dataframe thead th {\n",
              "        text-align: right;\n",
              "    }\n",
              "</style>\n",
              "<table border=\"1\" class=\"dataframe\">\n",
              "  <thead>\n",
              "    <tr style=\"text-align: right;\">\n",
              "      <th></th>\n",
              "      <th>Unnamed: 0</th>\n",
              "      <th>carat</th>\n",
              "      <th>cut</th>\n",
              "      <th>color</th>\n",
              "      <th>clarity</th>\n",
              "      <th>depth</th>\n",
              "      <th>table</th>\n",
              "      <th>price</th>\n",
              "      <th>x</th>\n",
              "      <th>y</th>\n",
              "      <th>z</th>\n",
              "    </tr>\n",
              "  </thead>\n",
              "  <tbody>\n",
              "    <tr>\n",
              "      <th>0</th>\n",
              "      <td>1</td>\n",
              "      <td>0.23</td>\n",
              "      <td>Ideal</td>\n",
              "      <td>E</td>\n",
              "      <td>SI2</td>\n",
              "      <td>61.5</td>\n",
              "      <td>55.0</td>\n",
              "      <td>326</td>\n",
              "      <td>3.95</td>\n",
              "      <td>3.98</td>\n",
              "      <td>2.43</td>\n",
              "    </tr>\n",
              "    <tr>\n",
              "      <th>1</th>\n",
              "      <td>2</td>\n",
              "      <td>0.21</td>\n",
              "      <td>Premium</td>\n",
              "      <td>E</td>\n",
              "      <td>SI1</td>\n",
              "      <td>59.8</td>\n",
              "      <td>61.0</td>\n",
              "      <td>326</td>\n",
              "      <td>3.89</td>\n",
              "      <td>3.84</td>\n",
              "      <td>2.31</td>\n",
              "    </tr>\n",
              "    <tr>\n",
              "      <th>2</th>\n",
              "      <td>3</td>\n",
              "      <td>0.23</td>\n",
              "      <td>Good</td>\n",
              "      <td>E</td>\n",
              "      <td>VS1</td>\n",
              "      <td>56.9</td>\n",
              "      <td>65.0</td>\n",
              "      <td>327</td>\n",
              "      <td>4.05</td>\n",
              "      <td>4.07</td>\n",
              "      <td>2.31</td>\n",
              "    </tr>\n",
              "    <tr>\n",
              "      <th>3</th>\n",
              "      <td>4</td>\n",
              "      <td>0.29</td>\n",
              "      <td>Premium</td>\n",
              "      <td>I</td>\n",
              "      <td>VS2</td>\n",
              "      <td>62.4</td>\n",
              "      <td>58.0</td>\n",
              "      <td>334</td>\n",
              "      <td>4.20</td>\n",
              "      <td>4.23</td>\n",
              "      <td>2.63</td>\n",
              "    </tr>\n",
              "    <tr>\n",
              "      <th>4</th>\n",
              "      <td>5</td>\n",
              "      <td>0.31</td>\n",
              "      <td>Good</td>\n",
              "      <td>J</td>\n",
              "      <td>SI2</td>\n",
              "      <td>63.3</td>\n",
              "      <td>58.0</td>\n",
              "      <td>335</td>\n",
              "      <td>4.34</td>\n",
              "      <td>4.35</td>\n",
              "      <td>2.75</td>\n",
              "    </tr>\n",
              "  </tbody>\n",
              "</table>\n",
              "</div>"
            ],
            "text/plain": [
              "   Unnamed: 0  carat      cut color clarity  ...  table  price     x     y     z\n",
              "0           1   0.23    Ideal     E     SI2  ...   55.0    326  3.95  3.98  2.43\n",
              "1           2   0.21  Premium     E     SI1  ...   61.0    326  3.89  3.84  2.31\n",
              "2           3   0.23     Good     E     VS1  ...   65.0    327  4.05  4.07  2.31\n",
              "3           4   0.29  Premium     I     VS2  ...   58.0    334  4.20  4.23  2.63\n",
              "4           5   0.31     Good     J     SI2  ...   58.0    335  4.34  4.35  2.75\n",
              "\n",
              "[5 rows x 11 columns]"
            ]
          },
          "metadata": {
            "tags": []
          },
          "execution_count": 28
        }
      ]
    },
    {
      "cell_type": "markdown",
      "metadata": {
        "id": "2vr5fAPvWoln",
        "colab_type": "text"
      },
      "source": [
        "Define the features to choose and store the list of feature names in the `variable_list` object."
      ]
    },
    {
      "cell_type": "code",
      "metadata": {
        "id": "PfC3HBUoWolo",
        "colab_type": "code",
        "colab": {}
      },
      "source": [
        "variable_list=[\"carat\", \"depth\", \"table\", \"price\"]"
      ],
      "execution_count": 0,
      "outputs": []
    },
    {
      "cell_type": "markdown",
      "metadata": {
        "id": "GqaUOFjJWolq",
        "colab_type": "text"
      },
      "source": [
        "Create a `DataFrameSelector` class with attribute names as stated in the `variable_list` object, and store the transformer class in the `selector` object."
      ]
    },
    {
      "cell_type": "code",
      "metadata": {
        "id": "Phwv0r72Wolr",
        "colab_type": "code",
        "colab": {}
      },
      "source": [
        "selector=DataFrameSelector(variable_list)"
      ],
      "execution_count": 0,
      "outputs": []
    },
    {
      "cell_type": "markdown",
      "metadata": {
        "id": "C-B-jZKcWolt",
        "colab_type": "text"
      },
      "source": [
        "Use the `selector` instance of the transformer class to transform the diamonds dataset."
      ]
    },
    {
      "cell_type": "code",
      "metadata": {
        "id": "QUYbWATSWolt",
        "colab_type": "code",
        "colab": {
          "base_uri": "https://localhost:8080/",
          "height": 1969
        },
        "outputId": "f0ae48e5-cde1-415b-8049-0355fffa0b1d"
      },
      "source": [
        "selector.fit_transform(diamonds_pdf)"
      ],
      "execution_count": 31,
      "outputs": [
        {
          "output_type": "execute_result",
          "data": {
            "text/html": [
              "<div>\n",
              "<style scoped>\n",
              "    .dataframe tbody tr th:only-of-type {\n",
              "        vertical-align: middle;\n",
              "    }\n",
              "\n",
              "    .dataframe tbody tr th {\n",
              "        vertical-align: top;\n",
              "    }\n",
              "\n",
              "    .dataframe thead th {\n",
              "        text-align: right;\n",
              "    }\n",
              "</style>\n",
              "<table border=\"1\" class=\"dataframe\">\n",
              "  <thead>\n",
              "    <tr style=\"text-align: right;\">\n",
              "      <th></th>\n",
              "      <th>carat</th>\n",
              "      <th>depth</th>\n",
              "      <th>table</th>\n",
              "      <th>price</th>\n",
              "    </tr>\n",
              "  </thead>\n",
              "  <tbody>\n",
              "    <tr>\n",
              "      <th>0</th>\n",
              "      <td>0.23</td>\n",
              "      <td>61.5</td>\n",
              "      <td>55.0</td>\n",
              "      <td>326</td>\n",
              "    </tr>\n",
              "    <tr>\n",
              "      <th>1</th>\n",
              "      <td>0.21</td>\n",
              "      <td>59.8</td>\n",
              "      <td>61.0</td>\n",
              "      <td>326</td>\n",
              "    </tr>\n",
              "    <tr>\n",
              "      <th>2</th>\n",
              "      <td>0.23</td>\n",
              "      <td>56.9</td>\n",
              "      <td>65.0</td>\n",
              "      <td>327</td>\n",
              "    </tr>\n",
              "    <tr>\n",
              "      <th>3</th>\n",
              "      <td>0.29</td>\n",
              "      <td>62.4</td>\n",
              "      <td>58.0</td>\n",
              "      <td>334</td>\n",
              "    </tr>\n",
              "    <tr>\n",
              "      <th>4</th>\n",
              "      <td>0.31</td>\n",
              "      <td>63.3</td>\n",
              "      <td>58.0</td>\n",
              "      <td>335</td>\n",
              "    </tr>\n",
              "    <tr>\n",
              "      <th>5</th>\n",
              "      <td>0.24</td>\n",
              "      <td>62.8</td>\n",
              "      <td>57.0</td>\n",
              "      <td>336</td>\n",
              "    </tr>\n",
              "    <tr>\n",
              "      <th>6</th>\n",
              "      <td>0.24</td>\n",
              "      <td>62.3</td>\n",
              "      <td>57.0</td>\n",
              "      <td>336</td>\n",
              "    </tr>\n",
              "    <tr>\n",
              "      <th>7</th>\n",
              "      <td>0.26</td>\n",
              "      <td>61.9</td>\n",
              "      <td>55.0</td>\n",
              "      <td>337</td>\n",
              "    </tr>\n",
              "    <tr>\n",
              "      <th>8</th>\n",
              "      <td>0.22</td>\n",
              "      <td>65.1</td>\n",
              "      <td>61.0</td>\n",
              "      <td>337</td>\n",
              "    </tr>\n",
              "    <tr>\n",
              "      <th>9</th>\n",
              "      <td>0.23</td>\n",
              "      <td>59.4</td>\n",
              "      <td>61.0</td>\n",
              "      <td>338</td>\n",
              "    </tr>\n",
              "    <tr>\n",
              "      <th>10</th>\n",
              "      <td>0.30</td>\n",
              "      <td>64.0</td>\n",
              "      <td>55.0</td>\n",
              "      <td>339</td>\n",
              "    </tr>\n",
              "    <tr>\n",
              "      <th>11</th>\n",
              "      <td>0.23</td>\n",
              "      <td>62.8</td>\n",
              "      <td>56.0</td>\n",
              "      <td>340</td>\n",
              "    </tr>\n",
              "    <tr>\n",
              "      <th>12</th>\n",
              "      <td>0.22</td>\n",
              "      <td>60.4</td>\n",
              "      <td>61.0</td>\n",
              "      <td>342</td>\n",
              "    </tr>\n",
              "    <tr>\n",
              "      <th>13</th>\n",
              "      <td>0.31</td>\n",
              "      <td>62.2</td>\n",
              "      <td>54.0</td>\n",
              "      <td>344</td>\n",
              "    </tr>\n",
              "    <tr>\n",
              "      <th>14</th>\n",
              "      <td>0.20</td>\n",
              "      <td>60.2</td>\n",
              "      <td>62.0</td>\n",
              "      <td>345</td>\n",
              "    </tr>\n",
              "    <tr>\n",
              "      <th>15</th>\n",
              "      <td>0.32</td>\n",
              "      <td>60.9</td>\n",
              "      <td>58.0</td>\n",
              "      <td>345</td>\n",
              "    </tr>\n",
              "    <tr>\n",
              "      <th>16</th>\n",
              "      <td>0.30</td>\n",
              "      <td>62.0</td>\n",
              "      <td>54.0</td>\n",
              "      <td>348</td>\n",
              "    </tr>\n",
              "    <tr>\n",
              "      <th>17</th>\n",
              "      <td>0.30</td>\n",
              "      <td>63.4</td>\n",
              "      <td>54.0</td>\n",
              "      <td>351</td>\n",
              "    </tr>\n",
              "    <tr>\n",
              "      <th>18</th>\n",
              "      <td>0.30</td>\n",
              "      <td>63.8</td>\n",
              "      <td>56.0</td>\n",
              "      <td>351</td>\n",
              "    </tr>\n",
              "    <tr>\n",
              "      <th>19</th>\n",
              "      <td>0.30</td>\n",
              "      <td>62.7</td>\n",
              "      <td>59.0</td>\n",
              "      <td>351</td>\n",
              "    </tr>\n",
              "    <tr>\n",
              "      <th>20</th>\n",
              "      <td>0.30</td>\n",
              "      <td>63.3</td>\n",
              "      <td>56.0</td>\n",
              "      <td>351</td>\n",
              "    </tr>\n",
              "    <tr>\n",
              "      <th>21</th>\n",
              "      <td>0.23</td>\n",
              "      <td>63.8</td>\n",
              "      <td>55.0</td>\n",
              "      <td>352</td>\n",
              "    </tr>\n",
              "    <tr>\n",
              "      <th>22</th>\n",
              "      <td>0.23</td>\n",
              "      <td>61.0</td>\n",
              "      <td>57.0</td>\n",
              "      <td>353</td>\n",
              "    </tr>\n",
              "    <tr>\n",
              "      <th>23</th>\n",
              "      <td>0.31</td>\n",
              "      <td>59.4</td>\n",
              "      <td>62.0</td>\n",
              "      <td>353</td>\n",
              "    </tr>\n",
              "    <tr>\n",
              "      <th>24</th>\n",
              "      <td>0.31</td>\n",
              "      <td>58.1</td>\n",
              "      <td>62.0</td>\n",
              "      <td>353</td>\n",
              "    </tr>\n",
              "    <tr>\n",
              "      <th>25</th>\n",
              "      <td>0.23</td>\n",
              "      <td>60.4</td>\n",
              "      <td>58.0</td>\n",
              "      <td>354</td>\n",
              "    </tr>\n",
              "    <tr>\n",
              "      <th>26</th>\n",
              "      <td>0.24</td>\n",
              "      <td>62.5</td>\n",
              "      <td>57.0</td>\n",
              "      <td>355</td>\n",
              "    </tr>\n",
              "    <tr>\n",
              "      <th>27</th>\n",
              "      <td>0.30</td>\n",
              "      <td>62.2</td>\n",
              "      <td>57.0</td>\n",
              "      <td>357</td>\n",
              "    </tr>\n",
              "    <tr>\n",
              "      <th>28</th>\n",
              "      <td>0.23</td>\n",
              "      <td>60.5</td>\n",
              "      <td>61.0</td>\n",
              "      <td>357</td>\n",
              "    </tr>\n",
              "    <tr>\n",
              "      <th>29</th>\n",
              "      <td>0.23</td>\n",
              "      <td>60.9</td>\n",
              "      <td>57.0</td>\n",
              "      <td>357</td>\n",
              "    </tr>\n",
              "    <tr>\n",
              "      <th>...</th>\n",
              "      <td>...</td>\n",
              "      <td>...</td>\n",
              "      <td>...</td>\n",
              "      <td>...</td>\n",
              "    </tr>\n",
              "    <tr>\n",
              "      <th>53910</th>\n",
              "      <td>0.70</td>\n",
              "      <td>60.5</td>\n",
              "      <td>58.0</td>\n",
              "      <td>2753</td>\n",
              "    </tr>\n",
              "    <tr>\n",
              "      <th>53911</th>\n",
              "      <td>0.57</td>\n",
              "      <td>59.8</td>\n",
              "      <td>60.0</td>\n",
              "      <td>2753</td>\n",
              "    </tr>\n",
              "    <tr>\n",
              "      <th>53912</th>\n",
              "      <td>0.61</td>\n",
              "      <td>61.8</td>\n",
              "      <td>59.0</td>\n",
              "      <td>2753</td>\n",
              "    </tr>\n",
              "    <tr>\n",
              "      <th>53913</th>\n",
              "      <td>0.80</td>\n",
              "      <td>64.2</td>\n",
              "      <td>58.0</td>\n",
              "      <td>2753</td>\n",
              "    </tr>\n",
              "    <tr>\n",
              "      <th>53914</th>\n",
              "      <td>0.84</td>\n",
              "      <td>63.7</td>\n",
              "      <td>59.0</td>\n",
              "      <td>2753</td>\n",
              "    </tr>\n",
              "    <tr>\n",
              "      <th>53915</th>\n",
              "      <td>0.77</td>\n",
              "      <td>62.1</td>\n",
              "      <td>56.0</td>\n",
              "      <td>2753</td>\n",
              "    </tr>\n",
              "    <tr>\n",
              "      <th>53916</th>\n",
              "      <td>0.74</td>\n",
              "      <td>63.1</td>\n",
              "      <td>59.0</td>\n",
              "      <td>2753</td>\n",
              "    </tr>\n",
              "    <tr>\n",
              "      <th>53917</th>\n",
              "      <td>0.90</td>\n",
              "      <td>63.2</td>\n",
              "      <td>60.0</td>\n",
              "      <td>2753</td>\n",
              "    </tr>\n",
              "    <tr>\n",
              "      <th>53918</th>\n",
              "      <td>0.76</td>\n",
              "      <td>59.3</td>\n",
              "      <td>62.0</td>\n",
              "      <td>2753</td>\n",
              "    </tr>\n",
              "    <tr>\n",
              "      <th>53919</th>\n",
              "      <td>0.76</td>\n",
              "      <td>62.2</td>\n",
              "      <td>55.0</td>\n",
              "      <td>2753</td>\n",
              "    </tr>\n",
              "    <tr>\n",
              "      <th>53920</th>\n",
              "      <td>0.70</td>\n",
              "      <td>62.4</td>\n",
              "      <td>60.0</td>\n",
              "      <td>2755</td>\n",
              "    </tr>\n",
              "    <tr>\n",
              "      <th>53921</th>\n",
              "      <td>0.70</td>\n",
              "      <td>62.8</td>\n",
              "      <td>60.0</td>\n",
              "      <td>2755</td>\n",
              "    </tr>\n",
              "    <tr>\n",
              "      <th>53922</th>\n",
              "      <td>0.70</td>\n",
              "      <td>63.1</td>\n",
              "      <td>59.0</td>\n",
              "      <td>2755</td>\n",
              "    </tr>\n",
              "    <tr>\n",
              "      <th>53923</th>\n",
              "      <td>0.73</td>\n",
              "      <td>61.3</td>\n",
              "      <td>56.0</td>\n",
              "      <td>2756</td>\n",
              "    </tr>\n",
              "    <tr>\n",
              "      <th>53924</th>\n",
              "      <td>0.73</td>\n",
              "      <td>61.6</td>\n",
              "      <td>55.0</td>\n",
              "      <td>2756</td>\n",
              "    </tr>\n",
              "    <tr>\n",
              "      <th>53925</th>\n",
              "      <td>0.79</td>\n",
              "      <td>61.6</td>\n",
              "      <td>56.0</td>\n",
              "      <td>2756</td>\n",
              "    </tr>\n",
              "    <tr>\n",
              "      <th>53926</th>\n",
              "      <td>0.71</td>\n",
              "      <td>61.9</td>\n",
              "      <td>56.0</td>\n",
              "      <td>2756</td>\n",
              "    </tr>\n",
              "    <tr>\n",
              "      <th>53927</th>\n",
              "      <td>0.79</td>\n",
              "      <td>58.1</td>\n",
              "      <td>59.0</td>\n",
              "      <td>2756</td>\n",
              "    </tr>\n",
              "    <tr>\n",
              "      <th>53928</th>\n",
              "      <td>0.79</td>\n",
              "      <td>61.4</td>\n",
              "      <td>58.0</td>\n",
              "      <td>2756</td>\n",
              "    </tr>\n",
              "    <tr>\n",
              "      <th>53929</th>\n",
              "      <td>0.71</td>\n",
              "      <td>61.4</td>\n",
              "      <td>56.0</td>\n",
              "      <td>2756</td>\n",
              "    </tr>\n",
              "    <tr>\n",
              "      <th>53930</th>\n",
              "      <td>0.71</td>\n",
              "      <td>60.5</td>\n",
              "      <td>55.0</td>\n",
              "      <td>2756</td>\n",
              "    </tr>\n",
              "    <tr>\n",
              "      <th>53931</th>\n",
              "      <td>0.71</td>\n",
              "      <td>59.8</td>\n",
              "      <td>62.0</td>\n",
              "      <td>2756</td>\n",
              "    </tr>\n",
              "    <tr>\n",
              "      <th>53932</th>\n",
              "      <td>0.70</td>\n",
              "      <td>60.5</td>\n",
              "      <td>59.0</td>\n",
              "      <td>2757</td>\n",
              "    </tr>\n",
              "    <tr>\n",
              "      <th>53933</th>\n",
              "      <td>0.70</td>\n",
              "      <td>61.2</td>\n",
              "      <td>59.0</td>\n",
              "      <td>2757</td>\n",
              "    </tr>\n",
              "    <tr>\n",
              "      <th>53934</th>\n",
              "      <td>0.72</td>\n",
              "      <td>62.7</td>\n",
              "      <td>59.0</td>\n",
              "      <td>2757</td>\n",
              "    </tr>\n",
              "    <tr>\n",
              "      <th>53935</th>\n",
              "      <td>0.72</td>\n",
              "      <td>60.8</td>\n",
              "      <td>57.0</td>\n",
              "      <td>2757</td>\n",
              "    </tr>\n",
              "    <tr>\n",
              "      <th>53936</th>\n",
              "      <td>0.72</td>\n",
              "      <td>63.1</td>\n",
              "      <td>55.0</td>\n",
              "      <td>2757</td>\n",
              "    </tr>\n",
              "    <tr>\n",
              "      <th>53937</th>\n",
              "      <td>0.70</td>\n",
              "      <td>62.8</td>\n",
              "      <td>60.0</td>\n",
              "      <td>2757</td>\n",
              "    </tr>\n",
              "    <tr>\n",
              "      <th>53938</th>\n",
              "      <td>0.86</td>\n",
              "      <td>61.0</td>\n",
              "      <td>58.0</td>\n",
              "      <td>2757</td>\n",
              "    </tr>\n",
              "    <tr>\n",
              "      <th>53939</th>\n",
              "      <td>0.75</td>\n",
              "      <td>62.2</td>\n",
              "      <td>55.0</td>\n",
              "      <td>2757</td>\n",
              "    </tr>\n",
              "  </tbody>\n",
              "</table>\n",
              "<p>53940 rows × 4 columns</p>\n",
              "</div>"
            ],
            "text/plain": [
              "       carat  depth  table  price\n",
              "0       0.23   61.5   55.0    326\n",
              "1       0.21   59.8   61.0    326\n",
              "2       0.23   56.9   65.0    327\n",
              "3       0.29   62.4   58.0    334\n",
              "4       0.31   63.3   58.0    335\n",
              "5       0.24   62.8   57.0    336\n",
              "6       0.24   62.3   57.0    336\n",
              "7       0.26   61.9   55.0    337\n",
              "8       0.22   65.1   61.0    337\n",
              "9       0.23   59.4   61.0    338\n",
              "10      0.30   64.0   55.0    339\n",
              "11      0.23   62.8   56.0    340\n",
              "12      0.22   60.4   61.0    342\n",
              "13      0.31   62.2   54.0    344\n",
              "14      0.20   60.2   62.0    345\n",
              "15      0.32   60.9   58.0    345\n",
              "16      0.30   62.0   54.0    348\n",
              "17      0.30   63.4   54.0    351\n",
              "18      0.30   63.8   56.0    351\n",
              "19      0.30   62.7   59.0    351\n",
              "20      0.30   63.3   56.0    351\n",
              "21      0.23   63.8   55.0    352\n",
              "22      0.23   61.0   57.0    353\n",
              "23      0.31   59.4   62.0    353\n",
              "24      0.31   58.1   62.0    353\n",
              "25      0.23   60.4   58.0    354\n",
              "26      0.24   62.5   57.0    355\n",
              "27      0.30   62.2   57.0    357\n",
              "28      0.23   60.5   61.0    357\n",
              "29      0.23   60.9   57.0    357\n",
              "...      ...    ...    ...    ...\n",
              "53910   0.70   60.5   58.0   2753\n",
              "53911   0.57   59.8   60.0   2753\n",
              "53912   0.61   61.8   59.0   2753\n",
              "53913   0.80   64.2   58.0   2753\n",
              "53914   0.84   63.7   59.0   2753\n",
              "53915   0.77   62.1   56.0   2753\n",
              "53916   0.74   63.1   59.0   2753\n",
              "53917   0.90   63.2   60.0   2753\n",
              "53918   0.76   59.3   62.0   2753\n",
              "53919   0.76   62.2   55.0   2753\n",
              "53920   0.70   62.4   60.0   2755\n",
              "53921   0.70   62.8   60.0   2755\n",
              "53922   0.70   63.1   59.0   2755\n",
              "53923   0.73   61.3   56.0   2756\n",
              "53924   0.73   61.6   55.0   2756\n",
              "53925   0.79   61.6   56.0   2756\n",
              "53926   0.71   61.9   56.0   2756\n",
              "53927   0.79   58.1   59.0   2756\n",
              "53928   0.79   61.4   58.0   2756\n",
              "53929   0.71   61.4   56.0   2756\n",
              "53930   0.71   60.5   55.0   2756\n",
              "53931   0.71   59.8   62.0   2756\n",
              "53932   0.70   60.5   59.0   2757\n",
              "53933   0.70   61.2   59.0   2757\n",
              "53934   0.72   62.7   59.0   2757\n",
              "53935   0.72   60.8   57.0   2757\n",
              "53936   0.72   63.1   55.0   2757\n",
              "53937   0.70   62.8   60.0   2757\n",
              "53938   0.86   61.0   58.0   2757\n",
              "53939   0.75   62.2   55.0   2757\n",
              "\n",
              "[53940 rows x 4 columns]"
            ]
          },
          "metadata": {
            "tags": []
          },
          "execution_count": 31
        }
      ]
    },
    {
      "cell_type": "markdown",
      "metadata": {
        "id": "UAr9-L89Wolv",
        "colab_type": "text"
      },
      "source": [
        "The output of the `transform` method (of the `imp`)"
      ]
    },
    {
      "cell_type": "markdown",
      "metadata": {
        "id": "YdbOgoEkWolv",
        "colab_type": "text"
      },
      "source": [
        "### 3.2 Example 2: `Scaler_MinMax` class"
      ]
    },
    {
      "cell_type": "markdown",
      "metadata": {
        "id": "V5xlqyaqWolw",
        "colab_type": "text"
      },
      "source": [
        "#### 3.2.1. Introduction to min-max scaling"
      ]
    },
    {
      "cell_type": "markdown",
      "metadata": {
        "id": "sWcd3ApfWolw",
        "colab_type": "text"
      },
      "source": [
        "The `MinMaxScaler` in scikit-learn transforms features by scaling each feature to a given range (normally between 0 and 1), and follows the formula below for each feature:\n",
        "\n",
        "$$\\dfrac{x{_i}-min(x)}{max(x)-min(x)}\n",
        "$$\n",
        "\n",
        "where \\\\(x\\\\) refers to a column of data and \\\\(x_i\\\\) refers to the \\\\(i\\\\)-th value in that column."
      ]
    },
    {
      "cell_type": "markdown",
      "metadata": {
        "id": "Z_1fEC5fWol1",
        "colab_type": "text"
      },
      "source": [
        "Import the built-in transformer `MinMaxScaler` from the scikit-learn library."
      ]
    },
    {
      "cell_type": "code",
      "metadata": {
        "id": "zu2ghKJ3Wol2",
        "colab_type": "code",
        "colab": {}
      },
      "source": [
        "from sklearn.preprocessing import MinMaxScaler"
      ],
      "execution_count": 0,
      "outputs": []
    },
    {
      "cell_type": "markdown",
      "metadata": {
        "id": "i6JwlbVRWol6",
        "colab_type": "text"
      },
      "source": [
        "Create an instance of `MinMaxScaler` and store it in an object `minmax1`."
      ]
    },
    {
      "cell_type": "code",
      "metadata": {
        "id": "un2usl5RWol7",
        "colab_type": "code",
        "colab": {}
      },
      "source": [
        "minmax1 = MinMaxScaler()"
      ],
      "execution_count": 0,
      "outputs": []
    },
    {
      "cell_type": "markdown",
      "metadata": {
        "id": "kYbjkjxGWol9",
        "colab_type": "text"
      },
      "source": [
        "Create a sample array data `a` with two features ranging (0, 8) and (1, 9)."
      ]
    },
    {
      "cell_type": "code",
      "metadata": {
        "id": "suOPJHaoWol-",
        "colab_type": "code",
        "colab": {
          "base_uri": "https://localhost:8080/",
          "height": 102
        },
        "outputId": "daee7a07-7a9c-4591-d7d9-d3a4a27ad452"
      },
      "source": [
        "a = np.arange(10).reshape((5,2))\n",
        "a"
      ],
      "execution_count": 34,
      "outputs": [
        {
          "output_type": "execute_result",
          "data": {
            "text/plain": [
              "array([[0, 1],\n",
              "       [2, 3],\n",
              "       [4, 5],\n",
              "       [6, 7],\n",
              "       [8, 9]])"
            ]
          },
          "metadata": {
            "tags": []
          },
          "execution_count": 34
        }
      ]
    },
    {
      "cell_type": "markdown",
      "metadata": {
        "id": "m-g32BShWomA",
        "colab_type": "text"
      },
      "source": [
        "Fit the transformer object to the sample data `a` and return a transformed version of `a` with two features ranging from 0 to 1."
      ]
    },
    {
      "cell_type": "code",
      "metadata": {
        "id": "zHUkJEXLWomB",
        "colab_type": "code",
        "colab": {
          "base_uri": "https://localhost:8080/",
          "height": 102
        },
        "outputId": "08472291-a4b8-492c-888e-d1915a3f0879"
      },
      "source": [
        "minmax1.fit_transform(a)"
      ],
      "execution_count": 35,
      "outputs": [
        {
          "output_type": "execute_result",
          "data": {
            "text/plain": [
              "array([[0.  , 0.  ],\n",
              "       [0.25, 0.25],\n",
              "       [0.5 , 0.5 ],\n",
              "       [0.75, 0.75],\n",
              "       [1.  , 1.  ]])"
            ]
          },
          "metadata": {
            "tags": []
          },
          "execution_count": 35
        }
      ]
    },
    {
      "cell_type": "markdown",
      "metadata": {
        "id": "u23pboBfWomG",
        "colab_type": "text"
      },
      "source": [
        "The following section defines a transformer class the performs the same function as the `MinMaxScaler` class."
      ]
    },
    {
      "cell_type": "markdown",
      "metadata": {
        "id": "pR-7NKVSWomH",
        "colab_type": "text"
      },
      "source": [
        "#### 3.2.2. Build a `Scaler_MinMax` class"
      ]
    },
    {
      "cell_type": "markdown",
      "metadata": {
        "id": "TP2tr6RvWomH",
        "colab_type": "text"
      },
      "source": [
        "The transformer class `Scaler_MinMax` defined below performs the same transformation as `MinMaxScaler`."
      ]
    },
    {
      "cell_type": "code",
      "metadata": {
        "id": "-Hh6QuTKWomI",
        "colab_type": "code",
        "colab": {}
      },
      "source": [
        "class Scaler_MinMax(BaseEstimator, TransformerMixin):\n",
        "  def __init__(self, axis=0):\n",
        "    self.axis = axis\n",
        "  def fit(self, X, y=None):\n",
        "    data_min = np.nanmin(X, axis=self.axis)\n",
        "    data_max = np.nanmax(X, axis=self.axis)\n",
        "    data_range = data_max - data_min\n",
        "    self.data_min_ = data_min\n",
        "    self.data_max_ = data_max\n",
        "    self.data_range_ = data_range\n",
        "    return self\n",
        "  def transform(self, X):\n",
        "    X_scaled = (X - self.data_min_) / self.data_range_\n",
        "    return X_scaled"
      ],
      "execution_count": 0,
      "outputs": []
    },
    {
      "cell_type": "markdown",
      "metadata": {
        "id": "j927-cK5WomM",
        "colab_type": "text"
      },
      "source": [
        "In this class the transformer has one parameter, `axis` with a default of `0` which indicates that minimum and maximum values should be computed for each __column__. See lines `5` and `6` which use the `axis` attribute.\n",
        "\n",
        "In the `fit` method, the class will:\n",
        "- learn the minimum of an array by computing `np.nanmin(X, axis=self.axis)` \n",
        "- learn the maximum of an array by computing `np.nanmax(X, axis=self.axis)`\n",
        "- compute the range between the minimum and maximum by computing `data_max - data_min`\n",
        "\n",
        "Each of the calculation is then stored as an attribute of the object. Finally, the `fit` method returns `self`.\n",
        "\n",
        "The `transform` method takes the input data `X` and uses the stored attributes to calculate:\n",
        "- a scaled version `X_scaled` (of the input data `X`) by subtracting the minimum value and divided by the range\n",
        "\n",
        "The `transform` method then returns this scaled version of data `X_scaled`."
      ]
    },
    {
      "cell_type": "markdown",
      "metadata": {
        "id": "ttlU-Q9gWomN",
        "colab_type": "text"
      },
      "source": [
        "The same sample dataset `a` is used to demonstrate the `Scaler_MinMax` class:\n",
        "1. Create an instance of `Scaler_MinMax` and store it in an object `minmax2`. \n",
        "1. Fit and transform the dataset `a` using this instance."
      ]
    },
    {
      "cell_type": "code",
      "metadata": {
        "id": "okPkoBOyWomP",
        "colab_type": "code",
        "colab": {
          "base_uri": "https://localhost:8080/",
          "height": 102
        },
        "outputId": "9c0ee60f-5b07-4a0d-b74a-368120669b85"
      },
      "source": [
        "minmax2 = Scaler_MinMax()\n",
        "minmax2.fit_transform(a)"
      ],
      "execution_count": 37,
      "outputs": [
        {
          "output_type": "execute_result",
          "data": {
            "text/plain": [
              "array([[0.  , 0.  ],\n",
              "       [0.25, 0.25],\n",
              "       [0.5 , 0.5 ],\n",
              "       [0.75, 0.75],\n",
              "       [1.  , 1.  ]])"
            ]
          },
          "metadata": {
            "tags": []
          },
          "execution_count": 37
        }
      ]
    },
    {
      "cell_type": "markdown",
      "metadata": {
        "id": "HsiUSN_7WomS",
        "colab_type": "text"
      },
      "source": [
        "After fitting the transformer class on the dataset `a`, the object `minmax2` has calculated and stored the three attributes:\n",
        "- `data_min_` which is the minimum value of each feature\n",
        "- `data_max_` which is the maximum value of each feature\n",
        "- `data_range_` which is the range (`data_min_ - data_max_`) value of each feature\n",
        "\n",
        "These attributes are displayed below."
      ]
    },
    {
      "cell_type": "code",
      "metadata": {
        "id": "FDMig-FTWomT",
        "colab_type": "code",
        "colab": {
          "base_uri": "https://localhost:8080/",
          "height": 34
        },
        "outputId": "53d7a0d6-0b82-462f-8d44-d3f3fb28d5af"
      },
      "source": [
        "minmax2.data_min_, minmax2.data_max_, minmax2.data_range_"
      ],
      "execution_count": 38,
      "outputs": [
        {
          "output_type": "execute_result",
          "data": {
            "text/plain": [
              "(array([0, 1]), array([8, 9]), array([8, 8]))"
            ]
          },
          "metadata": {
            "tags": []
          },
          "execution_count": 38
        }
      ]
    },
    {
      "cell_type": "markdown",
      "metadata": {
        "id": "AwjI9nlyWomU",
        "colab_type": "text"
      },
      "source": [
        "Create another sample data `b` with two feature ranging (0, 4) and (1, 5)."
      ]
    },
    {
      "cell_type": "code",
      "metadata": {
        "id": "cQD_6uxAWomV",
        "colab_type": "code",
        "colab": {
          "base_uri": "https://localhost:8080/",
          "height": 68
        },
        "outputId": "bb618b7a-b380-4b85-a35d-42f670bc4355"
      },
      "source": [
        "b=np.arange(6).reshape(3,2)\n",
        "b"
      ],
      "execution_count": 39,
      "outputs": [
        {
          "output_type": "execute_result",
          "data": {
            "text/plain": [
              "array([[0, 1],\n",
              "       [2, 3],\n",
              "       [4, 5]])"
            ]
          },
          "metadata": {
            "tags": []
          },
          "execution_count": 39
        }
      ]
    },
    {
      "cell_type": "markdown",
      "metadata": {
        "id": "Pk8BQ6wDWoma",
        "colab_type": "text"
      },
      "source": [
        "Use the fitted transformer object `minmax2` to perform transformation on `b` and get a scaled version of `b` with two features ranging from 0 to 0.5."
      ]
    },
    {
      "cell_type": "code",
      "metadata": {
        "id": "s632vWyUWomb",
        "colab_type": "code",
        "colab": {
          "base_uri": "https://localhost:8080/",
          "height": 68
        },
        "outputId": "cfaf62f0-9ab9-4a99-db23-9a099eef6f7f"
      },
      "source": [
        "minmax2.transform(b)"
      ],
      "execution_count": 40,
      "outputs": [
        {
          "output_type": "execute_result",
          "data": {
            "text/plain": [
              "array([[0.  , 0.  ],\n",
              "       [0.25, 0.25],\n",
              "       [0.5 , 0.5 ]])"
            ]
          },
          "metadata": {
            "tags": []
          },
          "execution_count": 40
        }
      ]
    },
    {
      "cell_type": "markdown",
      "metadata": {
        "id": "zY3ZfkjcWomc",
        "colab_type": "text"
      },
      "source": [
        "__The End__"
      ]
    }
  ]
}