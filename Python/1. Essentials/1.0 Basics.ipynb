{
  "nbformat": 4,
  "nbformat_minor": 0,
  "metadata": {
    "colab": {
      "name": "1.0 Basics.ipynb",
      "version": "0.3.2",
      "provenance": []
    },
    "kernelspec": {
      "name": "python3",
      "display_name": "Python 3"
    }
  },
  "cells": [
    {
      "cell_type": "markdown",
      "metadata": {
        "id": "FKaD1HG2uf1l",
        "colab_type": "text"
      },
      "source": [
        "# Python Basics (jun 14 at 12:02)"
      ]
    },
    {
      "cell_type": "markdown",
      "metadata": {
        "id": "niWjlON9uf1o",
        "colab_type": "text"
      },
      "source": [
        "## Table of Contents\n",
        "\n",
        "1. Types of values\n",
        "1. Converting between types\n",
        "1. Calculations\n",
        "1. Variables"
      ]
    },
    {
      "cell_type": "markdown",
      "metadata": {
        "id": "CluQA7oGuf1p",
        "colab_type": "text"
      },
      "source": [
        "Notice the Python version. These notes are for Python 3."
      ]
    },
    {
      "cell_type": "code",
      "metadata": {
        "id": "BI18ocatuf1q",
        "colab_type": "code",
        "outputId": "586e1d94-7764-458e-dc39-010f989d3a84",
        "colab": {
          "base_uri": "https://localhost:8080/",
          "height": 51
        }
      },
      "source": [
        "import sys\n",
        "print (sys.version) "
      ],
      "execution_count": 1,
      "outputs": [
        {
          "output_type": "stream",
          "text": [
            "3.6.7 (default, Oct 22 2018, 11:32:17) \n",
            "[GCC 8.2.0]\n"
          ],
          "name": "stdout"
        }
      ]
    },
    {
      "cell_type": "markdown",
      "metadata": {
        "id": "OdmUSv-Xuf1x",
        "colab_type": "text"
      },
      "source": [
        "## Types of values\n",
        "\n",
        "There are four basic types of value in Python:\n",
        "- Integers (`int`)\n",
        "- Decimal numbers (`float`)\n",
        "- Character strings (`str`)\n",
        "- Logical variables (`bool`)"
      ]
    },
    {
      "cell_type": "markdown",
      "metadata": {
        "id": "6duJdK5Iuf1y",
        "colab_type": "text"
      },
      "source": [
        "The `type` function displays the datatype of its argument."
      ]
    },
    {
      "cell_type": "code",
      "metadata": {
        "id": "RaEEzu1Wuf1z",
        "colab_type": "code",
        "outputId": "6b4609cd-854e-40a8-e01e-532bf25da030",
        "colab": {
          "base_uri": "https://localhost:8080/",
          "height": 34
        }
      },
      "source": [
        "type(3)"
      ],
      "execution_count": 2,
      "outputs": [
        {
          "output_type": "execute_result",
          "data": {
            "text/plain": [
              "int"
            ]
          },
          "metadata": {
            "tags": []
          },
          "execution_count": 2
        }
      ]
    },
    {
      "cell_type": "code",
      "metadata": {
        "id": "ArmZsKuwuf13",
        "colab_type": "code",
        "outputId": "bb5105c3-9a84-48c9-ea6f-fffce88b56dd",
        "colab": {
          "base_uri": "https://localhost:8080/",
          "height": 34
        }
      },
      "source": [
        "type(3.0)"
      ],
      "execution_count": 3,
      "outputs": [
        {
          "output_type": "execute_result",
          "data": {
            "text/plain": [
              "float"
            ]
          },
          "metadata": {
            "tags": []
          },
          "execution_count": 3
        }
      ]
    },
    {
      "cell_type": "code",
      "metadata": {
        "id": "uR0w-F9-uf16",
        "colab_type": "code",
        "outputId": "ed779797-a466-4714-eadc-299efab1e589",
        "colab": {
          "base_uri": "https://localhost:8080/",
          "height": 34
        }
      },
      "source": [
        "type('hello')"
      ],
      "execution_count": 4,
      "outputs": [
        {
          "output_type": "execute_result",
          "data": {
            "text/plain": [
              "str"
            ]
          },
          "metadata": {
            "tags": []
          },
          "execution_count": 4
        }
      ]
    },
    {
      "cell_type": "code",
      "metadata": {
        "id": "FTdyOhKbuf2D",
        "colab_type": "code",
        "outputId": "1c62d696-a94b-4351-de2f-f5789d4a2196",
        "colab": {
          "base_uri": "https://localhost:8080/",
          "height": 34
        }
      },
      "source": [
        "type(True)"
      ],
      "execution_count": 5,
      "outputs": [
        {
          "output_type": "execute_result",
          "data": {
            "text/plain": [
              "bool"
            ]
          },
          "metadata": {
            "tags": []
          },
          "execution_count": 5
        }
      ]
    },
    {
      "cell_type": "code",
      "metadata": {
        "id": "9ulhyft5uf2G",
        "colab_type": "code",
        "outputId": "c3b93ec9-984f-40f6-bcd1-69a96e8f3f18",
        "colab": {
          "base_uri": "https://localhost:8080/",
          "height": 34
        }
      },
      "source": [
        "type(False)"
      ],
      "execution_count": 6,
      "outputs": [
        {
          "output_type": "execute_result",
          "data": {
            "text/plain": [
              "bool"
            ]
          },
          "metadata": {
            "tags": []
          },
          "execution_count": 6
        }
      ]
    },
    {
      "cell_type": "markdown",
      "metadata": {
        "id": "KzT8Iy6auf2N",
        "colab_type": "text"
      },
      "source": [
        "## Converting between types\n",
        "\n",
        "There are functions that convert their argument values to the indicted types."
      ]
    },
    {
      "cell_type": "code",
      "metadata": {
        "id": "DNMKx0MVuf2O",
        "colab_type": "code",
        "outputId": "8f53d750-fa5c-480b-8d35-7759b230c5fd",
        "colab": {
          "base_uri": "https://localhost:8080/",
          "height": 34
        }
      },
      "source": [
        "int(3.0), type(int(3.0))"
      ],
      "execution_count": 7,
      "outputs": [
        {
          "output_type": "execute_result",
          "data": {
            "text/plain": [
              "(3, int)"
            ]
          },
          "metadata": {
            "tags": []
          },
          "execution_count": 7
        }
      ]
    },
    {
      "cell_type": "code",
      "metadata": {
        "id": "Btbc37TMuf2S",
        "colab_type": "code",
        "outputId": "f2e63b7c-b12d-4348-d9e4-ba4a816d79e4",
        "colab": {
          "base_uri": "https://localhost:8080/",
          "height": 34
        }
      },
      "source": [
        "str(3.0)"
      ],
      "execution_count": 8,
      "outputs": [
        {
          "output_type": "execute_result",
          "data": {
            "text/plain": [
              "'3.0'"
            ]
          },
          "metadata": {
            "tags": []
          },
          "execution_count": 8
        }
      ]
    },
    {
      "cell_type": "code",
      "metadata": {
        "id": "iLKsQKj8uf2W",
        "colab_type": "code",
        "outputId": "bdc13113-fb93-44a0-9ea6-21987549f385",
        "colab": {
          "base_uri": "https://localhost:8080/",
          "height": 34
        }
      },
      "source": [
        "float(3)"
      ],
      "execution_count": 9,
      "outputs": [
        {
          "output_type": "execute_result",
          "data": {
            "text/plain": [
              "3.0"
            ]
          },
          "metadata": {
            "tags": []
          },
          "execution_count": 9
        }
      ]
    },
    {
      "cell_type": "code",
      "metadata": {
        "id": "KfTdWMIsuf2c",
        "colab_type": "code",
        "outputId": "48088cd6-c806-449f-c2ea-6ec0aea7c282",
        "colab": {
          "base_uri": "https://localhost:8080/",
          "height": 34
        }
      },
      "source": [
        "str(3)"
      ],
      "execution_count": 10,
      "outputs": [
        {
          "output_type": "execute_result",
          "data": {
            "text/plain": [
              "'3'"
            ]
          },
          "metadata": {
            "tags": []
          },
          "execution_count": 10
        }
      ]
    },
    {
      "cell_type": "code",
      "metadata": {
        "id": "UzX56DLOuf2g",
        "colab_type": "code",
        "outputId": "f1d12fde-6158-4d83-e3d4-89adb2e49996",
        "colab": {
          "base_uri": "https://localhost:8080/",
          "height": 34
        }
      },
      "source": [
        "bool(100.0)"
      ],
      "execution_count": 11,
      "outputs": [
        {
          "output_type": "execute_result",
          "data": {
            "text/plain": [
              "True"
            ]
          },
          "metadata": {
            "tags": []
          },
          "execution_count": 11
        }
      ]
    },
    {
      "cell_type": "code",
      "metadata": {
        "id": "fKYYkYAuuf2k",
        "colab_type": "code",
        "outputId": "3a0ad421-42cd-43d8-d7a9-ad661e2d3a93",
        "colab": {
          "base_uri": "https://localhost:8080/",
          "height": 34
        }
      },
      "source": [
        "bool(0)"
      ],
      "execution_count": 12,
      "outputs": [
        {
          "output_type": "execute_result",
          "data": {
            "text/plain": [
              "False"
            ]
          },
          "metadata": {
            "tags": []
          },
          "execution_count": 12
        }
      ]
    },
    {
      "cell_type": "code",
      "metadata": {
        "id": "su-iLqaruf3D",
        "colab_type": "code",
        "outputId": "b57b2f5e-55e9-439f-9045-cc8c55b9e34e",
        "colab": {
          "base_uri": "https://localhost:8080/",
          "height": 34
        }
      },
      "source": [
        "bool(None)"
      ],
      "execution_count": 13,
      "outputs": [
        {
          "output_type": "execute_result",
          "data": {
            "text/plain": [
              "False"
            ]
          },
          "metadata": {
            "tags": []
          },
          "execution_count": 13
        }
      ]
    },
    {
      "cell_type": "code",
      "metadata": {
        "id": "61iOk1nQuf3L",
        "colab_type": "code",
        "outputId": "30be9566-c77b-4f32-b36e-5b322658cde0",
        "colab": {
          "base_uri": "https://localhost:8080/",
          "height": 34
        }
      },
      "source": [
        "bool(False)"
      ],
      "execution_count": 14,
      "outputs": [
        {
          "output_type": "execute_result",
          "data": {
            "text/plain": [
              "False"
            ]
          },
          "metadata": {
            "tags": []
          },
          "execution_count": 14
        }
      ]
    },
    {
      "cell_type": "markdown",
      "metadata": {
        "id": "5g8doozhuf3T",
        "colab_type": "text"
      },
      "source": [
        "## Calculations & operators"
      ]
    },
    {
      "cell_type": "markdown",
      "metadata": {
        "id": "lmoyZJZkuf3T",
        "colab_type": "text"
      },
      "source": [
        "Below numeric, string and logical calculations are introduced."
      ]
    },
    {
      "cell_type": "markdown",
      "metadata": {
        "id": "TrGdIfYAuf3U",
        "colab_type": "text"
      },
      "source": [
        "### Numeric"
      ]
    },
    {
      "cell_type": "markdown",
      "metadata": {
        "id": "GfPp0miTuf3V",
        "colab_type": "text"
      },
      "source": [
        "Calculations are performed using _operators_. Some of the basic numeric operators for each type are listed below.\n",
        "\n",
        "1. The familiar (numeric) arithmetic operators: `+`, `-`, `*`, `/`. \n",
        "2. The exponentiation operator is `**`.\n",
        "\n",
        "Additional operators are introduced for non-numeric types."
      ]
    },
    {
      "cell_type": "code",
      "metadata": {
        "id": "FM5-IDUxuf3V",
        "colab_type": "code",
        "outputId": "2f505e25-63b4-4431-9098-05ab2cd5bdf9",
        "colab": {
          "base_uri": "https://localhost:8080/",
          "height": 0
        }
      },
      "source": [
        "2**3"
      ],
      "execution_count": 15,
      "outputs": [
        {
          "output_type": "execute_result",
          "data": {
            "text/plain": [
              "8"
            ]
          },
          "metadata": {
            "tags": []
          },
          "execution_count": 15
        }
      ]
    },
    {
      "cell_type": "code",
      "metadata": {
        "id": "UVbuy2aBuf3Y",
        "colab_type": "code",
        "outputId": "0e29afcd-2e12-40a4-c7ca-e6801be3f414",
        "colab": {
          "base_uri": "https://localhost:8080/",
          "height": 0
        }
      },
      "source": [
        "2+2"
      ],
      "execution_count": 16,
      "outputs": [
        {
          "output_type": "execute_result",
          "data": {
            "text/plain": [
              "4"
            ]
          },
          "metadata": {
            "tags": []
          },
          "execution_count": 16
        }
      ]
    },
    {
      "cell_type": "code",
      "metadata": {
        "id": "ILN5r9Ypuf3b",
        "colab_type": "code",
        "outputId": "b15dffe6-6d5f-4e27-9dfb-6b781c738a49",
        "colab": {
          "base_uri": "https://localhost:8080/",
          "height": 0
        }
      },
      "source": [
        "3.0 - 1"
      ],
      "execution_count": 17,
      "outputs": [
        {
          "output_type": "execute_result",
          "data": {
            "text/plain": [
              "2.0"
            ]
          },
          "metadata": {
            "tags": []
          },
          "execution_count": 17
        }
      ]
    },
    {
      "cell_type": "code",
      "metadata": {
        "id": "sqHJBwp4uf3h",
        "colab_type": "code",
        "outputId": "1d221494-f2bb-4853-b4ea-55205591fa8d",
        "colab": {
          "base_uri": "https://localhost:8080/",
          "height": 0
        }
      },
      "source": [
        "3*3"
      ],
      "execution_count": 18,
      "outputs": [
        {
          "output_type": "execute_result",
          "data": {
            "text/plain": [
              "9"
            ]
          },
          "metadata": {
            "tags": []
          },
          "execution_count": 18
        }
      ]
    },
    {
      "cell_type": "code",
      "metadata": {
        "id": "_1PP3v7Luf3m",
        "colab_type": "code",
        "outputId": "d5059531-c2a8-44d1-e59c-bd9245ef1361",
        "colab": {
          "base_uri": "https://localhost:8080/",
          "height": 0
        }
      },
      "source": [
        "3.0*3"
      ],
      "execution_count": 19,
      "outputs": [
        {
          "output_type": "execute_result",
          "data": {
            "text/plain": [
              "9.0"
            ]
          },
          "metadata": {
            "tags": []
          },
          "execution_count": 19
        }
      ]
    },
    {
      "cell_type": "code",
      "metadata": {
        "id": "eDcgz8WOuf3q",
        "colab_type": "code",
        "outputId": "87bb9834-a5de-4b99-8414-a06f3987bc31",
        "colab": {
          "base_uri": "https://localhost:8080/",
          "height": 0
        }
      },
      "source": [
        "3.0/2.0"
      ],
      "execution_count": 20,
      "outputs": [
        {
          "output_type": "execute_result",
          "data": {
            "text/plain": [
              "1.5"
            ]
          },
          "metadata": {
            "tags": []
          },
          "execution_count": 20
        }
      ]
    },
    {
      "cell_type": "code",
      "metadata": {
        "id": "hqLQ7tR9uf3w",
        "colab_type": "code",
        "outputId": "d9eb2f60-4b70-4850-b344-fc54fdb79881",
        "colab": {
          "base_uri": "https://localhost:8080/",
          "height": 0
        }
      },
      "source": [
        "3/2"
      ],
      "execution_count": 21,
      "outputs": [
        {
          "output_type": "execute_result",
          "data": {
            "text/plain": [
              "1.5"
            ]
          },
          "metadata": {
            "tags": []
          },
          "execution_count": 21
        }
      ]
    },
    {
      "cell_type": "markdown",
      "metadata": {
        "id": "unwzvmuyuf30",
        "colab_type": "text"
      },
      "source": [
        "__Exercise__: What type is the result of arithmetic on:\n",
        "- An `int` and a `float`?\n",
        "- A `boolean` and an `int`?\n",
        "- A `boolean` and a `float`?"
      ]
    },
    {
      "cell_type": "markdown",
      "metadata": {
        "id": "vF4dj_bGuf30",
        "colab_type": "text"
      },
      "source": [
        "### String"
      ]
    },
    {
      "cell_type": "markdown",
      "metadata": {
        "id": "nCtAZdt8uf31",
        "colab_type": "text"
      },
      "source": [
        "The two basic string operators are `+` and `*`."
      ]
    },
    {
      "cell_type": "code",
      "metadata": {
        "id": "Ir2pHc-Iuf31",
        "colab_type": "code",
        "outputId": "6863cf86-44a5-4c33-dfc7-626aa5d54ef1",
        "colab": {
          "base_uri": "https://localhost:8080/",
          "height": 0
        }
      },
      "source": [
        "\"hello\" + \"goodbye\""
      ],
      "execution_count": 22,
      "outputs": [
        {
          "output_type": "execute_result",
          "data": {
            "text/plain": [
              "'hellogoodbye'"
            ]
          },
          "metadata": {
            "tags": []
          },
          "execution_count": 22
        }
      ]
    },
    {
      "cell_type": "code",
      "metadata": {
        "id": "9Wf8HSo8uf3-",
        "colab_type": "code",
        "outputId": "442cd86e-89f4-4c66-bf3b-cbaf8ebab48b",
        "colab": {
          "base_uri": "https://localhost:8080/",
          "height": 0
        }
      },
      "source": [
        "3 * \"12\""
      ],
      "execution_count": 23,
      "outputs": [
        {
          "output_type": "execute_result",
          "data": {
            "text/plain": [
              "'121212'"
            ]
          },
          "metadata": {
            "tags": []
          },
          "execution_count": 23
        }
      ]
    },
    {
      "cell_type": "markdown",
      "metadata": {
        "id": "WVPzSXsKuf4E",
        "colab_type": "text"
      },
      "source": [
        "### Logical"
      ]
    },
    {
      "cell_type": "markdown",
      "metadata": {
        "id": "eMU3nMGTuf4F",
        "colab_type": "text"
      },
      "source": [
        "There are three essential boolean/logical operations: `not`, `and`, `or`."
      ]
    },
    {
      "cell_type": "code",
      "metadata": {
        "id": "2M1-B1hauf4F",
        "colab_type": "code",
        "outputId": "47b88c4d-8b3e-4c4c-8429-5030b7dc1e79",
        "colab": {
          "base_uri": "https://localhost:8080/",
          "height": 0
        }
      },
      "source": [
        "not True"
      ],
      "execution_count": 24,
      "outputs": [
        {
          "output_type": "execute_result",
          "data": {
            "text/plain": [
              "False"
            ]
          },
          "metadata": {
            "tags": []
          },
          "execution_count": 24
        }
      ]
    },
    {
      "cell_type": "code",
      "metadata": {
        "id": "FBsBd35tuf4J",
        "colab_type": "code",
        "outputId": "f4622f48-ac0d-4be4-cfc0-56955e885b66",
        "colab": {
          "base_uri": "https://localhost:8080/",
          "height": 0
        }
      },
      "source": [
        "True and False"
      ],
      "execution_count": 25,
      "outputs": [
        {
          "output_type": "execute_result",
          "data": {
            "text/plain": [
              "False"
            ]
          },
          "metadata": {
            "tags": []
          },
          "execution_count": 25
        }
      ]
    },
    {
      "cell_type": "code",
      "metadata": {
        "id": "wNGpuT-Wuf4N",
        "colab_type": "code",
        "outputId": "be68005f-3f9b-40f6-dda1-f61ee8ac9d71",
        "colab": {
          "base_uri": "https://localhost:8080/",
          "height": 0
        }
      },
      "source": [
        "True & False"
      ],
      "execution_count": 26,
      "outputs": [
        {
          "output_type": "execute_result",
          "data": {
            "text/plain": [
              "False"
            ]
          },
          "metadata": {
            "tags": []
          },
          "execution_count": 26
        }
      ]
    },
    {
      "cell_type": "code",
      "metadata": {
        "id": "ZtapXMhRuf4Q",
        "colab_type": "code",
        "outputId": "2a9ecb7d-cca9-4026-bf2e-466551fd9f69",
        "colab": {
          "base_uri": "https://localhost:8080/",
          "height": 0
        }
      },
      "source": [
        "True or False"
      ],
      "execution_count": 27,
      "outputs": [
        {
          "output_type": "execute_result",
          "data": {
            "text/plain": [
              "True"
            ]
          },
          "metadata": {
            "tags": []
          },
          "execution_count": 27
        }
      ]
    },
    {
      "cell_type": "code",
      "metadata": {
        "id": "cBicKbLSuf4S",
        "colab_type": "code",
        "outputId": "d83ad8a1-39ee-4d6f-97af-3e9598e0f9c3",
        "colab": {
          "base_uri": "https://localhost:8080/",
          "height": 0
        }
      },
      "source": [
        "True | False"
      ],
      "execution_count": 28,
      "outputs": [
        {
          "output_type": "execute_result",
          "data": {
            "text/plain": [
              "True"
            ]
          },
          "metadata": {
            "tags": []
          },
          "execution_count": 28
        }
      ]
    },
    {
      "cell_type": "markdown",
      "metadata": {
        "id": "MJQWG3QHuf4U",
        "colab_type": "text"
      },
      "source": [
        "## `in` operator (string, list)"
      ]
    },
    {
      "cell_type": "markdown",
      "metadata": {
        "id": "nOY8Maltuf4V",
        "colab_type": "text"
      },
      "source": [
        "The `in` operator tests for inclusion of the left argument in the right side argument."
      ]
    },
    {
      "cell_type": "code",
      "metadata": {
        "id": "a_HK0i5juf4W",
        "colab_type": "code",
        "outputId": "edf0dbfc-b1fb-4889-ff60-db7843bc7d8d",
        "colab": {
          "base_uri": "https://localhost:8080/",
          "height": 34
        }
      },
      "source": [
        "\"bc\" in \"abcde\""
      ],
      "execution_count": 29,
      "outputs": [
        {
          "output_type": "execute_result",
          "data": {
            "text/plain": [
              "True"
            ]
          },
          "metadata": {
            "tags": []
          },
          "execution_count": 29
        }
      ]
    },
    {
      "cell_type": "code",
      "metadata": {
        "id": "DfARrKtXuf4Y",
        "colab_type": "code",
        "outputId": "789cfd27-5dd1-455a-a9fb-4a143d5d69b4",
        "colab": {
          "base_uri": "https://localhost:8080/",
          "height": 34
        }
      },
      "source": [
        "2 in [1,2,3,4]"
      ],
      "execution_count": 30,
      "outputs": [
        {
          "output_type": "execute_result",
          "data": {
            "text/plain": [
              "True"
            ]
          },
          "metadata": {
            "tags": []
          },
          "execution_count": 30
        }
      ]
    },
    {
      "cell_type": "code",
      "metadata": {
        "id": "siY7TdjCuf4a",
        "colab_type": "code",
        "outputId": "6988ef6e-a307-4f15-d930-810ce4873ed5",
        "colab": {
          "base_uri": "https://localhost:8080/",
          "height": 34
        }
      },
      "source": [
        "3.0  in (1.0, 2.0, 3.0, 4.0)"
      ],
      "execution_count": 31,
      "outputs": [
        {
          "output_type": "execute_result",
          "data": {
            "text/plain": [
              "True"
            ]
          },
          "metadata": {
            "tags": []
          },
          "execution_count": 31
        }
      ]
    },
    {
      "cell_type": "code",
      "metadata": {
        "id": "ngJTlrUCuf4c",
        "colab_type": "code",
        "outputId": "8b65f79a-c4eb-4783-c767-e96cd4258b9f",
        "colab": {
          "base_uri": "https://localhost:8080/",
          "height": 34
        }
      },
      "source": [
        "3.0 in [1,2,3,4]"
      ],
      "execution_count": 32,
      "outputs": [
        {
          "output_type": "execute_result",
          "data": {
            "text/plain": [
              "True"
            ]
          },
          "metadata": {
            "tags": []
          },
          "execution_count": 32
        }
      ]
    },
    {
      "cell_type": "markdown",
      "metadata": {
        "id": "T43p-sa7uf4g",
        "colab_type": "text"
      },
      "source": [
        "## Variables"
      ]
    },
    {
      "cell_type": "markdown",
      "metadata": {
        "id": "ut0-e863uf4h",
        "colab_type": "text"
      },
      "source": [
        "Any value can be stored in and retrieved from a variable."
      ]
    },
    {
      "cell_type": "code",
      "metadata": {
        "id": "nNTBAb43uf4h",
        "colab_type": "code",
        "colab": {}
      },
      "source": [
        "y = 3*3.987687687"
      ],
      "execution_count": 0,
      "outputs": []
    },
    {
      "cell_type": "code",
      "metadata": {
        "id": "gBag6dHruf4p",
        "colab_type": "code",
        "outputId": "3c4fab9a-f8cc-4dcc-e35e-8ba20ca01594",
        "colab": {
          "base_uri": "https://localhost:8080/",
          "height": 34
        }
      },
      "source": [
        "y"
      ],
      "execution_count": 34,
      "outputs": [
        {
          "output_type": "execute_result",
          "data": {
            "text/plain": [
              "11.963063061"
            ]
          },
          "metadata": {
            "tags": []
          },
          "execution_count": 34
        }
      ]
    },
    {
      "cell_type": "code",
      "metadata": {
        "id": "uQZys2eRuf4r",
        "colab_type": "code",
        "outputId": "05c5f87e-e196-432c-d340-9ea98172e818",
        "colab": {
          "base_uri": "https://localhost:8080/",
          "height": 34
        }
      },
      "source": [
        "y * y"
      ],
      "execution_count": 35,
      "outputs": [
        {
          "output_type": "execute_result",
          "data": {
            "text/plain": [
              "143.11487780146268"
            ]
          },
          "metadata": {
            "tags": []
          },
          "execution_count": 35
        }
      ]
    },
    {
      "cell_type": "markdown",
      "metadata": {
        "id": "9s0aVumuuf4t",
        "colab_type": "text"
      },
      "source": [
        "__The End__"
      ]
    }
  ]
}