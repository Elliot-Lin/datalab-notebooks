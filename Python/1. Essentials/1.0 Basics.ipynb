{
  "nbformat": 4,
  "nbformat_minor": 0,
  "metadata": {
    "name": "1.1 Basics",
    "notebookId": 90445,
    "colab": {
      "name": "1.0 Basics.ipynb",
      "provenance": []
    }
  },
  "cells": [
    {
      "cell_type": "markdown",
      "metadata": {
        "id": "pngvE8117n49",
        "colab_type": "text"
      },
      "source": [
        "# Python Basics"
      ]
    },
    {
      "cell_type": "markdown",
      "metadata": {
        "id": "uxT4LSaW7n5A",
        "colab_type": "text"
      },
      "source": [
        "## Table of Contents\n",
        "\n",
        "1. Types of values\n",
        "1. Converting between types\n",
        "1. Calculations\n",
        "1. Variables"
      ]
    },
    {
      "cell_type": "markdown",
      "metadata": {
        "id": "rjqQktGX7n5B",
        "colab_type": "text"
      },
      "source": [
        "Notice the Python version. These notes are for Python 3. "
      ]
    },
    {
      "cell_type": "code",
      "metadata": {
        "id": "K7eFvoEC7n5C",
        "colab_type": "code",
        "colab": {}
      },
      "source": [
        "import sys\n",
        "print (sys.version)"
      ],
      "execution_count": 0,
      "outputs": []
    },
    {
      "cell_type": "markdown",
      "metadata": {
        "id": "3654cYhU7n5G",
        "colab_type": "text"
      },
      "source": [
        "## Types of values\n",
        "\n",
        "There are four basic types of value in Python:\n",
        "- Integers (`int`)\n",
        "- Decimal numbers (`float`)\n",
        "- Character strings (`str`)\n",
        "- Logical variables (`bool`)"
      ]
    },
    {
      "cell_type": "markdown",
      "metadata": {
        "id": "Xe_VDABJ7n5H",
        "colab_type": "text"
      },
      "source": [
        "The `type` function displays the datatype of its argument."
      ]
    },
    {
      "cell_type": "code",
      "metadata": {
        "id": "x-MerL4I7n5H",
        "colab_type": "code",
        "colab": {}
      },
      "source": [
        "type(3)"
      ],
      "execution_count": 0,
      "outputs": []
    },
    {
      "cell_type": "code",
      "metadata": {
        "id": "PCdu6uAM7n5K",
        "colab_type": "code",
        "colab": {}
      },
      "source": [
        "type(3.0)"
      ],
      "execution_count": 0,
      "outputs": []
    },
    {
      "cell_type": "code",
      "metadata": {
        "id": "WbzicsDN7n5Z",
        "colab_type": "code",
        "colab": {}
      },
      "source": [
        "type('hello')"
      ],
      "execution_count": 0,
      "outputs": []
    },
    {
      "cell_type": "code",
      "metadata": {
        "id": "bb0diJzO7n5b",
        "colab_type": "code",
        "colab": {}
      },
      "source": [
        "type(True)"
      ],
      "execution_count": 0,
      "outputs": []
    },
    {
      "cell_type": "code",
      "metadata": {
        "id": "fzCBhRNF7n5d",
        "colab_type": "code",
        "colab": {}
      },
      "source": [
        "type(False)"
      ],
      "execution_count": 0,
      "outputs": []
    },
    {
      "cell_type": "markdown",
      "metadata": {
        "id": "YQ2gn_WM7n5g",
        "colab_type": "text"
      },
      "source": [
        "## Converting between types\n",
        "\n",
        "There are functions that convert their argument values to the indicted types."
      ]
    },
    {
      "cell_type": "code",
      "metadata": {
        "id": "0vt0AY-q7n5g",
        "colab_type": "code",
        "colab": {}
      },
      "source": [
        "int(3.0), type(int(3.0))"
      ],
      "execution_count": 0,
      "outputs": []
    },
    {
      "cell_type": "code",
      "metadata": {
        "id": "GkmjKdSI7n5i",
        "colab_type": "code",
        "colab": {}
      },
      "source": [
        "str(3.0)"
      ],
      "execution_count": 0,
      "outputs": []
    },
    {
      "cell_type": "code",
      "metadata": {
        "id": "1lrDdt5e7n5k",
        "colab_type": "code",
        "colab": {}
      },
      "source": [
        "float(3)"
      ],
      "execution_count": 0,
      "outputs": []
    },
    {
      "cell_type": "code",
      "metadata": {
        "id": "EcX-R66l7n5n",
        "colab_type": "code",
        "colab": {}
      },
      "source": [
        "str(3)"
      ],
      "execution_count": 0,
      "outputs": []
    },
    {
      "cell_type": "code",
      "metadata": {
        "id": "DADXASAp7n5o",
        "colab_type": "code",
        "colab": {}
      },
      "source": [
        "bool(100.0)"
      ],
      "execution_count": 0,
      "outputs": []
    },
    {
      "cell_type": "code",
      "metadata": {
        "id": "Sxr-aCsJ7n5q",
        "colab_type": "code",
        "colab": {}
      },
      "source": [
        "bool(0)"
      ],
      "execution_count": 0,
      "outputs": []
    },
    {
      "cell_type": "code",
      "metadata": {
        "id": "Vp7eD2mL7n5s",
        "colab_type": "code",
        "colab": {}
      },
      "source": [
        "bool(None)"
      ],
      "execution_count": 0,
      "outputs": []
    },
    {
      "cell_type": "code",
      "metadata": {
        "id": "u1cJPz7O7n5u",
        "colab_type": "code",
        "colab": {}
      },
      "source": [
        "bool(False)"
      ],
      "execution_count": 0,
      "outputs": []
    },
    {
      "cell_type": "markdown",
      "metadata": {
        "id": "U30zoTIu7n5w",
        "colab_type": "text"
      },
      "source": [
        "## Calculations & operators"
      ]
    },
    {
      "cell_type": "markdown",
      "metadata": {
        "id": "3UlmHr2X7n5w",
        "colab_type": "text"
      },
      "source": [
        "Below numeric, string and logical calculations are introduced."
      ]
    },
    {
      "cell_type": "markdown",
      "metadata": {
        "id": "Ybwn13SJ7n5x",
        "colab_type": "text"
      },
      "source": [
        "### Numeric"
      ]
    },
    {
      "cell_type": "markdown",
      "metadata": {
        "id": "P4Qgt_-F7n5x",
        "colab_type": "text"
      },
      "source": [
        "Calculations are performed using _operators_. Some of the basic numeric operators for each type are listed below.\n",
        "\n",
        "1. The familiar (numeric) arithmetic operators: `+`, `-`, `*`, `/`. \n",
        "2. The exponentiation operator is `**`.\n",
        "\n",
        "Additional operators are introduced for non-numeric types."
      ]
    },
    {
      "cell_type": "code",
      "metadata": {
        "id": "JlnAuC-q7n5y",
        "colab_type": "code",
        "colab": {}
      },
      "source": [
        "2**3"
      ],
      "execution_count": 0,
      "outputs": []
    },
    {
      "cell_type": "markdown",
      "metadata": {
        "id": "P_Bd1sde7n5z",
        "colab_type": "text"
      },
      "source": [
        "2 raised to the power of 3"
      ]
    },
    {
      "cell_type": "code",
      "metadata": {
        "id": "VUsVxaik7n50",
        "colab_type": "code",
        "colab": {}
      },
      "source": [
        "2+2"
      ],
      "execution_count": 0,
      "outputs": []
    },
    {
      "cell_type": "code",
      "metadata": {
        "id": "mMZy6yAD7n52",
        "colab_type": "code",
        "colab": {}
      },
      "source": [
        "3.0 - 1"
      ],
      "execution_count": 0,
      "outputs": []
    },
    {
      "cell_type": "code",
      "metadata": {
        "id": "M3vLhzCz7n55",
        "colab_type": "code",
        "colab": {}
      },
      "source": [
        "3*3"
      ],
      "execution_count": 0,
      "outputs": []
    },
    {
      "cell_type": "code",
      "metadata": {
        "id": "NKRGBhen7n59",
        "colab_type": "code",
        "colab": {}
      },
      "source": [
        "3.0*3"
      ],
      "execution_count": 0,
      "outputs": []
    },
    {
      "cell_type": "code",
      "metadata": {
        "id": "vMqEgVM87n5_",
        "colab_type": "code",
        "colab": {}
      },
      "source": [
        "3.0/2.0"
      ],
      "execution_count": 0,
      "outputs": []
    },
    {
      "cell_type": "code",
      "metadata": {
        "id": "o6DnYATl7n6B",
        "colab_type": "code",
        "colab": {}
      },
      "source": [
        "3/2"
      ],
      "execution_count": 0,
      "outputs": []
    },
    {
      "cell_type": "markdown",
      "metadata": {
        "id": "zB4I6_vl7n6C",
        "colab_type": "text"
      },
      "source": [
        "__Exercise__: What type is the result of arithmetic on:\n",
        "- An `int` and a `float`?\n",
        "- A `boolean` and an `int`?\n",
        "- A `boolean` and a `float`?"
      ]
    },
    {
      "cell_type": "markdown",
      "metadata": {
        "id": "YMJXnw5F7n6D",
        "colab_type": "text"
      },
      "source": [
        "### String"
      ]
    },
    {
      "cell_type": "markdown",
      "metadata": {
        "id": "IYNuyAY57n6E",
        "colab_type": "text"
      },
      "source": [
        "The two basic string operators are `+` and `*`."
      ]
    },
    {
      "cell_type": "code",
      "metadata": {
        "id": "xdxd77XO7n6E",
        "colab_type": "code",
        "colab": {}
      },
      "source": [
        "\"hello\" + \"goodbye\""
      ],
      "execution_count": 0,
      "outputs": []
    },
    {
      "cell_type": "code",
      "metadata": {
        "id": "YOWpW54p7n6G",
        "colab_type": "code",
        "colab": {}
      },
      "source": [
        "3 * \"12\""
      ],
      "execution_count": 0,
      "outputs": []
    },
    {
      "cell_type": "markdown",
      "metadata": {
        "id": "PiOlHlna7n6I",
        "colab_type": "text"
      },
      "source": [
        "### Logical"
      ]
    },
    {
      "cell_type": "markdown",
      "metadata": {
        "id": "bSnVDx7j7n6I",
        "colab_type": "text"
      },
      "source": [
        "There are three essential boolean/logical operations: `not`, `and`, `or`."
      ]
    },
    {
      "cell_type": "code",
      "metadata": {
        "id": "O17wpE4Q7n6I",
        "colab_type": "code",
        "colab": {}
      },
      "source": [
        "not True"
      ],
      "execution_count": 0,
      "outputs": []
    },
    {
      "cell_type": "code",
      "metadata": {
        "id": "AUxRl7wT7n6K",
        "colab_type": "code",
        "colab": {}
      },
      "source": [
        "True and False"
      ],
      "execution_count": 0,
      "outputs": []
    },
    {
      "cell_type": "code",
      "metadata": {
        "id": "t1-hQ1B_7n6N",
        "colab_type": "code",
        "colab": {}
      },
      "source": [
        "True & False"
      ],
      "execution_count": 0,
      "outputs": []
    },
    {
      "cell_type": "code",
      "metadata": {
        "id": "Yn8fvG-e7n6O",
        "colab_type": "code",
        "colab": {}
      },
      "source": [
        "True or False"
      ],
      "execution_count": 0,
      "outputs": []
    },
    {
      "cell_type": "code",
      "metadata": {
        "id": "hQ-KLPJ17n6Q",
        "colab_type": "code",
        "colab": {}
      },
      "source": [
        "True | False"
      ],
      "execution_count": 0,
      "outputs": []
    },
    {
      "cell_type": "markdown",
      "metadata": {
        "id": "p2B1dhFX7n6T",
        "colab_type": "text"
      },
      "source": [
        "## `in` operator (string, list)"
      ]
    },
    {
      "cell_type": "markdown",
      "metadata": {
        "id": "REi3h_nE7n6T",
        "colab_type": "text"
      },
      "source": [
        "The `in` operator tests for inclusion of the left argument in the right side argument."
      ]
    },
    {
      "cell_type": "code",
      "metadata": {
        "id": "6hDYfz6q7n6U",
        "colab_type": "code",
        "colab": {}
      },
      "source": [
        "\"bc\" in \"abcde\""
      ],
      "execution_count": 0,
      "outputs": []
    },
    {
      "cell_type": "code",
      "metadata": {
        "id": "bbSUwA2E7n6V",
        "colab_type": "code",
        "colab": {}
      },
      "source": [
        "2 in [1,2,3,4]"
      ],
      "execution_count": 0,
      "outputs": []
    },
    {
      "cell_type": "code",
      "metadata": {
        "id": "YcdHRAFp7n6Y",
        "colab_type": "code",
        "colab": {}
      },
      "source": [
        "3.0  in (1.0, 2.0, 3.0, 4.0)"
      ],
      "execution_count": 0,
      "outputs": []
    },
    {
      "cell_type": "code",
      "metadata": {
        "id": "G2aqqeWl7n6a",
        "colab_type": "code",
        "colab": {}
      },
      "source": [
        "3.0 in [1,2,3,4]"
      ],
      "execution_count": 0,
      "outputs": []
    },
    {
      "cell_type": "markdown",
      "metadata": {
        "id": "LIoojrqy7n6d",
        "colab_type": "text"
      },
      "source": [
        "## Variables"
      ]
    },
    {
      "cell_type": "markdown",
      "metadata": {
        "id": "gUhhfbVs7n6d",
        "colab_type": "text"
      },
      "source": [
        "Any value can be stored in and retrieved from a variable."
      ]
    },
    {
      "cell_type": "code",
      "metadata": {
        "id": "CeisuZ0k7n6d",
        "colab_type": "code",
        "colab": {}
      },
      "source": [
        "y = 3*3.987687687"
      ],
      "execution_count": 0,
      "outputs": []
    },
    {
      "cell_type": "code",
      "metadata": {
        "id": "kTKBAoRs7n6f",
        "colab_type": "code",
        "colab": {}
      },
      "source": [
        "y"
      ],
      "execution_count": 0,
      "outputs": []
    },
    {
      "cell_type": "code",
      "metadata": {
        "id": "YdEmd2ZX7n6g",
        "colab_type": "code",
        "colab": {}
      },
      "source": [
        "y * y"
      ],
      "execution_count": 0,
      "outputs": []
    },
    {
      "cell_type": "markdown",
      "metadata": {
        "id": "nfbvoedf7n6i",
        "colab_type": "text"
      },
      "source": [
        "__The End__"
      ]
    }
  ]
}