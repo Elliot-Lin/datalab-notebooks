{
  "nbformat": 4,
  "nbformat_minor": 0,
  "metadata": {
    "colab": {
      "name": "4.2 Classes.ipynb",
      "version": "0.3.2",
      "provenance": []
    },
    "kernelspec": {
      "name": "python3",
      "display_name": "Python 3"
    }
  },
  "cells": [
    {
      "cell_type": "markdown",
      "metadata": {
        "id": "YC6Izqdnnm2x",
        "colab_type": "text"
      },
      "source": [
        "# Python Classes"
      ]
    },
    {
      "cell_type": "markdown",
      "metadata": {
        "id": "Je4VnTcvnm21",
        "colab_type": "text"
      },
      "source": [
        "## Contents\n",
        "1. Defining classes\n",
        "1. Creating objects\n",
        "1. Example: class `Temperature`"
      ]
    },
    {
      "cell_type": "markdown",
      "metadata": {
        "id": "X1PTrhW8nm22",
        "colab_type": "text"
      },
      "source": [
        "Check that we are running Python 3."
      ]
    },
    {
      "cell_type": "code",
      "metadata": {
        "id": "EoBhGwpenm23",
        "colab_type": "code",
        "outputId": "8bac9d44-94d7-45d7-a8c7-88a493708c2c",
        "colab": {
          "base_uri": "https://localhost:8080/",
          "height": 35
        }
      },
      "source": [
        "import sys\n",
        "sys.version"
      ],
      "execution_count": 27,
      "outputs": [
        {
          "output_type": "execute_result",
          "data": {
            "text/plain": [
              "'3.6.8 (default, Jan 14 2019, 11:02:34) \\n[GCC 8.0.1 20180414 (experimental) [trunk revision 259383]]'"
            ]
          },
          "metadata": {
            "tags": []
          },
          "execution_count": 27
        }
      ]
    },
    {
      "cell_type": "markdown",
      "metadata": {
        "id": "dAYONer-nm28",
        "colab_type": "text"
      },
      "source": [
        "## 1. Defining classes"
      ]
    },
    {
      "cell_type": "markdown",
      "metadata": {
        "id": "EXSjxhmvnm29",
        "colab_type": "text"
      },
      "source": [
        "Classes are templates for creating objects. These objects (also called instances) have _attributes_ and _methods_:\n",
        "- Attributes are variables that are defined in the class\n",
        "- Methods are functions that are defined in the class\n",
        "\n",
        "See the `Objects` notebook for more on attributes and methods.\n",
        "\n",
        "Every class/object has a special method (a \"constructor\") which is called when the object is created. When you define a class this method is named `__init__`. It is used to set the _initial_ values of the object's attributes and provides the parameters of the classes _constructor_."
      ]
    },
    {
      "cell_type": "markdown",
      "metadata": {
        "id": "0dAft4Ldnm2-",
        "colab_type": "text"
      },
      "source": [
        "The example below creates a simple class with:\n",
        "- a constructor that takes a single argument `name`\n",
        "- a single attribute, also called `name`, but referred to as `self.name`\n",
        "- a method, called `greet_dog`, which returns a string and increments a counter"
      ]
    },
    {
      "cell_type": "code",
      "metadata": {
        "id": "wDeCSx8Snm2_",
        "colab_type": "code",
        "colab": {}
      },
      "source": [
        "class Dog:\n",
        "  \n",
        "  def __init__(self, name='Fido'):\n",
        "    self.name  = name  \n",
        "    self.count = 0 \n",
        "    \n",
        "  def greet_dog(self, salutation='Hi'):\n",
        "    self.count = self.count + 1\n",
        "    return f'{salutation}, {self.name}'"
      ],
      "execution_count": 0,
      "outputs": []
    },
    {
      "cell_type": "markdown",
      "metadata": {
        "id": "gMOCGRIynm3B",
        "colab_type": "text"
      },
      "source": [
        "## 2. Creating objects"
      ]
    },
    {
      "cell_type": "markdown",
      "metadata": {
        "id": "ZJ6YU6Yznm3C",
        "colab_type": "text"
      },
      "source": [
        "The class name is used to create an object (of class `Dog`) and run the `__init__` function. \n",
        "\n",
        "The `name` parameter is set to `'Fido'` when the `Dog` object is created below. \n",
        "This object is stored in variable `f`.\n",
        "\n",
        "Notice the value of the `name` attribute."
      ]
    },
    {
      "cell_type": "code",
      "metadata": {
        "id": "NWrwx7vVnm3D",
        "colab_type": "code",
        "outputId": "53c5f1b6-ca8e-420c-d714-dbe8d2f2c2d9",
        "colab": {
          "base_uri": "https://localhost:8080/",
          "height": 35
        }
      },
      "source": [
        "b = Dog('Rose')\n",
        "b, b.name, b.count"
      ],
      "execution_count": 29,
      "outputs": [
        {
          "output_type": "execute_result",
          "data": {
            "text/plain": [
              "(<__main__.Dog at 0x7f879ed87c50>, 'Rose', 0)"
            ]
          },
          "metadata": {
            "tags": []
          },
          "execution_count": 29
        }
      ]
    },
    {
      "cell_type": "code",
      "metadata": {
        "id": "no5XysYjnm3G",
        "colab_type": "code",
        "outputId": "f802c7dd-893d-4e2c-b6ee-5160a3c2e58f",
        "colab": {
          "base_uri": "https://localhost:8080/",
          "height": 35
        }
      },
      "source": [
        "a = Dog('Lily')\n",
        "a, a.name, a.count"
      ],
      "execution_count": 30,
      "outputs": [
        {
          "output_type": "execute_result",
          "data": {
            "text/plain": [
              "(<__main__.Dog at 0x7f879ed946d8>, 'Lily', 0)"
            ]
          },
          "metadata": {
            "tags": []
          },
          "execution_count": 30
        }
      ]
    },
    {
      "cell_type": "code",
      "metadata": {
        "id": "33PXujiqnm3J",
        "colab_type": "code",
        "outputId": "49d78101-fbab-439c-d978-aefaf8a20f98",
        "colab": {
          "base_uri": "https://localhost:8080/",
          "height": 35
        }
      },
      "source": [
        "a.greet_dog(\"G'day\")"
      ],
      "execution_count": 31,
      "outputs": [
        {
          "output_type": "execute_result",
          "data": {
            "text/plain": [
              "\"G'day, Lily\""
            ]
          },
          "metadata": {
            "tags": []
          },
          "execution_count": 31
        }
      ]
    },
    {
      "cell_type": "code",
      "metadata": {
        "id": "hzEpmIpfnm3L",
        "colab_type": "code",
        "outputId": "c152f455-6d81-4beb-bd88-313ebbfc852b",
        "colab": {
          "base_uri": "https://localhost:8080/",
          "height": 35
        }
      },
      "source": [
        "a.greet_dog(\"Hello\")"
      ],
      "execution_count": 32,
      "outputs": [
        {
          "output_type": "execute_result",
          "data": {
            "text/plain": [
              "'Hello, Lily'"
            ]
          },
          "metadata": {
            "tags": []
          },
          "execution_count": 32
        }
      ]
    },
    {
      "cell_type": "code",
      "metadata": {
        "id": "hOHcDCRVnm3O",
        "colab_type": "code",
        "outputId": "2c14130f-5ea2-493d-f177-248fcd6cb969",
        "colab": {
          "base_uri": "https://localhost:8080/",
          "height": 35
        }
      },
      "source": [
        "a.count"
      ],
      "execution_count": 33,
      "outputs": [
        {
          "output_type": "execute_result",
          "data": {
            "text/plain": [
              "2"
            ]
          },
          "metadata": {
            "tags": []
          },
          "execution_count": 33
        }
      ]
    },
    {
      "cell_type": "markdown",
      "metadata": {
        "id": "NI9M0afOnm3R",
        "colab_type": "text"
      },
      "source": [
        "## 3. Example: class `Temperature`"
      ]
    },
    {
      "cell_type": "markdown",
      "metadata": {
        "id": "_l2Bzit0nm3T",
        "colab_type": "text"
      },
      "source": [
        "The `Temperature` class has an `__init__` method that has two parameters. \n",
        "The second has a default value and so is optional. It is a considered \"best practice\" to supply default values for all parameters of the init method.\n",
        "\n",
        "The `set_temp` method sets the `temp` attribute of the object and returns the object itself. \n",
        "\n",
        "The `get_temp` and `get_units` methods return values."
      ]
    },
    {
      "cell_type": "code",
      "metadata": {
        "id": "CpkksOXSnm3U",
        "colab_type": "code",
        "colab": {}
      },
      "source": [
        "class Temperature:\n",
        "\n",
        "    def __init__(self, temp, units='Celsius'):\n",
        "        self.temp  = temp\n",
        "        self.units = units\n",
        "        \n",
        "    def set_temp(self,temp):\n",
        "        self.temp = temp\n",
        "        return self\n",
        "      \n",
        "    def get_temp(self):\n",
        "        return self.temp\n",
        "      \n",
        "    def get_units(self):\n",
        "        return self.units"
      ],
      "execution_count": 0,
      "outputs": []
    },
    {
      "cell_type": "code",
      "metadata": {
        "id": "aD4M9-jznm3X",
        "colab_type": "code",
        "outputId": "ae6059f5-f1de-4c52-8054-e2378fac3238",
        "colab": {
          "base_uri": "https://localhost:8080/",
          "height": 35
        }
      },
      "source": [
        "t1 = Temperature(36.0)\n",
        "t1"
      ],
      "execution_count": 35,
      "outputs": [
        {
          "output_type": "execute_result",
          "data": {
            "text/plain": [
              "<__main__.Temperature at 0x7f879f6a5dd8>"
            ]
          },
          "metadata": {
            "tags": []
          },
          "execution_count": 35
        }
      ]
    },
    {
      "cell_type": "code",
      "metadata": {
        "id": "6few3y3knm3a",
        "colab_type": "code",
        "outputId": "fba53966-5b05-4bf8-d62f-97dc4d71eccf",
        "colab": {
          "base_uri": "https://localhost:8080/",
          "height": 35
        }
      },
      "source": [
        "t1.get_temp(), t1.get_units()"
      ],
      "execution_count": 36,
      "outputs": [
        {
          "output_type": "execute_result",
          "data": {
            "text/plain": [
              "(36.0, 'Celsius')"
            ]
          },
          "metadata": {
            "tags": []
          },
          "execution_count": 36
        }
      ]
    },
    {
      "cell_type": "markdown",
      "metadata": {
        "id": "TP5xy8panm3c",
        "colab_type": "text"
      },
      "source": [
        "Create another instance `t2` of the `Temperature` class."
      ]
    },
    {
      "cell_type": "code",
      "metadata": {
        "id": "8w3If2uUnm3d",
        "colab_type": "code",
        "outputId": "a914abb6-5c7e-44f8-bbf9-6076714e7b5f",
        "colab": {
          "base_uri": "https://localhost:8080/",
          "height": 35
        }
      },
      "source": [
        "t2 = Temperature(60)\n",
        "t2.get_temp(), t2.get_units(), t2"
      ],
      "execution_count": 37,
      "outputs": [
        {
          "output_type": "execute_result",
          "data": {
            "text/plain": [
              "(60, 'Celsius', <__main__.Temperature at 0x7f879eda5240>)"
            ]
          },
          "metadata": {
            "tags": []
          },
          "execution_count": 37
        }
      ]
    },
    {
      "cell_type": "markdown",
      "metadata": {
        "id": "JnDx9lwNnm3f",
        "colab_type": "text"
      },
      "source": [
        "Notice that the temperature is different in the different objects (`t1` and `t2`)."
      ]
    },
    {
      "cell_type": "code",
      "metadata": {
        "id": "1zOWBVUCOABO",
        "colab_type": "code",
        "colab": {
          "base_uri": "https://localhost:8080/",
          "height": 35
        },
        "outputId": "3a229f64-825c-4276-eeb7-f1e3e6b8cf77"
      },
      "source": [
        "t1.temp, t2.temp"
      ],
      "execution_count": 40,
      "outputs": [
        {
          "output_type": "execute_result",
          "data": {
            "text/plain": [
              "(36.0, 60)"
            ]
          },
          "metadata": {
            "tags": []
          },
          "execution_count": 40
        }
      ]
    },
    {
      "cell_type": "markdown",
      "metadata": {
        "id": "jsxDkqd6nm3f",
        "colab_type": "text"
      },
      "source": [
        "Access the `units` attribute of the object `a` using dot notation."
      ]
    },
    {
      "cell_type": "code",
      "metadata": {
        "id": "zpbvnSYbnm3g",
        "colab_type": "code",
        "colab": {
          "base_uri": "https://localhost:8080/",
          "height": 35
        },
        "outputId": "1044c35f-5f5c-45a6-b96b-0b981d85b7ab"
      },
      "source": [
        "t2.units"
      ],
      "execution_count": 41,
      "outputs": [
        {
          "output_type": "execute_result",
          "data": {
            "text/plain": [
              "'Celsius'"
            ]
          },
          "metadata": {
            "tags": []
          },
          "execution_count": 41
        }
      ]
    },
    {
      "cell_type": "markdown",
      "metadata": {
        "id": "8oPcmt3Dnm3p",
        "colab_type": "text"
      },
      "source": [
        "The `set_temp` method sets the `temp` attribute of the object and returns the object itself."
      ]
    },
    {
      "cell_type": "code",
      "metadata": {
        "id": "hmJeCGeInm3q",
        "colab_type": "code",
        "outputId": "26d0a8d7-8b83-41b4-858b-9ad81ff535b5",
        "colab": {
          "base_uri": "https://localhost:8080/",
          "height": 35
        }
      },
      "source": [
        "t2.set_temp(40), t2.get_temp()"
      ],
      "execution_count": 42,
      "outputs": [
        {
          "output_type": "execute_result",
          "data": {
            "text/plain": [
              "(<__main__.Temperature at 0x7f879eda5240>, 40)"
            ]
          },
          "metadata": {
            "tags": []
          },
          "execution_count": 42
        }
      ]
    },
    {
      "cell_type": "code",
      "metadata": {
        "id": "Wv8YZkyNnm3t",
        "colab_type": "code",
        "outputId": "c3be9450-b76d-44b4-c589-1dd3a042fca3",
        "colab": {
          "base_uri": "https://localhost:8080/",
          "height": 35
        }
      },
      "source": [
        "t2.set_temp(50).get_temp()"
      ],
      "execution_count": 43,
      "outputs": [
        {
          "output_type": "execute_result",
          "data": {
            "text/plain": [
              "50"
            ]
          },
          "metadata": {
            "tags": []
          },
          "execution_count": 43
        }
      ]
    },
    {
      "cell_type": "markdown",
      "metadata": {
        "id": "JTJA1sE9nm3v",
        "colab_type": "text"
      },
      "source": [
        "## 4. Exercises "
      ]
    },
    {
      "cell_type": "markdown",
      "metadata": {
        "id": "AzyIppvWnm3w",
        "colab_type": "text"
      },
      "source": [
        "__Exercise:__ Modify the `MultipleItems` class below to add:\n",
        "- a method `get_cost` which returns the value of the `cost` attribute\n",
        "- a method `set_number` with one parameter `number` which changes the `number` attribute and returns `self`\n",
        "- a method `get_total_cost` which returns the product of the `cost` and `number` attributes"
      ]
    },
    {
      "cell_type": "code",
      "metadata": {
        "id": "asE0ySCRnm3w",
        "colab_type": "code",
        "colab": {}
      },
      "source": [
        "class MultipleItems:\n",
        "  \n",
        "  def __init__(self, name='default', cost=1.00, number=1):\n",
        "    self.name   = name    # name of item\n",
        "    self.number = number  # number of items\n",
        "    self.cost   = cost    # cost per item\n",
        "  \n",
        "  def set_cost(self, cost):\n",
        "    self.cost = cost\n",
        "    return self\n",
        "  \n",
        "  def get_number(self):\n",
        "    return self.number"
      ],
      "execution_count": 0,
      "outputs": []
    },
    {
      "cell_type": "markdown",
      "metadata": {
        "id": "HKnPmkWonm30",
        "colab_type": "text"
      },
      "source": [
        "__Exercise:__ Check your modifications to the above class by running these commands (in this order):\n",
        "1. `x = MultipleItems(name='sandwich')`\n",
        "1. `x.set_number(10)`\n",
        "1. `x.set_cost(9.95)`\n",
        "1. `x.name, x.get_cost(), x.get_number(), x.get_total_cost()`"
      ]
    },
    {
      "cell_type": "markdown",
      "metadata": {
        "id": "IYBISMmXnm32",
        "colab_type": "text"
      },
      "source": [
        "__Exercise:__ Define a class called `Lunch`:\n",
        "\n",
        "Its `__init__()` method should have two arguments: `self` and `menu`. The init method sets the attribute `menu` which is a string. \n",
        "\n",
        "Add a method called `menu_price`. It will involve an `if-elif-else` statement:\n",
        "\n",
        "- if the attribute `menu` is \"menu 1\", print `Your choice: menu 1 Price 12.00`.\n",
        "- if the attribute `menu` is \"menu 2\", print `Your choice: menu 2 Price 13.40`. \n",
        "- else print `\"Error in menu\"`.\n",
        "\n",
        "To check if it works: define `Paul=Lunch(\"menu 1\")` and call `Paul.menu_price()`."
      ]
    },
    {
      "cell_type": "code",
      "metadata": {
        "id": "K73z7fzenm34",
        "colab_type": "code",
        "colab": {}
      },
      "source": [
        "class Lunch:\n",
        "  \n",
        "  def __init__(self, menu):\n",
        "    self.menu = menu\n",
        "  \n",
        "  def menu_price(self):\n",
        "    if self.menu == 'menu 1':\n",
        "      print('Your choice: menu 1 Price 12.00')\n",
        "    elif self.menu == 'menu 2':\n",
        "      print('Your choice: menu 2 Price 13.40')\n",
        "    else:\n",
        "      print('Error in menu')\n",
        "    return self"
      ],
      "execution_count": 0,
      "outputs": []
    },
    {
      "cell_type": "code",
      "metadata": {
        "id": "MSjL-Jxunm39",
        "colab_type": "code",
        "colab": {}
      },
      "source": [
        "Paul = Lunch('menu 1')"
      ],
      "execution_count": 0,
      "outputs": []
    },
    {
      "cell_type": "code",
      "metadata": {
        "id": "hYbqr017nm4A",
        "colab_type": "code",
        "colab": {}
      },
      "source": [
        "Paul.menu_price()"
      ],
      "execution_count": 0,
      "outputs": []
    },
    {
      "cell_type": "code",
      "metadata": {
        "id": "tF_HKzeenm4C",
        "colab_type": "code",
        "colab": {}
      },
      "source": [
        "class Lunch(object):\n",
        "    def __init__(self,menu):\n",
        "      self.menu=str(menu)\n",
        "      \n",
        "    def menu_price(self):\n",
        "       if self.menu==\"menu 1\":\n",
        "          print (\"Your choice:\", self.menu, \"Price 12.00\")\n",
        "      \n",
        "       elif self.menu==\"menu 2\":\n",
        "          print (\"Your choice:\", self.menu, \"Price 13.40\")\n",
        "    \n",
        "       else:\n",
        "          print (\"Error in menu\")\n",
        "\n",
        "Paul=Lunch(\"menu 1\")\n",
        "Paul.menu_price()"
      ],
      "execution_count": 0,
      "outputs": []
    },
    {
      "cell_type": "markdown",
      "metadata": {
        "id": "NAiB_MHunm4E",
        "colab_type": "text"
      },
      "source": [
        "Tutorials on classes:\n",
        "- https://www.learnpython.org/en/Classes_and_Objects\n",
        "- http://thepythonguru.com/python-object-and-classes/\n",
        "- https://docs.python.org/3/tutorial/classes.html"
      ]
    },
    {
      "cell_type": "markdown",
      "metadata": {
        "id": "UcHG2HnCnm4G",
        "colab_type": "text"
      },
      "source": [
        "__The End__"
      ]
    }
  ]
}