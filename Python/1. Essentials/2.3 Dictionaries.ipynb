{
  "nbformat": 4,
  "nbformat_minor": 0,
  "metadata": {
    "name": "2.3 Dictionaries",
    "notebookId": 90420,
    "colab": {
      "name": "2.3 Dictionaries.ipynb",
      "version": "0.3.2",
      "provenance": []
    },
    "kernelspec": {
      "name": "python3",
      "display_name": "Python 3"
    }
  },
  "cells": [
    {
      "cell_type": "markdown",
      "metadata": {
        "id": "CNR9e-gL8kaf",
        "colab_type": "text"
      },
      "source": [
        "# Python Dictionaries"
      ]
    },
    {
      "cell_type": "markdown",
      "metadata": {
        "id": "pevoNnch8kah",
        "colab_type": "text"
      },
      "source": [
        "## Table of Contents\n",
        "\n",
        "1. Creating Dictionaries\n",
        "1. Accessing Dictionaries\n",
        "1. Manipulating Dictionaries\n",
        "1. Operations on Dictionaries"
      ]
    },
    {
      "cell_type": "markdown",
      "metadata": {
        "id": "48XIxh6F8kai",
        "colab_type": "text"
      },
      "source": [
        "## Creating Dictionaries"
      ]
    },
    {
      "cell_type": "markdown",
      "metadata": {
        "id": "jjmfhIry8kaj",
        "colab_type": "text"
      },
      "source": [
        "Dictionaries are collections of _key_-_value_ pairs separated by commas and enclosed in braces. \n",
        "\n",
        "Below the keys are the country names and the values are the city names."
      ]
    },
    {
      "cell_type": "code",
      "metadata": {
        "id": "vkY8j8Ls8kaj",
        "colab_type": "code",
        "colab": {}
      },
      "source": [
        "europe_cities = {'spain'  :['madrid', 'barcelona', 'seville', 'valencia'], \n",
        "                 'france' :['paris', 'marseille', 'bordeaux'], \n",
        "                 'germany':['berlin', 'munich'], \n",
        "                 'norway' :['oslo'] }"
      ],
      "execution_count": 0,
      "outputs": []
    },
    {
      "cell_type": "code",
      "metadata": {
        "id": "eg4itnau8kan",
        "colab_type": "code",
        "colab": {}
      },
      "source": [
        "europe_cap_pop = {'spain'  : { 'capital':'madrid' , 'population':46.77 },\n",
        "                  'france' : { 'capital':'paris'  , 'population':66.03 },\n",
        "                  'germany': { 'capital':'berlin' , 'population':80.62 },\n",
        "                  'norway' : { 'capital':'oslo'   , 'population': 5.84 } }"
      ],
      "execution_count": 0,
      "outputs": []
    },
    {
      "cell_type": "markdown",
      "metadata": {
        "id": "OHK51pdh8kaq",
        "colab_type": "text"
      },
      "source": [
        "## Accessing Dictionaries"
      ]
    },
    {
      "cell_type": "code",
      "metadata": {
        "id": "EGSkbpb98kaq",
        "colab_type": "code",
        "colab": {
          "base_uri": "https://localhost:8080/",
          "height": 35
        },
        "outputId": "4df949a9-b2a4-4aa0-c4c1-bebe8e889e45"
      },
      "source": [
        "europe_cities['germany']"
      ],
      "execution_count": 3,
      "outputs": [
        {
          "output_type": "execute_result",
          "data": {
            "text/plain": [
              "['berlin', 'munich']"
            ]
          },
          "metadata": {
            "tags": []
          },
          "execution_count": 3
        }
      ]
    },
    {
      "cell_type": "code",
      "metadata": {
        "id": "2YC7OyWU8kas",
        "colab_type": "code",
        "colab": {
          "base_uri": "https://localhost:8080/",
          "height": 35
        },
        "outputId": "cabde226-3d39-4342-c3fb-2e488bfe9c11"
      },
      "source": [
        "europe_cap_pop['germany']"
      ],
      "execution_count": 4,
      "outputs": [
        {
          "output_type": "execute_result",
          "data": {
            "text/plain": [
              "{'capital': 'berlin', 'population': 80.62}"
            ]
          },
          "metadata": {
            "tags": []
          },
          "execution_count": 4
        }
      ]
    },
    {
      "cell_type": "code",
      "metadata": {
        "id": "wX7q88So8kau",
        "colab_type": "code",
        "colab": {
          "base_uri": "https://localhost:8080/",
          "height": 35
        },
        "outputId": "c353f877-36dd-4c95-a106-b9b8bdac7064"
      },
      "source": [
        "europe_cap_pop['germany']['capital']"
      ],
      "execution_count": 5,
      "outputs": [
        {
          "output_type": "execute_result",
          "data": {
            "text/plain": [
              "'berlin'"
            ]
          },
          "metadata": {
            "tags": []
          },
          "execution_count": 5
        }
      ]
    },
    {
      "cell_type": "markdown",
      "metadata": {
        "id": "OElp0uYE8kax",
        "colab_type": "text"
      },
      "source": [
        "__Exercise__: Using the dictionaries created above:\n",
        "- Retrieve the second city listed for Spain in `europe_cities`.\n",
        "- Retrieve the last city listed in `europe_cities` for France. Use the `-1` index.\n",
        "- Retrieve the capital of Norway from `europe_cap_pop`."
      ]
    },
    {
      "cell_type": "markdown",
      "metadata": {
        "id": "_cniViQz8kax",
        "colab_type": "text"
      },
      "source": [
        "## Manipulating Dictionaries"
      ]
    },
    {
      "cell_type": "code",
      "metadata": {
        "id": "PWQWYLli8kay",
        "colab_type": "code",
        "colab": {}
      },
      "source": [
        "europe_cities = {'spain'  :['madrid', 'barcelona', 'seville', 'valencia'], \n",
        "                 'france' :['paris', 'marseille', 'bordeaux'], \n",
        "                 'germany':['berlin', 'munich'], \n",
        "                 'norway' :['oslo'] }"
      ],
      "execution_count": 0,
      "outputs": []
    },
    {
      "cell_type": "markdown",
      "metadata": {
        "id": "wAbOdAA-8ka0",
        "colab_type": "text"
      },
      "source": [
        "Add a new key-value pair to a dictionary."
      ]
    },
    {
      "cell_type": "code",
      "metadata": {
        "id": "1GFGsvO48ka0",
        "colab_type": "code",
        "colab": {
          "base_uri": "https://localhost:8080/",
          "height": 104
        },
        "outputId": "a0a6adda-1805-4c6f-df7a-8bb205330270"
      },
      "source": [
        "europe_cities['italy'] = ['genoa']\n",
        "europe_cities"
      ],
      "execution_count": 7,
      "outputs": [
        {
          "output_type": "execute_result",
          "data": {
            "text/plain": [
              "{'france': ['paris', 'marseille', 'bordeaux'],\n",
              " 'germany': ['berlin', 'munich'],\n",
              " 'italy': ['genoa'],\n",
              " 'norway': ['oslo'],\n",
              " 'spain': ['madrid', 'barcelona', 'seville', 'valencia']}"
            ]
          },
          "metadata": {
            "tags": []
          },
          "execution_count": 7
        }
      ]
    },
    {
      "cell_type": "markdown",
      "metadata": {
        "id": "_bFe-Tv78ka3",
        "colab_type": "text"
      },
      "source": [
        "Append a string to the list stored as a value of a key."
      ]
    },
    {
      "cell_type": "code",
      "metadata": {
        "id": "rvqpZeK58ka4",
        "colab_type": "code",
        "colab": {
          "base_uri": "https://localhost:8080/",
          "height": 104
        },
        "outputId": "c5e512fe-4e42-4f9c-c5ed-b8b870dc9d47"
      },
      "source": [
        "europe_cities['norway'].append('bergen')\n",
        "europe_cities"
      ],
      "execution_count": 8,
      "outputs": [
        {
          "output_type": "execute_result",
          "data": {
            "text/plain": [
              "{'france': ['paris', 'marseille', 'bordeaux'],\n",
              " 'germany': ['berlin', 'munich'],\n",
              " 'italy': ['genoa'],\n",
              " 'norway': ['oslo', 'bergen'],\n",
              " 'spain': ['madrid', 'barcelona', 'seville', 'valencia']}"
            ]
          },
          "metadata": {
            "tags": []
          },
          "execution_count": 8
        }
      ]
    },
    {
      "cell_type": "markdown",
      "metadata": {
        "id": "Ejh2-N1f8ka6",
        "colab_type": "text"
      },
      "source": [
        "## Methods of Dictionaries"
      ]
    },
    {
      "cell_type": "markdown",
      "metadata": {
        "id": "R4GTp5Mo8ka8",
        "colab_type": "text"
      },
      "source": [
        "There are three basic methods used with dictionaries:\n",
        "1. `keys` which returns the keys of all key-value pairs\n",
        "1. `values` which returns the values of all key-value pairs\n",
        "1. `items` which returns the all key-value pairs as tuples\n",
        "1. `get` which when passed a key return the corresponding value"
      ]
    },
    {
      "cell_type": "markdown",
      "metadata": {
        "id": "_1UIBcOf8ka8",
        "colab_type": "text"
      },
      "source": [
        "The `keys()` method returns a list  containing the key names of the input dictionary."
      ]
    },
    {
      "cell_type": "code",
      "metadata": {
        "id": "0cCSuqU98ka9",
        "colab_type": "code",
        "colab": {
          "base_uri": "https://localhost:8080/",
          "height": 35
        },
        "outputId": "8c72559f-5cae-45ea-e32d-23837a08b322"
      },
      "source": [
        "{'a':1, 'b':2}.keys()"
      ],
      "execution_count": 9,
      "outputs": [
        {
          "output_type": "execute_result",
          "data": {
            "text/plain": [
              "dict_keys(['a', 'b'])"
            ]
          },
          "metadata": {
            "tags": []
          },
          "execution_count": 9
        }
      ]
    },
    {
      "cell_type": "code",
      "metadata": {
        "id": "qm5WvxPk8ka_",
        "colab_type": "code",
        "colab": {
          "base_uri": "https://localhost:8080/",
          "height": 35
        },
        "outputId": "4aa42030-85bb-4f73-d75a-498298645281"
      },
      "source": [
        "europe_cities.keys()"
      ],
      "execution_count": 10,
      "outputs": [
        {
          "output_type": "execute_result",
          "data": {
            "text/plain": [
              "dict_keys(['spain', 'france', 'germany', 'norway', 'italy'])"
            ]
          },
          "metadata": {
            "tags": []
          },
          "execution_count": 10
        }
      ]
    },
    {
      "cell_type": "code",
      "metadata": {
        "id": "YHX6mIKM9Y7T",
        "colab_type": "code",
        "colab": {
          "base_uri": "https://localhost:8080/",
          "height": 35
        },
        "outputId": "0fb58cfc-cfd7-40ef-e03d-08b2548ac03a"
      },
      "source": [
        "{'a':1, 'b':2}.values()"
      ],
      "execution_count": 17,
      "outputs": [
        {
          "output_type": "execute_result",
          "data": {
            "text/plain": [
              "dict_values([1, 2])"
            ]
          },
          "metadata": {
            "tags": []
          },
          "execution_count": 17
        }
      ]
    },
    {
      "cell_type": "code",
      "metadata": {
        "id": "iEM0Ttyu9fM_",
        "colab_type": "code",
        "colab": {
          "base_uri": "https://localhost:8080/",
          "height": 55
        },
        "outputId": "8b8fc1d5-c8fe-45f3-ab87-c3e3883840da"
      },
      "source": [
        "europe_cities.values()"
      ],
      "execution_count": 18,
      "outputs": [
        {
          "output_type": "execute_result",
          "data": {
            "text/plain": [
              "dict_values([['madrid', 'barcelona', 'seville', 'valencia'], ['paris', 'marseille', 'bordeaux'], ['berlin', 'munich'], ['oslo', 'bergen'], ['genoa']])"
            ]
          },
          "metadata": {
            "tags": []
          },
          "execution_count": 18
        }
      ]
    },
    {
      "cell_type": "markdown",
      "metadata": {
        "id": "dxby4G498kbA",
        "colab_type": "text"
      },
      "source": [
        "The `items()` method returns a list of tuples where each tuple contains the key name and its value."
      ]
    },
    {
      "cell_type": "code",
      "metadata": {
        "id": "mFFSiWBB8kbB",
        "colab_type": "code",
        "colab": {
          "base_uri": "https://localhost:8080/",
          "height": 35
        },
        "outputId": "ccbc5288-dc3c-44ec-ede3-9a589b9d1d32"
      },
      "source": [
        "{'a':1, 'b':2, 'c':3}.items()"
      ],
      "execution_count": 11,
      "outputs": [
        {
          "output_type": "execute_result",
          "data": {
            "text/plain": [
              "dict_items([('a', 1), ('b', 2), ('c', 3)])"
            ]
          },
          "metadata": {
            "tags": []
          },
          "execution_count": 11
        }
      ]
    },
    {
      "cell_type": "code",
      "metadata": {
        "id": "0We_gZme8kbD",
        "colab_type": "code",
        "colab": {
          "base_uri": "https://localhost:8080/",
          "height": 55
        },
        "outputId": "0fcd3f5b-d7dd-42ab-d809-c0ac8f1291b5"
      },
      "source": [
        "europe_cities.items()"
      ],
      "execution_count": 12,
      "outputs": [
        {
          "output_type": "execute_result",
          "data": {
            "text/plain": [
              "dict_items([('spain', ['madrid', 'barcelona', 'seville', 'valencia']), ('france', ['paris', 'marseille', 'bordeaux']), ('germany', ['berlin', 'munich']), ('norway', ['oslo', 'bergen']), ('italy', ['genoa'])])"
            ]
          },
          "metadata": {
            "tags": []
          },
          "execution_count": 12
        }
      ]
    },
    {
      "cell_type": "markdown",
      "metadata": {
        "id": "ozdOvA3I8kbF",
        "colab_type": "text"
      },
      "source": [
        "These `dict_items` can be transformed into a list."
      ]
    },
    {
      "cell_type": "code",
      "metadata": {
        "id": "8pyh7N8D8kbF",
        "colab_type": "code",
        "colab": {
          "base_uri": "https://localhost:8080/",
          "height": 35
        },
        "outputId": "6ddec6e9-4e43-4a87-ad18-ba93ef227b18"
      },
      "source": [
        "list({'a':1, 'b':2}.items())"
      ],
      "execution_count": 13,
      "outputs": [
        {
          "output_type": "execute_result",
          "data": {
            "text/plain": [
              "[('a', 1), ('b', 2)]"
            ]
          },
          "metadata": {
            "tags": []
          },
          "execution_count": 13
        }
      ]
    },
    {
      "cell_type": "markdown",
      "metadata": {
        "id": "aAI58GiT8kbH",
        "colab_type": "text"
      },
      "source": [
        "The `get()` method returns the value of the key given as input (to the method.)"
      ]
    },
    {
      "cell_type": "code",
      "metadata": {
        "id": "WfOI0Geb8kbI",
        "colab_type": "code",
        "colab": {
          "base_uri": "https://localhost:8080/",
          "height": 35
        },
        "outputId": "fc08a08a-3efe-42a8-b88f-f5a7c58b6858"
      },
      "source": [
        "{'a':1, 'b':2}.get('b')"
      ],
      "execution_count": 14,
      "outputs": [
        {
          "output_type": "execute_result",
          "data": {
            "text/plain": [
              "2"
            ]
          },
          "metadata": {
            "tags": []
          },
          "execution_count": 14
        }
      ]
    },
    {
      "cell_type": "code",
      "metadata": {
        "id": "0zxuTZWm8kbJ",
        "colab_type": "code",
        "colab": {}
      },
      "source": [
        "{'a':1, 'b':2}.get('c')"
      ],
      "execution_count": 0,
      "outputs": []
    },
    {
      "cell_type": "markdown",
      "metadata": {
        "id": "khxSQou28kbM",
        "colab_type": "text"
      },
      "source": [
        "Below the `get` method attempts to retrieve the value of a key that is not present. \n",
        "\n",
        "In this case the second parameter is returned."
      ]
    },
    {
      "cell_type": "code",
      "metadata": {
        "id": "OivPOGiN8kbN",
        "colab_type": "code",
        "colab": {
          "base_uri": "https://localhost:8080/",
          "height": 35
        },
        "outputId": "81d544bc-74b5-437d-fabb-ee452ef4e355"
      },
      "source": [
        "{'a':1, 'b':2}.get('z',\"NA\")"
      ],
      "execution_count": 16,
      "outputs": [
        {
          "output_type": "execute_result",
          "data": {
            "text/plain": [
              "'NA'"
            ]
          },
          "metadata": {
            "tags": []
          },
          "execution_count": 16
        }
      ]
    },
    {
      "cell_type": "markdown",
      "metadata": {
        "id": "HzlZsWtT8kbP",
        "colab_type": "text"
      },
      "source": [
        "__The End__"
      ]
    }
  ]
}