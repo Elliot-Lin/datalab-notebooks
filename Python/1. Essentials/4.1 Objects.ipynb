{
  "nbformat": 4,
  "nbformat_minor": 0,
  "metadata": {
    "colab": {
      "name": "4.1 Objects.ipynb",
      "version": "0.3.2",
      "provenance": []
    },
    "kernelspec": {
      "name": "python3",
      "display_name": "Python 3"
    }
  },
  "cells": [
    {
      "cell_type": "markdown",
      "metadata": {
        "id": "stO7JlZNmi5-",
        "colab_type": "text"
      },
      "source": [
        "# Methods and Objects"
      ]
    },
    {
      "cell_type": "markdown",
      "metadata": {
        "id": "PVQuP0Hami6C",
        "colab_type": "text"
      },
      "source": [
        "## Table of Contents\n",
        "1. Objects\n",
        "1. String Methods\n",
        "1. List Methods"
      ]
    },
    {
      "cell_type": "markdown",
      "metadata": {
        "id": "nggDFPWYmi6D",
        "colab_type": "text"
      },
      "source": [
        "## Objects"
      ]
    },
    {
      "cell_type": "markdown",
      "metadata": {
        "id": "jqrD2FaImi6E",
        "colab_type": "text"
      },
      "source": [
        "Everything in Python is an object. Almost all objects (in Python) have:\n",
        "- Attributes, which are variables that store values in the object\n",
        "- Methods, which are functions that modify the object and/or return other values\n",
        "\n",
        "Each object has a class, which determines the attributes and methods available to objects of that class. . . "
      ]
    },
    {
      "cell_type": "markdown",
      "metadata": {
        "id": "kbtfca4Emi6F",
        "colab_type": "text"
      },
      "source": [
        "The list of available methods of an object can be retrieved with the `dir` function. \n",
        "\n",
        "The private methods (which can't be accessed) start with an underscore. (Ignore them. Don't use them.)"
      ]
    },
    {
      "cell_type": "markdown",
      "metadata": {
        "id": "d5zlW31dmi6G",
        "colab_type": "text"
      },
      "source": [
        "Here we present only string and list methods."
      ]
    },
    {
      "cell_type": "markdown",
      "metadata": {
        "id": "YojV_rRnmi6H",
        "colab_type": "text"
      },
      "source": [
        "## String methods"
      ]
    },
    {
      "cell_type": "code",
      "metadata": {
        "id": "hrCOgAz7mi6J",
        "colab_type": "code",
        "colab": {
          "base_uri": "https://localhost:8080/",
          "height": 1326
        },
        "outputId": "bf70ce09-a907-4a0e-f366-93e0d8e7bda7"
      },
      "source": [
        "dir(\"nǐ hǎo\")"
      ],
      "execution_count": 1,
      "outputs": [
        {
          "output_type": "execute_result",
          "data": {
            "text/plain": [
              "['__add__',\n",
              " '__class__',\n",
              " '__contains__',\n",
              " '__delattr__',\n",
              " '__dir__',\n",
              " '__doc__',\n",
              " '__eq__',\n",
              " '__format__',\n",
              " '__ge__',\n",
              " '__getattribute__',\n",
              " '__getitem__',\n",
              " '__getnewargs__',\n",
              " '__gt__',\n",
              " '__hash__',\n",
              " '__init__',\n",
              " '__init_subclass__',\n",
              " '__iter__',\n",
              " '__le__',\n",
              " '__len__',\n",
              " '__lt__',\n",
              " '__mod__',\n",
              " '__mul__',\n",
              " '__ne__',\n",
              " '__new__',\n",
              " '__reduce__',\n",
              " '__reduce_ex__',\n",
              " '__repr__',\n",
              " '__rmod__',\n",
              " '__rmul__',\n",
              " '__setattr__',\n",
              " '__sizeof__',\n",
              " '__str__',\n",
              " '__subclasshook__',\n",
              " 'capitalize',\n",
              " 'casefold',\n",
              " 'center',\n",
              " 'count',\n",
              " 'encode',\n",
              " 'endswith',\n",
              " 'expandtabs',\n",
              " 'find',\n",
              " 'format',\n",
              " 'format_map',\n",
              " 'index',\n",
              " 'isalnum',\n",
              " 'isalpha',\n",
              " 'isdecimal',\n",
              " 'isdigit',\n",
              " 'isidentifier',\n",
              " 'islower',\n",
              " 'isnumeric',\n",
              " 'isprintable',\n",
              " 'isspace',\n",
              " 'istitle',\n",
              " 'isupper',\n",
              " 'join',\n",
              " 'ljust',\n",
              " 'lower',\n",
              " 'lstrip',\n",
              " 'maketrans',\n",
              " 'partition',\n",
              " 'replace',\n",
              " 'rfind',\n",
              " 'rindex',\n",
              " 'rjust',\n",
              " 'rpartition',\n",
              " 'rsplit',\n",
              " 'rstrip',\n",
              " 'split',\n",
              " 'splitlines',\n",
              " 'startswith',\n",
              " 'strip',\n",
              " 'swapcase',\n",
              " 'title',\n",
              " 'translate',\n",
              " 'upper',\n",
              " 'zfill']"
            ]
          },
          "metadata": {
            "tags": []
          },
          "execution_count": 1
        }
      ]
    },
    {
      "cell_type": "markdown",
      "metadata": {
        "id": "T752yLVDmi6R",
        "colab_type": "text"
      },
      "source": [
        "__Exercise__: Choose five string methods from the above list and use them successfully on a string. \n",
        "\n",
        "For example,"
      ]
    },
    {
      "cell_type": "code",
      "metadata": {
        "id": "gVeKJOgmmi6S",
        "colab_type": "code",
        "colab": {
          "base_uri": "https://localhost:8080/",
          "height": 34
        },
        "outputId": "0f799e56-ff40-4645-d6f0-571b930d0b1e"
      },
      "source": [
        "\"mississippi\".capitalize()"
      ],
      "execution_count": 2,
      "outputs": [
        {
          "output_type": "execute_result",
          "data": {
            "text/plain": [
              "'Mississippi'"
            ]
          },
          "metadata": {
            "tags": []
          },
          "execution_count": 2
        }
      ]
    },
    {
      "cell_type": "markdown",
      "metadata": {
        "id": "3RNsqAQUmi6e",
        "colab_type": "text"
      },
      "source": [
        "## List Methods"
      ]
    },
    {
      "cell_type": "markdown",
      "metadata": {
        "id": "GmhIe4qwmi6f",
        "colab_type": "text"
      },
      "source": [
        "__Exercise__: Choose five list methods and use them successfully on a list. Find the list methods with the `dir` function."
      ]
    },
    {
      "cell_type": "code",
      "metadata": {
        "id": "hYoNoXvvmi6g",
        "colab_type": "code",
        "colab": {
          "base_uri": "https://localhost:8080/",
          "height": 34
        },
        "outputId": "140cbfb3-e06a-4b72-889e-8bb8a2437db2"
      },
      "source": [
        "x = [1, [\"a\", \"b\", \"c\"], [True, False], [1,2], 1]\n",
        "x.count(1)"
      ],
      "execution_count": 3,
      "outputs": [
        {
          "output_type": "execute_result",
          "data": {
            "text/plain": [
              "2"
            ]
          },
          "metadata": {
            "tags": []
          },
          "execution_count": 3
        }
      ]
    },
    {
      "cell_type": "code",
      "metadata": {
        "id": "PeX-iKnKmi6l",
        "colab_type": "code",
        "colab": {
          "base_uri": "https://localhost:8080/",
          "height": 799
        },
        "outputId": "6eac9fb2-ca73-4bab-c161-4f8cad6791bd"
      },
      "source": [
        "dir(x)"
      ],
      "execution_count": 4,
      "outputs": [
        {
          "output_type": "execute_result",
          "data": {
            "text/plain": [
              "['__add__',\n",
              " '__class__',\n",
              " '__contains__',\n",
              " '__delattr__',\n",
              " '__delitem__',\n",
              " '__dir__',\n",
              " '__doc__',\n",
              " '__eq__',\n",
              " '__format__',\n",
              " '__ge__',\n",
              " '__getattribute__',\n",
              " '__getitem__',\n",
              " '__gt__',\n",
              " '__hash__',\n",
              " '__iadd__',\n",
              " '__imul__',\n",
              " '__init__',\n",
              " '__init_subclass__',\n",
              " '__iter__',\n",
              " '__le__',\n",
              " '__len__',\n",
              " '__lt__',\n",
              " '__mul__',\n",
              " '__ne__',\n",
              " '__new__',\n",
              " '__reduce__',\n",
              " '__reduce_ex__',\n",
              " '__repr__',\n",
              " '__reversed__',\n",
              " '__rmul__',\n",
              " '__setattr__',\n",
              " '__setitem__',\n",
              " '__sizeof__',\n",
              " '__str__',\n",
              " '__subclasshook__',\n",
              " 'append',\n",
              " 'clear',\n",
              " 'copy',\n",
              " 'count',\n",
              " 'extend',\n",
              " 'index',\n",
              " 'insert',\n",
              " 'pop',\n",
              " 'remove',\n",
              " 'reverse',\n",
              " 'sort']"
            ]
          },
          "metadata": {
            "tags": []
          },
          "execution_count": 4
        }
      ]
    },
    {
      "cell_type": "markdown",
      "metadata": {
        "id": "Hnb7bmXOmi6q",
        "colab_type": "text"
      },
      "source": [
        "__The End__"
      ]
    }
  ]
}