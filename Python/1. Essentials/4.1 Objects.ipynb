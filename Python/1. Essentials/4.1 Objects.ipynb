{
  "nbformat": 4,
  "nbformat_minor": 0,
  "metadata": {
    "colab": {
      "name": "4.1 Objects.ipynb",
      "version": "0.3.2",
      "provenance": []
    },
    "kernelspec": {
      "name": "python3",
      "display_name": "Python 3"
    }
  },
  "cells": [
    {
      "cell_type": "markdown",
      "metadata": {
        "id": "stO7JlZNmi5-",
        "colab_type": "text"
      },
      "source": [
        "# Methods and Objects"
      ]
    },
    {
      "cell_type": "markdown",
      "metadata": {
        "id": "PVQuP0Hami6C",
        "colab_type": "text"
      },
      "source": [
        "## Table of Contents\n",
        "1. Objects\n",
        "1. String Methods\n",
        "1. List Methods"
      ]
    },
    {
      "cell_type": "markdown",
      "metadata": {
        "id": "nggDFPWYmi6D",
        "colab_type": "text"
      },
      "source": [
        "## Objects"
      ]
    },
    {
      "cell_type": "markdown",
      "metadata": {
        "id": "jqrD2FaImi6E",
        "colab_type": "text"
      },
      "source": [
        "Everything in Python is an object. Almost all objects (in Python) have:\n",
        "- Attributes, which are variables that store values in the object\n",
        "- Methods, which are functions that modify the object and/or return other values\n",
        "\n",
        "Each object has a class, which determines the attributes and methods available to objects of that class. . . "
      ]
    },
    {
      "cell_type": "markdown",
      "metadata": {
        "id": "kbtfca4Emi6F",
        "colab_type": "text"
      },
      "source": [
        "The list of available methods of an object can be retrieved with the `dir` function. \n",
        "\n",
        "The private methods (which can't be accessed) start with an underscore. (Ignore them. Don't use them.)"
      ]
    },
    {
      "cell_type": "markdown",
      "metadata": {
        "id": "d5zlW31dmi6G",
        "colab_type": "text"
      },
      "source": [
        "Below we present methods of strings and lists. Notice that the method \"knows about\" the contents of the string or list object. "
      ]
    },
    {
      "cell_type": "markdown",
      "metadata": {
        "id": "YojV_rRnmi6H",
        "colab_type": "text"
      },
      "source": [
        "## String methods"
      ]
    },
    {
      "cell_type": "code",
      "metadata": {
        "id": "gVeKJOgmmi6S",
        "colab_type": "code",
        "outputId": "43e6f2e4-f12a-4497-91f2-1a5c365350fb",
        "colab": {
          "base_uri": "https://localhost:8080/",
          "height": 35
        }
      },
      "source": [
        "\"boston\".capitalize()"
      ],
      "execution_count": 2,
      "outputs": [
        {
          "output_type": "execute_result",
          "data": {
            "text/plain": [
              "'Boston'"
            ]
          },
          "metadata": {
            "tags": []
          },
          "execution_count": 2
        }
      ]
    },
    {
      "cell_type": "code",
      "metadata": {
        "id": "koFEgPzNCJEc",
        "colab_type": "code",
        "colab": {
          "base_uri": "https://localhost:8080/",
          "height": 35
        },
        "outputId": "ee0ab14f-bdc2-489b-ccc2-02f38639a542"
      },
      "source": [
        "\"boston\".upper()"
      ],
      "execution_count": 3,
      "outputs": [
        {
          "output_type": "execute_result",
          "data": {
            "text/plain": [
              "'BOSTON'"
            ]
          },
          "metadata": {
            "tags": []
          },
          "execution_count": 3
        }
      ]
    },
    {
      "cell_type": "markdown",
      "metadata": {
        "id": "T752yLVDmi6R",
        "colab_type": "text"
      },
      "source": [
        "__Exercise__: Choose five string methods from the above below and use them successfully on a string. \n",
        "\n",
        "For example,"
      ]
    },
    {
      "cell_type": "code",
      "metadata": {
        "id": "hrCOgAz7mi6J",
        "colab_type": "code",
        "outputId": "bf70ce09-a907-4a0e-f366-93e0d8e7bda7",
        "colab": {
          "base_uri": "https://localhost:8080/",
          "height": 1326
        }
      },
      "source": [
        "dir(\"nǐ hǎo\")"
      ],
      "execution_count": 0,
      "outputs": [
        {
          "output_type": "execute_result",
          "data": {
            "text/plain": [
              "['__add__',\n",
              " '__class__',\n",
              " '__contains__',\n",
              " '__delattr__',\n",
              " '__dir__',\n",
              " '__doc__',\n",
              " '__eq__',\n",
              " '__format__',\n",
              " '__ge__',\n",
              " '__getattribute__',\n",
              " '__getitem__',\n",
              " '__getnewargs__',\n",
              " '__gt__',\n",
              " '__hash__',\n",
              " '__init__',\n",
              " '__init_subclass__',\n",
              " '__iter__',\n",
              " '__le__',\n",
              " '__len__',\n",
              " '__lt__',\n",
              " '__mod__',\n",
              " '__mul__',\n",
              " '__ne__',\n",
              " '__new__',\n",
              " '__reduce__',\n",
              " '__reduce_ex__',\n",
              " '__repr__',\n",
              " '__rmod__',\n",
              " '__rmul__',\n",
              " '__setattr__',\n",
              " '__sizeof__',\n",
              " '__str__',\n",
              " '__subclasshook__',\n",
              " 'capitalize',\n",
              " 'casefold',\n",
              " 'center',\n",
              " 'count',\n",
              " 'encode',\n",
              " 'endswith',\n",
              " 'expandtabs',\n",
              " 'find',\n",
              " 'format',\n",
              " 'format_map',\n",
              " 'index',\n",
              " 'isalnum',\n",
              " 'isalpha',\n",
              " 'isdecimal',\n",
              " 'isdigit',\n",
              " 'isidentifier',\n",
              " 'islower',\n",
              " 'isnumeric',\n",
              " 'isprintable',\n",
              " 'isspace',\n",
              " 'istitle',\n",
              " 'isupper',\n",
              " 'join',\n",
              " 'ljust',\n",
              " 'lower',\n",
              " 'lstrip',\n",
              " 'maketrans',\n",
              " 'partition',\n",
              " 'replace',\n",
              " 'rfind',\n",
              " 'rindex',\n",
              " 'rjust',\n",
              " 'rpartition',\n",
              " 'rsplit',\n",
              " 'rstrip',\n",
              " 'split',\n",
              " 'splitlines',\n",
              " 'startswith',\n",
              " 'strip',\n",
              " 'swapcase',\n",
              " 'title',\n",
              " 'translate',\n",
              " 'upper',\n",
              " 'zfill']"
            ]
          },
          "metadata": {
            "tags": []
          },
          "execution_count": 1
        }
      ]
    },
    {
      "cell_type": "markdown",
      "metadata": {
        "id": "3RNsqAQUmi6e",
        "colab_type": "text"
      },
      "source": [
        "## List Methods"
      ]
    },
    {
      "cell_type": "markdown",
      "metadata": {
        "id": "GmhIe4qwmi6f",
        "colab_type": "text"
      },
      "source": [
        "__Exercise__: Choose five list methods and use them successfully on a list. Find the list methods with the `dir` function."
      ]
    },
    {
      "cell_type": "code",
      "metadata": {
        "id": "hYoNoXvvmi6g",
        "colab_type": "code",
        "outputId": "140cbfb3-e06a-4b72-889e-8bb8a2437db2",
        "colab": {
          "base_uri": "https://localhost:8080/",
          "height": 34
        }
      },
      "source": [
        "x = [1, [\"a\", \"b\", \"c\"], [True, False], [1,2], 1]\n",
        "x.count(1)"
      ],
      "execution_count": 0,
      "outputs": [
        {
          "output_type": "execute_result",
          "data": {
            "text/plain": [
              "2"
            ]
          },
          "metadata": {
            "tags": []
          },
          "execution_count": 3
        }
      ]
    },
    {
      "cell_type": "markdown",
      "metadata": {
        "id": "JvkV6758DJfi",
        "colab_type": "text"
      },
      "source": [
        "## Dataframe methods and attributes"
      ]
    },
    {
      "cell_type": "code",
      "metadata": {
        "id": "u2ahCeRfCoZn",
        "colab_type": "code",
        "colab": {
          "base_uri": "https://localhost:8080/",
          "height": 138
        },
        "outputId": "53046f57-2d97-4a8c-9ee0-54db1f6735ac"
      },
      "source": [
        "import pandas as pd\n",
        "my_pdf = pd.DataFrame(data={'col_a': [1,2,3],\n",
        "                            'col_b': ['x','y','z']})\n",
        "my_pdf"
      ],
      "execution_count": 13,
      "outputs": [
        {
          "output_type": "execute_result",
          "data": {
            "text/html": [
              "<div>\n",
              "<style scoped>\n",
              "    .dataframe tbody tr th:only-of-type {\n",
              "        vertical-align: middle;\n",
              "    }\n",
              "\n",
              "    .dataframe tbody tr th {\n",
              "        vertical-align: top;\n",
              "    }\n",
              "\n",
              "    .dataframe thead th {\n",
              "        text-align: right;\n",
              "    }\n",
              "</style>\n",
              "<table border=\"1\" class=\"dataframe\">\n",
              "  <thead>\n",
              "    <tr style=\"text-align: right;\">\n",
              "      <th></th>\n",
              "      <th>col_a</th>\n",
              "      <th>col_b</th>\n",
              "    </tr>\n",
              "  </thead>\n",
              "  <tbody>\n",
              "    <tr>\n",
              "      <th>0</th>\n",
              "      <td>1</td>\n",
              "      <td>x</td>\n",
              "    </tr>\n",
              "    <tr>\n",
              "      <th>1</th>\n",
              "      <td>2</td>\n",
              "      <td>y</td>\n",
              "    </tr>\n",
              "    <tr>\n",
              "      <th>2</th>\n",
              "      <td>3</td>\n",
              "      <td>z</td>\n",
              "    </tr>\n",
              "  </tbody>\n",
              "</table>\n",
              "</div>"
            ],
            "text/plain": [
              "   col_a col_b\n",
              "0      1     x\n",
              "1      2     y\n",
              "2      3     z"
            ]
          },
          "metadata": {
            "tags": []
          },
          "execution_count": 13
        }
      ]
    },
    {
      "cell_type": "code",
      "metadata": {
        "id": "tXV4YW59DAgM",
        "colab_type": "code",
        "colab": {
          "base_uri": "https://localhost:8080/",
          "height": 35
        },
        "outputId": "ceb90763-6cc0-4a81-e02e-4f92bb0eebe9"
      },
      "source": [
        "my_pdf.shape"
      ],
      "execution_count": 14,
      "outputs": [
        {
          "output_type": "execute_result",
          "data": {
            "text/plain": [
              "(3, 2)"
            ]
          },
          "metadata": {
            "tags": []
          },
          "execution_count": 14
        }
      ]
    },
    {
      "cell_type": "code",
      "metadata": {
        "id": "PeX-iKnKmi6l",
        "colab_type": "code",
        "outputId": "69f8ac89-661d-426b-e306-a0b1a0c8c6b2",
        "colab": {
          "base_uri": "https://localhost:8080/",
          "height": 108
        }
      },
      "source": [
        "my_pdf.head(2)"
      ],
      "execution_count": 15,
      "outputs": [
        {
          "output_type": "execute_result",
          "data": {
            "text/html": [
              "<div>\n",
              "<style scoped>\n",
              "    .dataframe tbody tr th:only-of-type {\n",
              "        vertical-align: middle;\n",
              "    }\n",
              "\n",
              "    .dataframe tbody tr th {\n",
              "        vertical-align: top;\n",
              "    }\n",
              "\n",
              "    .dataframe thead th {\n",
              "        text-align: right;\n",
              "    }\n",
              "</style>\n",
              "<table border=\"1\" class=\"dataframe\">\n",
              "  <thead>\n",
              "    <tr style=\"text-align: right;\">\n",
              "      <th></th>\n",
              "      <th>col_a</th>\n",
              "      <th>col_b</th>\n",
              "    </tr>\n",
              "  </thead>\n",
              "  <tbody>\n",
              "    <tr>\n",
              "      <th>0</th>\n",
              "      <td>1</td>\n",
              "      <td>x</td>\n",
              "    </tr>\n",
              "    <tr>\n",
              "      <th>1</th>\n",
              "      <td>2</td>\n",
              "      <td>y</td>\n",
              "    </tr>\n",
              "  </tbody>\n",
              "</table>\n",
              "</div>"
            ],
            "text/plain": [
              "   col_a col_b\n",
              "0      1     x\n",
              "1      2     y"
            ]
          },
          "metadata": {
            "tags": []
          },
          "execution_count": 15
        }
      ]
    },
    {
      "cell_type": "markdown",
      "metadata": {
        "id": "Hnb7bmXOmi6q",
        "colab_type": "text"
      },
      "source": [
        "__The End__"
      ]
    }
  ]
}