{
  "nbformat": 4,
  "nbformat_minor": 0,
  "metadata": {
    "name": "3.2 Comprehensions",
    "notebookId": 90595,
    "colab": {
      "name": "3.2 Comprehensions.ipynb",
      "version": "0.3.2",
      "provenance": []
    },
    "kernelspec": {
      "name": "python3",
      "display_name": "Python 3"
    }
  },
  "cells": [
    {
      "cell_type": "markdown",
      "metadata": {
        "id": "jzP4GUF28ljP",
        "colab_type": "text"
      },
      "source": [
        "# Comprehensions"
      ]
    },
    {
      "cell_type": "markdown",
      "metadata": {
        "id": "resTNLDb8ljR",
        "colab_type": "text"
      },
      "source": [
        "- http://book.pythontips.com/en/latest/comprehensions.html"
      ]
    },
    {
      "cell_type": "markdown",
      "metadata": {
        "id": "LIL_R_L88ljT",
        "colab_type": "text"
      },
      "source": [
        "## 1. List Comprehensions"
      ]
    },
    {
      "cell_type": "markdown",
      "metadata": {
        "id": "ulboV9dx8ljT",
        "colab_type": "text"
      },
      "source": [
        "List comprehensions might be thought of as an oddly formatted `for` loop inside square brackets that results in a list. \n",
        "\n",
        "First we demonstrate a `for` loop:"
      ]
    },
    {
      "cell_type": "code",
      "metadata": {
        "id": "HQsMAYBL8ljU",
        "colab_type": "code",
        "colab": {
          "base_uri": "https://localhost:8080/",
          "height": 35
        },
        "outputId": "2f5b961e-7f2a-4967-b4f4-4e7275852c03"
      },
      "source": [
        "list(range(5))"
      ],
      "execution_count": 1,
      "outputs": [
        {
          "output_type": "execute_result",
          "data": {
            "text/plain": [
              "[0, 1, 2, 3, 4]"
            ]
          },
          "metadata": {
            "tags": []
          },
          "execution_count": 1
        }
      ]
    },
    {
      "cell_type": "code",
      "metadata": {
        "id": "lJy4fo0o8ljY",
        "colab_type": "code",
        "colab": {
          "base_uri": "https://localhost:8080/",
          "height": 104
        },
        "outputId": "192897c0-8978-4984-e9df-3c5e5a3f4ec3"
      },
      "source": [
        "for number in list(range(5)):\n",
        "  print(number*\"abc\")"
      ],
      "execution_count": 2,
      "outputs": [
        {
          "output_type": "stream",
          "text": [
            "\n",
            "abc\n",
            "abcabc\n",
            "abcabcabc\n",
            "abcabcabcabc\n"
          ],
          "name": "stdout"
        }
      ]
    },
    {
      "cell_type": "markdown",
      "metadata": {
        "id": "G2XWuKCQ8lja",
        "colab_type": "text"
      },
      "source": [
        "Notice that the loop does not have a return value. It only prints. "
      ]
    },
    {
      "cell_type": "markdown",
      "metadata": {
        "id": "Ad3h8DYS8ljb",
        "colab_type": "text"
      },
      "source": [
        "A list comprehension (see below) does the same work as the command below, but:\n",
        "- it has a return value\n",
        "- it cannot print values"
      ]
    },
    {
      "cell_type": "code",
      "metadata": {
        "id": "Hzal4wbe8ljc",
        "colab_type": "code",
        "colab": {
          "base_uri": "https://localhost:8080/",
          "height": 35
        },
        "outputId": "3d22aa07-d328-440f-cf86-c4218230ae38"
      },
      "source": [
        "multiples = [item*10 for item in range(5)]\n",
        "multiples"
      ],
      "execution_count": 3,
      "outputs": [
        {
          "output_type": "execute_result",
          "data": {
            "text/plain": [
              "[0, 10, 20, 30, 40]"
            ]
          },
          "metadata": {
            "tags": []
          },
          "execution_count": 3
        }
      ]
    },
    {
      "cell_type": "markdown",
      "metadata": {
        "id": "0dKF4Qo08ljf",
        "colab_type": "text"
      },
      "source": [
        "An `if` clause can be added to return only values that match a specified condition."
      ]
    },
    {
      "cell_type": "code",
      "metadata": {
        "id": "2YfqtjbI8ljf",
        "colab_type": "code",
        "colab": {
          "base_uri": "https://localhost:8080/",
          "height": 35
        },
        "outputId": "e7012620-02a4-4520-b9f7-cdf5c1912d0c"
      },
      "source": [
        "multiples = [x*10 for x in range(5) if x % 2 == 0]\n",
        "multiples"
      ],
      "execution_count": 4,
      "outputs": [
        {
          "output_type": "execute_result",
          "data": {
            "text/plain": [
              "[0, 20, 40]"
            ]
          },
          "metadata": {
            "tags": []
          },
          "execution_count": 4
        }
      ]
    },
    {
      "cell_type": "markdown",
      "metadata": {
        "id": "Zot62a988lji",
        "colab_type": "text"
      },
      "source": [
        "This operation (returning a list to be stored in a variable) could be accomplished with a `for` loop, but it looks a bit awkward."
      ]
    },
    {
      "cell_type": "code",
      "metadata": {
        "id": "y9CIEfrz8ljj",
        "colab_type": "code",
        "colab": {
          "base_uri": "https://localhost:8080/",
          "height": 35
        },
        "outputId": "15246f52-7c73-4029-e506-907ed57bd651"
      },
      "source": [
        "y = []\n",
        "for x in range(5):\n",
        "  if x % 2 == 0:\n",
        "    y.append(x*10)\n",
        "y"
      ],
      "execution_count": 5,
      "outputs": [
        {
          "output_type": "execute_result",
          "data": {
            "text/plain": [
              "[0, 20, 40]"
            ]
          },
          "metadata": {
            "tags": []
          },
          "execution_count": 5
        }
      ]
    },
    {
      "cell_type": "markdown",
      "metadata": {
        "id": "VghoWXow8ljn",
        "colab_type": "text"
      },
      "source": [
        "It is better programming practice to use list comprehensions instead of the `append` method."
      ]
    },
    {
      "cell_type": "markdown",
      "metadata": {
        "id": "kXgH5ffx8ljo",
        "colab_type": "text"
      },
      "source": [
        "List comprehensions can be nested."
      ]
    },
    {
      "cell_type": "code",
      "metadata": {
        "id": "XfTnfl1Q8ljp",
        "colab_type": "code",
        "colab": {
          "base_uri": "https://localhost:8080/",
          "height": 35
        },
        "outputId": "34ab2e71-1094-4a13-8474-62c0bcfc22a8"
      },
      "source": [
        "[10*x*y for x in [1,2,3] for y in [1, -1]]"
      ],
      "execution_count": 6,
      "outputs": [
        {
          "output_type": "execute_result",
          "data": {
            "text/plain": [
              "[10, -10, 20, -20, 30, -30]"
            ]
          },
          "metadata": {
            "tags": []
          },
          "execution_count": 6
        }
      ]
    },
    {
      "cell_type": "markdown",
      "metadata": {
        "id": "MHlDUfvR8ljt",
        "colab_type": "text"
      },
      "source": [
        "Notice that the resulting list contains one element for every combination of `x` in `[1,2,3]` and `y` in `[1, -1]`."
      ]
    },
    {
      "cell_type": "markdown",
      "metadata": {
        "id": "MQrBGSCw8ljt",
        "colab_type": "text"
      },
      "source": [
        "Dictionary and set comprehensions can also be nested. "
      ]
    },
    {
      "cell_type": "code",
      "metadata": {
        "id": "na9INUE1AC2R",
        "colab_type": "code",
        "colab": {
          "base_uri": "https://localhost:8080/",
          "height": 190
        },
        "outputId": "ba9eb953-be87-42aa-f3a3-bbd9f15bef2e"
      },
      "source": [
        "[\n",
        "    (ndx,'abc'*ndx)\n",
        "    for upper_bound in [1,2,3,4] \n",
        "    for ndx in range(upper_bound)\n",
        "]"
      ],
      "execution_count": 24,
      "outputs": [
        {
          "output_type": "execute_result",
          "data": {
            "text/plain": [
              "[(0, ''),\n",
              " (0, ''),\n",
              " (1, 'abc'),\n",
              " (0, ''),\n",
              " (1, 'abc'),\n",
              " (2, 'abcabc'),\n",
              " (0, ''),\n",
              " (1, 'abc'),\n",
              " (2, 'abcabc'),\n",
              " (3, 'abcabcabc')]"
            ]
          },
          "metadata": {
            "tags": []
          },
          "execution_count": 24
        }
      ]
    },
    {
      "cell_type": "markdown",
      "metadata": {
        "id": "_Epi7gvrAz-A",
        "colab_type": "text"
      },
      "source": [
        "Notice that the for loops in the list comprehension are arranged as you would write them as nested for loops. "
      ]
    },
    {
      "cell_type": "code",
      "metadata": {
        "id": "J6eknWgpA--J",
        "colab_type": "code",
        "colab": {
          "base_uri": "https://localhost:8080/",
          "height": 190
        },
        "outputId": "e0f2d214-9a64-407d-9ba8-5cc3d0e26011"
      },
      "source": [
        "for upper_bound in [1,2,3,4]:\n",
        "  for ndx in range(upper_bound):\n",
        "    print(ndx,'abc'*ndx)"
      ],
      "execution_count": 25,
      "outputs": [
        {
          "output_type": "stream",
          "text": [
            "0 \n",
            "0 \n",
            "1 abc\n",
            "0 \n",
            "1 abc\n",
            "2 abcabc\n",
            "0 \n",
            "1 abc\n",
            "2 abcabc\n",
            "3 abcabcabc\n"
          ],
          "name": "stdout"
        }
      ]
    },
    {
      "cell_type": "markdown",
      "metadata": {
        "id": "h-LZe-kd8ljx",
        "colab_type": "text"
      },
      "source": [
        "## 2. Dictionary Comprehensions"
      ]
    },
    {
      "cell_type": "markdown",
      "metadata": {
        "id": "_9RvapNH8lj0",
        "colab_type": "text"
      },
      "source": [
        "Dictionary comprehensions might be thought of as an oddly formatted `for` loop inside curly brackets that results in a dictionary. \n",
        "   \n",
        "First create a sample dictionary."
      ]
    },
    {
      "cell_type": "code",
      "metadata": {
        "id": "8vjQEtJm8lj1",
        "colab_type": "code",
        "colab": {
          "base_uri": "https://localhost:8080/",
          "height": 35
        },
        "outputId": "4510e7ac-0cac-470c-8055-123240d73b19"
      },
      "source": [
        "some_dict = {\"a\":1, \"b\":2, \"c\":3, \"d\":4}\n",
        "some_dict"
      ],
      "execution_count": 7,
      "outputs": [
        {
          "output_type": "execute_result",
          "data": {
            "text/plain": [
              "{'a': 1, 'b': 2, 'c': 3, 'd': 4}"
            ]
          },
          "metadata": {
            "tags": []
          },
          "execution_count": 7
        }
      ]
    },
    {
      "cell_type": "markdown",
      "metadata": {
        "id": "M6PAPybS8lj5",
        "colab_type": "text"
      },
      "source": [
        "Recall that the elements of a dictionary are key-value pairs. \n",
        "These pairs can be retrieved with the `items` method."
      ]
    },
    {
      "cell_type": "code",
      "metadata": {
        "id": "Kr-7QZcM8lj5",
        "colab_type": "code",
        "colab": {
          "base_uri": "https://localhost:8080/",
          "height": 35
        },
        "outputId": "013c7dae-af14-4128-e776-f6410b32e184"
      },
      "source": [
        "some_dict.items()"
      ],
      "execution_count": 8,
      "outputs": [
        {
          "output_type": "execute_result",
          "data": {
            "text/plain": [
              "dict_items([('a', 1), ('b', 2), ('c', 3), ('d', 4)])"
            ]
          },
          "metadata": {
            "tags": []
          },
          "execution_count": 8
        }
      ]
    },
    {
      "cell_type": "markdown",
      "metadata": {
        "id": "EKlLApy38lj8",
        "colab_type": "text"
      },
      "source": [
        "Notice that the `items()` method returns a list of 2-tuples."
      ]
    },
    {
      "cell_type": "markdown",
      "metadata": {
        "id": "1vjdivRF8lj9",
        "colab_type": "text"
      },
      "source": [
        "The `list` function can return this into a familiar list."
      ]
    },
    {
      "cell_type": "code",
      "metadata": {
        "id": "7BaiS6FU8lj9",
        "colab_type": "code",
        "colab": {
          "base_uri": "https://localhost:8080/",
          "height": 35
        },
        "outputId": "d2c35c27-94e1-4081-c26b-a6af5001ac32"
      },
      "source": [
        "list(some_dict.items())"
      ],
      "execution_count": 9,
      "outputs": [
        {
          "output_type": "execute_result",
          "data": {
            "text/plain": [
              "[('a', 1), ('b', 2), ('c', 3), ('d', 4)]"
            ]
          },
          "metadata": {
            "tags": []
          },
          "execution_count": 9
        }
      ]
    },
    {
      "cell_type": "markdown",
      "metadata": {
        "id": "DJb4OTIP8lj_",
        "colab_type": "text"
      },
      "source": [
        "A dictionary can be created from the 2-tuples returns by the `items` method. \n",
        "\n",
        "The dictionary comprehension created below contains only the key-value pairs where the value is even."
      ]
    },
    {
      "cell_type": "code",
      "metadata": {
        "id": "XiHt6LDN8lkA",
        "colab_type": "code",
        "colab": {
          "base_uri": "https://localhost:8080/",
          "height": 35
        },
        "outputId": "192f78ab-8766-41b2-f155-2a98fd733446"
      },
      "source": [
        "{k:v\n",
        "   for (k, v)\n",
        "   in some_dict.items()\n",
        "   if v % 2 == 0\n",
        "}"
      ],
      "execution_count": 10,
      "outputs": [
        {
          "output_type": "execute_result",
          "data": {
            "text/plain": [
              "{'b': 2, 'd': 4}"
            ]
          },
          "metadata": {
            "tags": []
          },
          "execution_count": 10
        }
      ]
    },
    {
      "cell_type": "markdown",
      "metadata": {
        "id": "sYqllkXL8lkC",
        "colab_type": "text"
      },
      "source": [
        "Notice that the key and value of the resulting dictionary can be changed."
      ]
    },
    {
      "cell_type": "code",
      "metadata": {
        "id": "S4P_lcfy8lkD",
        "colab_type": "code",
        "colab": {
          "base_uri": "https://localhost:8080/",
          "height": 35
        },
        "outputId": "bfbeb151-520b-4384-defb-34ebca1dac50"
      },
      "source": [
        "{k:10*v\n",
        " for (k, v)\n",
        " in some_dict.items()\n",
        " if v % 2 == 0\n",
        "}"
      ],
      "execution_count": 11,
      "outputs": [
        {
          "output_type": "execute_result",
          "data": {
            "text/plain": [
              "{'b': 20, 'd': 40}"
            ]
          },
          "metadata": {
            "tags": []
          },
          "execution_count": 11
        }
      ]
    },
    {
      "cell_type": "markdown",
      "metadata": {
        "id": "GQNpoOAQ8lkG",
        "colab_type": "text"
      },
      "source": [
        "Notice,  that the value was changed above and the key is changed below."
      ]
    },
    {
      "cell_type": "code",
      "metadata": {
        "id": "jpmvMw1C8lkH",
        "colab_type": "code",
        "colab": {
          "base_uri": "https://localhost:8080/",
          "height": 35
        },
        "outputId": "1872858d-296f-4f0d-8aa4-f27f69b7356b"
      },
      "source": [
        "{k+k:v\n",
        "   for (k, v)\n",
        "   in some_dict.items()\n",
        "}"
      ],
      "execution_count": 12,
      "outputs": [
        {
          "output_type": "execute_result",
          "data": {
            "text/plain": [
              "{'aa': 1, 'bb': 2, 'cc': 3, 'dd': 4}"
            ]
          },
          "metadata": {
            "tags": []
          },
          "execution_count": 12
        }
      ]
    },
    {
      "cell_type": "markdown",
      "metadata": {
        "id": "gYViTPGq8lkJ",
        "colab_type": "text"
      },
      "source": [
        "Of course, both can be changed."
      ]
    },
    {
      "cell_type": "code",
      "metadata": {
        "id": "_zbTViHP8lkJ",
        "colab_type": "code",
        "colab": {
          "base_uri": "https://localhost:8080/",
          "height": 35
        },
        "outputId": "b8e8708a-2394-4eae-bee7-78bf06850ac7"
      },
      "source": [
        "{k+k:10*v\n",
        "   for k, v\n",
        "   in some_dict.items()\n",
        "}"
      ],
      "execution_count": 13,
      "outputs": [
        {
          "output_type": "execute_result",
          "data": {
            "text/plain": [
              "{'aa': 10, 'bb': 20, 'cc': 30, 'dd': 40}"
            ]
          },
          "metadata": {
            "tags": []
          },
          "execution_count": 13
        }
      ]
    },
    {
      "cell_type": "markdown",
      "metadata": {
        "id": "VcNh3UM28lkM",
        "colab_type": "text"
      },
      "source": [
        "## 3. Set Comprehensions"
      ]
    },
    {
      "cell_type": "markdown",
      "metadata": {
        "id": "1rbnaJAF8lkM",
        "colab_type": "text"
      },
      "source": [
        "A set comprehension looks like a dictionary comprehension, but does not include a value.\n",
        "\n",
        "For this reason it will not contain duplicates."
      ]
    },
    {
      "cell_type": "code",
      "metadata": {
        "id": "gf7h5x1Y8lkO",
        "colab_type": "code",
        "colab": {
          "base_uri": "https://localhost:8080/",
          "height": 35
        },
        "outputId": "6fb5f9e5-11c9-4c40-a69c-51d75bf163d3"
      },
      "source": [
        "squared = {x**2  for x in [-1, 1, 2]}\n",
        "squared"
      ],
      "execution_count": 14,
      "outputs": [
        {
          "output_type": "execute_result",
          "data": {
            "text/plain": [
              "{1, 4}"
            ]
          },
          "metadata": {
            "tags": []
          },
          "execution_count": 14
        }
      ]
    },
    {
      "cell_type": "code",
      "metadata": {
        "id": "bhJ2yzQh8lkS",
        "colab_type": "code",
        "colab": {
          "base_uri": "https://localhost:8080/",
          "height": 35
        },
        "outputId": "0e26636f-3d1f-4945-8d2f-5b82bac680c7"
      },
      "source": [
        "{(m, n) for n in range(2) for m in range(3, 5)}"
      ],
      "execution_count": 15,
      "outputs": [
        {
          "output_type": "execute_result",
          "data": {
            "text/plain": [
              "{(3, 0), (3, 1), (4, 0), (4, 1)}"
            ]
          },
          "metadata": {
            "tags": []
          },
          "execution_count": 15
        }
      ]
    },
    {
      "cell_type": "markdown",
      "metadata": {
        "id": "uqlWnhzw8lkU",
        "colab_type": "text"
      },
      "source": [
        "Notice that set comprehensions do not have duplicates."
      ]
    },
    {
      "cell_type": "markdown",
      "metadata": {
        "id": "OUs3xjFT8lkW",
        "colab_type": "text"
      },
      "source": [
        "__The End__"
      ]
    }
  ]
}