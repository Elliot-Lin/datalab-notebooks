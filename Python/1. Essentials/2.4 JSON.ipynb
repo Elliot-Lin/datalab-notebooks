{
  "nbformat": 4,
  "nbformat_minor": 0,
  "metadata": {
    "colab": {
      "name": "2.4 JSON.ipynb",
      "version": "0.3.2",
      "provenance": []
    },
    "kernelspec": {
      "name": "python3",
      "display_name": "Python 3"
    }
  },
  "cells": [
    {
      "cell_type": "markdown",
      "metadata": {
        "id": "vu-31oL1sKdm",
        "colab_type": "text"
      },
      "source": [
        "# JSON in Python\n",
        "\n",
        "This notebook demonstrates reading JSON data from files into lists, dictionaries, and dataframes in Python."
      ]
    },
    {
      "cell_type": "markdown",
      "metadata": {
        "id": "2uhhS_ChsKdo",
        "colab_type": "text"
      },
      "source": [
        "Notice the Python version running on the cluster."
      ]
    },
    {
      "cell_type": "code",
      "metadata": {
        "id": "DYTHJOdSsKdp",
        "colab_type": "code",
        "colab": {},
        "outputId": "0d7efa16-d240-4737-b32c-9b65e9f70531"
      },
      "source": [
        "%python\n",
        "import sys\n",
        "sys.version"
      ],
      "execution_count": 0,
      "outputs": [
        {
          "output_type": "display_data",
          "data": {
            "text/html": [
              "<style scoped>\n",
              "  .ansiout {\n",
              "    display: block;\n",
              "    unicode-bidi: embed;\n",
              "    white-space: pre-wrap;\n",
              "    word-wrap: break-word;\n",
              "    word-break: break-all;\n",
              "    font-family: \"Source Code Pro\", \"Menlo\", monospace;;\n",
              "    font-size: 13px;\n",
              "    color: #555;\n",
              "    margin-left: 4px;\n",
              "    line-height: 19px;\n",
              "  }\n",
              "</style>\n",
              "<div class=\"ansiout\"><span class=\"ansired\">Out[</span><span class=\"ansired\">1</span><span class=\"ansired\">]: </span>&apos;3.5.2 (default, Nov 23 2017, 16:37:01) \\n[GCC 5.4.0 20160609]&apos;\n",
              "</div>"
            ]
          },
          "metadata": {
            "tags": []
          }
        }
      ]
    },
    {
      "cell_type": "markdown",
      "metadata": {
        "id": "t6NDtsl8sKdu",
        "colab_type": "text"
      },
      "source": [
        "## Contents \n",
        "1. Setup\n",
        "2. List example\n",
        "1. Dictionary example\n",
        "3. Mixed examples\n",
        "1. Realistic examples"
      ]
    },
    {
      "cell_type": "markdown",
      "metadata": {
        "id": "mtIsHTdCsKdu",
        "colab_type": "text"
      },
      "source": [
        "## 1. Setup"
      ]
    },
    {
      "cell_type": "code",
      "metadata": {
        "id": "bMB0a1dauI8z",
        "colab_type": "code",
        "colab": {
          "base_uri": "https://localhost:8080/",
          "height": 122
        },
        "outputId": "1ec9e7e0-ad18-4749-f0bf-0c29a0dcfacb"
      },
      "source": [
        "%pip install jsonlines"
      ],
      "execution_count": 38,
      "outputs": [
        {
          "output_type": "stream",
          "text": [
            "Collecting jsonlines\n",
            "  Downloading https://files.pythonhosted.org/packages/4f/9a/ab96291470e305504aa4b7a2e0ec132e930da89eb3ca7a82fbe03167c131/jsonlines-1.2.0-py2.py3-none-any.whl\n",
            "Requirement already satisfied: six in /usr/local/lib/python3.6/dist-packages (from jsonlines) (1.12.0)\n",
            "Installing collected packages: jsonlines\n",
            "Successfully installed jsonlines-1.2.0\n"
          ],
          "name": "stdout"
        }
      ]
    },
    {
      "cell_type": "markdown",
      "metadata": {
        "id": "KjjvGuBTsKdv",
        "colab_type": "text"
      },
      "source": [
        "Load the `pandas` Python library."
      ]
    },
    {
      "cell_type": "code",
      "metadata": {
        "id": "V4Tsb-tXsKdv",
        "colab_type": "code",
        "colab": {},
        "outputId": "511ac210-7baa-4601-9ab9-cb50bccd6da9"
      },
      "source": [
        "%python\n",
        "import pandas as pd"
      ],
      "execution_count": 0,
      "outputs": [
        {
          "output_type": "display_data",
          "data": {
            "text/html": [
              "<style scoped>\n",
              "  .ansiout {\n",
              "    display: block;\n",
              "    unicode-bidi: embed;\n",
              "    white-space: pre-wrap;\n",
              "    word-wrap: break-word;\n",
              "    word-break: break-all;\n",
              "    font-family: \"Source Code Pro\", \"Menlo\", monospace;;\n",
              "    font-size: 13px;\n",
              "    color: #555;\n",
              "    margin-left: 4px;\n",
              "    line-height: 19px;\n",
              "  }\n",
              "</style>\n",
              "<div class=\"ansiout\"></div>"
            ]
          },
          "metadata": {
            "tags": []
          }
        }
      ]
    },
    {
      "cell_type": "markdown",
      "metadata": {
        "id": "Ce4bSThFsKdy",
        "colab_type": "text"
      },
      "source": [
        "In this notebook we read data from some of these JSON files."
      ]
    },
    {
      "cell_type": "code",
      "metadata": {
        "id": "A2IkavYmsS2L",
        "colab_type": "code",
        "colab": {
          "base_uri": "https://localhost:8080/",
          "height": 34
        },
        "outputId": "fd5751d6-0185-41e7-85ac-d8ce4c853821"
      },
      "source": [
        "%%sh\n",
        "git clone https://github.com/datalab-datasets/file-samples.git"
      ],
      "execution_count": 1,
      "outputs": [
        {
          "output_type": "stream",
          "text": [
            "Cloning into 'file-samples'...\n"
          ],
          "name": "stderr"
        }
      ]
    },
    {
      "cell_type": "code",
      "metadata": {
        "id": "b9unxMxisKdy",
        "colab_type": "code",
        "colab": {
          "base_uri": "https://localhost:8080/",
          "height": 221
        },
        "outputId": "0103f649-e616-4805-a40d-05e6f7f3f0a7"
      },
      "source": [
        "%ls /content/file-samples/*.json"
      ],
      "execution_count": 9,
      "outputs": [
        {
          "output_type": "stream",
          "text": [
            "/content/file-samples/dict_of_lists.json\n",
            "/content/file-samples/each_line.json\n",
            "/content/file-samples/enron.json\n",
            "/content/file-samples/list_of_dicts.json\n",
            "/content/file-samples/one_dictionary.json\n",
            "/content/file-samples/one_list.json\n",
            "/content/file-samples/one_list_with_metadata.json\n",
            "/content/file-samples/simple_dict.json\n",
            "/content/file-samples/simple_list.json\n",
            "/content/file-samples/stocks.json\n",
            "/content/file-samples/world_bank.json\n",
            "/content/file-samples/zips.json\n"
          ],
          "name": "stdout"
        }
      ]
    },
    {
      "cell_type": "markdown",
      "metadata": {
        "id": "3MglBipwsKd7",
        "colab_type": "text"
      },
      "source": [
        "The contents of individual files can be displayed with the `head` shell command. \n",
        "\n",
        "For example, the following command displays the first three lines of the `one_list.json` file. Notice the parameter `-n 3`.\n",
        "\n",
        "The `%sh` magic at the beginning of the code cell indicates that the cell contains shell commands."
      ]
    },
    {
      "cell_type": "code",
      "metadata": {
        "id": "fjOjKZs0sKd7",
        "colab_type": "code",
        "colab": {
          "base_uri": "https://localhost:8080/",
          "height": 68
        },
        "outputId": "ff0da42e-b263-4766-82bf-3dc93f78579d"
      },
      "source": [
        "%%sh \n",
        "head -n 3 /content/file-samples/one_list.json"
      ],
      "execution_count": 13,
      "outputs": [
        {
          "output_type": "stream",
          "text": [
            "[{ \t\n",
            "\t\"id\": \"ae4d9000001\", \n",
            "\t\"product_name\": \"sildenafil citrate\", \n"
          ],
          "name": "stdout"
        }
      ]
    },
    {
      "cell_type": "markdown",
      "metadata": {
        "id": "xjXUjzmosKd-",
        "colab_type": "text"
      },
      "source": [
        "The contents of files are often read into Python using the `open` function. (An example is three cells below.)\n",
        "- The first argument to this function is the full path of the file. \n",
        "- The second argument is the mode with which to read the file. An `r` indicates the file will be read. \n",
        "- The function returns a file object that can be used to read (in this case) from the indicated file.\n",
        "- See the documentation https://docs.python.org/3.5/library/functions.html#open for details."
      ]
    },
    {
      "cell_type": "markdown",
      "metadata": {
        "id": "0Xux4e4nsKd_",
        "colab_type": "text"
      },
      "source": [
        "The `with` command (in the example two cells below) is called a _context manager_.\n",
        "\n",
        "In the cell below (and in many cells below that), the `with` command opens the file and stores the _file object_, returned by the `open` function, in the `infile` variable. All indented commands that follow the `with` command can access this variable and the contents of the file, but when the indentation stops then the file object is deleted and it is no longer possible to read from the file. \n",
        "\n",
        "The basic reason to use the `with` and `open` statements like this is to automatically close the file after the indented commands are run.\n",
        "There are more complicated reasons to use them, but they're not that important (to know) if you __always__ use it to open files for reading or writing."
      ]
    },
    {
      "cell_type": "markdown",
      "metadata": {
        "id": "zXpSCeHLsKd_",
        "colab_type": "text"
      },
      "source": [
        "The following code cell:\n",
        "1. opens the `simple_list.json` file for reading\n",
        "2. loads the contents of the file into a list (using the `load` function from the `json` module)\n",
        "3. stores this list in `list_from_file` \n",
        "4. displays the list (as it is the last command of the cell)"
      ]
    },
    {
      "cell_type": "code",
      "metadata": {
        "id": "zZSgkaz5sKeA",
        "colab_type": "code",
        "colab": {
          "base_uri": "https://localhost:8080/",
          "height": 34
        },
        "outputId": "fe703f82-a404-44ec-8e90-4407874bf1cb"
      },
      "source": [
        "import json\n",
        "with open('/content/file-samples/simple_list.json', 'r') as infile:\n",
        "  list_from_file = json.load(infile)\n",
        "\n",
        "list_from_file"
      ],
      "execution_count": 16,
      "outputs": [
        {
          "output_type": "execute_result",
          "data": {
            "text/plain": [
              "[10, 20, 30]"
            ]
          },
          "metadata": {
            "tags": []
          },
          "execution_count": 16
        }
      ]
    },
    {
      "cell_type": "markdown",
      "metadata": {
        "id": "Nx-MySZnsKeD",
        "colab_type": "text"
      },
      "source": [
        "Notice the resulting list (above) corresponds exactly to the characters from the file (below)."
      ]
    },
    {
      "cell_type": "code",
      "metadata": {
        "id": "OPKyqqrIsKeE",
        "colab_type": "code",
        "colab": {
          "base_uri": "https://localhost:8080/",
          "height": 34
        },
        "outputId": "7937522c-3679-46d1-ad92-57970b35f539"
      },
      "source": [
        "%%sh \n",
        "head -n 3 /content/file-samples/simple_list.json"
      ],
      "execution_count": 19,
      "outputs": [
        {
          "output_type": "stream",
          "text": [
            "[10, 20, 30]\n"
          ],
          "name": "stdout"
        }
      ]
    },
    {
      "cell_type": "markdown",
      "metadata": {
        "id": "YGwMyhW8sKeJ",
        "colab_type": "text"
      },
      "source": [
        "The remaining sections of this notebook demonstrate the reading of JSON text (from files) into Python lists. dictionaries, and tables."
      ]
    },
    {
      "cell_type": "markdown",
      "metadata": {
        "id": "hh6ZcpQpsKeK",
        "colab_type": "text"
      },
      "source": [
        "## 2. List example"
      ]
    },
    {
      "cell_type": "markdown",
      "metadata": {
        "id": "ggoczd3IsKeK",
        "colab_type": "text"
      },
      "source": [
        "The `json` library provides Python functions to read and write JSON text. \n",
        "\n",
        "The `loads` function:\n",
        "- expects its argument to be a string of JSON data and \n",
        "- returns the Python object (usually a list or dictionary) that corresponds to the JSON data"
      ]
    },
    {
      "cell_type": "code",
      "metadata": {
        "id": "zY8sj1CUsKeL",
        "colab_type": "code",
        "colab": {
          "base_uri": "https://localhost:8080/",
          "height": 34
        },
        "outputId": "ba331daf-864b-44dd-9bfa-fbe9073f7974"
      },
      "source": [
        "import json\n",
        "my_json = json.loads('[\"hello\",\"goodbye\",777,null]')\n",
        "my_json"
      ],
      "execution_count": 20,
      "outputs": [
        {
          "output_type": "execute_result",
          "data": {
            "text/plain": [
              "['hello', 'goodbye', 777, None]"
            ]
          },
          "metadata": {
            "tags": []
          },
          "execution_count": 20
        }
      ]
    },
    {
      "cell_type": "markdown",
      "metadata": {
        "id": "33aoqdu3sKeO",
        "colab_type": "text"
      },
      "source": [
        "The `null` JSON value is often used to indicate missing data. Notice that this value corresponds to the `None` value in Python."
      ]
    },
    {
      "cell_type": "markdown",
      "metadata": {
        "id": "9B3yCOzasKeO",
        "colab_type": "text"
      },
      "source": [
        "The JSON text for the next example comes from the file `simple_list.json`, which is displayed below. \n",
        "\n",
        "This is the same example as above in the Setup section. The following command displays the contents of this file (which only contains one line)."
      ]
    },
    {
      "cell_type": "code",
      "metadata": {
        "id": "NZXeiMGYsKeP",
        "colab_type": "code",
        "colab": {
          "base_uri": "https://localhost:8080/",
          "height": 34
        },
        "outputId": "24ae09f8-9307-428a-ec36-c1e130389c21"
      },
      "source": [
        "%%sh \n",
        "head -n 3 /content/file-samples/simple_list.json"
      ],
      "execution_count": 21,
      "outputs": [
        {
          "output_type": "stream",
          "text": [
            "[10, 20, 30]\n"
          ],
          "name": "stdout"
        }
      ]
    },
    {
      "cell_type": "markdown",
      "metadata": {
        "id": "gnqzXB7asKeR",
        "colab_type": "text"
      },
      "source": [
        "The following code reads the contents of the file `simple_list.json` into a Python list."
      ]
    },
    {
      "cell_type": "code",
      "metadata": {
        "id": "0s8gFmRPsKeR",
        "colab_type": "code",
        "colab": {
          "base_uri": "https://localhost:8080/",
          "height": 34
        },
        "outputId": "2948d8ff-2638-443a-b255-d75b53ac72d0"
      },
      "source": [
        "import json\n",
        "with open(\"/content/file-samples/simple_list.json\", 'r') as infile:\n",
        "  list_from_file = json.load(infile)\n",
        "  \n",
        "list_from_file"
      ],
      "execution_count": 22,
      "outputs": [
        {
          "output_type": "execute_result",
          "data": {
            "text/plain": [
              "[10, 20, 30]"
            ]
          },
          "metadata": {
            "tags": []
          },
          "execution_count": 22
        }
      ]
    },
    {
      "cell_type": "markdown",
      "metadata": {
        "id": "P627J4QPsKeT",
        "colab_type": "text"
      },
      "source": [
        "The following code demonstrates that the `load` function does in fact return a list."
      ]
    },
    {
      "cell_type": "code",
      "metadata": {
        "id": "EKordR6JsKeU",
        "colab_type": "code",
        "colab": {},
        "outputId": "beb064ba-c8af-4ec9-a54f-40eac640b563"
      },
      "source": [
        "type(list_from_file), list_from_file[-1]"
      ],
      "execution_count": 0,
      "outputs": [
        {
          "output_type": "display_data",
          "data": {
            "text/html": [
              "<style scoped>\n",
              "  .ansiout {\n",
              "    display: block;\n",
              "    unicode-bidi: embed;\n",
              "    white-space: pre-wrap;\n",
              "    word-wrap: break-word;\n",
              "    word-break: break-all;\n",
              "    font-family: \"Source Code Pro\", \"Menlo\", monospace;;\n",
              "    font-size: 13px;\n",
              "    color: #555;\n",
              "    margin-left: 4px;\n",
              "    line-height: 19px;\n",
              "  }\n",
              "</style>\n",
              "<div class=\"ansiout\"><span class=\"ansired\">Out[</span><span class=\"ansired\">52</span><span class=\"ansired\">]: </span>(list, 30)\n",
              "</div>"
            ]
          },
          "metadata": {
            "tags": []
          }
        }
      ]
    },
    {
      "cell_type": "markdown",
      "metadata": {
        "id": "-kqkNEagsKeX",
        "colab_type": "text"
      },
      "source": [
        "## 2. Dictionary example"
      ]
    },
    {
      "cell_type": "markdown",
      "metadata": {
        "id": "bbaspBwNsKeY",
        "colab_type": "text"
      },
      "source": [
        "The JSON text for this example comes from the file `simple_dict.json`, which is displayed below."
      ]
    },
    {
      "cell_type": "code",
      "metadata": {
        "id": "SaMuKmOnsKeY",
        "colab_type": "code",
        "colab": {
          "base_uri": "https://localhost:8080/",
          "height": 34
        },
        "outputId": "94d8f234-737d-4430-b1a1-bf44894b5f45"
      },
      "source": [
        "%%sh \n",
        "cat /content/file-samples/simple_dict.json"
      ],
      "execution_count": 23,
      "outputs": [
        {
          "output_type": "stream",
          "text": [
            "{\"a\":1, \"b\":2, \"c\":3}\n"
          ],
          "name": "stdout"
        }
      ]
    },
    {
      "cell_type": "markdown",
      "metadata": {
        "id": "OPotih9usKed",
        "colab_type": "text"
      },
      "source": [
        "The following code reads the contents of the file `simple_dict.json` into a Python dictionary."
      ]
    },
    {
      "cell_type": "code",
      "metadata": {
        "id": "iDphGpEpsKed",
        "colab_type": "code",
        "colab": {
          "base_uri": "https://localhost:8080/",
          "height": 34
        },
        "outputId": "35660200-083c-4eac-e718-b4f995f9e301"
      },
      "source": [
        "import json\n",
        "with open(\"/content/file-samples/simple_dict.json\", 'r') as infile:\n",
        "  dict_from_file = json.load(infile)\n",
        "\n",
        "dict_from_file"
      ],
      "execution_count": 25,
      "outputs": [
        {
          "output_type": "execute_result",
          "data": {
            "text/plain": [
              "{'a': 1, 'b': 2, 'c': 3}"
            ]
          },
          "metadata": {
            "tags": []
          },
          "execution_count": 25
        }
      ]
    },
    {
      "cell_type": "code",
      "metadata": {
        "id": "QX3RvcKlsKeh",
        "colab_type": "code",
        "colab": {},
        "outputId": "72307398-f40f-4caf-f8ea-278ab0a58d74"
      },
      "source": [
        "dict_from_file.get('b')"
      ],
      "execution_count": 0,
      "outputs": [
        {
          "output_type": "display_data",
          "data": {
            "text/html": [
              "<style scoped>\n",
              "  .ansiout {\n",
              "    display: block;\n",
              "    unicode-bidi: embed;\n",
              "    white-space: pre-wrap;\n",
              "    word-wrap: break-word;\n",
              "    word-break: break-all;\n",
              "    font-family: \"Source Code Pro\", \"Menlo\", monospace;;\n",
              "    font-size: 13px;\n",
              "    color: #555;\n",
              "    margin-left: 4px;\n",
              "    line-height: 19px;\n",
              "  }\n",
              "</style>\n",
              "<div class=\"ansiout\"><span class=\"ansired\">Out[</span><span class=\"ansired\">22</span><span class=\"ansired\">]: </span>2\n",
              "</div>"
            ]
          },
          "metadata": {
            "tags": []
          }
        }
      ]
    },
    {
      "cell_type": "markdown",
      "metadata": {
        "id": "aFKVdnkMsKej",
        "colab_type": "text"
      },
      "source": [
        "## 3. Mixed examples"
      ]
    },
    {
      "cell_type": "markdown",
      "metadata": {
        "id": "YIh_QM7EsKek",
        "colab_type": "text"
      },
      "source": [
        "This section contains two examples, each in a section:\n",
        "1. Dictionary of lists\n",
        "1. List of dictionaries"
      ]
    },
    {
      "cell_type": "markdown",
      "metadata": {
        "id": "MXKu7OAHsKel",
        "colab_type": "text"
      },
      "source": [
        "### 3.1 Dictionary of lists"
      ]
    },
    {
      "cell_type": "code",
      "metadata": {
        "id": "lyHy_H9LsKen",
        "colab_type": "code",
        "colab": {
          "base_uri": "https://localhost:8080/",
          "height": 34
        },
        "outputId": "d3d48cca-00bc-40ec-8a32-4d296f427a82"
      },
      "source": [
        "%%sh \n",
        "cat /content/file-samples/dict_of_lists.json"
      ],
      "execution_count": 26,
      "outputs": [
        {
          "output_type": "stream",
          "text": [
            "{\"a\":[1,2,3], \"b\":[4,5,6], \"c\":[7,8,9]}\n"
          ],
          "name": "stdout"
        }
      ]
    },
    {
      "cell_type": "markdown",
      "metadata": {
        "id": "naFJkBq5sKep",
        "colab_type": "text"
      },
      "source": [
        "The following code reads the contents of the file `dict_of_lists.json` into a Python dictionary."
      ]
    },
    {
      "cell_type": "code",
      "metadata": {
        "id": "XaWeG1CxsKep",
        "colab_type": "code",
        "colab": {
          "base_uri": "https://localhost:8080/",
          "height": 34
        },
        "outputId": "95bf9bf7-c50f-4fac-d9e7-ec88853e10c9"
      },
      "source": [
        "with open(\"/content/file-samples/dict_of_lists.json\", 'r') as infile:\n",
        "  dict_from_file = json.load(infile)\n",
        "\n",
        "dict_from_file"
      ],
      "execution_count": 27,
      "outputs": [
        {
          "output_type": "execute_result",
          "data": {
            "text/plain": [
              "{'a': [1, 2, 3], 'b': [4, 5, 6], 'c': [7, 8, 9]}"
            ]
          },
          "metadata": {
            "tags": []
          },
          "execution_count": 27
        }
      ]
    },
    {
      "cell_type": "code",
      "metadata": {
        "id": "r7_RLrVMsKew",
        "colab_type": "code",
        "colab": {},
        "outputId": "04c737f5-1ca7-4bb1-beda-57a6833be711"
      },
      "source": [
        "type(dict_from_file)"
      ],
      "execution_count": 0,
      "outputs": [
        {
          "output_type": "display_data",
          "data": {
            "text/html": [
              "<style scoped>\n",
              "  .ansiout {\n",
              "    display: block;\n",
              "    unicode-bidi: embed;\n",
              "    white-space: pre-wrap;\n",
              "    word-wrap: break-word;\n",
              "    word-break: break-all;\n",
              "    font-family: \"Source Code Pro\", \"Menlo\", monospace;;\n",
              "    font-size: 13px;\n",
              "    color: #555;\n",
              "    margin-left: 4px;\n",
              "    line-height: 19px;\n",
              "  }\n",
              "</style>\n",
              "<div class=\"ansiout\"><span class=\"ansired\">Out[</span><span class=\"ansired\">57</span><span class=\"ansired\">]: </span>dict\n",
              "</div>"
            ]
          },
          "metadata": {
            "tags": []
          }
        }
      ]
    },
    {
      "cell_type": "code",
      "metadata": {
        "id": "6VHnrWB1sKey",
        "colab_type": "code",
        "colab": {},
        "outputId": "accf7590-3c22-44b9-b3c8-52cc6297810a"
      },
      "source": [
        "dict_from_file.get('b')"
      ],
      "execution_count": 0,
      "outputs": [
        {
          "output_type": "display_data",
          "data": {
            "text/html": [
              "<style scoped>\n",
              "  .ansiout {\n",
              "    display: block;\n",
              "    unicode-bidi: embed;\n",
              "    white-space: pre-wrap;\n",
              "    word-wrap: break-word;\n",
              "    word-break: break-all;\n",
              "    font-family: \"Source Code Pro\", \"Menlo\", monospace;;\n",
              "    font-size: 13px;\n",
              "    color: #555;\n",
              "    margin-left: 4px;\n",
              "    line-height: 19px;\n",
              "  }\n",
              "</style>\n",
              "<div class=\"ansiout\"><span class=\"ansired\">Out[</span><span class=\"ansired\">38</span><span class=\"ansired\">]: </span>[4, 5, 6]\n",
              "</div>"
            ]
          },
          "metadata": {
            "tags": []
          }
        }
      ]
    },
    {
      "cell_type": "code",
      "metadata": {
        "id": "aBLIugSasKe0",
        "colab_type": "code",
        "colab": {},
        "outputId": "079588cc-06c2-4812-c9ed-58f0b9ecb46a"
      },
      "source": [
        "dict_from_file.get('b')[2]"
      ],
      "execution_count": 0,
      "outputs": [
        {
          "output_type": "display_data",
          "data": {
            "text/html": [
              "<style scoped>\n",
              "  .ansiout {\n",
              "    display: block;\n",
              "    unicode-bidi: embed;\n",
              "    white-space: pre-wrap;\n",
              "    word-wrap: break-word;\n",
              "    word-break: break-all;\n",
              "    font-family: \"Source Code Pro\", \"Menlo\", monospace;;\n",
              "    font-size: 13px;\n",
              "    color: #555;\n",
              "    margin-left: 4px;\n",
              "    line-height: 19px;\n",
              "  }\n",
              "</style>\n",
              "<div class=\"ansiout\"><span class=\"ansired\">Out[</span><span class=\"ansired\">41</span><span class=\"ansired\">]: </span>6\n",
              "</div>"
            ]
          },
          "metadata": {
            "tags": []
          }
        }
      ]
    },
    {
      "cell_type": "markdown",
      "metadata": {
        "id": "l6bPQSL4sKe3",
        "colab_type": "text"
      },
      "source": [
        "### 3.2 List of dictionaries"
      ]
    },
    {
      "cell_type": "code",
      "metadata": {
        "id": "uuW_45ypsKe9",
        "colab_type": "code",
        "colab": {
          "base_uri": "https://localhost:8080/",
          "height": 34
        },
        "outputId": "4a5f95e5-c40e-42c8-889c-49e2e48a81b6"
      },
      "source": [
        "%%sh \n",
        "cat /content/file-samples/list_of_dicts.json"
      ],
      "execution_count": 28,
      "outputs": [
        {
          "output_type": "stream",
          "text": [
            "[{\"a\":1, \"b\":2, \"c\":3}, {\"d\":4, \"e\":5, \"f\":6}]\n"
          ],
          "name": "stdout"
        }
      ]
    },
    {
      "cell_type": "markdown",
      "metadata": {
        "id": "m3xBftptsKe_",
        "colab_type": "text"
      },
      "source": [
        "The following code reads the contents of the file `list_of_dicts.json` into a Python list with items that are dictionaries."
      ]
    },
    {
      "cell_type": "code",
      "metadata": {
        "id": "C3xyXJV2sKfA",
        "colab_type": "code",
        "colab": {
          "base_uri": "https://localhost:8080/",
          "height": 34
        },
        "outputId": "292851af-ccbe-4d9c-afd0-a1cea446c950"
      },
      "source": [
        "with open(\"/content/file-samples/list_of_dicts.json\", 'r') as infile:\n",
        "  dict_from_file = json.load(infile)\n",
        "\n",
        "dict_from_file"
      ],
      "execution_count": 29,
      "outputs": [
        {
          "output_type": "execute_result",
          "data": {
            "text/plain": [
              "[{'a': 1, 'b': 2, 'c': 3}, {'d': 4, 'e': 5, 'f': 6}]"
            ]
          },
          "metadata": {
            "tags": []
          },
          "execution_count": 29
        }
      ]
    },
    {
      "cell_type": "code",
      "metadata": {
        "id": "iBOdrolCsKfB",
        "colab_type": "code",
        "colab": {},
        "outputId": "91619317-ac3b-492c-f28c-5d075a64dd95"
      },
      "source": [
        "type(dict_from_file), dict_from_file[1]"
      ],
      "execution_count": 0,
      "outputs": [
        {
          "output_type": "display_data",
          "data": {
            "text/html": [
              "<style scoped>\n",
              "  .ansiout {\n",
              "    display: block;\n",
              "    unicode-bidi: embed;\n",
              "    white-space: pre-wrap;\n",
              "    word-wrap: break-word;\n",
              "    word-break: break-all;\n",
              "    font-family: \"Source Code Pro\", \"Menlo\", monospace;;\n",
              "    font-size: 13px;\n",
              "    color: #555;\n",
              "    margin-left: 4px;\n",
              "    line-height: 19px;\n",
              "  }\n",
              "</style>\n",
              "<div class=\"ansiout\"><span class=\"ansired\">Out[</span><span class=\"ansired\">60</span><span class=\"ansired\">]: </span>(list, {&apos;e&apos;: 5, &apos;f&apos;: 6, &apos;d&apos;: 4})\n",
              "</div>"
            ]
          },
          "metadata": {
            "tags": []
          }
        }
      ]
    },
    {
      "cell_type": "code",
      "metadata": {
        "id": "H-gtPjZDsKfD",
        "colab_type": "code",
        "colab": {},
        "outputId": "b81d5430-41ea-4318-d277-a7a19b464cf0"
      },
      "source": [
        "dict_from_file[1].get('d')"
      ],
      "execution_count": 0,
      "outputs": [
        {
          "output_type": "display_data",
          "data": {
            "text/html": [
              "<style scoped>\n",
              "  .ansiout {\n",
              "    display: block;\n",
              "    unicode-bidi: embed;\n",
              "    white-space: pre-wrap;\n",
              "    word-wrap: break-word;\n",
              "    word-break: break-all;\n",
              "    font-family: \"Source Code Pro\", \"Menlo\", monospace;;\n",
              "    font-size: 13px;\n",
              "    color: #555;\n",
              "    margin-left: 4px;\n",
              "    line-height: 19px;\n",
              "  }\n",
              "</style>\n",
              "<div class=\"ansiout\"><span class=\"ansired\">Out[</span><span class=\"ansired\">44</span><span class=\"ansired\">]: </span>4\n",
              "</div>"
            ]
          },
          "metadata": {
            "tags": []
          }
        }
      ]
    },
    {
      "cell_type": "markdown",
      "metadata": {
        "id": "7p8NpixbsKfF",
        "colab_type": "text"
      },
      "source": [
        "## 4. More realistic examples"
      ]
    },
    {
      "cell_type": "markdown",
      "metadata": {
        "id": "G0s16Mk2sKfH",
        "colab_type": "text"
      },
      "source": [
        "The three subsections below demonstrate three ways in which tables are stored in JSON formatted files. \n",
        "These three ways are distinguished by the format of JSON data stored in the file to be read. \n",
        "The JSON data is: \n",
        "1. A list of dictionaries\n",
        "1. A dictionary contains a list of dictionaries\n",
        "1. Each line of the file is a dictionary\n",
        "\n",
        "In each of the three cases above, the dictionaries correspond to records of the table stored in the file."
      ]
    },
    {
      "cell_type": "markdown",
      "metadata": {
        "id": "dB-Ff3w4sKfI",
        "colab_type": "text"
      },
      "source": [
        "### 4.1 Dataset from a single list of JSON records"
      ]
    },
    {
      "cell_type": "code",
      "metadata": {
        "id": "6dkE514qsKfI",
        "colab_type": "code",
        "colab": {
          "base_uri": "https://localhost:8080/",
          "height": 374
        },
        "outputId": "90f8cdfa-e1ae-4046-f32e-6f012b64c2bc"
      },
      "source": [
        "%%sh \n",
        "head -n 30 /content/file-samples/one_list.json"
      ],
      "execution_count": 30,
      "outputs": [
        {
          "output_type": "stream",
          "text": [
            "[{ \t\n",
            "\t\"id\": \"ae4d9000001\", \n",
            "\t\"product_name\": \"sildenafil citrate\", \n",
            "\t\"supplier\": \"Wisozk Inc\", \n",
            "\t\"quantity\": 261, \n",
            "\t\"unit_cost\": \"$10.47\" \n",
            "},\n",
            "{\n",
            "\t\"id\": \"ae4d9000002\", \n",
            "\t\"product_name\": \"Mountain Juniperus ashei\", \n",
            "\t\"supplier\": \"Keebler-Hilpert\", \n",
            "\t\"quantity\": 292, \n",
            "\t\"unit_cost\": \"$8.74\" \n",
            "},\n",
            "{\n",
            "\t\"id\": \"ae4d9000003\", \n",
            "\t\"product_name\": \"Dextromathorphan HBr\", \n",
            "\t\"supplier\": \"Schmitt-Weissnat\", \n",
            "\t\"quantity\": 211, \n",
            "\t\"unit_cost\": \"$20.53\" \n",
            "}]\n"
          ],
          "name": "stdout"
        }
      ]
    },
    {
      "cell_type": "markdown",
      "metadata": {
        "id": "_BTgCmLMsKfN",
        "colab_type": "text"
      },
      "source": [
        "The following code reads the contents of the file `one_list.json` into a Python list of dictionaries"
      ]
    },
    {
      "cell_type": "code",
      "metadata": {
        "id": "JifMIXHOsKfO",
        "colab_type": "code",
        "colab": {
          "base_uri": "https://localhost:8080/",
          "height": 272
        },
        "outputId": "663f89c7-5907-4cb7-a0cf-56b2bfa55482"
      },
      "source": [
        "import json\n",
        "with open('/content/file-samples/one_list.json', 'r') as infile:\n",
        "  dict_from_file = json.load(infile)\n",
        "  \n",
        "dict_from_file"
      ],
      "execution_count": 31,
      "outputs": [
        {
          "output_type": "execute_result",
          "data": {
            "text/plain": [
              "[{'id': 'ae4d9000001',\n",
              "  'product_name': 'sildenafil citrate',\n",
              "  'quantity': 261,\n",
              "  'supplier': 'Wisozk Inc',\n",
              "  'unit_cost': '$10.47'},\n",
              " {'id': 'ae4d9000002',\n",
              "  'product_name': 'Mountain Juniperus ashei',\n",
              "  'quantity': 292,\n",
              "  'supplier': 'Keebler-Hilpert',\n",
              "  'unit_cost': '$8.74'},\n",
              " {'id': 'ae4d9000003',\n",
              "  'product_name': 'Dextromathorphan HBr',\n",
              "  'quantity': 211,\n",
              "  'supplier': 'Schmitt-Weissnat',\n",
              "  'unit_cost': '$20.53'}]"
            ]
          },
          "metadata": {
            "tags": []
          },
          "execution_count": 31
        }
      ]
    },
    {
      "cell_type": "markdown",
      "metadata": {
        "id": "8HBJKhbjsKfP",
        "colab_type": "text"
      },
      "source": [
        "The pandas `DataFrame` constructor can take as input a list of dictionaries. \n",
        "\n",
        "The keys of the dictionaries are interpreted as column names."
      ]
    },
    {
      "cell_type": "code",
      "metadata": {
        "id": "xURth24UsKfQ",
        "colab_type": "code",
        "colab": {
          "base_uri": "https://localhost:8080/",
          "height": 142
        },
        "outputId": "5435cb97-207e-4b94-8844-cf7ba0562600"
      },
      "source": [
        "import pandas as pd \n",
        "pd.DataFrame(data=dict_from_file)"
      ],
      "execution_count": 32,
      "outputs": [
        {
          "output_type": "execute_result",
          "data": {
            "text/html": [
              "<div>\n",
              "<style scoped>\n",
              "    .dataframe tbody tr th:only-of-type {\n",
              "        vertical-align: middle;\n",
              "    }\n",
              "\n",
              "    .dataframe tbody tr th {\n",
              "        vertical-align: top;\n",
              "    }\n",
              "\n",
              "    .dataframe thead th {\n",
              "        text-align: right;\n",
              "    }\n",
              "</style>\n",
              "<table border=\"1\" class=\"dataframe\">\n",
              "  <thead>\n",
              "    <tr style=\"text-align: right;\">\n",
              "      <th></th>\n",
              "      <th>id</th>\n",
              "      <th>product_name</th>\n",
              "      <th>quantity</th>\n",
              "      <th>supplier</th>\n",
              "      <th>unit_cost</th>\n",
              "    </tr>\n",
              "  </thead>\n",
              "  <tbody>\n",
              "    <tr>\n",
              "      <th>0</th>\n",
              "      <td>ae4d9000001</td>\n",
              "      <td>sildenafil citrate</td>\n",
              "      <td>261</td>\n",
              "      <td>Wisozk Inc</td>\n",
              "      <td>$10.47</td>\n",
              "    </tr>\n",
              "    <tr>\n",
              "      <th>1</th>\n",
              "      <td>ae4d9000002</td>\n",
              "      <td>Mountain Juniperus ashei</td>\n",
              "      <td>292</td>\n",
              "      <td>Keebler-Hilpert</td>\n",
              "      <td>$8.74</td>\n",
              "    </tr>\n",
              "    <tr>\n",
              "      <th>2</th>\n",
              "      <td>ae4d9000003</td>\n",
              "      <td>Dextromathorphan HBr</td>\n",
              "      <td>211</td>\n",
              "      <td>Schmitt-Weissnat</td>\n",
              "      <td>$20.53</td>\n",
              "    </tr>\n",
              "  </tbody>\n",
              "</table>\n",
              "</div>"
            ],
            "text/plain": [
              "            id              product_name  quantity          supplier unit_cost\n",
              "0  ae4d9000001        sildenafil citrate       261        Wisozk Inc    $10.47\n",
              "1  ae4d9000002  Mountain Juniperus ashei       292   Keebler-Hilpert     $8.74\n",
              "2  ae4d9000003      Dextromathorphan HBr       211  Schmitt-Weissnat    $20.53"
            ]
          },
          "metadata": {
            "tags": []
          },
          "execution_count": 32
        }
      ]
    },
    {
      "cell_type": "markdown",
      "metadata": {
        "id": "VXmXfSV_sKfS",
        "colab_type": "text"
      },
      "source": [
        "### 4.2 Dataset from single dictionary"
      ]
    },
    {
      "cell_type": "code",
      "metadata": {
        "id": "F-nBxEHksKfS",
        "colab_type": "code",
        "colab": {
          "base_uri": "https://localhost:8080/",
          "height": 170
        },
        "outputId": "a32a4e9e-b96d-4bf0-8dac-9f535e3da508"
      },
      "source": [
        "%%sh \n",
        "head -n 9 /content/file-samples/one_dictionary.json"
      ],
      "execution_count": 33,
      "outputs": [
        {
          "output_type": "stream",
          "text": [
            "{\"metadata\": {\"author\": \"David Oury\", \"date\": \"18 Sep 2017\"}, \n",
            " \"data\": \n",
            "\t[{ \t\n",
            "\t\t\"id\": \"ae4d9000001\", \n",
            "\t\t\"product_name\": \"sildenafil citrate\", \n",
            "\t\t\"supplier\": \"Wisozk Inc\", \n",
            "\t\t\"quantity\": 261, \n",
            "\t\t\"unit_cost\": \"$10.47\" \n",
            "\t},\n"
          ],
          "name": "stdout"
        }
      ]
    },
    {
      "cell_type": "markdown",
      "metadata": {
        "id": "zHgAIAN_sKfU",
        "colab_type": "text"
      },
      "source": [
        "The following code reads the contents of the file `one_dictionary.json` into a Python dictionary.\n",
        "\n",
        "Notice that the last command converts the dictionary `my_dict_from_file['data']` into a Pandas dataframe."
      ]
    },
    {
      "cell_type": "code",
      "metadata": {
        "id": "QNaCE-6usKfU",
        "colab_type": "code",
        "colab": {
          "base_uri": "https://localhost:8080/",
          "height": 142
        },
        "outputId": "6a25c6c1-1114-476f-ad2c-e4df69bc9f9d"
      },
      "source": [
        "import pandas as pd\n",
        "with open('/content/file-samples/one_dictionary.json', 'r') as infile:\n",
        "  my_dict_from_file = json.load(infile)\n",
        "my_dict_from_file\n",
        "\n",
        "pd.DataFrame(data=my_dict_from_file['data'])"
      ],
      "execution_count": 35,
      "outputs": [
        {
          "output_type": "execute_result",
          "data": {
            "text/html": [
              "<div>\n",
              "<style scoped>\n",
              "    .dataframe tbody tr th:only-of-type {\n",
              "        vertical-align: middle;\n",
              "    }\n",
              "\n",
              "    .dataframe tbody tr th {\n",
              "        vertical-align: top;\n",
              "    }\n",
              "\n",
              "    .dataframe thead th {\n",
              "        text-align: right;\n",
              "    }\n",
              "</style>\n",
              "<table border=\"1\" class=\"dataframe\">\n",
              "  <thead>\n",
              "    <tr style=\"text-align: right;\">\n",
              "      <th></th>\n",
              "      <th>id</th>\n",
              "      <th>product_name</th>\n",
              "      <th>quantity</th>\n",
              "      <th>supplier</th>\n",
              "      <th>unit_cost</th>\n",
              "    </tr>\n",
              "  </thead>\n",
              "  <tbody>\n",
              "    <tr>\n",
              "      <th>0</th>\n",
              "      <td>ae4d9000001</td>\n",
              "      <td>sildenafil citrate</td>\n",
              "      <td>261</td>\n",
              "      <td>Wisozk Inc</td>\n",
              "      <td>$10.47</td>\n",
              "    </tr>\n",
              "    <tr>\n",
              "      <th>1</th>\n",
              "      <td>ae4d9000002</td>\n",
              "      <td>Mountain Juniperus ashei</td>\n",
              "      <td>292</td>\n",
              "      <td>Keebler-Hilpert</td>\n",
              "      <td>$8.74</td>\n",
              "    </tr>\n",
              "    <tr>\n",
              "      <th>2</th>\n",
              "      <td>ae4d9000003</td>\n",
              "      <td>Dextromathorphan HBr</td>\n",
              "      <td>211</td>\n",
              "      <td>Schmitt-Weissnat</td>\n",
              "      <td>$20.53</td>\n",
              "    </tr>\n",
              "  </tbody>\n",
              "</table>\n",
              "</div>"
            ],
            "text/plain": [
              "            id              product_name  quantity          supplier unit_cost\n",
              "0  ae4d9000001        sildenafil citrate       261        Wisozk Inc    $10.47\n",
              "1  ae4d9000002  Mountain Juniperus ashei       292   Keebler-Hilpert     $8.74\n",
              "2  ae4d9000003      Dextromathorphan HBr       211  Schmitt-Weissnat    $20.53"
            ]
          },
          "metadata": {
            "tags": []
          },
          "execution_count": 35
        }
      ]
    },
    {
      "cell_type": "markdown",
      "metadata": {
        "id": "DBCHxidgsKfX",
        "colab_type": "text"
      },
      "source": [
        "### 4.3 Dataset from one JSON record per line (JSONL format)"
      ]
    },
    {
      "cell_type": "markdown",
      "metadata": {
        "id": "uJtOjgchsKfX",
        "colab_type": "text"
      },
      "source": [
        "This is a very brief introduction to the _line delimited_ JSON format. For details see\n",
        "- http://ndjson.org/\n",
        "- http://jsonlines.org/\n",
        "- [Wikipedia](https://en.wikipedia.org/wiki/JSON_streaming)\n",
        "\n",
        "The acronyms JSONL, NDJSON and LDJSON are equivalent terms and refer to a format where each line of a file contains a single JSON record which is a dictionary and describes a record of data."
      ]
    },
    {
      "cell_type": "code",
      "metadata": {
        "id": "YdBaVYSasKfY",
        "colab_type": "code",
        "colab": {
          "base_uri": "https://localhost:8080/",
          "height": 88
        },
        "outputId": "2f820bc2-0d54-450a-fd31-9f63163891d1"
      },
      "source": [
        "%%sh \n",
        "head -n 7 /content/file-samples/each_line.json"
      ],
      "execution_count": 36,
      "outputs": [
        {
          "output_type": "stream",
          "text": [
            "{ \"id\": \"ae4d9000001\", \"product_name\": \"sildenafil citrate\", \"supplier\": \"Wisozk Inc\", \"quantity\": 261, \"unit_cost\": \"$10.47\" }\n",
            "{ \"id\": \"ae4d9000002\", \"product_name\": \"Mountain Juniperus ashei\", \"supplier\": \"Keebler-Hilpert\", \"quantity\": 292, \"unit_cost\": \"$8.74\" }\n",
            "{ \"id\": \"ae4d9000003\", \"product_name\": \"Dextromathorphan HBr\", \"supplier\": \"Schmitt-Weissnat\", \"quantity\": 211, \"unit_cost\": \"$20.53\" }\n"
          ],
          "name": "stdout"
        }
      ]
    },
    {
      "cell_type": "markdown",
      "metadata": {
        "id": "U5x4uqj5sKfi",
        "colab_type": "text"
      },
      "source": [
        "This next example introduces the `jsonlines` package (from Python).\n",
        "\n",
        "The `open` function (in this package) reads a file in JSONL and returns a list of dictionaries."
      ]
    },
    {
      "cell_type": "code",
      "metadata": {
        "id": "yU4Pf-c3sKfi",
        "colab_type": "code",
        "colab": {
          "base_uri": "https://localhost:8080/",
          "height": 272
        },
        "outputId": "38914a10-9929-48b4-9adb-c319f2f27b6a"
      },
      "source": [
        "import pandas as pd\n",
        "import jsonlines\n",
        "list_of_dictionaries = list(jsonlines.open(\"/content/file-samples/each_line.json\"))\n",
        "list_of_dictionaries "
      ],
      "execution_count": 39,
      "outputs": [
        {
          "output_type": "execute_result",
          "data": {
            "text/plain": [
              "[{'id': 'ae4d9000001',\n",
              "  'product_name': 'sildenafil citrate',\n",
              "  'quantity': 261,\n",
              "  'supplier': 'Wisozk Inc',\n",
              "  'unit_cost': '$10.47'},\n",
              " {'id': 'ae4d9000002',\n",
              "  'product_name': 'Mountain Juniperus ashei',\n",
              "  'quantity': 292,\n",
              "  'supplier': 'Keebler-Hilpert',\n",
              "  'unit_cost': '$8.74'},\n",
              " {'id': 'ae4d9000003',\n",
              "  'product_name': 'Dextromathorphan HBr',\n",
              "  'quantity': 211,\n",
              "  'supplier': 'Schmitt-Weissnat',\n",
              "  'unit_cost': '$20.53'}]"
            ]
          },
          "metadata": {
            "tags": []
          },
          "execution_count": 39
        }
      ]
    },
    {
      "cell_type": "code",
      "metadata": {
        "id": "vqekkd8GsKfk",
        "colab_type": "code",
        "colab": {},
        "outputId": "31f492ca-0410-4fc9-b1d3-1f8d991e080a"
      },
      "source": [
        "%python\n",
        "pdf_from_list_of_dictionaries = pd.DataFrame(data=list_of_dictionaries)\n",
        "pdf_from_list_of_dictionaries"
      ],
      "execution_count": 0,
      "outputs": [
        {
          "output_type": "display_data",
          "data": {
            "text/html": [
              "<style scoped>\n",
              "  .ansiout {\n",
              "    display: block;\n",
              "    unicode-bidi: embed;\n",
              "    white-space: pre-wrap;\n",
              "    word-wrap: break-word;\n",
              "    word-break: break-all;\n",
              "    font-family: \"Source Code Pro\", \"Menlo\", monospace;;\n",
              "    font-size: 13px;\n",
              "    color: #555;\n",
              "    margin-left: 4px;\n",
              "    line-height: 19px;\n",
              "  }\n",
              "</style>\n",
              "<div class=\"ansiout\"><span class=\"ansired\">Out[</span><span class=\"ansired\">16</span><span class=\"ansired\">]: </span>\n",
              "            id              product_name  quantity          supplier unit_cost\n",
              "0  ae4d9000001        sildenafil citrate       261        Wisozk Inc    $10.47\n",
              "1  ae4d9000002  Mountain Juniperus ashei       292   Keebler-Hilpert     $8.74\n",
              "2  ae4d9000003      Dextromathorphan HBr       211  Schmitt-Weissnat    $20.53\n",
              "</div>"
            ]
          },
          "metadata": {
            "tags": []
          }
        }
      ]
    },
    {
      "cell_type": "code",
      "metadata": {
        "id": "enst4huEsKfr",
        "colab_type": "code",
        "colab": {},
        "outputId": "8ecc389d-8f9e-4fea-cc36-e9f67fb2ff16"
      },
      "source": [
        "%python\n",
        "pdf_from_list_of_dictionaries.info()"
      ],
      "execution_count": 0,
      "outputs": [
        {
          "output_type": "display_data",
          "data": {
            "text/html": [
              "<style scoped>\n",
              "  .ansiout {\n",
              "    display: block;\n",
              "    unicode-bidi: embed;\n",
              "    white-space: pre-wrap;\n",
              "    word-wrap: break-word;\n",
              "    word-break: break-all;\n",
              "    font-family: \"Source Code Pro\", \"Menlo\", monospace;;\n",
              "    font-size: 13px;\n",
              "    color: #555;\n",
              "    margin-left: 4px;\n",
              "    line-height: 19px;\n",
              "  }\n",
              "</style>\n",
              "<div class=\"ansiout\">&lt;class &apos;pandas.core.frame.DataFrame&apos;&gt;\n",
              "RangeIndex: 3 entries, 0 to 2\n",
              "Data columns (total 5 columns):\n",
              "id              3 non-null object\n",
              "product_name    3 non-null object\n",
              "quantity        3 non-null int64\n",
              "supplier        3 non-null object\n",
              "unit_cost       3 non-null object\n",
              "dtypes: int64(1), object(4)\n",
              "memory usage: 200.0+ bytes\n",
              "</div>"
            ]
          },
          "metadata": {
            "tags": []
          }
        }
      ]
    },
    {
      "cell_type": "markdown",
      "metadata": {
        "id": "sGubUiaysKfu",
        "colab_type": "text"
      },
      "source": [
        "__The End__"
      ]
    }
  ]
}