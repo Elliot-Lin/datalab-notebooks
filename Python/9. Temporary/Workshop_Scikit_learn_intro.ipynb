{
  "nbformat": 4,
  "nbformat_minor": 0,
  "metadata": {
    "colab": {
      "name": "Workshop - Scikit-learn intro.ipynb",
      "provenance": [],
      "include_colab_link": true
    },
    "kernelspec": {
      "name": "python3",
      "display_name": "Python 3"
    }
  },
  "cells": [
    {
      "cell_type": "markdown",
      "metadata": {
        "id": "view-in-github",
        "colab_type": "text"
      },
      "source": [
        "<a href=\"https://colab.research.google.com/github/data-space/datalab-notebooks/blob/master/Python/9.%20Temporary/Workshop_Scikit_learn_intro.ipynb\" target=\"_parent\"><img src=\"https://colab.research.google.com/assets/colab-badge.svg\" alt=\"Open In Colab\"/></a>"
      ]
    },
    {
      "cell_type": "markdown",
      "metadata": {
        "id": "fFXHs_P2WbZO",
        "colab_type": "text"
      },
      "source": [
        "# Scikit-learn Workshop - 19 Nov 2019"
      ]
    },
    {
      "cell_type": "markdown",
      "metadata": {
        "id": "F7CtX-dIbC3T",
        "colab_type": "text"
      },
      "source": [
        "## Setup"
      ]
    },
    {
      "cell_type": "code",
      "metadata": {
        "id": "qe-GKbtkXmcR",
        "colab_type": "code",
        "colab": {}
      },
      "source": [
        "import pandas  as pd\n",
        "import numpy   as np\n",
        "import sklearn as sk"
      ],
      "execution_count": 0,
      "outputs": []
    },
    {
      "cell_type": "markdown",
      "metadata": {
        "id": "3sAOET5FbHFf",
        "colab_type": "text"
      },
      "source": [
        "### Iris dataset"
      ]
    },
    {
      "cell_type": "code",
      "metadata": {
        "id": "YxeMQak9Xfq6",
        "colab_type": "code",
        "colab": {}
      },
      "source": [
        "import pandas as pd\n",
        "from sklearn.datasets import load_iris\n",
        "iris_features = load_iris().data[:,1:]\n",
        "iris_target   = load_iris().data[:,:1]"
      ],
      "execution_count": 0,
      "outputs": []
    },
    {
      "cell_type": "markdown",
      "metadata": {
        "id": "i9Px8AjybRg3",
        "colab_type": "text"
      },
      "source": [
        "### Diamonds dataset"
      ]
    },
    {
      "cell_type": "code",
      "metadata": {
        "id": "kNGfDb2OWZS3",
        "colab_type": "code",
        "outputId": "370c8dac-a9d1-44ab-f9d3-fea07ec9dd27",
        "colab": {
          "base_uri": "https://localhost:8080/",
          "height": 204
        }
      },
      "source": [
        "import pandas as pd\n",
        "diamonds_pdf = pd.read_csv('https://raw.githubusercontent.com/datalab-datasets/file-samples/master/diamonds.csv').drop(columns='Unnamed: 0')\n",
        "diamonds_pdf.columns\n",
        "diamonds_features = diamonds_pdf.drop(labels='price',axis=1)[['x','y','z']]\n",
        "diamonds_target = diamonds_pdf['price']\n",
        "diamonds_features.head()"
      ],
      "execution_count": 20,
      "outputs": [
        {
          "output_type": "execute_result",
          "data": {
            "text/html": [
              "<div>\n",
              "<style scoped>\n",
              "    .dataframe tbody tr th:only-of-type {\n",
              "        vertical-align: middle;\n",
              "    }\n",
              "\n",
              "    .dataframe tbody tr th {\n",
              "        vertical-align: top;\n",
              "    }\n",
              "\n",
              "    .dataframe thead th {\n",
              "        text-align: right;\n",
              "    }\n",
              "</style>\n",
              "<table border=\"1\" class=\"dataframe\">\n",
              "  <thead>\n",
              "    <tr style=\"text-align: right;\">\n",
              "      <th></th>\n",
              "      <th>x</th>\n",
              "      <th>y</th>\n",
              "      <th>z</th>\n",
              "    </tr>\n",
              "  </thead>\n",
              "  <tbody>\n",
              "    <tr>\n",
              "      <th>0</th>\n",
              "      <td>3.95</td>\n",
              "      <td>3.98</td>\n",
              "      <td>2.43</td>\n",
              "    </tr>\n",
              "    <tr>\n",
              "      <th>1</th>\n",
              "      <td>3.89</td>\n",
              "      <td>3.84</td>\n",
              "      <td>2.31</td>\n",
              "    </tr>\n",
              "    <tr>\n",
              "      <th>2</th>\n",
              "      <td>4.05</td>\n",
              "      <td>4.07</td>\n",
              "      <td>2.31</td>\n",
              "    </tr>\n",
              "    <tr>\n",
              "      <th>3</th>\n",
              "      <td>4.20</td>\n",
              "      <td>4.23</td>\n",
              "      <td>2.63</td>\n",
              "    </tr>\n",
              "    <tr>\n",
              "      <th>4</th>\n",
              "      <td>4.34</td>\n",
              "      <td>4.35</td>\n",
              "      <td>2.75</td>\n",
              "    </tr>\n",
              "  </tbody>\n",
              "</table>\n",
              "</div>"
            ],
            "text/plain": [
              "      x     y     z\n",
              "0  3.95  3.98  2.43\n",
              "1  3.89  3.84  2.31\n",
              "2  4.05  4.07  2.31\n",
              "3  4.20  4.23  2.63\n",
              "4  4.34  4.35  2.75"
            ]
          },
          "metadata": {
            "tags": []
          },
          "execution_count": 20
        }
      ]
    },
    {
      "cell_type": "code",
      "metadata": {
        "id": "J0JhJYRUaiNa",
        "colab_type": "code",
        "colab": {}
      },
      "source": [
        "def get_boston_housing_pdf(): # for boston housing dataset\n",
        "  from sklearn.datasets import load_boston\n",
        "  feature_names = [name.lower() \n",
        "                   for name in load_boston().get('feature_names').tolist()\n",
        "                  ]\n",
        "  features_pdf = pd.DataFrame(data=load_boston().get('data'),\n",
        "                              columns=feature_names\n",
        "                             )\n",
        "  target_pdf = pd.DataFrame(data={'price': load_boston().get('target')}\n",
        "                           )\n",
        "  return pd.concat([features_pdf, target_pdf],\n",
        "                   axis='columns',\n",
        "                   join='inner')"
      ],
      "execution_count": 0,
      "outputs": []
    },
    {
      "cell_type": "code",
      "metadata": {
        "id": "e6mVUuDpZ4kP",
        "colab_type": "code",
        "outputId": "d2325ae8-445a-4592-9709-a67b0a8c9042",
        "colab": {
          "base_uri": "https://localhost:8080/",
          "height": 204
        }
      },
      "source": [
        "boston_housing_pdf = get_boston_housing_pdf().select_dtypes(include=['float','int'])\n",
        "\n",
        "boston_housing_features = boston_housing_pdf.drop(labels='price',axis=1)\n",
        "boston_housing_target = boston_housing_pdf['price']\n",
        "boston_housing_features.head()"
      ],
      "execution_count": 22,
      "outputs": [
        {
          "output_type": "execute_result",
          "data": {
            "text/html": [
              "<div>\n",
              "<style scoped>\n",
              "    .dataframe tbody tr th:only-of-type {\n",
              "        vertical-align: middle;\n",
              "    }\n",
              "\n",
              "    .dataframe tbody tr th {\n",
              "        vertical-align: top;\n",
              "    }\n",
              "\n",
              "    .dataframe thead th {\n",
              "        text-align: right;\n",
              "    }\n",
              "</style>\n",
              "<table border=\"1\" class=\"dataframe\">\n",
              "  <thead>\n",
              "    <tr style=\"text-align: right;\">\n",
              "      <th></th>\n",
              "      <th>crim</th>\n",
              "      <th>zn</th>\n",
              "      <th>indus</th>\n",
              "      <th>chas</th>\n",
              "      <th>nox</th>\n",
              "      <th>rm</th>\n",
              "      <th>age</th>\n",
              "      <th>dis</th>\n",
              "      <th>rad</th>\n",
              "      <th>tax</th>\n",
              "      <th>ptratio</th>\n",
              "      <th>b</th>\n",
              "      <th>lstat</th>\n",
              "    </tr>\n",
              "  </thead>\n",
              "  <tbody>\n",
              "    <tr>\n",
              "      <th>0</th>\n",
              "      <td>0.00632</td>\n",
              "      <td>18.0</td>\n",
              "      <td>2.31</td>\n",
              "      <td>0.0</td>\n",
              "      <td>0.538</td>\n",
              "      <td>6.575</td>\n",
              "      <td>65.2</td>\n",
              "      <td>4.0900</td>\n",
              "      <td>1.0</td>\n",
              "      <td>296.0</td>\n",
              "      <td>15.3</td>\n",
              "      <td>396.90</td>\n",
              "      <td>4.98</td>\n",
              "    </tr>\n",
              "    <tr>\n",
              "      <th>1</th>\n",
              "      <td>0.02731</td>\n",
              "      <td>0.0</td>\n",
              "      <td>7.07</td>\n",
              "      <td>0.0</td>\n",
              "      <td>0.469</td>\n",
              "      <td>6.421</td>\n",
              "      <td>78.9</td>\n",
              "      <td>4.9671</td>\n",
              "      <td>2.0</td>\n",
              "      <td>242.0</td>\n",
              "      <td>17.8</td>\n",
              "      <td>396.90</td>\n",
              "      <td>9.14</td>\n",
              "    </tr>\n",
              "    <tr>\n",
              "      <th>2</th>\n",
              "      <td>0.02729</td>\n",
              "      <td>0.0</td>\n",
              "      <td>7.07</td>\n",
              "      <td>0.0</td>\n",
              "      <td>0.469</td>\n",
              "      <td>7.185</td>\n",
              "      <td>61.1</td>\n",
              "      <td>4.9671</td>\n",
              "      <td>2.0</td>\n",
              "      <td>242.0</td>\n",
              "      <td>17.8</td>\n",
              "      <td>392.83</td>\n",
              "      <td>4.03</td>\n",
              "    </tr>\n",
              "    <tr>\n",
              "      <th>3</th>\n",
              "      <td>0.03237</td>\n",
              "      <td>0.0</td>\n",
              "      <td>2.18</td>\n",
              "      <td>0.0</td>\n",
              "      <td>0.458</td>\n",
              "      <td>6.998</td>\n",
              "      <td>45.8</td>\n",
              "      <td>6.0622</td>\n",
              "      <td>3.0</td>\n",
              "      <td>222.0</td>\n",
              "      <td>18.7</td>\n",
              "      <td>394.63</td>\n",
              "      <td>2.94</td>\n",
              "    </tr>\n",
              "    <tr>\n",
              "      <th>4</th>\n",
              "      <td>0.06905</td>\n",
              "      <td>0.0</td>\n",
              "      <td>2.18</td>\n",
              "      <td>0.0</td>\n",
              "      <td>0.458</td>\n",
              "      <td>7.147</td>\n",
              "      <td>54.2</td>\n",
              "      <td>6.0622</td>\n",
              "      <td>3.0</td>\n",
              "      <td>222.0</td>\n",
              "      <td>18.7</td>\n",
              "      <td>396.90</td>\n",
              "      <td>5.33</td>\n",
              "    </tr>\n",
              "  </tbody>\n",
              "</table>\n",
              "</div>"
            ],
            "text/plain": [
              "      crim    zn  indus  chas    nox  ...  rad    tax  ptratio       b  lstat\n",
              "0  0.00632  18.0   2.31   0.0  0.538  ...  1.0  296.0     15.3  396.90   4.98\n",
              "1  0.02731   0.0   7.07   0.0  0.469  ...  2.0  242.0     17.8  396.90   9.14\n",
              "2  0.02729   0.0   7.07   0.0  0.469  ...  2.0  242.0     17.8  392.83   4.03\n",
              "3  0.03237   0.0   2.18   0.0  0.458  ...  3.0  222.0     18.7  394.63   2.94\n",
              "4  0.06905   0.0   2.18   0.0  0.458  ...  3.0  222.0     18.7  396.90   5.33\n",
              "\n",
              "[5 rows x 13 columns]"
            ]
          },
          "metadata": {
            "tags": []
          },
          "execution_count": 22
        }
      ]
    },
    {
      "cell_type": "markdown",
      "metadata": {
        "id": "nlIUMN51dWnv",
        "colab_type": "text"
      },
      "source": [
        "Our first step is to create a train dataset and a test dataset from our dataset, which is `iris_features` and `iris_target`. Use the `train_test_split` function from the `sklearn` library to do so. "
      ]
    },
    {
      "cell_type": "code",
      "metadata": {
        "id": "A0f-uxixdmnw",
        "colab_type": "code",
        "colab": {}
      },
      "source": [
        "from sklearn.model_selection import train_test_split\n",
        "iris_x_train, iris_x_test, iris_y_train, iris_y_test = train_test_split(iris_features,\n",
        "                                                                        iris_target)"
      ],
      "execution_count": 0,
      "outputs": []
    },
    {
      "cell_type": "markdown",
      "metadata": {
        "id": "Np1ufJPSduy_",
        "colab_type": "text"
      },
      "source": [
        "Notice that the train dataset is `iris_x_train` and `iris_y_train`, which correspond to the features and the target. "
      ]
    },
    {
      "cell_type": "markdown",
      "metadata": {
        "id": "mN5vf6aueC4d",
        "colab_type": "text"
      },
      "source": [
        "__Exercise__: create train and test datasets \n",
        "- for the `diamonds_features`, `diamonds_target` dataset called `diamonds_x_train`, `diamonds_x_test`, `diamonds_y_train`, `diamonds_y_test`\n",
        "- for the `boston_housing_features`,`boston_housing_target` dataset called `boston_x_train`, `boston_x_test`, `boston_y_train`, `boston_y_test`\n",
        "\n",
        "In both cases put the result of the "
      ]
    },
    {
      "cell_type": "markdown",
      "metadata": {
        "id": "dBfBItlkbli-",
        "colab_type": "text"
      },
      "source": [
        "## Algorithms to models to prediction"
      ]
    },
    {
      "cell_type": "markdown",
      "metadata": {
        "id": "cH3NMiyucbWS",
        "colab_type": "text"
      },
      "source": [
        "Linear regression is an algorithm. This algorithm (and many others) have parameters that determine how they work. The Scikit-learn version of the linear regression algorithm has parameters named `copy_X`, `fit_intercept`, `n_jobs`, `normalize`. The values indicated below are defaults. "
      ]
    },
    {
      "cell_type": "code",
      "metadata": {
        "id": "UPkRAT9kY2we",
        "colab_type": "code",
        "outputId": "ad4d2b26-2b58-4766-f0b9-599d891377a4",
        "colab": {
          "base_uri": "https://localhost:8080/",
          "height": 34
        }
      },
      "source": [
        "from sklearn.linear_model import LinearRegression\n",
        "iris_linreg_algorithm = LinearRegression()\n",
        "iris_linreg_algorithm"
      ],
      "execution_count": 26,
      "outputs": [
        {
          "output_type": "execute_result",
          "data": {
            "text/plain": [
              "LinearRegression(copy_X=True, fit_intercept=True, n_jobs=None, normalize=False)"
            ]
          },
          "metadata": {
            "tags": []
          },
          "execution_count": 26
        }
      ]
    },
    {
      "cell_type": "markdown",
      "metadata": {
        "id": "VHpKtbbCfyfn",
        "colab_type": "text"
      },
      "source": [
        "__Exercise__: Create algorithm objects for diamonds and boston, named `diamonds_linreg_algorithm` and `boston_linreg_algorithm`."
      ]
    },
    {
      "cell_type": "markdown",
      "metadata": {
        "id": "qQgG3AthdEG4",
        "colab_type": "text"
      },
      "source": [
        "Recall that algorithms take train datasets as input and produce models as output. We do this for the iris dataset below, using the `fit` method of the ."
      ]
    },
    {
      "cell_type": "code",
      "metadata": {
        "id": "PmmIZ4ObdKdW",
        "colab_type": "code",
        "outputId": "ad4e9729-6617-42e9-f8f9-7236ba33ec1a",
        "colab": {
          "base_uri": "https://localhost:8080/",
          "height": 34
        }
      },
      "source": [
        "iris_linreg_model = iris_linreg_algorithm.fit(X=iris_x_train,\n",
        "                                              y=iris_y_train)\n",
        "iris_linreg_model"
      ],
      "execution_count": 27,
      "outputs": [
        {
          "output_type": "execute_result",
          "data": {
            "text/plain": [
              "LinearRegression(copy_X=True, fit_intercept=True, n_jobs=None, normalize=False)"
            ]
          },
          "metadata": {
            "tags": []
          },
          "execution_count": 27
        }
      ]
    },
    {
      "cell_type": "markdown",
      "metadata": {
        "id": "WPB2QV1BgLZb",
        "colab_type": "text"
      },
      "source": [
        "__Exercise__: Create model objects for diamonds and boston, named `diamonds_linreg_model` and `boston_linreg_model`. Use the corresponding train dataset."
      ]
    },
    {
      "cell_type": "markdown",
      "metadata": {
        "id": "b_3mpmN1hSC8",
        "colab_type": "text"
      },
      "source": [
        "Recall that models take test datasets as input and produce predictions as output. We do this for the iris dataset below, using the `predict` method."
      ]
    },
    {
      "cell_type": "code",
      "metadata": {
        "id": "uimU_i8_hRoz",
        "colab_type": "code",
        "outputId": "fabf1d67-e7dd-4fc9-9835-f13cd55d527f",
        "colab": {
          "base_uri": "https://localhost:8080/",
          "height": 1000
        }
      },
      "source": [
        "iris_linreg_predictions = iris_linreg_model.predict(X=iris_x_train)\n",
        "iris_linreg_predictions"
      ],
      "execution_count": 28,
      "outputs": [
        {
          "output_type": "execute_result",
          "data": {
            "text/plain": [
              "array([[5.85393458],\n",
              "       [4.80533528],\n",
              "       [6.09997492],\n",
              "       [6.06442704],\n",
              "       [5.71771392],\n",
              "       [5.13308871],\n",
              "       [5.69636167],\n",
              "       [6.08577928],\n",
              "       [4.94077246],\n",
              "       [6.15130645],\n",
              "       [6.71765892],\n",
              "       [5.91242273],\n",
              "       [6.08419126],\n",
              "       [4.05818495],\n",
              "       [5.59052257],\n",
              "       [4.88745064],\n",
              "       [6.04904565],\n",
              "       [4.97482885],\n",
              "       [6.72320646],\n",
              "       [4.87602877],\n",
              "       [6.10156294],\n",
              "       [6.9072014 ],\n",
              "       [5.98072366],\n",
              "       [7.20893506],\n",
              "       [6.87364381],\n",
              "       [5.21996812],\n",
              "       [6.39258273],\n",
              "       [4.73305377],\n",
              "       [5.10161793],\n",
              "       [5.99373355],\n",
              "       [4.80533528],\n",
              "       [6.43448269],\n",
              "       [7.80050277],\n",
              "       [6.53953831],\n",
              "       [5.21996812],\n",
              "       [7.21369912],\n",
              "       [5.0126517 ],\n",
              "       [5.46600846],\n",
              "       [5.54930956],\n",
              "       [6.37957285],\n",
              "       [6.27650751],\n",
              "       [6.52095983],\n",
              "       [6.50159787],\n",
              "       [4.50637539],\n",
              "       [5.01106368],\n",
              "       [6.22240221],\n",
              "       [4.73305377],\n",
              "       [5.37754102],\n",
              "       [6.2930957 ],\n",
              "       [6.11575857],\n",
              "       [5.39372695],\n",
              "       [5.6162366 ],\n",
              "       [6.558498  ],\n",
              "       [6.17424672],\n",
              "       [5.96534228],\n",
              "       [6.13670855],\n",
              "       [5.45032134],\n",
              "       [6.46486424],\n",
              "       [6.29269343],\n",
              "       [6.44948286],\n",
              "       [6.84127197],\n",
              "       [5.17072341],\n",
              "       [6.6583873 ],\n",
              "       [4.79739519],\n",
              "       [4.94513424],\n",
              "       [5.11095298],\n",
              "       [5.08334519],\n",
              "       [6.4550304 ],\n",
              "       [5.56957259],\n",
              "       [6.2389904 ],\n",
              "       [4.92617455],\n",
              "       [6.58380976],\n",
              "       [5.61107028],\n",
              "       [4.66236028],\n",
              "       [6.22041192],\n",
              "       [6.33101508],\n",
              "       [4.80374726],\n",
              "       [5.0126517 ],\n",
              "       [4.8069233 ],\n",
              "       [5.21520406],\n",
              "       [6.78636213],\n",
              "       [6.16908039],\n",
              "       [6.49098055],\n",
              "       [5.0356885 ],\n",
              "       [6.29428145],\n",
              "       [7.33612641],\n",
              "       [4.71845586],\n",
              "       [6.24057842],\n",
              "       [4.9068126 ],\n",
              "       [6.29586947],\n",
              "       [6.95028711],\n",
              "       [7.32152851],\n",
              "       [6.87681985],\n",
              "       [6.10632699],\n",
              "       [5.97875443],\n",
              "       [6.6955232 ],\n",
              "       [5.96970406],\n",
              "       [5.43771372],\n",
              "       [5.47127131],\n",
              "       [6.74685473],\n",
              "       [4.59643084],\n",
              "       [5.99214553],\n",
              "       [6.30729134],\n",
              "       [6.71884467],\n",
              "       [5.8555226 ],\n",
              "       [7.90674414],\n",
              "       [4.88903866],\n",
              "       [4.87285273],\n",
              "       [7.18561359],\n",
              "       [5.15403868],\n",
              "       [7.16594589],\n",
              "       [4.66553631]])"
            ]
          },
          "metadata": {
            "tags": []
          },
          "execution_count": 28
        }
      ]
    },
    {
      "cell_type": "markdown",
      "metadata": {
        "id": "Z7hGxa78flG8",
        "colab_type": "text"
      },
      "source": [
        "__Exercise__: Create predictions for diamonds and for boston named `diamonds_linreg_predictions` and `boston_linreg_predictions`."
      ]
    },
    {
      "cell_type": "code",
      "metadata": {
        "id": "2ldBvPp4ihBe",
        "colab_type": "code",
        "outputId": "85d4273f-fa10-4bcd-db5e-065d06d98302",
        "colab": {
          "base_uri": "https://localhost:8080/",
          "height": 34
        }
      },
      "source": [
        "iris_linreg_model.score(X=iris_x_test,\n",
        "                        y=iris_y_test)"
      ],
      "execution_count": 29,
      "outputs": [
        {
          "output_type": "execute_result",
          "data": {
            "text/plain": [
              "0.8105684480580035"
            ]
          },
          "metadata": {
            "tags": []
          },
          "execution_count": 29
        }
      ]
    },
    {
      "cell_type": "markdown",
      "metadata": {
        "id": "2HGPljZQieLR",
        "colab_type": "text"
      },
      "source": [
        ""
      ]
    },
    {
      "cell_type": "markdown",
      "metadata": {
        "colab_type": "text",
        "id": "CWugEh70izUW"
      },
      "source": [
        "__Exercise__: Create a score for the predictions for diamonds and for boston named `diamonds_linreg_score` and `boston_linreg_score`."
      ]
    },
    {
      "cell_type": "markdown",
      "metadata": {
        "id": "LvYFD5lVq32-",
        "colab_type": "text"
      },
      "source": [
        "## Try other algorithms"
      ]
    },
    {
      "cell_type": "markdown",
      "metadata": {
        "id": "v_2nf9DCq-Uj",
        "colab_type": "text"
      },
      "source": [
        "Below we swap in the decision tree algorithm at the beginning of the sequence, but notice that the remaining steps are the same. "
      ]
    },
    {
      "cell_type": "code",
      "metadata": {
        "id": "lEqd0fjcrQbq",
        "colab_type": "code",
        "colab": {
          "base_uri": "https://localhost:8080/",
          "height": 102
        },
        "outputId": "d8c310fd-a5eb-4048-acd7-7aa705439e17"
      },
      "source": [
        "from sklearn.tree import DecisionTreeRegressor\n",
        "iris_decisiontree_algorithm = DecisionTreeRegressor()\n",
        "iris_decisiontree_algorithm"
      ],
      "execution_count": 30,
      "outputs": [
        {
          "output_type": "execute_result",
          "data": {
            "text/plain": [
              "DecisionTreeRegressor(criterion='mse', max_depth=None, max_features=None,\n",
              "                      max_leaf_nodes=None, min_impurity_decrease=0.0,\n",
              "                      min_impurity_split=None, min_samples_leaf=1,\n",
              "                      min_samples_split=2, min_weight_fraction_leaf=0.0,\n",
              "                      presort=False, random_state=None, splitter='best')"
            ]
          },
          "metadata": {
            "tags": []
          },
          "execution_count": 30
        }
      ]
    },
    {
      "cell_type": "code",
      "metadata": {
        "id": "FmXVGTTgrcvE",
        "colab_type": "code",
        "colab": {
          "base_uri": "https://localhost:8080/",
          "height": 102
        },
        "outputId": "0d651f5d-f8df-4b09-99ab-743f4c5f34a1"
      },
      "source": [
        "iris_decisiontree_model = iris_decisiontree_algorithm.fit(X=iris_x_train,\n",
        "                                                          y=iris_y_train)\n",
        "iris_decisiontree_model"
      ],
      "execution_count": 31,
      "outputs": [
        {
          "output_type": "execute_result",
          "data": {
            "text/plain": [
              "DecisionTreeRegressor(criterion='mse', max_depth=None, max_features=None,\n",
              "                      max_leaf_nodes=None, min_impurity_decrease=0.0,\n",
              "                      min_impurity_split=None, min_samples_leaf=1,\n",
              "                      min_samples_split=2, min_weight_fraction_leaf=0.0,\n",
              "                      presort=False, random_state=None, splitter='best')"
            ]
          },
          "metadata": {
            "tags": []
          },
          "execution_count": 31
        }
      ]
    },
    {
      "cell_type": "code",
      "metadata": {
        "id": "JL9yc6G5siMX",
        "colab_type": "code",
        "colab": {
          "base_uri": "https://localhost:8080/",
          "height": 34
        },
        "outputId": "e6345e27-3fc0-44af-be95-c78409e2706d"
      },
      "source": [
        "iris_decisiontree_score = iris_decisiontree_model.score(X=iris_x_test,\n",
        "                                                        y=iris_y_test)\n",
        "iris_decisiontree_score"
      ],
      "execution_count": 35,
      "outputs": [
        {
          "output_type": "execute_result",
          "data": {
            "text/plain": [
              "0.7467125624650874"
            ]
          },
          "metadata": {
            "tags": []
          },
          "execution_count": 35
        }
      ]
    },
    {
      "cell_type": "code",
      "metadata": {
        "id": "Adi5ELwKrchS",
        "colab_type": "code",
        "colab": {
          "base_uri": "https://localhost:8080/",
          "height": 85
        },
        "outputId": "fe0aa9a4-ca79-4489-aaa3-36cc9f3e71fd"
      },
      "source": [
        "iris_decisiontree_predictions = iris_decisiontree_model.predict(X=iris_x_test)\n",
        "iris_decisiontree_predictions"
      ],
      "execution_count": 33,
      "outputs": [
        {
          "output_type": "execute_result",
          "data": {
            "text/plain": [
              "array([5.8 , 4.9 , 5.35, 5.5 , 5.8 , 6.4 , 5.4 , 5.6 , 5.5 , 6.7 , 5.2 ,\n",
              "       6.6 , 5.35, 5.1 , 5.05, 6.4 , 6.4 , 5.1 , 6.5 , 6.4 , 5.35, 5.4 ,\n",
              "       5.7 , 6.7 , 5.35, 5.6 , 5.6 , 4.9 , 6.7 , 6.3 , 6.8 , 6.1 , 5.  ,\n",
              "       4.75, 5.4 , 6.4 , 6.8 , 5.1 ])"
            ]
          },
          "metadata": {
            "tags": []
          },
          "execution_count": 33
        }
      ]
    },
    {
      "cell_type": "markdown",
      "metadata": {
        "id": "kWWud8dWtodE",
        "colab_type": "text"
      },
      "source": [
        "Below the steps are run in a single code cell. "
      ]
    },
    {
      "cell_type": "code",
      "metadata": {
        "id": "EuT0Uwt-tzj0",
        "colab_type": "code",
        "colab": {
          "base_uri": "https://localhost:8080/",
          "height": 102
        },
        "outputId": "51fbaa58-b3e7-4186-c319-496624ef6e5c"
      },
      "source": [
        "from sklearn.tree import DecisionTreeRegressor\n",
        "iris_decisiontree_algorithm   = DecisionTreeRegressor()\n",
        "iris_decisiontree_model       = iris_decisiontree_algorithm.fit(X=iris_x_train,\n",
        "                                                                y=iris_y_train)\n",
        "iris_decisiontree_score       = iris_decisiontree_model.score(X=iris_x_test,\n",
        "                                                              y=iris_y_test)\n",
        "iris_decisiontree_predictions = iris_decisiontree_model.predict(X=iris_x_test)\n",
        "\n",
        "(iris_decisiontree_score, \n",
        " iris_decisiontree_predictions\n",
        ")"
      ],
      "execution_count": 40,
      "outputs": [
        {
          "output_type": "execute_result",
          "data": {
            "text/plain": [
              "(0.743413801953591,\n",
              " array([5.8 , 4.9 , 5.35, 5.5 , 5.8 , 6.4 , 5.4 , 5.6 , 5.5 , 6.7 , 5.2 ,\n",
              "        6.4 , 5.35, 5.1 , 5.05, 6.4 , 6.5 , 5.1 , 6.3 , 6.4 , 5.35, 5.4 ,\n",
              "        5.7 , 6.7 , 5.4 , 5.6 , 5.6 , 4.9 , 6.7 , 6.3 , 6.8 , 6.1 , 5.  ,\n",
              "        4.75, 5.  , 6.4 , 6.8 , 5.1 ]))"
            ]
          },
          "metadata": {
            "tags": []
          },
          "execution_count": 40
        }
      ]
    }
  ]
}