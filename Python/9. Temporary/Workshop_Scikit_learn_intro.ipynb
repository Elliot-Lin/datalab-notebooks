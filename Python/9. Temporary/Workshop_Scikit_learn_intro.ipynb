{
  "nbformat": 4,
  "nbformat_minor": 0,
  "metadata": {
    "colab": {
      "name": "Workshop - Scikit-learn intro.ipynb",
      "provenance": [],
      "include_colab_link": true
    },
    "kernelspec": {
      "name": "python3",
      "display_name": "Python 3"
    }
  },
  "cells": [
    {
      "cell_type": "markdown",
      "metadata": {
        "id": "view-in-github",
        "colab_type": "text"
      },
      "source": [
        "<a href=\"https://colab.research.google.com/github/data-space/datalab-notebooks/blob/master/Python/9.%20Temporary/Workshop_Scikit_learn_intro.ipynb\" target=\"_parent\"><img src=\"https://colab.research.google.com/assets/colab-badge.svg\" alt=\"Open In Colab\"/></a>"
      ]
    },
    {
      "cell_type": "markdown",
      "metadata": {
        "id": "fFXHs_P2WbZO",
        "colab_type": "text"
      },
      "source": [
        "# Scikit-learn Workshop - 19 Nov 2019"
      ]
    },
    {
      "cell_type": "markdown",
      "metadata": {
        "id": "F7CtX-dIbC3T",
        "colab_type": "text"
      },
      "source": [
        "## Setup"
      ]
    },
    {
      "cell_type": "code",
      "metadata": {
        "id": "qe-GKbtkXmcR",
        "colab_type": "code",
        "colab": {}
      },
      "source": [
        "import pandas  as pd\n",
        "import numpy   as np\n",
        "import sklearn as sk"
      ],
      "execution_count": 0,
      "outputs": []
    },
    {
      "cell_type": "markdown",
      "metadata": {
        "id": "3sAOET5FbHFf",
        "colab_type": "text"
      },
      "source": [
        "### Iris dataset"
      ]
    },
    {
      "cell_type": "code",
      "metadata": {
        "id": "YxeMQak9Xfq6",
        "colab_type": "code",
        "colab": {}
      },
      "source": [
        "import pandas as pd\n",
        "from sklearn.datasets import load_iris\n",
        "iris_features = load_iris().data[:,1:]\n",
        "iris_target   = load_iris().data[:,0]"
      ],
      "execution_count": 0,
      "outputs": []
    },
    {
      "cell_type": "markdown",
      "metadata": {
        "id": "i9Px8AjybRg3",
        "colab_type": "text"
      },
      "source": [
        "### Diamonds dataset"
      ]
    },
    {
      "cell_type": "code",
      "metadata": {
        "id": "kNGfDb2OWZS3",
        "colab_type": "code",
        "outputId": "b3cecdce-7235-4e82-fa0d-1b944137d4ab",
        "colab": {
          "base_uri": "https://localhost:8080/",
          "height": 204
        }
      },
      "source": [
        "import pandas as pd\n",
        "diamonds_pdf = pd.read_csv('https://raw.githubusercontent.com/datalab-datasets/file-samples/master/diamonds.csv').drop(columns='Unnamed: 0')\n",
        "diamonds_pdf.columns\n",
        "diamonds_features = diamonds_pdf.drop(labels='price',axis=1)[['x','y','z']]\n",
        "diamonds_target = diamonds_pdf['price']\n",
        "diamonds_features.head()"
      ],
      "execution_count": 3,
      "outputs": [
        {
          "output_type": "execute_result",
          "data": {
            "text/html": [
              "<div>\n",
              "<style scoped>\n",
              "    .dataframe tbody tr th:only-of-type {\n",
              "        vertical-align: middle;\n",
              "    }\n",
              "\n",
              "    .dataframe tbody tr th {\n",
              "        vertical-align: top;\n",
              "    }\n",
              "\n",
              "    .dataframe thead th {\n",
              "        text-align: right;\n",
              "    }\n",
              "</style>\n",
              "<table border=\"1\" class=\"dataframe\">\n",
              "  <thead>\n",
              "    <tr style=\"text-align: right;\">\n",
              "      <th></th>\n",
              "      <th>x</th>\n",
              "      <th>y</th>\n",
              "      <th>z</th>\n",
              "    </tr>\n",
              "  </thead>\n",
              "  <tbody>\n",
              "    <tr>\n",
              "      <th>0</th>\n",
              "      <td>3.95</td>\n",
              "      <td>3.98</td>\n",
              "      <td>2.43</td>\n",
              "    </tr>\n",
              "    <tr>\n",
              "      <th>1</th>\n",
              "      <td>3.89</td>\n",
              "      <td>3.84</td>\n",
              "      <td>2.31</td>\n",
              "    </tr>\n",
              "    <tr>\n",
              "      <th>2</th>\n",
              "      <td>4.05</td>\n",
              "      <td>4.07</td>\n",
              "      <td>2.31</td>\n",
              "    </tr>\n",
              "    <tr>\n",
              "      <th>3</th>\n",
              "      <td>4.20</td>\n",
              "      <td>4.23</td>\n",
              "      <td>2.63</td>\n",
              "    </tr>\n",
              "    <tr>\n",
              "      <th>4</th>\n",
              "      <td>4.34</td>\n",
              "      <td>4.35</td>\n",
              "      <td>2.75</td>\n",
              "    </tr>\n",
              "  </tbody>\n",
              "</table>\n",
              "</div>"
            ],
            "text/plain": [
              "      x     y     z\n",
              "0  3.95  3.98  2.43\n",
              "1  3.89  3.84  2.31\n",
              "2  4.05  4.07  2.31\n",
              "3  4.20  4.23  2.63\n",
              "4  4.34  4.35  2.75"
            ]
          },
          "metadata": {
            "tags": []
          },
          "execution_count": 3
        }
      ]
    },
    {
      "cell_type": "code",
      "metadata": {
        "id": "J0JhJYRUaiNa",
        "colab_type": "code",
        "colab": {}
      },
      "source": [
        "def get_boston_housing_pdf(): # for boston housing dataset\n",
        "  from sklearn.datasets import load_boston\n",
        "  feature_names = [name.lower() \n",
        "                   for name in load_boston().get('feature_names').tolist()\n",
        "                  ]\n",
        "  features_pdf = pd.DataFrame(data=load_boston().get('data'),\n",
        "                              columns=feature_names\n",
        "                             )\n",
        "  target_pdf = pd.DataFrame(data={'price': load_boston().get('target')}\n",
        "                           )\n",
        "  return pd.concat([features_pdf, target_pdf],\n",
        "                   axis='columns',\n",
        "                   join='inner')"
      ],
      "execution_count": 0,
      "outputs": []
    },
    {
      "cell_type": "code",
      "metadata": {
        "id": "e6mVUuDpZ4kP",
        "colab_type": "code",
        "outputId": "f364a7a2-61f5-47b7-859c-30a002ab455f",
        "colab": {
          "base_uri": "https://localhost:8080/",
          "height": 419
        }
      },
      "source": [
        "boston_housing_pdf = get_boston_housing_pdf().select_dtypes(include=['float','int'])\n",
        "\n",
        "boston_housing_features = boston_housing_pdf.drop(labels='price',axis=1)\n",
        "boston_housing_target = boston_housing_pdf['price']\n",
        "boston_housing_features.head()"
      ],
      "execution_count": 5,
      "outputs": [
        {
          "output_type": "execute_result",
          "data": {
            "text/html": [
              "<div>\n",
              "<style scoped>\n",
              "    .dataframe tbody tr th:only-of-type {\n",
              "        vertical-align: middle;\n",
              "    }\n",
              "\n",
              "    .dataframe tbody tr th {\n",
              "        vertical-align: top;\n",
              "    }\n",
              "\n",
              "    .dataframe thead th {\n",
              "        text-align: right;\n",
              "    }\n",
              "</style>\n",
              "<table border=\"1\" class=\"dataframe\">\n",
              "  <thead>\n",
              "    <tr style=\"text-align: right;\">\n",
              "      <th></th>\n",
              "      <th>crim</th>\n",
              "      <th>zn</th>\n",
              "      <th>indus</th>\n",
              "      <th>chas</th>\n",
              "      <th>nox</th>\n",
              "      <th>rm</th>\n",
              "      <th>age</th>\n",
              "      <th>dis</th>\n",
              "      <th>rad</th>\n",
              "      <th>tax</th>\n",
              "      <th>ptratio</th>\n",
              "      <th>b</th>\n",
              "      <th>lstat</th>\n",
              "    </tr>\n",
              "  </thead>\n",
              "  <tbody>\n",
              "    <tr>\n",
              "      <th>0</th>\n",
              "      <td>0.00632</td>\n",
              "      <td>18.0</td>\n",
              "      <td>2.31</td>\n",
              "      <td>0.0</td>\n",
              "      <td>0.538</td>\n",
              "      <td>6.575</td>\n",
              "      <td>65.2</td>\n",
              "      <td>4.0900</td>\n",
              "      <td>1.0</td>\n",
              "      <td>296.0</td>\n",
              "      <td>15.3</td>\n",
              "      <td>396.90</td>\n",
              "      <td>4.98</td>\n",
              "    </tr>\n",
              "    <tr>\n",
              "      <th>1</th>\n",
              "      <td>0.02731</td>\n",
              "      <td>0.0</td>\n",
              "      <td>7.07</td>\n",
              "      <td>0.0</td>\n",
              "      <td>0.469</td>\n",
              "      <td>6.421</td>\n",
              "      <td>78.9</td>\n",
              "      <td>4.9671</td>\n",
              "      <td>2.0</td>\n",
              "      <td>242.0</td>\n",
              "      <td>17.8</td>\n",
              "      <td>396.90</td>\n",
              "      <td>9.14</td>\n",
              "    </tr>\n",
              "    <tr>\n",
              "      <th>2</th>\n",
              "      <td>0.02729</td>\n",
              "      <td>0.0</td>\n",
              "      <td>7.07</td>\n",
              "      <td>0.0</td>\n",
              "      <td>0.469</td>\n",
              "      <td>7.185</td>\n",
              "      <td>61.1</td>\n",
              "      <td>4.9671</td>\n",
              "      <td>2.0</td>\n",
              "      <td>242.0</td>\n",
              "      <td>17.8</td>\n",
              "      <td>392.83</td>\n",
              "      <td>4.03</td>\n",
              "    </tr>\n",
              "    <tr>\n",
              "      <th>3</th>\n",
              "      <td>0.03237</td>\n",
              "      <td>0.0</td>\n",
              "      <td>2.18</td>\n",
              "      <td>0.0</td>\n",
              "      <td>0.458</td>\n",
              "      <td>6.998</td>\n",
              "      <td>45.8</td>\n",
              "      <td>6.0622</td>\n",
              "      <td>3.0</td>\n",
              "      <td>222.0</td>\n",
              "      <td>18.7</td>\n",
              "      <td>394.63</td>\n",
              "      <td>2.94</td>\n",
              "    </tr>\n",
              "    <tr>\n",
              "      <th>4</th>\n",
              "      <td>0.06905</td>\n",
              "      <td>0.0</td>\n",
              "      <td>2.18</td>\n",
              "      <td>0.0</td>\n",
              "      <td>0.458</td>\n",
              "      <td>7.147</td>\n",
              "      <td>54.2</td>\n",
              "      <td>6.0622</td>\n",
              "      <td>3.0</td>\n",
              "      <td>222.0</td>\n",
              "      <td>18.7</td>\n",
              "      <td>396.90</td>\n",
              "      <td>5.33</td>\n",
              "    </tr>\n",
              "    <tr>\n",
              "      <th>...</th>\n",
              "      <td>...</td>\n",
              "      <td>...</td>\n",
              "      <td>...</td>\n",
              "      <td>...</td>\n",
              "      <td>...</td>\n",
              "      <td>...</td>\n",
              "      <td>...</td>\n",
              "      <td>...</td>\n",
              "      <td>...</td>\n",
              "      <td>...</td>\n",
              "      <td>...</td>\n",
              "      <td>...</td>\n",
              "      <td>...</td>\n",
              "    </tr>\n",
              "    <tr>\n",
              "      <th>501</th>\n",
              "      <td>0.06263</td>\n",
              "      <td>0.0</td>\n",
              "      <td>11.93</td>\n",
              "      <td>0.0</td>\n",
              "      <td>0.573</td>\n",
              "      <td>6.593</td>\n",
              "      <td>69.1</td>\n",
              "      <td>2.4786</td>\n",
              "      <td>1.0</td>\n",
              "      <td>273.0</td>\n",
              "      <td>21.0</td>\n",
              "      <td>391.99</td>\n",
              "      <td>9.67</td>\n",
              "    </tr>\n",
              "    <tr>\n",
              "      <th>502</th>\n",
              "      <td>0.04527</td>\n",
              "      <td>0.0</td>\n",
              "      <td>11.93</td>\n",
              "      <td>0.0</td>\n",
              "      <td>0.573</td>\n",
              "      <td>6.120</td>\n",
              "      <td>76.7</td>\n",
              "      <td>2.2875</td>\n",
              "      <td>1.0</td>\n",
              "      <td>273.0</td>\n",
              "      <td>21.0</td>\n",
              "      <td>396.90</td>\n",
              "      <td>9.08</td>\n",
              "    </tr>\n",
              "    <tr>\n",
              "      <th>503</th>\n",
              "      <td>0.06076</td>\n",
              "      <td>0.0</td>\n",
              "      <td>11.93</td>\n",
              "      <td>0.0</td>\n",
              "      <td>0.573</td>\n",
              "      <td>6.976</td>\n",
              "      <td>91.0</td>\n",
              "      <td>2.1675</td>\n",
              "      <td>1.0</td>\n",
              "      <td>273.0</td>\n",
              "      <td>21.0</td>\n",
              "      <td>396.90</td>\n",
              "      <td>5.64</td>\n",
              "    </tr>\n",
              "    <tr>\n",
              "      <th>504</th>\n",
              "      <td>0.10959</td>\n",
              "      <td>0.0</td>\n",
              "      <td>11.93</td>\n",
              "      <td>0.0</td>\n",
              "      <td>0.573</td>\n",
              "      <td>6.794</td>\n",
              "      <td>89.3</td>\n",
              "      <td>2.3889</td>\n",
              "      <td>1.0</td>\n",
              "      <td>273.0</td>\n",
              "      <td>21.0</td>\n",
              "      <td>393.45</td>\n",
              "      <td>6.48</td>\n",
              "    </tr>\n",
              "    <tr>\n",
              "      <th>505</th>\n",
              "      <td>0.04741</td>\n",
              "      <td>0.0</td>\n",
              "      <td>11.93</td>\n",
              "      <td>0.0</td>\n",
              "      <td>0.573</td>\n",
              "      <td>6.030</td>\n",
              "      <td>80.8</td>\n",
              "      <td>2.5050</td>\n",
              "      <td>1.0</td>\n",
              "      <td>273.0</td>\n",
              "      <td>21.0</td>\n",
              "      <td>396.90</td>\n",
              "      <td>7.88</td>\n",
              "    </tr>\n",
              "  </tbody>\n",
              "</table>\n",
              "<p>506 rows × 13 columns</p>\n",
              "</div>"
            ],
            "text/plain": [
              "        crim    zn  indus  chas    nox  ...  rad    tax  ptratio       b  lstat\n",
              "0    0.00632  18.0   2.31   0.0  0.538  ...  1.0  296.0     15.3  396.90   4.98\n",
              "1    0.02731   0.0   7.07   0.0  0.469  ...  2.0  242.0     17.8  396.90   9.14\n",
              "2    0.02729   0.0   7.07   0.0  0.469  ...  2.0  242.0     17.8  392.83   4.03\n",
              "3    0.03237   0.0   2.18   0.0  0.458  ...  3.0  222.0     18.7  394.63   2.94\n",
              "4    0.06905   0.0   2.18   0.0  0.458  ...  3.0  222.0     18.7  396.90   5.33\n",
              "..       ...   ...    ...   ...    ...  ...  ...    ...      ...     ...    ...\n",
              "501  0.06263   0.0  11.93   0.0  0.573  ...  1.0  273.0     21.0  391.99   9.67\n",
              "502  0.04527   0.0  11.93   0.0  0.573  ...  1.0  273.0     21.0  396.90   9.08\n",
              "503  0.06076   0.0  11.93   0.0  0.573  ...  1.0  273.0     21.0  396.90   5.64\n",
              "504  0.10959   0.0  11.93   0.0  0.573  ...  1.0  273.0     21.0  393.45   6.48\n",
              "505  0.04741   0.0  11.93   0.0  0.573  ...  1.0  273.0     21.0  396.90   7.88\n",
              "\n",
              "[506 rows x 13 columns]"
            ]
          },
          "metadata": {
            "tags": []
          },
          "execution_count": 5
        }
      ]
    },
    {
      "cell_type": "markdown",
      "metadata": {
        "id": "nlIUMN51dWnv",
        "colab_type": "text"
      },
      "source": [
        "Our first step is to create a train dataset and a test dataset from our dataset, which is `iris_features` and `iris_target`. Use the `train_test_split` function from the `sklearn` library to do so. "
      ]
    },
    {
      "cell_type": "code",
      "metadata": {
        "id": "A0f-uxixdmnw",
        "colab_type": "code",
        "colab": {}
      },
      "source": [
        "from sklearn.model_selection import train_test_split\n",
        "iris_x_train, iris_x_test, iris_y_train, iris_y_test = train_test_split(iris_features,\n",
        "                                                    iris_target)"
      ],
      "execution_count": 0,
      "outputs": []
    },
    {
      "cell_type": "markdown",
      "metadata": {
        "id": "Np1ufJPSduy_",
        "colab_type": "text"
      },
      "source": [
        "Notice that the train dataset is `iris_x_train` and `iris_y_train`, which correspond to the features and the target. "
      ]
    },
    {
      "cell_type": "markdown",
      "metadata": {
        "id": "mN5vf6aueC4d",
        "colab_type": "text"
      },
      "source": [
        "__Exercise__: create train and test datasets \n",
        "- for the `diamonds_features`, `diamonds_target` dataset called `diamonds_x_train`, `diamonds_x_test`, `diamonds_y_train`, `diamonds_y_test`\n",
        "- for the `boston_housing_features`,`boston_housing_target` dataset called `boston_x_train`, `boston_x_test`, `boston_y_train`, `boston_y_test`\n",
        "\n",
        "In both cases put the result of the "
      ]
    },
    {
      "cell_type": "markdown",
      "metadata": {
        "id": "dBfBItlkbli-",
        "colab_type": "text"
      },
      "source": [
        "## Algorithms to models to prediction"
      ]
    },
    {
      "cell_type": "markdown",
      "metadata": {
        "id": "cH3NMiyucbWS",
        "colab_type": "text"
      },
      "source": [
        "Linear regression is an algorithm. This algorithm (and many others) have parameters that determine how they work. The Scikit-learn version of the linear regression algorithm has parameters named `copy_X`, `fit_intercept`, `n_jobs`, `normalize`. The values indicated below are defaults. "
      ]
    },
    {
      "cell_type": "code",
      "metadata": {
        "id": "UPkRAT9kY2we",
        "colab_type": "code",
        "outputId": "1a4d834f-13f8-4a15-dd12-9f5540feca82",
        "colab": {
          "base_uri": "https://localhost:8080/",
          "height": 34
        }
      },
      "source": [
        "from sklearn.linear_model import LinearRegression\n",
        "iris_linreg_algorithm = LinearRegression()\n",
        "iris_linreg_algorithm"
      ],
      "execution_count": 7,
      "outputs": [
        {
          "output_type": "execute_result",
          "data": {
            "text/plain": [
              "LinearRegression(copy_X=True, fit_intercept=True, n_jobs=None, normalize=False)"
            ]
          },
          "metadata": {
            "tags": []
          },
          "execution_count": 7
        }
      ]
    },
    {
      "cell_type": "markdown",
      "metadata": {
        "id": "VHpKtbbCfyfn",
        "colab_type": "text"
      },
      "source": [
        "__Exercise__: Create algorithm objects for diamonds and boston, named `diamonds_linreg_algorithm` and `boston_linreg_algorithm`."
      ]
    },
    {
      "cell_type": "markdown",
      "metadata": {
        "id": "qQgG3AthdEG4",
        "colab_type": "text"
      },
      "source": [
        "Recall that algorithms take train datasets as input and produce models as output. We do this for the iris dataset below, using the `fit` method of the ."
      ]
    },
    {
      "cell_type": "code",
      "metadata": {
        "id": "PmmIZ4ObdKdW",
        "colab_type": "code",
        "outputId": "4bd57229-09bb-4a8c-fe39-eb3904bb04ae",
        "colab": {
          "base_uri": "https://localhost:8080/",
          "height": 34
        }
      },
      "source": [
        "iris_linreg_model = iris_linreg_algorithm.fit(X=iris_x_train,\n",
        "                                              y=iris_y_train)\n",
        "iris_linreg_model"
      ],
      "execution_count": 8,
      "outputs": [
        {
          "output_type": "execute_result",
          "data": {
            "text/plain": [
              "LinearRegression(copy_X=True, fit_intercept=True, n_jobs=None, normalize=False)"
            ]
          },
          "metadata": {
            "tags": []
          },
          "execution_count": 8
        }
      ]
    },
    {
      "cell_type": "markdown",
      "metadata": {
        "id": "WPB2QV1BgLZb",
        "colab_type": "text"
      },
      "source": [
        "__Exercise__: Create model objects for diamonds and boston, named `diamonds_linreg_model` and `boston_linreg_model`. Use the corresponding train dataset."
      ]
    },
    {
      "cell_type": "markdown",
      "metadata": {
        "id": "b_3mpmN1hSC8",
        "colab_type": "text"
      },
      "source": [
        "Recall that models take test datasets as input and produce predictions as output. We do this for the iris dataset below, using the `predict` method."
      ]
    },
    {
      "cell_type": "code",
      "metadata": {
        "id": "uimU_i8_hRoz",
        "colab_type": "code",
        "outputId": "f05de14e-8b98-4a77-bd54-a7a18cc4ac87",
        "colab": {
          "base_uri": "https://localhost:8080/",
          "height": 408
        }
      },
      "source": [
        "iris_linreg_predictions = iris_linreg_model.predict(X=iris_x_train)\n",
        "iris_linreg_predictions"
      ],
      "execution_count": 9,
      "outputs": [
        {
          "output_type": "execute_result",
          "data": {
            "text/plain": [
              "array([-0.07870716,  2.02394975,  1.70205248,  1.96663867,  1.32144332,\n",
              "       -0.02194896,  1.59535215,  0.8975451 , -0.07334547,  1.01710798,\n",
              "        1.59635632,  1.91724943,  1.34838262,  1.38818547,  1.75867784,\n",
              "        1.20623796,  1.35944686,  1.16997602,  1.60145228,  1.42539587,\n",
              "        0.97984287,  1.22089777,  1.5959051 ,  1.58462877, -0.00282991,\n",
              "        1.20193409,  1.38290196, -0.10731187,  1.18030183, -0.09439467,\n",
              "       -0.04740933,  1.32632925,  1.69394302,  0.04185888,  1.60781814,\n",
              "        2.1721174 ,  1.75600926, -0.13976924,  0.06444166,  0.00950424,\n",
              "       -0.08935236,  1.18907153,  2.0264855 ,  1.72777759,  2.06314602,\n",
              "       -0.0812439 ,  2.22139722, -0.21289973,  1.18785734,  0.05794396,\n",
              "        2.06087301,  0.01547253,  1.81384882, -0.00800405,  1.4023404 ,\n",
              "        0.8608084 ,  2.09578893,  1.53418271,  1.48981131, -0.04244521,\n",
              "       -0.01978525,  1.81799626,  1.29490059, -0.10028577, -0.01703849,\n",
              "       -0.0110702 ,  1.51009754,  0.22174441,  0.10292096,  1.12185568,\n",
              "        1.17098018, -0.04894291, -0.02958266, -0.02429915,  1.05865343,\n",
              "        1.14195436,  0.18133496,  1.18901688,  1.77095728,  1.57739258,\n",
              "       -0.15397682,  1.20000394,  1.20261987, -0.14808672,  1.92401086,\n",
              "        1.98903389,  0.95498808, -0.01965342,  1.55179937, -0.03087403,\n",
              "        1.74206435,  0.0176127 ,  1.92744341,  1.853971  ,  1.4566937 ,\n",
              "        2.06998463,  1.99954725,  1.20309463,  2.05960416, -0.06624118,\n",
              "        0.07130375,  1.74803364,  1.73622891, -0.1232094 ,  0.06573403,\n",
              "       -0.03695168,  0.93333229,  1.85766628,  1.3409354 ,  1.82140433,\n",
              "       -0.06027289,  0.14232724])"
            ]
          },
          "metadata": {
            "tags": []
          },
          "execution_count": 9
        }
      ]
    },
    {
      "cell_type": "markdown",
      "metadata": {
        "id": "Z7hGxa78flG8",
        "colab_type": "text"
      },
      "source": [
        "__Exercise__: Create predictions for diamonds and for boston named `diamonds_linreg_predictions` and `boston_linreg_predictions`."
      ]
    },
    {
      "cell_type": "code",
      "metadata": {
        "id": "2ldBvPp4ihBe",
        "colab_type": "code",
        "outputId": "e02fb492-5447-4a90-f38d-2176c3e163e1",
        "colab": {
          "base_uri": "https://localhost:8080/",
          "height": 34
        }
      },
      "source": [
        "iris_linreg_model.score(X=iris_x_test,\n",
        "                        y=iris_y_test)"
      ],
      "execution_count": 10,
      "outputs": [
        {
          "output_type": "execute_result",
          "data": {
            "text/plain": [
              "0.9436723920628814"
            ]
          },
          "metadata": {
            "tags": []
          },
          "execution_count": 10
        }
      ]
    },
    {
      "cell_type": "markdown",
      "metadata": {
        "id": "2HGPljZQieLR",
        "colab_type": "text"
      },
      "source": [
        ""
      ]
    },
    {
      "cell_type": "markdown",
      "metadata": {
        "colab_type": "text",
        "id": "CWugEh70izUW"
      },
      "source": [
        "__Exercise__: Create a score for the predictions for diamonds and for boston named `diamonds_linreg_score` and `boston_linreg_score`."
      ]
    },
    {
      "cell_type": "markdown",
      "metadata": {
        "id": "LvYFD5lVq32-",
        "colab_type": "text"
      },
      "source": [
        "## Try other algorithms"
      ]
    },
    {
      "cell_type": "markdown",
      "metadata": {
        "id": "v_2nf9DCq-Uj",
        "colab_type": "text"
      },
      "source": [
        ""
      ]
    },
    {
      "cell_type": "code",
      "metadata": {
        "id": "lEqd0fjcrQbq",
        "colab_type": "code",
        "colab": {
          "base_uri": "https://localhost:8080/",
          "height": 102
        },
        "outputId": "38195f87-56f2-4558-f8d2-06d212311d8c"
      },
      "source": [
        "from sklearn.tree import DecisionTreeRegressor\n",
        "iris_decisiontree_algorithm = DecisionTreeRegressor()\n",
        "iris_decisiontree_algorithm"
      ],
      "execution_count": 12,
      "outputs": [
        {
          "output_type": "execute_result",
          "data": {
            "text/plain": [
              "DecisionTreeRegressor(criterion='mse', max_depth=None, max_features=None,\n",
              "                      max_leaf_nodes=None, min_impurity_decrease=0.0,\n",
              "                      min_impurity_split=None, min_samples_leaf=1,\n",
              "                      min_samples_split=2, min_weight_fraction_leaf=0.0,\n",
              "                      presort=False, random_state=None, splitter='best')"
            ]
          },
          "metadata": {
            "tags": []
          },
          "execution_count": 12
        }
      ]
    },
    {
      "cell_type": "code",
      "metadata": {
        "id": "FmXVGTTgrcvE",
        "colab_type": "code",
        "colab": {
          "base_uri": "https://localhost:8080/",
          "height": 102
        },
        "outputId": "2033eb42-c207-4f3f-d43d-202f12e93396"
      },
      "source": [
        "iris_decisiontree_model = iris_decisiontree_algorithm.fit(X=iris_x_train,\n",
        "                                                          y=iris_y_train)\n",
        "iris_decisiontree_model"
      ],
      "execution_count": 14,
      "outputs": [
        {
          "output_type": "execute_result",
          "data": {
            "text/plain": [
              "DecisionTreeRegressor(criterion='mse', max_depth=None, max_features=None,\n",
              "                      max_leaf_nodes=None, min_impurity_decrease=0.0,\n",
              "                      min_impurity_split=None, min_samples_leaf=1,\n",
              "                      min_samples_split=2, min_weight_fraction_leaf=0.0,\n",
              "                      presort=False, random_state=None, splitter='best')"
            ]
          },
          "metadata": {
            "tags": []
          },
          "execution_count": 14
        }
      ]
    },
    {
      "cell_type": "code",
      "metadata": {
        "id": "Adi5ELwKrchS",
        "colab_type": "code",
        "colab": {
          "base_uri": "https://localhost:8080/",
          "height": 136
        },
        "outputId": "4cac76a4-bded-4068-812e-3678a56b280a"
      },
      "source": [
        "iris_decisiontree_predictions = iris_decisiontree_model.predict(X=iris_x_train)\n",
        "iris_decisiontree_predictions"
      ],
      "execution_count": 15,
      "outputs": [
        {
          "output_type": "execute_result",
          "data": {
            "text/plain": [
              "array([0., 2., 2., 2., 1., 0., 2., 1., 0., 1., 1., 2., 1., 1., 2., 1., 1.,\n",
              "       1., 2., 1., 1., 1., 2., 2., 0., 1., 1., 0., 1., 0., 0., 1., 2., 0.,\n",
              "       2., 2., 2., 0., 0., 0., 0., 1., 2., 2., 2., 0., 2., 0., 1., 0., 2.,\n",
              "       0., 2., 0., 1., 1., 2., 2., 2., 0., 0., 2., 1., 0., 0., 0., 1., 0.,\n",
              "       0., 1., 1., 0., 0., 0., 1., 1., 0., 1., 2., 2., 0., 1., 1., 0., 2.,\n",
              "       2., 1., 0., 1., 0., 2., 0., 2., 2., 2., 2., 2., 1., 2., 0., 0., 2.,\n",
              "       2., 0., 0., 0., 1., 2., 1., 2., 0., 0.])"
            ]
          },
          "metadata": {
            "tags": []
          },
          "execution_count": 15
        }
      ]
    }
  ]
}