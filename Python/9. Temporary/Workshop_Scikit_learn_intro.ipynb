{
  "nbformat": 4,
  "nbformat_minor": 0,
  "metadata": {
    "colab": {
      "name": "Workshop - Scikit-learn intro.ipynb",
      "provenance": [],
      "include_colab_link": true
    },
    "kernelspec": {
      "name": "python3",
      "display_name": "Python 3"
    }
  },
  "cells": [
    {
      "cell_type": "markdown",
      "metadata": {
        "id": "view-in-github",
        "colab_type": "text"
      },
      "source": [
        "<a href=\"https://colab.research.google.com/github/data-space/datalab-notebooks/blob/master/Python/9.%20Temporary/Workshop_Scikit_learn_intro.ipynb\" target=\"_parent\"><img src=\"https://colab.research.google.com/assets/colab-badge.svg\" alt=\"Open In Colab\"/></a>"
      ]
    },
    {
      "cell_type": "markdown",
      "metadata": {
        "id": "fFXHs_P2WbZO",
        "colab_type": "text"
      },
      "source": [
        "# Scikit-learn Workshop - 19 Nov 2019"
      ]
    },
    {
      "cell_type": "markdown",
      "metadata": {
        "id": "F7CtX-dIbC3T",
        "colab_type": "text"
      },
      "source": [
        "## Setup"
      ]
    },
    {
      "cell_type": "code",
      "metadata": {
        "id": "qe-GKbtkXmcR",
        "colab_type": "code",
        "colab": {}
      },
      "source": [
        "import pandas  as pd\n",
        "import numpy   as np\n",
        "import sklearn as sk"
      ],
      "execution_count": 0,
      "outputs": []
    },
    {
      "cell_type": "markdown",
      "metadata": {
        "id": "3sAOET5FbHFf",
        "colab_type": "text"
      },
      "source": [
        "### Iris dataset"
      ]
    },
    {
      "cell_type": "code",
      "metadata": {
        "id": "YxeMQak9Xfq6",
        "colab_type": "code",
        "colab": {}
      },
      "source": [
        "import pandas as pd\n",
        "from sklearn.datasets import load_iris\n",
        "iris_features = load_iris().data[:, 1:]\n",
        "iris_target   = load_iris().data[:,:1]"
      ],
      "execution_count": 0,
      "outputs": []
    },
    {
      "cell_type": "markdown",
      "metadata": {
        "id": "i9Px8AjybRg3",
        "colab_type": "text"
      },
      "source": [
        "### Diamonds dataset"
      ]
    },
    {
      "cell_type": "code",
      "metadata": {
        "id": "kNGfDb2OWZS3",
        "colab_type": "code",
        "colab": {
          "base_uri": "https://localhost:8080/",
          "height": 419
        },
        "outputId": "fd3e826d-fa03-4037-f7fd-b5ddca47a297"
      },
      "source": [
        "import pandas as pd\n",
        "diamonds_pdf = pd.read_csv('https://raw.githubusercontent.com/datalab-datasets/file-samples/master/diamonds.csv').drop(columns='Unnamed: 0')\n",
        "diamonds_pdf.columns\n",
        "diamonds_features = diamonds_pdf.drop(labels='price',axis=1)[['x','y','z']] #select_dtypes(include=['float','int'])\n",
        "diamonds_target = diamonds_pdf['price']\n",
        "diamonds_features"
      ],
      "execution_count": 71,
      "outputs": [
        {
          "output_type": "execute_result",
          "data": {
            "text/html": [
              "<div>\n",
              "<style scoped>\n",
              "    .dataframe tbody tr th:only-of-type {\n",
              "        vertical-align: middle;\n",
              "    }\n",
              "\n",
              "    .dataframe tbody tr th {\n",
              "        vertical-align: top;\n",
              "    }\n",
              "\n",
              "    .dataframe thead th {\n",
              "        text-align: right;\n",
              "    }\n",
              "</style>\n",
              "<table border=\"1\" class=\"dataframe\">\n",
              "  <thead>\n",
              "    <tr style=\"text-align: right;\">\n",
              "      <th></th>\n",
              "      <th>x</th>\n",
              "      <th>y</th>\n",
              "      <th>z</th>\n",
              "    </tr>\n",
              "  </thead>\n",
              "  <tbody>\n",
              "    <tr>\n",
              "      <th>0</th>\n",
              "      <td>3.95</td>\n",
              "      <td>3.98</td>\n",
              "      <td>2.43</td>\n",
              "    </tr>\n",
              "    <tr>\n",
              "      <th>1</th>\n",
              "      <td>3.89</td>\n",
              "      <td>3.84</td>\n",
              "      <td>2.31</td>\n",
              "    </tr>\n",
              "    <tr>\n",
              "      <th>2</th>\n",
              "      <td>4.05</td>\n",
              "      <td>4.07</td>\n",
              "      <td>2.31</td>\n",
              "    </tr>\n",
              "    <tr>\n",
              "      <th>3</th>\n",
              "      <td>4.20</td>\n",
              "      <td>4.23</td>\n",
              "      <td>2.63</td>\n",
              "    </tr>\n",
              "    <tr>\n",
              "      <th>4</th>\n",
              "      <td>4.34</td>\n",
              "      <td>4.35</td>\n",
              "      <td>2.75</td>\n",
              "    </tr>\n",
              "    <tr>\n",
              "      <th>...</th>\n",
              "      <td>...</td>\n",
              "      <td>...</td>\n",
              "      <td>...</td>\n",
              "    </tr>\n",
              "    <tr>\n",
              "      <th>53935</th>\n",
              "      <td>5.75</td>\n",
              "      <td>5.76</td>\n",
              "      <td>3.50</td>\n",
              "    </tr>\n",
              "    <tr>\n",
              "      <th>53936</th>\n",
              "      <td>5.69</td>\n",
              "      <td>5.75</td>\n",
              "      <td>3.61</td>\n",
              "    </tr>\n",
              "    <tr>\n",
              "      <th>53937</th>\n",
              "      <td>5.66</td>\n",
              "      <td>5.68</td>\n",
              "      <td>3.56</td>\n",
              "    </tr>\n",
              "    <tr>\n",
              "      <th>53938</th>\n",
              "      <td>6.15</td>\n",
              "      <td>6.12</td>\n",
              "      <td>3.74</td>\n",
              "    </tr>\n",
              "    <tr>\n",
              "      <th>53939</th>\n",
              "      <td>5.83</td>\n",
              "      <td>5.87</td>\n",
              "      <td>3.64</td>\n",
              "    </tr>\n",
              "  </tbody>\n",
              "</table>\n",
              "<p>53940 rows × 3 columns</p>\n",
              "</div>"
            ],
            "text/plain": [
              "          x     y     z\n",
              "0      3.95  3.98  2.43\n",
              "1      3.89  3.84  2.31\n",
              "2      4.05  4.07  2.31\n",
              "3      4.20  4.23  2.63\n",
              "4      4.34  4.35  2.75\n",
              "...     ...   ...   ...\n",
              "53935  5.75  5.76  3.50\n",
              "53936  5.69  5.75  3.61\n",
              "53937  5.66  5.68  3.56\n",
              "53938  6.15  6.12  3.74\n",
              "53939  5.83  5.87  3.64\n",
              "\n",
              "[53940 rows x 3 columns]"
            ]
          },
          "metadata": {
            "tags": []
          },
          "execution_count": 71
        }
      ]
    },
    {
      "cell_type": "code",
      "metadata": {
        "id": "J0JhJYRUaiNa",
        "colab_type": "code",
        "colab": {}
      },
      "source": [
        "def get_boston_housing_pdf(): # for boston housing dataset\n",
        "  from sklearn.datasets import load_boston\n",
        "  feature_names = [name.lower() \n",
        "                   for name in load_boston().get('feature_names').tolist()\n",
        "                  ]\n",
        "  features_pdf = pd.DataFrame(data=load_boston().get('data'),\n",
        "                              columns=feature_names\n",
        "                             )\n",
        "  target_pdf = pd.DataFrame(data={'price': load_boston().get('target')}\n",
        "                           )\n",
        "  return pd.concat([features_pdf, target_pdf],\n",
        "                   axis='columns',\n",
        "                   join='inner')"
      ],
      "execution_count": 0,
      "outputs": []
    },
    {
      "cell_type": "code",
      "metadata": {
        "id": "e6mVUuDpZ4kP",
        "colab_type": "code",
        "colab": {
          "base_uri": "https://localhost:8080/",
          "height": 419
        },
        "outputId": "e90bbbe5-1f9f-4ade-e2f7-a0b810ad5e49"
      },
      "source": [
        "boston_housing_pdf = get_boston_housing_pdf().select_dtypes(include=['float','int'])\n",
        "\n",
        "boston_housing_features = boston_housing_pdf.drop(labels='price',axis=1)\n",
        "boston_housing_target = boston_housing_pdf['price']\n",
        "boston_housing_features"
      ],
      "execution_count": 60,
      "outputs": [
        {
          "output_type": "execute_result",
          "data": {
            "text/html": [
              "<div>\n",
              "<style scoped>\n",
              "    .dataframe tbody tr th:only-of-type {\n",
              "        vertical-align: middle;\n",
              "    }\n",
              "\n",
              "    .dataframe tbody tr th {\n",
              "        vertical-align: top;\n",
              "    }\n",
              "\n",
              "    .dataframe thead th {\n",
              "        text-align: right;\n",
              "    }\n",
              "</style>\n",
              "<table border=\"1\" class=\"dataframe\">\n",
              "  <thead>\n",
              "    <tr style=\"text-align: right;\">\n",
              "      <th></th>\n",
              "      <th>crim</th>\n",
              "      <th>zn</th>\n",
              "      <th>indus</th>\n",
              "      <th>chas</th>\n",
              "      <th>nox</th>\n",
              "      <th>rm</th>\n",
              "      <th>age</th>\n",
              "      <th>dis</th>\n",
              "      <th>rad</th>\n",
              "      <th>tax</th>\n",
              "      <th>ptratio</th>\n",
              "      <th>b</th>\n",
              "      <th>lstat</th>\n",
              "    </tr>\n",
              "  </thead>\n",
              "  <tbody>\n",
              "    <tr>\n",
              "      <th>0</th>\n",
              "      <td>0.00632</td>\n",
              "      <td>18.0</td>\n",
              "      <td>2.31</td>\n",
              "      <td>0.0</td>\n",
              "      <td>0.538</td>\n",
              "      <td>6.575</td>\n",
              "      <td>65.2</td>\n",
              "      <td>4.0900</td>\n",
              "      <td>1.0</td>\n",
              "      <td>296.0</td>\n",
              "      <td>15.3</td>\n",
              "      <td>396.90</td>\n",
              "      <td>4.98</td>\n",
              "    </tr>\n",
              "    <tr>\n",
              "      <th>1</th>\n",
              "      <td>0.02731</td>\n",
              "      <td>0.0</td>\n",
              "      <td>7.07</td>\n",
              "      <td>0.0</td>\n",
              "      <td>0.469</td>\n",
              "      <td>6.421</td>\n",
              "      <td>78.9</td>\n",
              "      <td>4.9671</td>\n",
              "      <td>2.0</td>\n",
              "      <td>242.0</td>\n",
              "      <td>17.8</td>\n",
              "      <td>396.90</td>\n",
              "      <td>9.14</td>\n",
              "    </tr>\n",
              "    <tr>\n",
              "      <th>2</th>\n",
              "      <td>0.02729</td>\n",
              "      <td>0.0</td>\n",
              "      <td>7.07</td>\n",
              "      <td>0.0</td>\n",
              "      <td>0.469</td>\n",
              "      <td>7.185</td>\n",
              "      <td>61.1</td>\n",
              "      <td>4.9671</td>\n",
              "      <td>2.0</td>\n",
              "      <td>242.0</td>\n",
              "      <td>17.8</td>\n",
              "      <td>392.83</td>\n",
              "      <td>4.03</td>\n",
              "    </tr>\n",
              "    <tr>\n",
              "      <th>3</th>\n",
              "      <td>0.03237</td>\n",
              "      <td>0.0</td>\n",
              "      <td>2.18</td>\n",
              "      <td>0.0</td>\n",
              "      <td>0.458</td>\n",
              "      <td>6.998</td>\n",
              "      <td>45.8</td>\n",
              "      <td>6.0622</td>\n",
              "      <td>3.0</td>\n",
              "      <td>222.0</td>\n",
              "      <td>18.7</td>\n",
              "      <td>394.63</td>\n",
              "      <td>2.94</td>\n",
              "    </tr>\n",
              "    <tr>\n",
              "      <th>4</th>\n",
              "      <td>0.06905</td>\n",
              "      <td>0.0</td>\n",
              "      <td>2.18</td>\n",
              "      <td>0.0</td>\n",
              "      <td>0.458</td>\n",
              "      <td>7.147</td>\n",
              "      <td>54.2</td>\n",
              "      <td>6.0622</td>\n",
              "      <td>3.0</td>\n",
              "      <td>222.0</td>\n",
              "      <td>18.7</td>\n",
              "      <td>396.90</td>\n",
              "      <td>5.33</td>\n",
              "    </tr>\n",
              "    <tr>\n",
              "      <th>...</th>\n",
              "      <td>...</td>\n",
              "      <td>...</td>\n",
              "      <td>...</td>\n",
              "      <td>...</td>\n",
              "      <td>...</td>\n",
              "      <td>...</td>\n",
              "      <td>...</td>\n",
              "      <td>...</td>\n",
              "      <td>...</td>\n",
              "      <td>...</td>\n",
              "      <td>...</td>\n",
              "      <td>...</td>\n",
              "      <td>...</td>\n",
              "    </tr>\n",
              "    <tr>\n",
              "      <th>501</th>\n",
              "      <td>0.06263</td>\n",
              "      <td>0.0</td>\n",
              "      <td>11.93</td>\n",
              "      <td>0.0</td>\n",
              "      <td>0.573</td>\n",
              "      <td>6.593</td>\n",
              "      <td>69.1</td>\n",
              "      <td>2.4786</td>\n",
              "      <td>1.0</td>\n",
              "      <td>273.0</td>\n",
              "      <td>21.0</td>\n",
              "      <td>391.99</td>\n",
              "      <td>9.67</td>\n",
              "    </tr>\n",
              "    <tr>\n",
              "      <th>502</th>\n",
              "      <td>0.04527</td>\n",
              "      <td>0.0</td>\n",
              "      <td>11.93</td>\n",
              "      <td>0.0</td>\n",
              "      <td>0.573</td>\n",
              "      <td>6.120</td>\n",
              "      <td>76.7</td>\n",
              "      <td>2.2875</td>\n",
              "      <td>1.0</td>\n",
              "      <td>273.0</td>\n",
              "      <td>21.0</td>\n",
              "      <td>396.90</td>\n",
              "      <td>9.08</td>\n",
              "    </tr>\n",
              "    <tr>\n",
              "      <th>503</th>\n",
              "      <td>0.06076</td>\n",
              "      <td>0.0</td>\n",
              "      <td>11.93</td>\n",
              "      <td>0.0</td>\n",
              "      <td>0.573</td>\n",
              "      <td>6.976</td>\n",
              "      <td>91.0</td>\n",
              "      <td>2.1675</td>\n",
              "      <td>1.0</td>\n",
              "      <td>273.0</td>\n",
              "      <td>21.0</td>\n",
              "      <td>396.90</td>\n",
              "      <td>5.64</td>\n",
              "    </tr>\n",
              "    <tr>\n",
              "      <th>504</th>\n",
              "      <td>0.10959</td>\n",
              "      <td>0.0</td>\n",
              "      <td>11.93</td>\n",
              "      <td>0.0</td>\n",
              "      <td>0.573</td>\n",
              "      <td>6.794</td>\n",
              "      <td>89.3</td>\n",
              "      <td>2.3889</td>\n",
              "      <td>1.0</td>\n",
              "      <td>273.0</td>\n",
              "      <td>21.0</td>\n",
              "      <td>393.45</td>\n",
              "      <td>6.48</td>\n",
              "    </tr>\n",
              "    <tr>\n",
              "      <th>505</th>\n",
              "      <td>0.04741</td>\n",
              "      <td>0.0</td>\n",
              "      <td>11.93</td>\n",
              "      <td>0.0</td>\n",
              "      <td>0.573</td>\n",
              "      <td>6.030</td>\n",
              "      <td>80.8</td>\n",
              "      <td>2.5050</td>\n",
              "      <td>1.0</td>\n",
              "      <td>273.0</td>\n",
              "      <td>21.0</td>\n",
              "      <td>396.90</td>\n",
              "      <td>7.88</td>\n",
              "    </tr>\n",
              "  </tbody>\n",
              "</table>\n",
              "<p>506 rows × 13 columns</p>\n",
              "</div>"
            ],
            "text/plain": [
              "        crim    zn  indus  chas    nox  ...  rad    tax  ptratio       b  lstat\n",
              "0    0.00632  18.0   2.31   0.0  0.538  ...  1.0  296.0     15.3  396.90   4.98\n",
              "1    0.02731   0.0   7.07   0.0  0.469  ...  2.0  242.0     17.8  396.90   9.14\n",
              "2    0.02729   0.0   7.07   0.0  0.469  ...  2.0  242.0     17.8  392.83   4.03\n",
              "3    0.03237   0.0   2.18   0.0  0.458  ...  3.0  222.0     18.7  394.63   2.94\n",
              "4    0.06905   0.0   2.18   0.0  0.458  ...  3.0  222.0     18.7  396.90   5.33\n",
              "..       ...   ...    ...   ...    ...  ...  ...    ...      ...     ...    ...\n",
              "501  0.06263   0.0  11.93   0.0  0.573  ...  1.0  273.0     21.0  391.99   9.67\n",
              "502  0.04527   0.0  11.93   0.0  0.573  ...  1.0  273.0     21.0  396.90   9.08\n",
              "503  0.06076   0.0  11.93   0.0  0.573  ...  1.0  273.0     21.0  396.90   5.64\n",
              "504  0.10959   0.0  11.93   0.0  0.573  ...  1.0  273.0     21.0  393.45   6.48\n",
              "505  0.04741   0.0  11.93   0.0  0.573  ...  1.0  273.0     21.0  396.90   7.88\n",
              "\n",
              "[506 rows x 13 columns]"
            ]
          },
          "metadata": {
            "tags": []
          },
          "execution_count": 60
        }
      ]
    },
    {
      "cell_type": "markdown",
      "metadata": {
        "id": "nlIUMN51dWnv",
        "colab_type": "text"
      },
      "source": [
        "Our first step is to create a train dataset and a test dataset from our dataset, which is `iris_features` and `iris_target`. Use the `train_test_split` function from the `sklearn` library to do so. "
      ]
    },
    {
      "cell_type": "code",
      "metadata": {
        "id": "A0f-uxixdmnw",
        "colab_type": "code",
        "colab": {}
      },
      "source": [
        "from sklearn.model_selection import train_test_split\n",
        "iris_x_train, iris_x_test, iris_y_train, iris_y_test = train_test_split(iris_features,\n",
        "                                                    iris_target)"
      ],
      "execution_count": 0,
      "outputs": []
    },
    {
      "cell_type": "markdown",
      "metadata": {
        "id": "Np1ufJPSduy_",
        "colab_type": "text"
      },
      "source": [
        "Notice that the train dataset is `iris_x_train` and `iris_y_train`, which correspond to the features and the target. "
      ]
    },
    {
      "cell_type": "markdown",
      "metadata": {
        "id": "mN5vf6aueC4d",
        "colab_type": "text"
      },
      "source": [
        "__Exercise__: create train and test datasets \n",
        "- for the `diamonds_features`, `diamonds_target` dataset called `diamonds_x_train`, `diamonds_x_test`, `diamonds_y_train`, `diamonds_y_test`\n",
        "- for the `boston_housing_features`,`boston_housing_target` dataset called `boston_x_train`, `boston_x_test`, `boston_y_train`, `boston_y_test`\n",
        "\n",
        "In both cases put the result of the "
      ]
    },
    {
      "cell_type": "markdown",
      "metadata": {
        "id": "dBfBItlkbli-",
        "colab_type": "text"
      },
      "source": [
        "## Algorithms to models to predictions and scores"
      ]
    },
    {
      "cell_type": "markdown",
      "metadata": {
        "id": "cH3NMiyucbWS",
        "colab_type": "text"
      },
      "source": [
        "Linear regression is an algorithm. This algorithm (and many others) have parameters that determine how they work. The Scikit-learn version of the linear regression algorithm has parameters named `copy_X`, `fit_intercept`, `n_jobs`, `normalize`. The values indicated below are defaults. "
      ]
    },
    {
      "cell_type": "code",
      "metadata": {
        "id": "UPkRAT9kY2we",
        "colab_type": "code",
        "colab": {
          "base_uri": "https://localhost:8080/",
          "height": 34
        },
        "outputId": "fae18495-5340-435c-ad95-d90a67f560ae"
      },
      "source": [
        "from sklearn.linear_model import LinearRegression\n",
        "iris_linreg_algorithm = LinearRegression()\n",
        "iris_linreg_algorithm"
      ],
      "execution_count": 62,
      "outputs": [
        {
          "output_type": "execute_result",
          "data": {
            "text/plain": [
              "LinearRegression(copy_X=True, fit_intercept=True, n_jobs=None, normalize=False)"
            ]
          },
          "metadata": {
            "tags": []
          },
          "execution_count": 62
        }
      ]
    },
    {
      "cell_type": "markdown",
      "metadata": {
        "id": "VHpKtbbCfyfn",
        "colab_type": "text"
      },
      "source": [
        "__Exercise__: Create algorithm objects for diamonds and boston, named `diamonds_linreg_algorithm` and `boston_linreg_algorithm`."
      ]
    },
    {
      "cell_type": "markdown",
      "metadata": {
        "id": "qQgG3AthdEG4",
        "colab_type": "text"
      },
      "source": [
        "Recall that algorithms take train datasets as input and produce models as output. We do this for the iris dataset below, using the `fit` method of the ."
      ]
    },
    {
      "cell_type": "code",
      "metadata": {
        "id": "PmmIZ4ObdKdW",
        "colab_type": "code",
        "colab": {
          "base_uri": "https://localhost:8080/",
          "height": 34
        },
        "outputId": "ac1178f6-d28f-47b2-88f1-c50ea0304034"
      },
      "source": [
        "iris_linreg_model = iris_linreg_algorithm.fit(X=iris_x_train,\n",
        "                                              y=iris_y_train)\n",
        "iris_linreg_model"
      ],
      "execution_count": 63,
      "outputs": [
        {
          "output_type": "execute_result",
          "data": {
            "text/plain": [
              "LinearRegression(copy_X=True, fit_intercept=True, n_jobs=None, normalize=False)"
            ]
          },
          "metadata": {
            "tags": []
          },
          "execution_count": 63
        }
      ]
    },
    {
      "cell_type": "markdown",
      "metadata": {
        "id": "WPB2QV1BgLZb",
        "colab_type": "text"
      },
      "source": [
        "__Exercise__: Create model objects for diamonds and boston, named `diamonds_linreg_model` and `boston_linreg_model`. Use the corresponding train dataset."
      ]
    },
    {
      "cell_type": "markdown",
      "metadata": {
        "id": "b_3mpmN1hSC8",
        "colab_type": "text"
      },
      "source": [
        "Recall that models take test datasets as input and produce predictions as output. We do this for the iris dataset below, using the `predict` method."
      ]
    },
    {
      "cell_type": "code",
      "metadata": {
        "id": "uimU_i8_hRoz",
        "colab_type": "code",
        "colab": {
          "base_uri": "https://localhost:8080/",
          "height": 1000
        },
        "outputId": "fc4c89d5-c79a-4d70-a23d-6ba74e3e60d0"
      },
      "source": [
        "iris_linreg_predictions = iris_linreg_model.predict(X=iris_x_train)\n",
        "iris_linreg_predictions"
      ],
      "execution_count": 64,
      "outputs": [
        {
          "output_type": "execute_result",
          "data": {
            "text/plain": [
              "array([[6.66716079],\n",
              "       [4.82551457],\n",
              "       [5.28013658],\n",
              "       [5.87978661],\n",
              "       [6.30379665],\n",
              "       [5.75592254],\n",
              "       [6.21530277],\n",
              "       [6.39016848],\n",
              "       [5.09022195],\n",
              "       [5.74981203],\n",
              "       [6.3814218 ],\n",
              "       [5.01053865],\n",
              "       [4.72203568],\n",
              "       [4.88403842],\n",
              "       [6.33376668],\n",
              "       [4.89284901],\n",
              "       [5.30457412],\n",
              "       [6.70124711],\n",
              "       [5.51365848],\n",
              "       [5.38078307],\n",
              "       [6.86389179],\n",
              "       [6.2867535 ],\n",
              "       [6.0438475 ],\n",
              "       [6.72304848],\n",
              "       [6.34321921],\n",
              "       [6.19285946],\n",
              "       [5.45017565],\n",
              "       [6.00300874],\n",
              "       [7.09117084],\n",
              "       [6.31878167],\n",
              "       [7.20764052],\n",
              "       [6.06905931],\n",
              "       [5.16167267],\n",
              "       [6.65095582],\n",
              "       [6.171122  ],\n",
              "       [5.45635007],\n",
              "       [5.16167267],\n",
              "       [5.02963995],\n",
              "       [5.393068  ],\n",
              "       [5.15961453],\n",
              "       [5.70151497],\n",
              "       [7.36694319],\n",
              "       [4.81052956],\n",
              "       [6.19961191],\n",
              "       [4.79554454],\n",
              "       [4.67849684],\n",
              "       [6.68420395],\n",
              "       [5.67836131],\n",
              "       [5.99683431],\n",
              "       [5.57076613],\n",
              "       [6.58072505],\n",
              "       [6.80478991],\n",
              "       [6.86119171],\n",
              "       [6.98647198],\n",
              "       [5.30663226],\n",
              "       [6.37460544],\n",
              "       [6.49776366],\n",
              "       [5.04050868],\n",
              "       [6.62156381],\n",
              "       [5.80769395],\n",
              "       [4.98610111],\n",
              "       [5.73482702],\n",
              "       [6.42901301],\n",
              "       [6.52226511],\n",
              "       [4.72203568],\n",
              "       [6.08532819],\n",
              "       [6.13092517],\n",
              "       [5.63688061],\n",
              "       [6.5413025 ],\n",
              "       [6.37524738],\n",
              "       [6.10642372],\n",
              "       [6.41608614],\n",
              "       [7.21516724],\n",
              "       [6.49158924],\n",
              "       [6.15677892],\n",
              "       [4.85201025],\n",
              "       [6.09143871],\n",
              "       [4.61997299],\n",
              "       [7.83101773],\n",
              "       [6.43718167],\n",
              "       [6.83533797],\n",
              "       [4.85406839],\n",
              "       [5.53340171],\n",
              "       [6.84209041],\n",
              "       [4.93844599],\n",
              "       [6.16970579],\n",
              "       [4.73560448],\n",
              "       [6.49435322],\n",
              "       [6.16970579],\n",
              "       [4.87111155],\n",
              "       [5.89477162],\n",
              "       [4.60498797],\n",
              "       [6.30585479],\n",
              "       [5.94917919],\n",
              "       [5.80627774],\n",
              "       [4.87580586],\n",
              "       [5.0167815 ],\n",
              "       [5.50343168],\n",
              "       [5.63070618],\n",
              "       [6.12616695],\n",
              "       [7.73165511],\n",
              "       [5.29370539],\n",
              "       [5.94847334],\n",
              "       [6.78157233],\n",
              "       [6.17382208],\n",
              "       [7.34990003],\n",
              "       [4.13473901],\n",
              "       [4.61791484],\n",
              "       [5.61366303],\n",
              "       [5.13311885],\n",
              "       [4.64852681],\n",
              "       [6.20848641]])"
            ]
          },
          "metadata": {
            "tags": []
          },
          "execution_count": 64
        }
      ]
    },
    {
      "cell_type": "markdown",
      "metadata": {
        "id": "Z7hGxa78flG8",
        "colab_type": "text"
      },
      "source": [
        "__Exercise__: Create predictions for diamonds and for boston named `diamonds_linreg_predictions` and `boston_linreg_predictions`."
      ]
    },
    {
      "cell_type": "code",
      "metadata": {
        "id": "2ldBvPp4ihBe",
        "colab_type": "code",
        "colab": {
          "base_uri": "https://localhost:8080/",
          "height": 34
        },
        "outputId": "25c510df-c0f7-456e-8e0f-d8f907a35bbd"
      },
      "source": [
        "iris_linreg_model.score(X=iris_x_test,\n",
        "                        y=iris_y_test)"
      ],
      "execution_count": 65,
      "outputs": [
        {
          "output_type": "execute_result",
          "data": {
            "text/plain": [
              "0.8425650881482449"
            ]
          },
          "metadata": {
            "tags": []
          },
          "execution_count": 65
        }
      ]
    },
    {
      "cell_type": "markdown",
      "metadata": {
        "id": "2HGPljZQieLR",
        "colab_type": "text"
      },
      "source": [
        ""
      ]
    },
    {
      "cell_type": "markdown",
      "metadata": {
        "colab_type": "text",
        "id": "CWugEh70izUW"
      },
      "source": [
        "__Exercise__: Create a score for the predictions for diamonds and for boston named `diamonds_linreg_score` and `boston_linreg_score`."
      ]
    },
    {
      "cell_type": "markdown",
      "metadata": {
        "id": "BlLqVd1DkGa6",
        "colab_type": "text"
      },
      "source": [
        "## Try other algorithms"
      ]
    },
    {
      "cell_type": "code",
      "metadata": {
        "id": "VO9EWimNkg8H",
        "colab_type": "code",
        "colab": {
          "base_uri": "https://localhost:8080/",
          "height": 85
        },
        "outputId": "2015c41b-13c6-49c2-a1fd-381a2c187516"
      },
      "source": [
        "from sklearn.tree import DecisionTreeRegressor\n",
        "iris_decisiontree_algorithm = DecisionTreeRegressor()\n",
        "iris_decisiontree_model = iris_decisiontree_algorithm.fit(X=iris_x_train,\n",
        "                                                          y=iris_y_train)\n",
        "iris_decisiontree_predictions = iris_decisiontree_model.predict(X=iris_x_test)\n",
        "iris_decisiontree_predictions"
      ],
      "execution_count": 66,
      "outputs": [
        {
          "output_type": "execute_result",
          "data": {
            "text/plain": [
              "array([5.5 , 5.5 , 5.  , 5.1 , 6.  , 5.1 , 5.8 , 4.6 , 6.7 , 4.6 , 5.  ,\n",
              "       4.9 , 5.  , 7.4 , 5.5 , 6.4 , 5.  , 6.4 , 5.8 , 5.8 , 6.7 , 6.5 ,\n",
              "       6.5 , 5.6 , 5.  , 7.  , 5.5 , 6.4 , 5.1 , 4.55, 4.55, 6.2 , 6.7 ,\n",
              "       6.7 , 5.8 , 5.4 , 6.4 , 5.5 ])"
            ]
          },
          "metadata": {
            "tags": []
          },
          "execution_count": 66
        }
      ]
    },
    {
      "cell_type": "code",
      "metadata": {
        "id": "exvkGnF2lv8_",
        "colab_type": "code",
        "colab": {
          "base_uri": "https://localhost:8080/",
          "height": 34
        },
        "outputId": "9b5de37f-03b1-4bdd-a8aa-6ff5ae808959"
      },
      "source": [
        "iris_decisiontree_score = iris_decisiontree_model.score(X=iris_x_test,\n",
        "                                                        y=iris_y_test)\n",
        "iris_decisiontree_score"
      ],
      "execution_count": 68,
      "outputs": [
        {
          "output_type": "execute_result",
          "data": {
            "text/plain": [
              "0.7173334297037813"
            ]
          },
          "metadata": {
            "tags": []
          },
          "execution_count": 68
        }
      ]
    },
    {
      "cell_type": "markdown",
      "metadata": {
        "id": "19bXaeuImHPW",
        "colab_type": "text"
      },
      "source": [
        "__Exercise__: Create an algorithm, model, predictions and score (based on the decision tree algorithm) for diamonds and for boston."
      ]
    },
    {
      "cell_type": "markdown",
      "metadata": {
        "id": "VolKkhoZmUii",
        "colab_type": "text"
      },
      "source": [
        ""
      ]
    },
    {
      "cell_type": "code",
      "metadata": {
        "id": "kqdW9T0CmVYP",
        "colab_type": "code",
        "colab": {
          "base_uri": "https://localhost:8080/",
          "height": 663
        },
        "outputId": "0efe3df2-9b4b-4f53-b177-aa676c996c37"
      },
      "source": [
        "from sklearn.neighbors import KNeighborsRegressor\n",
        "iris_kneighbors_algorithm = KNeighborsRegressor()\n",
        "iris_kneighbors_model = iris_kneighbors_algorithm.fit(X=iris_x_train,\n",
        "                                                          y=iris_y_train)\n",
        "iris_kneighbors_predictions = iris_kneighbors_model.predict(X=iris_x_test)\n",
        "iris_kneighbors_predictions"
      ],
      "execution_count": 69,
      "outputs": [
        {
          "output_type": "execute_result",
          "data": {
            "text/plain": [
              "array([[5.62],\n",
              "       [5.66],\n",
              "       [4.78],\n",
              "       [4.96],\n",
              "       [6.22],\n",
              "       [5.  ],\n",
              "       [6.12],\n",
              "       [4.92],\n",
              "       [6.72],\n",
              "       [4.76],\n",
              "       [4.86],\n",
              "       [4.64],\n",
              "       [4.68],\n",
              "       [7.4 ],\n",
              "       [5.5 ],\n",
              "       [6.  ],\n",
              "       [5.02],\n",
              "       [6.34],\n",
              "       [6.02],\n",
              "       [6.12],\n",
              "       [6.54],\n",
              "       [6.9 ],\n",
              "       [6.5 ],\n",
              "       [5.8 ],\n",
              "       [4.92],\n",
              "       [6.6 ],\n",
              "       [5.58],\n",
              "       [6.44],\n",
              "       [4.94],\n",
              "       [4.92],\n",
              "       [4.92],\n",
              "       [6.04],\n",
              "       [6.38],\n",
              "       [6.34],\n",
              "       [6.04],\n",
              "       [5.3 ],\n",
              "       [6.56],\n",
              "       [6.04]])"
            ]
          },
          "metadata": {
            "tags": []
          },
          "execution_count": 69
        }
      ]
    },
    {
      "cell_type": "code",
      "metadata": {
        "id": "AKs86q8MnvWr",
        "colab_type": "code",
        "colab": {
          "base_uri": "https://localhost:8080/",
          "height": 34
        },
        "outputId": "bfb71c39-4089-4878-8f8a-423be7ec17d1"
      },
      "source": [
        "iris_kneighbors_score = iris_kneighbors_model.score(X=iris_x_test,\n",
        "                                                        y=iris_y_test)\n",
        "iris_kneighbors_score"
      ],
      "execution_count": 70,
      "outputs": [
        {
          "output_type": "execute_result",
          "data": {
            "text/plain": [
              "0.8123917940563528"
            ]
          },
          "metadata": {
            "tags": []
          },
          "execution_count": 70
        }
      ]
    },
    {
      "cell_type": "markdown",
      "metadata": {
        "id": "N0gMEDYEoMkR",
        "colab_type": "text"
      },
      "source": [
        "__Exercise__: Create an algorithm, model, predictions and score (based on the k-nearest neighbor algorithm) for boston."
      ]
    },
    {
      "cell_type": "code",
      "metadata": {
        "id": "igmB4sN2nvFY",
        "colab_type": "code",
        "colab": {}
      },
      "source": [
        ""
      ],
      "execution_count": 0,
      "outputs": []
    }
  ]
}