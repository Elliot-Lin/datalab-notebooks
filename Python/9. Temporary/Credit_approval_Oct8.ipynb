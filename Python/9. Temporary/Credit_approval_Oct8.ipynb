{
  "nbformat": 4,
  "nbformat_minor": 0,
  "metadata": {
    "colab": {
      "name": "Credit-approval Oct8.ipynb",
      "provenance": [],
      "include_colab_link": true
    },
    "kernelspec": {
      "name": "python3",
      "display_name": "Python 3"
    }
  },
  "cells": [
    {
      "cell_type": "markdown",
      "metadata": {
        "id": "view-in-github",
        "colab_type": "text"
      },
      "source": [
        "<a href=\"https://colab.research.google.com/github/data-space/datalab-notebooks/blob/master/Python/9.%20Temporary/Credit_approval_Oct8.ipynb\" target=\"_parent\"><img src=\"https://colab.research.google.com/assets/colab-badge.svg\" alt=\"Open In Colab\"/></a>"
      ]
    },
    {
      "cell_type": "markdown",
      "metadata": {
        "id": "-ueE1NdccOsX",
        "colab_type": "text"
      },
      "source": [
        "# Classes & Objects - Credit Approval Dataset"
      ]
    },
    {
      "cell_type": "markdown",
      "metadata": {
        "id": "Gaxo4tyLcWRo",
        "colab_type": "text"
      },
      "source": [
        "The credit approval dataset is read by the `get_initial_pdf` function. "
      ]
    },
    {
      "cell_type": "code",
      "metadata": {
        "id": "HxLcuqivTOZZ",
        "colab_type": "code",
        "colab": {}
      },
      "source": [
        "import pandas as pd\n",
        "def get_initial_pdf():\n",
        "  pdf = pd.read_csv('https://raw.githubusercontent.com/datalab-datasets/credit-approval/master/crx.data',\n",
        "                    header=None,\n",
        "                    names=[f'col_{col_num}' for col_num in range(16)],\n",
        "                    dtype={f'col_{num}': 'float' for num in [1,2,7,13,14]},\n",
        "                    na_values=['?']\n",
        "                    ) \\\n",
        "          .replace(to_replace={'col_15': {'+':1.0, '-':0.0}}) \n",
        "  return pdf"
      ],
      "execution_count": 0,
      "outputs": []
    },
    {
      "cell_type": "markdown",
      "metadata": {
        "id": "Vc1jMGp2ceg7",
        "colab_type": "text"
      },
      "source": [
        "It is stored in the `initial_pdf` variable. We will use this later. "
      ]
    },
    {
      "cell_type": "code",
      "metadata": {
        "id": "fVX_YKoUU5cQ",
        "colab_type": "code",
        "colab": {}
      },
      "source": [
        "initial_pdf = get_initial_pdf()\n",
        "float_pdf   = initial_pdf.select_dtypes(include='float')\n",
        "object_pdf  = initial_pdf.select_dtypes(include='object')"
      ],
      "execution_count": 0,
      "outputs": []
    },
    {
      "cell_type": "markdown",
      "metadata": {
        "id": "I3UxBplp6guB",
        "colab_type": "text"
      },
      "source": [
        "For reasons that will make more sense later, the dataset is split into two pieces: \n",
        "- the `float` columns are in `float_pdf` \n",
        "- the `object` columns are in `object_pdf`."
      ]
    },
    {
      "cell_type": "markdown",
      "metadata": {
        "id": "pnAnnQYEcHwI",
        "colab_type": "text"
      },
      "source": [
        "## Classes and objects\n",
        "- init, get and set methods"
      ]
    },
    {
      "cell_type": "code",
      "metadata": {
        "id": "AqlCYSZsdV66",
        "colab_type": "code",
        "colab": {}
      },
      "source": [
        "class Person: \n",
        "  def __init__(self,name=''):\n",
        "    self.name=name"
      ],
      "execution_count": 0,
      "outputs": []
    },
    {
      "cell_type": "code",
      "metadata": {
        "id": "BdKOLLIAdmnE",
        "colab_type": "code",
        "colab": {}
      },
      "source": [
        "host = Person(name=\"David\")\n",
        "brother = Person(name='John')"
      ],
      "execution_count": 0,
      "outputs": []
    },
    {
      "cell_type": "code",
      "metadata": {
        "id": "9Jc6PE74d_kf",
        "colab_type": "code",
        "colab": {
          "base_uri": "https://localhost:8080/",
          "height": 34
        },
        "outputId": "e848aeab-e034-468d-cf79-feb8606b1f79"
      },
      "source": [
        "host.name, brother.name"
      ],
      "execution_count": 5,
      "outputs": [
        {
          "output_type": "execute_result",
          "data": {
            "text/plain": [
              "('David', 'John')"
            ]
          },
          "metadata": {
            "tags": []
          },
          "execution_count": 5
        }
      ]
    },
    {
      "cell_type": "code",
      "metadata": {
        "id": "28dPfeJyeReI",
        "colab_type": "code",
        "colab": {}
      },
      "source": [
        "class Person: \n",
        "  def __init__(self,name=''):\n",
        "    self.name=name\n",
        "  def get_name(self):\n",
        "    return self.name"
      ],
      "execution_count": 0,
      "outputs": []
    },
    {
      "cell_type": "code",
      "metadata": {
        "id": "UUCrBkLAeaNx",
        "colab_type": "code",
        "colab": {}
      },
      "source": [
        "host = Person('david')"
      ],
      "execution_count": 0,
      "outputs": []
    },
    {
      "cell_type": "code",
      "metadata": {
        "id": "synfGqOHeiId",
        "colab_type": "code",
        "colab": {
          "base_uri": "https://localhost:8080/",
          "height": 34
        },
        "outputId": "f8f10038-59f0-4a6d-cf42-6bdc60dad6ff"
      },
      "source": [
        "host.get_name()"
      ],
      "execution_count": 8,
      "outputs": [
        {
          "output_type": "execute_result",
          "data": {
            "text/plain": [
              "'david'"
            ]
          },
          "metadata": {
            "tags": []
          },
          "execution_count": 8
        }
      ]
    },
    {
      "cell_type": "code",
      "metadata": {
        "id": "XyVzdb1FfNyo",
        "colab_type": "code",
        "colab": {}
      },
      "source": [
        "class Person: \n",
        "  def __init__(self,name=''):\n",
        "    self.name=name\n",
        "  def get_name(self):\n",
        "    return self.name\n",
        "  def set_name(self,name):\n",
        "    self.name=name\n",
        "    return self"
      ],
      "execution_count": 0,
      "outputs": []
    },
    {
      "cell_type": "code",
      "metadata": {
        "id": "U3bz7t1PfTQ9",
        "colab_type": "code",
        "colab": {}
      },
      "source": [
        "host = Person()"
      ],
      "execution_count": 0,
      "outputs": []
    },
    {
      "cell_type": "code",
      "metadata": {
        "id": "OQvPBrUEfX87",
        "colab_type": "code",
        "colab": {
          "base_uri": "https://localhost:8080/",
          "height": 34
        },
        "outputId": "3e31591d-2016-423c-8fd5-b62fcc16002e"
      },
      "source": [
        "host.get_name()"
      ],
      "execution_count": 11,
      "outputs": [
        {
          "output_type": "execute_result",
          "data": {
            "text/plain": [
              "''"
            ]
          },
          "metadata": {
            "tags": []
          },
          "execution_count": 11
        }
      ]
    },
    {
      "cell_type": "code",
      "metadata": {
        "id": "cxSeQz49fbQP",
        "colab_type": "code",
        "colab": {
          "base_uri": "https://localhost:8080/",
          "height": 34
        },
        "outputId": "5dcf4029-779a-4f92-9d11-71fe0073e39e"
      },
      "source": [
        "host.set_name('David')"
      ],
      "execution_count": 12,
      "outputs": [
        {
          "output_type": "execute_result",
          "data": {
            "text/plain": [
              "<__main__.Person at 0x7ff130e63470>"
            ]
          },
          "metadata": {
            "tags": []
          },
          "execution_count": 12
        }
      ]
    },
    {
      "cell_type": "code",
      "metadata": {
        "id": "yeZp1KWRfeI7",
        "colab_type": "code",
        "colab": {
          "base_uri": "https://localhost:8080/",
          "height": 34
        },
        "outputId": "1fd30415-adfd-47b5-8b25-1c569b7c52c1"
      },
      "source": [
        "host.get_name()"
      ],
      "execution_count": 13,
      "outputs": [
        {
          "output_type": "execute_result",
          "data": {
            "text/plain": [
              "'David'"
            ]
          },
          "metadata": {
            "tags": []
          },
          "execution_count": 13
        }
      ]
    },
    {
      "cell_type": "code",
      "metadata": {
        "id": "9MowHhb1fguZ",
        "colab_type": "code",
        "colab": {
          "base_uri": "https://localhost:8080/",
          "height": 34
        },
        "outputId": "a304229e-5523-4d97-fcfc-a73f99a31e2e"
      },
      "source": [
        "host.set_name('Davie').get_name()"
      ],
      "execution_count": 14,
      "outputs": [
        {
          "output_type": "execute_result",
          "data": {
            "text/plain": [
              "'Davie'"
            ]
          },
          "metadata": {
            "tags": []
          },
          "execution_count": 14
        }
      ]
    },
    {
      "cell_type": "markdown",
      "metadata": {
        "id": "428XjcT4KLEK",
        "colab_type": "text"
      },
      "source": [
        "From this section remember:\n",
        "- The \"init\" method records the initial parameters used when creating the object\n",
        "- The \"get\" method return values from the object\n",
        "- The \"set\" method stores values in the object and returns `self` (the object)\n"
      ]
    },
    {
      "cell_type": "markdown",
      "metadata": {
        "id": "gxnznmwdgHvT",
        "colab_type": "text"
      },
      "source": [
        "## Transformer classes and objects"
      ]
    },
    {
      "cell_type": "markdown",
      "metadata": {
        "id": "bwwt5vo57fMp",
        "colab_type": "text"
      },
      "source": [
        "### `DoNothing` class (first example)"
      ]
    },
    {
      "cell_type": "code",
      "metadata": {
        "id": "TPATgOp1g96l",
        "colab_type": "code",
        "colab": {}
      },
      "source": [
        "from sklearn.base import BaseEstimator, TransformerMixin\n",
        "class DoNothing(BaseEstimator, TransformerMixin):\n",
        "  def __init__(self):\n",
        "    return\n",
        "  def fit(self, X, y=None):\n",
        "    return self\n",
        "  def transform(self, X):\n",
        "    return X"
      ],
      "execution_count": 0,
      "outputs": []
    },
    {
      "cell_type": "code",
      "metadata": {
        "id": "FUlRDzoshepQ",
        "colab_type": "code",
        "colab": {}
      },
      "source": [
        "no_op = DoNothing()"
      ],
      "execution_count": 0,
      "outputs": []
    },
    {
      "cell_type": "code",
      "metadata": {
        "id": "3xymTjNihxvu",
        "colab_type": "code",
        "colab": {
          "base_uri": "https://localhost:8080/",
          "height": 34
        },
        "outputId": "ce5aadee-48b4-4ade-8c80-ef92044babbc"
      },
      "source": [
        "no_op.fit(initial_pdf)"
      ],
      "execution_count": 17,
      "outputs": [
        {
          "output_type": "execute_result",
          "data": {
            "text/plain": [
              "DoNothing()"
            ]
          },
          "metadata": {
            "tags": []
          },
          "execution_count": 17
        }
      ]
    },
    {
      "cell_type": "code",
      "metadata": {
        "id": "T4NI_Nslh4mm",
        "colab_type": "code",
        "colab": {}
      },
      "source": [
        "transformed_pdf = no_op.transform(initial_pdf)"
      ],
      "execution_count": 0,
      "outputs": []
    },
    {
      "cell_type": "code",
      "metadata": {
        "id": "nD9EzuDJiNWK",
        "colab_type": "code",
        "colab": {
          "base_uri": "https://localhost:8080/",
          "height": 34
        },
        "outputId": "78482acd-584b-449b-aaf6-88737f4c9ce2"
      },
      "source": [
        "transformed_pdf.equals(initial_pdf)"
      ],
      "execution_count": 19,
      "outputs": [
        {
          "output_type": "execute_result",
          "data": {
            "text/plain": [
              "True"
            ]
          },
          "metadata": {
            "tags": []
          },
          "execution_count": 19
        }
      ]
    },
    {
      "cell_type": "markdown",
      "metadata": {
        "id": "DJNy-AdK7k-S",
        "colab_type": "text"
      },
      "source": [
        "### `DataFrameSelector` class (second example)"
      ]
    },
    {
      "cell_type": "code",
      "metadata": {
        "id": "hd03ol_W7tWF",
        "colab_type": "code",
        "colab": {}
      },
      "source": [
        "class DataFrameSelector(BaseEstimator, TransformerMixin):\n",
        "  def __init__(self, attribute_names=[]):\n",
        "    self.attribute_names = attribute_names\n",
        "  def fit(self, X, y=None):\n",
        "    return self\n",
        "  def transform(self, X):\n",
        "    return X[self.attribute_names]"
      ],
      "execution_count": 0,
      "outputs": []
    },
    {
      "cell_type": "code",
      "metadata": {
        "id": "ZlJRYWSO-aUn",
        "colab_type": "code",
        "colab": {
          "base_uri": "https://localhost:8080/",
          "height": 195
        },
        "outputId": "3e4c0849-7910-4db4-f3b1-cd08aebda3e2"
      },
      "source": [
        "(DataFrameSelector(attribute_names=['col_1','col_2'])\n",
        ".fit(float_pdf)\n",
        ".transform(float_pdf)\n",
        ".head()\n",
        ")"
      ],
      "execution_count": 21,
      "outputs": [
        {
          "output_type": "execute_result",
          "data": {
            "text/html": [
              "<div>\n",
              "<style scoped>\n",
              "    .dataframe tbody tr th:only-of-type {\n",
              "        vertical-align: middle;\n",
              "    }\n",
              "\n",
              "    .dataframe tbody tr th {\n",
              "        vertical-align: top;\n",
              "    }\n",
              "\n",
              "    .dataframe thead th {\n",
              "        text-align: right;\n",
              "    }\n",
              "</style>\n",
              "<table border=\"1\" class=\"dataframe\">\n",
              "  <thead>\n",
              "    <tr style=\"text-align: right;\">\n",
              "      <th></th>\n",
              "      <th>col_1</th>\n",
              "      <th>col_2</th>\n",
              "    </tr>\n",
              "  </thead>\n",
              "  <tbody>\n",
              "    <tr>\n",
              "      <th>0</th>\n",
              "      <td>30.83</td>\n",
              "      <td>0.000</td>\n",
              "    </tr>\n",
              "    <tr>\n",
              "      <th>1</th>\n",
              "      <td>58.67</td>\n",
              "      <td>4.460</td>\n",
              "    </tr>\n",
              "    <tr>\n",
              "      <th>2</th>\n",
              "      <td>24.50</td>\n",
              "      <td>0.500</td>\n",
              "    </tr>\n",
              "    <tr>\n",
              "      <th>3</th>\n",
              "      <td>27.83</td>\n",
              "      <td>1.540</td>\n",
              "    </tr>\n",
              "    <tr>\n",
              "      <th>4</th>\n",
              "      <td>20.17</td>\n",
              "      <td>5.625</td>\n",
              "    </tr>\n",
              "  </tbody>\n",
              "</table>\n",
              "</div>"
            ],
            "text/plain": [
              "   col_1  col_2\n",
              "0  30.83  0.000\n",
              "1  58.67  4.460\n",
              "2  24.50  0.500\n",
              "3  27.83  1.540\n",
              "4  20.17  5.625"
            ]
          },
          "metadata": {
            "tags": []
          },
          "execution_count": 21
        }
      ]
    },
    {
      "cell_type": "markdown",
      "metadata": {
        "id": "jVnC1Rf3quDH",
        "colab_type": "text"
      },
      "source": [
        "## Transforming `object` columns "
      ]
    },
    {
      "cell_type": "markdown",
      "metadata": {
        "id": "abhA9ezpstJW",
        "colab_type": "text"
      },
      "source": [
        "### `Object` - `SimpleImputer`"
      ]
    },
    {
      "cell_type": "code",
      "metadata": {
        "id": "pnfu-E519gVM",
        "colab_type": "code",
        "colab": {}
      },
      "source": [
        "from sklearn.impute import SimpleImputer\n",
        "import numpy as np"
      ],
      "execution_count": 0,
      "outputs": []
    },
    {
      "cell_type": "code",
      "metadata": {
        "id": "lMJa5zVYq3CL",
        "colab_type": "code",
        "colab": {}
      },
      "source": [
        "imp = SimpleImputer(missing_values=np.nan,\n",
        "                    strategy='most_frequent')"
      ],
      "execution_count": 0,
      "outputs": []
    },
    {
      "cell_type": "code",
      "metadata": {
        "id": "LlqkLLeGr2Mg",
        "colab_type": "code",
        "colab": {
          "base_uri": "https://localhost:8080/",
          "height": 50
        },
        "outputId": "6522c832-9995-4b27-ef8f-29bcd93e0cef"
      },
      "source": [
        "imp.fit(object_pdf)"
      ],
      "execution_count": 24,
      "outputs": [
        {
          "output_type": "execute_result",
          "data": {
            "text/plain": [
              "SimpleImputer(add_indicator=False, copy=True, fill_value=None,\n",
              "              missing_values=nan, strategy='most_frequent', verbose=0)"
            ]
          },
          "metadata": {
            "tags": []
          },
          "execution_count": 24
        }
      ]
    },
    {
      "cell_type": "code",
      "metadata": {
        "id": "WzNM_TLzr-TQ",
        "colab_type": "code",
        "colab": {
          "base_uri": "https://localhost:8080/",
          "height": 34
        },
        "outputId": "ae9bf93c-2947-4c38-b80e-d54d1a96dc33"
      },
      "source": [
        "imp.statistics_"
      ],
      "execution_count": 25,
      "outputs": [
        {
          "output_type": "execute_result",
          "data": {
            "text/plain": [
              "array(['b', 'u', 'g', 'c', 'v', 't', 'f', 'f', 'g'], dtype=object)"
            ]
          },
          "metadata": {
            "tags": []
          },
          "execution_count": 25
        }
      ]
    },
    {
      "cell_type": "code",
      "metadata": {
        "id": "VWoRiv4b9sna",
        "colab_type": "code",
        "colab": {
          "base_uri": "https://localhost:8080/",
          "height": 67
        },
        "outputId": "0edfab69-d142-480c-b6b0-a251fe269b2e"
      },
      "source": [
        "object_pdf.columns"
      ],
      "execution_count": 26,
      "outputs": [
        {
          "output_type": "execute_result",
          "data": {
            "text/plain": [
              "Index(['col_0', 'col_3', 'col_4', 'col_5', 'col_6', 'col_8', 'col_9', 'col_11',\n",
              "       'col_12'],\n",
              "      dtype='object')"
            ]
          },
          "metadata": {
            "tags": []
          },
          "execution_count": 26
        }
      ]
    },
    {
      "cell_type": "code",
      "metadata": {
        "id": "HWgbsQ6S9zVw",
        "colab_type": "code",
        "colab": {
          "base_uri": "https://localhost:8080/",
          "height": 67
        },
        "outputId": "53220bae-449d-48bc-ac82-393acd2e18bd"
      },
      "source": [
        "object_pdf.col_0.value_counts()"
      ],
      "execution_count": 27,
      "outputs": [
        {
          "output_type": "execute_result",
          "data": {
            "text/plain": [
              "b    468\n",
              "a    210\n",
              "Name: col_0, dtype: int64"
            ]
          },
          "metadata": {
            "tags": []
          },
          "execution_count": 27
        }
      ]
    },
    {
      "cell_type": "code",
      "metadata": {
        "id": "Z638GT_79_YJ",
        "colab_type": "code",
        "colab": {
          "base_uri": "https://localhost:8080/",
          "height": 84
        },
        "outputId": "fa411b12-8668-4bf5-c98f-ee1ad4ef84d9"
      },
      "source": [
        "object_pdf.col_3.value_counts()"
      ],
      "execution_count": 28,
      "outputs": [
        {
          "output_type": "execute_result",
          "data": {
            "text/plain": [
              "u    519\n",
              "y    163\n",
              "l      2\n",
              "Name: col_3, dtype: int64"
            ]
          },
          "metadata": {
            "tags": []
          },
          "execution_count": 28
        }
      ]
    },
    {
      "cell_type": "code",
      "metadata": {
        "id": "nGvr5NOXsBzl",
        "colab_type": "code",
        "colab": {}
      },
      "source": [
        "imputed_object_arr = imp.transform(object_pdf)"
      ],
      "execution_count": 0,
      "outputs": []
    },
    {
      "cell_type": "code",
      "metadata": {
        "id": "a8OCR_IlsWhr",
        "colab_type": "code",
        "colab": {
          "base_uri": "https://localhost:8080/",
          "height": 134
        },
        "outputId": "e56382b0-6885-45ae-d664-074680892cea"
      },
      "source": [
        "imputed_object_arr"
      ],
      "execution_count": 30,
      "outputs": [
        {
          "output_type": "execute_result",
          "data": {
            "text/plain": [
              "array([['b', 'u', 'g', ..., 't', 'f', 'g'],\n",
              "       ['a', 'u', 'g', ..., 't', 'f', 'g'],\n",
              "       ['a', 'u', 'g', ..., 'f', 'f', 'g'],\n",
              "       ...,\n",
              "       ['a', 'y', 'p', ..., 't', 't', 'g'],\n",
              "       ['b', 'u', 'g', ..., 'f', 'f', 'g'],\n",
              "       ['b', 'u', 'g', ..., 'f', 't', 'g']], dtype=object)"
            ]
          },
          "metadata": {
            "tags": []
          },
          "execution_count": 30
        }
      ]
    },
    {
      "cell_type": "markdown",
      "metadata": {
        "id": "TQ_BA3rQooYd",
        "colab_type": "text"
      },
      "source": [
        "### `Object` - `OneHotEncoder`\n",
        "\n",
        "- https://scikit-learn.org/stable/modules/generated/sklearn.preprocessing.OneHotEncoder.html"
      ]
    },
    {
      "cell_type": "code",
      "metadata": {
        "id": "Pj7YIWkXo7MV",
        "colab_type": "code",
        "colab": {}
      },
      "source": [
        "from sklearn.preprocessing import OneHotEncoder"
      ],
      "execution_count": 0,
      "outputs": []
    },
    {
      "cell_type": "code",
      "metadata": {
        "id": "yhMIRPiCo25I",
        "colab_type": "code",
        "colab": {}
      },
      "source": [
        "ohe = OneHotEncoder()"
      ],
      "execution_count": 0,
      "outputs": []
    },
    {
      "cell_type": "code",
      "metadata": {
        "id": "N80Ugn0HtqJx",
        "colab_type": "code",
        "colab": {
          "base_uri": "https://localhost:8080/",
          "height": 185
        },
        "outputId": "15fdffbd-a9ec-476e-b00c-8ce36d0cbddc"
      },
      "source": [
        "test_arr = imputed_object_arr[5:15,:3]\n",
        "test_arr"
      ],
      "execution_count": 33,
      "outputs": [
        {
          "output_type": "execute_result",
          "data": {
            "text/plain": [
              "array([['b', 'u', 'g'],\n",
              "       ['b', 'u', 'g'],\n",
              "       ['a', 'u', 'g'],\n",
              "       ['b', 'y', 'p'],\n",
              "       ['b', 'y', 'p'],\n",
              "       ['b', 'u', 'g'],\n",
              "       ['b', 'u', 'g'],\n",
              "       ['a', 'u', 'g'],\n",
              "       ['b', 'u', 'g'],\n",
              "       ['a', 'u', 'g']], dtype=object)"
            ]
          },
          "metadata": {
            "tags": []
          },
          "execution_count": 33
        }
      ]
    },
    {
      "cell_type": "code",
      "metadata": {
        "id": "0bK5d0JBo2t2",
        "colab_type": "code",
        "colab": {
          "base_uri": "https://localhost:8080/",
          "height": 185
        },
        "outputId": "be324b53-9ce4-4f08-91fc-061bb634ef84"
      },
      "source": [
        "ohe.fit(test_arr).transform(test_arr).todense()"
      ],
      "execution_count": 34,
      "outputs": [
        {
          "output_type": "execute_result",
          "data": {
            "text/plain": [
              "matrix([[0., 1., 1., 0., 1., 0.],\n",
              "        [0., 1., 1., 0., 1., 0.],\n",
              "        [1., 0., 1., 0., 1., 0.],\n",
              "        [0., 1., 0., 1., 0., 1.],\n",
              "        [0., 1., 0., 1., 0., 1.],\n",
              "        [0., 1., 1., 0., 1., 0.],\n",
              "        [0., 1., 1., 0., 1., 0.],\n",
              "        [1., 0., 1., 0., 1., 0.],\n",
              "        [0., 1., 1., 0., 1., 0.],\n",
              "        [1., 0., 1., 0., 1., 0.]])"
            ]
          },
          "metadata": {
            "tags": []
          },
          "execution_count": 34
        }
      ]
    },
    {
      "cell_type": "code",
      "metadata": {
        "id": "1NOJIMiWvCcz",
        "colab_type": "code",
        "colab": {}
      },
      "source": [
        "ohe_imputed_object_pdf = ohe.fit(imputed_object_arr).transform(imputed_object_arr)"
      ],
      "execution_count": 0,
      "outputs": []
    },
    {
      "cell_type": "code",
      "metadata": {
        "id": "umNkcKmZvMDU",
        "colab_type": "code",
        "colab": {
          "base_uri": "https://localhost:8080/",
          "height": 134
        },
        "outputId": "97805c57-139c-4f5a-dd02-44f7f5b100a5"
      },
      "source": [
        "ohe_imputed_object_pdf.todense()"
      ],
      "execution_count": 36,
      "outputs": [
        {
          "output_type": "execute_result",
          "data": {
            "text/plain": [
              "matrix([[0., 1., 0., ..., 1., 0., 0.],\n",
              "        [1., 0., 0., ..., 1., 0., 0.],\n",
              "        [1., 0., 0., ..., 1., 0., 0.],\n",
              "        ...,\n",
              "        [1., 0., 0., ..., 1., 0., 0.],\n",
              "        [0., 1., 0., ..., 1., 0., 0.],\n",
              "        [0., 1., 0., ..., 1., 0., 0.]])"
            ]
          },
          "metadata": {
            "tags": []
          },
          "execution_count": 36
        }
      ]
    },
    {
      "cell_type": "markdown",
      "metadata": {
        "id": "jCrFq9sZkigY",
        "colab_type": "text"
      },
      "source": [
        "## `Float`"
      ]
    },
    {
      "cell_type": "markdown",
      "metadata": {
        "id": "NQrA9HkswJfa",
        "colab_type": "text"
      },
      "source": [
        "### `Float` - `SimpleImputer`"
      ]
    },
    {
      "cell_type": "markdown",
      "metadata": {
        "id": "B2aW_fJ1klEr",
        "colab_type": "text"
      },
      "source": [
        "- https://scikit-learn.org/stable/modules/generated/sklearn.impute.SimpleImputer.html"
      ]
    },
    {
      "cell_type": "code",
      "metadata": {
        "id": "aPZafbjblrSP",
        "colab_type": "code",
        "colab": {}
      },
      "source": [
        "from sklearn.impute import SimpleImputer\n",
        "import numpy as np"
      ],
      "execution_count": 0,
      "outputs": []
    },
    {
      "cell_type": "code",
      "metadata": {
        "id": "YSKIOQWPoK6d",
        "colab_type": "code",
        "colab": {}
      },
      "source": [
        "imp = SimpleImputer(missing_values=np.nan, strategy='mean')"
      ],
      "execution_count": 0,
      "outputs": []
    },
    {
      "cell_type": "code",
      "metadata": {
        "id": "kjual6hNoN0k",
        "colab_type": "code",
        "colab": {
          "base_uri": "https://localhost:8080/",
          "height": 50
        },
        "outputId": "c3f5660a-422d-43cd-8776-28067548fc38"
      },
      "source": [
        "imp.fit(float_pdf)"
      ],
      "execution_count": 39,
      "outputs": [
        {
          "output_type": "execute_result",
          "data": {
            "text/plain": [
              "SimpleImputer(add_indicator=False, copy=True, fill_value=None,\n",
              "              missing_values=nan, strategy='mean', verbose=0)"
            ]
          },
          "metadata": {
            "tags": []
          },
          "execution_count": 39
        }
      ]
    },
    {
      "cell_type": "code",
      "metadata": {
        "id": "oulOOQXtusXd",
        "colab_type": "code",
        "colab": {}
      },
      "source": [
        "imputed_float_pdf = imp.transform(float_pdf)"
      ],
      "execution_count": 0,
      "outputs": []
    },
    {
      "cell_type": "markdown",
      "metadata": {
        "id": "eX4wooUgwQLR",
        "colab_type": "text"
      },
      "source": [
        "### `Float` - `MinMaxScaler`"
      ]
    },
    {
      "cell_type": "code",
      "metadata": {
        "id": "u6GbINxbwPx4",
        "colab_type": "code",
        "colab": {}
      },
      "source": [
        "from sklearn.preprocessing import MinMaxScaler\n",
        "scaler = MinMaxScaler()"
      ],
      "execution_count": 0,
      "outputs": []
    },
    {
      "cell_type": "code",
      "metadata": {
        "id": "wbfNl03WwgMu",
        "colab_type": "code",
        "colab": {
          "base_uri": "https://localhost:8080/",
          "height": 34
        },
        "outputId": "81418fee-8aa8-4464-bb24-28b56607f84a"
      },
      "source": [
        "scaler.fit(imputed_float_pdf)"
      ],
      "execution_count": 42,
      "outputs": [
        {
          "output_type": "execute_result",
          "data": {
            "text/plain": [
              "MinMaxScaler(copy=True, feature_range=(0, 1))"
            ]
          },
          "metadata": {
            "tags": []
          },
          "execution_count": 42
        }
      ]
    },
    {
      "cell_type": "code",
      "metadata": {
        "id": "7_eNF7lYwnSz",
        "colab_type": "code",
        "colab": {
          "base_uri": "https://localhost:8080/",
          "height": 50
        },
        "outputId": "3518cdee-896b-4ef6-d907-df65ce1f455c"
      },
      "source": [
        "scaler.data_min_, scaler.data_max_"
      ],
      "execution_count": 43,
      "outputs": [
        {
          "output_type": "execute_result",
          "data": {
            "text/plain": [
              "(array([13.75,  0.  ,  0.  ,  0.  ,  0.  ,  0.  ]),\n",
              " array([8.025e+01, 2.800e+01, 2.850e+01, 2.000e+03, 1.000e+05, 1.000e+00]))"
            ]
          },
          "metadata": {
            "tags": []
          },
          "execution_count": 43
        }
      ]
    },
    {
      "cell_type": "code",
      "metadata": {
        "id": "15a0MDiEw1lD",
        "colab_type": "code",
        "colab": {}
      },
      "source": [
        "scaled_imputed_float_pdf = scaler.transform(imputed_float_pdf)"
      ],
      "execution_count": 0,
      "outputs": []
    },
    {
      "cell_type": "code",
      "metadata": {
        "id": "CDIatNuRLqdE",
        "colab_type": "code",
        "colab": {
          "base_uri": "https://localhost:8080/",
          "height": 34
        },
        "outputId": "aa11a857-3929-467c-af5a-23267cfca57f"
      },
      "source": [
        "(scaled_imputed_float_pdf.min(), \n",
        " scaled_imputed_float_pdf.max()\n",
        " )"
      ],
      "execution_count": 45,
      "outputs": [
        {
          "output_type": "execute_result",
          "data": {
            "text/plain": [
              "(0.0, 1.0)"
            ]
          },
          "metadata": {
            "tags": []
          },
          "execution_count": 45
        }
      ]
    },
    {
      "cell_type": "markdown",
      "metadata": {
        "id": "g_cSC2Emx0y5",
        "colab_type": "text"
      },
      "source": [
        "## `Object` - `Pipeline`"
      ]
    },
    {
      "cell_type": "code",
      "metadata": {
        "id": "T8XWH9SryFRu",
        "colab_type": "code",
        "colab": {}
      },
      "source": [
        "imp = SimpleImputer(missing_values=np.nan,strategy='most_frequent')\n",
        "imputed_object_arr =  imp.fit(object_pdf).transform(object_pdf)"
      ],
      "execution_count": 0,
      "outputs": []
    },
    {
      "cell_type": "code",
      "metadata": {
        "id": "25MLHYdDzXsT",
        "colab_type": "code",
        "colab": {}
      },
      "source": [
        "ohe = OneHotEncoder()\n",
        "ohe_imputed_object_arr = ohe.fit(imputed_object_arr).transform(imputed_object_arr)"
      ],
      "execution_count": 0,
      "outputs": []
    },
    {
      "cell_type": "code",
      "metadata": {
        "id": "hc1rBetsMTE3",
        "colab_type": "code",
        "colab": {
          "base_uri": "https://localhost:8080/",
          "height": 134
        },
        "outputId": "afe73512-ea34-488c-8b79-0ae3a76504e0"
      },
      "source": [
        "ohe_imputed_object_arr.todense()"
      ],
      "execution_count": 48,
      "outputs": [
        {
          "output_type": "execute_result",
          "data": {
            "text/plain": [
              "matrix([[0., 1., 0., ..., 1., 0., 0.],\n",
              "        [1., 0., 0., ..., 1., 0., 0.],\n",
              "        [1., 0., 0., ..., 1., 0., 0.],\n",
              "        ...,\n",
              "        [1., 0., 0., ..., 1., 0., 0.],\n",
              "        [0., 1., 0., ..., 1., 0., 0.],\n",
              "        [0., 1., 0., ..., 1., 0., 0.]])"
            ]
          },
          "metadata": {
            "tags": []
          },
          "execution_count": 48
        }
      ]
    },
    {
      "cell_type": "code",
      "metadata": {
        "id": "izrPlR3VzXd5",
        "colab_type": "code",
        "colab": {}
      },
      "source": [
        "from sklearn.pipeline import Pipeline\n",
        "imp_ohe_pipe = Pipeline(steps=[('imp_obj', SimpleImputer(missing_values=np.nan,strategy='most_frequent')),\n",
        "                               ('ohe_obj', OneHotEncoder())\n",
        "                               ]\n",
        ")              "
      ],
      "execution_count": 0,
      "outputs": []
    },
    {
      "cell_type": "code",
      "metadata": {
        "id": "3sFv4WfN0V5K",
        "colab_type": "code",
        "colab": {
          "base_uri": "https://localhost:8080/",
          "height": 34
        },
        "outputId": "2d1b263f-9a9f-4e9b-f794-3cac2d32fb5c"
      },
      "source": [
        "pipe_ohe_imputed_object_arr = imp_ohe_pipe.fit(object_pdf).transform(object_pdf)\n",
        "np.array_equal(pipe_ohe_imputed_object_arr.todense(),\n",
        "                    ohe_imputed_object_arr.todense()\n",
        "               )"
      ],
      "execution_count": 50,
      "outputs": [
        {
          "output_type": "execute_result",
          "data": {
            "text/plain": [
              "True"
            ]
          },
          "metadata": {
            "tags": []
          },
          "execution_count": 50
        }
      ]
    },
    {
      "cell_type": "markdown",
      "metadata": {
        "id": "pORqp9Oz1C1Q",
        "colab_type": "text"
      },
      "source": [
        "## `Float` - `Pipeline`"
      ]
    },
    {
      "cell_type": "code",
      "metadata": {
        "id": "S68T589c1Btc",
        "colab_type": "code",
        "colab": {}
      },
      "source": [
        "imp = SimpleImputer(missing_values=np.nan, strategy='mean')\n",
        "imputed_float_arr = imp.fit(float_pdf).transform(float_pdf)"
      ],
      "execution_count": 0,
      "outputs": []
    },
    {
      "cell_type": "code",
      "metadata": {
        "id": "PweqFKDV1ZRm",
        "colab_type": "code",
        "colab": {}
      },
      "source": [
        "scaler = MinMaxScaler()\n",
        "scaled_imputed_float_arr = scaler.fit(imputed_float_arr).transform(imputed_float_arr)"
      ],
      "execution_count": 0,
      "outputs": []
    },
    {
      "cell_type": "code",
      "metadata": {
        "id": "Ctp2xjpS1nKt",
        "colab_type": "code",
        "colab": {}
      },
      "source": [
        "from sklearn.pipeline import Pipeline\n",
        "imp_sca_pipe = Pipeline(steps=[('imp_flt', SimpleImputer(missing_values=np.nan,strategy='mean')),\n",
        "                               ('sca_flt', MinMaxScaler())\n",
        "                               ]\n",
        ")              "
      ],
      "execution_count": 0,
      "outputs": []
    },
    {
      "cell_type": "code",
      "metadata": {
        "id": "xYmj3fHJ1ztm",
        "colab_type": "code",
        "colab": {}
      },
      "source": [
        "pipe_scaled_imputed_float_arr = imp_sca_pipe.fit(float_pdf).transform(float_pdf)"
      ],
      "execution_count": 0,
      "outputs": []
    },
    {
      "cell_type": "code",
      "metadata": {
        "id": "vGQJS22vB9uK",
        "colab_type": "code",
        "colab": {
          "base_uri": "https://localhost:8080/",
          "height": 34
        },
        "outputId": "a603f6d4-4409-40e2-bca4-ddb076c1e352"
      },
      "source": [
        "np.array_equal(pipe_scaled_imputed_float_arr,\n",
        "               scaled_imputed_float_arr)"
      ],
      "execution_count": 55,
      "outputs": [
        {
          "output_type": "execute_result",
          "data": {
            "text/plain": [
              "True"
            ]
          },
          "metadata": {
            "tags": []
          },
          "execution_count": 55
        }
      ]
    },
    {
      "cell_type": "markdown",
      "metadata": {
        "id": "r-TNGaPACKBQ",
        "colab_type": "text"
      },
      "source": [
        "## `FeatureUnion`"
      ]
    },
    {
      "cell_type": "code",
      "metadata": {
        "id": "EdQS5XSICNMP",
        "colab_type": "code",
        "colab": {}
      },
      "source": [
        "from sklearn.pipeline import FeatureUnion"
      ],
      "execution_count": 0,
      "outputs": []
    },
    {
      "cell_type": "code",
      "metadata": {
        "id": "T7ZfXLQ4Cvcc",
        "colab_type": "code",
        "colab": {}
      },
      "source": [
        "class SelectDtypePDF(BaseEstimator, TransformerMixin):\n",
        "  def __init__(self, dtype=[]):\n",
        "    self.dtype = dtype\n",
        "  def fit(self, X, y=None):\n",
        "    return self\n",
        "  def transform(self, X):\n",
        "    return X.select_dtypes(self.dtype)"
      ],
      "execution_count": 0,
      "outputs": []
    },
    {
      "cell_type": "code",
      "metadata": {
        "id": "bueZBmBKDEUN",
        "colab_type": "code",
        "colab": {
          "base_uri": "https://localhost:8080/",
          "height": 195
        },
        "outputId": "54b0b777-cdba-411f-e643-17e6eac83ed9"
      },
      "source": [
        "SelectDtypePDF(dtype='float').fit(initial_pdf).transform(initial_pdf).head()"
      ],
      "execution_count": 58,
      "outputs": [
        {
          "output_type": "execute_result",
          "data": {
            "text/html": [
              "<div>\n",
              "<style scoped>\n",
              "    .dataframe tbody tr th:only-of-type {\n",
              "        vertical-align: middle;\n",
              "    }\n",
              "\n",
              "    .dataframe tbody tr th {\n",
              "        vertical-align: top;\n",
              "    }\n",
              "\n",
              "    .dataframe thead th {\n",
              "        text-align: right;\n",
              "    }\n",
              "</style>\n",
              "<table border=\"1\" class=\"dataframe\">\n",
              "  <thead>\n",
              "    <tr style=\"text-align: right;\">\n",
              "      <th></th>\n",
              "      <th>col_1</th>\n",
              "      <th>col_2</th>\n",
              "      <th>col_7</th>\n",
              "      <th>col_13</th>\n",
              "      <th>col_14</th>\n",
              "      <th>col_15</th>\n",
              "    </tr>\n",
              "  </thead>\n",
              "  <tbody>\n",
              "    <tr>\n",
              "      <th>0</th>\n",
              "      <td>30.83</td>\n",
              "      <td>0.000</td>\n",
              "      <td>1.25</td>\n",
              "      <td>202.0</td>\n",
              "      <td>0.0</td>\n",
              "      <td>1.0</td>\n",
              "    </tr>\n",
              "    <tr>\n",
              "      <th>1</th>\n",
              "      <td>58.67</td>\n",
              "      <td>4.460</td>\n",
              "      <td>3.04</td>\n",
              "      <td>43.0</td>\n",
              "      <td>560.0</td>\n",
              "      <td>1.0</td>\n",
              "    </tr>\n",
              "    <tr>\n",
              "      <th>2</th>\n",
              "      <td>24.50</td>\n",
              "      <td>0.500</td>\n",
              "      <td>1.50</td>\n",
              "      <td>280.0</td>\n",
              "      <td>824.0</td>\n",
              "      <td>1.0</td>\n",
              "    </tr>\n",
              "    <tr>\n",
              "      <th>3</th>\n",
              "      <td>27.83</td>\n",
              "      <td>1.540</td>\n",
              "      <td>3.75</td>\n",
              "      <td>100.0</td>\n",
              "      <td>3.0</td>\n",
              "      <td>1.0</td>\n",
              "    </tr>\n",
              "    <tr>\n",
              "      <th>4</th>\n",
              "      <td>20.17</td>\n",
              "      <td>5.625</td>\n",
              "      <td>1.71</td>\n",
              "      <td>120.0</td>\n",
              "      <td>0.0</td>\n",
              "      <td>1.0</td>\n",
              "    </tr>\n",
              "  </tbody>\n",
              "</table>\n",
              "</div>"
            ],
            "text/plain": [
              "   col_1  col_2  col_7  col_13  col_14  col_15\n",
              "0  30.83  0.000   1.25   202.0     0.0     1.0\n",
              "1  58.67  4.460   3.04    43.0   560.0     1.0\n",
              "2  24.50  0.500   1.50   280.0   824.0     1.0\n",
              "3  27.83  1.540   3.75   100.0     3.0     1.0\n",
              "4  20.17  5.625   1.71   120.0     0.0     1.0"
            ]
          },
          "metadata": {
            "tags": []
          },
          "execution_count": 58
        }
      ]
    },
    {
      "cell_type": "code",
      "metadata": {
        "id": "plTd91ZLNEoF",
        "colab_type": "code",
        "colab": {
          "base_uri": "https://localhost:8080/",
          "height": 34
        },
        "outputId": "33ce2b5a-60e6-4610-a381-67edc1a72eae"
      },
      "source": [
        "float_pdf.columns"
      ],
      "execution_count": 59,
      "outputs": [
        {
          "output_type": "execute_result",
          "data": {
            "text/plain": [
              "Index(['col_1', 'col_2', 'col_7', 'col_13', 'col_14', 'col_15'], dtype='object')"
            ]
          },
          "metadata": {
            "tags": []
          },
          "execution_count": 59
        }
      ]
    },
    {
      "cell_type": "code",
      "metadata": {
        "id": "Gl2eOg5CD7Em",
        "colab_type": "code",
        "colab": {}
      },
      "source": [
        "from sklearn.pipeline import Pipeline\n",
        "sel_imp_sca_pipe = Pipeline(steps=[('sel_flt', SelectDtypePDF('float')),\n",
        "                                   ('imp_flt', SimpleImputer(missing_values=np.nan,strategy='mean')),\n",
        "                                   ('sca_flt', MinMaxScaler())])              "
      ],
      "execution_count": 0,
      "outputs": []
    },
    {
      "cell_type": "code",
      "metadata": {
        "id": "lA1ZdrL2EX_O",
        "colab_type": "code",
        "colab": {
          "base_uri": "https://localhost:8080/",
          "height": 34
        },
        "outputId": "84f001ac-3763-4014-dd8d-1d3e04102098"
      },
      "source": [
        "np.array_equal(sel_imp_sca_pipe.fit(initial_pdf).transform(initial_pdf),\n",
        "                   imp_sca_pipe.fit(float_pdf)  .transform(float_pdf))"
      ],
      "execution_count": 61,
      "outputs": [
        {
          "output_type": "execute_result",
          "data": {
            "text/plain": [
              "True"
            ]
          },
          "metadata": {
            "tags": []
          },
          "execution_count": 61
        }
      ]
    },
    {
      "cell_type": "code",
      "metadata": {
        "id": "Sp0o1EoIEtKS",
        "colab_type": "code",
        "colab": {}
      },
      "source": [
        "from sklearn.pipeline import Pipeline\n",
        "sel_imp_ohe_pipe = Pipeline(steps=[('sel_obj', SelectDtypePDF('object')),\n",
        "                                   ('imp_obj', SimpleImputer(missing_values=np.nan,strategy='most_frequent')),\n",
        "                                   ('ohe_obj', OneHotEncoder())\n",
        "                               ])              "
      ],
      "execution_count": 0,
      "outputs": []
    },
    {
      "cell_type": "code",
      "metadata": {
        "id": "6cPv25OCE9-Q",
        "colab_type": "code",
        "colab": {
          "base_uri": "https://localhost:8080/",
          "height": 34
        },
        "outputId": "41388b9e-7f03-46f9-8023-f784e808e7b3"
      },
      "source": [
        "np.array_equal(imp_ohe_pipe.fit(object_pdf).transform(object_pdf).todense(),\n",
        "               sel_imp_ohe_pipe.fit(initial_pdf).transform(initial_pdf).todense()\n",
        "               )"
      ],
      "execution_count": 63,
      "outputs": [
        {
          "output_type": "execute_result",
          "data": {
            "text/plain": [
              "True"
            ]
          },
          "metadata": {
            "tags": []
          },
          "execution_count": 63
        }
      ]
    },
    {
      "cell_type": "code",
      "metadata": {
        "id": "Aa472rvHCXhL",
        "colab_type": "code",
        "colab": {}
      },
      "source": [
        "float_object_fea_un = FeatureUnion(transformer_list=[('flt',sel_imp_sca_pipe),\n",
        "                                                    ('obj',sel_imp_ohe_pipe)])"
      ],
      "execution_count": 0,
      "outputs": []
    },
    {
      "cell_type": "code",
      "metadata": {
        "id": "F6nPdrRDFjAU",
        "colab_type": "code",
        "colab": {}
      },
      "source": [
        "fea_un_arr = float_object_fea_un.fit(initial_pdf).transform(initial_pdf)"
      ],
      "execution_count": 0,
      "outputs": []
    },
    {
      "cell_type": "code",
      "metadata": {
        "id": "u-SSsNggFz3z",
        "colab_type": "code",
        "colab": {}
      },
      "source": [
        "concat_flt_obj_arr = \\\n",
        "np.concatenate((sel_imp_ohe_pipe.fit(initial_pdf).transform(initial_pdf).todense(),\n",
        "                sel_imp_sca_pipe.fit(initial_pdf).transform(initial_pdf)),\n",
        "               axis=1)"
      ],
      "execution_count": 0,
      "outputs": []
    },
    {
      "cell_type": "code",
      "metadata": {
        "id": "klVCG8n1IpZA",
        "colab_type": "code",
        "colab": {
          "base_uri": "https://localhost:8080/",
          "height": 34
        },
        "outputId": "073c1d9a-9d1d-46b6-bd1a-a0116348d4fd"
      },
      "source": [
        "np.array_equal(fea_un_arr.shape, concat_flt_obj_arr.shape)"
      ],
      "execution_count": 67,
      "outputs": [
        {
          "output_type": "execute_result",
          "data": {
            "text/plain": [
              "True"
            ]
          },
          "metadata": {
            "tags": []
          },
          "execution_count": 67
        }
      ]
    },
    {
      "cell_type": "code",
      "metadata": {
        "id": "7iFgJlyBI5rS",
        "colab_type": "code",
        "colab": {}
      },
      "source": [
        "float_object_fea_un = \\\n",
        "FeatureUnion(\n",
        "    transformer_list=[('flt',Pipeline(steps=[('sel_flt', SelectDtypePDF('float')),\n",
        "                                             ('imp_flt', SimpleImputer(missing_values=np.nan,strategy='mean')),\n",
        "                                             ('sca_flt', MinMaxScaler())])),\n",
        "                      ('obj',Pipeline(steps=[('sel_obj', SelectDtypePDF('object')),\n",
        "                                             ('imp_obj', SimpleImputer(missing_values=np.nan,strategy='most_frequent')),\n",
        "                                             ('ohe_obj', OneHotEncoder())]))])"
      ],
      "execution_count": 0,
      "outputs": []
    },
    {
      "cell_type": "code",
      "metadata": {
        "id": "cRtsEekOJo6I",
        "colab_type": "code",
        "colab": {
          "base_uri": "https://localhost:8080/",
          "height": 50
        },
        "outputId": "71257a5a-70c6-4a69-de06-2554af2f9b9e"
      },
      "source": [
        "float_object_fea_un.fit(initial_pdf).transform(initial_pdf)"
      ],
      "execution_count": 69,
      "outputs": [
        {
          "output_type": "execute_result",
          "data": {
            "text/plain": [
              "<690x46 sparse matrix of type '<class 'numpy.float64'>'\n",
              "\twith 9450 stored elements in Compressed Sparse Row format>"
            ]
          },
          "metadata": {
            "tags": []
          },
          "execution_count": 69
        }
      ]
    }
  ]
}