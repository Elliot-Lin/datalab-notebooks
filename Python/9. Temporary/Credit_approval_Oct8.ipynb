{
  "nbformat": 4,
  "nbformat_minor": 0,
  "metadata": {
    "colab": {
      "name": "Credit-approval Oct8.ipynb",
      "provenance": [],
      "include_colab_link": true
    },
    "kernelspec": {
      "name": "python3",
      "display_name": "Python 3"
    }
  },
  "cells": [
    {
      "cell_type": "markdown",
      "metadata": {
        "id": "view-in-github",
        "colab_type": "text"
      },
      "source": [
        "<a href=\"https://colab.research.google.com/github/data-space/datalab-notebooks/blob/master/Python/9.%20Temporary/Credit_approval_Oct8.ipynb\" target=\"_parent\"><img src=\"https://colab.research.google.com/assets/colab-badge.svg\" alt=\"Open In Colab\"/></a>"
      ]
    },
    {
      "cell_type": "markdown",
      "metadata": {
        "id": "-ueE1NdccOsX",
        "colab_type": "text"
      },
      "source": [
        "# Classes & Objects - Credit Approval Dataset"
      ]
    },
    {
      "cell_type": "markdown",
      "metadata": {
        "id": "Gaxo4tyLcWRo",
        "colab_type": "text"
      },
      "source": [
        "The credit approval dataset is read by the `get_initial_pdf` function. "
      ]
    },
    {
      "cell_type": "code",
      "metadata": {
        "id": "HxLcuqivTOZZ",
        "colab_type": "code",
        "colab": {}
      },
      "source": [
        "import pandas as pd\n",
        "def get_initial_pdf():\n",
        "  pdf = pd.read_csv('https://raw.githubusercontent.com/datalab-datasets/credit-approval/master/crx.data',\n",
        "                    header=None,\n",
        "                    names=[f'col_{col_num}' for col_num in range(16)],\n",
        "                    dtype={f'col_{num}': 'float' for num in [1,2,7,13,14]},\n",
        "                    na_values=['?']\n",
        "                    ) \\\n",
        "          .replace(to_replace={'col_15': {'+':1.0, '-':0.0}}) \n",
        "  return pdf"
      ],
      "execution_count": 0,
      "outputs": []
    },
    {
      "cell_type": "markdown",
      "metadata": {
        "id": "Vc1jMGp2ceg7",
        "colab_type": "text"
      },
      "source": [
        "It is stored in the `initial_pdf` variable. We will use this later. "
      ]
    },
    {
      "cell_type": "code",
      "metadata": {
        "id": "fVX_YKoUU5cQ",
        "colab_type": "code",
        "colab": {}
      },
      "source": [
        "initial_pdf = get_initial_pdf()"
      ],
      "execution_count": 0,
      "outputs": []
    },
    {
      "cell_type": "code",
      "metadata": {
        "id": "jmiqVdaHbhmR",
        "colab_type": "code",
        "colab": {
          "base_uri": "https://localhost:8080/",
          "height": 370
        },
        "outputId": "bc1d0ec6-7f1f-4513-ea45-ddf5c97bb5f6"
      },
      "source": [
        "initial_pdf.info()"
      ],
      "execution_count": 45,
      "outputs": [
        {
          "output_type": "stream",
          "text": [
            "<class 'pandas.core.frame.DataFrame'>\n",
            "RangeIndex: 690 entries, 0 to 689\n",
            "Data columns (total 16 columns):\n",
            "col_0     678 non-null object\n",
            "col_1     678 non-null float64\n",
            "col_2     690 non-null float64\n",
            "col_3     684 non-null object\n",
            "col_4     684 non-null object\n",
            "col_5     681 non-null object\n",
            "col_6     681 non-null object\n",
            "col_7     690 non-null float64\n",
            "col_8     690 non-null object\n",
            "col_9     690 non-null object\n",
            "col_10    690 non-null int64\n",
            "col_11    690 non-null object\n",
            "col_12    690 non-null object\n",
            "col_13    677 non-null float64\n",
            "col_14    690 non-null float64\n",
            "col_15    690 non-null float64\n",
            "dtypes: float64(6), int64(1), object(9)\n",
            "memory usage: 86.3+ KB\n"
          ],
          "name": "stdout"
        }
      ]
    },
    {
      "cell_type": "markdown",
      "metadata": {
        "id": "pnAnnQYEcHwI",
        "colab_type": "text"
      },
      "source": [
        "## Classes and objects"
      ]
    }
  ]
}