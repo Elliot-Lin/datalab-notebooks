{
  "nbformat": 4,
  "nbformat_minor": 0,
  "metadata": {
    "colab": {
      "name": "Workshop - pandas data structures intro.ipynb",
      "provenance": [],
      "include_colab_link": true
    },
    "kernelspec": {
      "name": "python3",
      "display_name": "Python 3"
    }
  },
  "cells": [
    {
      "cell_type": "markdown",
      "metadata": {
        "id": "view-in-github",
        "colab_type": "text"
      },
      "source": [
        "<a href=\"https://colab.research.google.com/github/data-space/datalab-notebooks/blob/master/Python/9.%20Temporary/Workshop_pandas_data_structures_intro.ipynb\" target=\"_parent\"><img src=\"https://colab.research.google.com/assets/colab-badge.svg\" alt=\"Open In Colab\"/></a>"
      ]
    },
    {
      "cell_type": "markdown",
      "metadata": {
        "id": "Fwk2cSrAj5Kj",
        "colab_type": "text"
      },
      "source": [
        "# Workshop - pandas Data Structures Intro\n",
        "\n",
        "- [`https://pandas.pydata.org/pandas-docs/stable/getting_started/dsintro.html`](https://pandas.pydata.org/pandas-docs/stable/getting_started/dsintro.html)"
      ]
    },
    {
      "cell_type": "code",
      "metadata": {
        "id": "mbbpJSl9nxgc",
        "colab_type": "code",
        "colab": {}
      },
      "source": [
        "import pandas as pd\n",
        "diamonds_pdf = pd.read_csv('https://raw.githubusercontent.com/datalab-datasets/file-samples/master/diamonds.csv').drop(columns='Unnamed: 0')"
      ],
      "execution_count": 0,
      "outputs": []
    }
  ]
}