{
  "nbformat": 4,
  "nbformat_minor": 0,
  "metadata": {
    "colab": {
      "name": "1.0 Introduction.ipynb",
      "version": "0.3.2",
      "provenance": [],
      "collapsed_sections": [],
      "include_colab_link": true
    },
    "kernelspec": {
      "name": "python3",
      "display_name": "Python 3"
    }
  },
  "cells": [
    {
      "cell_type": "markdown",
      "metadata": {
        "id": "view-in-github",
        "colab_type": "text"
      },
      "source": [
        "<a href=\"https://colab.research.google.com/github/data-space/datalab-notebooks/blob/master/Python/4.%20Workflows/1.0%20Introduction.ipynb\" target=\"_parent\"><img src=\"https://colab.research.google.com/assets/colab-badge.svg\" alt=\"Open In Colab\"/></a>"
      ]
    },
    {
      "cell_type": "markdown",
      "metadata": {
        "id": "6GoVnL7QRPGk",
        "colab_type": "text"
      },
      "source": [
        "# Introduction to Machine Learning Workflows"
      ]
    },
    {
      "cell_type": "markdown",
      "metadata": {
        "id": "PCKTqMUFRPGp",
        "colab_type": "text"
      },
      "source": [
        "## Reference\n",
        "- https://scikit-learn.org/stable/modules/generated/sklearn.pipeline.Pipeline.html\n",
        "\n",
        "Old references\n",
        "- https://scikit-learn.org/stable/modules/generated/sklearn.model_selection.train_test_split.html\n",
        "- https://scikit-learn.org/stable/datasets/index.html\n",
        "- https://machinelearningmastery.com/time-series-forecasting-supervised-learning/\n",
        "- https://machinelearningmastery.com/time-series-datasets-for-machine-learning/\n",
        "- https://plot.ly/python/time-series/\n",
        "- https://www.plotly.express/plotly_express/"
      ]
    },
    {
      "cell_type": "markdown",
      "metadata": {
        "id": "zCeZm-TwRPGq",
        "colab_type": "text"
      },
      "source": [
        "## Table of Contents\n",
        "1. Introduction\n",
        "1. Setup\n"
      ]
    },
    {
      "cell_type": "markdown",
      "metadata": {
        "id": "1GM-mxEURPGr",
        "colab_type": "text"
      },
      "source": [
        "## Introduction"
      ]
    },
    {
      "cell_type": "markdown",
      "metadata": {
        "id": "4UAfDppwRPG2",
        "colab_type": "text"
      },
      "source": [
        "Supervised machine learning has the general goal of creating a model/method to make _good_ predictions on unseen data. \n",
        "\n",
        "Machine learning workflows for supervised learning organize the steps that accompish this goal. These steps are:\n",
        "1. Get the initial dataset\n",
        "2. Create a feature-target dataset (from the initial datset)\n",
        "3. Create train and test datasets (from the prepared dataset)\n",
        "4. Fit model (to the train dataset using a machine learning algorithm)\n",
        "5. Make and evaluate predictions (made by the fit model on the test dataset)\n",
        "\n",
        "Our focus is on preparing the data in step 2 and fitting the model in step 4. In this notebook, all steps will be described in words and implemented in Python code. These steps will be running starting with a few simple datasets. \n",
        "\n",
        "Later notebooks will implement this workflow with more involved datasets which will provide opprtunity to focus on steps 2 and 4. "
      ]
    },
    {
      "cell_type": "markdown",
      "metadata": {
        "id": "F9UElX2S2Ap4",
        "colab_type": "text"
      },
      "source": [
        "The essential requirement of the workflow is that this estimation of prediction accuracy should only happen once and only happen on unseen data. Specifically, the test dataset should be used only in steps 5 and 6 and these two steps should only be run once. \n",
        "\n",
        "In addition, no information from train dataset should be made available to the test dataset or be used when making predictions on the test dataset. \n",
        "\n",
        "This notebook though will focus on the process. "
      ]
    },
    {
      "cell_type": "markdown",
      "metadata": {
        "id": "BoXXxsa5I7rI",
        "colab_type": "text"
      },
      "source": [
        "The __Setup__ section loads three libraries and displays their version numbers. Following this is a section for each of the workflow steps."
      ]
    },
    {
      "cell_type": "markdown",
      "metadata": {
        "id": "DTcFuxVEFTaF",
        "colab_type": "text"
      },
      "source": [
        "## Setup"
      ]
    },
    {
      "cell_type": "markdown",
      "metadata": {
        "id": "FxIsWumyRPGt",
        "colab_type": "text"
      },
      "source": [
        "Import the `pandas`,  `numpy` and `sklearn` libraries. "
      ]
    },
    {
      "cell_type": "code",
      "metadata": {
        "id": "5iKsgHXpRPGu",
        "colab_type": "code",
        "colab": {}
      },
      "source": [
        "import pandas  as pd\n",
        "import numpy   as np\n",
        "import sklearn as sk"
      ],
      "execution_count": 0,
      "outputs": []
    },
    {
      "cell_type": "markdown",
      "metadata": {
        "id": "_53LqmHxRPGy",
        "colab_type": "text"
      },
      "source": [
        "Display the version numbers of the numpy, pandas and scikit-learn packages:"
      ]
    },
    {
      "cell_type": "code",
      "metadata": {
        "id": "ZVpiFs1MRPGz",
        "colab_type": "code",
        "outputId": "b5287759-96f7-43dd-ebc2-9c2d8d3a6bac",
        "colab": {
          "base_uri": "https://localhost:8080/",
          "height": 67
        }
      },
      "source": [
        "print('numpy  :',np.__version__)\n",
        "print('pandas :',pd.__version__)\n",
        "print('sklearn:',sk.__version__)"
      ],
      "execution_count": 2,
      "outputs": [
        {
          "output_type": "stream",
          "text": [
            "numpy  : 1.16.4\n",
            "pandas : 0.24.2\n",
            "sklearn: 0.21.3\n"
          ],
          "name": "stdout"
        }
      ]
    },
    {
      "cell_type": "markdown",
      "metadata": {
        "id": "MrHTzAV_ivtk",
        "colab_type": "text"
      },
      "source": [
        "## Workflow steps (demonstration)"
      ]
    },
    {
      "cell_type": "markdown",
      "metadata": {
        "id": "FunnoU-vJqJf",
        "colab_type": "text"
      },
      "source": [
        "### Step 1. Get raw dataframe"
      ]
    },
    {
      "cell_type": "markdown",
      "metadata": {
        "id": "TGyFIRu-TleL",
        "colab_type": "text"
      },
      "source": [
        "This step is implemented with a single Python function (`get_raw_data_pdf`) that reads data from its source and returns a pandas dataframe. The function for this example retrieves the iris dataset from the `sklearn.datasets` module,  concatenates the features and target into a single dataframe, and returns this dataframe. "
      ]
    },
    {
      "cell_type": "code",
      "metadata": {
        "id": "g4eL3gpmKt3t",
        "colab_type": "code",
        "colab": {}
      },
      "source": [
        "def get_initial_pdf():\n",
        "  import pandas as pd\n",
        "  from sklearn.datasets import load_iris\n",
        "  iris_features     = load_iris().data\n",
        "  iris_target       = load_iris().target\n",
        "  iris_target_names = load_iris().target_names\n",
        "\n",
        "  iris_feature_columns = [feature_name.replace(' ','_')\n",
        "                                      .replace('(','')\n",
        "                                      .replace(')','') \n",
        "                          for feature_name in load_iris().get('feature_names')]\n",
        "  \n",
        "  iris_features_pdf = pd.DataFrame(data=iris_features,\n",
        "                                   columns=iris_feature_columns\n",
        "                                  )\n",
        "  iris_target_pdf = pd.DataFrame(data={'species': iris_target}) \\\n",
        "                      .replace(to_replace={n:iris_target_names[n]\n",
        "                                           for n in [0,1,2]}) \\\n",
        "                      .astype('object')\n",
        "  iris_pdf = pd.concat([iris_features_pdf, iris_target_pdf],\n",
        "                       axis='columns',\n",
        "                       join='inner')\n",
        "  return iris_pdf"
      ],
      "execution_count": 0,
      "outputs": []
    },
    {
      "cell_type": "markdown",
      "metadata": {
        "id": "BBtVd7-jUxNI",
        "colab_type": "text"
      },
      "source": [
        "Notice that the column names have been changed to use snake case, the parentheses have been removed from the feature column names, and the target column has been named `species` and its values replaced with strings. "
      ]
    },
    {
      "cell_type": "code",
      "metadata": {
        "id": "w588FI7APVi8",
        "colab_type": "code",
        "colab": {}
      },
      "source": [
        "initial_pdf = get_initial_pdf()"
      ],
      "execution_count": 0,
      "outputs": []
    },
    {
      "cell_type": "code",
      "metadata": {
        "id": "HnHZi9_UUrrF",
        "colab_type": "code",
        "outputId": "30abbee8-191f-473a-c489-fa5a8c72ec15",
        "colab": {
          "base_uri": "https://localhost:8080/",
          "height": 185
        }
      },
      "source": [
        "initial_pdf.info()"
      ],
      "execution_count": 5,
      "outputs": [
        {
          "output_type": "stream",
          "text": [
            "<class 'pandas.core.frame.DataFrame'>\n",
            "RangeIndex: 150 entries, 0 to 149\n",
            "Data columns (total 5 columns):\n",
            "sepal_length_cm    150 non-null float64\n",
            "sepal_width_cm     150 non-null float64\n",
            "petal_length_cm    150 non-null float64\n",
            "petal_width_cm     150 non-null float64\n",
            "species            150 non-null object\n",
            "dtypes: float64(4), object(1)\n",
            "memory usage: 5.9+ KB\n"
          ],
          "name": "stdout"
        }
      ]
    },
    {
      "cell_type": "code",
      "metadata": {
        "id": "fPlDO6HNXjWU",
        "colab_type": "code",
        "outputId": "c65bfa80-0fcb-44d6-ae50-dfd1ea9adbbd",
        "colab": {
          "base_uri": "https://localhost:8080/",
          "height": 84
        }
      },
      "source": [
        "initial_pdf['species'].value_counts()"
      ],
      "execution_count": 6,
      "outputs": [
        {
          "output_type": "execute_result",
          "data": {
            "text/plain": [
              "versicolor    50\n",
              "virginica     50\n",
              "setosa        50\n",
              "Name: species, dtype: int64"
            ]
          },
          "metadata": {
            "tags": []
          },
          "execution_count": 6
        }
      ]
    },
    {
      "cell_type": "markdown",
      "metadata": {
        "id": "9B7izFb6Xxqx",
        "colab_type": "text"
      },
      "source": [
        "The `get_raw_data_pdf` function returns a pandas dataframe with columns that have correct datatypes. This dataframe will be passed to the next step (data preparation)."
      ]
    },
    {
      "cell_type": "markdown",
      "metadata": {
        "id": "6_SzjnpPJ4al",
        "colab_type": "text"
      },
      "source": [
        "### Step 2. Create feature-target dataframe by preprocessing initial dataframe"
      ]
    },
    {
      "cell_type": "markdown",
      "metadata": {
        "id": "g27AdQ5SZ8vd",
        "colab_type": "text"
      },
      "source": [
        "This step takes as input the initial dataframe produced by the previous step and returns a dataframe with a target variable and predictor variables. In general this step consists of per row transformations of the raw dataframe, which __do not__ use aggregate data summarized across the entire dataframe. \n",
        "\n",
        "It is important that the target does not include any missing values.\n",
        "\n",
        "In this example, the only work involved is to\n",
        "- drop rows where `species` is equal to `setosa`\n",
        "- label the `species` variable as the `target` variable\n",
        "\n",
        "Below this work is done by a _transformer object_ of (transformer) class `PreparePDF` that is returned by the function `get_prepare_transformer_object`.  Using a transformer class doesn't seem useful now, but it will later when things get more complicated. "
      ]
    },
    {
      "cell_type": "code",
      "metadata": {
        "id": "SWlin2Sgh7Cn",
        "colab_type": "code",
        "colab": {}
      },
      "source": [
        "from sklearn.base import BaseEstimator, TransformerMixin\n",
        "class PreparePDF(BaseEstimator, TransformerMixin):  \n",
        "  def __init__(self):\n",
        "    return\n",
        "    \n",
        "  def fit(self, X, y=None): \n",
        "    return self\n",
        "\n",
        "  def transform(self, X, y=None): \n",
        "    return X.loc[lambda pdf: pdf.species!='setosa'] \\\n",
        "            .rename(columns={'species':'target'})\n"
      ],
      "execution_count": 0,
      "outputs": []
    },
    {
      "cell_type": "code",
      "metadata": {
        "id": "sm4W3u-A3Y3-",
        "colab_type": "code",
        "colab": {}
      },
      "source": [
        "def get_prepared_pdf(pdf, transformer_object): \n",
        "  return transformer_object.fit_transform(pdf)"
      ],
      "execution_count": 0,
      "outputs": []
    },
    {
      "cell_type": "markdown",
      "metadata": {
        "id": "6iEtngmsFuyN",
        "colab_type": "text"
      },
      "source": [
        "The `fit_transform` method of this object is called with the raw dataframe as input. "
      ]
    },
    {
      "cell_type": "code",
      "metadata": {
        "id": "YyCMFjrv-jhj",
        "colab_type": "code",
        "colab": {}
      },
      "source": [
        "prepared_pdf = get_prepared_pdf(initial_pdf, \n",
        "                                PreparePDF())"
      ],
      "execution_count": 0,
      "outputs": []
    },
    {
      "cell_type": "code",
      "metadata": {
        "id": "pvoGvInMPvPk",
        "colab_type": "code",
        "outputId": "329c7dce-af73-4087-9d5f-4a0509a8a246",
        "colab": {
          "base_uri": "https://localhost:8080/",
          "height": 185
        }
      },
      "source": [
        "prepared_pdf.info()"
      ],
      "execution_count": 10,
      "outputs": [
        {
          "output_type": "stream",
          "text": [
            "<class 'pandas.core.frame.DataFrame'>\n",
            "Int64Index: 100 entries, 50 to 149\n",
            "Data columns (total 5 columns):\n",
            "sepal_length_cm    100 non-null float64\n",
            "sepal_width_cm     100 non-null float64\n",
            "petal_length_cm    100 non-null float64\n",
            "petal_width_cm     100 non-null float64\n",
            "target             100 non-null object\n",
            "dtypes: float64(4), object(1)\n",
            "memory usage: 4.7+ KB\n"
          ],
          "name": "stdout"
        }
      ]
    },
    {
      "cell_type": "code",
      "metadata": {
        "id": "zodYyUlRPzYM",
        "colab_type": "code",
        "outputId": "147e93c0-d715-4db2-f515-1142da0159bf",
        "colab": {
          "base_uri": "https://localhost:8080/",
          "height": 67
        }
      },
      "source": [
        "prepared_pdf['target'].value_counts()"
      ],
      "execution_count": 11,
      "outputs": [
        {
          "output_type": "execute_result",
          "data": {
            "text/plain": [
              "versicolor    50\n",
              "virginica     50\n",
              "Name: target, dtype: int64"
            ]
          },
          "metadata": {
            "tags": []
          },
          "execution_count": 11
        }
      ]
    },
    {
      "cell_type": "markdown",
      "metadata": {
        "id": "yrjOlPXBJ6p1",
        "colab_type": "text"
      },
      "source": [
        "### Step 3. Create train and test datasets"
      ]
    },
    {
      "cell_type": "markdown",
      "metadata": {
        "id": "c3xY_zleGfzV",
        "colab_type": "text"
      },
      "source": [
        "This is a simple, but important step in the process. The processes of creating the model and evaluating the model must be kept separate. Otherwise there is no reason to believe that the results for predictions on unseen data would be similar to your results on the test dataset. \n",
        "\n",
        "The train dataset will be used to create the model, then predictions will be made from the predictor variables in test dataset, then these predicitions will be compared to the target variable in the test dataset"
      ]
    },
    {
      "cell_type": "code",
      "metadata": {
        "id": "lMEa41-EInnA",
        "colab_type": "code",
        "colab": {}
      },
      "source": [
        "def get_train_test_dict(pdf, target_name, **kwargs):\n",
        "  from sklearn.model_selection import train_test_split\n",
        "  X_train, X_test, y_train, y_test = train_test_split(pdf.drop(columns=target_name),\n",
        "                                                      pdf[target_name], \n",
        "                                                      **kwargs)\n",
        "  return {\n",
        "      'x_train': X_train,\n",
        "      'y_train': y_train,\n",
        "      'x_test' : X_test,\n",
        "      'y_test' : y_test\n",
        "  }"
      ],
      "execution_count": 0,
      "outputs": []
    },
    {
      "cell_type": "code",
      "metadata": {
        "id": "GCKKXiL7J44S",
        "colab_type": "code",
        "colab": {}
      },
      "source": [
        "train_test_dict = get_train_test_dict(prepared_pdf,'target')"
      ],
      "execution_count": 0,
      "outputs": []
    },
    {
      "cell_type": "code",
      "metadata": {
        "id": "4Srh38ZHQOZV",
        "colab_type": "code",
        "outputId": "fbb1f6d0-9f68-48ff-e0e3-930e30a92dcc",
        "colab": {
          "base_uri": "https://localhost:8080/",
          "height": 34
        }
      },
      "source": [
        "train_test_dict.keys()"
      ],
      "execution_count": 14,
      "outputs": [
        {
          "output_type": "execute_result",
          "data": {
            "text/plain": [
              "dict_keys(['x_train', 'y_train', 'x_test', 'y_test'])"
            ]
          },
          "metadata": {
            "tags": []
          },
          "execution_count": 14
        }
      ]
    },
    {
      "cell_type": "code",
      "metadata": {
        "id": "uBmJBSpHRSIS",
        "colab_type": "code",
        "outputId": "bba8fc66-57b0-48e7-a061-7e92bff255c3",
        "colab": {
          "base_uri": "https://localhost:8080/",
          "height": 84
        }
      },
      "source": [
        "[(name, type(val), val.shape) for (name,val) in train_test_dict.items()]"
      ],
      "execution_count": 15,
      "outputs": [
        {
          "output_type": "execute_result",
          "data": {
            "text/plain": [
              "[('x_train', pandas.core.frame.DataFrame, (75, 4)),\n",
              " ('y_train', pandas.core.series.Series, (75,)),\n",
              " ('x_test', pandas.core.frame.DataFrame, (25, 4)),\n",
              " ('y_test', pandas.core.series.Series, (25,))]"
            ]
          },
          "metadata": {
            "tags": []
          },
          "execution_count": 15
        }
      ]
    },
    {
      "cell_type": "markdown",
      "metadata": {
        "id": "GhWL87NjJ8OQ",
        "colab_type": "text"
      },
      "source": [
        "### Step 4. Fit model \n",
        "\n",
        "(from the train dataset using a machine learning algorithm)"
      ]
    },
    {
      "cell_type": "code",
      "metadata": {
        "id": "kLCWMp6iRt2-",
        "colab_type": "code",
        "colab": {}
      },
      "source": [
        "def get_fit_model(estimator_object, x_train, y_train):\n",
        "  return estimator_object.fit(X=x_train,\n",
        "                              y=y_train)"
      ],
      "execution_count": 0,
      "outputs": []
    },
    {
      "cell_type": "code",
      "metadata": {
        "id": "f-_VJ7_KSet3",
        "colab_type": "code",
        "outputId": "3eca8519-1be7-4179-bd7e-98a81ea36239",
        "colab": {
          "base_uri": "https://localhost:8080/",
          "height": 70
        }
      },
      "source": [
        "from sklearn.linear_model import LogisticRegression\n",
        "\n",
        "fit_model = get_fit_model(estimator_object=LogisticRegression(),\n",
        "                          x_train         =train_test_dict.get('x_train'),\n",
        "                          y_train         =train_test_dict.get('y_train'),\n",
        "                         )"
      ],
      "execution_count": 17,
      "outputs": [
        {
          "output_type": "stream",
          "text": [
            "/usr/local/lib/python3.6/dist-packages/sklearn/linear_model/logistic.py:432: FutureWarning: Default solver will be changed to 'lbfgs' in 0.22. Specify a solver to silence this warning.\n",
            "  FutureWarning)\n"
          ],
          "name": "stderr"
        }
      ]
    },
    {
      "cell_type": "markdown",
      "metadata": {
        "id": "eVVIfr7hJ9-O",
        "colab_type": "text"
      },
      "source": [
        "### Step 5. Make and evaluate predictions \n",
        "\n",
        "(on the test dataset using the model)"
      ]
    },
    {
      "cell_type": "code",
      "metadata": {
        "id": "7n_Ud0SZVIqE",
        "colab_type": "code",
        "colab": {}
      },
      "source": [
        "def get_predict_ser(model, x_test):\n",
        "  return model.predict(X=x_test)"
      ],
      "execution_count": 0,
      "outputs": []
    },
    {
      "cell_type": "code",
      "metadata": {
        "id": "GSAGYcBJZFrr",
        "colab_type": "code",
        "colab": {}
      },
      "source": [
        "predict_ser = get_predict_ser(model =fit_model, \n",
        "                              x_test=train_test_dict.get('x_test')\n",
        "                             )"
      ],
      "execution_count": 0,
      "outputs": []
    },
    {
      "cell_type": "code",
      "metadata": {
        "id": "But2R3raWHKt",
        "colab_type": "code",
        "colab": {}
      },
      "source": [
        "def get_actual_predict_pdf(actual,predict):\n",
        "  import pandas as pd\n",
        "  return pd.DataFrame(data={'actual' : actual,\n",
        "                            'predict': predict},\n",
        "                      index=actual.index)"
      ],
      "execution_count": 0,
      "outputs": []
    },
    {
      "cell_type": "code",
      "metadata": {
        "id": "vIsK0Ubsm25J",
        "colab_type": "code",
        "outputId": "6d2c0a22-78cf-4244-a862-92f24c2d8621",
        "colab": {
          "base_uri": "https://localhost:8080/",
          "height": 195
        }
      },
      "source": [
        "actual_predict_pdf = get_actual_predict_pdf(train_test_dict.get('y_test'),\n",
        "                                            get_predict_ser(fit_model,train_test_dict.get('x_test'))\n",
        "                                           ) \n",
        "actual_predict_pdf.head()"
      ],
      "execution_count": 21,
      "outputs": [
        {
          "output_type": "execute_result",
          "data": {
            "text/html": [
              "<div>\n",
              "<style scoped>\n",
              "    .dataframe tbody tr th:only-of-type {\n",
              "        vertical-align: middle;\n",
              "    }\n",
              "\n",
              "    .dataframe tbody tr th {\n",
              "        vertical-align: top;\n",
              "    }\n",
              "\n",
              "    .dataframe thead th {\n",
              "        text-align: right;\n",
              "    }\n",
              "</style>\n",
              "<table border=\"1\" class=\"dataframe\">\n",
              "  <thead>\n",
              "    <tr style=\"text-align: right;\">\n",
              "      <th></th>\n",
              "      <th>actual</th>\n",
              "      <th>predict</th>\n",
              "    </tr>\n",
              "  </thead>\n",
              "  <tbody>\n",
              "    <tr>\n",
              "      <th>124</th>\n",
              "      <td>virginica</td>\n",
              "      <td>virginica</td>\n",
              "    </tr>\n",
              "    <tr>\n",
              "      <th>118</th>\n",
              "      <td>virginica</td>\n",
              "      <td>virginica</td>\n",
              "    </tr>\n",
              "    <tr>\n",
              "      <th>141</th>\n",
              "      <td>virginica</td>\n",
              "      <td>virginica</td>\n",
              "    </tr>\n",
              "    <tr>\n",
              "      <th>64</th>\n",
              "      <td>versicolor</td>\n",
              "      <td>versicolor</td>\n",
              "    </tr>\n",
              "    <tr>\n",
              "      <th>58</th>\n",
              "      <td>versicolor</td>\n",
              "      <td>versicolor</td>\n",
              "    </tr>\n",
              "  </tbody>\n",
              "</table>\n",
              "</div>"
            ],
            "text/plain": [
              "         actual     predict\n",
              "124   virginica   virginica\n",
              "118   virginica   virginica\n",
              "141   virginica   virginica\n",
              "64   versicolor  versicolor\n",
              "58   versicolor  versicolor"
            ]
          },
          "metadata": {
            "tags": []
          },
          "execution_count": 21
        }
      ]
    },
    {
      "cell_type": "code",
      "metadata": {
        "id": "jGUhm8TRr2Np",
        "colab_type": "code",
        "colab": {}
      },
      "source": [
        "def get_actual_predict_eval(pdf, func):\n",
        "  return func(pdf.actual, \n",
        "              pdf.predict)"
      ],
      "execution_count": 0,
      "outputs": []
    },
    {
      "cell_type": "code",
      "metadata": {
        "id": "O6XWvrgrr-4n",
        "colab_type": "code",
        "outputId": "d573d0bf-31df-43f3-d412-0383a29773c6",
        "colab": {
          "base_uri": "https://localhost:8080/",
          "height": 34
        }
      },
      "source": [
        "from sklearn.metrics import accuracy_score\n",
        "\n",
        "get_actual_predict_eval(actual_predict_pdf,\n",
        "                        accuracy_score\n",
        "                       )"
      ],
      "execution_count": 23,
      "outputs": [
        {
          "output_type": "execute_result",
          "data": {
            "text/plain": [
              "1.0"
            ]
          },
          "metadata": {
            "tags": []
          },
          "execution_count": 23
        }
      ]
    },
    {
      "cell_type": "markdown",
      "metadata": {
        "id": "fVk-WDdS7x66",
        "colab_type": "text"
      },
      "source": [
        "## Workflow (essentials)"
      ]
    },
    {
      "cell_type": "code",
      "metadata": {
        "id": "0aEVRJKc8Z-3",
        "colab_type": "code",
        "colab": {
          "base_uri": "https://localhost:8080/",
          "height": 87
        },
        "outputId": "b7e59c73-3bff-4b3e-bb73-f0e2b8b2a081"
      },
      "source": [
        "initial_pdf      = get_initial_pdf()\n",
        "\n",
        "prepared_pdf = get_prepared_pdf(pdf               =initial_pdf, \n",
        "                                transformer_object=PreparePDF()\n",
        "                               )\n",
        "\n",
        "train_test_dict = get_train_test_dict(pdf        =prepared_pdf,\n",
        "                                      target_name='target'\n",
        "                                     )\n",
        "\n",
        "from sklearn.linear_model import LogisticRegression\n",
        "\n",
        "fit_model = get_fit_model(estimator_object=LogisticRegression(),\n",
        "                          x_train         =train_test_dict.get('x_train'),\n",
        "                          y_train         =train_test_dict.get('y_train'),\n",
        "                         )\n",
        "\n",
        "actual_predict_pdf = get_actual_predict_pdf(                             \n",
        "                              train_test_dict.get('y_test'),\n",
        "    get_predict_ser(fit_model,train_test_dict.get('x_test'))\n",
        ") \n",
        "\n",
        "from sklearn.metrics import accuracy_score\n",
        "\n",
        "get_actual_predict_eval(actual_predict_pdf,\n",
        "                        accuracy_score\n",
        "                       )"
      ],
      "execution_count": 24,
      "outputs": [
        {
          "output_type": "stream",
          "text": [
            "/usr/local/lib/python3.6/dist-packages/sklearn/linear_model/logistic.py:432: FutureWarning: Default solver will be changed to 'lbfgs' in 0.22. Specify a solver to silence this warning.\n",
            "  FutureWarning)\n"
          ],
          "name": "stderr"
        },
        {
          "output_type": "execute_result",
          "data": {
            "text/plain": [
              "0.96"
            ]
          },
          "metadata": {
            "tags": []
          },
          "execution_count": 24
        }
      ]
    },
    {
      "cell_type": "markdown",
      "metadata": {
        "id": "Nk1c1RNrH-_B",
        "colab_type": "text"
      },
      "source": [
        "## Workflow (function)"
      ]
    },
    {
      "cell_type": "code",
      "metadata": {
        "id": "clNLYJNiII6a",
        "colab_type": "code",
        "colab": {}
      },
      "source": [
        "def workflow(initial_pdf,\n",
        "             transformer_object,\n",
        "             estimator_object,\n",
        "             scorer_function\n",
        "            ):\n",
        "\n",
        "  prepared_pdf = get_prepared_pdf(pdf               =initial_pdf, \n",
        "                                  transformer_object=PreparePDF()\n",
        "                                 )\n",
        "\n",
        "  train_test_dict = get_train_test_dict(pdf        =prepared_pdf,\n",
        "                                        target_name='target'\n",
        "                                       )\n",
        "\n",
        "\n",
        "  fit_model = get_fit_model(estimator_object=estimator_object,\n",
        "                            x_train         =train_test_dict.get('x_train'),\n",
        "                            y_train         =train_test_dict.get('y_train'),\n",
        "                           )\n",
        "\n",
        "  actual_predict_pdf = get_actual_predict_pdf(                             \n",
        "                                train_test_dict.get('y_test'),\n",
        "      get_predict_ser(fit_model,train_test_dict.get('x_test'))\n",
        "  ) \n",
        "\n",
        "\n",
        "  return get_actual_predict_eval(actual_predict_pdf,\n",
        "                                 accuracy_score\n",
        "                                )"
      ],
      "execution_count": 0,
      "outputs": []
    },
    {
      "cell_type": "code",
      "metadata": {
        "id": "VuYUA7nEIYrV",
        "colab_type": "code",
        "colab": {
          "base_uri": "https://localhost:8080/",
          "height": 87
        },
        "outputId": "bb6dfd78-b0c4-44c4-dee1-123f474708e1"
      },
      "source": [
        "from sklearn.linear_model import LogisticRegression\n",
        "from sklearn.metrics      import accuracy_score\n",
        "\n",
        "workflow(initial_pdf=get_initial_pdf(),\n",
        "         transformer_object=PreparePDF(),\n",
        "         estimator_object=LogisticRegression(),\n",
        "         scorer_function=accuracy_score\n",
        "        )\n"
      ],
      "execution_count": 27,
      "outputs": [
        {
          "output_type": "stream",
          "text": [
            "/usr/local/lib/python3.6/dist-packages/sklearn/linear_model/logistic.py:432: FutureWarning: Default solver will be changed to 'lbfgs' in 0.22. Specify a solver to silence this warning.\n",
            "  FutureWarning)\n"
          ],
          "name": "stderr"
        },
        {
          "output_type": "execute_result",
          "data": {
            "text/plain": [
              "0.96"
            ]
          },
          "metadata": {
            "tags": []
          },
          "execution_count": 27
        }
      ]
    },
    {
      "cell_type": "markdown",
      "metadata": {
        "id": "ETDzlw6QTQaP",
        "colab_type": "text"
      },
      "source": [
        "## Workflow - Boston housing dataset"
      ]
    },
    {
      "cell_type": "markdown",
      "metadata": {
        "id": "HW8Ws4bCJrO5",
        "colab_type": "text"
      },
      "source": [
        "To configure this workflow for the Boston housing dataset:\n",
        "1. Define the `get_initial_pdf` function to return the Boston housing dataset as a single pandas dataframe. \n",
        "1. There is no work to do to prepare the Boston housing dataframe so modify the `PreparePDF` transform class so that its `transform` method returns same value as the the `X` input parameter. \n",
        "1. \n",
        "1. Pass `mean_absolute_error` to the second parameter `func` of the `get_actual_predict_eval` function 3. Pass the second parameter `func` of the `get_actual_predict_eval` function. Import the function too. "
      ]
    },
    {
      "cell_type": "markdown",
      "metadata": {
        "id": "wxFyQLnpLfuz",
        "colab_type": "text"
      },
      "source": [
        "Define `get_initial_pdf` to return "
      ]
    },
    {
      "cell_type": "code",
      "metadata": {
        "id": "TAz076NnBLSF",
        "colab_type": "code",
        "colab": {}
      },
      "source": [
        "def get_initial_pdf(): # for boston housing dataset\n",
        "  from sklearn.datasets import load_boston\n",
        "  feature_names = [name.lower() \n",
        "                   for name in load_boston().get('feature_names').tolist()\n",
        "                  ]\n",
        "  features_pdf = pd.DataFrame(data=load_boston().get('data'),\n",
        "                              columns=feature_names\n",
        "                             )\n",
        "  target_pdf = pd.DataFrame(data={'target': load_boston().get('target')}\n",
        "                           )\n",
        "  return pd.concat([features_pdf, target_pdf],\n",
        "                   axis='columns',\n",
        "                   join='inner')"
      ],
      "execution_count": 0,
      "outputs": []
    },
    {
      "cell_type": "code",
      "metadata": {
        "id": "4VxHwFT9D8RR",
        "colab_type": "code",
        "colab": {}
      },
      "source": [
        "from sklearn.base import BaseEstimator, TransformerMixin\n",
        "class PreparePDF(BaseEstimator, TransformerMixin):  \n",
        "  def __init__(self):\n",
        "    return\n",
        "    \n",
        "  def fit(self, X, y=None): \n",
        "    return self\n",
        "\n",
        "  def transform(self, X, y=None): \n",
        "    return X"
      ],
      "execution_count": 0,
      "outputs": []
    },
    {
      "cell_type": "code",
      "metadata": {
        "id": "1rBa2pYX_N5x",
        "colab_type": "code",
        "colab": {}
      },
      "source": [
        "initial_pdf  = get_initial_pdf() # read the initial dataset\n",
        "\n",
        "prepared_pdf = get_prepared_pdf(pdf               =initial_pdf, \n",
        "                                transformer_object=PreparePDF() # preprocessing class\n",
        "                               )\n",
        "\n",
        "train_test_dict = get_train_test_dict(pdf        =prepared_pdf,\n",
        "                                      target_name='target' # column name of target\n",
        "                                     )\n",
        "from sklearn.linear_model import LinearRegression # estimator object\n",
        "\n",
        "fit_model = get_fit_model(estimator_object=LinearRegression(), # estimator object\n",
        "                          x_train         =train_test_dict.get('x_train'),\n",
        "                          y_train         =train_test_dict.get('y_train'),\n",
        "                         )\n",
        "\n",
        "\n",
        "actual_predict_pdf = \\\n",
        "get_actual_predict_pdf(train_test_dict.get('y_test'),\n",
        "                       get_predict_ser(fit_model,train_test_dict.get('x_test'))\n",
        "                      ) \n",
        "\n",
        "from sklearn.metrics import mean_absolute_error # evaluation metric \n",
        "\n",
        "get_actual_predict_eval(actual_predict_pdf,\n",
        "                        mean_absolute_error # evaluation metric \n",
        "                       )"
      ],
      "execution_count": 0,
      "outputs": []
    },
    {
      "cell_type": "code",
      "metadata": {
        "id": "YYBaGw1ieHjE",
        "colab_type": "code",
        "colab": {}
      },
      "source": [
        "def workflow(initial_pdf=get_initial_pdf(),  \n",
        "             transformer_object,\n",
        "             estimator_object,\n",
        "             scorer_func\n",
        "            )"
      ],
      "execution_count": 0,
      "outputs": []
    },
    {
      "cell_type": "markdown",
      "metadata": {
        "id": "JPELgd8mRPHG",
        "colab_type": "text"
      },
      "source": [
        "__The End__"
      ]
    }
  ]
}