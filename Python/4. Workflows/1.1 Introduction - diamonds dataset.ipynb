{
  "nbformat": 4,
  "nbformat_minor": 0,
  "metadata": {
    "colab": {
      "name": "Workflows - Diamonds dataset.ipynb",
      "version": "0.3.2",
      "provenance": [],
      "collapsed_sections": [],
      "include_colab_link": true
    },
    "kernelspec": {
      "name": "python3",
      "display_name": "Python 3"
    }
  },
  "cells": [
    {
      "cell_type": "markdown",
      "metadata": {
        "id": "view-in-github",
        "colab_type": "text"
      },
      "source": [
        "<a href=\"https://colab.research.google.com/github/data-space/datalab-notebooks/blob/master/Python/4.%20Workflows/1.1%20Introduction%20-%20diamonds%20dataset.ipynb\" target=\"_parent\"><img src=\"https://colab.research.google.com/assets/colab-badge.svg\" alt=\"Open In Colab\"/></a>"
      ]
    },
    {
      "cell_type": "markdown",
      "metadata": {
        "id": "6GoVnL7QRPGk",
        "colab_type": "text"
      },
      "source": [
        "# Workflows - Diamonds dataset.ipynb"
      ]
    },
    {
      "cell_type": "markdown",
      "metadata": {
        "id": "PCKTqMUFRPGp",
        "colab_type": "text"
      },
      "source": [
        "## Reference\n",
        "- https://scikit-learn.org/stable/index.html\n",
        "- https://scikit-learn.org/stable/datasets/index.html\n",
        "- https://scikit-learn.org/stable/data_transforms.html\n",
        "- https://scikit-learn.org/stable/supervised_learning.html\n",
        "- https://scikit-learn.org/stable/modules/generated/sklearn.pipeline.Pipeline.html\n",
        "- https://scikit-learn.org/stable/modules/generated/sklearn.model_selection.train_test_split.html\n",
        "- https://scikit-learn.org/stable/modules/classes.html#module-sklearn.metrics\n",
        "- https://github.com/data-space/datalab-notebooks/tree/master/Python/3.%20Pipelines\n",
        "- https://pandas.pydata.org/pandas-docs/stable/reference/api/pandas.DataFrame.select_dtypes.html"
      ]
    },
    {
      "cell_type": "markdown",
      "metadata": {
        "id": "zCeZm-TwRPGq",
        "colab_type": "text"
      },
      "source": [
        "## Table of Contents\n",
        "1. Introduction\n",
        "1. Setup\n",
        "1. ???\n",
        "1. Next steps ???"
      ]
    },
    {
      "cell_type": "markdown",
      "metadata": {
        "id": "1GM-mxEURPGr",
        "colab_type": "text"
      },
      "source": [
        "## Introduction"
      ]
    },
    {
      "cell_type": "markdown",
      "metadata": {
        "id": "4UAfDppwRPG2",
        "colab_type": "text"
      },
      "source": [
        "From the introduction notebook: machine learning workflows (for supervised learning) have these steps:\n",
        "1. Get the initial dataset\n",
        "2. Create a feature-target dataset (from the initial datset)\n",
        "3. Create train and test datasets (from the feature-target dataset)\n",
        "4. Fit model (to the train dataset)\n",
        "5. Make and evaluate predictions (made by the fit model on the test dataset)\n",
        "\n",
        "There are four components (that you provide) as input to the workflow:\n",
        "1. The initial dataset\n",
        "2. The process to create the feature-target dataset\n",
        "3. The process to fit the model\n",
        "4. The choice of metric to use in evaluating the model predictions\n",
        "\n",
        "Our focus is on:\n",
        "- component 2 and the processes to prepare the data in step 2\n",
        "- component 3 and the process to fit the model in step 4"
      ]
    },
    {
      "cell_type": "markdown",
      "metadata": {
        "id": "0wfU4tsH5U5X",
        "colab_type": "text"
      },
      "source": [
        "The takeaways from this notebook are:\n",
        "- the ability to write transformer classes \n",
        "- the ability to use the `Pipeline` class to create a multi-stage pipeline \n",
        "- an understanding of the purpose and use of the `OneHotEncoder` class"
      ]
    },
    {
      "cell_type": "markdown",
      "metadata": {
        "id": "DTcFuxVEFTaF",
        "colab_type": "text"
      },
      "source": [
        "## Setup"
      ]
    },
    {
      "cell_type": "markdown",
      "metadata": {
        "id": "BoXXxsa5I7rI",
        "colab_type": "text"
      },
      "source": [
        "This section loads three libraries and displays their version numbers. "
      ]
    },
    {
      "cell_type": "markdown",
      "metadata": {
        "id": "FxIsWumyRPGt",
        "colab_type": "text"
      },
      "source": [
        "Import the `pandas`,  `numpy` and `sklearn` libraries. "
      ]
    },
    {
      "cell_type": "code",
      "metadata": {
        "id": "5iKsgHXpRPGu",
        "colab_type": "code",
        "colab": {}
      },
      "source": [
        "import pandas  as pd\n",
        "import numpy   as np\n",
        "import sklearn as sk"
      ],
      "execution_count": 0,
      "outputs": []
    },
    {
      "cell_type": "markdown",
      "metadata": {
        "id": "_53LqmHxRPGy",
        "colab_type": "text"
      },
      "source": [
        "Display the version numbers of the `pandas`, `numpy` and `sklearn` packages:"
      ]
    },
    {
      "cell_type": "code",
      "metadata": {
        "id": "ZVpiFs1MRPGz",
        "colab_type": "code",
        "outputId": "fc4a9611-851f-43b3-b01e-0a42d11f9138",
        "colab": {
          "base_uri": "https://localhost:8080/",
          "height": 67
        }
      },
      "source": [
        "print('pandas :',pd.__version__)\n",
        "print('numpy  :',np.__version__)\n",
        "print('sklearn:',sk.__version__)"
      ],
      "execution_count": 2,
      "outputs": [
        {
          "output_type": "stream",
          "text": [
            "pandas : 0.24.2\n",
            "numpy  : 1.16.4\n",
            "sklearn: 0.21.3\n"
          ],
          "name": "stdout"
        }
      ]
    },
    {
      "cell_type": "markdown",
      "metadata": {
        "id": "qqpsEcPwzt4N",
        "colab_type": "text"
      },
      "source": [
        "### Standard/common functions"
      ]
    },
    {
      "cell_type": "markdown",
      "metadata": {
        "id": "b-5AnRZV5RTt",
        "colab_type": "text"
      },
      "source": [
        "The following code cells defines the standard functions which implment the machine learning workflow defined and discussed in the `1.0 Introduction` notebook. (It is contained in the same folder as this notebook.) "
      ]
    },
    {
      "cell_type": "code",
      "metadata": {
        "id": "jjqgBXU6zIyF",
        "colab_type": "code",
        "colab": {}
      },
      "source": [
        "def get_feature_target_pdf(pdf, transformer_object): \n",
        "  return transformer_object.fit(pdf).transform(pdf)"
      ],
      "execution_count": 0,
      "outputs": []
    },
    {
      "cell_type": "code",
      "metadata": {
        "id": "7ybrqPvmzCO5",
        "colab_type": "code",
        "colab": {}
      },
      "source": [
        "def get_train_test_dict(pdf, target_name, **kwargs):\n",
        "  from sklearn.model_selection import train_test_split\n",
        "  X_train, X_test, y_train, y_test = train_test_split(pdf.drop(columns=target_name),\n",
        "                                                      pdf[target_name], \n",
        "                                                      **kwargs)\n",
        "  return {\n",
        "      'x_train': X_train,\n",
        "      'y_train': y_train,\n",
        "      'x_test' : X_test,\n",
        "      'y_test' : y_test\n",
        "  }"
      ],
      "execution_count": 0,
      "outputs": []
    },
    {
      "cell_type": "code",
      "metadata": {
        "id": "LNgrpiDLy9u0",
        "colab_type": "code",
        "colab": {}
      },
      "source": [
        "def get_fit_model(estimator_object, x_train, y_train):\n",
        "  return estimator_object.fit(X=x_train,\n",
        "                              y=y_train)"
      ],
      "execution_count": 0,
      "outputs": []
    },
    {
      "cell_type": "code",
      "metadata": {
        "id": "IcICL08Ey5aW",
        "colab_type": "code",
        "colab": {}
      },
      "source": [
        "def get_predict_ser(model, x_test):\n",
        "  return model.predict(X=x_test)"
      ],
      "execution_count": 0,
      "outputs": []
    },
    {
      "cell_type": "code",
      "metadata": {
        "id": "Ub7PyriPy0hz",
        "colab_type": "code",
        "colab": {}
      },
      "source": [
        "def get_actual_predict_pdf(actual,predict):\n",
        "  import pandas as pd\n",
        "  return pd.DataFrame(data={'actual' : actual,\n",
        "                            'predict': predict},\n",
        "                      index=actual.index)"
      ],
      "execution_count": 0,
      "outputs": []
    },
    {
      "cell_type": "code",
      "metadata": {
        "id": "UWTMXPcNyly7",
        "colab_type": "code",
        "colab": {}
      },
      "source": [
        "def get_actual_predict_eval(actual_predict_pdf, metric_function):\n",
        "  return metric_function(actual_predict_pdf['actual'], \n",
        "                         actual_predict_pdf['predict'])"
      ],
      "execution_count": 0,
      "outputs": []
    },
    {
      "cell_type": "markdown",
      "metadata": {
        "id": "zvMmQfk-5d5n",
        "colab_type": "text"
      },
      "source": [
        "The `workflow` function bundles these standard functions together and takes as input the four workflow components. "
      ]
    },
    {
      "cell_type": "code",
      "metadata": {
        "id": "clNLYJNiII6a",
        "colab_type": "code",
        "colab": {}
      },
      "source": [
        "def workflow(initial_pdf,        # workflow component\n",
        "             transformer_object, # workflow component\n",
        "             estimator_object,   # workflow component\n",
        "             metric_function     # workflow component\n",
        "            ):\n",
        "  feature_target_pdf = \\\n",
        "  get_feature_target_pdf(pdf               =initial_pdf,       # workflow component\n",
        "                         transformer_object=transformer_object # workflow component\n",
        "                        )\n",
        "\n",
        "  train_test_dict = \\\n",
        "  get_train_test_dict(pdf        =feature_target_pdf,\n",
        "                      target_name='target'\n",
        "                     )\n",
        "\n",
        "  fit_model = \\\n",
        "  get_fit_model(estimator_object=estimator_object, # workflow component\n",
        "                x_train         =train_test_dict.get('x_train'),\n",
        "                y_train         =train_test_dict.get('y_train'),\n",
        "               )\n",
        "\n",
        "  actual_predict_pdf = \\\n",
        "  get_actual_predict_pdf(train_test_dict.get('y_test'),\n",
        "                         get_predict_ser(fit_model,\n",
        "                                         train_test_dict.get('x_test')\n",
        "                                        )\n",
        "                        ) \n",
        "\n",
        "  return get_actual_predict_eval(actual_predict_pdf,\n",
        "                                 metric_function # workflow component\n",
        "                                )"
      ],
      "execution_count": 0,
      "outputs": []
    },
    {
      "cell_type": "markdown",
      "metadata": {
        "id": "F6-1mm7eCyo1",
        "colab_type": "text"
      },
      "source": [
        "## Create feature target pipeline"
      ]
    },
    {
      "cell_type": "markdown",
      "metadata": {
        "id": "qzvHSDqJ_Tgc",
        "colab_type": "text"
      },
      "source": [
        "The diamonds dataset is used in this example."
      ]
    },
    {
      "cell_type": "code",
      "metadata": {
        "id": "SnUs-K07Boon",
        "colab_type": "code",
        "colab": {}
      },
      "source": [
        "def get_initial_pdf():\n",
        "  import pandas as pd\n",
        "  diamonds_file_link = 'https://raw.githubusercontent.com/datalab-datasets/file-samples/master/diamonds.csv'\n",
        "  return pd.read_csv(diamonds_file_link) \\\n",
        "           .drop('Unnamed: 0',\n",
        "                 axis=1)"
      ],
      "execution_count": 0,
      "outputs": []
    },
    {
      "cell_type": "code",
      "metadata": {
        "id": "nUZ9n2jM8SCo",
        "colab_type": "code",
        "outputId": "fb07ee8a-3199-4eb8-a884-e84598d7484c",
        "colab": {
          "base_uri": "https://localhost:8080/",
          "height": 269
        }
      },
      "source": [
        "get_initial_pdf().info()"
      ],
      "execution_count": 11,
      "outputs": [
        {
          "output_type": "stream",
          "text": [
            "<class 'pandas.core.frame.DataFrame'>\n",
            "RangeIndex: 53940 entries, 0 to 53939\n",
            "Data columns (total 10 columns):\n",
            "carat      53940 non-null float64\n",
            "cut        53940 non-null object\n",
            "color      53940 non-null object\n",
            "clarity    53940 non-null object\n",
            "depth      53940 non-null float64\n",
            "table      53940 non-null float64\n",
            "price      53940 non-null int64\n",
            "x          53940 non-null float64\n",
            "y          53940 non-null float64\n",
            "z          53940 non-null float64\n",
            "dtypes: float64(6), int64(1), object(3)\n",
            "memory usage: 4.1+ MB\n"
          ],
          "name": "stdout"
        }
      ]
    },
    {
      "cell_type": "markdown",
      "metadata": {
        "id": "vrIpGEyE_uAf",
        "colab_type": "text"
      },
      "source": [
        "The first step in the feature target process is to rename the target column to `target`. The `rename` pandas dataframe method renames columns. "
      ]
    },
    {
      "cell_type": "code",
      "metadata": {
        "id": "V0jzvpZ7h2tF",
        "colab_type": "code",
        "colab": {
          "base_uri": "https://localhost:8080/",
          "height": 136
        },
        "outputId": "dd350b22-8842-4608-d894-d2debf6f400c"
      },
      "source": [
        "(get_initial_pdf()\n",
        " .rename(columns={'price':'target'})\n",
        " .head(3)\n",
        ")"
      ],
      "execution_count": 38,
      "outputs": [
        {
          "output_type": "execute_result",
          "data": {
            "text/html": [
              "<div>\n",
              "<style scoped>\n",
              "    .dataframe tbody tr th:only-of-type {\n",
              "        vertical-align: middle;\n",
              "    }\n",
              "\n",
              "    .dataframe tbody tr th {\n",
              "        vertical-align: top;\n",
              "    }\n",
              "\n",
              "    .dataframe thead th {\n",
              "        text-align: right;\n",
              "    }\n",
              "</style>\n",
              "<table border=\"1\" class=\"dataframe\">\n",
              "  <thead>\n",
              "    <tr style=\"text-align: right;\">\n",
              "      <th></th>\n",
              "      <th>carat</th>\n",
              "      <th>cut</th>\n",
              "      <th>color</th>\n",
              "      <th>clarity</th>\n",
              "      <th>depth</th>\n",
              "      <th>table</th>\n",
              "      <th>target</th>\n",
              "      <th>x</th>\n",
              "      <th>y</th>\n",
              "      <th>z</th>\n",
              "    </tr>\n",
              "  </thead>\n",
              "  <tbody>\n",
              "    <tr>\n",
              "      <th>0</th>\n",
              "      <td>0.23</td>\n",
              "      <td>Ideal</td>\n",
              "      <td>E</td>\n",
              "      <td>SI2</td>\n",
              "      <td>61.5</td>\n",
              "      <td>55.0</td>\n",
              "      <td>326</td>\n",
              "      <td>3.95</td>\n",
              "      <td>3.98</td>\n",
              "      <td>2.43</td>\n",
              "    </tr>\n",
              "    <tr>\n",
              "      <th>1</th>\n",
              "      <td>0.21</td>\n",
              "      <td>Premium</td>\n",
              "      <td>E</td>\n",
              "      <td>SI1</td>\n",
              "      <td>59.8</td>\n",
              "      <td>61.0</td>\n",
              "      <td>326</td>\n",
              "      <td>3.89</td>\n",
              "      <td>3.84</td>\n",
              "      <td>2.31</td>\n",
              "    </tr>\n",
              "    <tr>\n",
              "      <th>2</th>\n",
              "      <td>0.23</td>\n",
              "      <td>Good</td>\n",
              "      <td>E</td>\n",
              "      <td>VS1</td>\n",
              "      <td>56.9</td>\n",
              "      <td>65.0</td>\n",
              "      <td>327</td>\n",
              "      <td>4.05</td>\n",
              "      <td>4.07</td>\n",
              "      <td>2.31</td>\n",
              "    </tr>\n",
              "  </tbody>\n",
              "</table>\n",
              "</div>"
            ],
            "text/plain": [
              "   carat      cut color clarity  depth  table  target     x     y     z\n",
              "0   0.23    Ideal     E     SI2   61.5   55.0     326  3.95  3.98  2.43\n",
              "1   0.21  Premium     E     SI1   59.8   61.0     326  3.89  3.84  2.31\n",
              "2   0.23     Good     E     VS1   56.9   65.0     327  4.05  4.07  2.31"
            ]
          },
          "metadata": {
            "tags": []
          },
          "execution_count": 38
        }
      ]
    },
    {
      "cell_type": "markdown",
      "metadata": {
        "id": "aiF_e8n-_97P",
        "colab_type": "text"
      },
      "source": [
        "Our goal though is to use Scikit-learn transformer, estimator and pipeline clasess. The `RenameColumnsPDF` does this. "
      ]
    },
    {
      "cell_type": "code",
      "metadata": {
        "id": "I31SwvweCSlH",
        "colab_type": "code",
        "colab": {}
      },
      "source": [
        "from sklearn.base import BaseEstimator, TransformerMixin\n",
        "class RenameColumnsPDF(BaseEstimator, TransformerMixin):  \n",
        "  def __init__(self,rename_dict={}):\n",
        "    self.rename_dict = rename_dict\n",
        "    return\n",
        "    \n",
        "  def fit(self, X, y=None): \n",
        "    return self\n",
        "\n",
        "  def transform(self, X, y=None): \n",
        "    return X.rename(columns=self.rename_dict)"
      ],
      "execution_count": 0,
      "outputs": []
    },
    {
      "cell_type": "markdown",
      "metadata": {
        "id": "Pr0hor1WANle",
        "colab_type": "text"
      },
      "source": [
        "An object of this class is created and used to rename the `price` column to `target`. "
      ]
    },
    {
      "cell_type": "code",
      "metadata": {
        "id": "42P9pYociMAf",
        "colab_type": "code",
        "colab": {
          "base_uri": "https://localhost:8080/",
          "height": 136
        },
        "outputId": "ed895a35-e3cf-4bab-cc71-0b6a553fd89b"
      },
      "source": [
        "(RenameColumnsPDF(rename_dict={'price':'target'})\n",
        " .fit(get_initial_pdf())\n",
        " .transform(get_initial_pdf())\n",
        " .head(3)\n",
        ")"
      ],
      "execution_count": 41,
      "outputs": [
        {
          "output_type": "execute_result",
          "data": {
            "text/html": [
              "<div>\n",
              "<style scoped>\n",
              "    .dataframe tbody tr th:only-of-type {\n",
              "        vertical-align: middle;\n",
              "    }\n",
              "\n",
              "    .dataframe tbody tr th {\n",
              "        vertical-align: top;\n",
              "    }\n",
              "\n",
              "    .dataframe thead th {\n",
              "        text-align: right;\n",
              "    }\n",
              "</style>\n",
              "<table border=\"1\" class=\"dataframe\">\n",
              "  <thead>\n",
              "    <tr style=\"text-align: right;\">\n",
              "      <th></th>\n",
              "      <th>carat</th>\n",
              "      <th>cut</th>\n",
              "      <th>color</th>\n",
              "      <th>clarity</th>\n",
              "      <th>depth</th>\n",
              "      <th>table</th>\n",
              "      <th>target</th>\n",
              "      <th>x</th>\n",
              "      <th>y</th>\n",
              "      <th>z</th>\n",
              "    </tr>\n",
              "  </thead>\n",
              "  <tbody>\n",
              "    <tr>\n",
              "      <th>0</th>\n",
              "      <td>0.23</td>\n",
              "      <td>Ideal</td>\n",
              "      <td>E</td>\n",
              "      <td>SI2</td>\n",
              "      <td>61.5</td>\n",
              "      <td>55.0</td>\n",
              "      <td>326</td>\n",
              "      <td>3.95</td>\n",
              "      <td>3.98</td>\n",
              "      <td>2.43</td>\n",
              "    </tr>\n",
              "    <tr>\n",
              "      <th>1</th>\n",
              "      <td>0.21</td>\n",
              "      <td>Premium</td>\n",
              "      <td>E</td>\n",
              "      <td>SI1</td>\n",
              "      <td>59.8</td>\n",
              "      <td>61.0</td>\n",
              "      <td>326</td>\n",
              "      <td>3.89</td>\n",
              "      <td>3.84</td>\n",
              "      <td>2.31</td>\n",
              "    </tr>\n",
              "    <tr>\n",
              "      <th>2</th>\n",
              "      <td>0.23</td>\n",
              "      <td>Good</td>\n",
              "      <td>E</td>\n",
              "      <td>VS1</td>\n",
              "      <td>56.9</td>\n",
              "      <td>65.0</td>\n",
              "      <td>327</td>\n",
              "      <td>4.05</td>\n",
              "      <td>4.07</td>\n",
              "      <td>2.31</td>\n",
              "    </tr>\n",
              "  </tbody>\n",
              "</table>\n",
              "</div>"
            ],
            "text/plain": [
              "   carat      cut color clarity  depth  table  target     x     y     z\n",
              "0   0.23    Ideal     E     SI2   61.5   55.0     326  3.95  3.98  2.43\n",
              "1   0.21  Premium     E     SI1   59.8   61.0     326  3.89  3.84  2.31\n",
              "2   0.23     Good     E     VS1   56.9   65.0     327  4.05  4.07  2.31"
            ]
          },
          "metadata": {
            "tags": []
          },
          "execution_count": 41
        }
      ]
    },
    {
      "cell_type": "markdown",
      "metadata": {
        "id": "qRr-kDXhAYCN",
        "colab_type": "text"
      },
      "source": [
        "Define the `LinearRegression` and `mean_absolute_error` functions. "
      ]
    },
    {
      "cell_type": "code",
      "metadata": {
        "id": "frGVddQ9CghF",
        "colab_type": "code",
        "colab": {}
      },
      "source": [
        "from sklearn.linear_model import LinearRegression\n",
        "from sklearn.metrics      import mean_absolute_error"
      ],
      "execution_count": 0,
      "outputs": []
    },
    {
      "cell_type": "markdown",
      "metadata": {
        "id": "kRHyZdKa8mzu",
        "colab_type": "text"
      },
      "source": [
        "Calling the `workflow` function will produce an error as the feature target dataframe contains non-numeric features. "
      ]
    },
    {
      "cell_type": "code",
      "metadata": {
        "id": "vhlsmd-S8fnQ",
        "colab_type": "code",
        "outputId": "0092d165-400e-4575-f7c3-ca222f20efe2",
        "colab": {
          "base_uri": "https://localhost:8080/",
          "height": 34
        }
      },
      "source": [
        "try:\n",
        "  workflow(initial_pdf       =get_initial_pdf(),\n",
        "           transformer_object=RenameColumnsPDF(rename_dict={'price':'target'}),\n",
        "           estimator_object  =LinearRegression(), # supply an appropriate estimator object\n",
        "           metric_function   =mean_absolute_error # supply an appropriate metric function\n",
        "          )\n",
        "except Exception as error:\n",
        "  print('Error: ' + repr(error))\n"
      ],
      "execution_count": 14,
      "outputs": [
        {
          "output_type": "stream",
          "text": [
            "Error: ValueError(\"could not convert string to float: 'Ideal'\",)\n"
          ],
          "name": "stdout"
        }
      ]
    },
    {
      "cell_type": "markdown",
      "metadata": {
        "id": "pWs1hmfQA2JS",
        "colab_type": "text"
      },
      "source": [
        "Specifically, these non-numeric features are `cut`, `color` and `clarity`."
      ]
    },
    {
      "cell_type": "code",
      "metadata": {
        "id": "OZkqT2uJtWlr",
        "colab_type": "code",
        "outputId": "5a789684-5b29-497e-d622-f3940def84ee",
        "colab": {
          "base_uri": "https://localhost:8080/",
          "height": 136
        }
      },
      "source": [
        "(RenameColumnsPDF(rename_dict={'price':'target'})\n",
        " .fit(get_initial_pdf())\n",
        " .transform(get_initial_pdf())\n",
        " .head(3)\n",
        ")"
      ],
      "execution_count": 15,
      "outputs": [
        {
          "output_type": "execute_result",
          "data": {
            "text/html": [
              "<div>\n",
              "<style scoped>\n",
              "    .dataframe tbody tr th:only-of-type {\n",
              "        vertical-align: middle;\n",
              "    }\n",
              "\n",
              "    .dataframe tbody tr th {\n",
              "        vertical-align: top;\n",
              "    }\n",
              "\n",
              "    .dataframe thead th {\n",
              "        text-align: right;\n",
              "    }\n",
              "</style>\n",
              "<table border=\"1\" class=\"dataframe\">\n",
              "  <thead>\n",
              "    <tr style=\"text-align: right;\">\n",
              "      <th></th>\n",
              "      <th>carat</th>\n",
              "      <th>cut</th>\n",
              "      <th>color</th>\n",
              "      <th>clarity</th>\n",
              "      <th>depth</th>\n",
              "      <th>table</th>\n",
              "      <th>target</th>\n",
              "      <th>x</th>\n",
              "      <th>y</th>\n",
              "      <th>z</th>\n",
              "    </tr>\n",
              "  </thead>\n",
              "  <tbody>\n",
              "    <tr>\n",
              "      <th>0</th>\n",
              "      <td>0.23</td>\n",
              "      <td>Ideal</td>\n",
              "      <td>E</td>\n",
              "      <td>SI2</td>\n",
              "      <td>61.5</td>\n",
              "      <td>55.0</td>\n",
              "      <td>326</td>\n",
              "      <td>3.95</td>\n",
              "      <td>3.98</td>\n",
              "      <td>2.43</td>\n",
              "    </tr>\n",
              "    <tr>\n",
              "      <th>1</th>\n",
              "      <td>0.21</td>\n",
              "      <td>Premium</td>\n",
              "      <td>E</td>\n",
              "      <td>SI1</td>\n",
              "      <td>59.8</td>\n",
              "      <td>61.0</td>\n",
              "      <td>326</td>\n",
              "      <td>3.89</td>\n",
              "      <td>3.84</td>\n",
              "      <td>2.31</td>\n",
              "    </tr>\n",
              "    <tr>\n",
              "      <th>2</th>\n",
              "      <td>0.23</td>\n",
              "      <td>Good</td>\n",
              "      <td>E</td>\n",
              "      <td>VS1</td>\n",
              "      <td>56.9</td>\n",
              "      <td>65.0</td>\n",
              "      <td>327</td>\n",
              "      <td>4.05</td>\n",
              "      <td>4.07</td>\n",
              "      <td>2.31</td>\n",
              "    </tr>\n",
              "  </tbody>\n",
              "</table>\n",
              "</div>"
            ],
            "text/plain": [
              "   carat      cut color clarity  depth  table  target     x     y     z\n",
              "0   0.23    Ideal     E     SI2   61.5   55.0     326  3.95  3.98  2.43\n",
              "1   0.21  Premium     E     SI1   59.8   61.0     326  3.89  3.84  2.31\n",
              "2   0.23     Good     E     VS1   56.9   65.0     327  4.05  4.07  2.31"
            ]
          },
          "metadata": {
            "tags": []
          },
          "execution_count": 15
        }
      ]
    },
    {
      "cell_type": "markdown",
      "metadata": {
        "id": "MCcBWeKIA-_4",
        "colab_type": "text"
      },
      "source": [
        "An easy way to get around this problem is to use the `select_dtypes` method to select only the `float` and `int` columns. "
      ]
    },
    {
      "cell_type": "code",
      "metadata": {
        "id": "nll8cQ9bksCN",
        "colab_type": "code",
        "colab": {
          "base_uri": "https://localhost:8080/",
          "height": 136
        },
        "outputId": "9c9641cb-18db-4180-c7af-5abab2515ad0"
      },
      "source": [
        "(RenameColumnsPDF(rename_dict={'price':'target'})\n",
        " .fit(get_initial_pdf())\n",
        " .transform(get_initial_pdf())\n",
        " .select_dtypes(include=['float','int'])\n",
        " .head(3)\n",
        ")"
      ],
      "execution_count": 44,
      "outputs": [
        {
          "output_type": "execute_result",
          "data": {
            "text/html": [
              "<div>\n",
              "<style scoped>\n",
              "    .dataframe tbody tr th:only-of-type {\n",
              "        vertical-align: middle;\n",
              "    }\n",
              "\n",
              "    .dataframe tbody tr th {\n",
              "        vertical-align: top;\n",
              "    }\n",
              "\n",
              "    .dataframe thead th {\n",
              "        text-align: right;\n",
              "    }\n",
              "</style>\n",
              "<table border=\"1\" class=\"dataframe\">\n",
              "  <thead>\n",
              "    <tr style=\"text-align: right;\">\n",
              "      <th></th>\n",
              "      <th>carat</th>\n",
              "      <th>depth</th>\n",
              "      <th>table</th>\n",
              "      <th>target</th>\n",
              "      <th>x</th>\n",
              "      <th>y</th>\n",
              "      <th>z</th>\n",
              "    </tr>\n",
              "  </thead>\n",
              "  <tbody>\n",
              "    <tr>\n",
              "      <th>0</th>\n",
              "      <td>0.23</td>\n",
              "      <td>61.5</td>\n",
              "      <td>55.0</td>\n",
              "      <td>326</td>\n",
              "      <td>3.95</td>\n",
              "      <td>3.98</td>\n",
              "      <td>2.43</td>\n",
              "    </tr>\n",
              "    <tr>\n",
              "      <th>1</th>\n",
              "      <td>0.21</td>\n",
              "      <td>59.8</td>\n",
              "      <td>61.0</td>\n",
              "      <td>326</td>\n",
              "      <td>3.89</td>\n",
              "      <td>3.84</td>\n",
              "      <td>2.31</td>\n",
              "    </tr>\n",
              "    <tr>\n",
              "      <th>2</th>\n",
              "      <td>0.23</td>\n",
              "      <td>56.9</td>\n",
              "      <td>65.0</td>\n",
              "      <td>327</td>\n",
              "      <td>4.05</td>\n",
              "      <td>4.07</td>\n",
              "      <td>2.31</td>\n",
              "    </tr>\n",
              "  </tbody>\n",
              "</table>\n",
              "</div>"
            ],
            "text/plain": [
              "   carat  depth  table  target     x     y     z\n",
              "0   0.23   61.5   55.0     326  3.95  3.98  2.43\n",
              "1   0.21   59.8   61.0     326  3.89  3.84  2.31\n",
              "2   0.23   56.9   65.0     327  4.05  4.07  2.31"
            ]
          },
          "metadata": {
            "tags": []
          },
          "execution_count": 44
        }
      ]
    },
    {
      "cell_type": "markdown",
      "metadata": {
        "id": "NwmNy2-HBRGG",
        "colab_type": "text"
      },
      "source": [
        "The `FilterColumnPDF` transformerr class does this work. "
      ]
    },
    {
      "cell_type": "code",
      "metadata": {
        "id": "oQQVTrijuMvS",
        "colab_type": "code",
        "colab": {}
      },
      "source": [
        "from sklearn.base import BaseEstimator, TransformerMixin\n",
        "class FilterColumnsPDF  (BaseEstimator, TransformerMixin):  \n",
        "  def __init__(self,include_dtype_list=['object','float','int','bool']):\n",
        "    self.include_dtype_list = include_dtype_list\n",
        "    return\n",
        "    \n",
        "  def fit(self, X, y=None): \n",
        "    return self\n",
        "\n",
        "  def transform(self, X, y=None): \n",
        "    return X.select_dtypes(include=self.include_dtype_list)"
      ],
      "execution_count": 0,
      "outputs": []
    },
    {
      "cell_type": "code",
      "metadata": {
        "id": "bmq52CypuqJJ",
        "colab_type": "code",
        "outputId": "a77147ae-7a00-414d-84e4-5ea436c907a7",
        "colab": {
          "base_uri": "https://localhost:8080/",
          "height": 136
        }
      },
      "source": [
        "(FilterColumnsPDF(include_dtype_list=['float','int'])\n",
        " .fit(get_initial_pdf())\n",
        " .transform(get_initial_pdf())\n",
        " .head(3)\n",
        ")"
      ],
      "execution_count": 18,
      "outputs": [
        {
          "output_type": "execute_result",
          "data": {
            "text/html": [
              "<div>\n",
              "<style scoped>\n",
              "    .dataframe tbody tr th:only-of-type {\n",
              "        vertical-align: middle;\n",
              "    }\n",
              "\n",
              "    .dataframe tbody tr th {\n",
              "        vertical-align: top;\n",
              "    }\n",
              "\n",
              "    .dataframe thead th {\n",
              "        text-align: right;\n",
              "    }\n",
              "</style>\n",
              "<table border=\"1\" class=\"dataframe\">\n",
              "  <thead>\n",
              "    <tr style=\"text-align: right;\">\n",
              "      <th></th>\n",
              "      <th>carat</th>\n",
              "      <th>depth</th>\n",
              "      <th>table</th>\n",
              "      <th>price</th>\n",
              "      <th>x</th>\n",
              "      <th>y</th>\n",
              "      <th>z</th>\n",
              "    </tr>\n",
              "  </thead>\n",
              "  <tbody>\n",
              "    <tr>\n",
              "      <th>0</th>\n",
              "      <td>0.23</td>\n",
              "      <td>61.5</td>\n",
              "      <td>55.0</td>\n",
              "      <td>326</td>\n",
              "      <td>3.95</td>\n",
              "      <td>3.98</td>\n",
              "      <td>2.43</td>\n",
              "    </tr>\n",
              "    <tr>\n",
              "      <th>1</th>\n",
              "      <td>0.21</td>\n",
              "      <td>59.8</td>\n",
              "      <td>61.0</td>\n",
              "      <td>326</td>\n",
              "      <td>3.89</td>\n",
              "      <td>3.84</td>\n",
              "      <td>2.31</td>\n",
              "    </tr>\n",
              "    <tr>\n",
              "      <th>2</th>\n",
              "      <td>0.23</td>\n",
              "      <td>56.9</td>\n",
              "      <td>65.0</td>\n",
              "      <td>327</td>\n",
              "      <td>4.05</td>\n",
              "      <td>4.07</td>\n",
              "      <td>2.31</td>\n",
              "    </tr>\n",
              "  </tbody>\n",
              "</table>\n",
              "</div>"
            ],
            "text/plain": [
              "   carat  depth  table  price     x     y     z\n",
              "0   0.23   61.5   55.0    326  3.95  3.98  2.43\n",
              "1   0.21   59.8   61.0    326  3.89  3.84  2.31\n",
              "2   0.23   56.9   65.0    327  4.05  4.07  2.31"
            ]
          },
          "metadata": {
            "tags": []
          },
          "execution_count": 18
        }
      ]
    },
    {
      "cell_type": "markdown",
      "metadata": {
        "id": "1OBsOy-pBe5v",
        "colab_type": "text"
      },
      "source": [
        "You might use a variable to pass the output of the `transform` method of a `RenameColumnsPDF` object to the `fit` method of a `FilterColumnsPDF` object (but don't)."
      ]
    },
    {
      "cell_type": "code",
      "metadata": {
        "id": "F1I_8E01akOQ",
        "colab_type": "code",
        "colab": {
          "base_uri": "https://localhost:8080/",
          "height": 136
        },
        "outputId": "85e20ebf-4360-4813-d9ca-a3170e255cd2"
      },
      "source": [
        "renamed_pdf = \\\n",
        "(RenameColumnsPDF(rename_dict={'price':'target'})\n",
        " .fit(get_initial_pdf())\n",
        " .transform(get_initial_pdf())\n",
        ")\n",
        "\n",
        "(FilterColumnsPDF(include_dtype_list=['float','int'])\n",
        " .fit(renamed_pdf)\n",
        " .transform(renamed_pdf)\n",
        " .head(3)\n",
        ")"
      ],
      "execution_count": 45,
      "outputs": [
        {
          "output_type": "execute_result",
          "data": {
            "text/html": [
              "<div>\n",
              "<style scoped>\n",
              "    .dataframe tbody tr th:only-of-type {\n",
              "        vertical-align: middle;\n",
              "    }\n",
              "\n",
              "    .dataframe tbody tr th {\n",
              "        vertical-align: top;\n",
              "    }\n",
              "\n",
              "    .dataframe thead th {\n",
              "        text-align: right;\n",
              "    }\n",
              "</style>\n",
              "<table border=\"1\" class=\"dataframe\">\n",
              "  <thead>\n",
              "    <tr style=\"text-align: right;\">\n",
              "      <th></th>\n",
              "      <th>carat</th>\n",
              "      <th>depth</th>\n",
              "      <th>table</th>\n",
              "      <th>target</th>\n",
              "      <th>x</th>\n",
              "      <th>y</th>\n",
              "      <th>z</th>\n",
              "    </tr>\n",
              "  </thead>\n",
              "  <tbody>\n",
              "    <tr>\n",
              "      <th>0</th>\n",
              "      <td>0.23</td>\n",
              "      <td>61.5</td>\n",
              "      <td>55.0</td>\n",
              "      <td>326</td>\n",
              "      <td>3.95</td>\n",
              "      <td>3.98</td>\n",
              "      <td>2.43</td>\n",
              "    </tr>\n",
              "    <tr>\n",
              "      <th>1</th>\n",
              "      <td>0.21</td>\n",
              "      <td>59.8</td>\n",
              "      <td>61.0</td>\n",
              "      <td>326</td>\n",
              "      <td>3.89</td>\n",
              "      <td>3.84</td>\n",
              "      <td>2.31</td>\n",
              "    </tr>\n",
              "    <tr>\n",
              "      <th>2</th>\n",
              "      <td>0.23</td>\n",
              "      <td>56.9</td>\n",
              "      <td>65.0</td>\n",
              "      <td>327</td>\n",
              "      <td>4.05</td>\n",
              "      <td>4.07</td>\n",
              "      <td>2.31</td>\n",
              "    </tr>\n",
              "  </tbody>\n",
              "</table>\n",
              "</div>"
            ],
            "text/plain": [
              "   carat  depth  table  target     x     y     z\n",
              "0   0.23   61.5   55.0     326  3.95  3.98  2.43\n",
              "1   0.21   59.8   61.0     326  3.89  3.84  2.31\n",
              "2   0.23   56.9   65.0     327  4.05  4.07  2.31"
            ]
          },
          "metadata": {
            "tags": []
          },
          "execution_count": 45
        }
      ]
    },
    {
      "cell_type": "markdown",
      "metadata": {
        "id": "82LLJasbCGaz",
        "colab_type": "text"
      },
      "source": [
        "The an object of the `Pipeline` class will organize this work for us. "
      ]
    },
    {
      "cell_type": "markdown",
      "metadata": {
        "id": "I_p_ZCmvvqw0",
        "colab_type": "text"
      },
      "source": [
        "Reference: https://scikit-learn.org/stable/modules/generated/sklearn.pipeline.Pipeline.html"
      ]
    },
    {
      "cell_type": "code",
      "metadata": {
        "id": "t81USSwqvzmY",
        "colab_type": "code",
        "colab": {}
      },
      "source": [
        "from sklearn.pipeline import Pipeline"
      ],
      "execution_count": 0,
      "outputs": []
    },
    {
      "cell_type": "markdown",
      "metadata": {
        "id": "Apz6PifKCSS4",
        "colab_type": "text"
      },
      "source": [
        "The following `Pipeline` object does exactly the same work as calling the fit/transform methods of the `RenameColumnsPDF` object. "
      ]
    },
    {
      "cell_type": "code",
      "metadata": {
        "id": "5e2OqsO9v5dQ",
        "colab_type": "code",
        "outputId": "3b4cc9f5-2f8d-402b-a1a2-5d7dc792dd1e",
        "colab": {
          "base_uri": "https://localhost:8080/",
          "height": 136
        }
      },
      "source": [
        "(Pipeline([('ren',RenameColumnsPDF(rename_dict={'price':'target'}))\n",
        "          ]\n",
        "         )\n",
        " .fit(get_initial_pdf())\n",
        " .transform(get_initial_pdf())\n",
        " .head(3)\n",
        ")"
      ],
      "execution_count": 21,
      "outputs": [
        {
          "output_type": "execute_result",
          "data": {
            "text/html": [
              "<div>\n",
              "<style scoped>\n",
              "    .dataframe tbody tr th:only-of-type {\n",
              "        vertical-align: middle;\n",
              "    }\n",
              "\n",
              "    .dataframe tbody tr th {\n",
              "        vertical-align: top;\n",
              "    }\n",
              "\n",
              "    .dataframe thead th {\n",
              "        text-align: right;\n",
              "    }\n",
              "</style>\n",
              "<table border=\"1\" class=\"dataframe\">\n",
              "  <thead>\n",
              "    <tr style=\"text-align: right;\">\n",
              "      <th></th>\n",
              "      <th>carat</th>\n",
              "      <th>cut</th>\n",
              "      <th>color</th>\n",
              "      <th>clarity</th>\n",
              "      <th>depth</th>\n",
              "      <th>table</th>\n",
              "      <th>target</th>\n",
              "      <th>x</th>\n",
              "      <th>y</th>\n",
              "      <th>z</th>\n",
              "    </tr>\n",
              "  </thead>\n",
              "  <tbody>\n",
              "    <tr>\n",
              "      <th>0</th>\n",
              "      <td>0.23</td>\n",
              "      <td>Ideal</td>\n",
              "      <td>E</td>\n",
              "      <td>SI2</td>\n",
              "      <td>61.5</td>\n",
              "      <td>55.0</td>\n",
              "      <td>326</td>\n",
              "      <td>3.95</td>\n",
              "      <td>3.98</td>\n",
              "      <td>2.43</td>\n",
              "    </tr>\n",
              "    <tr>\n",
              "      <th>1</th>\n",
              "      <td>0.21</td>\n",
              "      <td>Premium</td>\n",
              "      <td>E</td>\n",
              "      <td>SI1</td>\n",
              "      <td>59.8</td>\n",
              "      <td>61.0</td>\n",
              "      <td>326</td>\n",
              "      <td>3.89</td>\n",
              "      <td>3.84</td>\n",
              "      <td>2.31</td>\n",
              "    </tr>\n",
              "    <tr>\n",
              "      <th>2</th>\n",
              "      <td>0.23</td>\n",
              "      <td>Good</td>\n",
              "      <td>E</td>\n",
              "      <td>VS1</td>\n",
              "      <td>56.9</td>\n",
              "      <td>65.0</td>\n",
              "      <td>327</td>\n",
              "      <td>4.05</td>\n",
              "      <td>4.07</td>\n",
              "      <td>2.31</td>\n",
              "    </tr>\n",
              "  </tbody>\n",
              "</table>\n",
              "</div>"
            ],
            "text/plain": [
              "   carat      cut color clarity  depth  table  target     x     y     z\n",
              "0   0.23    Ideal     E     SI2   61.5   55.0     326  3.95  3.98  2.43\n",
              "1   0.21  Premium     E     SI1   59.8   61.0     326  3.89  3.84  2.31\n",
              "2   0.23     Good     E     VS1   56.9   65.0     327  4.05  4.07  2.31"
            ]
          },
          "metadata": {
            "tags": []
          },
          "execution_count": 21
        }
      ]
    },
    {
      "cell_type": "markdown",
      "metadata": {
        "id": "C7-GsHh2Cue1",
        "colab_type": "text"
      },
      "source": [
        "This `Pipeline` object below sends the output of the `transform` method of a `RenameColumnsPDF` object to the `fit` method of a `FilterColumnsPDF` object. "
      ]
    },
    {
      "cell_type": "code",
      "metadata": {
        "id": "O4W0IG01xKyl",
        "colab_type": "code",
        "outputId": "7bb0c1ce-092e-4dea-881f-e682dc911886",
        "colab": {
          "base_uri": "https://localhost:8080/",
          "height": 136
        }
      },
      "source": [
        "(Pipeline([('ren',RenameColumnsPDF(rename_dict       ={'price':'target'})),\n",
        "           ('flt',FilterColumnsPDF(include_dtype_list=['int','float']))\n",
        "          ]\n",
        "         )\n",
        " .fit      (get_initial_pdf())\n",
        " .transform(get_initial_pdf())\n",
        " .head(3)\n",
        ")"
      ],
      "execution_count": 23,
      "outputs": [
        {
          "output_type": "execute_result",
          "data": {
            "text/html": [
              "<div>\n",
              "<style scoped>\n",
              "    .dataframe tbody tr th:only-of-type {\n",
              "        vertical-align: middle;\n",
              "    }\n",
              "\n",
              "    .dataframe tbody tr th {\n",
              "        vertical-align: top;\n",
              "    }\n",
              "\n",
              "    .dataframe thead th {\n",
              "        text-align: right;\n",
              "    }\n",
              "</style>\n",
              "<table border=\"1\" class=\"dataframe\">\n",
              "  <thead>\n",
              "    <tr style=\"text-align: right;\">\n",
              "      <th></th>\n",
              "      <th>carat</th>\n",
              "      <th>depth</th>\n",
              "      <th>table</th>\n",
              "      <th>target</th>\n",
              "      <th>x</th>\n",
              "      <th>y</th>\n",
              "      <th>z</th>\n",
              "    </tr>\n",
              "  </thead>\n",
              "  <tbody>\n",
              "    <tr>\n",
              "      <th>0</th>\n",
              "      <td>0.23</td>\n",
              "      <td>61.5</td>\n",
              "      <td>55.0</td>\n",
              "      <td>326</td>\n",
              "      <td>3.95</td>\n",
              "      <td>3.98</td>\n",
              "      <td>2.43</td>\n",
              "    </tr>\n",
              "    <tr>\n",
              "      <th>1</th>\n",
              "      <td>0.21</td>\n",
              "      <td>59.8</td>\n",
              "      <td>61.0</td>\n",
              "      <td>326</td>\n",
              "      <td>3.89</td>\n",
              "      <td>3.84</td>\n",
              "      <td>2.31</td>\n",
              "    </tr>\n",
              "    <tr>\n",
              "      <th>2</th>\n",
              "      <td>0.23</td>\n",
              "      <td>56.9</td>\n",
              "      <td>65.0</td>\n",
              "      <td>327</td>\n",
              "      <td>4.05</td>\n",
              "      <td>4.07</td>\n",
              "      <td>2.31</td>\n",
              "    </tr>\n",
              "  </tbody>\n",
              "</table>\n",
              "</div>"
            ],
            "text/plain": [
              "   carat  depth  table  target     x     y     z\n",
              "0   0.23   61.5   55.0     326  3.95  3.98  2.43\n",
              "1   0.21   59.8   61.0     326  3.89  3.84  2.31\n",
              "2   0.23   56.9   65.0     327  4.05  4.07  2.31"
            ]
          },
          "metadata": {
            "tags": []
          },
          "execution_count": 23
        }
      ]
    },
    {
      "cell_type": "markdown",
      "metadata": {
        "id": "rzdsLB8vDqPL",
        "colab_type": "text"
      },
      "source": [
        "There is less code involved, which is\n",
        "- easier to read\n",
        "- easier to debug\n",
        "- less likely to contain errors\n",
        "- easier to extend (and still be less likely to contains errors and still easy to read and debug)"
      ]
    },
    {
      "cell_type": "markdown",
      "metadata": {
        "id": "SrpUf0ouDyQ-",
        "colab_type": "text"
      },
      "source": [
        "The following code cell creates the feature target dataset from \n",
        "- the initial dataframe \n",
        "- the feature target pipeline."
      ]
    },
    {
      "cell_type": "code",
      "metadata": {
        "id": "7TBdCKEIxrO9",
        "colab_type": "code",
        "outputId": "5672ba06-2d67-4b51-a748-c2a8bf986996",
        "colab": {
          "base_uri": "https://localhost:8080/",
          "height": 136
        }
      },
      "source": [
        "feature_target_pipeline = Pipeline([('ren',RenameColumnsPDF(rename_dict       ={'price':'target'})),\n",
        "                                    ('flt',FilterColumnsPDF(include_dtype_list=['int','float']))\n",
        "                                   ]\n",
        "                                  )\n",
        "\n",
        "(get_feature_target_pdf(pdf               =get_initial_pdf(), \n",
        "                        transformer_object=feature_target_pipeline\n",
        "                       )\n",
        " .head(3)\n",
        ")"
      ],
      "execution_count": 25,
      "outputs": [
        {
          "output_type": "execute_result",
          "data": {
            "text/html": [
              "<div>\n",
              "<style scoped>\n",
              "    .dataframe tbody tr th:only-of-type {\n",
              "        vertical-align: middle;\n",
              "    }\n",
              "\n",
              "    .dataframe tbody tr th {\n",
              "        vertical-align: top;\n",
              "    }\n",
              "\n",
              "    .dataframe thead th {\n",
              "        text-align: right;\n",
              "    }\n",
              "</style>\n",
              "<table border=\"1\" class=\"dataframe\">\n",
              "  <thead>\n",
              "    <tr style=\"text-align: right;\">\n",
              "      <th></th>\n",
              "      <th>carat</th>\n",
              "      <th>depth</th>\n",
              "      <th>table</th>\n",
              "      <th>target</th>\n",
              "      <th>x</th>\n",
              "      <th>y</th>\n",
              "      <th>z</th>\n",
              "    </tr>\n",
              "  </thead>\n",
              "  <tbody>\n",
              "    <tr>\n",
              "      <th>0</th>\n",
              "      <td>0.23</td>\n",
              "      <td>61.5</td>\n",
              "      <td>55.0</td>\n",
              "      <td>326</td>\n",
              "      <td>3.95</td>\n",
              "      <td>3.98</td>\n",
              "      <td>2.43</td>\n",
              "    </tr>\n",
              "    <tr>\n",
              "      <th>1</th>\n",
              "      <td>0.21</td>\n",
              "      <td>59.8</td>\n",
              "      <td>61.0</td>\n",
              "      <td>326</td>\n",
              "      <td>3.89</td>\n",
              "      <td>3.84</td>\n",
              "      <td>2.31</td>\n",
              "    </tr>\n",
              "    <tr>\n",
              "      <th>2</th>\n",
              "      <td>0.23</td>\n",
              "      <td>56.9</td>\n",
              "      <td>65.0</td>\n",
              "      <td>327</td>\n",
              "      <td>4.05</td>\n",
              "      <td>4.07</td>\n",
              "      <td>2.31</td>\n",
              "    </tr>\n",
              "  </tbody>\n",
              "</table>\n",
              "</div>"
            ],
            "text/plain": [
              "   carat  depth  table  target     x     y     z\n",
              "0   0.23   61.5   55.0     326  3.95  3.98  2.43\n",
              "1   0.21   59.8   61.0     326  3.89  3.84  2.31\n",
              "2   0.23   56.9   65.0     327  4.05  4.07  2.31"
            ]
          },
          "metadata": {
            "tags": []
          },
          "execution_count": 25
        }
      ]
    },
    {
      "cell_type": "markdown",
      "metadata": {
        "id": "cd7ROtB9EBPn",
        "colab_type": "text"
      },
      "source": [
        "They (dataframe and pipeline) are two of the four input components to the `workflow` function and in general to a machine learning workflow. "
      ]
    },
    {
      "cell_type": "code",
      "metadata": {
        "id": "hJoQTGf1zB6f",
        "colab_type": "code",
        "outputId": "b2a4a0d6-80fb-4b61-a674-1f460ee6fb7e",
        "colab": {
          "base_uri": "https://localhost:8080/",
          "height": 34
        }
      },
      "source": [
        "feature_target_pipeline = Pipeline([('ren',RenameColumnsPDF(rename_dict       ={'price':'target'})),\n",
        "                                    ('flt',FilterColumnsPDF(include_dtype_list=['int','float']))\n",
        "                                   ]\n",
        "                                  )\n",
        "workflow(initial_pdf       =get_initial_pdf(),\n",
        "         transformer_object=feature_target_pipeline,\n",
        "         estimator_object  =LinearRegression(), \n",
        "         metric_function   =mean_absolute_error \n",
        "        )"
      ],
      "execution_count": 46,
      "outputs": [
        {
          "output_type": "execute_result",
          "data": {
            "text/plain": [
              "894.9687567940412"
            ]
          },
          "metadata": {
            "tags": []
          },
          "execution_count": 46
        }
      ]
    },
    {
      "cell_type": "markdown",
      "metadata": {
        "id": "RMcH3Rh6zSzP",
        "colab_type": "text"
      },
      "source": [
        "## Create estimator pipeline"
      ]
    },
    {
      "cell_type": "markdown",
      "metadata": {
        "id": "22Cf_iS6zXZh",
        "colab_type": "text"
      },
      "source": [
        "In the last section a `FilterColumnsPDF` object was used to keep only numeric columns and so drop the three `object` columns. Below a `OneHotEncoder` object is used to transform these these columns into 20 binary columns. "
      ]
    },
    {
      "cell_type": "markdown",
      "metadata": {
        "id": "ZRKicSUX0f07",
        "colab_type": "text"
      },
      "source": [
        "Reference: https://scikit-learn.org/stable/modules/generated/sklearn.preprocessing.OneHotEncoder.html"
      ]
    },
    {
      "cell_type": "markdown",
      "metadata": {
        "id": "x9mGMab4E8xM",
        "colab_type": "text"
      },
      "source": [
        "Import the `OneHotEncoder` class. "
      ]
    },
    {
      "cell_type": "code",
      "metadata": {
        "id": "k1gHPClW1Fre",
        "colab_type": "code",
        "colab": {}
      },
      "source": [
        "from sklearn.preprocessing import OneHotEncoder"
      ],
      "execution_count": 0,
      "outputs": []
    },
    {
      "cell_type": "markdown",
      "metadata": {
        "id": "TEDaR2gHFEAl",
        "colab_type": "text"
      },
      "source": [
        "Recall the columns of the diamonds dataset. "
      ]
    },
    {
      "cell_type": "code",
      "metadata": {
        "id": "V51VGNX-1etF",
        "colab_type": "code",
        "outputId": "870c510e-101c-4a64-8d43-a388e1fd89f2",
        "colab": {
          "base_uri": "https://localhost:8080/",
          "height": 136
        }
      },
      "source": [
        "get_initial_pdf().head(3)"
      ],
      "execution_count": 28,
      "outputs": [
        {
          "output_type": "execute_result",
          "data": {
            "text/html": [
              "<div>\n",
              "<style scoped>\n",
              "    .dataframe tbody tr th:only-of-type {\n",
              "        vertical-align: middle;\n",
              "    }\n",
              "\n",
              "    .dataframe tbody tr th {\n",
              "        vertical-align: top;\n",
              "    }\n",
              "\n",
              "    .dataframe thead th {\n",
              "        text-align: right;\n",
              "    }\n",
              "</style>\n",
              "<table border=\"1\" class=\"dataframe\">\n",
              "  <thead>\n",
              "    <tr style=\"text-align: right;\">\n",
              "      <th></th>\n",
              "      <th>carat</th>\n",
              "      <th>cut</th>\n",
              "      <th>color</th>\n",
              "      <th>clarity</th>\n",
              "      <th>depth</th>\n",
              "      <th>table</th>\n",
              "      <th>price</th>\n",
              "      <th>x</th>\n",
              "      <th>y</th>\n",
              "      <th>z</th>\n",
              "    </tr>\n",
              "  </thead>\n",
              "  <tbody>\n",
              "    <tr>\n",
              "      <th>0</th>\n",
              "      <td>0.23</td>\n",
              "      <td>Ideal</td>\n",
              "      <td>E</td>\n",
              "      <td>SI2</td>\n",
              "      <td>61.5</td>\n",
              "      <td>55.0</td>\n",
              "      <td>326</td>\n",
              "      <td>3.95</td>\n",
              "      <td>3.98</td>\n",
              "      <td>2.43</td>\n",
              "    </tr>\n",
              "    <tr>\n",
              "      <th>1</th>\n",
              "      <td>0.21</td>\n",
              "      <td>Premium</td>\n",
              "      <td>E</td>\n",
              "      <td>SI1</td>\n",
              "      <td>59.8</td>\n",
              "      <td>61.0</td>\n",
              "      <td>326</td>\n",
              "      <td>3.89</td>\n",
              "      <td>3.84</td>\n",
              "      <td>2.31</td>\n",
              "    </tr>\n",
              "    <tr>\n",
              "      <th>2</th>\n",
              "      <td>0.23</td>\n",
              "      <td>Good</td>\n",
              "      <td>E</td>\n",
              "      <td>VS1</td>\n",
              "      <td>56.9</td>\n",
              "      <td>65.0</td>\n",
              "      <td>327</td>\n",
              "      <td>4.05</td>\n",
              "      <td>4.07</td>\n",
              "      <td>2.31</td>\n",
              "    </tr>\n",
              "  </tbody>\n",
              "</table>\n",
              "</div>"
            ],
            "text/plain": [
              "   carat      cut color clarity  depth  table  price     x     y     z\n",
              "0   0.23    Ideal     E     SI2   61.5   55.0    326  3.95  3.98  2.43\n",
              "1   0.21  Premium     E     SI1   59.8   61.0    326  3.89  3.84  2.31\n",
              "2   0.23     Good     E     VS1   56.9   65.0    327  4.05  4.07  2.31"
            ]
          },
          "metadata": {
            "tags": []
          },
          "execution_count": 28
        }
      ]
    },
    {
      "cell_type": "markdown",
      "metadata": {
        "id": "1mfkU4CdFL05",
        "colab_type": "text"
      },
      "source": [
        "The `cut` column of the dataframe is transformed into an array with binary columns. "
      ]
    },
    {
      "cell_type": "code",
      "metadata": {
        "id": "kVVwHa0i0iiI",
        "colab_type": "code",
        "outputId": "a2940116-b99c-4616-caf6-5c2ea3743ff9",
        "colab": {
          "base_uri": "https://localhost:8080/",
          "height": 134
        }
      },
      "source": [
        "(OneHotEncoder()\n",
        " .fit      (get_initial_pdf()[['cut']])\n",
        " .transform(get_initial_pdf()[['cut']])\n",
        " .todense()\n",
        ")"
      ],
      "execution_count": 29,
      "outputs": [
        {
          "output_type": "execute_result",
          "data": {
            "text/plain": [
              "matrix([[0., 0., 1., 0., 0.],\n",
              "        [0., 0., 0., 1., 0.],\n",
              "        [0., 1., 0., 0., 0.],\n",
              "        ...,\n",
              "        [0., 0., 0., 0., 1.],\n",
              "        [0., 0., 0., 1., 0.],\n",
              "        [0., 0., 1., 0., 0.]])"
            ]
          },
          "metadata": {
            "tags": []
          },
          "execution_count": 29
        }
      ]
    },
    {
      "cell_type": "markdown",
      "metadata": {
        "id": "cDMaKRkjFW1g",
        "colab_type": "text"
      },
      "source": [
        "Notice that these six columns correspond to the six distinct values found in the `cut` column."
      ]
    },
    {
      "cell_type": "code",
      "metadata": {
        "id": "wvJ5YVyX2OAc",
        "colab_type": "code",
        "outputId": "7d94c717-342f-47e8-be3c-2c3d5402d7e6",
        "colab": {
          "base_uri": "https://localhost:8080/",
          "height": 118
        }
      },
      "source": [
        "get_initial_pdf()['cut'].value_counts()"
      ],
      "execution_count": 30,
      "outputs": [
        {
          "output_type": "execute_result",
          "data": {
            "text/plain": [
              "Ideal        21551\n",
              "Premium      13791\n",
              "Very Good    12082\n",
              "Good          4906\n",
              "Fair          1610\n",
              "Name: cut, dtype: int64"
            ]
          },
          "metadata": {
            "tags": []
          },
          "execution_count": 30
        }
      ]
    },
    {
      "cell_type": "markdown",
      "metadata": {
        "id": "Hbm8Y1n7FgCv",
        "colab_type": "text"
      },
      "source": [
        "The `ColumnTransformer` class is an efficient way to transform all three columns (`cut`, `color`, `clarity`).\n",
        "\n",
        "First import the class. "
      ]
    },
    {
      "cell_type": "code",
      "metadata": {
        "id": "UKe-K-C72wWx",
        "colab_type": "code",
        "colab": {}
      },
      "source": [
        "from sklearn.compose import ColumnTransformer"
      ],
      "execution_count": 0,
      "outputs": []
    },
    {
      "cell_type": "markdown",
      "metadata": {
        "id": "tkBLB3GYFy75",
        "colab_type": "text"
      },
      "source": [
        "The `ColumnTransformer` class is given a `OneHotEncoder` object which is applied to each of the three columns. The remaining columns are \"passed through\" and are also results of the transformation."
      ]
    },
    {
      "cell_type": "code",
      "metadata": {
        "id": "xL1qc-wW2zDK",
        "colab_type": "code",
        "outputId": "eea4504d-4382-415b-a1ae-6cecfff9eb8a",
        "colab": {
          "base_uri": "https://localhost:8080/",
          "height": 101
        }
      },
      "source": [
        "(ColumnTransformer(transformers=[('ohe',OneHotEncoder(),['cut','color','clarity'])],\n",
        "                   remainder='passthrough'\n",
        "                  )\n",
        " .fit      (get_initial_pdf())\n",
        " .transform(get_initial_pdf())\n",
        "#  [0]\n",
        ")"
      ],
      "execution_count": 48,
      "outputs": [
        {
          "output_type": "execute_result",
          "data": {
            "text/plain": [
              "array([0.00e+00, 0.00e+00, 1.00e+00, 0.00e+00, 0.00e+00, 0.00e+00,\n",
              "       1.00e+00, 0.00e+00, 0.00e+00, 0.00e+00, 0.00e+00, 0.00e+00,\n",
              "       0.00e+00, 0.00e+00, 0.00e+00, 1.00e+00, 0.00e+00, 0.00e+00,\n",
              "       0.00e+00, 0.00e+00, 2.30e-01, 6.15e+01, 5.50e+01, 3.26e+02,\n",
              "       3.95e+00, 3.98e+00, 2.43e+00])"
            ]
          },
          "metadata": {
            "tags": []
          },
          "execution_count": 48
        }
      ]
    },
    {
      "cell_type": "markdown",
      "metadata": {
        "id": "xiD5CN7UGIBM",
        "colab_type": "text"
      },
      "source": [
        "Notice the 20 binary columns, corresponding to the 20 values of these three `object` columns, and the remaining numeric columns. "
      ]
    },
    {
      "cell_type": "code",
      "metadata": {
        "id": "VCMjhQQc5qh7",
        "colab_type": "code",
        "outputId": "8c4945f6-aa86-4c5a-bfb9-0957c1b9b13b",
        "colab": {
          "base_uri": "https://localhost:8080/",
          "height": 403
        }
      },
      "source": [
        "for object_var in ['cut','color','clarity']:\n",
        "  print(get_initial_pdf()[object_var].value_counts())"
      ],
      "execution_count": 33,
      "outputs": [
        {
          "output_type": "stream",
          "text": [
            "Ideal        21551\n",
            "Premium      13791\n",
            "Very Good    12082\n",
            "Good          4906\n",
            "Fair          1610\n",
            "Name: cut, dtype: int64\n",
            "G    11292\n",
            "E     9797\n",
            "F     9542\n",
            "H     8304\n",
            "D     6775\n",
            "I     5422\n",
            "J     2808\n",
            "Name: color, dtype: int64\n",
            "SI1     13065\n",
            "VS2     12258\n",
            "SI2      9194\n",
            "VS1      8171\n",
            "VVS2     5066\n",
            "VVS1     3655\n",
            "IF       1790\n",
            "I1        741\n",
            "Name: clarity, dtype: int64\n"
          ],
          "name": "stdout"
        }
      ]
    },
    {
      "cell_type": "markdown",
      "metadata": {
        "id": "Mc3svvELGYRt",
        "colab_type": "text"
      },
      "source": [
        "Recall the workflow given at the end of the previous section."
      ]
    },
    {
      "cell_type": "code",
      "metadata": {
        "id": "J1R05DML6jzV",
        "colab_type": "code",
        "outputId": "f057e1f7-067a-44f6-b2d1-f745ec6f648e",
        "colab": {
          "base_uri": "https://localhost:8080/",
          "height": 34
        }
      },
      "source": [
        "feature_target_pipeline = Pipeline([('ren',RenameColumnsPDF(rename_dict       ={'price':'target'})),\n",
        "                                    ('flt',FilterColumnsPDF(include_dtype_list=['int','float']))\n",
        "                    ]\n",
        "                   )\n",
        "workflow(initial_pdf       =get_initial_pdf(),\n",
        "         transformer_object=feature_target_pipeline,\n",
        "         estimator_object  =LinearRegression(),\n",
        "         metric_function   =mean_absolute_error\n",
        "        )"
      ],
      "execution_count": 47,
      "outputs": [
        {
          "output_type": "execute_result",
          "data": {
            "text/plain": [
              "891.2138705683168"
            ]
          },
          "metadata": {
            "tags": []
          },
          "execution_count": 47
        }
      ]
    },
    {
      "cell_type": "markdown",
      "metadata": {
        "id": "1LtypyuYGe5j",
        "colab_type": "text"
      },
      "source": [
        "Notice the mean absolute error. \n",
        "\n",
        "The feature target pipeline of the following code cell only renames the target column. It does not drop the `object` columns. \n",
        "\n",
        "The estimator pipeline transforms these `object` columns to binary columns and the passes the transformed matrix to the linear regression. "
      ]
    },
    {
      "cell_type": "code",
      "metadata": {
        "id": "lzKScrPp6sCu",
        "colab_type": "code",
        "outputId": "d4c99103-c002-4896-fd3a-c3e40f135eba",
        "colab": {
          "base_uri": "https://localhost:8080/",
          "height": 34
        }
      },
      "source": [
        "feature_target_pipeline = Pipeline([('ren',RenameColumnsPDF(rename_dict={'price':'target'}))\n",
        "                                   ]\n",
        "                                  )\n",
        "estimator_pipeline = Pipeline([('ohe',ColumnTransformer(transformers=[('ohe',\n",
        "                                                                       OneHotEncoder(),\n",
        "                                                                       ['cut','color','clarity']\n",
        "                                                                      )\n",
        "                                                                     ],\n",
        "                                                        remainder='passthrough')),\n",
        "                               ('lin', LinearRegression())\n",
        "                              ]\n",
        "                             )\n",
        "workflow(initial_pdf       =get_initial_pdf(),\n",
        "         transformer_object=feature_target_pipeline,\n",
        "         estimator_object  =estimator_pipeline,\n",
        "         metric_function   =mean_absolute_error \n",
        "        )"
      ],
      "execution_count": 49,
      "outputs": [
        {
          "output_type": "execute_result",
          "data": {
            "text/plain": [
              "736.0480533926585"
            ]
          },
          "metadata": {
            "tags": []
          },
          "execution_count": 49
        }
      ]
    },
    {
      "cell_type": "markdown",
      "metadata": {
        "id": "tDqq86QFHVUe",
        "colab_type": "text"
      },
      "source": [
        "Not suprisingly the mean absolute error is better than the workflow where these variables where dropped. "
      ]
    },
    {
      "cell_type": "markdown",
      "metadata": {
        "id": "K64QOn9BHmgj",
        "colab_type": "text"
      },
      "source": [
        "## Discussion on train-test, fit-transform-predict, and data leakage avoidance. "
      ]
    },
    {
      "cell_type": "markdown",
      "metadata": {
        "id": "JPELgd8mRPHG",
        "colab_type": "text"
      },
      "source": [
        "__The End__"
      ]
    }
  ]
}